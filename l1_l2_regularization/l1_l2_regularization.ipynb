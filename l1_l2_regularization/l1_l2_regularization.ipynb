{
 "cells": [
  {
   "cell_type": "markdown",
   "metadata": {},
   "source": [
    "# Intuitive and Visual Explanation on the differences between L1 and L2 regularization"
   ]
  },
  {
   "cell_type": "markdown",
   "metadata": {},
   "source": [
    "The L1 and L2 regularization are widely used methods to control the model complexity and restrict over-fitting.\n",
    "There are some interesting comparisons between the L1 and L2 regularization. "
   ]
  },
  {
   "cell_type": "markdown",
   "metadata": {},
   "source": [
    "## Why we need regularization?"
   ]
  },
  {
   "cell_type": "markdown",
   "metadata": {},
   "source": [
    "Suppose there is an unclear relationship between Y and factors $x_1, x_2, ..., x_n$. Consider using linear regression as an example. \n",
    "Given a linear model to predict Y\n",
    "$$\n",
    "y \\approx \\hat{y} = a_0 + a_1 x_1 + \\cdots + a_n x_n\n",
    "$$\n",
    "\n",
    "where $a_i$ are the estimated coefficients."
   ]
  },
  {
   "cell_type": "markdown",
   "metadata": {},
   "source": [
    "Note that\n",
    "1. The observed Y has some random noise in it.\n",
    "2. For observed Ys, the more variables we use, the more complex model we will build, and the better estimation we will have\n",
    "smaller MSE) to approximate observed Ys, including **approximating Ys random noise part**.\n",
    "\n",
    "$$\n",
    "MSE = \\frac{1}{n} \\sum_{i=1}^n (y_i - \\hat{y_i})^2\n",
    "$$"
   ]
  },
  {
   "cell_type": "markdown",
   "metadata": {},
   "source": [
    "Note that we need to restrict the model complexity, to **suppress the model's intention to approximate the random noise part**. One way is to put more control\n",
    "on the value of the single coefficients. If the coefficient is restricted to a small number, its corresponding factor may have limited impact on the outcome (Y),\n",
    "forcing the model to use othe factors to explain the variance of Y's.\n",
    "\n",
    "We choose to avoid manipulating single coefficients, but to give a quota for all these coefficients, and give them more freedom and flexibility to pick up the most\n",
    "influential factors, and to eliminate the least ones.\n",
    "\n",
    "That is the intuition of regularization."
   ]
  },
  {
   "cell_type": "markdown",
   "metadata": {},
   "source": [
    "## L1 vs. L2"
   ]
  },
  {
   "cell_type": "markdown",
   "metadata": {},
   "source": [
    "To practice the regularization, or to say, to define the quota to regulate the coefficients, we have L1, Lasso \n",
    "$$\n",
    "\\hat{a}^{\\text{lasso}} = \\argmin_{a} \\Bigg( \\sum_{i}^n (y_i - \\hat{y_i})^2 + \\alpha\\sum_{i}^n |a_i| \\Bigg)\n",
    "$$\n",
    "\n",
    "Where $\\alpha$ is the strength of the regularization. A higher $\\alpha$ has stronger restrictions on the coefficients."
   ]
  },
  {
   "cell_type": "markdown",
   "metadata": {},
   "source": [
    "and L2, Ridge method\n",
    "$$\n",
    "\\hat{a}^{\\text{ridge}} = \\argmin_{a} \\Bigg( \\sum_{i}^n (y_i - \\hat{y_i})^2 + \\alpha\\sum_{i}^n (a_i)^2 \\Bigg)\n",
    "$$\n"
   ]
  },
  {
   "cell_type": "markdown",
   "metadata": {},
   "source": [
    "## Difference between L1 and L2"
   ]
  },
  {
   "cell_type": "markdown",
   "metadata": {},
   "source": [
    "The difference in the definition of L1 and L2 is: L1 controls the first order summation, while L2 has restriction on the summation of the second order of coefficients."
   ]
  },
  {
   "cell_type": "markdown",
   "metadata": {},
   "source": [
    "## Example"
   ]
  },
  {
   "cell_type": "markdown",
   "metadata": {},
   "source": [
    "First we generate data, which should have a relationship that models $y = \\sin(x)$, but with some random noise term. Let's see how to use linear regression\n",
    "to approximate the true relation, with the help of L1 and L2 regularization."
   ]
  },
  {
   "cell_type": "code",
   "execution_count": 3,
   "metadata": {},
   "outputs": [
    {
     "data": {
      "text/plain": [
       "[<matplotlib.lines.Line2D at 0x7fcd2b070128>]"
      ]
     },
     "execution_count": 3,
     "metadata": {},
     "output_type": "execute_result"
    },
    {
     "data": {
      "image/png": "[encoded data removed]",
      "text/plain": [
       "<Figure size 864x720 with 1 Axes>"
      ]
     },
     "metadata": {
      "needs_background": "light"
     },
     "output_type": "display_data"
    }
   ],
   "source": [
    "import numpy as np \n",
    "import pandas as pd \n",
    "import random \n",
    "import matplotlib.pyplot as plt\n",
    "%matplotlib inline\n",
    "from matplotlib.pylab import rcParams\n",
    "rcParams['figure.figsize'] = 12, 10\n",
    "\n",
    "x = np.array([1.4*i*np.pi/180 for i in range(0,300,4)])\n",
    "np.random.seed(20)  #random \n",
    "\n",
    "y = np.sin(x) + np.random.normal(0,0.2,len(x)) \n",
    "data = pd.DataFrame(np.column_stack([x,y]),columns=['x','y'])\n",
    "plt.plot(data['x'],data['y'],'.')"
   ]
  }
 ],
 "metadata": {
  "interpreter": {
   "hash": "aee8b7b246df8f9039afb4144a1f6fd8d2ca17a180786b69acc140d282b71a49"
  },
  "kernelspec": {
   "display_name": "Python 3.7.0 64-bit",
   "language": "python",
   "name": "python3"
  },
  "language_info": {
   "codemirror_mode": {
    "name": "ipython",
    "version": 3
   },
   "file_extension": ".py",
   "mimetype": "text/x-python",
   "name": "python",
   "nbconvert_exporter": "python",
   "pygments_lexer": "ipython3",
   "version": "3.7.0"
  },
  "orig_nbformat": 4
 },
 "nbformat": 4,
 "nbformat_minor": 2
}
