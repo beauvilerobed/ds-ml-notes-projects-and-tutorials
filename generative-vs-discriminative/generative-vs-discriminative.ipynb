{
 "cells": [
  {
   "attachments": {},
   "cell_type": "markdown",
   "metadata": {},
   "source": [
    "# Generative vs. Discriminative Classifiers"
   ]
  },
  {
   "attachments": {},
   "cell_type": "markdown",
   "metadata": {},
   "source": [
    "In general, A discriminative model models the **decision boundary between the classes**. A Generative Model explicitly\n",
    "models the **actual distribution of each class**. Both predict the conditional probability P(Animal | Features). But\n",
    "both models learn different probabilities."
   ]
  },
  {
   "attachments": {},
   "cell_type": "markdown",
   "metadata": {},
   "source": [
    "A Generative Model learns the **joint probability distribution p(x,y)**. It predicts the conditional probability with the help of\n",
    "**Bayes Theorem**. A Discriminative model learns the **conditional probability distribution p(y|x)**. Both of these models were\n",
    "generally used in **supervised learning** problems.\n",
    "\n",
    "Note that training classifiers involve estimating $f: X \\rightarrow Y$ or $P(Y|X)$"
   ]
  },
  {
   "attachments": {},
   "cell_type": "markdown",
   "metadata": {},
   "source": [
    "## Generative classifiers"
   ]
  },
  {
   "attachments": {},
   "cell_type": "markdown",
   "metadata": {},
   "source": [
    "- Assume some functional form for P(X), P(X|Y)\n",
    "- Estimate parameters or P(X|Y), P(Y) directly from training data\n",
    "- Use Bayes rule to calculate P(Y|X)"
   ]
  },
  {
   "attachments": {},
   "cell_type": "markdown",
   "metadata": {},
   "source": [
    "### Examples:\n",
    "1. Naive Bayes\n",
    "2. Bayesian networks\n",
    "3. Markov random fields\n",
    "4. Hidden Markov Models (HMM)"
   ]
  },
  {
   "attachments": {},
   "cell_type": "markdown",
   "metadata": {},
   "source": [
    "## Discriminative Classifiers"
   ]
  },
  {
   "attachments": {},
   "cell_type": "markdown",
   "metadata": {},
   "source": [
    "- Assume some functional form for P(Y|X)\n",
    "- Estimate parameters of P(Y|X) directly from training data"
   ]
  },
  {
   "attachments": {},
   "cell_type": "markdown",
   "metadata": {},
   "source": [
    "### Examples\n",
    "1. Logistic regression\n",
    "2. Scalar Vector Machine\n",
    "3. Traditional Neural Networks\n",
    "4. Nearest Neighbour\n",
    "5. Conditional Random Fields (CRFs)"
   ]
  },
  {
   "attachments": {},
   "cell_type": "markdown",
   "metadata": {},
   "source": [
    "## Questions for better understanding:\n",
    "\n",
    "1. What are the problems these models can solve?\n",
    "2. Which model learns joint probability?\n",
    "3. Which model learns conditional probability?\n",
    "4. What happens when we give correlated features in discriminative models?\n",
    "5. What happens when we give correlated features in generative models?\n",
    "6. Which models works very well even on less training data?\n",
    "7. Is it possible to generate data with the help of these models?\n",
    "8. Which model will take less time to get trained?\n",
    "9. Which model will take less time to predict output?\n",
    "10. Which model fails to work well if we give a lot of features?\n",
    "11. Which model prone to overfitting very easily?\n",
    "12. Which model is prone to underfitting easily?\n",
    "13. What happens when training data is biased over one class in Generative Model?\n",
    "14. What happens when training data is biased over one class in Discriminative Models?\n",
    "15. Which model is more sensitive to outliers?\n",
    "16. Can you fill out the missing values in a dataset with the help of these models?"
   ]
  }
 ],
 "metadata": {
  "language_info": {
   "name": "python"
  },
  "orig_nbformat": 4
 },
 "nbformat": 4,
 "nbformat_minor": 2
}
