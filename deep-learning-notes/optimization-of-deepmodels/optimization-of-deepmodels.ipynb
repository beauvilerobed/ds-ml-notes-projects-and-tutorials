{
 "cells": [
  {
   "attachments": {},
   "cell_type": "markdown",
   "metadata": {},
   "source": [
    "# Optimization for Training Deep Models"
   ]
  },
  {
   "attachments": {},
   "cell_type": "markdown",
   "metadata": {},
   "source": [
    "Deep learning algorithms involve optimization in many contexts. For example,performing inference in models such as PCA involves solving an optimizationproblem. We often use analytical optimization to write proofs or design algorithms.Of all the many optimization problems involved in deep learning, the most diﬃcultis neural network training.\n",
    "\n",
    "It is quite common to invest days to months of time onhundreds of machines to solve even a single instance of the neural network trainingproblem. Because this problem is so important and so expensive, a specializedset of optimization techniques have been developed for solving it. This chapterpresents these optimization techniques for neural network training.\n",
    "\n",
    "We will focus on one particular case of optimization: ﬁnding the parameters $\\theta$ of a neural network that signiﬁcantly reduce a cost function $J(\\theta)$, which typically includes a performance measure evaluated on the entire training set as well as additional regularization terms."
   ]
  },
  {
   "attachments": {},
   "cell_type": "markdown",
   "metadata": {},
   "source": [
    "## How Learning Differs from Pure Optimization?\n",
    "\n",
    "In most machine learning scenarios, we care about some performance measure $P$, that is deﬁned with respect to the test set. We therefore optimize $P$ only indirectly. We reduce a diﬀerent cost function $J(\\theta)$ in the hope that doing so will improve $P$. This is in contrast to pure optimization,where minimizing $J$ is a goal in and of itself. Optimization algorithms for training deep models also typically include some specialization on the speciﬁc structure of machine learning objective functions. This function can be written as an average over the training set:\n",
    "\n",
    "$$\n",
    "J(\\theta) = E_{(x,y)\\sim \\hat{P}_{data}} L(f(x;\\theta), y)\n",
    "$$\n",
    "\n",
    "where $L$ is the per-example loss function,$f(x;θ)$ is the predicted output when the input is $x$, and $\\hat{P}_{data}$ the empirical distribution. In the supervised learning case, $y$ is the target output. \n",
    "\n",
    "We would usually prefer to minimize the corresponding objective function where the expectation is taken across the data-generating distribution $P_{data}$ rather than just over the ﬁnite training set:\n",
    "\n",
    "$$\n",
    "J^*(\\theta) = E_{(x,y)\\sim P_{data}} L(f(x;\\theta), y)\n",
    "$$\n",
    "\n",
    "### Empirical Risk Minimization\n",
    "\n",
    "The goal of a machine learning algorithm is to reduce the expected generalization error. This quantity is known as the **risk**. We emphasize here that the expectation is taken over the true underlying distribution $P_{data}$. If we knew the true distribution $P_{data}(x, y)$, risk minimization would be an optimization task solvable by an optimization algorithm. When we do not know $P_{data}(x, y)$ but only have a training set of samples, however, we have a machine learning problem.\n",
    "\n",
    "The simplest way to convert a machine learning problem back into an optimization problem is to minimize the expected loss on the training set. This means replacing the true distribution $p(x, y)$ with the empirical distribution $\\hat{P}_{data}(x, y)$ deﬁned by the training set. We now minimize the **empirical risk**\n",
    "\n",
    "$$\n",
    "E_{(x,y)\\sim \\hat{P}_{data}} L(f(x;\\theta), y) = \\frac{1}{m}\\sum_{i=1}^m L(f(x^{(i)};\\theta), y^{(i)})  \n",
    "$$\n",
    "\n",
    "where $m$ is the number of training examples. The training process based on minimizing this average training error is known as **empirical risk minimization**. Nonetheless, empirical risk minimization is prone to overﬁtting. Models withhigh capacity can simply memorize the training set. In many cases, empiricalrisk minimization is not really feasible. The most eﬀective modern optimizationalgorithms are based on gradient descent, but many useful loss functions, suchas 0-1 loss, have no useful derivatives (the derivative is either zero or undeﬁnedeverywhere). These two problems mean that, in the context of deep learning, werarely use empirical risk minimization. Instead, we must use a slightly diﬀerentapproach, in which the quantity that we actually optimize is even more diﬀerentfrom the quantity that we truly want to optimize\n",
    "\n",
    "### Surrogate Loss Functions and Early Stopping\n",
    "\n",
    "Sometimes, the loss function we actually care about (say, classiﬁcation error) is notone that can be optimized eﬃciently. For example, exactly minimizing expected 0-1loss is typically intractable (exponential in the input dimension). In such situations, one typically optimizes a surrogate loss function instead. \n",
    "\n",
    "### Batch and Minibatch Algorithms\n",
    "\n",
    "One aspect of machine learning algorithms that separates them from generaloptimization algorithms is that the objective function usually decomposes as a sumover the training examples. Optimization algorithms for machine learning typically compute each update to the parameters based on an expected value of the costfunction estimated using only a subset of the terms of the full cost function. For example maximum likelihood estimation problems when viewed in logspace, decompose into a sum over each example:\n",
    "\n",
    "$$\n",
    "\\theta_{ML} \\argmax_{\\theta} \\sum_{i=1}^m log P_{model}(x^{(i)}, y^{(i)}; \\theta) \n",
    "$$\n",
    "\n",
    "Maximizing this sum is equivalent to maximizing the expectation over theempirical distribution deﬁned by the training set:\n",
    "\n",
    "$$\n",
    "J(\\theta) = E_{x,y\\sim \\hat{P}_{data}} log P_{model}(x,y;\\theta)\n",
    "$$\n",
    "\n",
    "Most of the properties of the objective function $J$ used by most of our optimization algorithms are also expectations over the training set. For example, the most commonly used property is the gradient:\n",
    "\n",
    "$$\n",
    "\\nabla_{\\theta}J(\\theta) = E_{x,y\\sim \\hat{P}_{data}} \\nabla_\\theta log P_{model}(x,y;\\theta)\n",
    "$$\n",
    "\n",
    "Computing this expectation exactly is very expensive because it requiresevaluating the model on every example in the entire dataset. In practice, we cancompute these expectations by randomly sampling a small number of examplesfrom the dataset, then taking the average over only those examples.\n",
    "\n",
    "Challenges in Neural Network Optimization include\n",
    "- **Ill-Conditioning**: Ill-conditioning can manifest by causing SGD to get“stuck” in the sense that even very small steps increase the cost function.\n",
    "\n",
    "- **Local Minima**: With nonconvex functions, such as neural nets, it is possible to have manylocal minima. Indeed, nearly any deep model is essentially guaranteed to havean extremely large number of local minima.\n",
    "\n",
    "- **Plateaus, Saddle Points and Other Flat Regions**: In low-dimensional spaces, local minima are common. In higher-dimensional spaces, localminima are rare, and saddle points are more common.\n",
    "\n",
    "- **Cliﬀs and Exploding Gradients**: On the face of an extremely steep cliﬀ structure, thegradient update step can move the parameters extremely far, usually jumping oﬀthe cliﬀ structure altogether.\n",
    "\n",
    "- **Long-Term Dependencies**: Another diﬃculty that neural network optimization algorithms must overcomearises when the computational graph becomes extremely deep. Feedforwardnetworks with many layers have such deep computational graphs.\n",
    "\n",
    "- **Inexact Gradients**: Most optimization algorithms are designed with the assumption that we haveaccess to the exact gradient or Hessian matrix. In practice, we usually have onlya noisy or even biased estimate of these quantities. Nearly every deep learningalgorithm relies on sampling-based estimates, at least insofar as using a minibatchof training examples to compute the gradient.\n",
    "\n",
    "- **Poor Correspondence between Local and Global Structure**: Many of the problems we have discussed so far correspond to properties of the loss function at a single point—it can be diﬃcult to make a single step if $J(\\theta)$ is poorly conditioned at the current point $\\theta$, or if $\\theta$ lies on a cliff, or if $\\theta$ is a saddlepoint hiding the opportunity to make progress downhill from the gradient.\n",
    "\n",
    "- **Theoretical Limits of Optimization**: Some theoretical results showthat there exist problem classes that are intractable, but it can be diﬃcult to tellwhether a particular problem falls into that class. Other results show that ﬁndinga solution for a network of a given size is intractable, but in practice we can ﬁnd asolution easily by using a larger network for which many more parameter settingscorrespond to an acceptable solution."
   ]
  },
  {
   "attachments": {},
   "cell_type": "markdown",
   "metadata": {},
   "source": [
    "## Basic Algorithms"
   ]
  },
  {
   "attachments": {},
   "cell_type": "markdown",
   "metadata": {},
   "source": [
    "### Stochastic Gradient Descent\n",
    "\n",
    "Stochastic gradient descent (SGD) and its variants are probably the most usedoptimization algorithms for machine learning in general and for deep learningin particular. It is possible to obtain an unbiasedestimate of the gradient by taking the average gradient on a minibatch ofmexamples drawn i.i.d from the data-generating distribution\n",
    "\n",
    "A crucial parameter for the SGD algorithm is the learning rate. Previously, wehave described SGD as using a ﬁxed learning rate $\\epsilon$. In practice, it is necessary togradually decrease the learning rate over time, so we now denote the learning rateat iteration $k$ as $\\epsilon_k$. This is because the SGD gradient estimator introduces a source of noise (the random sampling of $m$ training examples) that does not vanish even when we arriveat a minimum. By comparison, the true gradient of the total cost function becomessmall and then0when we approach and reach a minimum using batch gradient descent, so batch gradient descent can use a ﬁxed learning rate. A suﬃcient condition to guarantee convergence of SGD is that\n",
    "\n",
    "$$\n",
    "\\sum_{k=1}^\\infty \\epsilon_k = \\infty\n",
    "$$\n",
    "\n",
    "$$\n",
    "\\sum_{k=1}^\\infty \\epsilon_k^2 < \\infty\n",
    "$$\n",
    "\n",
    "In practice, it is common to decay the learning rate linearly until iteration $\\tau$:\n",
    "\n",
    "$$\n",
    "\\epsilon_k = (1-\\alpha)\\epsilon_0 + \\alpha\\epsilon_{\\tau}\n",
    "$$\n",
    "\n",
    "with $\\alpha = \\frac{k}{\\tau}$. After iteration $\\tau$ , it is common to leave $\\epsilon$ constant. The learning rate may be chosen by trial and error, but it is usually best to choose it by monitoring learning curves that plot the objective function as a function of time. This is more of an art than a science, and most guidance on thissubject should be regarded with some skepticism.\n",
    "\n",
    "Algorithm: Stochastic gradient descent (SGD) update\n",
    "\n",
    "Require: Learning rate schedule $\\epsilon_1, \\epsilon_2,...$\n",
    "\n",
    "Require: Initial parameter $\\theta$\n",
    "\n",
    "- k $\\leftarrow$ 1\n",
    "- **while** stopping criterion not met **do**\n",
    "    - Sample a minibatch of me examples from the training set $\\{x^{(1)},..., x^{(m)}\\}$ with corresponding targets $y^{(i}$\n",
    "    - Compute gradiet estimate: $\\hat{g}\\leftarrow \\frac{1}{m}\\nabla_\\theta \\sum_i L(f(x^{(i)};\\theta), y^{(i)})$\n",
    "    - Apply update: $\\theta \\leftarrow \\theta -\\epsilon_k\\hat{g}$\n",
    "    - $k\\leftarrow k+1$\n",
    "- end while\n",
    "\n",
    "\n",
    "### Momentum\n",
    "\n",
    "While stochastic gradient descent remains a popular optimization strategy, learning with it can sometimes be slow. The method of momentum is designed to accelerate learning, especially in the face of high curvature, small butconsistent gradients, or noisy gradients. The momentum algorithm accumulates an exponentially decaying moving average of past gradients and continues to move in their direction.\n",
    "\n",
    "<img src=\"img\\download.png\" width=\"30%\" height=\"30%\">\n",
    "\n",
    "Formally, the momentum algorithm introduces a variable $v$ that plays the role of velocity—it is the direction and speed at which the parameters move through parameter space. The velocity is set to an exponentially decaying average of the negative gradient. A hyperparameter $\\alpha \\in [0,1)$ determines how quickly the contributions of previous gradients exponentially decay.The update rule is given by\n",
    "\n",
    "$$\n",
    "v \\leftarrow \\alpha v - \\epsilon\\nabla_\\theta \\left( \\frac{1}{m}\\sum_{i=1}^m L(f(x^{(i)};\\theta), y^{(i)})\\right)\n",
    "$$\n",
    "\n",
    "$$\n",
    "\\theta \\leftarrow \\theta + v\n",
    "$$\n",
    "\n",
    "Algorithm: Stochastic gradient descent (SGD) with momentum\n",
    "\n",
    "Require: Learning rate $\\epsilon$, momentum parameter $\\alpha$\n",
    "\n",
    "Require: Initial parameter $\\theta$, initial velocity $v$\n",
    "- **while** stopping criterion not met **do**\n",
    "    - Sample a minibatch of me examples from the training set $\\{x^{(1)},..., x^{(m)}\\}$ with corresponding targets $y^{(i}$\n",
    "    - Compute gradiet estimate: $\\hat{g}\\leftarrow \\frac{1}{m}\\nabla_\\theta \\sum_i L(f(x^{(i)};\\theta), y^{(i)})$\n",
    "    - Compute velocity update: $v\\leftarrow \\alpha v - \\epsilon g$\n",
    "    - Apply update: $\\theta \\leftarrow \\theta + v$\n",
    "- end while\n",
    "\n",
    "Previously, the size of the step was simply the norm of the gradient multipliedby the learning rate. Now, the size of the step depends on how large and howaligned a sequence of gradients are. The step size is largest when many successivegradients point in exactly the same direction.\n",
    "\n",
    "It is thus helpful to think of the momentum hyperparameter in terms of $\\frac{1}{1−\\alpha}$. For example, $\\alpha = 0.9$ corresponds to multiplying the maximum speed by 10 relative tothe gradient descent algorithm.\n",
    "\n",
    "Common values ofαused in practice include 0.5, 0.9, and 0.99. Like thelearning rate, $\\alpha$ may also be adapted over time. Typically it begins with a small value and is later raised. Adapting $\\alpha$ over time is less important than shrinking $\\epsilon$ over time.\n",
    "\n",
    "### Nesterov Momentum\n",
    "\n",
    "With Nesterov momentum, the gradient isevaluated after the current velocity is applied. Thus one can interpret Nesterovmomentum as attempting to add a correction factor to the standard methodof momentum.\n",
    "\n",
    "Algorithm: Stochastic gradient descent (SGD) with Nesterov's momentum\n",
    "\n",
    "Require: Learning rate $\\epsilon$, momentum parameter $\\alpha$\n",
    "\n",
    "Require: Initial parameter $\\theta$, initial velocity $v$\n",
    "- **while** stopping criterion not met **do**\n",
    "    - Sample a minibatch of me examples from the training set $\\{x^{(1)},..., x^{(m)}\\}$ with corresponding targets $y^{(i}$\n",
    "    - Apply interim update:  $\\tilde{\\theta}\\leftarrow \\theta+\\alpha v$\n",
    "    - Compute gradiet estimate: $\\hat{g}\\leftarrow \\frac{1}{m}\\nabla_\\theta \\sum_i L(f(x^{(i)};\\tilde{\\theta}), y^{(i)})$\n",
    "    - Compute velocity update: $v\\leftarrow \\alpha v - \\epsilon g$\n",
    "    - Apply update: $\\theta \\leftarrow \\theta + v$\n",
    "- end while"
   ]
  },
  {
   "attachments": {},
   "cell_type": "markdown",
   "metadata": {},
   "source": [
    "### Algorithms with Adaptive Learning Rates\n",
    "\n",
    "Neural network researchers have long realized that the learning rate is reliablyone of the most diﬃcult to set hyperparameters because it signiﬁcantly affects model performance. The cost is often highly sensitive to some directions in parameter space and insensitive to others. Themomentum algorithm can mitigate these issues somewhat, but it does so at theexpense of introducing another hyperparameter.\n",
    "\n",
    "If we believe that the directions of sensitivity aresomewhat axis aligned, it can make sense to use a separate learning rate for eachparameter and automatically adapt these learning rates throughout the course oflearning.\n",
    "\n",
    "More recently, a number of incremental (or mini batch-based) methods havebeen introduced that adapt the learning rates of model parameters. In this section,we brieﬂy review a few of these algorithms\n",
    "\n",
    "### Algorithm: The AdaGrad algorithm\n",
    "\n",
    "Require: Global Learning rate $\\epsilon$\n",
    "\n",
    "Require: Initial parameter $\\theta$\n",
    "\n",
    "Require: Small constant $\\delta$, perhaps $10^{-7}$, for numerical stability\n",
    "- Initialize gradient accumulation variable $r=0$\n",
    "- **while** stopping criterion not met **do**\n",
    "    - Sample a minibatch of me examples from the training set $\\{x^{(1)},..., x^{(m)}\\}$ with corresponding targets $y^{(i)}$\n",
    "    - Compute gradient: $g\\leftarrow \\frac{1}{m}\\nabla_\\theta \\sum_i L(f(x^{(i)};\\theta), y^{(i)})$\n",
    "    - Accumulate squared gradient: $r \\leftarrow r + g \\odot g$.\n",
    "    - Compute update: $\\Delta\\theta \\leftarrow -\\frac{\\epsilon}{\\delta+\\sqrt\n",
    "    {r}}\\odot g$ (Division and square root applied element-wise)\n",
    "    - Apply update: $\\theta \\leftarrow \\theta + \\Delta\\theta$\n",
    "- end while\n",
    "\n",
    "### Algorithm: The RMSProp algorithm\n",
    "\n",
    "Require: Global Learning rate $\\epsilon$, decay rate $\\rho$\n",
    "\n",
    "Require: Initial parameter $\\theta$\n",
    "\n",
    "Require: Small constant $\\delta$, perhaps $10^{-6}$, used to stabalize division by small numbers\n",
    "- Initialize gradient accumulation variable $r=0$\n",
    "- **while** stopping criterion not met **do**\n",
    "    - Sample a minibatch of me examples from the training set $\\{x^{(1)},..., x^{(m)}\\}$ with corresponding targets $y^{(i)}$\n",
    "    - Compute gradient: $g\\leftarrow \\frac{1}{m}\\nabla_\\theta \\sum_i L(f(x^{(i)};\\theta), y^{(i)})$\n",
    "    - Accumulate squared gradient: $r \\leftarrow \\rho r + (1-\\rho) g\\odot g$.\n",
    "    - Compute update: $\\Delta\\theta \\leftarrow -\\frac{\\epsilon}{\\delta+\\sqrt{r}}\\odot g$ (Division and square root applied element-wise)\n",
    "    - Apply update: $\\theta \\leftarrow \\theta + \\Delta\\theta$\n",
    "- end while\n",
    "\n",
    "### Algorithm: The RMSProp algorithm with Nestrov momentum\n",
    "\n",
    "Require: Global Learning rate $\\epsilon$, decay rate $\\rho$\n",
    "\n",
    "Require: Initial parameter $\\theta$\n",
    "\n",
    "Require: Small constant $\\delta$, perhaps $10^{-6}$, used to stabalize division by small numbers\n",
    "- Initialize gradient accumulation variable $r=0$\n",
    "- **while** stopping criterion not met **do**\n",
    "    - Sample a minibatch of me examples from the training set $\\{x^{(1)},..., x^{(m)}\\}$ with corresponding targets $y^{(i)}$\n",
    "    - Compute interim update: $\\tilde{\\theta} \\leftarrow \\theta + \\alpha v$\n",
    "    - Compute gradient: $g\\leftarrow \\frac{1}{m}\\nabla_\\theta \\sum_i L(f(x^{(i)};\\tilde{\\theta} ), y^{(i)})$\n",
    "    - Accumulate gradient: $r \\leftarrow \\rho r + (1-\\rho) g\\odot g$.\n",
    "    - Compute update: $v \\leftarrow \\alpha v -\\frac{\\epsilon}{\\sqrt{r}}\\odot g$ (Division and square root applied element-wise)\n",
    "    - Apply update: $\\theta \\leftarrow \\theta + v$\n",
    "- end while\n",
    "\n",
    "### Algorithm: The Adam algorithm\n",
    "\n",
    "Require: Step size $\\epsilon$ (Suggested default: 0.001)\n",
    "\n",
    "Require: Exponential decay rates for moment estimates, $\\rho_1$ and $\\rho_2$ in [0,1).(Suggested defaults: 0.9 and 0.999 respectively)\n",
    "\n",
    "Require: Small constant $\\delta$, used for numerical stabilization (Suggested default: $10^{−8}$)\n",
    "\n",
    "Require: Initial parameters $\\theta$\n",
    "- Initialize 1st and 2nd moment variables $s = 0$, $r = 0$\n",
    "- Initialize time step $t = 0$\n",
    "- **while** stopping criterion not met **do**\n",
    "    - Sample a minibatch of me examples from the training set $\\{x^{(1)},..., x^{(m)}\\}$ with corresponding targets $y^{(i)}$\n",
    "    - Compute gradient: $g\\leftarrow \\frac{1}{m}\\nabla_\\theta \\sum_i L(f(x^{(i)};\\theta ), y^{(i)})$\n",
    "    - $t\\leftarrow t+1$\n",
    "    - Update biased ﬁrst moment estimate: $s \\leftarrow \\rho_1s + (1 − \\rho_1)g$\n",
    "    - Update biased second moment estimate: $r \\leftarrow \\rho_2r + (1 − \\rho_2)g \\odot g$\n",
    "    - Correct bias in ﬁrst moment: $\\hat{s} \\leftarrow \\frac{s}{1−\\rho^t_1}$\n",
    "    - Correct bias in second moment: $\\hat{r} \\leftarrow \\frac{r}{1−\\rho^t_2}$\n",
    "    - Compute update: $\\Delta \\theta = −\\epsilon \\frac{\\hat{s}}{\\sqrt{\\hat{r}+\\delta}}$ (operations applied element-wise)\n",
    "    - Apply update: $\\theta \\leftarrow \\theta + \\Delta\\theta$\n",
    "- end while"
   ]
  },
  {
   "attachments": {},
   "cell_type": "markdown",
   "metadata": {},
   "source": [
    "<img src=\"img/121381obtV.gif\">\n",
    "<img src=\"img/56201contours_evaluation_optimizers.gif\">\n"
   ]
  },
  {
   "attachments": {},
   "cell_type": "markdown",
   "metadata": {},
   "source": [
    "# Hands-on Optimizers with Python"
   ]
  },
  {
   "cell_type": "code",
   "execution_count": 1,
   "metadata": {},
   "outputs": [
    {
     "name": "stdout",
     "output_type": "stream",
     "text": [
      "(60000, 28, 28) (60000,)\n"
     ]
    }
   ],
   "source": [
    "import keras\n",
    "from keras.datasets import mnist\n",
    "from keras.models import Sequential\n",
    "from keras.layers import Dense, Dropout, Flatten\n",
    "from keras.layers import Conv2D, MaxPooling2D\n",
    "from keras import backend as K\n",
    "\n",
    "\n",
    "(x_train, y_train), (x_test, y_test) = mnist.load_data()\n",
    "print(x_train.shape, y_train.shape)"
   ]
  },
  {
   "cell_type": "code",
   "execution_count": 2,
   "metadata": {},
   "outputs": [],
   "source": [
    "x_train= x_train.reshape(x_train.shape[0],28,28,1)\n",
    "x_test=  x_test.reshape(x_test.shape[0],28,28,1)\n",
    "input_shape=(28,28,1)\n",
    "y_train=keras.utils.np_utils.to_categorical(y_train)#,num_classes=)\n",
    "y_test=keras.utils.np_utils.to_categorical(y_test)#, num_classes)\n",
    "x_train= x_train.astype('float32')\n",
    "x_test= x_test.astype('float32')\n",
    "x_train /= 255\n",
    "x_test /=255"
   ]
  },
  {
   "cell_type": "code",
   "execution_count": 3,
   "metadata": {},
   "outputs": [],
   "source": [
    "batch_size=64\n",
    "\n",
    "num_classes=10\n",
    "\n",
    "epochs=10\n",
    "\n",
    "def build_model(optimizer):\n",
    "    model=Sequential()\n",
    "    model.add(Conv2D(32,kernel_size=(3,3),activation='relu',input_shape=input_shape))\n",
    "    model.add(MaxPooling2D(pool_size=(2,2)))\n",
    "    model.add(Dropout(0.25))\n",
    "    model.add(Flatten())\n",
    "    model.add(Dense(256, activation='relu'))\n",
    "    model.add(Dropout(0.5))\n",
    "    model.add(Dense(num_classes, activation='softmax'))\n",
    "    model.compile(loss=keras.losses.categorical_crossentropy, optimizer= optimizer, metrics=['accuracy'])\n",
    "    \n",
    "    return model"
   ]
  },
  {
   "cell_type": "code",
   "execution_count": 4,
   "metadata": {},
   "outputs": [
    {
     "name": "stderr",
     "output_type": "stream",
     "text": [
      "2023-06-11 17:05:55.470222: I tensorflow/core/platform/cpu_feature_guard.cc:151] This TensorFlow binary is optimized with oneAPI Deep Neural Network Library (oneDNN) to use the following CPU instructions in performance-critical operations:  AVX2 FMA\n",
      "To enable them in other operations, rebuild TensorFlow with the appropriate compiler flags.\n"
     ]
    },
    {
     "name": "stdout",
     "output_type": "stream",
     "text": [
      "Epoch 1/10\n",
      "938/938 [==============================] - 50s 52ms/step - loss: 2.2638 - accuracy: 0.1814 - val_loss: 2.2145 - val_accuracy: 0.4048\n",
      "Epoch 2/10\n",
      "938/938 [==============================] - 48s 51ms/step - loss: 2.1810 - accuracy: 0.3319 - val_loss: 2.1165 - val_accuracy: 0.5791\n",
      "Epoch 3/10\n",
      "938/938 [==============================] - 47s 50ms/step - loss: 2.0846 - accuracy: 0.4493 - val_loss: 2.0000 - val_accuracy: 0.6638\n",
      "Epoch 4/10\n",
      "938/938 [==============================] - 45s 48ms/step - loss: 1.9686 - accuracy: 0.5404 - val_loss: 1.8653 - val_accuracy: 0.7130\n",
      "Epoch 5/10\n",
      "938/938 [==============================] - 45s 47ms/step - loss: 1.8409 - accuracy: 0.5944 - val_loss: 1.7184 - val_accuracy: 0.7487\n",
      "Epoch 6/10\n",
      "938/938 [==============================] - 44s 47ms/step - loss: 1.7025 - accuracy: 0.6406 - val_loss: 1.5659 - val_accuracy: 0.7749\n",
      "Epoch 7/10\n",
      "938/938 [==============================] - 43s 46ms/step - loss: 1.5632 - accuracy: 0.6724 - val_loss: 1.4153 - val_accuracy: 0.7933\n",
      "Epoch 8/10\n",
      "938/938 [==============================] - 43s 46ms/step - loss: 1.4297 - accuracy: 0.6953 - val_loss: 1.2737 - val_accuracy: 0.8062\n",
      "Epoch 9/10\n",
      "938/938 [==============================] - 45s 48ms/step - loss: 1.3064 - accuracy: 0.7127 - val_loss: 1.1454 - val_accuracy: 0.8172\n",
      "Epoch 10/10\n",
      "938/938 [==============================] - 45s 48ms/step - loss: 1.2001 - accuracy: 0.7250 - val_loss: 1.0335 - val_accuracy: 0.8244\n",
      "Epoch 1/10\n",
      "938/938 [==============================] - 45s 48ms/step - loss: 1.6017 - accuracy: 0.5436 - val_loss: 0.8048 - val_accuracy: 0.8392\n",
      "Epoch 2/10\n",
      "938/938 [==============================] - 42s 44ms/step - loss: 0.7730 - accuracy: 0.7793 - val_loss: 0.4927 - val_accuracy: 0.8815\n",
      "Epoch 3/10\n",
      "938/938 [==============================] - 41s 43ms/step - loss: 0.5902 - accuracy: 0.8261 - val_loss: 0.4050 - val_accuracy: 0.8953\n",
      "Epoch 4/10\n",
      "938/938 [==============================] - 41s 44ms/step - loss: 0.5178 - accuracy: 0.8454 - val_loss: 0.3622 - val_accuracy: 0.9036\n",
      "Epoch 5/10\n",
      "938/938 [==============================] - 42s 45ms/step - loss: 0.4719 - accuracy: 0.8605 - val_loss: 0.3349 - val_accuracy: 0.9076\n",
      "Epoch 6/10\n",
      "938/938 [==============================] - 45s 48ms/step - loss: 0.4420 - accuracy: 0.8677 - val_loss: 0.3128 - val_accuracy: 0.9156\n",
      "Epoch 7/10\n",
      "938/938 [==============================] - 46s 49ms/step - loss: 0.4205 - accuracy: 0.8751 - val_loss: 0.2972 - val_accuracy: 0.9195\n",
      "Epoch 8/10\n",
      "938/938 [==============================] - 42s 45ms/step - loss: 0.3987 - accuracy: 0.8809 - val_loss: 0.2836 - val_accuracy: 0.9226\n",
      "Epoch 9/10\n",
      "938/938 [==============================] - 46s 49ms/step - loss: 0.3813 - accuracy: 0.8861 - val_loss: 0.2722 - val_accuracy: 0.9241\n",
      "Epoch 10/10\n",
      "938/938 [==============================] - 44s 47ms/step - loss: 0.3692 - accuracy: 0.8892 - val_loss: 0.2619 - val_accuracy: 0.9272\n"
     ]
    }
   ],
   "source": [
    "optimizers = ['Adadelta', 'Adagrad', 'Adam', 'RMSprop', 'SGD']\n",
    "\n",
    "models_history = {}\n",
    "for i in optimizers:\n",
    "    model = build_model(i)\n",
    "    hist=model.fit(x_train, y_train, batch_size=batch_size, epochs=epochs, verbose=1, validation_data=(x_test,y_test))\n",
    "    models_history[i] = hist.history"
   ]
  },
  {
   "cell_type": "code",
   "execution_count": 13,
   "metadata": {},
   "outputs": [
    {
     "data": {
      "image/png": "[encoded data removed]",
      "text/plain": [
       "<Figure size 432x288 with 1 Axes>"
      ]
     },
     "metadata": {
      "needs_background": "light"
     },
     "output_type": "display_data"
    }
   ],
   "source": [
    "import matplotlib.pyplot as plt\n",
    "\n",
    "\n",
    "x_axis = [num+1 for num in range(10)]\n",
    "for optimizer, history  in models_history.items():\n",
    "    y_axis = history['accuracy']\n",
    "    plt.plot(x_axis, y_axis, label=optimizer)\n",
    "plt.title('accuracy for ' +optimizer)\n",
    "plt.legend()\n",
    "plt.show()"
   ]
  },
  {
   "cell_type": "code",
   "execution_count": 14,
   "metadata": {},
   "outputs": [
    {
     "data": {
      "image/png": "[encoded data removed]",
      "text/plain": [
       "<Figure size 432x288 with 1 Axes>"
      ]
     },
     "metadata": {
      "needs_background": "light"
     },
     "output_type": "display_data"
    }
   ],
   "source": [
    "x_axis = [num+1 for num in range(10)]\n",
    "for optimizer, history  in models_history.items():\n",
    "    y_axis = history['loss']\n",
    "    plt.plot(x_axis, y_axis, label=optimizer)\n",
    "plt.title('loss for '+optimizer)\n",
    "plt.legend()\n",
    "plt.show()"
   ]
  },
  {
   "attachments": {},
   "cell_type": "markdown",
   "metadata": {},
   "source": []
  },
  {
   "attachments": {},
   "cell_type": "markdown",
   "metadata": {},
   "source": [
    "## Analysis\n",
    "The above plot shows the validation accuracy and loss at different epochs. It also contains the total time that the model took to run on 10 epochs for each optimizer. From the above table, we can make the following analysis.\n",
    "\n",
    "- The adam optimizer shows the best accuracy in a satisfactory amount of time.\n",
    "- RMSprop shows similar accuracy to that of Adam but with a comparatively much larger computation time.\n",
    "- Surprisingly, the SGD algorithm took the least time to train and produced good results as well. But to reach the accuracy of the Adam optimizer, SGD will require more iterations, and hence the computation time will increase.\n",
    "- SGD with momentum shows similar accuracy to SGD with unexpectedly larger computation time. This means the value of momentum taken needs to be optimized.\n",
    "- Adadelta shows poor results both with accuracy and computation time.\n",
    "You can analyze the accuracy of each optimizer with each epoch from the below graph."
   ]
  },
  {
   "attachments": {},
   "cell_type": "markdown",
   "metadata": {},
   "source": [
    "### Conclusion\n",
    "This article taught us how an optimization algorithm could affect the deep learning model in terms of accuracy, speed, and efficiency. We learned about various algorithms, and hopefully, you were able to compare the algorithms with one another. We also learned when to use which algorithm and what could be the downsides of using that algorithm.\n",
    "\n",
    "**Key Takeaways**\n",
    "\n",
    "- Gradient Descent, Stochastic Gradient Descent, Mini-batch Gradient Descent, Adagrad, RMS Prop, AdaDelta, and Adam are all popular deep-learning optimizers.\n",
    "- Each optimizer has its own strengths and weaknesses, and the choice of optimizer will depend on the specific deep-learning task and the characteristics of the data being used.\n",
    "- The choice of optimizer can significantly impact the speed and quality of convergence during training, as well as the final performance of the deep learning model."
   ]
  },
  {
   "attachments": {},
   "cell_type": "markdown",
   "metadata": {},
   "source": []
  }
 ],
 "metadata": {
  "kernelspec": {
   "display_name": "Python 3",
   "language": "python",
   "name": "python3"
  },
  "language_info": {
   "codemirror_mode": {
    "name": "ipython",
    "version": 3
   },
   "file_extension": ".py",
   "mimetype": "text/x-python",
   "name": "python",
   "nbconvert_exporter": "python",
   "pygments_lexer": "ipython3",
   "version": "3.7.0"
  },
  "orig_nbformat": 4
 },
 "nbformat": 4,
 "nbformat_minor": 2
}
