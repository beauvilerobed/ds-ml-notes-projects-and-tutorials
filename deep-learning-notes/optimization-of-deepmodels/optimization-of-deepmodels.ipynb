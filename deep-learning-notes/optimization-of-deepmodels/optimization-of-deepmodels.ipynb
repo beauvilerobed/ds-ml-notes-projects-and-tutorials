{
 "cells": [
  {
   "attachments": {},
   "cell_type": "markdown",
   "metadata": {},
   "source": [
    "# Optimization for Training Deep Models"
   ]
  },
  {
   "attachments": {},
   "cell_type": "markdown",
   "metadata": {},
   "source": [
    "Deep learning algorithms involve optimization in many contexts. For example,performing inference in models such as PCA involves solving an optimizationproblem. We often use analytical optimization to write proofs or design algorithms.Of all the many optimization problems involved in deep learning, the most diﬃcultis neural network training.\n",
    "\n",
    "It is quite common to invest days to months of time onhundreds of machines to solve even a single instance of the neural network trainingproblem. Because this problem is so important and so expensive, a specializedset of optimization techniques have been developed for solving it. This chapterpresents these optimization techniques for neural network training.\n",
    "\n",
    "This chapter focuses on one particular case of optimization: ﬁnding the param-etersθof a neural network that signiﬁcantly reduce a cost functionJ(θ), whichtypically includes a performance measure evaluated on the entire training set aswell as additional regularization terms"
   ]
  }
 ],
 "metadata": {
  "language_info": {
   "name": "python"
  },
  "orig_nbformat": 4
 },
 "nbformat": 4,
 "nbformat_minor": 2
}
