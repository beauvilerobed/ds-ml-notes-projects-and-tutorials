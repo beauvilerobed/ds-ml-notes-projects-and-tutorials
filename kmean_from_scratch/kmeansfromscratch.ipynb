{
 "cells": [
  {
   "cell_type": "markdown",
   "metadata": {},
   "source": [
    "# K Means From Scratch"
   ]
  },
  {
   "cell_type": "markdown",
   "metadata": {},
   "source": [
    "## The Basic Idea"
   ]
  },
  {
   "cell_type": "markdown",
   "metadata": {},
   "source": [
    "Given a dataset where each observed example has a set of features, but has\n",
    "**no** labels. What can we do?\n",
    "\n",
    "One task we can perform on a data set with no labels is to find groups of data in our dataset\n",
    "which are similar to one another -- called clusters.\n",
    "\n",
    "K Means is a clustering algorithm. It stores k centroids that it uses to define clusters. A point\n",
    "is considered to be in a particular cluster if it is closer to that cluster's centroid that any other\n",
    "centroid."
   ]
  },
  {
   "cell_type": "markdown",
   "metadata": {},
   "source": [
    "## The Algorithm"
   ]
  },
  {
   "cell_type": "markdown",
   "metadata": {},
   "source": [
    "We are given training sets $\\{ x^1, x^2,..., x^m \\}$, and want to group the data into a few\n",
    "cohesive \"clusters\". Here, we are given feature vectors for each data point $x^i \\in\\mathbb{R}^n$\n",
    "as usual. Our goal is to predict k centroids **and** a label $c^i$ for each datapoint.\n",
    "\n",
    "1. Initialize **cluster centroids** $\\mu_1, \\mu_2,...,\\mu_k\\in\\mathbb{R}^n$ randomly.\n",
    "2. Repeat until convergence:\n",
    "\n",
    "$$\n",
    "\\text{Set } c^i := \\min_{j} \\Vert x^i - \\mu_j\\Vert ^2 \\text{ }\\text{  for every i}\n",
    "$$\n",
    "\n",
    "$$\n",
    "\\text{Set } \\mu_j := \\frac{\\sum_{i=1}^m \\chi_{\\{c^i = j\\}}x^i}{\\sum_{i=1}^m \\chi_{\\{c^i = j\\}}} \\text{ }\\text{  for every j}\n",
    "$$\n"
   ]
  },
  {
   "cell_type": "markdown",
   "metadata": {},
   "source": [
    "## Implementation"
   ]
  },
  {
   "cell_type": "code",
   "execution_count": 2,
   "metadata": {},
   "outputs": [],
   "source": [
    "import numpy as np\n",
    "import pandas as pd\n",
    "import matplotlib.pyplot as plt\n",
    "import seaborn as sns\n",
    "import warnings\n",
    "warnings.filterwarnings('ignore')"
   ]
  },
  {
   "cell_type": "code",
   "execution_count": null,
   "metadata": {},
   "outputs": [],
   "source": [
    "data = pd.read_csv('clustering.csv')"
   ]
  },
  {
   "cell_type": "code",
   "execution_count": null,
   "metadata": {},
   "outputs": [],
   "source": [
    "def get_centroids(dataset, label, k):\n",
    "    pass"
   ]
  },
  {
   "cell_type": "code",
   "execution_count": null,
   "metadata": {},
   "outputs": [],
   "source": [
    "def get_labels(dataset, centroids):\n",
    "    pass"
   ]
  },
  {
   "cell_type": "code",
   "execution_count": null,
   "metadata": {},
   "outputs": [],
   "source": [
    "def should_stop(old_centroids, centroids, iterations):\n",
    "    if iterations > MAX_ITERATIONS:\n",
    "        return True\n",
    "    return old_centroids == centroids"
   ]
  },
  {
   "cell_type": "code",
   "execution_count": null,
   "metadata": {},
   "outputs": [],
   "source": [
    "def kmean(dataset, k):\n",
    "    num_features = dataset.get_num_features()\n",
    "    centroids = get_random_centroids(num_features, k)\n",
    "\n",
    "    iterations = 0\n",
    "    old_centroids = None\n",
    "    \n",
    "\n",
    "    while not should_stop(old_centroids, centroids, iterations):\n",
    "        old_centroids = centroids\n",
    "        iteration += 1\n",
    "\n",
    "        labels = get_labels(dataset, labels, k)\n",
    "\n",
    "    return centroids\n"
   ]
  },
  {
   "cell_type": "markdown",
   "metadata": {},
   "source": [
    "## Expectation Maximization"
   ]
  },
  {
   "cell_type": "markdown",
   "metadata": {},
   "source": [
    "Note that K Mans is really just the Expectation Maximization algorithm applied to a particular\n",
    "naive bayes model."
   ]
  }
 ],
 "metadata": {
  "interpreter": {
   "hash": "aee8b7b246df8f9039afb4144a1f6fd8d2ca17a180786b69acc140d282b71a49"
  },
  "kernelspec": {
   "display_name": "Python 3.7.0 64-bit",
   "language": "python",
   "name": "python3"
  },
  "language_info": {
   "codemirror_mode": {
    "name": "ipython",
    "version": 3
   },
   "file_extension": ".py",
   "mimetype": "text/x-python",
   "name": "python",
   "nbconvert_exporter": "python",
   "pygments_lexer": "ipython3",
   "version": "3.7.0"
  },
  "orig_nbformat": 4
 },
 "nbformat": 4,
 "nbformat_minor": 2
}
