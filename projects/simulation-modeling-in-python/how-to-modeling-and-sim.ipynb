{
 "cells": [
  {
   "attachments": {},
   "cell_type": "markdown",
   "metadata": {},
   "source": [
    "# How to modeling and simulation in Python with an example\n",
    "\n",
    "Modeling and simulation are invaluable tools for businesses and organizations. It can help accurately predict outcomes, identify weaknesses and strengths, and provide insights into how to improve a system. It can be used to understand interactions, quickly test changes, and evaluate processes, policies, and strategies. This can reduce costs and project duration, identify potential issues, and help make more informed decisions."
   ]
  },
  {
   "attachments": {},
   "cell_type": "markdown",
   "metadata": {},
   "source": [
    "## Introduction to simulation modeling in Python\n",
    "\n",
    "A simple example would be simulating the growth of a population. In this example, you would create a virtual population and assign it a starting number of individuals. Then, you could define a set of rules for how the population grows over time, such as a fixed rate of growth, competition for resources, or environmental factors. Then run the simulation and observe the outcome. This will help you understand the dynamics of population growth and how different factors can affect it.\n",
    "\n",
    "## How simulation works\n",
    "\n",
    "NumPy, SciPy, and Matplotlib are the most popular libraries for creating simulations. NumPy offers the core numerical capabilities for the simulation, and Matplotlib visualizes the simulation’s output.\n",
    "\n",
    "In Python, we can perform simulations that can generate random numbers, the same as are used for Monte Carlo Simulations. Monte Carlo simulation is a computer-based modeling method that simulates a system’s behavior using random integers. We often use it to analyze the potential outcomes of a decision or to understand the risks associated with a particular course of action. Monte Carlo simulation works by randomly generating numbers that are plugged into formulas or equations to model the behavior of a system. The results of the simulation are then analyzed to determine the potential outcomes of the system. We use Monte Carlo simulation in a variety of fields, such as finance, engineering, and economics.\n",
    "\n",
    "We can use Python to evaluate the effectiveness of certain strategies or policies by simulating them. For instance, we can use it to evaluate the impact of a new policy or model the potential outcomes of a particular decision.\n",
    "\n",
    "Python can also simulate and optimize a system, such as a production line or supply chain, using powerful tools.\n",
    "\n",
    "By combining powerful libraries and frameworks, simulations can be created quickly and accurately. This can give insights into the behavior of complex systems and provide valuable data for decision-making.\n",
    "\n",
    "## Building a simulation model\n",
    "The first step in building a simulation model is to define the problem. This involves identifying the components of the system as well as the interactions between them. Once the components and interactions are identified, the model can be constructed. This includes specifying the parameters of the model, such as its time step, the initial conditions, and the rules of the system.\n",
    "\n",
    "### Designing\n",
    "The process of designing a simulation model starts by understanding the problem and the system that needs to be simulated. This includes collecting data, creating a model, and selecting the appropriate simulation techniques and tools. The goal is to create a model that accurately reflects the system being simulated.\n",
    "\n",
    "### Experiment\n",
    "After designing the model, the simulation is then tested and run. This can be done using a computer program or software. Depending on the complexity of the model, a variety of experiments may be necessary to obtain the desired results. Experiments involve changing the values of parameters and running the simulation multiple times.\n",
    "\n",
    "### Optimize\n",
    "After running the simulation, the model may need to be optimized. This is done to ensure that the model is accurate and efficient. This involves making adjustments to parameters to improve the accuracy of the model and to ensure that the model is running as efficiently as possible.\n",
    "\n",
    "### Analyze\n",
    "After optimizing the model, the results of the simulation need to be analyzed. This can be done manually or with the help of software programs. The analysis involves examining the simulation results to determine what happened and why.\n",
    "\n",
    "### Improve\n",
    "Finally, we can improve the model by making changes to the parameters and running it again. This process can be repeated until the model is satisfactory. Once the model is satisfactory, we can use it for further research or make predictions about the system being simulated."
   ]
  },
  {
   "attachments": {},
   "cell_type": "markdown",
   "metadata": {},
   "source": [
    "## Simpy Random Statistics\n",
    "\n",
    "Simpy random statistics is a type of descriptive statistics that uses random sampling methods to measure certain characteristics of a population. This type of statistics is concerned with the distribution of a population’s characteristics, and it can be used to make inferences about the population as a whole."
   ]
  },
  {
   "attachments": {},
   "cell_type": "markdown",
   "metadata": {},
   "source": [
    "## Example\n",
    "\n",
    "Let’s say we want to model and simulate the spread of an infectious disease in a given population. We can create a model in Python of the disease’s transmission and spread through the population, accounting for factors like the infectiousness of the disease, the rate of contact between individuals, and the effectiveness of preventative measures. We can then use this model to simulate the spread of the disease over time, tracking the number of people infected, the number of people recovered, and any other variables that we might be interested in. This allows us to know how the disease spreads and make predictions about the future behavior of the disease."
   ]
  },
  {
   "cell_type": "code",
   "execution_count": 4,
   "metadata": {},
   "outputs": [],
   "source": [
    "import random\n",
    "import pandas as pd"
   ]
  },
  {
   "cell_type": "code",
   "execution_count": 2,
   "metadata": {},
   "outputs": [],
   "source": [
    "class Population:\n",
    "    def __init__(self, size, infection_rate):\n",
    "        self.size = size\n",
    "        self.infection_rate = infection_rate\n",
    "        self.healthy = size\n",
    "        self.infected = 0\n",
    "        self.recovered = 0\n",
    "    \n",
    "    def spread_disease(self):\n",
    "        new_infections = self.infection_rate * self.healthy\n",
    "\n",
    "        self.healthy -= new_infections\n",
    "        self.infected += new_infections\n",
    "\n",
    "        recoveries = self.infected * random.uniform(0.1, 00.15)\n",
    "        \n",
    "        self.infected -= recoveries\n",
    "        self.recovered += recoveries\n"
   ]
  },
  {
   "cell_type": "code",
   "execution_count": 3,
   "metadata": {},
   "outputs": [],
   "source": [
    "# Initialize the population with 1000 individuals and an infection rate of 0.01\n",
    "population = Population(1000, 0.01)"
   ]
  },
  {
   "cell_type": "code",
   "execution_count": 5,
   "metadata": {},
   "outputs": [],
   "source": [
    "# Simulate the spread of the disease for 100 time steps\n",
    "data = []\n",
    "\n",
    "for i in range(50):\n",
    "    population.spread_disease()\n",
    "    healthy = population.healthy\n",
    "    infected = population.infected\n",
    "    recovered = population.recovered\n",
    "\n",
    "    d = {\"healthy\": healthy, \"infected\": infected, \"recovered\": recovered}\n",
    "    data.append(d)\n",
    "\n",
    "df = pd.DataFrame(data)"
   ]
  },
  {
   "cell_type": "code",
   "execution_count": 6,
   "metadata": {},
   "outputs": [
    {
     "data": {
      "text/html": [
       "<div>\n",
       "<style scoped>\n",
       "    .dataframe tbody tr th:only-of-type {\n",
       "        vertical-align: middle;\n",
       "    }\n",
       "\n",
       "    .dataframe tbody tr th {\n",
       "        vertical-align: top;\n",
       "    }\n",
       "\n",
       "    .dataframe thead th {\n",
       "        text-align: right;\n",
       "    }\n",
       "</style>\n",
       "<table border=\"1\" class=\"dataframe\">\n",
       "  <thead>\n",
       "    <tr style=\"text-align: right;\">\n",
       "      <th></th>\n",
       "      <th>healthy</th>\n",
       "      <th>infected</th>\n",
       "      <th>recovered</th>\n",
       "    </tr>\n",
       "  </thead>\n",
       "  <tbody>\n",
       "    <tr>\n",
       "      <th>0</th>\n",
       "      <td>990.00000</td>\n",
       "      <td>8.733398</td>\n",
       "      <td>1.266602</td>\n",
       "    </tr>\n",
       "    <tr>\n",
       "      <th>1</th>\n",
       "      <td>980.10000</td>\n",
       "      <td>16.671540</td>\n",
       "      <td>3.228460</td>\n",
       "    </tr>\n",
       "    <tr>\n",
       "      <th>2</th>\n",
       "      <td>970.29900</td>\n",
       "      <td>22.582072</td>\n",
       "      <td>7.118928</td>\n",
       "    </tr>\n",
       "    <tr>\n",
       "      <th>3</th>\n",
       "      <td>960.59601</td>\n",
       "      <td>28.539987</td>\n",
       "      <td>10.864003</td>\n",
       "    </tr>\n",
       "    <tr>\n",
       "      <th>4</th>\n",
       "      <td>950.99005</td>\n",
       "      <td>33.636989</td>\n",
       "      <td>15.372961</td>\n",
       "    </tr>\n",
       "  </tbody>\n",
       "</table>\n",
       "</div>"
      ],
      "text/plain": [
       "     healthy   infected  recovered\n",
       "0  990.00000   8.733398   1.266602\n",
       "1  980.10000  16.671540   3.228460\n",
       "2  970.29900  22.582072   7.118928\n",
       "3  960.59601  28.539987  10.864003\n",
       "4  950.99005  33.636989  15.372961"
      ]
     },
     "execution_count": 6,
     "metadata": {},
     "output_type": "execute_result"
    }
   ],
   "source": [
    "df.head()"
   ]
  },
  {
   "cell_type": "code",
   "execution_count": 7,
   "metadata": {},
   "outputs": [
    {
     "data": {
      "text/html": [
       "<div>\n",
       "<style scoped>\n",
       "    .dataframe tbody tr th:only-of-type {\n",
       "        vertical-align: middle;\n",
       "    }\n",
       "\n",
       "    .dataframe tbody tr th {\n",
       "        vertical-align: top;\n",
       "    }\n",
       "\n",
       "    .dataframe thead th {\n",
       "        text-align: right;\n",
       "    }\n",
       "</style>\n",
       "<table border=\"1\" class=\"dataframe\">\n",
       "  <thead>\n",
       "    <tr style=\"text-align: right;\">\n",
       "      <th></th>\n",
       "      <th>healthy</th>\n",
       "      <th>infected</th>\n",
       "      <th>recovered</th>\n",
       "    </tr>\n",
       "  </thead>\n",
       "  <tbody>\n",
       "    <tr>\n",
       "      <th>45</th>\n",
       "      <td>629.823631</td>\n",
       "      <td>48.235268</td>\n",
       "      <td>321.941101</td>\n",
       "    </tr>\n",
       "    <tr>\n",
       "      <th>46</th>\n",
       "      <td>623.525395</td>\n",
       "      <td>48.082072</td>\n",
       "      <td>328.392533</td>\n",
       "    </tr>\n",
       "    <tr>\n",
       "      <th>47</th>\n",
       "      <td>617.290141</td>\n",
       "      <td>47.364614</td>\n",
       "      <td>335.345245</td>\n",
       "    </tr>\n",
       "    <tr>\n",
       "      <th>48</th>\n",
       "      <td>611.117240</td>\n",
       "      <td>46.414203</td>\n",
       "      <td>342.468558</td>\n",
       "    </tr>\n",
       "    <tr>\n",
       "      <th>49</th>\n",
       "      <td>605.006067</td>\n",
       "      <td>45.446842</td>\n",
       "      <td>349.547090</td>\n",
       "    </tr>\n",
       "  </tbody>\n",
       "</table>\n",
       "</div>"
      ],
      "text/plain": [
       "       healthy   infected   recovered\n",
       "45  629.823631  48.235268  321.941101\n",
       "46  623.525395  48.082072  328.392533\n",
       "47  617.290141  47.364614  335.345245\n",
       "48  611.117240  46.414203  342.468558\n",
       "49  605.006067  45.446842  349.547090"
      ]
     },
     "execution_count": 7,
     "metadata": {},
     "output_type": "execute_result"
    }
   ],
   "source": [
    "df.tail()"
   ]
  },
  {
   "attachments": {},
   "cell_type": "markdown",
   "metadata": {},
   "source": [
    "## Conclusion\n",
    "\n",
    "Simulation modeling is a powerful tool for understanding and predicting the behavior of complex systems. It is used in a variety of industries to help solve difficult problems. This article discusses the basics of simulation modeling and how it can be used in Python. We have also looked at how to build a simulation model, optimize it, analyze the results, and improve it. Finally, we have discussed simple random statistics along with an example of modeling and simulation."
   ]
  },
  {
   "attachments": {},
   "cell_type": "markdown",
   "metadata": {},
   "source": []
  }
 ],
 "metadata": {
  "kernelspec": {
   "display_name": "Python 3",
   "language": "python",
   "name": "python3"
  },
  "language_info": {
   "codemirror_mode": {
    "name": "ipython",
    "version": 3
   },
   "file_extension": ".py",
   "mimetype": "text/x-python",
   "name": "python",
   "nbconvert_exporter": "python",
   "pygments_lexer": "ipython3",
   "version": "3.7.0"
  },
  "orig_nbformat": 4
 },
 "nbformat": 4,
 "nbformat_minor": 2
}
