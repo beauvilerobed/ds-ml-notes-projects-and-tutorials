{
 "cells": [
  {
   "attachments": {},
   "cell_type": "markdown",
   "metadata": {},
   "source": [
    "# Simple Simulations in Python\n",
    "\n",
    "To write a simulation, we must identify all factors that might influence the outcome of the simulation and write Python code to simulate each of these factors.\n",
    "\n",
    "## Simulation\n",
    "The objective of the code we will develop is to store the results of every run of our simulation in a DataFrame. By storing the data in a DataFrame, you can use all the tools and techniques you already know to select a subset of rows of in a DataFrame, to group data within a DataFrame, to find descriptive statistics about data in the DataFrame, and more!\n",
    "\n",
    "Almost all simulations will follow a similar \"pattern\" where we need to only modify the pattern in a few select areas to create a simulation to solve a variety of different problems.\n",
    "\n",
    "## Simulation Pattern\n",
    "Every simulation we will write will follow a six-step pattern:\n",
    "\n",
    "1. We will create a initially empty Python List called data to accumulate each run of our simulation. This will always be `data = []`.\n",
    "2. We will write a for-loop to run a block of code for each run of our simulation. For a 10,000 run simulation, `for i in range(10000):`.\n",
    "3. Inside of the for-loop, we will simulate all real-world factors. For a simple simulation of a six-sided die roll, `roll = random.randint(1, 6)` is the only real-world variable.\n",
    "4.Inside of the for-loop, we will accumulate all real-world factors we simulated in Python dictionary called `d`. \n",
    "    - We will always name the key in our dictionary the same as our real-world factor, except the key must have quotes around it.\n",
    "\n",
    "    - For example, if you have a single real-world variable roll, our dictionary `d` is: `d = { \"roll\": roll }`.\n",
    "\n",
    "    - If we have two real world variables `red` and `blue`', our dictionary `d` separates the two variables with a comma: `d = { \"red\": red, \"blue\": blue }`.\n",
    "\n",
    "    - If the real-world variable is height, our dictionary `d` is: `d = { \"height\": height }`.\n",
    "\n",
    "    - If we have two real world variables one and two', our dictionary `d` is: `d = { \"one\": one, \"two\": two }`.\n",
    "\n",
    "    - We will always refer to our variable by the variable name itself. (The effect of this is that we are creating a column in our DataFrame labeled with the name of our variable.)\n",
    "5. Inside of the for-loop, we will append our dictionary to our list `data`. This will always be: `data.append(d)`.\n",
    "6. Finally, outside of the for-loop, we will save our `data` as a DataFrame `df`. This will always be: `df = pd.DataFrame(data)`, which creates a DataFrame out of `data`."
   ]
  },
  {
   "attachments": {},
   "cell_type": "markdown",
   "metadata": {},
   "source": [
    "## Simulate Rolling Die\n",
    "\n",
    "One of the most simple simulations we can write is to simulate rolling fair, six-sided die.\n",
    "\n",
    "### Example: Simulating Rolling a Six-sided Die\n",
    "\n",
    "Using the six-sided die example, the full simulation code to simulate rolling a six-sided die 600 times and saving the results will be six lines of code:"
   ]
  },
  {
   "cell_type": "code",
   "execution_count": 4,
   "metadata": {},
   "outputs": [],
   "source": [
    "import random\n",
    "import pandas as pd\n",
    "\n",
    "data = []                      # Step 1, empty list `data`\n",
    "for i in range(600):           # Step 2: for-loop\n",
    "  roll = random.randint(1, 6)  # Step 3: simulate real-world factors\n",
    "  d = { \"roll\": roll }         # Step 4: accumulate factors in dictionary `d`\n",
    "  data.append(d)               # Step 5: append `d` to `data`\n",
    "df = pd.DataFrame(data)        # Step 6: create the DataFrame (outside of the for-loop)"
   ]
  },
  {
   "cell_type": "code",
   "execution_count": 5,
   "metadata": {},
   "outputs": [
    {
     "data": {
      "text/html": [
       "<div>\n",
       "<style scoped>\n",
       "    .dataframe tbody tr th:only-of-type {\n",
       "        vertical-align: middle;\n",
       "    }\n",
       "\n",
       "    .dataframe tbody tr th {\n",
       "        vertical-align: top;\n",
       "    }\n",
       "\n",
       "    .dataframe thead th {\n",
       "        text-align: right;\n",
       "    }\n",
       "</style>\n",
       "<table border=\"1\" class=\"dataframe\">\n",
       "  <thead>\n",
       "    <tr style=\"text-align: right;\">\n",
       "      <th></th>\n",
       "      <th>roll</th>\n",
       "    </tr>\n",
       "  </thead>\n",
       "  <tbody>\n",
       "    <tr>\n",
       "      <th>0</th>\n",
       "      <td>2</td>\n",
       "    </tr>\n",
       "    <tr>\n",
       "      <th>1</th>\n",
       "      <td>2</td>\n",
       "    </tr>\n",
       "    <tr>\n",
       "      <th>2</th>\n",
       "      <td>4</td>\n",
       "    </tr>\n",
       "    <tr>\n",
       "      <th>3</th>\n",
       "      <td>1</td>\n",
       "    </tr>\n",
       "    <tr>\n",
       "      <th>4</th>\n",
       "      <td>2</td>\n",
       "    </tr>\n",
       "  </tbody>\n",
       "</table>\n",
       "</div>"
      ],
      "text/plain": [
       "   roll\n",
       "0     2\n",
       "1     2\n",
       "2     4\n",
       "3     1\n",
       "4     2"
      ]
     },
     "execution_count": 5,
     "metadata": {},
     "output_type": "execute_result"
    }
   ],
   "source": [
    "df.head()"
   ]
  },
  {
   "attachments": {},
   "cell_type": "markdown",
   "metadata": {},
   "source": [
    "### Example: Simulating Rolling Two Six-sided Dice\n",
    "\n",
    "If we want to roll two six-sided dice, there are now two real-world factors that happen every simulation. Let's think of one die as a \"white\" die (variable white) and the other as the \"black\" die (variable black):"
   ]
  },
  {
   "cell_type": "code",
   "execution_count": 6,
   "metadata": {},
   "outputs": [],
   "source": [
    "# Step 1, empty list `data`:\n",
    "data = []\n",
    "\n",
    "# Step 2: for-loop:\n",
    "for i in range(600):\n",
    "  # Step 3: simulate all real-world factors:\n",
    "  black = random.randint(1, 6)  \n",
    "  white = random.randint(1, 6)\n",
    "\n",
    "  # Step 4: accumulate all factors in dictionary `d`:\n",
    "  d = { \"white\": white, \"black\": black }\n",
    "\n",
    "  # Step 5: append `d` to `data`\n",
    "  data.append(d)\n",
    "\n",
    "# Step 6: create the DataFrame (outside of the for-loop)\n",
    "df = pd.DataFrame(data)"
   ]
  },
  {
   "cell_type": "code",
   "execution_count": 7,
   "metadata": {},
   "outputs": [
    {
     "data": {
      "text/html": [
       "<div>\n",
       "<style scoped>\n",
       "    .dataframe tbody tr th:only-of-type {\n",
       "        vertical-align: middle;\n",
       "    }\n",
       "\n",
       "    .dataframe tbody tr th {\n",
       "        vertical-align: top;\n",
       "    }\n",
       "\n",
       "    .dataframe thead th {\n",
       "        text-align: right;\n",
       "    }\n",
       "</style>\n",
       "<table border=\"1\" class=\"dataframe\">\n",
       "  <thead>\n",
       "    <tr style=\"text-align: right;\">\n",
       "      <th></th>\n",
       "      <th>white</th>\n",
       "      <th>black</th>\n",
       "    </tr>\n",
       "  </thead>\n",
       "  <tbody>\n",
       "    <tr>\n",
       "      <th>0</th>\n",
       "      <td>3</td>\n",
       "      <td>4</td>\n",
       "    </tr>\n",
       "    <tr>\n",
       "      <th>1</th>\n",
       "      <td>6</td>\n",
       "      <td>3</td>\n",
       "    </tr>\n",
       "    <tr>\n",
       "      <th>2</th>\n",
       "      <td>6</td>\n",
       "      <td>5</td>\n",
       "    </tr>\n",
       "    <tr>\n",
       "      <th>3</th>\n",
       "      <td>3</td>\n",
       "      <td>6</td>\n",
       "    </tr>\n",
       "    <tr>\n",
       "      <th>4</th>\n",
       "      <td>3</td>\n",
       "      <td>5</td>\n",
       "    </tr>\n",
       "  </tbody>\n",
       "</table>\n",
       "</div>"
      ],
      "text/plain": [
       "   white  black\n",
       "0      3      4\n",
       "1      6      3\n",
       "2      6      5\n",
       "3      3      6\n",
       "4      3      5"
      ]
     },
     "execution_count": 7,
     "metadata": {},
     "output_type": "execute_result"
    }
   ],
   "source": [
    "df.head()"
   ]
  },
  {
   "attachments": {},
   "cell_type": "markdown",
   "metadata": {},
   "source": [
    "### Example: Simulating picking a card from a deck of 52 cards\n",
    "\n",
    "Using Python, collect 30,000 observations of picking a card from a deck of\n",
    "52 cards"
   ]
  },
  {
   "cell_type": "code",
   "execution_count": 8,
   "metadata": {},
   "outputs": [],
   "source": [
    "# imulation using numbers:\n",
    "data = []\n",
    "for i in range(30000):\n",
    "    card = random.randint(1,52)\n",
    "    d = {'card': card}\n",
    "    data.append(d)\n",
    "\n",
    "df = pd.DataFrame(data)"
   ]
  },
  {
   "cell_type": "code",
   "execution_count": 9,
   "metadata": {},
   "outputs": [],
   "source": [
    "# imulation using suit and rank:\n",
    "data = []\n",
    "suits = ['club', 'heart', 'diamond', 'spade']\n",
    "ranks = ['A', '2', '3', '4', '5', '6', '7', '8', '9', '10', 'J', 'Q', 'K']\n",
    "\n",
    "for i in range(30000):\n",
    "    suit = random.choice(suits)\n",
    "    rank = random.choice(ranks)\n",
    "    d = {'suit': suit, 'rank': rank}\n",
    "    data.append(d)\n",
    "\n",
    "df = pd.DataFrame(data)"
   ]
  },
  {
   "cell_type": "code",
   "execution_count": 10,
   "metadata": {},
   "outputs": [
    {
     "data": {
      "text/html": [
       "<div>\n",
       "<style scoped>\n",
       "    .dataframe tbody tr th:only-of-type {\n",
       "        vertical-align: middle;\n",
       "    }\n",
       "\n",
       "    .dataframe tbody tr th {\n",
       "        vertical-align: top;\n",
       "    }\n",
       "\n",
       "    .dataframe thead th {\n",
       "        text-align: right;\n",
       "    }\n",
       "</style>\n",
       "<table border=\"1\" class=\"dataframe\">\n",
       "  <thead>\n",
       "    <tr style=\"text-align: right;\">\n",
       "      <th></th>\n",
       "      <th>suit</th>\n",
       "      <th>rank</th>\n",
       "    </tr>\n",
       "  </thead>\n",
       "  <tbody>\n",
       "    <tr>\n",
       "      <th>0</th>\n",
       "      <td>heart</td>\n",
       "      <td>8</td>\n",
       "    </tr>\n",
       "    <tr>\n",
       "      <th>1</th>\n",
       "      <td>spade</td>\n",
       "      <td>9</td>\n",
       "    </tr>\n",
       "    <tr>\n",
       "      <th>2</th>\n",
       "      <td>diamond</td>\n",
       "      <td>5</td>\n",
       "    </tr>\n",
       "    <tr>\n",
       "      <th>3</th>\n",
       "      <td>spade</td>\n",
       "      <td>5</td>\n",
       "    </tr>\n",
       "    <tr>\n",
       "      <th>4</th>\n",
       "      <td>spade</td>\n",
       "      <td>J</td>\n",
       "    </tr>\n",
       "  </tbody>\n",
       "</table>\n",
       "</div>"
      ],
      "text/plain": [
       "      suit rank\n",
       "0    heart    8\n",
       "1    spade    9\n",
       "2  diamond    5\n",
       "3    spade    5\n",
       "4    spade    J"
      ]
     },
     "execution_count": 10,
     "metadata": {},
     "output_type": "execute_result"
    }
   ],
   "source": [
    "df.head()"
   ]
  },
  {
   "attachments": {},
   "cell_type": "markdown",
   "metadata": {},
   "source": [
    "### Analysis\n",
    "\n",
    "1. What is the estimation of the probability of drawing a heart?\n",
    "- 30000*(13/52) = 30000*(1/4) = 7500\n",
    "\n",
    "2. What is the estimation of the probability of drawing a queen?\n",
    "- 30000*(4/52) = 30000*(1/13) $\\approx$ 2308"
   ]
  },
  {
   "cell_type": "code",
   "execution_count": 17,
   "metadata": {},
   "outputs": [
    {
     "name": "stdout",
     "output_type": "stream",
     "text": [
      "number of hearts 7406\n",
      "number of queens 2304\n"
     ]
    }
   ],
   "source": [
    "print(\"number of hearts\", len(df[df['suit']=='heart']))\n",
    "print(\"number of queens\", len(df[df['rank']=='Q']))"
   ]
  },
  {
   "cell_type": "code",
   "execution_count": null,
   "metadata": {},
   "outputs": [],
   "source": [
    "len(df[df['suit']=='heart'])"
   ]
  },
  {
   "attachments": {},
   "cell_type": "markdown",
   "metadata": {},
   "source": []
  }
 ],
 "metadata": {
  "kernelspec": {
   "display_name": "Python 3",
   "language": "python",
   "name": "python3"
  },
  "language_info": {
   "codemirror_mode": {
    "name": "ipython",
    "version": 3
   },
   "file_extension": ".py",
   "mimetype": "text/x-python",
   "name": "python",
   "nbconvert_exporter": "python",
   "pygments_lexer": "ipython3",
   "version": "3.7.0"
  },
  "orig_nbformat": 4
 },
 "nbformat": 4,
 "nbformat_minor": 2
}
