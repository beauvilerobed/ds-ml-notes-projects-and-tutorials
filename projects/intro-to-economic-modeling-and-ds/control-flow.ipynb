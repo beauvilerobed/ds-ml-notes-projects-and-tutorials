{
 "cells": [
  {
   "cell_type": "markdown",
   "metadata": {},
   "source": [
    "# Control Flow\n",
    "\n",
    "**Outcomes**\n",
    "\n",
    "- Asset pricing and NPV\n",
    "    - Understand basic principles of pricing assets with deterministic payoffs\n",
    "    - Apply programming with iteration and conditionals to asset pricing examples\n",
    "\n",
    "- Conditionals\n",
    "    - Understand what a conditional is\n",
    "    - Be able to construct `if`/`elif`/`else` conditional blocks\n",
    "    - Understand how conditionals can be used to selectively execute blocks of code\n",
    "\n",
    "- Iteration\n",
    "    - Understand what an iterable is\n",
    "    - Be able to write `for` and `while` loops\n",
    "    - Understand the keywords `break` and `continue`\n",
    "\n",
    "# Net Present Values and Asset Pricing\n",
    "\n",
    "In this notebook, we’ll introduce two related topics from economics:\n",
    "- Net present valuations\n",
    "- Asset pricing\n",
    "\n",
    "In economics and finance, **assets** provide a stream of **payoffs**.\n",
    "\n",
    "These **assets** can be concrete or abstract: a stock pays dividends over time, a bond pays interest, an apple tree provides apples, a job pays wages, and an education provides possible jobs (which, in turn, pay wages). When deciding the price to pay for an asset or how to choose between different alternatives, we need to take into account that most people would prefer to receive 1 payoff today vs. 1 next year.\n",
    "\n",
    "This reflection on consumer preferences leads to the notion of a **discount rate**. If you are indifferent between receiving \\$1 dollar today and \\$1.10 next year, then the discount rate over the next year is $r=0.10$.\n",
    "\n",
    "If we assume that an individuals preferences are consistent over time, then we can apply that same discount rate to valuing assets further into the future. For example, we would expect that the consumer would be indifferent between consuming \\$1.00 today and $(1+r)(1+r) = 1.21$ dollars two years from now (i.e. discount twice).\n",
    "\n",
    "Inverting this formula, 1 delivered two years from now is equivalent to $\\frac{1}{(1+r)^2}$ today.\n",
    "\n",
    "## Net Present Value\n",
    "\n",
    "If an asset pays a stream of payoffs over multiple time periods, then we can use a discount rate to calculate the value to the consumer of a entire sequence of payoffs. Most generally, we enumerate each discrete time period (e.g. year, month, day) by the index $t$ where today is $t=0$ and the asset lives for $T$ periods.\n",
    "\n",
    "List the payoff at each time period as $y_t$, which we will assume, for now, is known in advance. Then if the discount factor is $r\\geq 0$, the consumer \"values\" the payoff $y_t$ delivered at time $t$ as $\\frac{1}{(1+r)^t}$ where we note that if $t=0$, the value is just the current payoff $y_0$.\n",
    "\n",
    "Using this logic, we can write an expression for the value of the entire sequence of payoffs with a sum.\n",
    "\n",
    "$$\n",
    "\\begin{equation}\n",
    "P_0 = \\sum_{t=0}^T\\left(\\frac{1}{1+r}\\right)^ty_t\n",
    "\\end{equation}\\tag{1}\n",
    "$$\n",
    "\n",
    "If $y_t$ is a constant, then we can compute this sum with a simple formula! Below, we present some useful formulas that come from infinite series that we will use to get our net present value formula. For any constant $0 < \\beta < 1$ and integer value $\\tau > 0$,\n",
    "\n",
    "$$\n",
    "\\begin{align}\n",
    "\\sum_{t=0}^\\infty\\beta^t &= \\frac{1}{1-\\beta}\\\\\n",
    "\n",
    "\\sum_{t=0}^\\tau\\beta^t &= \\frac{1-\\beta^{\\tau+1}}{1-\\beta}\\\\\n",
    "\n",
    "\\sum_{t=\\tau}^\\infty\\beta^t &= \\frac{\\beta^{\\tau}}{1-\\beta}\n",
    "\\end{align}\\tag{2}\n",
    "$$\n",
    "\n",
    "In the case of an asset which pays one dollar until time $T$, we can use these formulas, taking $\\beta = \\frac{1}{1+r}$ and $T=\\tau$, to find\n",
    "\n",
    "$$\n",
    "P_0 = \\sum_{t=0}^T\\left(\\frac{1}{1+r}\\right)^t = \\frac{1-\\left(\\frac{1}{1+r}\\right)^{T+1}}{1-\\frac{1}{1+r}}\n",
    "$$\n",
    "\n",
    "Note that we can also consider an asset that lives and pays forever if $T=\\infty$, and from (2), the value of an asset which pays 1 forever is $\\frac{1+r}{r}$."
   ]
  },
  {
   "cell_type": "markdown",
   "metadata": {},
   "source": [
    "# Conditional Statements and Blocks\n",
    "Sometimes, we will only want to execute some piece of code if a certain condition is met. These conditions can be anything. For example, we might add to total sales if the transaction value is positive, but add to total returns if the value is negative. Or, we might want to add up all incurred costs, only if the transaction happened before a certain date. We use **conditionals** to run particular pieces of code when certain criterion are met. Conditionals are closely tied to booleans, so if you don’t remember what those are, go back to the basics notebook for a refresher.\n",
    "\n",
    "The basic syntax for conditionals is\n",
    "\n",
    "```\n",
    "if condition:\n",
    "    # code to run when condition is True\n",
    "else:\n",
    "    # code to run if no conditions above are True\n",
    "```\n",
    "\n",
    "\n",
    "Note that immediately following the condition, there is a colon and that the next line begins with blank spaces. Using 4 spaces is a **very strong** convention, so that is what we do — we recommend that you do the same. Also note that the `else` clause is optional.\n",
    "\n",
    "Let’s see some simple examples."
   ]
  },
  {
   "cell_type": "code",
   "execution_count": null,
   "metadata": {},
   "outputs": [],
   "source": [
    "if True:\n",
    "    print(\"This is where `True` code is run\")"
   ]
  },
  {
   "cell_type": "markdown",
   "metadata": {},
   "source": [
    "Alternatively, you could have a test which returns a booleans"
   ]
  },
  {
   "cell_type": "code",
   "execution_count": 1,
   "metadata": {},
   "outputs": [
    {
     "name": "stdout",
     "output_type": "stream",
     "text": [
      "This is where `True` code is run\n"
     ]
    }
   ],
   "source": [
    "if 1 < 2:\n",
    "     print(\"This is where `True` code is run\")"
   ]
  },
  {
   "cell_type": "markdown",
   "metadata": {},
   "source": [
    "This example is equivalent to just typing the print statement, but the example below isn’t…"
   ]
  },
  {
   "cell_type": "code",
   "execution_count": 2,
   "metadata": {},
   "outputs": [],
   "source": [
    "if False:\n",
    "    print(\"This is where `True` code is run\")"
   ]
  },
  {
   "cell_type": "markdown",
   "metadata": {},
   "source": [
    "Or"
   ]
  },
  {
   "cell_type": "code",
   "execution_count": 3,
   "metadata": {},
   "outputs": [],
   "source": [
    "if 1 > 2:\n",
    "     print(\"This is where `True` code is run\")"
   ]
  },
  {
   "cell_type": "markdown",
   "metadata": {},
   "source": [
    "Notice that when you run the cells above nothing is printed. That is because the condition for the `if` statement was not true, so the code inside the indented block was never run.\n",
    "\n",
    "This also allows us to demonstrate the role of **indentation** in determining the “block” of code."
   ]
  },
  {
   "cell_type": "code",
   "execution_count": 4,
   "metadata": {},
   "outputs": [
    {
     "name": "stdout",
     "output_type": "stream",
     "text": [
      "Code runs after 'if' block, regardless of val\n"
     ]
    }
   ],
   "source": [
    "val = False\n",
    "\n",
    "if val is True: # check an expression\n",
    "    print(\"This is where `True` code is run\")\n",
    "    print(\"More code in the if block\")\n",
    "print(\"Code runs after 'if' block, regardless of val\")"
   ]
  },
  {
   "cell_type": "markdown",
   "metadata": {},
   "source": [
    "The next example shows us how `else` works."
   ]
  },
  {
   "cell_type": "code",
   "execution_count": 5,
   "metadata": {},
   "outputs": [
    {
     "name": "stdout",
     "output_type": "stream",
     "text": [
      "This is where `False` code is run\n",
      "More else code\n",
      "Code runs after 'if' block, regardless of val\n"
     ]
    }
   ],
   "source": [
    "val = (2 == 4)  # returns False\n",
    "if val is True:\n",
    "    print(\"This is where `True` code is run\")\n",
    "else:\n",
    "    print(\"This is where `False` code is run\")\n",
    "    print(\"More else code\")\n",
    "print(\"Code runs after 'if' block, regardless of val\")"
   ]
  },
  {
   "cell_type": "markdown",
   "metadata": {},
   "source": [
    "The `if False: ...` part of this example is the same as the example before, but now, we added an `else:` clause. In this case, because the conditional for the `if` statement was not `True`, the if code block was not executed, but the `else` block was. Finally, the `Condition is True` is assumed in the `if` statement, and is often left out. For example, the following are identical"
   ]
  },
  {
   "cell_type": "code",
   "execution_count": 6,
   "metadata": {},
   "outputs": [
    {
     "name": "stdout",
     "output_type": "stream",
     "text": [
      "1 < 2\n",
      "1 < 2\n"
     ]
    }
   ],
   "source": [
    "if (1 < 2) is True:\n",
    "    print(\"1 < 2\")\n",
    "\n",
    "if 1 < 2:\n",
    "    print(\"1 < 2\")"
   ]
  },
  {
   "cell_type": "markdown",
   "metadata": {},
   "source": [
    "## `elif` clauses\n",
    "Sometimes, you have more than one condition you want to check. For example, you might want to run a different set of code based on which quarter a particular transaction took place in. In this case you could check whether the date is in Q1, or in Q2, or in Q3, or if not any of these it must be in Q4. The way to express this type of conditional is to use one or more `elif` clause in addition to the `if` and the `else`.\n",
    "\n",
    "The syntax is\n",
    "\n",
    "```\n",
    "if condition1:\n",
    "    # code to run when condition1 is True\n",
    "elif condition2:\n",
    "    # code to run when condition2 is True\n",
    "elif condition3:\n",
    "    # code to run when condition3 is True\n",
    "else:\n",
    "    # code to run when none of the above are true\n",
    "```\n",
    "\n",
    "You can include as many `elif` clauses as you want. As before, the `else` part is optional.\n",
    "\n",
    "Here’s how we might express the quarter example referred to above."
   ]
  },
  {
   "cell_type": "code",
   "execution_count": 27,
   "metadata": {},
   "outputs": [
    {
     "name": "stdout",
     "output_type": "stream",
     "text": [
      "Halloween is in Q4\n"
     ]
    }
   ],
   "source": [
    "import datetime\n",
    "halloween = datetime.date(2017, 10, 31)\n",
    "\n",
    "if halloween.month > 9:\n",
    "    print(\"Halloween is in Q4\")\n",
    "elif halloween.month > 6:\n",
    "    print(\"Halloween is in Q3\")\n",
    "elif halloween.month > 3:\n",
    "    print(\"Halloween is in Q2\")\n",
    "else:\n",
    "    print(\"Halloween is in Q1\")"
   ]
  },
  {
   "cell_type": "markdown",
   "metadata": {},
   "source": [
    "Note that when there are multiple `if` or `elif` conditions, only the code corresponding to the **first** true clause is run. We saw this in action above. We know that when `halloween.month > 9` is true, then `halloween.month > 6` and `halloween.month > 3` must also be true, but only the code block associated with `halloween.month > 9` was printed.\n",
    "\n",
    "# Iteration\n",
    "When doing computations or analyzing data, we often need to repeat certain operations a finite number of times or until some condition is met. Examples include processing all data files in a directory (folder), aggregating revenues and costs for every period in a year, or computing the net present value of certain assets. (In fact, we will verify the equations that we wrote down above.) These are all examples of a programming concept called iteration. We feel the concept is best understood through example, so we will present a contrived example and then discuss the details behind doing iteration in Python.\n",
    "\n",
    "## A Contrived Example\n",
    "Suppose we wanted to print out the first 10 integers and their squares. We *could* do something like this."
   ]
  },
  {
   "cell_type": "code",
   "execution_count": 7,
   "metadata": {},
   "outputs": [
    {
     "name": "stdout",
     "output_type": "stream",
     "text": [
      "1**2 = 1\n",
      "2**2 = 4\n",
      "3**2 = 9\n",
      "4**2 = 16\n"
     ]
    }
   ],
   "source": [
    "print(f\"1**2 = {1**2}\")\n",
    "print(f\"2**2 = {2**2}\")\n",
    "print(f\"3**2 = {3**2}\")\n",
    "print(f\"4**2 = {4**2}\")\n",
    "# .. and so on until 10"
   ]
  },
  {
   "cell_type": "markdown",
   "metadata": {},
   "source": [
    "As you can see, the code above is repetitive. For each integer, the code is exactly the same except for the two places where the “current” integer appears. Suppose that I asked you to write the same print statement for an `int` stored in a variable named `i`.\n",
    "\n",
    "You might write the following code:\n",
    "\n",
    "```\n",
    "print(f\"{i}**2 = {i**2}\")\n",
    "```\n",
    "\n",
    "This more general version of the operation suggests a strategy for achieving our goal with less repetition: have a variable `i` take on the values 1 through 10 (Quiz: How can we use `range` to create the numbers 1 to 10?) and run the line of code above for each new value of `i`.\n",
    "\n",
    "This can be accomplished with a `for` loop!"
   ]
  },
  {
   "cell_type": "code",
   "execution_count": 9,
   "metadata": {},
   "outputs": [
    {
     "name": "stdout",
     "output_type": "stream",
     "text": [
      "1**2 = 1\n",
      "2**2 = 4\n",
      "3**2 = 9\n",
      "4**2 = 16\n",
      "5**2 = 25\n",
      "6**2 = 36\n",
      "7**2 = 49\n",
      "8**2 = 64\n",
      "9**2 = 81\n",
      "10**2 = 100\n"
     ]
    }
   ],
   "source": [
    "for i in range(1, 11):\n",
    "     print(f\"{i}**2 = {i**2}\")"
   ]
  },
  {
   "cell_type": "markdown",
   "metadata": {},
   "source": [
    "The integer `i` took on the values in `range(1, 11)` one by one and for each new value it did the operations in the indented block (here just one line that called the `print` function).\n",
    "\n",
    "## `for` Loops\n",
    "The general structure of a standard for loop is as follows.\n",
    "\n",
    "```\n",
    "for item in iterable:\n",
    "   # operation 1 with item\n",
    "   # operation 2 with item\n",
    "   # ...\n",
    "   # operation N with item\n",
    "```\n",
    "\n",
    "where `iterable` is anything capable of producing one item at a time (see [here](https://docs.python.org/3/glossary.html#term-iterable) for official definition from the Python team). We’ve actually already seen some of the most common iterables!\n",
    "- Lists\n",
    "- tuples, dicts\n",
    "- range\n",
    "- zip\n",
    "- enumerate \n",
    "\n",
    "objects are all iterables. Note that we can have as many operations as we want inside the indented block. We will refer to the indented block as the “body” of the loop. When the for loop is executed, `item` will take on one value from `iterable` at a time and execute the loop body for each value. When iterating, each `item` in `iterable` might actually contain more than one value.\n",
    "\n",
    "Recall that tuples (and lists) can be unpacked directly into variables."
   ]
  },
  {
   "cell_type": "code",
   "execution_count": 10,
   "metadata": {},
   "outputs": [
    {
     "name": "stdout",
     "output_type": "stream",
     "text": [
      "i = 4, x = test, tup = (4, 'test')\n"
     ]
    }
   ],
   "source": [
    "tup = (4, \"test\")\n",
    "i, x = tup\n",
    "print(f\"i = {i}, x = {x}, tup = {tup}\")"
   ]
  },
  {
   "cell_type": "markdown",
   "metadata": {},
   "source": [
    "Also, recall that the value of a `enumerate(iterable)` is a tuple of the form `(i, x)` where `iterable[i] == x`. When we use `enumerate` in a for loop, we can “unpack” both values at the same time as follows:"
   ]
  },
  {
   "cell_type": "code",
   "execution_count": 11,
   "metadata": {},
   "outputs": [
    {
     "name": "stdout",
     "output_type": "stream",
     "text": [
      "quarter 0 revenue is $5.12 million\n",
      "quarter 1 revenue is $5.2 million\n",
      "quarter 2 revenue is $5.5 million\n",
      "quarter 3 revenue is $6.5 million\n"
     ]
    }
   ],
   "source": [
    "# revenue by quarter\n",
    "company_revenue = [5.12, 5.20, 5.50, 6.50]\n",
    "\n",
    "for index, value in enumerate(company_revenue):\n",
    "    print(f\"quarter {index} revenue is ${value} million\")"
   ]
  },
  {
   "cell_type": "markdown",
   "metadata": {},
   "source": [
    "Similarly, the index can be used to access another vector."
   ]
  },
  {
   "cell_type": "code",
   "execution_count": 12,
   "metadata": {},
   "outputs": [
    {
     "name": "stdout",
     "output_type": "stream",
     "text": [
      "Phoenix is in Arizona\n",
      "Austin is in Texas\n",
      "San Diego is in California\n",
      "New York is in New York\n"
     ]
    }
   ],
   "source": [
    "cities = [\"Phoenix\", \"Austin\", \"San Diego\", \"New York\"]\n",
    "states = [\"Arizona\", \"Texas\", \"California\", \"New York\"]\n",
    "for index, city in enumerate(cities):\n",
    "    state = states[index]\n",
    "    print(f\"{city} is in {state}\")"
   ]
  },
  {
   "cell_type": "markdown",
   "metadata": {},
   "source": [
    "## `while` Loops\n",
    "A related but slightly different form of iteration is to repeat something until some condition is met. This is typically achieved using a `while` loop.\n",
    "\n",
    "The structure of a while loop is\n",
    "\n",
    "```\n",
    "while True_condition:\n",
    "    # repeat these steps\n",
    "```\n",
    "\n",
    "where `True_condition` is some conditional statement that should evaluate to `True` when iterations should continue and `False` when Python should stop iterating.\n",
    "\n",
    "For example, suppose we wanted to know the smallest `N` such that $\\sum_{i=0}^N i > 1000$. We figure this out using a while loop as follows."
   ]
  },
  {
   "cell_type": "code",
   "execution_count": 13,
   "metadata": {},
   "outputs": [
    {
     "name": "stdout",
     "output_type": "stream",
     "text": [
      "The answer is 45\n"
     ]
    }
   ],
   "source": [
    "total = 0\n",
    "i = 0\n",
    "while total <= 1000:\n",
    "    i = i + 1\n",
    "    total = total + i\n",
    "\n",
    "print(\"The answer is\", i)"
   ]
  },
  {
   "cell_type": "markdown",
   "metadata": {},
   "source": [
    "Let’s check our work."
   ]
  },
  {
   "cell_type": "code",
   "execution_count": 14,
   "metadata": {},
   "outputs": [
    {
     "data": {
      "text/plain": [
       "990"
      ]
     },
     "execution_count": 14,
     "metadata": {},
     "output_type": "execute_result"
    }
   ],
   "source": [
    "# Should be just less than 1000 because range(45) goes from 0 to 44\n",
    "sum(range(45))"
   ]
  },
  {
   "cell_type": "code",
   "execution_count": 15,
   "metadata": {},
   "outputs": [
    {
     "data": {
      "text/plain": [
       "1035"
      ]
     },
     "execution_count": 15,
     "metadata": {},
     "output_type": "execute_result"
    }
   ],
   "source": [
    "# should be between 990 + 45 = 1035\n",
    "sum(range(46))"
   ]
  },
  {
   "cell_type": "markdown",
   "metadata": {},
   "source": [
    "> ### A Warning: \n",
    "> one common programming error with while loops is to forget to set the variable you use in the condition prior to executing. For example, take the following code which correctly sets a counter"
   ]
  },
  {
   "cell_type": "code",
   "execution_count": 16,
   "metadata": {},
   "outputs": [
    {
     "name": "stdout",
     "output_type": "stream",
     "text": [
      "0\n",
      "1\n",
      "2\n",
      "done\n"
     ]
    }
   ],
   "source": [
    "i = 0\n",
    "\n",
    "# And then executes a while loop\n",
    "\n",
    "while i < 3:\n",
    "    print(i)\n",
    "    i = i + 1\n",
    "print(\"done\")"
   ]
  },
  {
   "cell_type": "markdown",
   "metadata": {},
   "source": [
    "No problems. But if you were to execute the above cell again, or another cell, the `i=3` remains, and code is never executed (since `i < 3` begins as False)."
   ]
  },
  {
   "cell_type": "code",
   "execution_count": 17,
   "metadata": {},
   "outputs": [
    {
     "name": "stdout",
     "output_type": "stream",
     "text": [
      "done\n"
     ]
    }
   ],
   "source": [
    "while i < 3:\n",
    "    print(i)\n",
    "    i = i + 1\n",
    "print(\"done\")"
   ]
  },
  {
   "cell_type": "markdown",
   "metadata": {},
   "source": [
    "## `break` and `continue`\n",
    "**`break` Out of a Loop**\n",
    "\n",
    "Sometimes we want to stop a loop early if some condition is met. Let’s revisit the example of finding the smallest `N` such that \n",
    "$\\sum_{i=0}^N y > 1000$. Clearly `N` must be less than 1000, so we know we will find the answer if we start with a `for` loop over all items in `range(1001)`.\n",
    "\n",
    "Then, we can keep a running total as we proceed and tell Python to stop iterating through our range once total goes above 1000."
   ]
  },
  {
   "cell_type": "code",
   "execution_count": 18,
   "metadata": {},
   "outputs": [
    {
     "name": "stdout",
     "output_type": "stream",
     "text": [
      "The answer is 45\n"
     ]
    }
   ],
   "source": [
    "total = 0\n",
    "for i in range(1001):\n",
    "    total = total + i\n",
    "    if total > 1000:\n",
    "        break\n",
    "\n",
    "print(\"The answer is\", i)"
   ]
  },
  {
   "cell_type": "markdown",
   "metadata": {},
   "source": [
    "**`continue` to the Next Iteration**\n",
    "\n",
    "Sometimes we might want to stop the *body of a loop* early if a condition is met. To do this we can use the `continue` keyword.\n",
    "\n",
    "The basic syntax for doing this is:\n",
    "\n",
    "```\n",
    "for item in iterable:\n",
    "    # always do these operations\n",
    "    if condition:\n",
    "        continue\n",
    "\n",
    "    # only do these operations if condition is False\n",
    "```\n",
    "\n",
    "Inside the loop body, Python will stop that loop iteration of the loop and continue directly to the next iteration when it encounters the `continue` statement. For example, suppose I ask you to loop over the numbers 1 to 10 and print out the message “{i} An odd number!” whenever the number `i` is odd, and do nothing otherwise.\n",
    "\n",
    "You can use continue to do this as follows:"
   ]
  },
  {
   "cell_type": "code",
   "execution_count": 19,
   "metadata": {},
   "outputs": [
    {
     "name": "stdout",
     "output_type": "stream",
     "text": [
      "1 is an odd number!\n",
      "3 is an odd number!\n",
      "5 is an odd number!\n",
      "7 is an odd number!\n",
      "9 is an odd number!\n"
     ]
    }
   ],
   "source": [
    "for i in range(1, 11):\n",
    "    if i % 2 == 0:  # an even number... This is modulus division\n",
    "        continue\n",
    "\n",
    "    print(i, \"is an odd number!\")"
   ]
  },
  {
   "cell_type": "markdown",
   "metadata": {},
   "source": [
    "# Comprehension\n",
    "Often, we will want to perform a very simple operation for every element of some iterable and create a new iterable with these values. This could be done by writing a for loop and saving each value, but often using what is called a *comprehension* is more readable. Like many Python concepts, a comprehension is easiest to understand through example. Imagine that we have a list `x` with a list of numbers. We would like to create a list `x2` which has the squared values of x."
   ]
  },
  {
   "cell_type": "code",
   "execution_count": 20,
   "metadata": {},
   "outputs": [
    {
     "name": "stdout",
     "output_type": "stream",
     "text": [
      "[0, 1, 4, 9]\n",
      "[0, 1, 4, 9]\n"
     ]
    }
   ],
   "source": [
    "x = list(range(4))\n",
    "\n",
    "# Create squared values with a loop\n",
    "x2_loop = []\n",
    "for x_val in x:\n",
    "    x2_loop.append(x_val**2)\n",
    "\n",
    "# Create squared values with a comprehension\n",
    "x2_comp = [x_val**2 for x_val in x]\n",
    "\n",
    "print(x2_loop)\n",
    "print(x2_comp)"
   ]
  },
  {
   "cell_type": "markdown",
   "metadata": {},
   "source": [
    "Notice that much of the same text appears when we do the operation in the loop and when we do the operation with the comprehension.\n",
    "- We need to specify what we are iterating over – in both cases, this is `for x_val in x`.\n",
    "- We need to square each element `x_val**2`.\n",
    "- It needs to be stored somewhere – in `x2_loop`, this is done by appending each element to a list, and in `x2_comp`, this is done automatically because the operation is enclosed in a list.\n",
    "\n",
    "We can do comprehension with many different types of iterables, so we demonstrate a few more below."
   ]
  },
  {
   "cell_type": "code",
   "execution_count": 23,
   "metadata": {},
   "outputs": [
    {
     "data": {
      "text/plain": [
       "{'AAPL': 175.96, 'GOOGL': 1047.43, 'TVIX': 8.38}"
      ]
     },
     "execution_count": 23,
     "metadata": {},
     "output_type": "execute_result"
    }
   ],
   "source": [
    "# Create a dictionary from lists\n",
    "tickers = [\"AAPL\", \"GOOGL\", \"TVIX\"]\n",
    "prices = [175.96, 1047.43, 8.38]\n",
    "d = {key: value for key, value in zip(tickers, prices)}\n",
    "d"
   ]
  },
  {
   "cell_type": "code",
   "execution_count": 24,
   "metadata": {},
   "outputs": [
    {
     "data": {
      "text/plain": [
       "['Seattle', 'Zurich', 'Cupertino']"
      ]
     },
     "execution_count": 24,
     "metadata": {},
     "output_type": "execute_result"
    }
   ],
   "source": [
    "# Create a list from a dictionary\n",
    "d = {\"AMZN\": \"Seattle\", \"TVIX\": \"Zurich\", \"AAPL\": \"Cupertino\"}\n",
    "\n",
    "hq_cities = [d[ticker] for ticker in d.keys()]\n",
    "hq_cities"
   ]
  },
  {
   "cell_type": "code",
   "execution_count": 25,
   "metadata": {},
   "outputs": [
    {
     "data": {
      "text/plain": [
       "[0.0,\n",
       " 0.8414709848078965,\n",
       " 0.9092974268256817,\n",
       " 0.1411200080598672,\n",
       " -0.7568024953079282,\n",
       " -0.9589242746631385,\n",
       " -0.27941549819892586,\n",
       " 0.6569865987187891,\n",
       " 0.9893582466233818,\n",
       " 0.4121184852417566]"
      ]
     },
     "execution_count": 25,
     "metadata": {},
     "output_type": "execute_result"
    }
   ],
   "source": [
    "import math\n",
    "\n",
    "# List from list\n",
    "x = range(10)\n",
    "\n",
    "sin_x = [math.sin(x_val) for x_val in x]\n",
    "sin_x"
   ]
  },
  {
   "cell_type": "markdown",
   "metadata": {},
   "source": [
    "Finally, we can use this approach to build complicated nested dictionaries."
   ]
  },
  {
   "cell_type": "code",
   "execution_count": null,
   "metadata": {},
   "outputs": [
    {
     "name": "stdout",
     "output_type": "stream",
     "text": [
      "{2013: {'gdp': 9.607, 'exports': {'manufacturing': 2.4, 'agriculture': 1.5, 'services': 0.5}}, 2014: {'gdp': 10.48, 'exports': {'manufacturing': 2.5, 'agriculture': 1.4, 'services': 0.9}}, 2015: {'gdp': 11.06, 'exports': {'manufacturing': 2.7, 'agriculture': 1.4, 'services': 1.5}}}\n"
     ]
    },
    {
     "data": {
      "text/plain": [
       "[0.5, 0.9, 1.5]"
      ]
     },
     "execution_count": 26,
     "metadata": {},
     "output_type": "execute_result"
    }
   ],
   "source": [
    "gdp_data = [9.607, 10.48, 11.06]\n",
    "years = [2013, 2014, 2015]\n",
    "exports = [ {\"manufacturing\": 2.4, \"agriculture\": 1.5, \"services\": 0.5},\n",
    "            {\"manufacturing\": 2.5, \"agriculture\": 1.4, \"services\": 0.9},\n",
    "            {\"manufacturing\": 2.7, \"agriculture\": 1.4, \"services\": 1.5}]\n",
    "data = zip(years, gdp_data, exports)\n",
    "data_dict = {year : {\"gdp\" : gdp, \"exports\": exports} for year, gdp, exports in data}\n",
    "print(data_dict)\n",
    "\n",
    "# total exports by year\n",
    "[data_dict[year][\"exports\"][\"services\"] for year in data_dict.keys()]"
   ]
  },
  {
   "cell_type": "markdown",
   "metadata": {},
   "source": [
    "# Exercises"
   ]
  },
  {
   "cell_type": "code",
   "execution_count": null,
   "metadata": {},
   "outputs": [],
   "source": [
    "# 1. Government bonds are often issued as zero-coupon bonds meaning that they make \n",
    "# no payments throughout the entire time that they are held, but, rather make a \n",
    "# single payment at the time of maturity.\n",
    "\n",
    "# How much should you be willing to pay for a zero-coupon bond that paid 100 in \n",
    "# 10 years with an interest rate of 5%?"
   ]
  }
 ],
 "metadata": {
  "kernelspec": {
   "display_name": "Python 3",
   "language": "python",
   "name": "python3"
  },
  "language_info": {
   "codemirror_mode": {
    "name": "ipython",
    "version": 3
   },
   "file_extension": ".py",
   "mimetype": "text/x-python",
   "name": "python",
   "nbconvert_exporter": "python",
   "pygments_lexer": "ipython3",
   "version": "3.7.0"
  }
 },
 "nbformat": 4,
 "nbformat_minor": 2
}
