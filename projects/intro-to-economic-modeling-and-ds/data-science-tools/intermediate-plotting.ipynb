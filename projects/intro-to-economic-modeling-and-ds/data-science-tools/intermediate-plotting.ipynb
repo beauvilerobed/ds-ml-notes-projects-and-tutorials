{
 "cells": [
  {
   "cell_type": "markdown",
   "metadata": {},
   "source": [
    "# Intermediate Plotting\n",
    "\n",
    "**Outcomes**\n",
    "\n",
    "- Be able to build visualizations with multiple subplots  \n",
    "- Add plot elements using data from multiple DataFrames  \n",
    "- Understand the relationship between the matplotlib Figure and Axes\n",
    "  objects  \n",
    "- Customize fonts, legends, axis labels, tick labels, titles, and more!  \n",
    "- Save figures to files to add to presentation, email, or use outside\n",
    "  of a Jupyter notebook  \n",
    "\n",
    "\n",
    "**Data**\n",
    "\n",
    "- iPhone announcement dates  \n",
    "- Apple stock price  "
   ]
  },
  {
   "cell_type": "code",
   "execution_count": 5,
   "metadata": {},
   "outputs": [],
   "source": [
    "import os\n",
    "os.environ[\"NASDAQ_DATA_LINK_API_KEY\"] = \"jEKP58z7JaX6utPkkpEp\"\n",
    "\n",
    "import numpy as np\n",
    "import pandas as pd\n",
    "import matplotlib.pyplot as plt\n",
    "import matplotlib\n",
    "import matplotlib.transforms as transforms\n",
    "import nasdaqdatalink as ndl\n",
    "\n",
    "%matplotlib inline"
   ]
  },
  {
   "cell_type": "markdown",
   "metadata": {},
   "source": [
    "## Introduction\n",
    "\n",
    "We have already seen a few examples of basic visualizations created\n",
    "using the `.plot` method for a DataFrame.\n",
    "\n",
    "When we use the `.plot` method, pandas uses a package called\n",
    "matplotlib that actually creates the visualization.\n",
    "\n",
    "In this notebook, we will dive deeper into the customization options in\n",
    "the DataFrame `.plot` method as well as look under the hood at how to\n",
    "use matplotlib directly to unlock unlimited control over our figures."
   ]
  },
  {
   "cell_type": "markdown",
   "metadata": {},
   "source": [
    "## The Want Operator: Replicate a Professional Figure\n",
    "\n",
    "Visualization is a complex subject.\n",
    "[Many\n",
    "books](https://www.amazon.com/s/ref=nb_sb_noss?url=search-alias%3Dstripbooks&amp;field-keywords=data+visualization&amp;rh=n%3A283155%2Ck%3Adata+visualization)\n",
    "have been written on the subject.\n",
    "We cannot hope to convey all of what is possible in a short notebook, so\n",
    "we thought we’d try something fun instead.\n",
    "\n",
    "Our goal in this notebook is to show off some of the common – and some\n",
    "not-so-common – matplotlib capabilities to try to re-create this\n",
    "striking figure from a Financial Times\n",
    "[article](https://www.ft.com/content/4743ce96-e4bf-11e7-97e2-916d4fbac0da).\n",
    "The figure shows how we can see the anticipation of and response to iPhone\n",
    "announcements in Apple stock share prices.\n",
    "![https://datascience.quantecon.org/_static/aapl_iphone_announcments.png](https://datascience.quantecon.org/_static/aapl_iphone_announcments.png)\n",
    "\n",
    "  \n",
    "Our goal is to replicate the top portion of this figure in this notebook.\n",
    "\n",
    "**Disclaimer**: Many tools you will see in this notebook will be\n",
    "“more advanced” than what you typically use when customizing a plot.\n",
    "Don’t (please!) try to memorize the commands used here – the purpose of\n",
    "the notebook is to show what is possible and expose you a variety of the\n",
    "methods you can use."
   ]
  },
  {
   "cell_type": "markdown",
   "metadata": {},
   "source": [
    "## Data\n",
    "\n",
    "Let’s get the data.\n",
    "First, we create a Series containing the date of each iPhone\n",
    "announcement that appears in the FT original chart.\n",
    "As there have only been 11 of them and we couldn’t find this “dataset”\n",
    "online anywhere, we will do this by hand."
   ]
  },
  {
   "cell_type": "code",
   "execution_count": 6,
   "metadata": {},
   "outputs": [
    {
     "data": {
      "text/plain": [
       "2007-01-09    First iPhone\n",
       "2008-06-09              3G\n",
       "2009-06-08             3GS\n",
       "2011-01-11               4\n",
       "2011-10-04              4S\n",
       "2012-09-12               5\n",
       "2013-09-10           5S/5C\n",
       "2014-09-09        6/6 Plus\n",
       "2015-09-09      6S/6S Plus\n",
       "2016-09-07        7/7 Plus\n",
       "2017-09-12      8/8 Plus/X\n",
       "Name: Model, dtype: object"
      ]
     },
     "execution_count": 6,
     "metadata": {},
     "output_type": "execute_result"
    }
   ],
   "source": [
    "announcement_dates = pd.Series(\n",
    "    [\n",
    "        \"First iPhone\", \"3G\", \"3GS\", \"4\", \"4S\", \"5\", \"5S/5C\", \"6/6 Plus\",\n",
    "        \"6S/6S Plus\", \"7/7 Plus\", \"8/8 Plus/X\"\n",
    "    ],\n",
    "    index=pd.to_datetime([\n",
    "        \"Jan. 9, 2007\", \"Jun. 9, 2008\", \"Jun. 8, 2009\", \"Jan. 11, 2011\",\n",
    "        \"Oct. 4, 2011\", \"Sep. 12, 2012\", \"Sep. 10, 2013\", \"Sep. 9, 2014\",\n",
    "        \"Sep. 9, 2015\", \"Sep. 7, 2016\", \"Sep. 12, 2017\"\n",
    "    ]),\n",
    "    name=\"Model\"\n",
    ")\n",
    "announcement_dates"
   ]
  },
  {
   "cell_type": "markdown",
   "metadata": {},
   "source": [
    "Then, let’s grab Apple’s stock price data from quandl, starting a few\n",
    "weeks before the first announcement."
   ]
  },
  {
   "cell_type": "code",
   "execution_count": 7,
   "metadata": {},
   "outputs": [
    {
     "data": {
      "text/html": [
       "<div>\n",
       "<style scoped>\n",
       "    .dataframe tbody tr th:only-of-type {\n",
       "        vertical-align: middle;\n",
       "    }\n",
       "\n",
       "    .dataframe tbody tr th {\n",
       "        vertical-align: top;\n",
       "    }\n",
       "\n",
       "    .dataframe thead th {\n",
       "        text-align: right;\n",
       "    }\n",
       "</style>\n",
       "<table border=\"1\" class=\"dataframe\">\n",
       "  <thead>\n",
       "    <tr style=\"text-align: right;\">\n",
       "      <th></th>\n",
       "      <th>ticker</th>\n",
       "      <th>open</th>\n",
       "      <th>high</th>\n",
       "      <th>low</th>\n",
       "      <th>close</th>\n",
       "      <th>volume</th>\n",
       "      <th>ex-dividend</th>\n",
       "      <th>split_ratio</th>\n",
       "      <th>adj_open</th>\n",
       "      <th>adj_high</th>\n",
       "      <th>adj_low</th>\n",
       "      <th>adj_close</th>\n",
       "      <th>adj_volume</th>\n",
       "    </tr>\n",
       "    <tr>\n",
       "      <th>date</th>\n",
       "      <th></th>\n",
       "      <th></th>\n",
       "      <th></th>\n",
       "      <th></th>\n",
       "      <th></th>\n",
       "      <th></th>\n",
       "      <th></th>\n",
       "      <th></th>\n",
       "      <th></th>\n",
       "      <th></th>\n",
       "      <th></th>\n",
       "      <th></th>\n",
       "      <th></th>\n",
       "    </tr>\n",
       "  </thead>\n",
       "  <tbody>\n",
       "    <tr>\n",
       "      <th>2017-12-29</th>\n",
       "      <td>AAPL</td>\n",
       "      <td>170.52</td>\n",
       "      <td>170.590</td>\n",
       "      <td>169.220</td>\n",
       "      <td>169.23</td>\n",
       "      <td>25643711.0</td>\n",
       "      <td>0.0</td>\n",
       "      <td>1.0</td>\n",
       "      <td>170.52</td>\n",
       "      <td>170.590</td>\n",
       "      <td>169.220</td>\n",
       "      <td>169.23</td>\n",
       "      <td>25643711.0</td>\n",
       "    </tr>\n",
       "    <tr>\n",
       "      <th>2017-12-28</th>\n",
       "      <td>AAPL</td>\n",
       "      <td>171.00</td>\n",
       "      <td>171.850</td>\n",
       "      <td>170.480</td>\n",
       "      <td>171.08</td>\n",
       "      <td>15997739.0</td>\n",
       "      <td>0.0</td>\n",
       "      <td>1.0</td>\n",
       "      <td>171.00</td>\n",
       "      <td>171.850</td>\n",
       "      <td>170.480</td>\n",
       "      <td>171.08</td>\n",
       "      <td>15997739.0</td>\n",
       "    </tr>\n",
       "    <tr>\n",
       "      <th>2017-12-27</th>\n",
       "      <td>AAPL</td>\n",
       "      <td>170.10</td>\n",
       "      <td>170.780</td>\n",
       "      <td>169.710</td>\n",
       "      <td>170.60</td>\n",
       "      <td>21672062.0</td>\n",
       "      <td>0.0</td>\n",
       "      <td>1.0</td>\n",
       "      <td>170.10</td>\n",
       "      <td>170.780</td>\n",
       "      <td>169.710</td>\n",
       "      <td>170.60</td>\n",
       "      <td>21672062.0</td>\n",
       "    </tr>\n",
       "    <tr>\n",
       "      <th>2017-12-26</th>\n",
       "      <td>AAPL</td>\n",
       "      <td>170.80</td>\n",
       "      <td>171.470</td>\n",
       "      <td>169.679</td>\n",
       "      <td>170.57</td>\n",
       "      <td>32968167.0</td>\n",
       "      <td>0.0</td>\n",
       "      <td>1.0</td>\n",
       "      <td>170.80</td>\n",
       "      <td>171.470</td>\n",
       "      <td>169.679</td>\n",
       "      <td>170.57</td>\n",
       "      <td>32968167.0</td>\n",
       "    </tr>\n",
       "    <tr>\n",
       "      <th>2017-12-22</th>\n",
       "      <td>AAPL</td>\n",
       "      <td>174.68</td>\n",
       "      <td>175.424</td>\n",
       "      <td>174.500</td>\n",
       "      <td>175.01</td>\n",
       "      <td>16052615.0</td>\n",
       "      <td>0.0</td>\n",
       "      <td>1.0</td>\n",
       "      <td>174.68</td>\n",
       "      <td>175.424</td>\n",
       "      <td>174.500</td>\n",
       "      <td>175.01</td>\n",
       "      <td>16052615.0</td>\n",
       "    </tr>\n",
       "  </tbody>\n",
       "</table>\n",
       "</div>"
      ],
      "text/plain": [
       "           ticker    open     high      low   close      volume  ex-dividend  \\\n",
       "date                                                                           \n",
       "2017-12-29   AAPL  170.52  170.590  169.220  169.23  25643711.0          0.0   \n",
       "2017-12-28   AAPL  171.00  171.850  170.480  171.08  15997739.0          0.0   \n",
       "2017-12-27   AAPL  170.10  170.780  169.710  170.60  21672062.0          0.0   \n",
       "2017-12-26   AAPL  170.80  171.470  169.679  170.57  32968167.0          0.0   \n",
       "2017-12-22   AAPL  174.68  175.424  174.500  175.01  16052615.0          0.0   \n",
       "\n",
       "            split_ratio  adj_open  adj_high  adj_low  adj_close  adj_volume  \n",
       "date                                                                         \n",
       "2017-12-29          1.0    170.52   170.590  169.220     169.23  25643711.0  \n",
       "2017-12-28          1.0    171.00   171.850  170.480     171.08  15997739.0  \n",
       "2017-12-27          1.0    170.10   170.780  169.710     170.60  21672062.0  \n",
       "2017-12-26          1.0    170.80   171.470  169.679     170.57  32968167.0  \n",
       "2017-12-22          1.0    174.68   175.424  174.500     175.01  16052615.0  "
      ]
     },
     "execution_count": 7,
     "metadata": {},
     "output_type": "execute_result"
    }
   ],
   "source": [
    "aapl = ndl.get_table('WIKI/PRICES', ticker = ['AAPL'], date = { 'gte': '2006-12-25', 'lte': '2018-01-01' })\n",
    "aapl = aapl.set_index(\"date\")\n",
    "aapl.head()"
   ]
  },
  {
   "cell_type": "markdown",
   "metadata": {},
   "source": [
    "## Warmup\n",
    "\n",
    "Matplotlib figures are composed two main types of Python objects:\n",
    "\n",
    "1. `Figure`: represents the entirety of the visualization  \n",
    "1. `Axes`: A (potentially full) subset of the figure on which things\n",
    "  are drawn  \n",
    "\n",
    "\n",
    "Most of the time, we will customize our plots by calling methods on an\n",
    "Axes object.\n",
    "However, things like setting a title over the entire plot or saving the\n",
    "plot to a file on your computer require methods on a `Figure`.\n",
    "Let’s start by getting our hands dirty and practicing using these\n",
    "objects."
   ]
  },
  {
   "cell_type": "markdown",
   "metadata": {},
   "source": [
    "You should have seen that the object returned by the `.plot` method is\n",
    "a matplotlib Axes.\n",
    "As mentioned above, we can control most aspects of a plot by calling\n",
    "methods on an Axes.\n",
    "\n",
    "Let’s see some examples."
   ]
  },
  {
   "cell_type": "code",
   "execution_count": 8,
   "metadata": {},
   "outputs": [
    {
     "data": {
      "image/png": "[encoded data removed]",
      "text/plain": [
       "<Figure size 432x288 with 1 Axes>"
      ]
     },
     "metadata": {
      "needs_background": "light"
     },
     "output_type": "display_data"
    }
   ],
   "source": [
    "# plot the Adjusted open to account for stock split\n",
    "ax = aapl[\"adj_open\"].plot()\n",
    "\n",
    "# get the figure so we can re-display the plot after making changes\n",
    "fig = ax.get_figure()"
   ]
  },
  {
   "cell_type": "code",
   "execution_count": 9,
   "metadata": {},
   "outputs": [
    {
     "data": {
      "image/png": "[encoded data removed]",
      "text/plain": [
       "<Figure size 432x288 with 1 Axes>"
      ]
     },
     "execution_count": 9,
     "metadata": {},
     "output_type": "execute_result"
    }
   ],
   "source": [
    "# set the title\n",
    "ax.set_title(\"AAPL Adjusted opening price\")\n",
    "\n",
    "fig"
   ]
  },
  {
   "cell_type": "code",
   "execution_count": 10,
   "metadata": {},
   "outputs": [
    {
     "data": {
      "image/png": "[encoded data removed]",
      "text/plain": [
       "<Figure size 432x288 with 1 Axes>"
      ]
     },
     "execution_count": 10,
     "metadata": {},
     "output_type": "execute_result"
    }
   ],
   "source": [
    "ax.set_ylim(0, 200)\n",
    "fig"
   ]
  },
  {
   "cell_type": "code",
   "execution_count": 11,
   "metadata": {},
   "outputs": [
    {
     "data": {
      "image/png": "[encoded data removed]",
      "text/plain": [
       "<Figure size 432x288 with 1 Axes>"
      ]
     },
     "execution_count": 11,
     "metadata": {},
     "output_type": "execute_result"
    }
   ],
   "source": [
    "ax.set_yticks([0, 50, 100, 150, 200])\n",
    "fig"
   ]
  },
  {
   "cell_type": "markdown",
   "metadata": {},
   "source": [
    "We can also create a Figure and Axes beforehand and then tell pandas to\n",
    "plot a DataFrame or Series’ data on the axis.\n",
    "\n",
    "We typically use the `plt.subplots` function to create the Figure and\n",
    "Axes.\n",
    "\n",
    "Below, we use this function to create a Figure that is 10 inches wide by\n",
    "6 inches tall and filled with a one by two grid of Axes objects."
   ]
  },
  {
   "cell_type": "code",
   "execution_count": 12,
   "metadata": {},
   "outputs": [
    {
     "name": "stdout",
     "output_type": "stream",
     "text": [
      "type(fig2):  <class 'matplotlib.figure.Figure'>\n",
      "type(axs):  <class 'numpy.ndarray'>\n",
      "axs2.shape:  (2,)\n"
     ]
    },
    {
     "data": {
      "image/png": "[encoded data removed]",
      "text/plain": [
       "<Figure size 720x432 with 2 Axes>"
      ]
     },
     "metadata": {
      "needs_background": "light"
     },
     "output_type": "display_data"
    }
   ],
   "source": [
    "fig2, axs2 = plt.subplots(1, 2, figsize=(10, 6))\n",
    "\n",
    "print(\"type(fig2): \", type(fig2))\n",
    "print(\"type(axs): \", type(axs2))\n",
    "print(\"axs2.shape: \", axs2.shape)"
   ]
  },
  {
   "cell_type": "markdown",
   "metadata": {},
   "source": [
    "We can plot from our DataFrame directly on our Axes objects by setting\n",
    "the `ax` argument when calling `.plot`."
   ]
  },
  {
   "cell_type": "code",
   "execution_count": 13,
   "metadata": {},
   "outputs": [
    {
     "data": {
      "image/png": "[encoded data removed]",
      "text/plain": [
       "<Figure size 720x432 with 2 Axes>"
      ]
     },
     "execution_count": 13,
     "metadata": {},
     "output_type": "execute_result"
    }
   ],
   "source": [
    "aapl[[\"adj_low\", \"adj_high\"]].plot(ax=axs2[0])\n",
    "aapl[[\"low\", \"high\"]].plot(ax=axs2[1])\n",
    "fig2"
   ]
  },
  {
   "cell_type": "markdown",
   "metadata": {},
   "source": [
    "## Data Cleaning\n",
    "\n",
    "Let’s continue on our path to recreating the Financial Times\n",
    "visualization from above.\n",
    "Before we can actually make the plot, we first have to clean the data.\n",
    "Looking at our goal, we will need share price three days before and\n",
    "after each announcement.\n",
    "We will also need to normalize the share price to be 100 on the day of\n",
    "the announcement and scale the neighboring days accordingly."
   ]
  },
  {
   "cell_type": "code",
   "execution_count": 14,
   "metadata": {},
   "outputs": [
    {
     "data": {
      "text/html": [
       "<div>\n",
       "<style scoped>\n",
       "    .dataframe tbody tr th:only-of-type {\n",
       "        vertical-align: middle;\n",
       "    }\n",
       "\n",
       "    .dataframe tbody tr th {\n",
       "        vertical-align: top;\n",
       "    }\n",
       "\n",
       "    .dataframe thead th {\n",
       "        text-align: right;\n",
       "    }\n",
       "</style>\n",
       "<table border=\"1\" class=\"dataframe\">\n",
       "  <thead>\n",
       "    <tr style=\"text-align: right;\">\n",
       "      <th></th>\n",
       "      <th>ticker</th>\n",
       "      <th>open</th>\n",
       "      <th>high</th>\n",
       "      <th>low</th>\n",
       "      <th>close</th>\n",
       "      <th>volume</th>\n",
       "      <th>ex-dividend</th>\n",
       "      <th>split_ratio</th>\n",
       "      <th>adj_open</th>\n",
       "      <th>adj_high</th>\n",
       "      <th>adj_low</th>\n",
       "      <th>adj_close</th>\n",
       "      <th>adj_volume</th>\n",
       "    </tr>\n",
       "    <tr>\n",
       "      <th>date</th>\n",
       "      <th></th>\n",
       "      <th></th>\n",
       "      <th></th>\n",
       "      <th></th>\n",
       "      <th></th>\n",
       "      <th></th>\n",
       "      <th></th>\n",
       "      <th></th>\n",
       "      <th></th>\n",
       "      <th></th>\n",
       "      <th></th>\n",
       "      <th></th>\n",
       "      <th></th>\n",
       "    </tr>\n",
       "  </thead>\n",
       "  <tbody>\n",
       "    <tr>\n",
       "      <th>2007-01-04</th>\n",
       "      <td>AAPL</td>\n",
       "      <td>84.05</td>\n",
       "      <td>85.95</td>\n",
       "      <td>83.82</td>\n",
       "      <td>85.66</td>\n",
       "      <td>30259300.0</td>\n",
       "      <td>0.0</td>\n",
       "      <td>1.0</td>\n",
       "      <td>10.801596</td>\n",
       "      <td>11.045773</td>\n",
       "      <td>10.772038</td>\n",
       "      <td>11.008504</td>\n",
       "      <td>211815100.0</td>\n",
       "    </tr>\n",
       "    <tr>\n",
       "      <th>2007-01-05</th>\n",
       "      <td>AAPL</td>\n",
       "      <td>85.77</td>\n",
       "      <td>86.20</td>\n",
       "      <td>84.40</td>\n",
       "      <td>85.05</td>\n",
       "      <td>29812200.0</td>\n",
       "      <td>0.0</td>\n",
       "      <td>1.0</td>\n",
       "      <td>11.022640</td>\n",
       "      <td>11.077901</td>\n",
       "      <td>10.846576</td>\n",
       "      <td>10.930110</td>\n",
       "      <td>208685400.0</td>\n",
       "    </tr>\n",
       "    <tr>\n",
       "      <th>2007-01-08</th>\n",
       "      <td>AAPL</td>\n",
       "      <td>85.96</td>\n",
       "      <td>86.53</td>\n",
       "      <td>85.28</td>\n",
       "      <td>85.47</td>\n",
       "      <td>28468100.0</td>\n",
       "      <td>0.0</td>\n",
       "      <td>1.0</td>\n",
       "      <td>11.047058</td>\n",
       "      <td>11.120311</td>\n",
       "      <td>10.959669</td>\n",
       "      <td>10.984086</td>\n",
       "      <td>199276700.0</td>\n",
       "    </tr>\n",
       "    <tr>\n",
       "      <th>2007-01-09</th>\n",
       "      <td>AAPL</td>\n",
       "      <td>86.45</td>\n",
       "      <td>92.98</td>\n",
       "      <td>85.15</td>\n",
       "      <td>92.57</td>\n",
       "      <td>119617800.0</td>\n",
       "      <td>0.0</td>\n",
       "      <td>1.0</td>\n",
       "      <td>11.110030</td>\n",
       "      <td>11.949226</td>\n",
       "      <td>10.942962</td>\n",
       "      <td>11.896535</td>\n",
       "      <td>837324600.0</td>\n",
       "    </tr>\n",
       "    <tr>\n",
       "      <th>2007-01-10</th>\n",
       "      <td>AAPL</td>\n",
       "      <td>94.75</td>\n",
       "      <td>97.80</td>\n",
       "      <td>93.45</td>\n",
       "      <td>97.00</td>\n",
       "      <td>105460000.0</td>\n",
       "      <td>0.0</td>\n",
       "      <td>1.0</td>\n",
       "      <td>12.176696</td>\n",
       "      <td>12.568663</td>\n",
       "      <td>12.009627</td>\n",
       "      <td>12.465852</td>\n",
       "      <td>738220000.0</td>\n",
       "    </tr>\n",
       "  </tbody>\n",
       "</table>\n",
       "</div>"
      ],
      "text/plain": [
       "           ticker   open   high    low  close       volume  ex-dividend  \\\n",
       "date                                                                      \n",
       "2007-01-04   AAPL  84.05  85.95  83.82  85.66   30259300.0          0.0   \n",
       "2007-01-05   AAPL  85.77  86.20  84.40  85.05   29812200.0          0.0   \n",
       "2007-01-08   AAPL  85.96  86.53  85.28  85.47   28468100.0          0.0   \n",
       "2007-01-09   AAPL  86.45  92.98  85.15  92.57  119617800.0          0.0   \n",
       "2007-01-10   AAPL  94.75  97.80  93.45  97.00  105460000.0          0.0   \n",
       "\n",
       "            split_ratio   adj_open   adj_high    adj_low  adj_close  \\\n",
       "date                                                                  \n",
       "2007-01-04          1.0  10.801596  11.045773  10.772038  11.008504   \n",
       "2007-01-05          1.0  11.022640  11.077901  10.846576  10.930110   \n",
       "2007-01-08          1.0  11.047058  11.120311  10.959669  10.984086   \n",
       "2007-01-09          1.0  11.110030  11.949226  10.942962  11.896535   \n",
       "2007-01-10          1.0  12.176696  12.568663  12.009627  12.465852   \n",
       "\n",
       "             adj_volume  \n",
       "date                     \n",
       "2007-01-04  211815100.0  \n",
       "2007-01-05  208685400.0  \n",
       "2007-01-08  199276700.0  \n",
       "2007-01-09  837324600.0  \n",
       "2007-01-10  738220000.0  "
      ]
     },
     "execution_count": 14,
     "metadata": {},
     "output_type": "execute_result"
    }
   ],
   "source": [
    "from pandas.tseries.holiday import USFederalHolidayCalendar\n",
    "from pandas.tseries.offsets import CustomBusinessDay\n",
    "\n",
    "bday_us = CustomBusinessDay(calendar=USFederalHolidayCalendar())\n",
    "\n",
    "def neighbor_dates(date, nbefore=3, nafter=3):\n",
    "    # Make sure the date is a datetime\n",
    "    date = pd.to_datetime(date)\n",
    "\n",
    "    # Create a list of business days\n",
    "    before_and_after = [date + i*bday_us for i in range(-nbefore, nafter+1)]\n",
    "\n",
    "    return before_and_after\n",
    "\n",
    "\n",
    "dates = []\n",
    "for ann_date in announcement_dates.index:\n",
    "    dates.extend(neighbor_dates(ann_date))\n",
    "dates = pd.Series(dates)\n",
    "\n",
    "# Index into our DataFrame using the new dates\n",
    "prices = aapl.loc[dates]\n",
    "prices.head()"
   ]
  },
  {
   "cell_type": "markdown",
   "metadata": {},
   "source": [
    "We now want to bring information on iPhone models into the DataFrame.\n",
    "We do this by:\n",
    "\n",
    "- Joining on the announcement date. This will introduce a new column\n",
    "  named `Model` which has a value in the announcement date but has 3\n",
    "  `NaN` above and below each announcement date (a total of 66\n",
    "  `NaN`)  \n",
    "- Using the methods `ffill` and `bfill`, we can replace these\n",
    "  `NaN`s with the corresponding model names.  \n",
    "- `prices.ffill(limit=3)` will fill the three days *after* the\n",
    "  announcement with the model name (down to 33 Nan)  \n",
    "- `prices.bfill(limit=3)` will fill the three days *before* the\n",
    "  announcement with the model name (no more `NaN`)  "
   ]
  },
  {
   "cell_type": "code",
   "execution_count": 15,
   "metadata": {},
   "outputs": [
    {
     "name": "stdout",
     "output_type": "stream",
     "text": [
      "66\n"
     ]
    },
    {
     "data": {
      "text/plain": [
       "date\n",
       "2007-01-04             NaN\n",
       "2007-01-05             NaN\n",
       "2007-01-08             NaN\n",
       "2007-01-09    First iPhone\n",
       "2007-01-10             NaN\n",
       "2007-01-11             NaN\n",
       "2007-01-12             NaN\n",
       "Name: Model, dtype: object"
      ]
     },
     "execution_count": 15,
     "metadata": {},
     "output_type": "execute_result"
    }
   ],
   "source": [
    "prices = prices.join(announcement_dates)\n",
    "print(prices[\"Model\"].isnull().sum())\n",
    "prices[\"Model\"].head(7)"
   ]
  },
  {
   "cell_type": "code",
   "execution_count": 16,
   "metadata": {},
   "outputs": [
    {
     "name": "stdout",
     "output_type": "stream",
     "text": [
      "33\n"
     ]
    },
    {
     "data": {
      "text/plain": [
       "date\n",
       "2007-01-04             NaN\n",
       "2007-01-05             NaN\n",
       "2007-01-08             NaN\n",
       "2007-01-09    First iPhone\n",
       "2007-01-10    First iPhone\n",
       "2007-01-11    First iPhone\n",
       "2007-01-12    First iPhone\n",
       "Name: Model, dtype: object"
      ]
     },
     "execution_count": 16,
     "metadata": {},
     "output_type": "execute_result"
    }
   ],
   "source": [
    "prices = prices.ffill(limit=3)\n",
    "print(prices[\"Model\"].isnull().sum())\n",
    "prices[\"Model\"].head(7)"
   ]
  },
  {
   "cell_type": "code",
   "execution_count": 17,
   "metadata": {},
   "outputs": [
    {
     "name": "stdout",
     "output_type": "stream",
     "text": [
      "0\n"
     ]
    },
    {
     "data": {
      "text/plain": [
       "date\n",
       "2007-01-04    First iPhone\n",
       "2007-01-05    First iPhone\n",
       "2007-01-08    First iPhone\n",
       "2007-01-09    First iPhone\n",
       "2007-01-10    First iPhone\n",
       "2007-01-11    First iPhone\n",
       "2007-01-12    First iPhone\n",
       "Name: Model, dtype: object"
      ]
     },
     "execution_count": 17,
     "metadata": {},
     "output_type": "execute_result"
    }
   ],
   "source": [
    "prices = prices.bfill(limit=3)\n",
    "print(prices[\"Model\"].isnull().sum())\n",
    "prices[\"Model\"].head(7)"
   ]
  },
  {
   "cell_type": "markdown",
   "metadata": {},
   "source": [
    "Success!\n",
    "\n",
    "Now for the second part of the cleaning: normalize the share price on\n",
    "each announcement date to 100 and scale all neighbors accordingly."
   ]
  },
  {
   "cell_type": "code",
   "execution_count": 18,
   "metadata": {},
   "outputs": [],
   "source": [
    "def scale_by_middle(df):\n",
    "    # How many rows\n",
    "    N = df.shape[0]\n",
    "\n",
    "    # Divide by middle row and scale to 100\n",
    "    # Note: N // 2 is modulus division meaning that it is\n",
    "    #       rounded to nearest whole number)\n",
    "    out = (df[\"open\"] / df.iloc[N // 2][\"open\"]) * 100\n",
    "\n",
    "    # We don't want to keep actual dates, but rather the number\n",
    "    # of days before or after the announcment. Let's set that\n",
    "    # as the index. Note the +1 because range excludes upper limit\n",
    "    out.index = list(range(-(N//2), N//2+1))\n",
    "\n",
    "    # also change the name of this series\n",
    "    out.name = \"DeltaDays\"\n",
    "    return out"
   ]
  },
  {
   "cell_type": "code",
   "execution_count": 19,
   "metadata": {},
   "outputs": [
    {
     "ename": "TypeError",
     "evalue": "scale_by_middle() got an unexpected keyword argument 'include_groups'",
     "output_type": "error",
     "traceback": [
      "\u001b[0;31m---------------------------------------------------------------------------\u001b[0m",
      "\u001b[0;31mTypeError\u001b[0m                                 Traceback (most recent call last)",
      "\u001b[0;32m/Library/Frameworks/Python.framework/Versions/3.7/lib/python3.7/site-packages/pandas/core/groupby/groupby.py\u001b[0m in \u001b[0;36mapply\u001b[0;34m(self, func, *args, **kwargs)\u001b[0m\n\u001b[1;32m    858\u001b[0m             \u001b[0;32mtry\u001b[0m\u001b[0;34m:\u001b[0m\u001b[0;34m\u001b[0m\u001b[0m\n\u001b[0;32m--> 859\u001b[0;31m                 \u001b[0mresult\u001b[0m \u001b[0;34m=\u001b[0m \u001b[0mself\u001b[0m\u001b[0;34m.\u001b[0m\u001b[0m_python_apply_general\u001b[0m\u001b[0;34m(\u001b[0m\u001b[0mf\u001b[0m\u001b[0;34m,\u001b[0m \u001b[0mself\u001b[0m\u001b[0;34m.\u001b[0m\u001b[0m_selected_obj\u001b[0m\u001b[0;34m)\u001b[0m\u001b[0;34m\u001b[0m\u001b[0m\n\u001b[0m\u001b[1;32m    860\u001b[0m             \u001b[0;32mexcept\u001b[0m \u001b[0mTypeError\u001b[0m\u001b[0;34m:\u001b[0m\u001b[0;34m\u001b[0m\u001b[0m\n",
      "\u001b[0;32m/Library/Frameworks/Python.framework/Versions/3.7/lib/python3.7/site-packages/pandas/core/groupby/groupby.py\u001b[0m in \u001b[0;36m_python_apply_general\u001b[0;34m(self, f, data)\u001b[0m\n\u001b[1;32m    891\u001b[0m         \"\"\"\n\u001b[0;32m--> 892\u001b[0;31m         \u001b[0mkeys\u001b[0m\u001b[0;34m,\u001b[0m \u001b[0mvalues\u001b[0m\u001b[0;34m,\u001b[0m \u001b[0mmutated\u001b[0m \u001b[0;34m=\u001b[0m \u001b[0mself\u001b[0m\u001b[0;34m.\u001b[0m\u001b[0mgrouper\u001b[0m\u001b[0;34m.\u001b[0m\u001b[0mapply\u001b[0m\u001b[0;34m(\u001b[0m\u001b[0mf\u001b[0m\u001b[0;34m,\u001b[0m \u001b[0mdata\u001b[0m\u001b[0;34m,\u001b[0m \u001b[0mself\u001b[0m\u001b[0;34m.\u001b[0m\u001b[0maxis\u001b[0m\u001b[0;34m)\u001b[0m\u001b[0;34m\u001b[0m\u001b[0m\n\u001b[0m\u001b[1;32m    893\u001b[0m \u001b[0;34m\u001b[0m\u001b[0m\n",
      "\u001b[0;32m/Library/Frameworks/Python.framework/Versions/3.7/lib/python3.7/site-packages/pandas/core/groupby/ops.py\u001b[0m in \u001b[0;36mapply\u001b[0;34m(self, f, data, axis)\u001b[0m\n\u001b[1;32m    219\u001b[0m             \u001b[0mgroup_axes\u001b[0m \u001b[0;34m=\u001b[0m \u001b[0mgroup\u001b[0m\u001b[0;34m.\u001b[0m\u001b[0maxes\u001b[0m\u001b[0;34m\u001b[0m\u001b[0m\n\u001b[0;32m--> 220\u001b[0;31m             \u001b[0mres\u001b[0m \u001b[0;34m=\u001b[0m \u001b[0mf\u001b[0m\u001b[0;34m(\u001b[0m\u001b[0mgroup\u001b[0m\u001b[0;34m)\u001b[0m\u001b[0;34m\u001b[0m\u001b[0m\n\u001b[0m\u001b[1;32m    221\u001b[0m             \u001b[0;32mif\u001b[0m \u001b[0;32mnot\u001b[0m \u001b[0m_is_indexed_like\u001b[0m\u001b[0;34m(\u001b[0m\u001b[0mres\u001b[0m\u001b[0;34m,\u001b[0m \u001b[0mgroup_axes\u001b[0m\u001b[0;34m)\u001b[0m\u001b[0;34m:\u001b[0m\u001b[0;34m\u001b[0m\u001b[0m\n",
      "\u001b[0;32m/Library/Frameworks/Python.framework/Versions/3.7/lib/python3.7/site-packages/pandas/core/groupby/groupby.py\u001b[0m in \u001b[0;36mf\u001b[0;34m(g)\u001b[0m\n\u001b[1;32m    842\u001b[0m                     \u001b[0;32mwith\u001b[0m \u001b[0mnp\u001b[0m\u001b[0;34m.\u001b[0m\u001b[0merrstate\u001b[0m\u001b[0;34m(\u001b[0m\u001b[0mall\u001b[0m\u001b[0;34m=\u001b[0m\u001b[0;34m\"ignore\"\u001b[0m\u001b[0;34m)\u001b[0m\u001b[0;34m:\u001b[0m\u001b[0;34m\u001b[0m\u001b[0m\n\u001b[0;32m--> 843\u001b[0;31m                         \u001b[0;32mreturn\u001b[0m \u001b[0mfunc\u001b[0m\u001b[0;34m(\u001b[0m\u001b[0mg\u001b[0m\u001b[0;34m,\u001b[0m \u001b[0;34m*\u001b[0m\u001b[0margs\u001b[0m\u001b[0;34m,\u001b[0m \u001b[0;34m**\u001b[0m\u001b[0mkwargs\u001b[0m\u001b[0;34m)\u001b[0m\u001b[0;34m\u001b[0m\u001b[0m\n\u001b[0m\u001b[1;32m    844\u001b[0m \u001b[0;34m\u001b[0m\u001b[0m\n",
      "\u001b[0;31mTypeError\u001b[0m: scale_by_middle() got an unexpected keyword argument 'include_groups'",
      "\nDuring handling of the above exception, another exception occurred:\n",
      "\u001b[0;31mTypeError\u001b[0m                                 Traceback (most recent call last)",
      "\u001b[0;32m/var/folders/yc/b0_qh6xx67scyz1s3xhmn12m0000gn/T/ipykernel_93720/3554074128.py\u001b[0m in \u001b[0;36m<module>\u001b[0;34m\u001b[0m\n\u001b[0;32m----> 1\u001b[0;31m \u001b[0mto_plot\u001b[0m \u001b[0;34m=\u001b[0m \u001b[0mprices\u001b[0m\u001b[0;34m.\u001b[0m\u001b[0mgroupby\u001b[0m\u001b[0;34m(\u001b[0m\u001b[0;34m\"Model\"\u001b[0m\u001b[0;34m)\u001b[0m\u001b[0;34m.\u001b[0m\u001b[0mapply\u001b[0m\u001b[0;34m(\u001b[0m\u001b[0mscale_by_middle\u001b[0m\u001b[0;34m,\u001b[0m \u001b[0minclude_groups\u001b[0m\u001b[0;34m=\u001b[0m\u001b[0;32mFalse\u001b[0m\u001b[0;34m)\u001b[0m\u001b[0;34m.\u001b[0m\u001b[0mT\u001b[0m\u001b[0;34m\u001b[0m\u001b[0m\n\u001b[0m\u001b[1;32m      2\u001b[0m \u001b[0mto_plot\u001b[0m\u001b[0;34m\u001b[0m\u001b[0m\n",
      "\u001b[0;32m/Library/Frameworks/Python.framework/Versions/3.7/lib/python3.7/site-packages/pandas/core/groupby/groupby.py\u001b[0m in \u001b[0;36mapply\u001b[0;34m(self, func, *args, **kwargs)\u001b[0m\n\u001b[1;32m    868\u001b[0m \u001b[0;34m\u001b[0m\u001b[0m\n\u001b[1;32m    869\u001b[0m                 \u001b[0;32mwith\u001b[0m \u001b[0m_group_selection_context\u001b[0m\u001b[0;34m(\u001b[0m\u001b[0mself\u001b[0m\u001b[0;34m)\u001b[0m\u001b[0;34m:\u001b[0m\u001b[0;34m\u001b[0m\u001b[0m\n\u001b[0;32m--> 870\u001b[0;31m                     \u001b[0;32mreturn\u001b[0m \u001b[0mself\u001b[0m\u001b[0;34m.\u001b[0m\u001b[0m_python_apply_general\u001b[0m\u001b[0;34m(\u001b[0m\u001b[0mf\u001b[0m\u001b[0;34m,\u001b[0m \u001b[0mself\u001b[0m\u001b[0;34m.\u001b[0m\u001b[0m_selected_obj\u001b[0m\u001b[0;34m)\u001b[0m\u001b[0;34m\u001b[0m\u001b[0m\n\u001b[0m\u001b[1;32m    871\u001b[0m \u001b[0;34m\u001b[0m\u001b[0m\n\u001b[1;32m    872\u001b[0m         \u001b[0;32mreturn\u001b[0m \u001b[0mresult\u001b[0m\u001b[0;34m\u001b[0m\u001b[0m\n",
      "\u001b[0;32m/Library/Frameworks/Python.framework/Versions/3.7/lib/python3.7/site-packages/pandas/core/groupby/groupby.py\u001b[0m in \u001b[0;36m_python_apply_general\u001b[0;34m(self, f, data)\u001b[0m\n\u001b[1;32m    890\u001b[0m             \u001b[0mdata\u001b[0m \u001b[0mafter\u001b[0m \u001b[0mapplying\u001b[0m \u001b[0mf\u001b[0m\u001b[0;34m\u001b[0m\u001b[0m\n\u001b[1;32m    891\u001b[0m         \"\"\"\n\u001b[0;32m--> 892\u001b[0;31m         \u001b[0mkeys\u001b[0m\u001b[0;34m,\u001b[0m \u001b[0mvalues\u001b[0m\u001b[0;34m,\u001b[0m \u001b[0mmutated\u001b[0m \u001b[0;34m=\u001b[0m \u001b[0mself\u001b[0m\u001b[0;34m.\u001b[0m\u001b[0mgrouper\u001b[0m\u001b[0;34m.\u001b[0m\u001b[0mapply\u001b[0m\u001b[0;34m(\u001b[0m\u001b[0mf\u001b[0m\u001b[0;34m,\u001b[0m \u001b[0mdata\u001b[0m\u001b[0;34m,\u001b[0m \u001b[0mself\u001b[0m\u001b[0;34m.\u001b[0m\u001b[0maxis\u001b[0m\u001b[0;34m)\u001b[0m\u001b[0;34m\u001b[0m\u001b[0m\n\u001b[0m\u001b[1;32m    893\u001b[0m \u001b[0;34m\u001b[0m\u001b[0m\n\u001b[1;32m    894\u001b[0m         return self._wrap_applied_output(\n",
      "\u001b[0;32m/Library/Frameworks/Python.framework/Versions/3.7/lib/python3.7/site-packages/pandas/core/groupby/ops.py\u001b[0m in \u001b[0;36mapply\u001b[0;34m(self, f, data, axis)\u001b[0m\n\u001b[1;32m    218\u001b[0m             \u001b[0;31m# group might be modified\u001b[0m\u001b[0;34m\u001b[0m\u001b[0;34m\u001b[0m\u001b[0m\n\u001b[1;32m    219\u001b[0m             \u001b[0mgroup_axes\u001b[0m \u001b[0;34m=\u001b[0m \u001b[0mgroup\u001b[0m\u001b[0;34m.\u001b[0m\u001b[0maxes\u001b[0m\u001b[0;34m\u001b[0m\u001b[0m\n\u001b[0;32m--> 220\u001b[0;31m             \u001b[0mres\u001b[0m \u001b[0;34m=\u001b[0m \u001b[0mf\u001b[0m\u001b[0;34m(\u001b[0m\u001b[0mgroup\u001b[0m\u001b[0;34m)\u001b[0m\u001b[0;34m\u001b[0m\u001b[0m\n\u001b[0m\u001b[1;32m    221\u001b[0m             \u001b[0;32mif\u001b[0m \u001b[0;32mnot\u001b[0m \u001b[0m_is_indexed_like\u001b[0m\u001b[0;34m(\u001b[0m\u001b[0mres\u001b[0m\u001b[0;34m,\u001b[0m \u001b[0mgroup_axes\u001b[0m\u001b[0;34m)\u001b[0m\u001b[0;34m:\u001b[0m\u001b[0;34m\u001b[0m\u001b[0m\n\u001b[1;32m    222\u001b[0m                 \u001b[0mmutated\u001b[0m \u001b[0;34m=\u001b[0m \u001b[0;32mTrue\u001b[0m\u001b[0;34m\u001b[0m\u001b[0m\n",
      "\u001b[0;32m/Library/Frameworks/Python.framework/Versions/3.7/lib/python3.7/site-packages/pandas/core/groupby/groupby.py\u001b[0m in \u001b[0;36mf\u001b[0;34m(g)\u001b[0m\n\u001b[1;32m    841\u001b[0m                 \u001b[0;32mdef\u001b[0m \u001b[0mf\u001b[0m\u001b[0;34m(\u001b[0m\u001b[0mg\u001b[0m\u001b[0;34m)\u001b[0m\u001b[0;34m:\u001b[0m\u001b[0;34m\u001b[0m\u001b[0m\n\u001b[1;32m    842\u001b[0m                     \u001b[0;32mwith\u001b[0m \u001b[0mnp\u001b[0m\u001b[0;34m.\u001b[0m\u001b[0merrstate\u001b[0m\u001b[0;34m(\u001b[0m\u001b[0mall\u001b[0m\u001b[0;34m=\u001b[0m\u001b[0;34m\"ignore\"\u001b[0m\u001b[0;34m)\u001b[0m\u001b[0;34m:\u001b[0m\u001b[0;34m\u001b[0m\u001b[0m\n\u001b[0;32m--> 843\u001b[0;31m                         \u001b[0;32mreturn\u001b[0m \u001b[0mfunc\u001b[0m\u001b[0;34m(\u001b[0m\u001b[0mg\u001b[0m\u001b[0;34m,\u001b[0m \u001b[0;34m*\u001b[0m\u001b[0margs\u001b[0m\u001b[0;34m,\u001b[0m \u001b[0;34m**\u001b[0m\u001b[0mkwargs\u001b[0m\u001b[0;34m)\u001b[0m\u001b[0;34m\u001b[0m\u001b[0m\n\u001b[0m\u001b[1;32m    844\u001b[0m \u001b[0;34m\u001b[0m\u001b[0m\n\u001b[1;32m    845\u001b[0m             \u001b[0;32melif\u001b[0m \u001b[0mhasattr\u001b[0m\u001b[0;34m(\u001b[0m\u001b[0mnanops\u001b[0m\u001b[0;34m,\u001b[0m \u001b[0;34m\"nan\"\u001b[0m \u001b[0;34m+\u001b[0m \u001b[0mfunc\u001b[0m\u001b[0;34m)\u001b[0m\u001b[0;34m:\u001b[0m\u001b[0;34m\u001b[0m\u001b[0m\n",
      "\u001b[0;31mTypeError\u001b[0m: scale_by_middle() got an unexpected keyword argument 'include_groups'"
     ]
    }
   ],
   "source": [
    "to_plot = prices.groupby(\"Model\").apply(scale_by_middle, include_groups=False).T\n",
    "to_plot"
   ]
  },
  {
   "cell_type": "markdown",
   "metadata": {},
   "source": [
    "Re-order the columns."
   ]
  },
  {
   "cell_type": "code",
   "execution_count": null,
   "metadata": {},
   "outputs": [],
   "source": [
    "to_plot = to_plot[announcement_dates.values]\n",
    "to_plot"
   ]
  },
  {
   "cell_type": "markdown",
   "metadata": {},
   "source": [
    "## Constructing the Plot\n",
    "\n",
    "Now that we have cleaned up the data, let’s construct the plot.\n",
    "We do this by using the DataFrame `.plot` method and then using the\n",
    "matplotlib methods and functions to fine tune our plot, changing one\n",
    "feature or set of features at a time.\n",
    "To prepare our use of the plot method, we will need to set up some data\n",
    "for what color each line should be, as well as where to draw the tick\n",
    "marks on the vertical axis."
   ]
  },
  {
   "cell_type": "code",
   "execution_count": null,
   "metadata": {},
   "outputs": [],
   "source": [
    "# colors\n",
    "background = tuple(np.array([253, 238, 222]) / 255)\n",
    "blue = tuple(np.array([20, 64, 134]) / 255)\n",
    "pink = tuple(np.array([232, 75, 126]) / 255)\n",
    "\n",
    "def get_color(x):\n",
    "    if \"S\" in x:\n",
    "        return pink\n",
    "    else:\n",
    "        return blue\n",
    "\n",
    "colors = announcement_dates.map(get_color).values\n",
    "\n",
    "# yticks\n",
    "yticks = [90, 95, 100, 105, 110, 115]"
   ]
  },
  {
   "cell_type": "markdown",
   "metadata": {},
   "source": [
    "Below, we construct the basic plot using `to_plot.plot`.\n",
    "Notice that we have specified a few options as keyword arguments to our\n",
    "function."
   ]
  },
  {
   "cell_type": "code",
   "execution_count": null,
   "metadata": {},
   "outputs": [],
   "source": [
    "# construct figure and Axes objects\n",
    "fig, axs = plt.subplots(1, 11, sharey=True, figsize=(14, 5))\n",
    "\n",
    "# We can pass our array of Axes and `subplots=True`\n",
    "# because we have one Axes per column\n",
    "to_plot.plot(\n",
    "    ax=axs, subplots=True, legend=False,\n",
    "    yticks=yticks, xticks=[-3, 3],\n",
    "    color=colors, linewidth=3, fontsize=12\n",
    ");"
   ]
  },
  {
   "cell_type": "markdown",
   "metadata": {},
   "source": [
    "### Subplot Spacing: `fig.tight_layout`\n",
    "\n",
    "That figure has the basic lines we are after, but is quite ugly when\n",
    "compared to the FT figure we are trying to produce.\n",
    "Let’s refine the plot one step at a time.\n",
    "First, notice how the `-3` and `3` labels are running into each\n",
    "other?\n",
    "This commonly happens in figures with many subplots.\n",
    "\n",
    "The function `fig.tight_layout()` will fix these problems – as well\n",
    "as most other subplot spacing issues.\n",
    "\n",
    "We *almost always* call this method when building a plot with multiple\n",
    "subplots."
   ]
  },
  {
   "cell_type": "code",
   "execution_count": null,
   "metadata": {},
   "outputs": [],
   "source": [
    "# add some spacing around subplots\n",
    "fig.tight_layout()\n",
    "fig"
   ]
  },
  {
   "cell_type": "markdown",
   "metadata": {},
   "source": [
    "### Properties of the Figure\n",
    "\n",
    "Now, let’s make the background of our figure match the background of the\n",
    "FT post.\n",
    "To do this, we will use the `fig.set_facecolor` method."
   ]
  },
  {
   "cell_type": "code",
   "execution_count": null,
   "metadata": {},
   "outputs": [],
   "source": [
    "# set background color\n",
    "fig.set_facecolor(background)\n",
    "fig"
   ]
  },
  {
   "cell_type": "markdown",
   "metadata": {},
   "source": [
    "### Properties of an `Axes`\n",
    "\n",
    "Notice that this worked for the figure as a whole, but not for any of\n",
    "the Axes.\n",
    "\n",
    "To fix this, we will need to call `.set_facecolor` on each Axes.\n",
    "\n",
    "While we are doing that, let’s fix up a number of other things about the\n",
    "Axes:\n",
    "\n",
    "- Add Axes titles  \n",
    "- Remove the x axis titles  \n",
    "- Remove tick marks on y axis  \n",
    "- Add a “faint” version of the line from the first subplot  \n",
    "- Remove x axis tick labels  \n",
    "- Make x axis ticks longer and semi-transparent  \n",
    "- Make sure all Axes have same y limits  \n",
    "- Remove the spines (the border on each Axes)  \n",
    "- Add a white circle to (0, 100) on each Axes  "
   ]
  },
  {
   "cell_type": "code",
   "execution_count": null,
   "metadata": {},
   "outputs": [],
   "source": [
    "# For each Axes... do the following\n",
    "for i in range(announcement_dates.shape[0]):\n",
    "    ax = axs[i]\n",
    "\n",
    "    # add faint blue line representing impact of original iPhone announcement\n",
    "    to_plot[\"First iPhone\"].plot(ax=ax, color=blue, alpha=0.2, linewidth=3)\n",
    "\n",
    "    # add a title\n",
    "    ti = str(announcement_dates.index[i].year) + \"\\n\" + announcement_dates.iloc[i] + \"\\n\"\n",
    "    ax.set_title(ti)\n",
    "\n",
    "    # set background color of plotting area\n",
    "    ax.set_facecolor(background)\n",
    "\n",
    "    # remove xlabels\n",
    "    ax.set_xlabel(\"\")\n",
    "\n",
    "    # turn of tick marks\n",
    "    ax.tick_params(which=\"both\", left=False, labelbottom=False)\n",
    "\n",
    "    # make x ticks longer and semi-transparent\n",
    "    ax.tick_params(axis=\"x\", length=7.0, color=(0, 0, 0, 0.4))\n",
    "\n",
    "    # set limits on vertical axis\n",
    "    ax.set_ylim((yticks[0], yticks[-1]))\n",
    "\n",
    "    # add a white circle at 0, 100\n",
    "    ax.plot(0, 100, 'o', markeredgecolor=blue, markersize=8, color=\"white\", zorder=10)\n",
    "\n",
    "    # remove border around each subplot\n",
    "    for direction in [\"top\", \"right\", \"left\", \"bottom\"]:\n",
    "        ax.spines[direction].set_visible(False)\n",
    "\n",
    "\n",
    "fig"
   ]
  },
  {
   "cell_type": "code",
   "execution_count": null,
   "metadata": {},
   "outputs": [],
   "source": [
    "# add tick labels to right of iPhone 8/X announcement\n",
    "axs[-1].tick_params(labelright=True, labelsize=12)\n",
    "axs[-1]\n",
    "fig"
   ]
  },
  {
   "cell_type": "markdown",
   "metadata": {},
   "source": [
    "We can also add tick labels for the x-axis ticks on the 1st and 6th\n",
    "plots."
   ]
  },
  {
   "cell_type": "code",
   "execution_count": null,
   "metadata": {},
   "outputs": [],
   "source": [
    "for ax in axs[[0, 5]]:\n",
    "    ax.tick_params(labelbottom=True)\n",
    "    ax.set_xticklabels([\"3 days\\nbefore\", \"3 days\\nafter\"])\n",
    "\n",
    "    # need to make these tick labels centered at tick,\n",
    "    # instead of the default of right aligned\n",
    "    for label in ax.xaxis.get_ticklabels():\n",
    "        label.set_horizontalalignment(\"center\")\n",
    "\n",
    "fig"
   ]
  },
  {
   "cell_type": "markdown",
   "metadata": {},
   "source": [
    "### Transforms and Lines\n",
    "\n",
    "Now we would like to add a horizontal line that lines up with each\n",
    "vertical tick label (the numbers from 90 to 115) and runs across the\n",
    "entire figure.\n",
    "This is actually harder than it sounds because most of the “drawing”\n",
    "capabilities of matplotlib are built around drawing on a single Axes and\n",
    "we want to draw across 11 of them.\n",
    "However, as we promised above, anything *is* possible and we will show\n",
    "you how to do it.\n",
    "When matplotlib draws any data – be it a line, circle, rectangle, or\n",
    "other – it must know what *coordinate system* to use.\n",
    "We typically think about drawing things in the *data’s* coordinate\n",
    "system (remember above how we added a white circle at (0, 100)).\n",
    "\n",
    "However, we might also want to draw using two other coordinate systems:\n",
    "\n",
    "- Figure: the bottom left of the figure is (0, 0) and top right is (1,\n",
    "  1)  \n",
    "- Axes: The bottom left of an Axes is (0, 0) and top right is (1, 1)  \n",
    "\n",
    "\n",
    "For our application, we would like to use the figure’s coordinate system\n",
    "in the `x` dimension (going across the plot), but the data’s\n",
    "coordinate system in the `y` dimension (so we make sure to put the\n",
    "lines at each of our `yticks`).\n",
    "Luckily for us, matplotlib provides a way to use *exactly* that coordinate\n",
    "system."
   ]
  },
  {
   "cell_type": "code",
   "execution_count": null,
   "metadata": {},
   "outputs": [],
   "source": [
    "# create a transform that...\n",
    "trans = transforms.blended_transform_factory(\n",
    "    fig.transFigure,  # goes across whole figure in x direction\n",
    "    axs[0].transData  # goes up with the y data in the first axis\n",
    ")"
   ]
  },
  {
   "cell_type": "markdown",
   "metadata": {},
   "source": [
    "We can now use `trans` to draw lines where the `x` values will map\n",
    "from (0, 1) in the Figure coordinates and the `y` values will go from\n",
    "(90, 115) on the data coordinates."
   ]
  },
  {
   "cell_type": "code",
   "execution_count": null,
   "metadata": {},
   "outputs": [],
   "source": [
    "for y in yticks:\n",
    "    l = plt.Line2D(\n",
    "        # x values found by trial and error\n",
    "        [0.04, 0.985], [y, y],\n",
    "        transform=trans,\n",
    "        color=\"black\", alpha=0.4, linewidth=0.5,\n",
    "        zorder=0.1\n",
    "    )\n",
    "\n",
    "    if y == 100:\n",
    "        l.set_linewidth(1.5)\n",
    "\n",
    "    fig.lines.append(l)\n",
    "\n",
    "fig"
   ]
  },
  {
   "cell_type": "markdown",
   "metadata": {},
   "source": [
    "Now, we need to a add vertical line from the (0, 90) to (0, 100) on the\n",
    "first axis so we can label the center of each line as the announcement\n",
    "date.\n",
    "We will split this line in two to leave room for the text `Announced`\n",
    "to be added soon.\n",
    "To add the lines, we will use the data coordinate system from the first\n",
    "Axes."
   ]
  },
  {
   "cell_type": "code",
   "execution_count": null,
   "metadata": {},
   "outputs": [],
   "source": [
    "for y in ([90, 91.5], [93, 100]):\n",
    "    l = plt.Line2D(\n",
    "        [0, 0], y,\n",
    "        transform=axs[0].transData,\n",
    "        color=\"black\", alpha=0.5, linewidth=1.5, zorder=0.1\n",
    "    )\n",
    "\n",
    "    fig.lines.append(l)\n",
    "fig"
   ]
  },
  {
   "cell_type": "markdown",
   "metadata": {},
   "source": [
    "### Annotations\n",
    "\n",
    "The last step on our journey is to add annotations that mark Tim Cook’s\n",
    "first announcement as CEO, the lackluster market response to `S` model\n",
    "announcements, and a label showing that the white dot on each subplot is\n",
    "associated with the announcement date.\n",
    "\n",
    "Adding text to figures is always a bit verbose, so don’t get too scared\n",
    "by what is happening here."
   ]
  },
  {
   "cell_type": "code",
   "execution_count": null,
   "metadata": {},
   "outputs": [],
   "source": [
    "axs[5].annotate(\n",
    "    \"Tim Cook's first iPhone\\nannouncement as Apple's CEO\",\n",
    "    xy=(0.2, 99.5), xycoords=\"data\", xytext=(-2, 93),\n",
    "    annotation_clip=False,\n",
    "    horizontalalignment=\"right\",\n",
    "    arrowprops={\n",
    "        \"arrowstyle\": \"-|>\",\n",
    "        \"connectionstyle\": \"angle3,angleA=0,angleB=110\",\n",
    "        \"color\": \"black\"\n",
    "    },\n",
    "    fontsize=12,\n",
    ")\n",
    "\n",
    "fig"
   ]
  },
  {
   "cell_type": "code",
   "execution_count": null,
   "metadata": {},
   "outputs": [],
   "source": [
    "for ann in axs[8].texts:\n",
    "    ann.remove()\n",
    "\n",
    "axs[8].annotate(\n",
    "    \"Hardware upgrade 'S' models\\nunderwhelm the market\",\n",
    "    xy=(-5, 99.5), xycoords=\"data\", xytext=(-12, 92),\n",
    "    annotation_clip=False,\n",
    "    horizontalalignment=\"left\",\n",
    "    arrowprops={\"visible\": False},\n",
    "    fontsize=12, fontweight=\"semibold\",\n",
    "    color=pink,\n",
    ")\n",
    "axs[8].set_zorder(0.05)\n",
    "fig"
   ]
  },
  {
   "cell_type": "code",
   "execution_count": null,
   "metadata": {},
   "outputs": [],
   "source": [
    "axs[0].annotate(\n",
    "    \"Announced\",\n",
    "    xy=(0, 99.5), xycoords=\"data\", xytext=(0, 92),\n",
    "    annotation_clip=False,\n",
    "    horizontalalignment=\"center\",\n",
    "    arrowprops={\"visible\": False},\n",
    "    fontsize=12,\n",
    ")\n",
    "fig"
   ]
  },
  {
   "cell_type": "markdown",
   "metadata": {},
   "source": [
    "## Saving the Figure\n",
    "\n",
    "Now that we have a finished product we are happy with, let’s save it to\n",
    "a file on our computer using the `fig.savefig` function."
   ]
  },
  {
   "cell_type": "code",
   "execution_count": null,
   "metadata": {},
   "outputs": [],
   "source": [
    "fig.savefig(\"aapl_iPhone_annoucements.png\", dpi=400, bbox_inches=\"tight\", facecolor=background)"
   ]
  },
  {
   "cell_type": "markdown",
   "metadata": {},
   "source": [
    "Here, we asked matplotlib to save our figure in the `png` format, with\n",
    "400 dots per inch (`dpi`, meaning each inch has a 400 by 400 set of\n",
    "colored points).\n",
    "The `bbox_inches` command is needed here to make sure pandas doesn’t\n",
    "chop off any of our Axes titles or tick labels.\n",
    "The `facecolor` argument was necessary because matplotlib\n",
    "will save figures with a transparent background by default (meaning the background\n",
    "is see-through so it “adopts” the background color of whatever website,\n",
    "document, or presentation is is placed in).\n",
    "\n",
    "We could have chosen a different file format."
   ]
  },
  {
   "cell_type": "code",
   "execution_count": null,
   "metadata": {},
   "outputs": [],
   "source": [
    "fig.savefig(\"aapl_iPhone_annoucements.jpeg\", dpi=400, bbox_inches=\"tight\", facecolor=background)\n",
    "\n",
    "# dpi not needed as pdf is a \"vector\" format that effectively has an infinite dpi\n",
    "fig.savefig(\"aapl_iPhone_annoucements.pdf\", bbox_inches=\"tight\", facecolor=background)\n",
    "\n",
    "# svg is also a vector format\n",
    "fig.savefig(\"aapl_iPhone_annoucements.svg\", bbox_inches=\"tight\", facecolor=background)"
   ]
  },
  {
   "cell_type": "markdown",
   "metadata": {},
   "source": [
    "### Summary\n",
    "\n",
    "Phew, we made it!\n",
    "We ended up writing quite a bit of code to get the figure to look\n",
    "*exactly* how we wanted it to look.\n",
    "Typically, our plotting code will be much more concise and simple\n",
    "because we don’t usually require the same standards for aesthetic\n",
    "properties as professional journalists do."
   ]
  },
  {
   "cell_type": "markdown",
   "metadata": {},
   "source": [
    "## Exercises"
   ]
  },
  {
   "cell_type": "markdown",
   "metadata": {},
   "source": [
    "### Exercise 1\n",
    "\n",
    "**Exercise:** Using the `.plot` method, plot the opening share price\n",
    "for Apple’s stock.\n",
    "\n",
    "What `type` of object is returned from that method?\n",
    "\n",
    "What methods does this object have?"
   ]
  },
  {
   "cell_type": "code",
   "execution_count": null,
   "metadata": {},
   "outputs": [],
   "source": [
    "# make plot here"
   ]
  },
  {
   "cell_type": "code",
   "execution_count": null,
   "metadata": {},
   "outputs": [],
   "source": [
    "# explore methods here"
   ]
  },
  {
   "cell_type": "markdown",
   "metadata": {},
   "source": [
    "([back to text](#pd-mpl-dir1))"
   ]
  },
  {
   "cell_type": "markdown",
   "metadata": {},
   "source": [
    "### Exercise 2\n",
    "\n",
    "Using the `plt.subplots` function, make a Figure with a two-by-one\n",
    "grid of subplots (two rows, one column).\n",
    "\n",
    "On the upper Axes, plot the adjusted close price.\n",
    "\n",
    "On the lower one, plot the adjusted volume as an area chart (search for\n",
    "an argument on the `plot` method to change the kind of plot).\n",
    "\n",
    "Google for how to set a title for a `Figure` object and then do so.\n",
    "\n",
    "([back to text](#pd-mpl-dir2))"
   ]
  },
  {
   "cell_type": "markdown",
   "metadata": {},
   "source": [
    "### Exercise 3\n",
    "\n",
    "Take 5 minutes to explore the different arguments to the DataFrame `.plot`\n",
    "method. Try to make a plot that is both good looking and interesting (\n",
    "we know, those are subjective, but do your best!).\n",
    "\n",
    "Some arguments you might consider exploring are:\n",
    "\n",
    "- `sharex` or `sharey`  \n",
    "- `style`  \n",
    "- `grid`  \n",
    "- `color`  \n",
    "- `kind`  \n",
    "\n",
    "\n",
    "You can browse the [official pandas plotting\n",
    "documentation](https://pandas.pydata.org/pandas-docs/stable/visualization.html)\n",
    "for inspiration.\n",
    "\n",
    "([back to text](#pd-mpl-dir3))"
   ]
  },
  {
   "cell_type": "markdown",
   "metadata": {},
   "source": [
    "### Exercise 4\n",
    "\n",
    "Think about  what each of the argument we passed to `.plot` does.\n",
    "\n",
    "For some you might be able to guess, for others you will need to look at\n",
    "the documentation.\n",
    "\n",
    "For your reference, record your findings in a markdown cell below.\n",
    "\n",
    "Use `to_plot.plot?` to pull up the docs.\n",
    "\n",
    "([back to text](#pd-mpl-dir4))"
   ]
  },
  {
   "cell_type": "markdown",
   "metadata": {},
   "source": [
    "### Exercise 5\n",
    "\n",
    "For each operation in the list below (copied from above), make a note\n",
    "of which functions/methods were called to achieve the result.\n",
    "Edit the markdown cell containing the list directly.\n",
    "\n",
    "Note: This might seem redundant since the comments above give the answers,\n",
    "but forcing yourself to write out the names of the functions will help\n",
    "you remember them when you need them later on.\n",
    "\n",
    "- Change background color  \n",
    "- Add Axes titles  \n",
    "- Remove the x axis titles  \n",
    "- Remove tick marks on y axis  \n",
    "- Add a “faint” version of the line from the first subplot  \n",
    "- Remove x axis tick labels  \n",
    "- Make x axis ticks longer and semi-transparent  \n",
    "- Make sure all Axes have same y limits  \n",
    "- Remove the spines (the border on each Axes)  \n",
    "- Add a white circle to (0, 100) on each Axes  \n",
    "\n",
    "\n",
    "([back to text](#pd-mpl-dir5))"
   ]
  }
 ],
 "metadata": {
  "kernelspec": {
   "display_name": "Python 3",
   "language": "python",
   "name": "python3"
  },
  "language_info": {
   "codemirror_mode": {
    "name": "ipython",
    "version": 3
   },
   "file_extension": ".py",
   "mimetype": "text/x-python",
   "name": "python",
   "nbconvert_exporter": "python",
   "pygments_lexer": "ipython3",
   "version": "3.7.0"
  }
 },
 "nbformat": 4,
 "nbformat_minor": 2
}
