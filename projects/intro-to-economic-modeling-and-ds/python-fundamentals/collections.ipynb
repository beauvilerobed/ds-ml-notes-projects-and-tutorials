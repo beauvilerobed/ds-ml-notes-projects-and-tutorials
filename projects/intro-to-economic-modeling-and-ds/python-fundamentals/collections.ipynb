{
 "cells": [
  {
   "cell_type": "markdown",
   "metadata": {},
   "source": [
    "# Collections\n",
    "\n",
    "**Outcomes**\n",
    "- Ordered Collections\n",
    "    - Know what a list is and a tuple is\n",
    "    - Know how to tell a list from a tuple\n",
    "    - Understand the `range`, `zip` and `enumerate` functions\n",
    "    - Be able to use common list methods like `append`, `sort`, and `reverse`\n",
    "- Associative Collections\n",
    "    - Understand what a `dict` is\n",
    "    - Know the distinction between a dicts keys and values\n",
    "    - Understand when `dicts` are useful\n",
    "    - Be familiar with common `dict` methods\n",
    "- Sets (optional)\n",
    "    - Know what a set is\n",
    "    - Understand how a set differs from a list and a tuple\n",
    "    - Know when to use a set vs a list or a tuple\n",
    "\n",
    "# Ordered Collections\n",
    "\n",
    "## Lists\n",
    "A Python list is an ordered collection of items. We can create lists using the following syntax\n",
    "\n",
    "`[item1, item2, ...,  itemN]`\n",
    "\n",
    "where the ... represents any number of additional items. Each item can be of any type.\n",
    "\n",
    "Let’s create some lists."
   ]
  },
  {
   "cell_type": "code",
   "execution_count": 1,
   "metadata": {},
   "outputs": [
    {
     "data": {
      "text/plain": [
       "[2.0, 9.1, 12.5]"
      ]
     },
     "execution_count": 1,
     "metadata": {},
     "output_type": "execute_result"
    }
   ],
   "source": [
    "# created, but not assigned to a variable\n",
    "[2.0, 9.1, 12.5]"
   ]
  },
  {
   "cell_type": "code",
   "execution_count": 2,
   "metadata": {},
   "outputs": [
    {
     "name": "stdout",
     "output_type": "stream",
     "text": [
      "x has type <class 'list'>\n"
     ]
    },
    {
     "data": {
      "text/plain": [
       "[2.0, 9.1, 12.5]"
      ]
     },
     "execution_count": 2,
     "metadata": {},
     "output_type": "execute_result"
    }
   ],
   "source": [
    "# stored as the variable `x`\n",
    "x = [2.0, 9.1, 12.5]\n",
    "print(\"x has type\", type(x))\n",
    "x"
   ]
  },
  {
   "cell_type": "markdown",
   "metadata": {},
   "source": [
    "**What Can We Do with Lists?**\n",
    "\n",
    "We can access items in a list called `mylist` using `mylist[N]` where `N` is an integer.\n",
    "\n",
    "Note: Anytime that we use the syntax `x[i]` we are doing what is called *indexing* – it means that we are selecting a particular element of a *collection* `x`."
   ]
  },
  {
   "cell_type": "code",
   "execution_count": 3,
   "metadata": {},
   "outputs": [
    {
     "data": {
      "text/plain": [
       "9.1"
      ]
     },
     "execution_count": 3,
     "metadata": {},
     "output_type": "execute_result"
    }
   ],
   "source": [
    "x[1]"
   ]
  },
  {
   "cell_type": "markdown",
   "metadata": {},
   "source": [
    "Wait? Why did `x[1]` return `9.1` when the first element in x is actually `2.0`?\n",
    "\n",
    "This happened because Python starts counting at zero!\n",
    "\n",
    "Lets repeat that one more time for emphasis Python starts counting at zero!\n",
    "\n",
    "To access the first element of x we must use x[0]:"
   ]
  },
  {
   "cell_type": "markdown",
   "metadata": {},
   "source": []
  }
 ],
 "metadata": {
  "kernelspec": {
   "display_name": "Python 3",
   "language": "python",
   "name": "python3"
  },
  "language_info": {
   "codemirror_mode": {
    "name": "ipython",
    "version": 3
   },
   "file_extension": ".py",
   "mimetype": "text/x-python",
   "name": "python",
   "nbconvert_exporter": "python",
   "pygments_lexer": "ipython3",
   "version": "3.7.0"
  }
 },
 "nbformat": 4,
 "nbformat_minor": 2
}
