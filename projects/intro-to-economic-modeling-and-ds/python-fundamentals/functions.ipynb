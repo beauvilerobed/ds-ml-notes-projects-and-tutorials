{
 "cells": [
  {
   "cell_type": "markdown",
   "metadata": {},
   "source": [
    "# Functions\n",
    "\n",
    "**Outcomes**\n",
    "- Economic Production Functions\n",
    "    - Understand the basics of production functions in economics\n",
    "- Functions\n",
    "    - Know how to define your own function\n",
    "    - Know how to find and write your own function documentation\n",
    "    - Know why we use functions\n",
    "    - Understand scoping rules and blocks\n",
    "\n",
    "# Application: Production Functions\n",
    "Production functions are useful when modeling the economics of firms producing goods or the aggregate output in an economy. Though the term “function” is used in a mathematical sense here, we will be making tight connections between the programming of mathematical functions and Python functions.\n",
    "\n",
    "## Factors of Production\n",
    "The [factors of production](https://en.wikipedia.org/wiki/Factors_of_production) are the inputs used in the production of some sort of output.\n",
    "\n",
    "Some example factors of production include\n",
    "- [Physical capital](https://en.wikipedia.org/wiki/Physical_capital), e.g. machines, buildings, computers, and power stations.\n",
    "- Labor, e.g. all of the hours of work from different types of employees of a firm.\n",
    "- [Human Capital](https://en.wikipedia.org/wiki/Human_capital), e.g. the knowledge of employees within a firm.\n",
    "\n",
    "A [production function](https://en.wikipedia.org/wiki/Production_function) maps a set of inputs to the output, e.g. the amount of wheat produced by a farm, or widgets produced in a factory. As an example of the notation, we denote the total units of labor and physical capital used in a factory as $L$ and $K$ respectively.\n",
    "\n",
    "If we denote the physical output of the factory as $Y$, then a production function $F$ that transforms labor and capital into output might have the form:\n",
    "\n",
    "$$\n",
    "Y = F(K,L)\n",
    "$$\n",
    "\n",
    "## An Example Production Function\n",
    "\n",
    "Throughout this lecture, we will use the Cobb-Douglas production function to help us understand how to create Python functions and why they are useful. The Cobb-Douglas production function has appealing statistical properties when brought to data.\n",
    "\n",
    "This function is displayed below.\n",
    "\n",
    "$$\n",
    "Y = zK^\\alpha L^{1-\\alpha}\n",
    "$$\n",
    "\n",
    "The function is parameterized by:\n",
    "- A parameter $\\alpha\\in [0,1]$, called the “output elasticity of capital”.\n",
    "- A value $z$ called the [Total Factor Productivity](https://en.wikipedia.org/wiki/Total_factor_productivity) (TFP).\n",
    "\n",
    "# What are (Python) Functions?\n",
    "In this class, we will often talk about `functions`. So what is a function? We like to think of a function as a production line in a manufacturing plant: we pass zero or more things to it, operations take place in a set linear sequence, and zero or more things come out.\n",
    "\n",
    "We use functions for the following purposes:\n",
    "- **Re-usability**: Writing code to do a specific task just once, and reuse the code by calling the function.\n",
    "- **Organization**: Keep the code for distinct operations separated and organized.\n",
    "- **Sharing/collaboration**: Sharing code across multiple projects or sharing pieces of code with collaborators.\n",
    "\n",
    "# How to Define (Python) Functions?\n",
    "\n",
    "The basic syntax to create our own function is as follows:\n",
    "\n",
    "```\n",
    "def function_name(inputs):\n",
    "    # step 1\n",
    "    # step 2\n",
    "    # ...\n",
    "    return outputs\n",
    "```\n",
    "\n",
    "Here we see two new keywords: `def` and `return`.\n",
    "- def is used to tell Python we would like to define a new function.\n",
    "- return is used to tell Python what we would like to return from a function.\n",
    "\n",
    "Let’s look at an example and then discuss each part:"
   ]
  },
  {
   "cell_type": "code",
   "execution_count": 1,
   "metadata": {},
   "outputs": [],
   "source": [
    "def mean(numbers):\n",
    "    total = sum(numbers)\n",
    "    N = len(numbers)\n",
    "    answer = total / N\n",
    "\n",
    "    return answer"
   ]
  },
  {
   "cell_type": "markdown",
   "metadata": {},
   "source": [
    "Here we defined a function `mean` that has one input (`numbers`), does three steps, and has one output (`answer`). Let’s see what happens when we call this function on the list of numbers `[1, 2, 3, 4]`."
   ]
  },
  {
   "cell_type": "code",
   "execution_count": 2,
   "metadata": {},
   "outputs": [
    {
     "data": {
      "text/plain": [
       "2.5"
      ]
     },
     "execution_count": 2,
     "metadata": {},
     "output_type": "execute_result"
    }
   ],
   "source": [
    "x = [1, 2, 3, 4]\n",
    "the_mean = mean(x)\n",
    "the_mean"
   ]
  },
  {
   "cell_type": "markdown",
   "metadata": {},
   "source": [
    "Additionally, as we saw in the [control flow](https://datascience.quantecon.org/python_fundamentals/control_flow.html) lecture, indentation controls blocks of code (along with the [scope](https://datascience.quantecon.org/python_fundamentals/functions.html#scope) rules).\n",
    "\n",
    "To see this, compare a function with no inputs or return values."
   ]
  },
  {
   "cell_type": "code",
   "execution_count": 3,
   "metadata": {},
   "outputs": [
    {
     "name": "stdout",
     "output_type": "stream",
     "text": [
      "1\n",
      "2\n"
     ]
    }
   ],
   "source": [
    "def f():\n",
    "    print(\"1\")\n",
    "    print(\"2\")\n",
    "f()"
   ]
  },
  {
   "cell_type": "code",
   "execution_count": 4,
   "metadata": {},
   "outputs": [
    {
     "name": "stdout",
     "output_type": "stream",
     "text": [
      "2\n",
      "1\n"
     ]
    }
   ],
   "source": [
    "# With the following change of indentation…\n",
    "\n",
    "def f():\n",
    "    print(\"1\")\n",
    "print(\"2\")\n",
    "f()"
   ]
  },
  {
   "cell_type": "markdown",
   "metadata": {},
   "source": [
    "## Scope\n",
    "Notice that we named the input to the function `x` and we called the output `the_mean`. When we defined the function, the input was called `numbers` and the output `answer…` what gives? This is an example of a programming concept called [variable scope](http://python-textbok.readthedocs.io/en/1.0/Variables_and_Scope.html).\n",
    "\n",
    "In Python, functions define their own scope for variables. In English, this means that regardless of what name we give an input variable (`x` in this example), the input will always be referred to as `numbers` inside the body of the `mean` function.\n",
    "\n",
    "It also means that although we called the output `answer` inside of the function `mean`, that this variable name was only valid inside of our function. To use the output of the function, we had to give it our own name (`the_mean` in this example). Another point to make here is that the intermediate variables we defined inside `mean` (`total` and `N`) are only defined inside of the `mean` function – we can’t access them from outside. We can verify this by trying to see what the value of `total` is:"
   ]
  },
  {
   "cell_type": "code",
   "execution_count": 5,
   "metadata": {},
   "outputs": [
    {
     "ename": "NameError",
     "evalue": "name 'total' is not defined",
     "output_type": "error",
     "traceback": [
      "\u001b[0;31m---------------------------------------------------------------------------\u001b[0m",
      "\u001b[0;31mNameError\u001b[0m                                 Traceback (most recent call last)",
      "\u001b[0;32m/var/folders/yc/b0_qh6xx67scyz1s3xhmn12m0000gn/T/ipykernel_35295/29127831.py\u001b[0m in \u001b[0;36m<module>\u001b[0;34m\u001b[0m\n\u001b[1;32m      6\u001b[0m \u001b[0;34m\u001b[0m\u001b[0m\n\u001b[1;32m      7\u001b[0m \u001b[0;31m# uncomment the line below and execute to see the error\u001b[0m\u001b[0;34m\u001b[0m\u001b[0;34m\u001b[0m\u001b[0m\n\u001b[0;32m----> 8\u001b[0;31m \u001b[0mtotal\u001b[0m\u001b[0;34m\u001b[0m\u001b[0m\n\u001b[0m",
      "\u001b[0;31mNameError\u001b[0m: name 'total' is not defined"
     ]
    }
   ],
   "source": [
    "def mean(numbers):\n",
    "    total = sum(numbers)\n",
    "    N = len(numbers)\n",
    "    answer = total / N\n",
    "    return answer # or directly return total / N\n",
    "\n",
    "# uncomment the line below and execute to see the error\n",
    "total"
   ]
  },
  {
   "cell_type": "markdown",
   "metadata": {},
   "source": [
    "This point can be taken even further: the same name can be bound to variables inside of blocks of code and in the outer “scope”."
   ]
  },
  {
   "cell_type": "code",
   "execution_count": 6,
   "metadata": {},
   "outputs": [
    {
     "name": "stdout",
     "output_type": "stream",
     "text": [
      "x = 4\n",
      "x = 5\n",
      "x = 4\n"
     ]
    }
   ],
   "source": [
    "x = 4\n",
    "print(f\"x = {x}\")\n",
    "def f():\n",
    "    x = 5 # a different \"x\"\n",
    "    print(f\"x = {x}\")\n",
    "f() # calls function\n",
    "print(f\"x = {x}\")"
   ]
  },
  {
   "cell_type": "markdown",
   "metadata": {},
   "source": [
    "The final point we want to make about scope is that function inputs and output don’t have to be given a name outside the function."
   ]
  },
  {
   "cell_type": "code",
   "execution_count": 7,
   "metadata": {},
   "outputs": [
    {
     "data": {
      "text/plain": [
       "20.0"
      ]
     },
     "execution_count": 7,
     "metadata": {},
     "output_type": "execute_result"
    }
   ],
   "source": [
    "mean([10, 20, 30])"
   ]
  },
  {
   "cell_type": "markdown",
   "metadata": {},
   "source": [
    "Notice that we didn’t name the input or the output, but the function was called successfully. Now, we’ll use our new knowledge to define a function which computes the output from a Cobb-Douglas production function with parameters $z=1$ and $\\alpha = .33$ and takes inputs $K$ and $L$."
   ]
  },
  {
   "cell_type": "code",
   "execution_count": 8,
   "metadata": {},
   "outputs": [],
   "source": [
    "def cobb_douglas(K, L):\n",
    "\n",
    "    # Create alpha and z\n",
    "    z = 1\n",
    "    alpha = 0.33\n",
    "\n",
    "    return z * K**alpha * L**(1 - alpha)"
   ]
  },
  {
   "cell_type": "code",
   "execution_count": 9,
   "metadata": {},
   "outputs": [
    {
     "data": {
      "text/plain": [
       "0.6285066872609142"
      ]
     },
     "execution_count": 9,
     "metadata": {},
     "output_type": "execute_result"
    }
   ],
   "source": [
    "# We can use this function as we did the mean function.\n",
    "cobb_douglas(1.0, 0.5)\n"
   ]
  },
  {
   "cell_type": "markdown",
   "metadata": {},
   "source": [
    "## Re-using Functions\n",
    "Economists are often interested in this question: how much does output change if we modify our inputs? For example, take a production function $Y_1 = F(K_1,L_1)$ which produces $Y_1$ units of the goods. If we then multiply the inputs each by $\\gamma$, so that $K_2 = \\gamma K_1$ and $L_2 = \\gamma L_1$, then the output is\n",
    "\n",
    "$$\n",
    "Y_2 = F(K_2,L_2) = F(\\gamma K_1, \\gamma L_1)\n",
    "$$\n",
    "\n",
    "How does $Y_1$ compare to $Y_2$? Answering this question involves something called returns to *scale*. Returns to scale tells us whether our inputs are more or less productive as we have more of them.\n",
    "\n",
    "For example, imagine that you run a restaurant. How would you expect the amount of food you could produce would change if you could build an exact replica of your restaurant and kitchen and hire the same number of cooks and waiters? You would probably expect it to double.\n",
    "\n",
    "If, for any $K$, $L$ we multiply $K$, $L$ by a value $\\gamma$ then\n",
    "- If $\\frac{Y_2}{Y_1} < \\gamma$ then we say the production function has decreasing returns to scale.\n",
    "- If $\\frac{Y_2}{Y_1} = \\gamma$ then we say the production function has constant returns to scale.\n",
    "- If $\\frac{Y_2}{Y_1} > \\gamma$ then we say the production function has increasing returns to scale.\n",
    "\n",
    "Let’s try it and see what our function is!"
   ]
  },
  {
   "cell_type": "code",
   "execution_count": 10,
   "metadata": {},
   "outputs": [
    {
     "name": "stdout",
     "output_type": "stream",
     "text": [
      "0.6285066872609142\n",
      "1.2570133745218284\n"
     ]
    }
   ],
   "source": [
    "y1 = cobb_douglas(1.0, 0.5)\n",
    "print(y1)\n",
    "y2 = cobb_douglas(2*1.0, 2*0.5)\n",
    "print(y2)"
   ]
  },
  {
   "cell_type": "markdown",
   "metadata": {},
   "source": [
    "How did $Y_1$ and $Y_2$ relate?"
   ]
  },
  {
   "cell_type": "code",
   "execution_count": 11,
   "metadata": {},
   "outputs": [
    {
     "data": {
      "text/plain": [
       "2.0"
      ]
     },
     "execution_count": 11,
     "metadata": {},
     "output_type": "execute_result"
    }
   ],
   "source": [
    "y2 / y1"
   ]
  },
  {
   "cell_type": "markdown",
   "metadata": {},
   "source": [
    "\n",
    "$Y_2$ was exactly double $Y_1$!\n",
    "\n",
    "Let’s write a function that will compute the returns to scale for different values of $K$ and $L$. This is an example of how writing functions can allow us to re-use code in ways we might not originally anticipate. (You didn’t know we’d be writing a `returns_to_scale` function when we wrote `cobb_douglas`.)"
   ]
  },
  {
   "cell_type": "code",
   "execution_count": 12,
   "metadata": {},
   "outputs": [],
   "source": [
    "def returns_to_scale(K, L, gamma):\n",
    "    y1 = cobb_douglas(K, L)\n",
    "    y2 = cobb_douglas(gamma*K, gamma*L)\n",
    "    y_ratio = y2 / y1\n",
    "    return y_ratio / gamma"
   ]
  },
  {
   "cell_type": "code",
   "execution_count": 13,
   "metadata": {},
   "outputs": [
    {
     "data": {
      "text/plain": [
       "1.0"
      ]
     },
     "execution_count": 13,
     "metadata": {},
     "output_type": "execute_result"
    }
   ],
   "source": [
    "returns_to_scale(1.0, 0.5, 2.0)"
   ]
  },
  {
   "cell_type": "markdown",
   "metadata": {},
   "source": [
    "It turns out that with a little bit of algebra, we can check that this will always hold for our [Cobb-Douglas example](https://datascience.quantecon.org/python_fundamentals/functions.html#cobb-douglas-example) above. To show this, take an arbitrary $K,L$ and multiply the inputs by an arbitrary $\\gamma$.\n",
    "\n",
    "$$\n",
    "\\begin{split}\n",
    "F(\\gamma K, \\gamma L) &= z(\\gamma K)^\\alpha (\\gamma L)^{1-\\alpha}\\\\\n",
    "                      &= z\\gamma^\\alpha\\gamma^{1-\\alpha} K^\\alpha  L^{1-\\alpha}\\\\\n",
    "                      &= \\gamma z K^\\alpha  L^{1-\\alpha} = \\gamma F(K, L)\n",
    "\n",
    "\\end{split}\n",
    "$$"
   ]
  },
  {
   "cell_type": "markdown",
   "metadata": {},
   "source": [
    "For an example of a production function that is not CRS, look at a generalization of the Cobb-Douglas production function that has different “output elasticities” for the 2 inputs.\n",
    "\n",
    "$$\n",
    "Y = z K^{\\alpha_1}  L^{\\alpha_2}\n",
    "$$\n",
    "\n",
    "Note that if $\\alpha_2 = 1 - \\alpha_1$, this is our Cobb-Douglas production function."
   ]
  },
  {
   "cell_type": "markdown",
   "metadata": {},
   "source": [
    "## Multiple Returns\n",
    "Another valuable element to analyze on production functions is how output changes as we change only one of the inputs. We will call this the marginal product. For example, compare the output using $K, L$ units of inputs to that with an $\\epsilon$ units of labor.\n",
    "\n",
    "Then the marginal product of labor (MPL) is defined as\n",
    "\n",
    "$$\n",
    "\\frac{F(K,L+\\epsilon)-F(K,L)}{\\epsilon}\n",
    "$$"
   ]
  },
  {
   "cell_type": "code",
   "execution_count": null,
   "metadata": {},
   "outputs": [],
   "source": []
  }
 ],
 "metadata": {
  "kernelspec": {
   "display_name": "Python 3",
   "language": "python",
   "name": "python3"
  },
  "language_info": {
   "codemirror_mode": {
    "name": "ipython",
    "version": 3
   },
   "file_extension": ".py",
   "mimetype": "text/x-python",
   "name": "python",
   "nbconvert_exporter": "python",
   "pygments_lexer": "ipython3",
   "version": "3.7.0"
  }
 },
 "nbformat": 4,
 "nbformat_minor": 2
}
