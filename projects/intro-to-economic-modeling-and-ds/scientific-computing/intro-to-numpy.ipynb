{
 "cells": [
  {
   "cell_type": "markdown",
   "metadata": {},
   "source": [
    "# Introduction to Numpy\n",
    "\n",
    "**Outcomes**\n",
    "- Understand basics about numpy arrays\n",
    "- Index into multi-dimensional arrays\n",
    "- Use universal functions/broadcasting to do element-wise operations on arrays\n",
    "\n",
    "# Numpy Arrays\n",
    "Now that we have learned the fundamentals of programming in Python, we will learn how we can use Python to perform the computations required in data science and economics. We call these the “scientific Python tools”.\n",
    "\n",
    "The foundational library that helps us perform these computations is known as `numpy` (numerical Python). Numpy’s core contribution is a new data-type called an array. An array is similar to a list, but numpy imposes some additional restrictions on how the data inside is organized.\n",
    "\n",
    "These restrictions allow numpy to\n",
    "1. Be more efficient in performing mathematical and scientific computations.\n",
    "1. Expose functions that allow numpy to do the necessary linear algebra for machine learning and statistics.\n",
    "\n",
    "Before we get started, please note that the convention for importing the numpy package is to use the nickname np"
   ]
  },
  {
   "cell_type": "code",
   "execution_count": 1,
   "metadata": {},
   "outputs": [],
   "source": [
    "import numpy as np"
   ]
  },
  {
   "cell_type": "markdown",
   "metadata": {},
   "source": [
    "## What is an Array?\n",
    "An array is a multi-dimensional grid of values. What does this mean? It is easier to demonstrate than to explain.\n",
    "\n",
    "In this block of code, we build a 1-dimensional array."
   ]
  },
  {
   "cell_type": "code",
   "execution_count": 2,
   "metadata": {},
   "outputs": [
    {
     "name": "stdout",
     "output_type": "stream",
     "text": [
      "[1 2 3]\n"
     ]
    }
   ],
   "source": [
    "# create an array from a list\n",
    "x_1d = np.array([1, 2, 3])\n",
    "print(x_1d)"
   ]
  },
  {
   "cell_type": "code",
   "execution_count": 3,
   "metadata": {},
   "outputs": [
    {
     "name": "stdout",
     "output_type": "stream",
     "text": [
      "1\n",
      "[1 2]\n"
     ]
    }
   ],
   "source": [
    "# You can think of a 1-dimensional array as a list of numbers.\n",
    "\n",
    "# We can index like we did with lists\n",
    "print(x_1d[0])\n",
    "print(x_1d[0:2])"
   ]
  },
  {
   "cell_type": "code",
   "execution_count": 4,
   "metadata": {},
   "outputs": [
    {
     "name": "stdout",
     "output_type": "stream",
     "text": [
      "[ True  True  True]\n",
      "[1 2]\n"
     ]
    }
   ],
   "source": [
    "# Note that the range of indices does not include the end-point, that is\n",
    "\n",
    "print(x_1d[0:3] == x_1d[:])\n",
    "print(x_1d[0:2])"
   ]
  },
  {
   "cell_type": "code",
   "execution_count": 5,
   "metadata": {},
   "outputs": [
    {
     "name": "stdout",
     "output_type": "stream",
     "text": [
      "[[1 2 3]\n",
      " [4 5 6]\n",
      " [7 8 9]]\n"
     ]
    }
   ],
   "source": [
    "# The differences emerge as we move into higher dimensions.\n",
    "# Next, we define a 2-dimensional array (a matrix)\n",
    "\n",
    "x_2d = np.array([[1, 2, 3], [4, 5, 6], [7, 8, 9]])\n",
    "print(x_2d)"
   ]
  },
  {
   "cell_type": "markdown",
   "metadata": {},
   "source": [
    "Notice that the data is no longer represented as something flat, but rather, as three rows and three columns of numbers.\n",
    "\n",
    "The first question that you might ask yourself is: “how do I access the values in this array?”\n",
    "\n",
    "You access each element by specifying a row first and then a column. For example, if we wanted to access the `6`, we would ask for the (1, 2) element."
   ]
  },
  {
   "cell_type": "code",
   "execution_count": 6,
   "metadata": {},
   "outputs": [
    {
     "name": "stdout",
     "output_type": "stream",
     "text": [
      "6\n"
     ]
    }
   ],
   "source": [
    "print(x_2d[1, 2])  # Indexing into two dimensions!"
   ]
  },
  {
   "cell_type": "markdown",
   "metadata": {},
   "source": [
    "Or to get the top left corner…"
   ]
  },
  {
   "cell_type": "code",
   "execution_count": 7,
   "metadata": {},
   "outputs": [
    {
     "name": "stdout",
     "output_type": "stream",
     "text": [
      "1\n"
     ]
    }
   ],
   "source": [
    "print(x_2d[0, 0])  # Indexing into two dimensions!"
   ]
  },
  {
   "cell_type": "markdown",
   "metadata": {},
   "source": [
    "To get the first, and then second rows…"
   ]
  },
  {
   "cell_type": "code",
   "execution_count": 8,
   "metadata": {},
   "outputs": [
    {
     "name": "stdout",
     "output_type": "stream",
     "text": [
      "[1 2 3]\n",
      "[4 5 6]\n"
     ]
    }
   ],
   "source": [
    "print(x_2d[0, :])\n",
    "print(x_2d[1, :])"
   ]
  },
  {
   "cell_type": "markdown",
   "metadata": {},
   "source": [
    "Or the columns…"
   ]
  },
  {
   "cell_type": "code",
   "execution_count": 9,
   "metadata": {},
   "outputs": [
    {
     "name": "stdout",
     "output_type": "stream",
     "text": [
      "[1 4 7]\n",
      "[2 5 8]\n"
     ]
    }
   ],
   "source": [
    "print(x_2d[:, 0])\n",
    "print(x_2d[:, 1])"
   ]
  },
  {
   "cell_type": "markdown",
   "metadata": {},
   "source": [
    "This continues to generalize, since numpy gives us as many dimensions as we want in an array. For example, we build a 3-dimensional array below."
   ]
  },
  {
   "cell_type": "code",
   "execution_count": 10,
   "metadata": {},
   "outputs": [
    {
     "name": "stdout",
     "output_type": "stream",
     "text": [
      "[[[ 1  2  3]\n",
      "  [ 4  5  6]]\n",
      "\n",
      " [[10 20 30]\n",
      "  [40 50 60]]]\n"
     ]
    }
   ],
   "source": [
    "x_3d_list = [[[1, 2, 3], [4, 5, 6]], [[10, 20, 30], [40, 50, 60]]]\n",
    "x_3d = np.array(x_3d_list)\n",
    "print(x_3d)"
   ]
  },
  {
   "cell_type": "markdown",
   "metadata": {},
   "source": [
    "**Array Indexing**\n",
    "\n",
    "Now that there are multiple dimensions, indexing might feel somewhat non-obvious. Do the rows or columns come first? In higher dimensions, what is the order of the index? \n",
    "\n",
    "Notice that the array is built using a list of lists (you could also use tuples!). Indexing into the array will correspond to choosing elements from each list. First, notice that the dimensions give two stacked matrices, which we can access with"
   ]
  },
  {
   "cell_type": "code",
   "execution_count": 11,
   "metadata": {},
   "outputs": [
    {
     "name": "stdout",
     "output_type": "stream",
     "text": [
      "[[1 2 3]\n",
      " [4 5 6]]\n",
      "[[10 20 30]\n",
      " [40 50 60]]\n"
     ]
    }
   ],
   "source": [
    "print(x_3d[0])\n",
    "print(x_3d[1])"
   ]
  },
  {
   "cell_type": "markdown",
   "metadata": {},
   "source": [
    "In the case of the first, it is synonymous with"
   ]
  },
  {
   "cell_type": "code",
   "execution_count": 12,
   "metadata": {},
   "outputs": [
    {
     "name": "stdout",
     "output_type": "stream",
     "text": [
      "[[1 2 3]\n",
      " [4 5 6]]\n"
     ]
    }
   ],
   "source": [
    "print(x_3d[0, :, :])"
   ]
  },
  {
   "cell_type": "markdown",
   "metadata": {},
   "source": [
    "Let’s work through another example to further clarify this concept with our 3-dimensional array.\n",
    "\n",
    "Our goal will be to find the index that retrieves the `4` out of `x_3d`.\n",
    "\n",
    "Recall that when we created `x_3d`, we used the list `[[[1, 2, 3], [4, 5, 6]], [[10, 20, 30], [40, 50, 60]]]`.\n",
    "\n",
    "Notice that the 0 element of that list is `[[1, 2, 3], [4, 5, 6]]`. This is the list that contains the `4` so the first index we would use is a 0."
   ]
  },
  {
   "cell_type": "code",
   "execution_count": 13,
   "metadata": {},
   "outputs": [
    {
     "name": "stdout",
     "output_type": "stream",
     "text": [
      "The 0 element is [[1, 2, 3], [4, 5, 6]]\n",
      "The 1 element is [[10, 20, 30], [40, 50, 60]]\n"
     ]
    }
   ],
   "source": [
    "print(f\"The 0 element is {x_3d_list[0]}\")\n",
    "print(f\"The 1 element is {x_3d_list[1]}\")"
   ]
  },
  {
   "cell_type": "markdown",
   "metadata": {},
   "source": [
    "We then move to the next lists which were the 0 element of the inner-most dimension. Notice that the two lists at this level `[1, 2, 3]` and `[3, 4, 5]`.\n",
    "\n",
    "The 4 is in the second 1 element (index `1`), so the second index we would choose is 1."
   ]
  },
  {
   "cell_type": "code",
   "execution_count": 14,
   "metadata": {},
   "outputs": [
    {
     "name": "stdout",
     "output_type": "stream",
     "text": [
      "The 0 element of the 0 element is [1, 2, 3]\n",
      "The 1 element of the 0 element is [4, 5, 6]\n"
     ]
    }
   ],
   "source": [
    "print(f\"The 0 element of the 0 element is {x_3d_list[0][0]}\")\n",
    "print(f\"The 1 element of the 0 element is {x_3d_list[0][1]}\")"
   ]
  },
  {
   "cell_type": "markdown",
   "metadata": {},
   "source": [
    "Finally, we move to the outer-most dimension, which has a list of numbers `[4, 5, 6]`.\n",
    "\n",
    "The 4 is element 0 of this list, so the third, or outer-most index, would be `0`."
   ]
  },
  {
   "cell_type": "code",
   "execution_count": 15,
   "metadata": {},
   "outputs": [
    {
     "name": "stdout",
     "output_type": "stream",
     "text": [
      "The 0 element of the 1 element of the 0 element is 4\n"
     ]
    }
   ],
   "source": [
    "print(f\"The 0 element of the 1 element of the 0 element is {x_3d_list[0][1][0]}\")"
   ]
  },
  {
   "cell_type": "markdown",
   "metadata": {},
   "source": [
    "Now we can use these same indices to index into the array. With an array, we can index using a single operation rather than repeated indexing as we did with the list x_3d_list[0][1][0].\n",
    "\n",
    "Let’s test it to see whether we did it correctly!"
   ]
  },
  {
   "cell_type": "code",
   "execution_count": 16,
   "metadata": {},
   "outputs": [
    {
     "name": "stdout",
     "output_type": "stream",
     "text": [
      "4\n"
     ]
    }
   ],
   "source": [
    "print(x_3d[0, 1, 0])"
   ]
  },
  {
   "cell_type": "markdown",
   "metadata": {},
   "source": [
    "Success!\n",
    "\n",
    "We can also select multiple elements at a time – this is called slicing.\n",
    "\n",
    "If we wanted to have an array with just `[1, 2, 3]` then we would do"
   ]
  },
  {
   "cell_type": "code",
   "execution_count": 17,
   "metadata": {},
   "outputs": [
    {
     "name": "stdout",
     "output_type": "stream",
     "text": [
      "[1 2 3]\n"
     ]
    }
   ],
   "source": [
    "print(x_3d[0, 0, :])"
   ]
  },
  {
   "cell_type": "code",
   "execution_count": 19,
   "metadata": {},
   "outputs": [
    {
     "name": "stdout",
     "output_type": "stream",
     "text": [
      "[1 2 3]\n"
     ]
    }
   ],
   "source": [
    "print(x_3d[0, 0])"
   ]
  },
  {
   "cell_type": "markdown",
   "metadata": {},
   "source": [
    "Notice that we put a `:` on the dimension where we want to select all of the elements. We can also slice out subsets of the elements by doing `start:stop+1`.\n",
    "\n",
    "Notice how the following arrays differ."
   ]
  },
  {
   "cell_type": "code",
   "execution_count": 35,
   "metadata": {},
   "outputs": [
    {
     "name": "stdout",
     "output_type": "stream",
     "text": [
      "x_3d: \n",
      " [[[ 1  2  3]\n",
      "  [ 4  5  6]]\n",
      "\n",
      " [[10 20 30]\n",
      "  [40 50 60]]]\n",
      "\n",
      "x_3d[:, 0, :] \n",
      " [[ 1  2  3]\n",
      " [10 20 30]]\n",
      "\n",
      "x_3d[:, 0, 0:2]: \n",
      " [[ 1  2]\n",
      " [10 20]]\n",
      "\n",
      "x_3d[:, 0, :2]: \n",
      " [[ 1  2]\n",
      " [10 20]]\n",
      "\n"
     ]
    }
   ],
   "source": [
    "print(f\"x_3d: \\n {x_3d}\\n\")\n",
    "print(f\"x_3d[:, 0, :] \\n {x_3d[:, 0, :]}\\n\")\n",
    "print(f\"x_3d[:, 0, 0:2]: \\n {x_3d[:, 0, 0:2]}\\n\")\n",
    "print(f\"x_3d[:, 0, :2]: \\n {x_3d[:, 0, :2]}\\n\") # the 0  in 0:2 is optional"
   ]
  },
  {
   "cell_type": "markdown",
   "metadata": {},
   "source": [
    "## Array Functionality\n",
    "**Array Properties**\n",
    "\n",
    "All numpy arrays have various useful properties. Properties are similar to methods in that they’re accessed through the “dot notation.” However, they aren’t a function so we don’t need parentheses.\n",
    "\n",
    "The two most frequently used properties are `shape` and `dtype`. `shape` tells us how many elements are in each array dimension. `dtype` tells us the types of an array’s elements.\n",
    "\n",
    "Let’s do some examples to see these properties in action."
   ]
  },
  {
   "cell_type": "code",
   "execution_count": 36,
   "metadata": {},
   "outputs": [
    {
     "name": "stdout",
     "output_type": "stream",
     "text": [
      "(2, 3)\n",
      "int64\n"
     ]
    }
   ],
   "source": [
    "x = np.array([[1, 2, 3], [4, 5, 6]])\n",
    "print(x.shape)\n",
    "print(x.dtype)"
   ]
  },
  {
   "cell_type": "markdown",
   "metadata": {},
   "source": [
    "We’ll use this to practice unpacking a tuple, like `x.shape`, directly into variables."
   ]
  },
  {
   "cell_type": "code",
   "execution_count": 37,
   "metadata": {},
   "outputs": [
    {
     "name": "stdout",
     "output_type": "stream",
     "text": [
      "rows = 2, columns = 3\n"
     ]
    }
   ],
   "source": [
    "rows, columns = x.shape\n",
    "print(f\"rows = {rows}, columns = {columns}\")"
   ]
  },
  {
   "cell_type": "code",
   "execution_count": 38,
   "metadata": {},
   "outputs": [
    {
     "name": "stdout",
     "output_type": "stream",
     "text": [
      "(3,)\n",
      "bool\n"
     ]
    }
   ],
   "source": [
    "x = np.array([True, False, True])\n",
    "print(x.shape)\n",
    "print(x.dtype)"
   ]
  },
  {
   "cell_type": "markdown",
   "metadata": {},
   "source": [
    "Note that in the above, the `(3,)` represents a tuple of length 1, distinct from a scalar integer `3`."
   ]
  },
  {
   "cell_type": "code",
   "execution_count": 41,
   "metadata": {},
   "outputs": [
    {
     "name": "stdout",
     "output_type": "stream",
     "text": [
      "(2, 3, 2)\n",
      "float64\n"
     ]
    }
   ],
   "source": [
    "x = np.array([\n",
    "    [[1.0, 2.0], [3.0, 4.0], [5.0, 6.0]],\n",
    "    [[7.0, 8.0], [9.0, 10.0], [11.0, 12.0]]\n",
    "])\n",
    "print(x.shape)\n",
    "print(x.dtype)"
   ]
  },
  {
   "cell_type": "markdown",
   "metadata": {},
   "source": [
    "**Creating Arrays**\n",
    "\n",
    "It’s usually impractical to define arrays by hand as we have done so far. We’ll often need to create an array with default values and then fill it with other values. We can create arrays with the functions `np.zeros` and `np.ones`.\n",
    "\n",
    "Both functions take a tuple that denotes the shape of an array and creates an array filled with 0s or 1s respectively."
   ]
  },
  {
   "cell_type": "code",
   "execution_count": 42,
   "metadata": {},
   "outputs": [
    {
     "data": {
      "text/plain": [
       "array([[[0., 0., 0., 0.],\n",
       "        [0., 0., 0., 0.],\n",
       "        [0., 0., 0., 0.]],\n",
       "\n",
       "       [[0., 0., 0., 0.],\n",
       "        [0., 0., 0., 0.],\n",
       "        [0., 0., 0., 0.]]])"
      ]
     },
     "execution_count": 42,
     "metadata": {},
     "output_type": "execute_result"
    }
   ],
   "source": [
    "sizes = (2, 3, 4)\n",
    "x = np.zeros(sizes) # note, a tuple!\n",
    "x"
   ]
  },
  {
   "cell_type": "code",
   "execution_count": 43,
   "metadata": {},
   "outputs": [
    {
     "data": {
      "text/plain": [
       "array([1., 1., 1., 1.])"
      ]
     },
     "execution_count": 43,
     "metadata": {},
     "output_type": "execute_result"
    }
   ],
   "source": [
    "y = np.ones((4))\n",
    "y"
   ]
  },
  {
   "cell_type": "markdown",
   "metadata": {},
   "source": [
    "**Broadcasting Operations**\n",
    "\n",
    "Two types of operations that will be useful for arrays of any dimension are:\n",
    "1. Operations between an array and a single number.\n",
    "1. Operations between two arrays of the same shape.\n",
    "\n",
    "When we perform operations on an array by using a single number, we simply apply that operation to every element of the array."
   ]
  },
  {
   "cell_type": "code",
   "execution_count": 44,
   "metadata": {},
   "outputs": [
    {
     "name": "stdout",
     "output_type": "stream",
     "text": [
      "x =  [[1. 1.]\n",
      " [1. 1.]]\n",
      "2 + x =  [[3. 3.]\n",
      " [3. 3.]]\n",
      "2 - x =  [[1. 1.]\n",
      " [1. 1.]]\n",
      "2 * x =  [[2. 2.]\n",
      " [2. 2.]]\n",
      "x / 2 =  [[0.5 0.5]\n",
      " [0.5 0.5]]\n"
     ]
    }
   ],
   "source": [
    "# Using np.ones to create an array\n",
    "x = np.ones((2, 2))\n",
    "print(\"x = \", x)\n",
    "print(\"2 + x = \", 2 + x)\n",
    "print(\"2 - x = \", 2 - x)\n",
    "print(\"2 * x = \", 2 * x)\n",
    "print(\"x / 2 = \", x / 2)"
   ]
  },
  {
   "cell_type": "markdown",
   "metadata": {},
   "source": [
    "Operations between two arrays of the same size, in this case `(2, 2)`, simply apply the operation element-wise between the arrays."
   ]
  },
  {
   "cell_type": "code",
   "execution_count": 45,
   "metadata": {},
   "outputs": [
    {
     "name": "stdout",
     "output_type": "stream",
     "text": [
      "x =  [[1. 2.]\n",
      " [3. 4.]]\n",
      "y =  [[1. 1.]\n",
      " [1. 1.]]\n",
      "x + y =  [[2. 3.]\n",
      " [4. 5.]]\n",
      "x - y [[0. 1.]\n",
      " [2. 3.]]\n",
      "(elementwise) x * y =  [[1. 2.]\n",
      " [3. 4.]]\n",
      "(elementwise) x / y =  [[1. 2.]\n",
      " [3. 4.]]\n"
     ]
    }
   ],
   "source": [
    "x = np.array([[1.0, 2.0], [3.0, 4.0]])\n",
    "y = np.ones((2, 2))\n",
    "print(\"x = \", x)\n",
    "print(\"y = \", y)\n",
    "print(\"x + y = \", x + y)\n",
    "print(\"x - y\", x - y)\n",
    "print(\"(elementwise) x * y = \", x * y)\n",
    "print(\"(elementwise) x / y = \", x / y)"
   ]
  },
  {
   "cell_type": "markdown",
   "metadata": {},
   "source": [
    "## Universal Functions\n",
    "We will often need to transform data by applying a function to every element of an array. Numpy has good support for these operations, called *universal functions* or *ufuncs* for short.\n",
    "\n",
    "The [numpy documentation](https://docs.scipy.org/doc/numpy/reference/ufuncs.html?highlight=ufunc#available-ufuncs) has a list of all available ufuncs. \n",
    "\n",
    "Below, we will create an array that contains 10 points between 0 and 25."
   ]
  },
  {
   "cell_type": "code",
   "execution_count": null,
   "metadata": {},
   "outputs": [],
   "source": [
    "# This is similar to range -- \n",
    "# but spits out 10 evenly spaced points from 0.5 to 25.\n",
    "x = np.linspace(0.5, 25, 10)"
   ]
  },
  {
   "cell_type": "code",
   "execution_count": 50,
   "metadata": {},
   "outputs": [
    {
     "data": {
      "text/plain": [
       "array([ 0.47942554, -0.08054223, -0.33229977,  0.68755122, -0.92364381,\n",
       "        0.99966057, -0.9024271 ,  0.64879484, -0.28272056, -0.13235175])"
      ]
     },
     "execution_count": 50,
     "metadata": {},
     "output_type": "execute_result"
    }
   ],
   "source": [
    "# We will experiment with some ufuncs below:\n",
    "\n",
    "# Applies the sin function to each element of x\n",
    "np.sin(x)"
   ]
  },
  {
   "cell_type": "markdown",
   "metadata": {},
   "source": [
    "Of course, we could do the same thing with a comprehension, but the code would be both less readable and less efficient."
   ]
  },
  {
   "cell_type": "code",
   "execution_count": 51,
   "metadata": {},
   "outputs": [
    {
     "data": {
      "text/plain": [
       "array([ 0.47942554, -0.08054223, -0.33229977,  0.68755122, -0.92364381,\n",
       "        0.99966057, -0.9024271 ,  0.64879484, -0.28272056, -0.13235175])"
      ]
     },
     "execution_count": 51,
     "metadata": {},
     "output_type": "execute_result"
    }
   ],
   "source": [
    "np.array([np.sin(xval) for xval in x])"
   ]
  },
  {
   "cell_type": "markdown",
   "metadata": {},
   "source": [
    "You can use the inspector or the docstrings with `np.<TAB>` to see other available functions, such as"
   ]
  },
  {
   "cell_type": "code",
   "execution_count": 52,
   "metadata": {},
   "outputs": [
    {
     "data": {
      "text/plain": [
       "array([-0.69314718,  1.17007125,  1.78245708,  2.15948425,  2.43263822,\n",
       "        2.64696251,  2.82336105,  2.97325942,  3.10358967,  3.21887582])"
      ]
     },
     "execution_count": 52,
     "metadata": {},
     "output_type": "execute_result"
    }
   ],
   "source": [
    "# Takes log of each element of x\n",
    "np.log(x)"
   ]
  },
  {
   "cell_type": "markdown",
   "metadata": {},
   "source": [
    "A benefit of using the numpy arrays is that numpy has succinct code for combining vectorized operations."
   ]
  },
  {
   "cell_type": "code",
   "execution_count": 53,
   "metadata": {},
   "outputs": [
    {
     "data": {
      "text/plain": [
       "array([0.        , 1.38629436, 3.29583687])"
      ]
     },
     "execution_count": 53,
     "metadata": {},
     "output_type": "execute_result"
    }
   ],
   "source": [
    "# Calculate log(z) * z elementwise\n",
    "z = np.array([1,2,3])\n",
    "np.log(z) * z"
   ]
  },
  {
   "cell_type": "markdown",
   "metadata": {},
   "source": [
    "## Other Useful Array Operations\n",
    "We have barely scratched the surface of what is possible using numpy arrays. We hope you will experiment with other functions from numpy and see how they work. Below, we demonstrate a few more array operations that we find most useful – just to give you an idea of what else you might find. When you’re attempting to do an operation that you feel should be common, the numpy library probably has it.\n",
    "\n",
    "Use Google and tab completion to check this"
   ]
  },
  {
   "cell_type": "code",
   "execution_count": 54,
   "metadata": {},
   "outputs": [],
   "source": [
    "x = np.linspace(0, 25, 10)"
   ]
  },
  {
   "cell_type": "code",
   "execution_count": 55,
   "metadata": {},
   "outputs": [
    {
     "data": {
      "text/plain": [
       "12.5"
      ]
     },
     "execution_count": 55,
     "metadata": {},
     "output_type": "execute_result"
    }
   ],
   "source": [
    "np.mean(x)"
   ]
  },
  {
   "cell_type": "code",
   "execution_count": 56,
   "metadata": {},
   "outputs": [
    {
     "data": {
      "text/plain": [
       "7.9785592313028175"
      ]
     },
     "execution_count": 56,
     "metadata": {},
     "output_type": "execute_result"
    }
   ],
   "source": [
    "np.std(x)"
   ]
  },
  {
   "cell_type": "code",
   "execution_count": 57,
   "metadata": {},
   "outputs": [
    {
     "data": {
      "text/plain": [
       "array([2.77777778, 2.77777778, 2.77777778, 2.77777778, 2.77777778,\n",
       "       2.77777778, 2.77777778, 2.77777778, 2.77777778])"
      ]
     },
     "execution_count": 57,
     "metadata": {},
     "output_type": "execute_result"
    }
   ],
   "source": [
    "np.diff(x)"
   ]
  },
  {
   "cell_type": "code",
   "execution_count": 58,
   "metadata": {},
   "outputs": [
    {
     "data": {
      "text/plain": [
       "array([[ 0.        ,  2.77777778],\n",
       "       [ 5.55555556,  8.33333333],\n",
       "       [11.11111111, 13.88888889],\n",
       "       [16.66666667, 19.44444444],\n",
       "       [22.22222222, 25.        ]])"
      ]
     },
     "execution_count": 58,
     "metadata": {},
     "output_type": "execute_result"
    }
   ],
   "source": [
    "np.reshape(x, (5, 2))"
   ]
  },
  {
   "cell_type": "markdown",
   "metadata": {},
   "source": [
    "Note that many of these operations can be called as methods on `x`:"
   ]
  },
  {
   "cell_type": "code",
   "execution_count": 59,
   "metadata": {},
   "outputs": [
    {
     "name": "stdout",
     "output_type": "stream",
     "text": [
      "12.5\n",
      "7.9785592313028175\n",
      "25.0\n",
      "[[ 0.          2.77777778]\n",
      " [ 5.55555556  8.33333333]\n",
      " [11.11111111 13.88888889]\n",
      " [16.66666667 19.44444444]\n",
      " [22.22222222 25.        ]]\n"
     ]
    }
   ],
   "source": [
    "print(x.mean())\n",
    "print(x.std())\n",
    "print(x.max())\n",
    "# print(x.diff())  # this one is not a method...\n",
    "print(x.reshape((5, 2)))"
   ]
  },
  {
   "cell_type": "markdown",
   "metadata": {},
   "source": [
    "Finally, `np.vectorize` can be conveniently used with numpy broadcasting and any functions."
   ]
  },
  {
   "cell_type": "code",
   "execution_count": 60,
   "metadata": {},
   "outputs": [
    {
     "name": "stdout",
     "output_type": "stream",
     "text": [
      "[0.37454012 0.95071431 0.73199394 0.59865848 0.15601864 0.15599452\n",
      " 0.05808361 0.86617615 0.60111501 0.70807258]\n",
      "low\n",
      "['high' 'high' 'high' 'high' 'low' 'low' 'low' 'high' 'high' 'high']\n"
     ]
    }
   ],
   "source": [
    "np.random.seed(42)\n",
    "x = np.random.rand(10)\n",
    "print(x)\n",
    "\n",
    "def f(val):\n",
    "    if val < 0.3:\n",
    "        return \"low\"\n",
    "    else:\n",
    "        return \"high\"\n",
    "\n",
    "print(f(0.1)) # scalar, no problem\n",
    "# f(x) # array, fails since f() is scalar\n",
    "f_vec = np.vectorize(f)\n",
    "print(f_vec(x))"
   ]
  },
  {
   "cell_type": "markdown",
   "metadata": {},
   "source": [
    ">#### Caution: \n",
    ">`np.vectorize` is convenient for numpy broadcasting with any function but is not intended to >be high performance. When speed matters, directly write a `f` function to work on arrays."
   ]
  },
  {
   "cell_type": "markdown",
   "metadata": {},
   "source": [
    "# Exercises"
   ]
  },
  {
   "cell_type": "code",
   "execution_count": 62,
   "metadata": {},
   "outputs": [
    {
     "name": "stdout",
     "output_type": "stream",
     "text": [
      "x_3d: \n",
      " [[[ 1  2  3]\n",
      "  [ 4  5  6]]\n",
      "\n",
      " [[10 20 30]\n",
      "  [40 50 60]]]\n",
      "\n",
      "x_3d[:, 1] \n",
      " [[ 4  5  6]\n",
      " [40 50 60]]\n",
      "\n",
      "x_3d[:, 0, :1]: \n",
      " [[ 1]\n",
      " [10]]\n",
      "\n",
      "x_3d[1, 1, 2:]: \n",
      " [60]\n",
      "\n"
     ]
    }
   ],
   "source": [
    "# 1.  Try indexing into another element of your choice from the 3-dimensional array.\n",
    "# \n",
    "# Building an understanding of indexing means working through this type of operation \n",
    "# several times – without skipping steps!\n",
    "\n",
    "\n",
    "x_3d_list = [[[1, 2, 3], [4, 5, 6]], \n",
    "             [[10, 20, 30], [40, 50, 60]]]\n",
    "x_3d = np.array(x_3d_list)\n",
    "\n",
    "print(f\"x_3d: \\n {x_3d}\\n\")\n",
    "print(f\"x_3d[:, 1] \\n {x_3d[:, 1]}\\n\")\n",
    "print(f\"x_3d[:, 0, :1]: \\n {x_3d[:, 0, :1]}\\n\")\n",
    "print(f\"x_3d[1, 1, 2:]: \\n {x_3d[1, 1, 2:]}\\n\") # the 0  in 0:2 is optional"
   ]
  },
  {
   "cell_type": "code",
   "execution_count": 65,
   "metadata": {},
   "outputs": [
    {
     "name": "stdout",
     "output_type": "stream",
     "text": [
      "[[1 2 3]\n",
      " [4 5 6]\n",
      " [7 8 9]]\n",
      "inner is the column, example column 1 is [2 5 8]\n",
      "outer is the row, example row 1 is [4 5 6]\n"
     ]
    }
   ],
   "source": [
    "# 2. Look at the 2-dimensional array x_2d.\n",
    "\n",
    "x_2d = np.array([[1, 2, 3], \n",
    "                 [4, 5, 6], \n",
    "                 [7, 8, 9]])\n",
    "print(x_2d)\n",
    "\n",
    "# Does the inner-most index correspond to rows or columns? \n",
    "# What does the outer-most index correspond to? \n",
    "\n",
    "# Write your thoughts.\n",
    "column_number = 1\n",
    "row_number = 1\n",
    "\n",
    "inner = x_2d[:,column_number]\n",
    "outer = x_2d[1]\n",
    "\n",
    "print(f'inner is the column, example column 1 is {inner}')\n",
    "print(f'outer is the row, example row 1 is {outer}')\n"
   ]
  },
  {
   "cell_type": "code",
   "execution_count": 68,
   "metadata": {},
   "outputs": [
    {
     "name": "stdout",
     "output_type": "stream",
     "text": [
      "[[ 5  6]\n",
      " [50 60]]\n"
     ]
    }
   ],
   "source": [
    "# 3. What would you do to extract the array [[5, 6], [50, 60]] from \n",
    "# [[[1, 2, 3], [4, 5, 6]], [[10, 20, 30], [40, 50, 60]]]?\n",
    "\n",
    "arr = [[[1, 2, 3], [4, 5, 6]], \n",
    "       [[10, 20, 30], [40, 50, 60]]]\n",
    "\n",
    "arr = np.array(arr)\n",
    "\n",
    "e_arr = arr[:,1,1:]\n",
    "print(e_arr)"
   ]
  },
  {
   "cell_type": "markdown",
   "metadata": {},
   "source": [
    "Let’s revisit a bond pricing example we saw in Control flow.\n",
    "\n",
    "Recall that the equation for pricing a bond with coupon payment $C$, face value $M$, yield to maturity $i$, and periods to maturity $N$ is\n",
    "\n",
    "$$\n",
    "\\begin{align}\n",
    "    P &= \\left(\\sum_{n=1}^N \\frac{C}{(i+1)^n}\\right) + \\frac{M}{(1+i)^N} \\\\\n",
    "      &= C \\left(\\frac{1 - (1+i)^{-N}}{i} \\right) + M(1+i)^{-N}\n",
    "\\end{align}\n",
    "$$\n",
    "\n",
    "In the code cell below, we have defined variables for `i`, `M` and `C`.\n",
    "1. You have two tasks:\n",
    "1. Define a numpy array N that contains all maturities between 1 and 10"
   ]
  },
  {
   "cell_type": "code",
   "execution_count": 80,
   "metadata": {},
   "outputs": [
    {
     "name": "stdout",
     "output_type": "stream",
     "text": [
      "array calculation: price of our bound is $117.06\n",
      "direct calculation: price of our bound is $117.06\n"
     ]
    }
   ],
   "source": [
    "i = 0.03\n",
    "M = 100\n",
    "C = 5\n",
    "\n",
    "# Define array here\n",
    "x = np.arange(1,11)\n",
    "N = len(x)\n",
    "# price bonds here\n",
    "face_val_discount = M/(1+i)**N\n",
    "discounts = C/(i+1)**x\n",
    "P = discounts.sum() + face_val_discount\n",
    "P = round(P,2)\n",
    "\n",
    "P_direct = C*(1-(1+i)**(-N))/i + face_val_discount\n",
    "P_direct = round(P_direct, 2)\n",
    "\n",
    "print(f'array calculation: price of our bound is ${P}')\n",
    "print(f'direct calculation: price of our bound is ${P_direct}')"
   ]
  },
  {
   "cell_type": "code",
   "execution_count": null,
   "metadata": {},
   "outputs": [],
   "source": []
  }
 ],
 "metadata": {
  "kernelspec": {
   "display_name": "Python 3",
   "language": "python",
   "name": "python3"
  },
  "language_info": {
   "codemirror_mode": {
    "name": "ipython",
    "version": 3
   },
   "file_extension": ".py",
   "mimetype": "text/x-python",
   "name": "python",
   "nbconvert_exporter": "python",
   "pygments_lexer": "ipython3",
   "version": "3.7.0"
  }
 },
 "nbformat": 4,
 "nbformat_minor": 2
}
