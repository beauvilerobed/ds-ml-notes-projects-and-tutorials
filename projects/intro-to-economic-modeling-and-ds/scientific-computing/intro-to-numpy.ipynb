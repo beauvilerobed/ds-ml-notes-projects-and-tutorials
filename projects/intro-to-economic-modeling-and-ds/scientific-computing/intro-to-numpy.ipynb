{
 "cells": [
  {
   "cell_type": "markdown",
   "metadata": {},
   "source": [
    "# Introduction to Numpy\n",
    "\n",
    "**Outcomes**\n",
    "- Understand basics about numpy arrays\n",
    "- Index into multi-dimensional arrays\n",
    "- Use universal functions/broadcasting to do element-wise operations on arrays\n",
    "\n",
    "# Numpy Arrays\n",
    "Now that we have learned the fundamentals of programming in Python, we will learn how we can use Python to perform the computations required in data science and economics. We call these the “scientific Python tools”.\n",
    "\n",
    "The foundational library that helps us perform these computations is known as `numpy` (numerical Python). Numpy’s core contribution is a new data-type called an array. An array is similar to a list, but numpy imposes some additional restrictions on how the data inside is organized.\n",
    "\n",
    "These restrictions allow numpy to\n",
    "1. Be more efficient in performing mathematical and scientific computations.\n",
    "1. Expose functions that allow numpy to do the necessary linear algebra for machine learning and statistics.\n",
    "\n",
    "Before we get started, please note that the convention for importing the numpy package is to use the nickname np"
   ]
  },
  {
   "cell_type": "code",
   "execution_count": 1,
   "metadata": {},
   "outputs": [],
   "source": [
    "import numpy as np"
   ]
  },
  {
   "cell_type": "markdown",
   "metadata": {},
   "source": [
    "## What is an Array?\n",
    "An array is a multi-dimensional grid of values. What does this mean? It is easier to demonstrate than to explain.\n",
    "\n",
    "In this block of code, we build a 1-dimensional array."
   ]
  },
  {
   "cell_type": "code",
   "execution_count": 2,
   "metadata": {},
   "outputs": [
    {
     "name": "stdout",
     "output_type": "stream",
     "text": [
      "[1 2 3]\n"
     ]
    }
   ],
   "source": [
    "# create an array from a list\n",
    "x_1d = np.array([1, 2, 3])\n",
    "print(x_1d)"
   ]
  },
  {
   "cell_type": "code",
   "execution_count": 3,
   "metadata": {},
   "outputs": [
    {
     "name": "stdout",
     "output_type": "stream",
     "text": [
      "1\n",
      "[1 2]\n"
     ]
    }
   ],
   "source": [
    "# You can think of a 1-dimensional array as a list of numbers.\n",
    "\n",
    "# We can index like we did with lists\n",
    "print(x_1d[0])\n",
    "print(x_1d[0:2])"
   ]
  },
  {
   "cell_type": "code",
   "execution_count": 4,
   "metadata": {},
   "outputs": [
    {
     "name": "stdout",
     "output_type": "stream",
     "text": [
      "[ True  True  True]\n",
      "[1 2]\n"
     ]
    }
   ],
   "source": [
    "# Note that the range of indices does not include the end-point, that is\n",
    "\n",
    "print(x_1d[0:3] == x_1d[:])\n",
    "print(x_1d[0:2])"
   ]
  },
  {
   "cell_type": "code",
   "execution_count": 5,
   "metadata": {},
   "outputs": [
    {
     "name": "stdout",
     "output_type": "stream",
     "text": [
      "[[1 2 3]\n",
      " [4 5 6]\n",
      " [7 8 9]]\n"
     ]
    }
   ],
   "source": [
    "# The differences emerge as we move into higher dimensions.\n",
    "# Next, we define a 2-dimensional array (a matrix)\n",
    "\n",
    "x_2d = np.array([[1, 2, 3], [4, 5, 6], [7, 8, 9]])\n",
    "print(x_2d)"
   ]
  },
  {
   "cell_type": "markdown",
   "metadata": {},
   "source": [
    "Notice that the data is no longer represented as something flat, but rather, as three rows and three columns of numbers.\n",
    "\n",
    "The first question that you might ask yourself is: “how do I access the values in this array?”\n",
    "\n",
    "You access each element by specifying a row first and then a column. For example, if we wanted to access the `6`, we would ask for the (1, 2) element."
   ]
  },
  {
   "cell_type": "code",
   "execution_count": 6,
   "metadata": {},
   "outputs": [
    {
     "name": "stdout",
     "output_type": "stream",
     "text": [
      "6\n"
     ]
    }
   ],
   "source": [
    "print(x_2d[1, 2])  # Indexing into two dimensions!"
   ]
  },
  {
   "cell_type": "markdown",
   "metadata": {},
   "source": [
    "Or to get the top left corner…"
   ]
  },
  {
   "cell_type": "code",
   "execution_count": 7,
   "metadata": {},
   "outputs": [
    {
     "name": "stdout",
     "output_type": "stream",
     "text": [
      "1\n"
     ]
    }
   ],
   "source": [
    "print(x_2d[0, 0])  # Indexing into two dimensions!"
   ]
  },
  {
   "cell_type": "markdown",
   "metadata": {},
   "source": [
    "To get the first, and then second rows…"
   ]
  },
  {
   "cell_type": "code",
   "execution_count": 8,
   "metadata": {},
   "outputs": [
    {
     "name": "stdout",
     "output_type": "stream",
     "text": [
      "[1 2 3]\n",
      "[4 5 6]\n"
     ]
    }
   ],
   "source": [
    "print(x_2d[0, :])\n",
    "print(x_2d[1, :])"
   ]
  },
  {
   "cell_type": "markdown",
   "metadata": {},
   "source": [
    "Or the columns…"
   ]
  },
  {
   "cell_type": "code",
   "execution_count": 9,
   "metadata": {},
   "outputs": [
    {
     "name": "stdout",
     "output_type": "stream",
     "text": [
      "[1 4 7]\n",
      "[2 5 8]\n"
     ]
    }
   ],
   "source": [
    "print(x_2d[:, 0])\n",
    "print(x_2d[:, 1])"
   ]
  },
  {
   "cell_type": "markdown",
   "metadata": {},
   "source": [
    "This continues to generalize, since numpy gives us as many dimensions as we want in an array. For example, we build a 3-dimensional array below."
   ]
  },
  {
   "cell_type": "code",
   "execution_count": 10,
   "metadata": {},
   "outputs": [
    {
     "name": "stdout",
     "output_type": "stream",
     "text": [
      "[[[ 1  2  3]\n",
      "  [ 4  5  6]]\n",
      "\n",
      " [[10 20 30]\n",
      "  [40 50 60]]]\n"
     ]
    }
   ],
   "source": [
    "x_3d_list = [[[1, 2, 3], [4, 5, 6]], [[10, 20, 30], [40, 50, 60]]]\n",
    "x_3d = np.array(x_3d_list)\n",
    "print(x_3d)"
   ]
  },
  {
   "cell_type": "markdown",
   "metadata": {},
   "source": [
    "**Array Indexing**\n",
    "\n",
    "Now that there are multiple dimensions, indexing might feel somewhat non-obvious. Do the rows or columns come first? In higher dimensions, what is the order of the index? \n",
    "\n",
    "Notice that the array is built using a list of lists (you could also use tuples!). Indexing into the array will correspond to choosing elements from each list. First, notice that the dimensions give two stacked matrices, which we can access with"
   ]
  },
  {
   "cell_type": "code",
   "execution_count": 11,
   "metadata": {},
   "outputs": [
    {
     "name": "stdout",
     "output_type": "stream",
     "text": [
      "[[1 2 3]\n",
      " [4 5 6]]\n",
      "[[10 20 30]\n",
      " [40 50 60]]\n"
     ]
    }
   ],
   "source": [
    "print(x_3d[0])\n",
    "print(x_3d[1])"
   ]
  },
  {
   "cell_type": "markdown",
   "metadata": {},
   "source": [
    "In the case of the first, it is synonymous with"
   ]
  },
  {
   "cell_type": "code",
   "execution_count": 12,
   "metadata": {},
   "outputs": [
    {
     "name": "stdout",
     "output_type": "stream",
     "text": [
      "[[1 2 3]\n",
      " [4 5 6]]\n"
     ]
    }
   ],
   "source": [
    "print(x_3d[0, :, :])"
   ]
  },
  {
   "cell_type": "markdown",
   "metadata": {},
   "source": [
    "Let’s work through another example to further clarify this concept with our 3-dimensional array.\n",
    "\n",
    "Our goal will be to find the index that retrieves the `4` out of `x_3d`.\n",
    "\n",
    "Recall that when we created `x_3d`, we used the list `[[[1, 2, 3], [4, 5, 6]], [[10, 20, 30], [40, 50, 60]]]`.\n",
    "\n",
    "Notice that the 0 element of that list is `[[1, 2, 3], [4, 5, 6]]`. This is the list that contains the `4` so the first index we would use is a 0."
   ]
  },
  {
   "cell_type": "code",
   "execution_count": 13,
   "metadata": {},
   "outputs": [
    {
     "name": "stdout",
     "output_type": "stream",
     "text": [
      "The 0 element is [[1, 2, 3], [4, 5, 6]]\n",
      "The 1 element is [[10, 20, 30], [40, 50, 60]]\n"
     ]
    }
   ],
   "source": [
    "print(f\"The 0 element is {x_3d_list[0]}\")\n",
    "print(f\"The 1 element is {x_3d_list[1]}\")"
   ]
  },
  {
   "cell_type": "markdown",
   "metadata": {},
   "source": [
    "We then move to the next lists which were the 0 element of the inner-most dimension. Notice that the two lists at this level `[1, 2, 3]` and `[3, 4, 5]`.\n",
    "\n",
    "The 4 is in the second 1 element (index `1`), so the second index we would choose is 1."
   ]
  },
  {
   "cell_type": "code",
   "execution_count": 14,
   "metadata": {},
   "outputs": [
    {
     "name": "stdout",
     "output_type": "stream",
     "text": [
      "The 0 element of the 0 element is [1, 2, 3]\n",
      "The 1 element of the 0 element is [4, 5, 6]\n"
     ]
    }
   ],
   "source": [
    "print(f\"The 0 element of the 0 element is {x_3d_list[0][0]}\")\n",
    "print(f\"The 1 element of the 0 element is {x_3d_list[0][1]}\")"
   ]
  },
  {
   "cell_type": "markdown",
   "metadata": {},
   "source": [
    "Finally, we move to the outer-most dimension, which has a list of numbers `[4, 5, 6]`.\n",
    "\n",
    "The 4 is element 0 of this list, so the third, or outer-most index, would be `0`."
   ]
  },
  {
   "cell_type": "code",
   "execution_count": 15,
   "metadata": {},
   "outputs": [
    {
     "name": "stdout",
     "output_type": "stream",
     "text": [
      "The 0 element of the 1 element of the 0 element is 4\n"
     ]
    }
   ],
   "source": [
    "print(f\"The 0 element of the 1 element of the 0 element is {x_3d_list[0][1][0]}\")"
   ]
  },
  {
   "cell_type": "markdown",
   "metadata": {},
   "source": [
    "Now we can use these same indices to index into the array. With an array, we can index using a single operation rather than repeated indexing as we did with the list x_3d_list[0][1][0].\n",
    "\n",
    "Let’s test it to see whether we did it correctly!"
   ]
  },
  {
   "cell_type": "code",
   "execution_count": 16,
   "metadata": {},
   "outputs": [
    {
     "name": "stdout",
     "output_type": "stream",
     "text": [
      "4\n"
     ]
    }
   ],
   "source": [
    "print(x_3d[0, 1, 0])"
   ]
  },
  {
   "cell_type": "markdown",
   "metadata": {},
   "source": [
    "Success!\n",
    "\n",
    "We can also select multiple elements at a time – this is called slicing.\n",
    "\n",
    "If we wanted to have an array with just `[1, 2, 3]` then we would do"
   ]
  },
  {
   "cell_type": "code",
   "execution_count": 17,
   "metadata": {},
   "outputs": [
    {
     "name": "stdout",
     "output_type": "stream",
     "text": [
      "[1 2 3]\n"
     ]
    }
   ],
   "source": [
    "print(x_3d[0, 0, :])"
   ]
  },
  {
   "cell_type": "markdown",
   "metadata": {},
   "source": [
    "Notice that we put a `:` on the dimension where we want to select all of the elements. We can also slice out subsets of the elements by doing `start:stop+1`.\n",
    "\n",
    "Notice how the following arrays differ."
   ]
  },
  {
   "cell_type": "code",
   "execution_count": 18,
   "metadata": {},
   "outputs": [
    {
     "name": "stdout",
     "output_type": "stream",
     "text": [
      "[[ 1  2  3]\n",
      " [10 20 30]]\n",
      "[[ 1  2]\n",
      " [10 20]]\n",
      "[[ 1  2]\n",
      " [10 20]]\n"
     ]
    }
   ],
   "source": [
    "print(x_3d[:, 0, :])\n",
    "print(x_3d[:, 0, 0:2])\n",
    "print(x_3d[:, 0, :2])  # the 0  in 0:2 is optional"
   ]
  },
  {
   "cell_type": "code",
   "execution_count": null,
   "metadata": {},
   "outputs": [],
   "source": []
  }
 ],
 "metadata": {
  "kernelspec": {
   "display_name": "Python 3",
   "language": "python",
   "name": "python3"
  },
  "language_info": {
   "codemirror_mode": {
    "name": "ipython",
    "version": 3
   },
   "file_extension": ".py",
   "mimetype": "text/x-python",
   "name": "python",
   "nbconvert_exporter": "python",
   "pygments_lexer": "ipython3",
   "version": "3.7.0"
  }
 },
 "nbformat": 4,
 "nbformat_minor": 2
}
