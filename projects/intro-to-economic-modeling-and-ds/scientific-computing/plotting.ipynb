{
 "cells": [
  {
   "cell_type": "markdown",
   "metadata": {},
   "source": [
    "# Plotting\n",
    "\n",
    "**Outcomes**\n",
    "- Understand components of matplotlib plots\n",
    "- Make basic plots\n",
    "\n",
    "# Visualization\n",
    "One of the most important outputs of your analysis will be the visualizations that you choose to communicate what you’ve discovered.\n",
    "\n",
    "Here are what some people – whom we think have earned the right to an opinion on this material – have said with respect to data visualizations.\n",
    "\n",
    "> I spend hours thinking about how to get the story across in my visualizations. I don’t mind taking that long because it’s that five minutes of presenting it or someone getting it that can make or break a deal – Goldman Sachs executive\n",
    "\n",
    "We won’t have time to cover “how to make a compelling data visualization” in this lecture. Instead, we will focus on the basics of creating visualizations in Python.\n",
    "\n",
    "This will be a fast introduction, but this material appears in almost every lecture going forward, which will help the concepts sink in. In almost any profession that you pursue, much of what you do involves communicating ideas to others.\n",
    "\n",
    "Data visualization can help you communicate these ideas effectively, and we encourage you to learn more about what makes a useful visualization.\n",
    "\n",
    "We include some references that we have found useful below.\n",
    "- [The Functional Art: An introduction to information graphics and visualization](https://www.amazon.com/The-Functional-Art-introduction-visualization/dp/0321834739/) by Alberto Cairo\n",
    "- [The Visual Display of Quantitative Information](https://www.amazon.com/Visual-Display-Quantitative-Information/dp/1930824130) by Edward Tufte\n",
    "- [The Wall Street Journal Guide to Information Graphics: The Dos and Don’ts of Presenting Data, Facts, and Figures](https://www.amazon.com/Street-Journal-Guide-Information-Graphics/dp/0393347281) by Dona M Wong\n",
    "\n",
    "The most widely used plotting package in Python is matplotlib. The standard import alias is"
   ]
  },
  {
   "cell_type": "markdown",
   "metadata": {},
   "source": []
  }
 ],
 "metadata": {
  "language_info": {
   "name": "python"
  }
 },
 "nbformat": 4,
 "nbformat_minor": 2
}
