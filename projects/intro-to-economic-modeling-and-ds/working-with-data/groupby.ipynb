{
 "cells": [
  {
   "cell_type": "markdown",
   "metadata": {},
   "source": [
    "# GroupBy\n",
    "\n",
    "**Outcomes**\n",
    "- Understand the split-apply-combine strategy for aggregate computations on groups of data\n",
    "- Be able use basic aggregation methods on 'df.groupby' to compute within group statistics\n",
    "- Understand how to group by multiple keys at once"
   ]
  },
  {
   "cell_type": "markdown",
   "metadata": {},
   "source": []
  }
 ],
 "metadata": {
  "language_info": {
   "name": "python"
  }
 },
 "nbformat": 4,
 "nbformat_minor": 2
}
