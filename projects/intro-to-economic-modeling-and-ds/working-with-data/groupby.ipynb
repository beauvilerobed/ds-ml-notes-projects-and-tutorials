{
 "cells": [
  {
   "cell_type": "markdown",
   "metadata": {},
   "source": [
    "# GroupBy\n",
    "\n",
    "**Outcomes**\n",
    "- Understand the split-apply-combine strategy for aggregate computations on groups of data\n",
    "- Be able use basic aggregation methods on 'df.groupby' to compute within group statistics\n",
    "- Understand how to group by multiple keys at once\n",
    "\n",
    "**Data**\n",
    "- Details for all delayed US domestic flights in December 2016, obtained from the [Bureau of Transportation Statistics](https://www.transtats.bts.gov/OT_Delay/OT_DelayCause1.asp)"
   ]
  },
  {
   "cell_type": "code",
   "execution_count": 1,
   "metadata": {},
   "outputs": [],
   "source": [
    "import random\n",
    "import numpy as np\n",
    "import pandas as pd\n",
    "import matplotlib.pyplot as plt\n",
    "\n",
    "%matplotlib inline"
   ]
  },
  {
   "cell_type": "markdown",
   "metadata": {},
   "source": [
    "# Split-Apply-Combine\n",
    "One powerful paradigm for analyzing data is the “Split-Apply-Combine” strategy.\n",
    "\n",
    "This strategy has three steps:\n",
    "1. `Split`: split the data into groups based on values in one or more columns.\n",
    "1. `Apply`: apply a function or routine to each group separately.\n",
    "1. `Combine`: combine the output of the apply step into a DataFrame, using the group identifiers as the index.\n",
    "\n",
    "We will cover the main components in this notebook, but we encourage you to also study the [official documentation](https://pandas.pydata.org/pandas-docs/stable/groupby.html) to learn more about what is possible.\n",
    "To describe the concepts, we will need some data.\n",
    "We will begin with a simple made-up dataset to discuss the concepts and then work through extended example and exercises with real data."
   ]
  },
  {
   "cell_type": "code",
   "execution_count": 2,
   "metadata": {},
   "outputs": [
    {
     "data": {
      "text/html": [
       "<div>\n",
       "<style scoped>\n",
       "    .dataframe tbody tr th:only-of-type {\n",
       "        vertical-align: middle;\n",
       "    }\n",
       "\n",
       "    .dataframe tbody tr th {\n",
       "        vertical-align: top;\n",
       "    }\n",
       "\n",
       "    .dataframe thead th {\n",
       "        text-align: right;\n",
       "    }\n",
       "</style>\n",
       "<table border=\"1\" class=\"dataframe\">\n",
       "  <thead>\n",
       "    <tr style=\"text-align: right;\">\n",
       "      <th></th>\n",
       "      <th>A</th>\n",
       "      <th>B</th>\n",
       "      <th>C</th>\n",
       "    </tr>\n",
       "  </thead>\n",
       "  <tbody>\n",
       "    <tr>\n",
       "      <th>0</th>\n",
       "      <td>1</td>\n",
       "      <td>1</td>\n",
       "      <td>1.0</td>\n",
       "    </tr>\n",
       "    <tr>\n",
       "      <th>1</th>\n",
       "      <td>1</td>\n",
       "      <td>1</td>\n",
       "      <td>2.0</td>\n",
       "    </tr>\n",
       "    <tr>\n",
       "      <th>2</th>\n",
       "      <td>1</td>\n",
       "      <td>2</td>\n",
       "      <td>3.0</td>\n",
       "    </tr>\n",
       "    <tr>\n",
       "      <th>3</th>\n",
       "      <td>2</td>\n",
       "      <td>2</td>\n",
       "      <td>NaN</td>\n",
       "    </tr>\n",
       "    <tr>\n",
       "      <th>4</th>\n",
       "      <td>2</td>\n",
       "      <td>1</td>\n",
       "      <td>5.0</td>\n",
       "    </tr>\n",
       "    <tr>\n",
       "      <th>5</th>\n",
       "      <td>2</td>\n",
       "      <td>1</td>\n",
       "      <td>NaN</td>\n",
       "    </tr>\n",
       "  </tbody>\n",
       "</table>\n",
       "</div>"
      ],
      "text/plain": [
       "   A  B    C\n",
       "0  1  1  1.0\n",
       "1  1  1  2.0\n",
       "2  1  2  3.0\n",
       "3  2  2  NaN\n",
       "4  2  1  5.0\n",
       "5  2  1  NaN"
      ]
     },
     "execution_count": 2,
     "metadata": {},
     "output_type": "execute_result"
    }
   ],
   "source": [
    "C = np.arange(1, 7, dtype=float)\n",
    "C[[3, 5]] = np.nan\n",
    "df = pd.DataFrame({\n",
    "    \"A\" : [1, 1, 1, 2, 2, 2],\n",
    "    \"B\" : [1, 1, 2, 2, 1, 1],\n",
    "    \"C\": C,\n",
    "})\n",
    "df"
   ]
  },
  {
   "cell_type": "markdown",
   "metadata": {},
   "source": [
    "## Simple Example\n",
    "To perform the *Split* step, we call the groupby method on our DataFrame.\n",
    "The first argument to `groupby` is a description of how we want to construct groups.\n",
    "In the most basic version, we will pass a string identifying the column name."
   ]
  },
  {
   "cell_type": "code",
   "execution_count": 3,
   "metadata": {},
   "outputs": [],
   "source": [
    "gbA = df.groupby(\"A\")"
   ]
  },
  {
   "cell_type": "markdown",
   "metadata": {},
   "source": [
    "The `type` of variable we get back is a `DataFrameGroupBy`, which we will sometimes refer to as GroupBy for short."
   ]
  },
  {
   "cell_type": "code",
   "execution_count": 4,
   "metadata": {},
   "outputs": [
    {
     "data": {
      "text/plain": [
       "pandas.core.groupby.generic.DataFrameGroupBy"
      ]
     },
     "execution_count": 4,
     "metadata": {},
     "output_type": "execute_result"
    }
   ],
   "source": [
    "type(gbA)"
   ]
  },
  {
   "cell_type": "markdown",
   "metadata": {},
   "source": [
    "```\n",
    "pandas.core.groupby.generic.DataFrameGroupBy\n",
    "```\n",
    "\n",
    "Looking at the “groups” inside of the GroupBy object can help us understand what the GroupBy represents.\n",
    "We can do this with the `gb.get_group(group_name)` method."
   ]
  },
  {
   "cell_type": "code",
   "execution_count": 23,
   "metadata": {},
   "outputs": [
    {
     "data": {
      "text/html": [
       "<div>\n",
       "<style scoped>\n",
       "    .dataframe tbody tr th:only-of-type {\n",
       "        vertical-align: middle;\n",
       "    }\n",
       "\n",
       "    .dataframe tbody tr th {\n",
       "        vertical-align: top;\n",
       "    }\n",
       "\n",
       "    .dataframe thead th {\n",
       "        text-align: right;\n",
       "    }\n",
       "</style>\n",
       "<table border=\"1\" class=\"dataframe\">\n",
       "  <thead>\n",
       "    <tr style=\"text-align: right;\">\n",
       "      <th></th>\n",
       "      <th>B</th>\n",
       "      <th>C</th>\n",
       "    </tr>\n",
       "  </thead>\n",
       "  <tbody>\n",
       "    <tr>\n",
       "      <th>0</th>\n",
       "      <td>1</td>\n",
       "      <td>1.0</td>\n",
       "    </tr>\n",
       "    <tr>\n",
       "      <th>1</th>\n",
       "      <td>1</td>\n",
       "      <td>2.0</td>\n",
       "    </tr>\n",
       "    <tr>\n",
       "      <th>2</th>\n",
       "      <td>2</td>\n",
       "      <td>3.0</td>\n",
       "    </tr>\n",
       "  </tbody>\n",
       "</table>\n",
       "</div>"
      ],
      "text/plain": [
       "   B    C\n",
       "0  1  1.0\n",
       "1  1  2.0\n",
       "2  2  3.0"
      ]
     },
     "execution_count": 23,
     "metadata": {},
     "output_type": "execute_result"
    }
   ],
   "source": [
    "gbA.get_group(1)"
   ]
  },
  {
   "cell_type": "code",
   "execution_count": 6,
   "metadata": {},
   "outputs": [
    {
     "data": {
      "text/html": [
       "<div>\n",
       "<style scoped>\n",
       "    .dataframe tbody tr th:only-of-type {\n",
       "        vertical-align: middle;\n",
       "    }\n",
       "\n",
       "    .dataframe tbody tr th {\n",
       "        vertical-align: top;\n",
       "    }\n",
       "\n",
       "    .dataframe thead th {\n",
       "        text-align: right;\n",
       "    }\n",
       "</style>\n",
       "<table border=\"1\" class=\"dataframe\">\n",
       "  <thead>\n",
       "    <tr style=\"text-align: right;\">\n",
       "      <th></th>\n",
       "      <th>A</th>\n",
       "      <th>B</th>\n",
       "      <th>C</th>\n",
       "    </tr>\n",
       "  </thead>\n",
       "  <tbody>\n",
       "    <tr>\n",
       "      <th>3</th>\n",
       "      <td>2</td>\n",
       "      <td>2</td>\n",
       "      <td>NaN</td>\n",
       "    </tr>\n",
       "    <tr>\n",
       "      <th>4</th>\n",
       "      <td>2</td>\n",
       "      <td>1</td>\n",
       "      <td>5.0</td>\n",
       "    </tr>\n",
       "    <tr>\n",
       "      <th>5</th>\n",
       "      <td>2</td>\n",
       "      <td>1</td>\n",
       "      <td>NaN</td>\n",
       "    </tr>\n",
       "  </tbody>\n",
       "</table>\n",
       "</div>"
      ],
      "text/plain": [
       "   A  B    C\n",
       "3  2  2  NaN\n",
       "4  2  1  5.0\n",
       "5  2  1  NaN"
      ]
     },
     "execution_count": 6,
     "metadata": {},
     "output_type": "execute_result"
    }
   ],
   "source": [
    "gbA.get_group(2)"
   ]
  },
  {
   "cell_type": "markdown",
   "metadata": {},
   "source": [
    "We can *apply* some of our favorite aggregation functions directly on the `GroupBy` object.\n",
    "If we pass a list of strings to `groupby`, it will group based on unique combinations of values from all columns in the list.\n",
    "\n",
    "Let’s see an example."
   ]
  },
  {
   "cell_type": "code",
   "execution_count": 7,
   "metadata": {},
   "outputs": [
    {
     "data": {
      "text/plain": [
       "pandas.core.groupby.generic.DataFrameGroupBy"
      ]
     },
     "execution_count": 7,
     "metadata": {},
     "output_type": "execute_result"
    }
   ],
   "source": [
    "gbAB = df.groupby([\"A\", \"B\"])\n",
    "type(gbAB)"
   ]
  },
  {
   "cell_type": "code",
   "execution_count": 8,
   "metadata": {},
   "outputs": [
    {
     "data": {
      "text/html": [
       "<div>\n",
       "<style scoped>\n",
       "    .dataframe tbody tr th:only-of-type {\n",
       "        vertical-align: middle;\n",
       "    }\n",
       "\n",
       "    .dataframe tbody tr th {\n",
       "        vertical-align: top;\n",
       "    }\n",
       "\n",
       "    .dataframe thead th {\n",
       "        text-align: right;\n",
       "    }\n",
       "</style>\n",
       "<table border=\"1\" class=\"dataframe\">\n",
       "  <thead>\n",
       "    <tr style=\"text-align: right;\">\n",
       "      <th></th>\n",
       "      <th>A</th>\n",
       "      <th>B</th>\n",
       "      <th>C</th>\n",
       "    </tr>\n",
       "  </thead>\n",
       "  <tbody>\n",
       "    <tr>\n",
       "      <th>0</th>\n",
       "      <td>1</td>\n",
       "      <td>1</td>\n",
       "      <td>1.0</td>\n",
       "    </tr>\n",
       "    <tr>\n",
       "      <th>1</th>\n",
       "      <td>1</td>\n",
       "      <td>1</td>\n",
       "      <td>2.0</td>\n",
       "    </tr>\n",
       "  </tbody>\n",
       "</table>\n",
       "</div>"
      ],
      "text/plain": [
       "   A  B    C\n",
       "0  1  1  1.0\n",
       "1  1  1  2.0"
      ]
     },
     "execution_count": 8,
     "metadata": {},
     "output_type": "execute_result"
    }
   ],
   "source": [
    "gbAB.get_group((1, 1))"
   ]
  },
  {
   "cell_type": "markdown",
   "metadata": {},
   "source": [
    "Notice that we still have a `GroupBy` object, so we can apply our favorite aggregations."
   ]
  },
  {
   "cell_type": "code",
   "execution_count": 9,
   "metadata": {},
   "outputs": [
    {
     "data": {
      "text/html": [
       "<div>\n",
       "<style scoped>\n",
       "    .dataframe tbody tr th:only-of-type {\n",
       "        vertical-align: middle;\n",
       "    }\n",
       "\n",
       "    .dataframe tbody tr th {\n",
       "        vertical-align: top;\n",
       "    }\n",
       "\n",
       "    .dataframe thead th {\n",
       "        text-align: right;\n",
       "    }\n",
       "</style>\n",
       "<table border=\"1\" class=\"dataframe\">\n",
       "  <thead>\n",
       "    <tr style=\"text-align: right;\">\n",
       "      <th></th>\n",
       "      <th></th>\n",
       "      <th>C</th>\n",
       "    </tr>\n",
       "    <tr>\n",
       "      <th>A</th>\n",
       "      <th>B</th>\n",
       "      <th></th>\n",
       "    </tr>\n",
       "  </thead>\n",
       "  <tbody>\n",
       "    <tr>\n",
       "      <th rowspan=\"2\" valign=\"top\">1</th>\n",
       "      <th>1</th>\n",
       "      <td>2</td>\n",
       "    </tr>\n",
       "    <tr>\n",
       "      <th>2</th>\n",
       "      <td>1</td>\n",
       "    </tr>\n",
       "    <tr>\n",
       "      <th rowspan=\"2\" valign=\"top\">2</th>\n",
       "      <th>1</th>\n",
       "      <td>1</td>\n",
       "    </tr>\n",
       "    <tr>\n",
       "      <th>2</th>\n",
       "      <td>0</td>\n",
       "    </tr>\n",
       "  </tbody>\n",
       "</table>\n",
       "</div>"
      ],
      "text/plain": [
       "     C\n",
       "A B   \n",
       "1 1  2\n",
       "  2  1\n",
       "2 1  1\n",
       "  2  0"
      ]
     },
     "execution_count": 9,
     "metadata": {},
     "output_type": "execute_result"
    }
   ],
   "source": [
    "gbAB.count()"
   ]
  },
  {
   "cell_type": "markdown",
   "metadata": {},
   "source": [
    "Notice that the output is a DataFrame with two levels on the index and a single column `C`. (Quiz: how do we know it is a DataFrame with one column and not a Series?)\n",
    "\n",
    "This highlights a principle of how pandas handles the *Combine* part of the strategy:\n",
    "\n",
    "> The index of the combined DataFrame will be the group identifiers, with one index level per group key.\n",
    "\n",
    "### Custom Aggregate Functions\n",
    "So far, we have been applying built-in aggregations to our `GroupBy` object.\n",
    "We can also apply custom aggregations to each group of a GroupBy in two steps:\n",
    "1. Write our custom aggregation as a Python function.\n",
    "1. Passing our function as an argument to the .agg method of a GroupBy.\n",
    "\n",
    "Let’s see an example."
   ]
  },
  {
   "cell_type": "code",
   "execution_count": 10,
   "metadata": {},
   "outputs": [],
   "source": [
    "def num_missing(df):\n",
    "    \"Return the number of missing items in each column of df\"\n",
    "    return df.isnull().sum()"
   ]
  },
  {
   "cell_type": "markdown",
   "metadata": {},
   "source": [
    "We can call this function on our original DataFrame to get the number of missing items in each column."
   ]
  },
  {
   "cell_type": "code",
   "execution_count": 11,
   "metadata": {},
   "outputs": [
    {
     "data": {
      "text/plain": [
       "A    0\n",
       "B    0\n",
       "C    2\n",
       "dtype: int64"
      ]
     },
     "execution_count": 11,
     "metadata": {},
     "output_type": "execute_result"
    }
   ],
   "source": [
    "num_missing(df)"
   ]
  },
  {
   "cell_type": "markdown",
   "metadata": {},
   "source": [
    "We can also apply it to a GroupBy object to get the number of missing items in each column for each group."
   ]
  },
  {
   "cell_type": "code",
   "execution_count": 12,
   "metadata": {},
   "outputs": [
    {
     "data": {
      "text/html": [
       "<div>\n",
       "<style scoped>\n",
       "    .dataframe tbody tr th:only-of-type {\n",
       "        vertical-align: middle;\n",
       "    }\n",
       "\n",
       "    .dataframe tbody tr th {\n",
       "        vertical-align: top;\n",
       "    }\n",
       "\n",
       "    .dataframe thead th {\n",
       "        text-align: right;\n",
       "    }\n",
       "</style>\n",
       "<table border=\"1\" class=\"dataframe\">\n",
       "  <thead>\n",
       "    <tr style=\"text-align: right;\">\n",
       "      <th></th>\n",
       "      <th>B</th>\n",
       "      <th>C</th>\n",
       "    </tr>\n",
       "    <tr>\n",
       "      <th>A</th>\n",
       "      <th></th>\n",
       "      <th></th>\n",
       "    </tr>\n",
       "  </thead>\n",
       "  <tbody>\n",
       "    <tr>\n",
       "      <th>1</th>\n",
       "      <td>0</td>\n",
       "      <td>0.0</td>\n",
       "    </tr>\n",
       "    <tr>\n",
       "      <th>2</th>\n",
       "      <td>0</td>\n",
       "      <td>2.0</td>\n",
       "    </tr>\n",
       "  </tbody>\n",
       "</table>\n",
       "</div>"
      ],
      "text/plain": [
       "   B    C\n",
       "A        \n",
       "1  0  0.0\n",
       "2  0  2.0"
      ]
     },
     "execution_count": 12,
     "metadata": {},
     "output_type": "execute_result"
    }
   ],
   "source": [
    "gbA.agg(num_missing)"
   ]
  },
  {
   "cell_type": "markdown",
   "metadata": {},
   "source": [
    "The key to keep in mind is that the function we pass to `agg` should take in a DataFrame (or Series) and return a Series (or single value) with one item per column in the original DataFrame.\n",
    "When the function is called, the data for each group will be passed to our function as a DataFrame (or Series).\n",
    "\n",
    "### Transforms: The `apply` Method\n",
    "As we saw in the [basics notebook](https://datascience.quantecon.org/pandas/basics.html), we can apply transforms to DataFrames.\n",
    "We can do the same with GroupBy objects using the `.apply` method.\n",
    "\n",
    "Let’s see an example."
   ]
  },
  {
   "cell_type": "code",
   "execution_count": 13,
   "metadata": {},
   "outputs": [
    {
     "data": {
      "text/html": [
       "<div>\n",
       "<style scoped>\n",
       "    .dataframe tbody tr th:only-of-type {\n",
       "        vertical-align: middle;\n",
       "    }\n",
       "\n",
       "    .dataframe tbody tr th {\n",
       "        vertical-align: top;\n",
       "    }\n",
       "\n",
       "    .dataframe thead th {\n",
       "        text-align: right;\n",
       "    }\n",
       "</style>\n",
       "<table border=\"1\" class=\"dataframe\">\n",
       "  <thead>\n",
       "    <tr style=\"text-align: right;\">\n",
       "      <th></th>\n",
       "      <th>A</th>\n",
       "      <th>B</th>\n",
       "      <th>C</th>\n",
       "    </tr>\n",
       "  </thead>\n",
       "  <tbody>\n",
       "    <tr>\n",
       "      <th>0</th>\n",
       "      <td>1</td>\n",
       "      <td>1</td>\n",
       "      <td>1.0</td>\n",
       "    </tr>\n",
       "    <tr>\n",
       "      <th>1</th>\n",
       "      <td>1</td>\n",
       "      <td>1</td>\n",
       "      <td>2.0</td>\n",
       "    </tr>\n",
       "    <tr>\n",
       "      <th>2</th>\n",
       "      <td>1</td>\n",
       "      <td>2</td>\n",
       "      <td>3.0</td>\n",
       "    </tr>\n",
       "    <tr>\n",
       "      <th>3</th>\n",
       "      <td>2</td>\n",
       "      <td>2</td>\n",
       "      <td>NaN</td>\n",
       "    </tr>\n",
       "    <tr>\n",
       "      <th>4</th>\n",
       "      <td>2</td>\n",
       "      <td>1</td>\n",
       "      <td>5.0</td>\n",
       "    </tr>\n",
       "    <tr>\n",
       "      <th>5</th>\n",
       "      <td>2</td>\n",
       "      <td>1</td>\n",
       "      <td>NaN</td>\n",
       "    </tr>\n",
       "  </tbody>\n",
       "</table>\n",
       "</div>"
      ],
      "text/plain": [
       "   A  B    C\n",
       "0  1  1  1.0\n",
       "1  1  1  2.0\n",
       "2  1  2  3.0\n",
       "3  2  2  NaN\n",
       "4  2  1  5.0\n",
       "5  2  1  NaN"
      ]
     },
     "execution_count": 13,
     "metadata": {},
     "output_type": "execute_result"
    }
   ],
   "source": [
    "df"
   ]
  },
  {
   "cell_type": "code",
   "execution_count": 21,
   "metadata": {},
   "outputs": [],
   "source": [
    "def smallest_by_b(df):\n",
    "    return df.nsmallest(2, \"B\")"
   ]
  },
  {
   "cell_type": "code",
   "execution_count": 22,
   "metadata": {},
   "outputs": [
    {
     "data": {
      "text/html": [
       "<div>\n",
       "<style scoped>\n",
       "    .dataframe tbody tr th:only-of-type {\n",
       "        vertical-align: middle;\n",
       "    }\n",
       "\n",
       "    .dataframe tbody tr th {\n",
       "        vertical-align: top;\n",
       "    }\n",
       "\n",
       "    .dataframe thead th {\n",
       "        text-align: right;\n",
       "    }\n",
       "</style>\n",
       "<table border=\"1\" class=\"dataframe\">\n",
       "  <thead>\n",
       "    <tr style=\"text-align: right;\">\n",
       "      <th></th>\n",
       "      <th></th>\n",
       "      <th>B</th>\n",
       "      <th>C</th>\n",
       "    </tr>\n",
       "    <tr>\n",
       "      <th>A</th>\n",
       "      <th></th>\n",
       "      <th></th>\n",
       "      <th></th>\n",
       "    </tr>\n",
       "  </thead>\n",
       "  <tbody>\n",
       "    <tr>\n",
       "      <th rowspan=\"2\" valign=\"top\">1</th>\n",
       "      <th>0</th>\n",
       "      <td>1</td>\n",
       "      <td>1.0</td>\n",
       "    </tr>\n",
       "    <tr>\n",
       "      <th>1</th>\n",
       "      <td>1</td>\n",
       "      <td>2.0</td>\n",
       "    </tr>\n",
       "    <tr>\n",
       "      <th rowspan=\"2\" valign=\"top\">2</th>\n",
       "      <th>4</th>\n",
       "      <td>1</td>\n",
       "      <td>5.0</td>\n",
       "    </tr>\n",
       "    <tr>\n",
       "      <th>5</th>\n",
       "      <td>1</td>\n",
       "      <td>NaN</td>\n",
       "    </tr>\n",
       "  </tbody>\n",
       "</table>\n",
       "</div>"
      ],
      "text/plain": [
       "     B    C\n",
       "A          \n",
       "1 0  1  1.0\n",
       "  1  1  2.0\n",
       "2 4  1  5.0\n",
       "  5  1  NaN"
      ]
     },
     "execution_count": 22,
     "metadata": {},
     "output_type": "execute_result"
    }
   ],
   "source": [
    "gbA.apply(smallest_by_b)"
   ]
  },
  {
   "cell_type": "markdown",
   "metadata": {},
   "source": [
    "Notice that the return value from applying our series transform to `gbA` was the group key on the outer level (the A column) and the original index from `df` on the inner level.\n",
    "The original index came along because that was the index of the DataFrame returned by `smallest_by_b`.\n",
    "Had our function returned something other than the index from `df`, that would appear in the result of the call to `.apply`.\n",
    "\n",
    "`pd.Grouper`\n",
    "\n",
    "Sometimes, in order to construct the groups you want, you need to give pandas more information than just a column name.\n",
    "Some examples are:\n",
    "- Grouping by a column and a level of the index.\n",
    "- Grouping time series data at a particular frequency.\n",
    "\n",
    "pandas lets you do this through the `pd.Grouper` type.\n",
    "\n",
    "To see it in action, let’s make a copy of `df` with A moved to the index and a Date column added."
   ]
  },
  {
   "cell_type": "code",
   "execution_count": 25,
   "metadata": {},
   "outputs": [
    {
     "data": {
      "text/html": [
       "<div>\n",
       "<style scoped>\n",
       "    .dataframe tbody tr th:only-of-type {\n",
       "        vertical-align: middle;\n",
       "    }\n",
       "\n",
       "    .dataframe tbody tr th {\n",
       "        vertical-align: top;\n",
       "    }\n",
       "\n",
       "    .dataframe thead th {\n",
       "        text-align: right;\n",
       "    }\n",
       "</style>\n",
       "<table border=\"1\" class=\"dataframe\">\n",
       "  <thead>\n",
       "    <tr style=\"text-align: right;\">\n",
       "      <th></th>\n",
       "      <th>B</th>\n",
       "      <th>C</th>\n",
       "      <th>Date</th>\n",
       "    </tr>\n",
       "    <tr>\n",
       "      <th>A</th>\n",
       "      <th></th>\n",
       "      <th></th>\n",
       "      <th></th>\n",
       "    </tr>\n",
       "  </thead>\n",
       "  <tbody>\n",
       "    <tr>\n",
       "      <th>1</th>\n",
       "      <td>1</td>\n",
       "      <td>1.0</td>\n",
       "      <td>2025-03-31</td>\n",
       "    </tr>\n",
       "    <tr>\n",
       "      <th>1</th>\n",
       "      <td>1</td>\n",
       "      <td>2.0</td>\n",
       "      <td>2025-06-30</td>\n",
       "    </tr>\n",
       "    <tr>\n",
       "      <th>1</th>\n",
       "      <td>2</td>\n",
       "      <td>3.0</td>\n",
       "      <td>2025-09-30</td>\n",
       "    </tr>\n",
       "    <tr>\n",
       "      <th>2</th>\n",
       "      <td>2</td>\n",
       "      <td>NaN</td>\n",
       "      <td>2025-12-31</td>\n",
       "    </tr>\n",
       "    <tr>\n",
       "      <th>2</th>\n",
       "      <td>1</td>\n",
       "      <td>5.0</td>\n",
       "      <td>2026-03-31</td>\n",
       "    </tr>\n",
       "    <tr>\n",
       "      <th>2</th>\n",
       "      <td>1</td>\n",
       "      <td>NaN</td>\n",
       "      <td>2026-06-30</td>\n",
       "    </tr>\n",
       "  </tbody>\n",
       "</table>\n",
       "</div>"
      ],
      "text/plain": [
       "   B    C       Date\n",
       "A                   \n",
       "1  1  1.0 2025-03-31\n",
       "1  1  2.0 2025-06-30\n",
       "1  2  3.0 2025-09-30\n",
       "2  2  NaN 2025-12-31\n",
       "2  1  5.0 2026-03-31\n",
       "2  1  NaN 2026-06-30"
      ]
     },
     "execution_count": 25,
     "metadata": {},
     "output_type": "execute_result"
    }
   ],
   "source": [
    "df2 = df.copy()\n",
    "df2[\"Date\"] = pd.date_range(\n",
    "    start=pd.Timestamp.today().strftime(\"%m/%d/%Y\"),\n",
    "    freq=\"Q\",\n",
    "    periods=df.shape[0]\n",
    ")\n",
    "df2 = df2.set_index(\"A\")\n",
    "df2"
   ]
  },
  {
   "cell_type": "markdown",
   "metadata": {},
   "source": [
    "We can group by year."
   ]
  },
  {
   "cell_type": "code",
   "execution_count": 27,
   "metadata": {},
   "outputs": [
    {
     "data": {
      "text/html": [
       "<div>\n",
       "<style scoped>\n",
       "    .dataframe tbody tr th:only-of-type {\n",
       "        vertical-align: middle;\n",
       "    }\n",
       "\n",
       "    .dataframe tbody tr th {\n",
       "        vertical-align: top;\n",
       "    }\n",
       "\n",
       "    .dataframe thead th {\n",
       "        text-align: right;\n",
       "    }\n",
       "</style>\n",
       "<table border=\"1\" class=\"dataframe\">\n",
       "  <thead>\n",
       "    <tr style=\"text-align: right;\">\n",
       "      <th></th>\n",
       "      <th>B</th>\n",
       "      <th>C</th>\n",
       "    </tr>\n",
       "    <tr>\n",
       "      <th>Date</th>\n",
       "      <th></th>\n",
       "      <th></th>\n",
       "    </tr>\n",
       "  </thead>\n",
       "  <tbody>\n",
       "    <tr>\n",
       "      <th>2025-12-31</th>\n",
       "      <td>4</td>\n",
       "      <td>3</td>\n",
       "    </tr>\n",
       "    <tr>\n",
       "      <th>2026-12-31</th>\n",
       "      <td>2</td>\n",
       "      <td>1</td>\n",
       "    </tr>\n",
       "  </tbody>\n",
       "</table>\n",
       "</div>"
      ],
      "text/plain": [
       "            B  C\n",
       "Date            \n",
       "2025-12-31  4  3\n",
       "2026-12-31  2  1"
      ]
     },
     "execution_count": 27,
     "metadata": {},
     "output_type": "execute_result"
    }
   ],
   "source": [
    "df2.groupby(pd.Grouper(key=\"Date\", freq=\"Y\")).count()"
   ]
  },
  {
   "cell_type": "markdown",
   "metadata": {},
   "source": [
    "We can group by the A level of the index."
   ]
  },
  {
   "cell_type": "code",
   "execution_count": 28,
   "metadata": {},
   "outputs": [
    {
     "data": {
      "text/html": [
       "<div>\n",
       "<style scoped>\n",
       "    .dataframe tbody tr th:only-of-type {\n",
       "        vertical-align: middle;\n",
       "    }\n",
       "\n",
       "    .dataframe tbody tr th {\n",
       "        vertical-align: top;\n",
       "    }\n",
       "\n",
       "    .dataframe thead th {\n",
       "        text-align: right;\n",
       "    }\n",
       "</style>\n",
       "<table border=\"1\" class=\"dataframe\">\n",
       "  <thead>\n",
       "    <tr style=\"text-align: right;\">\n",
       "      <th></th>\n",
       "      <th>B</th>\n",
       "      <th>C</th>\n",
       "      <th>Date</th>\n",
       "    </tr>\n",
       "    <tr>\n",
       "      <th>A</th>\n",
       "      <th></th>\n",
       "      <th></th>\n",
       "      <th></th>\n",
       "    </tr>\n",
       "  </thead>\n",
       "  <tbody>\n",
       "    <tr>\n",
       "      <th>1</th>\n",
       "      <td>3</td>\n",
       "      <td>3</td>\n",
       "      <td>3</td>\n",
       "    </tr>\n",
       "    <tr>\n",
       "      <th>2</th>\n",
       "      <td>3</td>\n",
       "      <td>1</td>\n",
       "      <td>3</td>\n",
       "    </tr>\n",
       "  </tbody>\n",
       "</table>\n",
       "</div>"
      ],
      "text/plain": [
       "   B  C  Date\n",
       "A            \n",
       "1  3  3     3\n",
       "2  3  1     3"
      ]
     },
     "execution_count": 28,
     "metadata": {},
     "output_type": "execute_result"
    }
   ],
   "source": [
    "df2.groupby(pd.Grouper(level=\"A\")).count()"
   ]
  },
  {
   "cell_type": "code",
   "execution_count": 31,
   "metadata": {},
   "outputs": [
    {
     "data": {
      "text/html": [
       "<div>\n",
       "<style scoped>\n",
       "    .dataframe tbody tr th:only-of-type {\n",
       "        vertical-align: middle;\n",
       "    }\n",
       "\n",
       "    .dataframe tbody tr th {\n",
       "        vertical-align: top;\n",
       "    }\n",
       "\n",
       "    .dataframe thead th {\n",
       "        text-align: right;\n",
       "    }\n",
       "</style>\n",
       "<table border=\"1\" class=\"dataframe\">\n",
       "  <thead>\n",
       "    <tr style=\"text-align: right;\">\n",
       "      <th></th>\n",
       "      <th>B</th>\n",
       "      <th>C</th>\n",
       "      <th>Date</th>\n",
       "    </tr>\n",
       "    <tr>\n",
       "      <th>A</th>\n",
       "      <th></th>\n",
       "      <th></th>\n",
       "      <th></th>\n",
       "    </tr>\n",
       "  </thead>\n",
       "  <tbody>\n",
       "    <tr>\n",
       "      <th>1</th>\n",
       "      <td>3</td>\n",
       "      <td>3</td>\n",
       "      <td>3</td>\n",
       "    </tr>\n",
       "    <tr>\n",
       "      <th>2</th>\n",
       "      <td>3</td>\n",
       "      <td>1</td>\n",
       "      <td>3</td>\n",
       "    </tr>\n",
       "  </tbody>\n",
       "</table>\n",
       "</div>"
      ],
      "text/plain": [
       "   B  C  Date\n",
       "A            \n",
       "1  3  3     3\n",
       "2  3  1     3"
      ]
     },
     "execution_count": 31,
     "metadata": {},
     "output_type": "execute_result"
    }
   ],
   "source": [
    "df2.groupby(\"A\").count()"
   ]
  },
  {
   "cell_type": "markdown",
   "metadata": {},
   "source": [
    "We can combine these to group by both."
   ]
  },
  {
   "cell_type": "code",
   "execution_count": 29,
   "metadata": {},
   "outputs": [
    {
     "data": {
      "text/html": [
       "<div>\n",
       "<style scoped>\n",
       "    .dataframe tbody tr th:only-of-type {\n",
       "        vertical-align: middle;\n",
       "    }\n",
       "\n",
       "    .dataframe tbody tr th {\n",
       "        vertical-align: top;\n",
       "    }\n",
       "\n",
       "    .dataframe thead th {\n",
       "        text-align: right;\n",
       "    }\n",
       "</style>\n",
       "<table border=\"1\" class=\"dataframe\">\n",
       "  <thead>\n",
       "    <tr style=\"text-align: right;\">\n",
       "      <th></th>\n",
       "      <th></th>\n",
       "      <th>B</th>\n",
       "      <th>C</th>\n",
       "    </tr>\n",
       "    <tr>\n",
       "      <th>Date</th>\n",
       "      <th>A</th>\n",
       "      <th></th>\n",
       "      <th></th>\n",
       "    </tr>\n",
       "  </thead>\n",
       "  <tbody>\n",
       "    <tr>\n",
       "      <th rowspan=\"2\" valign=\"top\">2025-12-31</th>\n",
       "      <th>1</th>\n",
       "      <td>3</td>\n",
       "      <td>3</td>\n",
       "    </tr>\n",
       "    <tr>\n",
       "      <th>2</th>\n",
       "      <td>1</td>\n",
       "      <td>0</td>\n",
       "    </tr>\n",
       "    <tr>\n",
       "      <th>2026-12-31</th>\n",
       "      <th>2</th>\n",
       "      <td>2</td>\n",
       "      <td>1</td>\n",
       "    </tr>\n",
       "  </tbody>\n",
       "</table>\n",
       "</div>"
      ],
      "text/plain": [
       "              B  C\n",
       "Date       A      \n",
       "2025-12-31 1  3  3\n",
       "           2  1  0\n",
       "2026-12-31 2  2  1"
      ]
     },
     "execution_count": 29,
     "metadata": {},
     "output_type": "execute_result"
    }
   ],
   "source": [
    "df2.groupby([pd.Grouper(key=\"Date\", freq=\"Y\"), pd.Grouper(level=\"A\")]).count()"
   ]
  },
  {
   "cell_type": "markdown",
   "metadata": {},
   "source": [
    "And we can combine `pd.Grouper` with a string, where the string denotes a column name"
   ]
  },
  {
   "cell_type": "code",
   "execution_count": 40,
   "metadata": {},
   "outputs": [
    {
     "data": {
      "text/html": [
       "<div>\n",
       "<style scoped>\n",
       "    .dataframe tbody tr th:only-of-type {\n",
       "        vertical-align: middle;\n",
       "    }\n",
       "\n",
       "    .dataframe tbody tr th {\n",
       "        vertical-align: top;\n",
       "    }\n",
       "\n",
       "    .dataframe thead th {\n",
       "        text-align: right;\n",
       "    }\n",
       "</style>\n",
       "<table border=\"1\" class=\"dataframe\">\n",
       "  <thead>\n",
       "    <tr style=\"text-align: right;\">\n",
       "      <th></th>\n",
       "      <th></th>\n",
       "      <th>C</th>\n",
       "    </tr>\n",
       "    <tr>\n",
       "      <th>Date</th>\n",
       "      <th>B</th>\n",
       "      <th></th>\n",
       "    </tr>\n",
       "  </thead>\n",
       "  <tbody>\n",
       "    <tr>\n",
       "      <th rowspan=\"2\" valign=\"top\">2025-12-31</th>\n",
       "      <th>1</th>\n",
       "      <td>2</td>\n",
       "    </tr>\n",
       "    <tr>\n",
       "      <th>2</th>\n",
       "      <td>1</td>\n",
       "    </tr>\n",
       "    <tr>\n",
       "      <th>2026-12-31</th>\n",
       "      <th>1</th>\n",
       "      <td>1</td>\n",
       "    </tr>\n",
       "  </tbody>\n",
       "</table>\n",
       "</div>"
      ],
      "text/plain": [
       "              C\n",
       "Date       B   \n",
       "2025-12-31 1  2\n",
       "           2  1\n",
       "2026-12-31 1  1"
      ]
     },
     "execution_count": 40,
     "metadata": {},
     "output_type": "execute_result"
    }
   ],
   "source": [
    "df2.groupby([pd.Grouper(key=\"Date\", freq=\"Y\"), \"B\"]).count()"
   ]
  },
  {
   "cell_type": "markdown",
   "metadata": {},
   "source": [
    "# Case Study: Airline Delays\n",
    "Let’s apply our new split-apply-combine skills to the airline dataset we saw in the [merge](https://datascience.quantecon.org/pandas/merge.html) notebook."
   ]
  },
  {
   "cell_type": "code",
   "execution_count": 32,
   "metadata": {},
   "outputs": [],
   "source": [
    "url = \"https://datascience.quantecon.org/assets/data/airline_performance_dec16.csv.zip\"\n",
    "air_dec = pd.read_csv(url, parse_dates = ['Date'])"
   ]
  },
  {
   "cell_type": "markdown",
   "metadata": {},
   "source": [
    "First, we compute the average delay in arrival time for all carriers each week."
   ]
  },
  {
   "cell_type": "code",
   "execution_count": 48,
   "metadata": {},
   "outputs": [
    {
     "data": {
      "text/html": [
       "<div>\n",
       "<style scoped>\n",
       "    .dataframe tbody tr th:only-of-type {\n",
       "        vertical-align: middle;\n",
       "    }\n",
       "\n",
       "    .dataframe tbody tr th {\n",
       "        vertical-align: top;\n",
       "    }\n",
       "\n",
       "    .dataframe thead th {\n",
       "        text-align: right;\n",
       "    }\n",
       "</style>\n",
       "<table border=\"1\" class=\"dataframe\">\n",
       "  <thead>\n",
       "    <tr style=\"text-align: right;\">\n",
       "      <th>Carrier</th>\n",
       "      <th>AA</th>\n",
       "      <th>AS</th>\n",
       "      <th>B6</th>\n",
       "      <th>DL</th>\n",
       "      <th>EV</th>\n",
       "      <th>F9</th>\n",
       "      <th>HA</th>\n",
       "      <th>NK</th>\n",
       "      <th>OO</th>\n",
       "      <th>UA</th>\n",
       "      <th>VX</th>\n",
       "      <th>WN</th>\n",
       "    </tr>\n",
       "    <tr>\n",
       "      <th>Date</th>\n",
       "      <th></th>\n",
       "      <th></th>\n",
       "      <th></th>\n",
       "      <th></th>\n",
       "      <th></th>\n",
       "      <th></th>\n",
       "      <th></th>\n",
       "      <th></th>\n",
       "      <th></th>\n",
       "      <th></th>\n",
       "      <th></th>\n",
       "      <th></th>\n",
       "    </tr>\n",
       "  </thead>\n",
       "  <tbody>\n",
       "    <tr>\n",
       "      <th>2016-12-04</th>\n",
       "      <td>-1.714887</td>\n",
       "      <td>2.724273</td>\n",
       "      <td>-2.894269</td>\n",
       "      <td>-5.088351</td>\n",
       "      <td>8.655332</td>\n",
       "      <td>-2.894212</td>\n",
       "      <td>-0.558282</td>\n",
       "      <td>5.468909</td>\n",
       "      <td>2.749573</td>\n",
       "      <td>5.564496</td>\n",
       "      <td>-2.121821</td>\n",
       "      <td>-1.663695</td>\n",
       "    </tr>\n",
       "    <tr>\n",
       "      <th>2016-12-11</th>\n",
       "      <td>1.148833</td>\n",
       "      <td>12.052031</td>\n",
       "      <td>5.795062</td>\n",
       "      <td>2.507745</td>\n",
       "      <td>13.220673</td>\n",
       "      <td>4.578861</td>\n",
       "      <td>2.054302</td>\n",
       "      <td>8.713755</td>\n",
       "      <td>15.429660</td>\n",
       "      <td>4.094176</td>\n",
       "      <td>12.080938</td>\n",
       "      <td>1.865933</td>\n",
       "    </tr>\n",
       "    <tr>\n",
       "      <th>2016-12-18</th>\n",
       "      <td>16.357561</td>\n",
       "      <td>7.643767</td>\n",
       "      <td>34.608356</td>\n",
       "      <td>18.000000</td>\n",
       "      <td>23.876622</td>\n",
       "      <td>45.014888</td>\n",
       "      <td>9.388889</td>\n",
       "      <td>22.857899</td>\n",
       "      <td>30.901639</td>\n",
       "      <td>22.398130</td>\n",
       "      <td>33.651128</td>\n",
       "      <td>18.373400</td>\n",
       "    </tr>\n",
       "    <tr>\n",
       "      <th>2016-12-25</th>\n",
       "      <td>6.364513</td>\n",
       "      <td>2.719699</td>\n",
       "      <td>5.586836</td>\n",
       "      <td>-0.916113</td>\n",
       "      <td>6.857143</td>\n",
       "      <td>54.084959</td>\n",
       "      <td>5.075747</td>\n",
       "      <td>10.443369</td>\n",
       "      <td>15.004780</td>\n",
       "      <td>5.332474</td>\n",
       "      <td>17.286917</td>\n",
       "      <td>10.197685</td>\n",
       "    </tr>\n",
       "    <tr>\n",
       "      <th>2017-01-01</th>\n",
       "      <td>2.321836</td>\n",
       "      <td>1.226662</td>\n",
       "      <td>10.661577</td>\n",
       "      <td>2.048116</td>\n",
       "      <td>6.800898</td>\n",
       "      <td>8.280298</td>\n",
       "      <td>6.970016</td>\n",
       "      <td>8.361123</td>\n",
       "      <td>8.971083</td>\n",
       "      <td>0.061786</td>\n",
       "      <td>1.349580</td>\n",
       "      <td>5.213019</td>\n",
       "    </tr>\n",
       "  </tbody>\n",
       "</table>\n",
       "</div>"
      ],
      "text/plain": [
       "Carrier            AA         AS         B6         DL         EV         F9  \\\n",
       "Date                                                                           \n",
       "2016-12-04  -1.714887   2.724273  -2.894269  -5.088351   8.655332  -2.894212   \n",
       "2016-12-11   1.148833  12.052031   5.795062   2.507745  13.220673   4.578861   \n",
       "2016-12-18  16.357561   7.643767  34.608356  18.000000  23.876622  45.014888   \n",
       "2016-12-25   6.364513   2.719699   5.586836  -0.916113   6.857143  54.084959   \n",
       "2017-01-01   2.321836   1.226662  10.661577   2.048116   6.800898   8.280298   \n",
       "\n",
       "Carrier           HA         NK         OO         UA         VX         WN  \n",
       "Date                                                                         \n",
       "2016-12-04 -0.558282   5.468909   2.749573   5.564496  -2.121821  -1.663695  \n",
       "2016-12-11  2.054302   8.713755  15.429660   4.094176  12.080938   1.865933  \n",
       "2016-12-18  9.388889  22.857899  30.901639  22.398130  33.651128  18.373400  \n",
       "2016-12-25  5.075747  10.443369  15.004780   5.332474  17.286917  10.197685  \n",
       "2017-01-01  6.970016   8.361123   8.971083   0.061786   1.349580   5.213019  "
      ]
     },
     "execution_count": 48,
     "metadata": {},
     "output_type": "execute_result"
    }
   ],
   "source": [
    "weekly_delays = (\n",
    "    air_dec\n",
    "    .groupby([pd.Grouper(key=\"Date\", freq=\"W\"), \"Carrier\"])\n",
    "    [\"ArrDelay\"]               # extract one column\n",
    "    .mean()                    # take average\n",
    "    .unstack(level=\"Carrier\")  # Flip carrier up as column names\n",
    ")\n",
    "weekly_delays"
   ]
  },
  {
   "cell_type": "markdown",
   "metadata": {},
   "source": [
    "Let’s also plot this data."
   ]
  },
  {
   "cell_type": "code",
   "execution_count": 49,
   "metadata": {},
   "outputs": [
    {
     "data": {
      "image/png": "[encoded data removed]",
      "text/plain": [
       "<Figure size 720x576 with 12 Axes>"
      ]
     },
     "metadata": {
      "needs_background": "light"
     },
     "output_type": "display_data"
    }
   ],
   "source": [
    "# plot\n",
    "axs = weekly_delays.plot.bar(\n",
    "    figsize=(10, 8), subplots=True, legend=False, sharex=True,\n",
    "    sharey=True, layout=(4, 3), grid=False\n",
    ")\n",
    "\n",
    "# tweak spacing between subplots and xaxis labels\n",
    "axs[0,0].get_figure().tight_layout()\n",
    "for ax in axs[-1, :]:\n",
    "    ax.set_xticklabels(weekly_delays.index.strftime(\"%a, %b. %d'\"))"
   ]
  },
  {
   "cell_type": "markdown",
   "metadata": {},
   "source": [
    "It looks like more delays occurred during the week ending Sunday December 18th than any other week (except for Frontier, who did worse on Christmas week).\n",
    "Let’s see why.\n",
    "The `air_dec` DataFrame has information on the minutes of delay attributed to 5 different categories:"
   ]
  },
  {
   "cell_type": "code",
   "execution_count": 50,
   "metadata": {},
   "outputs": [],
   "source": [
    "delay_cols = [\n",
    "    'CarrierDelay',\n",
    "    'WeatherDelay',\n",
    "    'NASDelay',\n",
    "    'SecurityDelay',\n",
    "    'LateAircraftDelay'\n",
    "]"
   ]
  },
  {
   "cell_type": "markdown",
   "metadata": {},
   "source": [
    "Let’s take a quick look at each of those delay categories for the week ending December 18, 2016."
   ]
  },
  {
   "cell_type": "code",
   "execution_count": 51,
   "metadata": {},
   "outputs": [
    {
     "data": {
      "text/html": [
       "<div>\n",
       "<style scoped>\n",
       "    .dataframe tbody tr th:only-of-type {\n",
       "        vertical-align: middle;\n",
       "    }\n",
       "\n",
       "    .dataframe tbody tr th {\n",
       "        vertical-align: top;\n",
       "    }\n",
       "\n",
       "    .dataframe thead tr th {\n",
       "        text-align: left;\n",
       "    }\n",
       "\n",
       "    .dataframe thead tr:last-of-type th {\n",
       "        text-align: right;\n",
       "    }\n",
       "</style>\n",
       "<table border=\"1\" class=\"dataframe\">\n",
       "  <thead>\n",
       "    <tr>\n",
       "      <th></th>\n",
       "      <th colspan=\"3\" halign=\"left\">CarrierDelay</th>\n",
       "      <th colspan=\"3\" halign=\"left\">WeatherDelay</th>\n",
       "      <th colspan=\"3\" halign=\"left\">NASDelay</th>\n",
       "      <th colspan=\"3\" halign=\"left\">SecurityDelay</th>\n",
       "      <th colspan=\"3\" halign=\"left\">LateAircraftDelay</th>\n",
       "    </tr>\n",
       "    <tr>\n",
       "      <th></th>\n",
       "      <th>sum</th>\n",
       "      <th>mean</th>\n",
       "      <th>positive</th>\n",
       "      <th>sum</th>\n",
       "      <th>mean</th>\n",
       "      <th>positive</th>\n",
       "      <th>sum</th>\n",
       "      <th>mean</th>\n",
       "      <th>positive</th>\n",
       "      <th>sum</th>\n",
       "      <th>mean</th>\n",
       "      <th>positive</th>\n",
       "      <th>sum</th>\n",
       "      <th>mean</th>\n",
       "      <th>positive</th>\n",
       "    </tr>\n",
       "    <tr>\n",
       "      <th>Carrier</th>\n",
       "      <th></th>\n",
       "      <th></th>\n",
       "      <th></th>\n",
       "      <th></th>\n",
       "      <th></th>\n",
       "      <th></th>\n",
       "      <th></th>\n",
       "      <th></th>\n",
       "      <th></th>\n",
       "      <th></th>\n",
       "      <th></th>\n",
       "      <th></th>\n",
       "      <th></th>\n",
       "      <th></th>\n",
       "      <th></th>\n",
       "    </tr>\n",
       "  </thead>\n",
       "  <tbody>\n",
       "    <tr>\n",
       "      <th>AA</th>\n",
       "      <td>105732.0</td>\n",
       "      <td>6.258553</td>\n",
       "      <td>2922.0</td>\n",
       "      <td>21820.0</td>\n",
       "      <td>1.291583</td>\n",
       "      <td>456.0</td>\n",
       "      <td>77279.0</td>\n",
       "      <td>4.574346</td>\n",
       "      <td>3159.0</td>\n",
       "      <td>721.0</td>\n",
       "      <td>0.042678</td>\n",
       "      <td>35.0</td>\n",
       "      <td>141249.0</td>\n",
       "      <td>8.360897</td>\n",
       "      <td>2574.0</td>\n",
       "    </tr>\n",
       "    <tr>\n",
       "      <th>AS</th>\n",
       "      <td>8762.0</td>\n",
       "      <td>2.691032</td>\n",
       "      <td>250.0</td>\n",
       "      <td>3219.0</td>\n",
       "      <td>0.988636</td>\n",
       "      <td>61.0</td>\n",
       "      <td>16344.0</td>\n",
       "      <td>5.019656</td>\n",
       "      <td>614.0</td>\n",
       "      <td>163.0</td>\n",
       "      <td>0.050061</td>\n",
       "      <td>10.0</td>\n",
       "      <td>13599.0</td>\n",
       "      <td>4.176597</td>\n",
       "      <td>271.0</td>\n",
       "    </tr>\n",
       "    <tr>\n",
       "      <th>B6</th>\n",
       "      <td>49421.0</td>\n",
       "      <td>9.031615</td>\n",
       "      <td>1575.0</td>\n",
       "      <td>9894.0</td>\n",
       "      <td>1.808114</td>\n",
       "      <td>112.0</td>\n",
       "      <td>38741.0</td>\n",
       "      <td>7.079861</td>\n",
       "      <td>1326.0</td>\n",
       "      <td>672.0</td>\n",
       "      <td>0.122807</td>\n",
       "      <td>30.0</td>\n",
       "      <td>100811.0</td>\n",
       "      <td>18.423063</td>\n",
       "      <td>1433.0</td>\n",
       "    </tr>\n",
       "    <tr>\n",
       "      <th>DL</th>\n",
       "      <td>151188.0</td>\n",
       "      <td>8.864212</td>\n",
       "      <td>2878.0</td>\n",
       "      <td>39145.0</td>\n",
       "      <td>2.295087</td>\n",
       "      <td>783.0</td>\n",
       "      <td>75110.0</td>\n",
       "      <td>4.403729</td>\n",
       "      <td>2605.0</td>\n",
       "      <td>107.0</td>\n",
       "      <td>0.006273</td>\n",
       "      <td>2.0</td>\n",
       "      <td>122896.0</td>\n",
       "      <td>7.205441</td>\n",
       "      <td>2289.0</td>\n",
       "    </tr>\n",
       "    <tr>\n",
       "      <th>EV</th>\n",
       "      <td>87408.0</td>\n",
       "      <td>9.939504</td>\n",
       "      <td>1375.0</td>\n",
       "      <td>3824.0</td>\n",
       "      <td>0.434842</td>\n",
       "      <td>76.0</td>\n",
       "      <td>49703.0</td>\n",
       "      <td>5.651922</td>\n",
       "      <td>1580.0</td>\n",
       "      <td>0.0</td>\n",
       "      <td>0.000000</td>\n",
       "      <td>0.0</td>\n",
       "      <td>89773.0</td>\n",
       "      <td>10.208438</td>\n",
       "      <td>1568.0</td>\n",
       "    </tr>\n",
       "    <tr>\n",
       "      <th>F9</th>\n",
       "      <td>19568.0</td>\n",
       "      <td>10.430704</td>\n",
       "      <td>361.0</td>\n",
       "      <td>6198.0</td>\n",
       "      <td>3.303838</td>\n",
       "      <td>57.0</td>\n",
       "      <td>22459.0</td>\n",
       "      <td>11.971748</td>\n",
       "      <td>493.0</td>\n",
       "      <td>0.0</td>\n",
       "      <td>0.000000</td>\n",
       "      <td>0.0</td>\n",
       "      <td>32236.0</td>\n",
       "      <td>17.183369</td>\n",
       "      <td>316.0</td>\n",
       "    </tr>\n",
       "    <tr>\n",
       "      <th>HA</th>\n",
       "      <td>7199.0</td>\n",
       "      <td>5.034266</td>\n",
       "      <td>218.0</td>\n",
       "      <td>3650.0</td>\n",
       "      <td>2.552448</td>\n",
       "      <td>145.0</td>\n",
       "      <td>86.0</td>\n",
       "      <td>0.060140</td>\n",
       "      <td>4.0</td>\n",
       "      <td>35.0</td>\n",
       "      <td>0.024476</td>\n",
       "      <td>3.0</td>\n",
       "      <td>4024.0</td>\n",
       "      <td>2.813986</td>\n",
       "      <td>189.0</td>\n",
       "    </tr>\n",
       "    <tr>\n",
       "      <th>NK</th>\n",
       "      <td>14735.0</td>\n",
       "      <td>5.294646</td>\n",
       "      <td>452.0</td>\n",
       "      <td>2240.0</td>\n",
       "      <td>0.804887</td>\n",
       "      <td>56.0</td>\n",
       "      <td>30361.0</td>\n",
       "      <td>10.909450</td>\n",
       "      <td>840.0</td>\n",
       "      <td>50.0</td>\n",
       "      <td>0.017966</td>\n",
       "      <td>5.0</td>\n",
       "      <td>22247.0</td>\n",
       "      <td>7.993891</td>\n",
       "      <td>372.0</td>\n",
       "    </tr>\n",
       "    <tr>\n",
       "      <th>OO</th>\n",
       "      <td>120307.0</td>\n",
       "      <td>10.439691</td>\n",
       "      <td>1378.0</td>\n",
       "      <td>26349.0</td>\n",
       "      <td>2.286446</td>\n",
       "      <td>308.0</td>\n",
       "      <td>54141.0</td>\n",
       "      <td>4.698108</td>\n",
       "      <td>2289.0</td>\n",
       "      <td>171.0</td>\n",
       "      <td>0.014839</td>\n",
       "      <td>12.0</td>\n",
       "      <td>166102.0</td>\n",
       "      <td>14.413572</td>\n",
       "      <td>2459.0</td>\n",
       "    </tr>\n",
       "    <tr>\n",
       "      <th>UA</th>\n",
       "      <td>66693.0</td>\n",
       "      <td>6.312636</td>\n",
       "      <td>1851.0</td>\n",
       "      <td>31602.0</td>\n",
       "      <td>2.991197</td>\n",
       "      <td>521.0</td>\n",
       "      <td>74992.0</td>\n",
       "      <td>7.098154</td>\n",
       "      <td>2065.0</td>\n",
       "      <td>0.0</td>\n",
       "      <td>0.000000</td>\n",
       "      <td>0.0</td>\n",
       "      <td>118728.0</td>\n",
       "      <td>11.237861</td>\n",
       "      <td>1696.0</td>\n",
       "    </tr>\n",
       "    <tr>\n",
       "      <th>VX</th>\n",
       "      <td>8048.0</td>\n",
       "      <td>5.608362</td>\n",
       "      <td>246.0</td>\n",
       "      <td>3807.0</td>\n",
       "      <td>2.652962</td>\n",
       "      <td>126.0</td>\n",
       "      <td>12619.0</td>\n",
       "      <td>8.793728</td>\n",
       "      <td>224.0</td>\n",
       "      <td>73.0</td>\n",
       "      <td>0.050871</td>\n",
       "      <td>4.0</td>\n",
       "      <td>25242.0</td>\n",
       "      <td>17.590244</td>\n",
       "      <td>331.0</td>\n",
       "    </tr>\n",
       "    <tr>\n",
       "      <th>WN</th>\n",
       "      <td>123882.0</td>\n",
       "      <td>4.873790</td>\n",
       "      <td>5393.0</td>\n",
       "      <td>23516.0</td>\n",
       "      <td>0.925171</td>\n",
       "      <td>328.0</td>\n",
       "      <td>78645.0</td>\n",
       "      <td>3.094067</td>\n",
       "      <td>4247.0</td>\n",
       "      <td>252.0</td>\n",
       "      <td>0.009914</td>\n",
       "      <td>18.0</td>\n",
       "      <td>285073.0</td>\n",
       "      <td>11.215399</td>\n",
       "      <td>6472.0</td>\n",
       "    </tr>\n",
       "  </tbody>\n",
       "</table>\n",
       "</div>"
      ],
      "text/plain": [
       "        CarrierDelay                     WeatherDelay                     \\\n",
       "                 sum       mean positive          sum      mean positive   \n",
       "Carrier                                                                    \n",
       "AA          105732.0   6.258553   2922.0      21820.0  1.291583    456.0   \n",
       "AS            8762.0   2.691032    250.0       3219.0  0.988636     61.0   \n",
       "B6           49421.0   9.031615   1575.0       9894.0  1.808114    112.0   \n",
       "DL          151188.0   8.864212   2878.0      39145.0  2.295087    783.0   \n",
       "EV           87408.0   9.939504   1375.0       3824.0  0.434842     76.0   \n",
       "F9           19568.0  10.430704    361.0       6198.0  3.303838     57.0   \n",
       "HA            7199.0   5.034266    218.0       3650.0  2.552448    145.0   \n",
       "NK           14735.0   5.294646    452.0       2240.0  0.804887     56.0   \n",
       "OO          120307.0  10.439691   1378.0      26349.0  2.286446    308.0   \n",
       "UA           66693.0   6.312636   1851.0      31602.0  2.991197    521.0   \n",
       "VX            8048.0   5.608362    246.0       3807.0  2.652962    126.0   \n",
       "WN          123882.0   4.873790   5393.0      23516.0  0.925171    328.0   \n",
       "\n",
       "        NASDelay                     SecurityDelay                     \\\n",
       "             sum       mean positive           sum      mean positive   \n",
       "Carrier                                                                 \n",
       "AA       77279.0   4.574346   3159.0         721.0  0.042678     35.0   \n",
       "AS       16344.0   5.019656    614.0         163.0  0.050061     10.0   \n",
       "B6       38741.0   7.079861   1326.0         672.0  0.122807     30.0   \n",
       "DL       75110.0   4.403729   2605.0         107.0  0.006273      2.0   \n",
       "EV       49703.0   5.651922   1580.0           0.0  0.000000      0.0   \n",
       "F9       22459.0  11.971748    493.0           0.0  0.000000      0.0   \n",
       "HA          86.0   0.060140      4.0          35.0  0.024476      3.0   \n",
       "NK       30361.0  10.909450    840.0          50.0  0.017966      5.0   \n",
       "OO       54141.0   4.698108   2289.0         171.0  0.014839     12.0   \n",
       "UA       74992.0   7.098154   2065.0           0.0  0.000000      0.0   \n",
       "VX       12619.0   8.793728    224.0          73.0  0.050871      4.0   \n",
       "WN       78645.0   3.094067   4247.0         252.0  0.009914     18.0   \n",
       "\n",
       "        LateAircraftDelay                      \n",
       "                      sum       mean positive  \n",
       "Carrier                                        \n",
       "AA               141249.0   8.360897   2574.0  \n",
       "AS                13599.0   4.176597    271.0  \n",
       "B6               100811.0  18.423063   1433.0  \n",
       "DL               122896.0   7.205441   2289.0  \n",
       "EV                89773.0  10.208438   1568.0  \n",
       "F9                32236.0  17.183369    316.0  \n",
       "HA                 4024.0   2.813986    189.0  \n",
       "NK                22247.0   7.993891    372.0  \n",
       "OO               166102.0  14.413572   2459.0  \n",
       "UA               118728.0  11.237861   1696.0  \n",
       "VX                25242.0  17.590244    331.0  \n",
       "WN               285073.0  11.215399   6472.0  "
      ]
     },
     "execution_count": 51,
     "metadata": {},
     "output_type": "execute_result"
    }
   ],
   "source": [
    "pre_christmas = air_dec.loc[\n",
    "    (air_dec[\"Date\"] >= \"2016-12-12\") & (air_dec[\"Date\"] <= \"2016-12-18\")\n",
    "]\n",
    "\n",
    "# custom agg function\n",
    "def positive(df):\n",
    "    return (df > 0).sum()\n",
    "\n",
    "delay_totals = pre_christmas.groupby(\"Carrier\")[delay_cols].agg([\"sum\", \"mean\", positive])\n",
    "delay_totals"
   ]
  },
  {
   "cell_type": "markdown",
   "metadata": {},
   "source": [
    "**Want**: plot total, average, and number of each type of delay by carrier\n",
    "\n",
    "To do this, we need to have a DataFrame with:\n",
    "- Delay type in index (so it is on horizontal-axis)\n",
    "- Aggregation method on outer most level of columns (so we can do `data[\"mean\"]` to get averages)\n",
    "- Carrier name on inner level of columns\n",
    "\n",
    "Many sequences of the reshaping commands can accomplish this.\n",
    "\n",
    "We show one example below."
   ]
  },
  {
   "cell_type": "code",
   "execution_count": 52,
   "metadata": {},
   "outputs": [
    {
     "data": {
      "text/html": [
       "<div>\n",
       "<style scoped>\n",
       "    .dataframe tbody tr th:only-of-type {\n",
       "        vertical-align: middle;\n",
       "    }\n",
       "\n",
       "    .dataframe tbody tr th {\n",
       "        vertical-align: top;\n",
       "    }\n",
       "\n",
       "    .dataframe thead tr th {\n",
       "        text-align: left;\n",
       "    }\n",
       "</style>\n",
       "<table border=\"1\" class=\"dataframe\">\n",
       "  <thead>\n",
       "    <tr>\n",
       "      <th></th>\n",
       "      <th colspan=\"10\" halign=\"left\">mean</th>\n",
       "      <th>...</th>\n",
       "      <th colspan=\"10\" halign=\"left\">sum</th>\n",
       "    </tr>\n",
       "    <tr>\n",
       "      <th>Carrier</th>\n",
       "      <th>AA</th>\n",
       "      <th>AS</th>\n",
       "      <th>B6</th>\n",
       "      <th>DL</th>\n",
       "      <th>EV</th>\n",
       "      <th>F9</th>\n",
       "      <th>HA</th>\n",
       "      <th>NK</th>\n",
       "      <th>OO</th>\n",
       "      <th>UA</th>\n",
       "      <th>...</th>\n",
       "      <th>B6</th>\n",
       "      <th>DL</th>\n",
       "      <th>EV</th>\n",
       "      <th>F9</th>\n",
       "      <th>HA</th>\n",
       "      <th>NK</th>\n",
       "      <th>OO</th>\n",
       "      <th>UA</th>\n",
       "      <th>VX</th>\n",
       "      <th>WN</th>\n",
       "    </tr>\n",
       "  </thead>\n",
       "  <tbody>\n",
       "    <tr>\n",
       "      <th>CarrierDelay</th>\n",
       "      <td>6.258553</td>\n",
       "      <td>2.691032</td>\n",
       "      <td>9.031615</td>\n",
       "      <td>8.864212</td>\n",
       "      <td>9.939504</td>\n",
       "      <td>10.430704</td>\n",
       "      <td>5.034266</td>\n",
       "      <td>5.294646</td>\n",
       "      <td>10.439691</td>\n",
       "      <td>6.312636</td>\n",
       "      <td>...</td>\n",
       "      <td>49421.0</td>\n",
       "      <td>151188.0</td>\n",
       "      <td>87408.0</td>\n",
       "      <td>19568.0</td>\n",
       "      <td>7199.0</td>\n",
       "      <td>14735.0</td>\n",
       "      <td>120307.0</td>\n",
       "      <td>66693.0</td>\n",
       "      <td>8048.0</td>\n",
       "      <td>123882.0</td>\n",
       "    </tr>\n",
       "    <tr>\n",
       "      <th>WeatherDelay</th>\n",
       "      <td>1.291583</td>\n",
       "      <td>0.988636</td>\n",
       "      <td>1.808114</td>\n",
       "      <td>2.295087</td>\n",
       "      <td>0.434842</td>\n",
       "      <td>3.303838</td>\n",
       "      <td>2.552448</td>\n",
       "      <td>0.804887</td>\n",
       "      <td>2.286446</td>\n",
       "      <td>2.991197</td>\n",
       "      <td>...</td>\n",
       "      <td>9894.0</td>\n",
       "      <td>39145.0</td>\n",
       "      <td>3824.0</td>\n",
       "      <td>6198.0</td>\n",
       "      <td>3650.0</td>\n",
       "      <td>2240.0</td>\n",
       "      <td>26349.0</td>\n",
       "      <td>31602.0</td>\n",
       "      <td>3807.0</td>\n",
       "      <td>23516.0</td>\n",
       "    </tr>\n",
       "    <tr>\n",
       "      <th>NASDelay</th>\n",
       "      <td>4.574346</td>\n",
       "      <td>5.019656</td>\n",
       "      <td>7.079861</td>\n",
       "      <td>4.403729</td>\n",
       "      <td>5.651922</td>\n",
       "      <td>11.971748</td>\n",
       "      <td>0.060140</td>\n",
       "      <td>10.909450</td>\n",
       "      <td>4.698108</td>\n",
       "      <td>7.098154</td>\n",
       "      <td>...</td>\n",
       "      <td>38741.0</td>\n",
       "      <td>75110.0</td>\n",
       "      <td>49703.0</td>\n",
       "      <td>22459.0</td>\n",
       "      <td>86.0</td>\n",
       "      <td>30361.0</td>\n",
       "      <td>54141.0</td>\n",
       "      <td>74992.0</td>\n",
       "      <td>12619.0</td>\n",
       "      <td>78645.0</td>\n",
       "    </tr>\n",
       "    <tr>\n",
       "      <th>SecurityDelay</th>\n",
       "      <td>0.042678</td>\n",
       "      <td>0.050061</td>\n",
       "      <td>0.122807</td>\n",
       "      <td>0.006273</td>\n",
       "      <td>0.000000</td>\n",
       "      <td>0.000000</td>\n",
       "      <td>0.024476</td>\n",
       "      <td>0.017966</td>\n",
       "      <td>0.014839</td>\n",
       "      <td>0.000000</td>\n",
       "      <td>...</td>\n",
       "      <td>672.0</td>\n",
       "      <td>107.0</td>\n",
       "      <td>0.0</td>\n",
       "      <td>0.0</td>\n",
       "      <td>35.0</td>\n",
       "      <td>50.0</td>\n",
       "      <td>171.0</td>\n",
       "      <td>0.0</td>\n",
       "      <td>73.0</td>\n",
       "      <td>252.0</td>\n",
       "    </tr>\n",
       "    <tr>\n",
       "      <th>LateAircraftDelay</th>\n",
       "      <td>8.360897</td>\n",
       "      <td>4.176597</td>\n",
       "      <td>18.423063</td>\n",
       "      <td>7.205441</td>\n",
       "      <td>10.208438</td>\n",
       "      <td>17.183369</td>\n",
       "      <td>2.813986</td>\n",
       "      <td>7.993891</td>\n",
       "      <td>14.413572</td>\n",
       "      <td>11.237861</td>\n",
       "      <td>...</td>\n",
       "      <td>100811.0</td>\n",
       "      <td>122896.0</td>\n",
       "      <td>89773.0</td>\n",
       "      <td>32236.0</td>\n",
       "      <td>4024.0</td>\n",
       "      <td>22247.0</td>\n",
       "      <td>166102.0</td>\n",
       "      <td>118728.0</td>\n",
       "      <td>25242.0</td>\n",
       "      <td>285073.0</td>\n",
       "    </tr>\n",
       "  </tbody>\n",
       "</table>\n",
       "<p>5 rows × 36 columns</p>\n",
       "</div>"
      ],
      "text/plain": [
       "                       mean                                            \\\n",
       "Carrier                  AA        AS         B6        DL         EV   \n",
       "CarrierDelay       6.258553  2.691032   9.031615  8.864212   9.939504   \n",
       "WeatherDelay       1.291583  0.988636   1.808114  2.295087   0.434842   \n",
       "NASDelay           4.574346  5.019656   7.079861  4.403729   5.651922   \n",
       "SecurityDelay      0.042678  0.050061   0.122807  0.006273   0.000000   \n",
       "LateAircraftDelay  8.360897  4.176597  18.423063  7.205441  10.208438   \n",
       "\n",
       "                                                                         ...  \\\n",
       "Carrier                   F9        HA         NK         OO         UA  ...   \n",
       "CarrierDelay       10.430704  5.034266   5.294646  10.439691   6.312636  ...   \n",
       "WeatherDelay        3.303838  2.552448   0.804887   2.286446   2.991197  ...   \n",
       "NASDelay           11.971748  0.060140  10.909450   4.698108   7.098154  ...   \n",
       "SecurityDelay       0.000000  0.024476   0.017966   0.014839   0.000000  ...   \n",
       "LateAircraftDelay  17.183369  2.813986   7.993891  14.413572  11.237861  ...   \n",
       "\n",
       "                        sum                                               \\\n",
       "Carrier                  B6        DL       EV       F9      HA       NK   \n",
       "CarrierDelay        49421.0  151188.0  87408.0  19568.0  7199.0  14735.0   \n",
       "WeatherDelay         9894.0   39145.0   3824.0   6198.0  3650.0   2240.0   \n",
       "NASDelay            38741.0   75110.0  49703.0  22459.0    86.0  30361.0   \n",
       "SecurityDelay         672.0     107.0      0.0      0.0    35.0     50.0   \n",
       "LateAircraftDelay  100811.0  122896.0  89773.0  32236.0  4024.0  22247.0   \n",
       "\n",
       "                                                          \n",
       "Carrier                  OO        UA       VX        WN  \n",
       "CarrierDelay       120307.0   66693.0   8048.0  123882.0  \n",
       "WeatherDelay        26349.0   31602.0   3807.0   23516.0  \n",
       "NASDelay            54141.0   74992.0  12619.0   78645.0  \n",
       "SecurityDelay         171.0       0.0     73.0     252.0  \n",
       "LateAircraftDelay  166102.0  118728.0  25242.0  285073.0  \n",
       "\n",
       "[5 rows x 36 columns]"
      ]
     },
     "execution_count": 52,
     "metadata": {},
     "output_type": "execute_result"
    }
   ],
   "source": [
    "reshaped_delays = (\n",
    "    delay_totals\n",
    "    .stack()             # move aggregation method into index (with Carrier)\n",
    "    .T                   # put delay type in index and Carrier+agg in column\n",
    "    .swaplevel(axis=1)   # make agg method outer level of column label\n",
    "    .sort_index(axis=1)  # sort column labels so it prints nicely\n",
    ")\n",
    "reshaped_delays"
   ]
  },
  {
   "cell_type": "code",
   "execution_count": 53,
   "metadata": {},
   "outputs": [
    {
     "data": {
      "image/png": "[encoded data removed]",
      "text/plain": [
       "<Figure size 720x576 with 12 Axes>"
      ]
     },
     "metadata": {
      "needs_background": "light"
     },
     "output_type": "display_data"
    },
    {
     "data": {
      "image/png": "[encoded data removed]",
      "text/plain": [
       "<Figure size 720x576 with 12 Axes>"
      ]
     },
     "metadata": {
      "needs_background": "light"
     },
     "output_type": "display_data"
    },
    {
     "data": {
      "image/png": "[encoded data removed]",
      "text/plain": [
       "<Figure size 720x576 with 12 Axes>"
      ]
     },
     "metadata": {
      "needs_background": "light"
     },
     "output_type": "display_data"
    }
   ],
   "source": [
    "for agg in [\"mean\", \"sum\", \"positive\"]:\n",
    "    axs = reshaped_delays[agg].plot(\n",
    "        kind=\"bar\", subplots=True, layout=(4, 3), figsize=(10, 8), legend=False,\n",
    "        sharex=True, sharey=True\n",
    "    )\n",
    "    fig = axs[0, 0].get_figure()\n",
    "    fig.suptitle(agg)\n",
    "#     fig.tight_layout();"
   ]
  },
  {
   "cell_type": "markdown",
   "metadata": {},
   "source": [
    "Let’s summarize what we did:\n",
    "- Computed average flight delay for each airline for each week.\n",
    "- Noticed that one week had more delays for all airlines.\n",
    "- Studied the flights in that week to determine the cause of the delays in that week.\n",
    "\n",
    "Suppose now that we want to repeat that analysis, but at a daily frequency instead of weekly.\n",
    "We could copy/paste the code from above and change the W to a D, but there’s a better way…\n",
    "\n",
    "Let’s convert the steps above into two functions:\n",
    "1. Produce the set of bar charts for average delays at each frequency.\n",
    "1. Produce the second set of charts for the total, average, and number of occurrences of each type of delay."
   ]
  },
  {
   "cell_type": "code",
   "execution_count": 54,
   "metadata": {},
   "outputs": [],
   "source": [
    "def mean_delay_plot(df, freq, figsize=(10, 8)):\n",
    "    \"\"\"\n",
    "    Make a bar chart of average flight delays for each carrier at\n",
    "    a given frequency.\n",
    "    \"\"\"\n",
    "    mean_delays = (\n",
    "        df\n",
    "        .groupby([pd.Grouper(key=\"Date\", freq=freq), \"Carrier\"])\n",
    "        [\"ArrDelay\"]               # extract one column\n",
    "        .mean()                    # take average\n",
    "        .unstack(level=\"Carrier\")  # Flip carrier up as column names\n",
    "    )\n",
    "\n",
    "    # plot\n",
    "    axs = mean_delays.plot.bar(\n",
    "        figsize=figsize, subplots=True, legend=False, sharex=True,\n",
    "        sharey=True, layout=(4, 3), grid=False\n",
    "    )\n",
    "\n",
    "    # tweak spacing between subplots and x-axis labels\n",
    "    axs[0, 0].get_figure().tight_layout()\n",
    "    for ax in axs[-1, :]:\n",
    "        ax.set_xticklabels(mean_delays.index.strftime(\"%a, %b. %d'\"))\n",
    "\n",
    "    # return the axes in case we want to further tweak the plot outside the function\n",
    "    return axs\n",
    "\n",
    "\n",
    "def delay_type_plot(df, start, end):\n",
    "    \"\"\"\n",
    "    Make bar charts for total minutes, average minutes, and number of\n",
    "    occurrences for each delay type, for all flights that were scheduled\n",
    "    between `start` date and `end` date\n",
    "    \"\"\"\n",
    "    sub_df = df.loc[\n",
    "        (df[\"Date\"] >= start) & (df[\"Date\"] <= end)\n",
    "    ]\n",
    "\n",
    "    def positive(df):\n",
    "        return (df > 0).sum()\n",
    "\n",
    "    aggs = sub_df.groupby(\"Carrier\")[delay_cols].agg([\"sum\", \"mean\", positive])\n",
    "\n",
    "    reshaped = aggs.stack().T.swaplevel(axis=1).sort_index(axis=1)\n",
    "\n",
    "    for agg in [\"mean\", \"sum\", \"positive\"]:\n",
    "        axs = reshaped[agg].plot(\n",
    "            kind=\"bar\", subplots=True, layout=(4, 3), figsize=(10, 8), legend=False,\n",
    "            sharex=True, sharey=True\n",
    "        )\n",
    "        fig = axs[0, 0].get_figure()\n",
    "        fig.suptitle(agg)\n",
    "#         fig.tight_layout();"
   ]
  },
  {
   "cell_type": "markdown",
   "metadata": {},
   "source": [
    "Now let’s look at that plot at a daily frequency. (Note that we need the figure to be a bit wider in order to see the dates.)"
   ]
  },
  {
   "cell_type": "code",
   "execution_count": 55,
   "metadata": {},
   "outputs": [
    {
     "data": {
      "text/plain": [
       "array([[<AxesSubplot:title={'center':'AA'}, xlabel='Date'>,\n",
       "        <AxesSubplot:title={'center':'AS'}, xlabel='Date'>,\n",
       "        <AxesSubplot:title={'center':'B6'}, xlabel='Date'>],\n",
       "       [<AxesSubplot:title={'center':'DL'}, xlabel='Date'>,\n",
       "        <AxesSubplot:title={'center':'EV'}, xlabel='Date'>,\n",
       "        <AxesSubplot:title={'center':'F9'}, xlabel='Date'>],\n",
       "       [<AxesSubplot:title={'center':'HA'}, xlabel='Date'>,\n",
       "        <AxesSubplot:title={'center':'NK'}, xlabel='Date'>,\n",
       "        <AxesSubplot:title={'center':'OO'}, xlabel='Date'>],\n",
       "       [<AxesSubplot:title={'center':'UA'}, xlabel='Date'>,\n",
       "        <AxesSubplot:title={'center':'VX'}, xlabel='Date'>,\n",
       "        <AxesSubplot:title={'center':'WN'}, xlabel='Date'>]], dtype=object)"
      ]
     },
     "execution_count": 55,
     "metadata": {},
     "output_type": "execute_result"
    },
    {
     "data": {
      "image/png": "[encoded data removed]",
      "text/plain": [
       "<Figure size 1152x576 with 12 Axes>"
      ]
     },
     "metadata": {
      "needs_background": "light"
     },
     "output_type": "display_data"
    }
   ],
   "source": [
    "mean_delay_plot(air_dec, \"D\", figsize=(16, 8))"
   ]
  },
  {
   "cell_type": "markdown",
   "metadata": {},
   "source": [
    "As we expected given our analysis above, the longest average delays seemed to happen in the third week.\n",
    "In particular, it looks like December 17th and 18th had — on average — higher delays than other days in December.\n",
    "Let’s use the `delay_type_plot` function to determine the cause of the delays on those two days.\n",
    "\n",
    "Because our analysis is captured in a single function, we can look at the days together and separately without much effort."
   ]
  },
  {
   "cell_type": "code",
   "execution_count": 56,
   "metadata": {},
   "outputs": [
    {
     "data": {
      "image/png": "[encoded data removed]",
      "text/plain": [
       "<Figure size 720x576 with 12 Axes>"
      ]
     },
     "metadata": {
      "needs_background": "light"
     },
     "output_type": "display_data"
    },
    {
     "data": {
      "image/png": "[encoded data removed]",
      "text/plain": [
       "<Figure size 720x576 with 12 Axes>"
      ]
     },
     "metadata": {
      "needs_background": "light"
     },
     "output_type": "display_data"
    },
    {
     "data": {
      "image/png": "[encoded data removed]",
      "text/plain": [
       "<Figure size 720x576 with 12 Axes>"
      ]
     },
     "metadata": {
      "needs_background": "light"
     },
     "output_type": "display_data"
    }
   ],
   "source": [
    "# both days\n",
    "delay_type_plot(air_dec, \"12-17-16\", \"12-18-16\")"
   ]
  },
  {
   "cell_type": "code",
   "execution_count": 57,
   "metadata": {},
   "outputs": [
    {
     "data": {
      "image/png": "[encoded data removed]",
      "text/plain": [
       "<Figure size 720x576 with 12 Axes>"
      ]
     },
     "metadata": {
      "needs_background": "light"
     },
     "output_type": "display_data"
    },
    {
     "data": {
      "image/png": "[encoded data removed]",
      "text/plain": [
       "<Figure size 720x576 with 12 Axes>"
      ]
     },
     "metadata": {
      "needs_background": "light"
     },
     "output_type": "display_data"
    },
    {
     "data": {
      "image/png": "[encoded data removed]",
      "text/plain": [
       "<Figure size 720x576 with 12 Axes>"
      ]
     },
     "metadata": {
      "needs_background": "light"
     },
     "output_type": "display_data"
    }
   ],
   "source": [
    "# only the 17th\n",
    "delay_type_plot(air_dec, \"12-17-16\", \"12-17-16\")"
   ]
  },
  {
   "cell_type": "code",
   "execution_count": 58,
   "metadata": {},
   "outputs": [
    {
     "data": {
      "image/png": "[encoded data removed]",
      "text/plain": [
       "<Figure size 720x576 with 12 Axes>"
      ]
     },
     "metadata": {
      "needs_background": "light"
     },
     "output_type": "display_data"
    },
    {
     "data": {
      "image/png": "[encoded data removed]",
      "text/plain": [
       "<Figure size 720x576 with 12 Axes>"
      ]
     },
     "metadata": {
      "needs_background": "light"
     },
     "output_type": "display_data"
    },
    {
     "data": {
      "image/png": "[encoded data removed]",
      "text/plain": [
       "<Figure size 720x576 with 12 Axes>"
      ]
     },
     "metadata": {
      "needs_background": "light"
     },
     "output_type": "display_data"
    }
   ],
   "source": [
    "# only the 18th\n",
    "delay_type_plot(air_dec, \"12-18-16\", \"12-18-16\")"
   ]
  },
  {
   "cell_type": "markdown",
   "metadata": {},
   "source": [
    "The purpose of this exercise was to drive home the ability to *automate* tasks.\n",
    "We were able to write a pair of `functions` that allows us to easily repeat the exact same analysis on different subsets of the data, or different datasets entirely (e.g. we could do the same analysis on November 2016 data, with two lines of code).\n",
    "These principles can be applied in many settings.\n",
    "Keep that in mind as we work through the rest of the materials."
   ]
  },
  {
   "cell_type": "markdown",
   "metadata": {},
   "source": [
    "# Exercises"
   ]
  },
  {
   "cell_type": "code",
   "execution_count": 68,
   "metadata": {},
   "outputs": [
    {
     "data": {
      "text/html": [
       "<div>\n",
       "<style scoped>\n",
       "    .dataframe tbody tr th:only-of-type {\n",
       "        vertical-align: middle;\n",
       "    }\n",
       "\n",
       "    .dataframe tbody tr th {\n",
       "        vertical-align: top;\n",
       "    }\n",
       "\n",
       "    .dataframe thead th {\n",
       "        text-align: right;\n",
       "    }\n",
       "</style>\n",
       "<table border=\"1\" class=\"dataframe\">\n",
       "  <thead>\n",
       "    <tr style=\"text-align: right;\">\n",
       "      <th></th>\n",
       "      <th>A</th>\n",
       "      <th>B</th>\n",
       "      <th>C</th>\n",
       "    </tr>\n",
       "  </thead>\n",
       "  <tbody>\n",
       "    <tr>\n",
       "      <th>0</th>\n",
       "      <td>1</td>\n",
       "      <td>1</td>\n",
       "      <td>1.0</td>\n",
       "    </tr>\n",
       "    <tr>\n",
       "      <th>1</th>\n",
       "      <td>1</td>\n",
       "      <td>1</td>\n",
       "      <td>2.0</td>\n",
       "    </tr>\n",
       "    <tr>\n",
       "      <th>2</th>\n",
       "      <td>1</td>\n",
       "      <td>2</td>\n",
       "      <td>3.0</td>\n",
       "    </tr>\n",
       "    <tr>\n",
       "      <th>3</th>\n",
       "      <td>2</td>\n",
       "      <td>2</td>\n",
       "      <td>NaN</td>\n",
       "    </tr>\n",
       "    <tr>\n",
       "      <th>4</th>\n",
       "      <td>2</td>\n",
       "      <td>1</td>\n",
       "      <td>5.0</td>\n",
       "    </tr>\n",
       "    <tr>\n",
       "      <th>5</th>\n",
       "      <td>2</td>\n",
       "      <td>1</td>\n",
       "      <td>NaN</td>\n",
       "    </tr>\n",
       "  </tbody>\n",
       "</table>\n",
       "</div>"
      ],
      "text/plain": [
       "   A  B    C\n",
       "0  1  1  1.0\n",
       "1  1  1  2.0\n",
       "2  1  2  3.0\n",
       "3  2  2  NaN\n",
       "4  2  1  5.0\n",
       "5  2  1  NaN"
      ]
     },
     "execution_count": 68,
     "metadata": {},
     "output_type": "execute_result"
    }
   ],
   "source": [
    "# 1. Look closely at the output of the cells below.\n",
    "# How did pandas compute the sum of gbA? What happened to the NaN entries in column C?\n",
    "\n",
    "# Write your thoughts.\n",
    "\n",
    "df"
   ]
  },
  {
   "cell_type": "code",
   "execution_count": 69,
   "metadata": {},
   "outputs": [
    {
     "data": {
      "text/html": [
       "<div>\n",
       "<style scoped>\n",
       "    .dataframe tbody tr th:only-of-type {\n",
       "        vertical-align: middle;\n",
       "    }\n",
       "\n",
       "    .dataframe tbody tr th {\n",
       "        vertical-align: top;\n",
       "    }\n",
       "\n",
       "    .dataframe thead th {\n",
       "        text-align: right;\n",
       "    }\n",
       "</style>\n",
       "<table border=\"1\" class=\"dataframe\">\n",
       "  <thead>\n",
       "    <tr style=\"text-align: right;\">\n",
       "      <th></th>\n",
       "      <th>B</th>\n",
       "      <th>C</th>\n",
       "    </tr>\n",
       "    <tr>\n",
       "      <th>A</th>\n",
       "      <th></th>\n",
       "      <th></th>\n",
       "    </tr>\n",
       "  </thead>\n",
       "  <tbody>\n",
       "    <tr>\n",
       "      <th>1</th>\n",
       "      <td>4</td>\n",
       "      <td>6.0</td>\n",
       "    </tr>\n",
       "    <tr>\n",
       "      <th>2</th>\n",
       "      <td>4</td>\n",
       "      <td>5.0</td>\n",
       "    </tr>\n",
       "  </tbody>\n",
       "</table>\n",
       "</div>"
      ],
      "text/plain": [
       "   B    C\n",
       "A        \n",
       "1  4  6.0\n",
       "2  4  5.0"
      ]
     },
     "execution_count": 69,
     "metadata": {},
     "output_type": "execute_result"
    }
   ],
   "source": [
    "gbA.sum()"
   ]
  },
  {
   "cell_type": "code",
   "execution_count": null,
   "metadata": {},
   "outputs": [
    {
     "name": "stdout",
     "output_type": "stream",
     "text": [
      "<pandas.core.groupby.generic.DataFrameGroupBy object at 0x7fc72473ecf8>\n",
      "      B                                                 C                      \\\n",
      "  count      mean      std  min  25%  50%  75%  max count mean  std  min  25%   \n",
      "A                                                                               \n",
      "1   3.0  1.333333  0.57735  1.0  1.0  1.0  1.5  2.0   3.0  2.0  1.0  1.0  1.5   \n",
      "2   3.0  1.333333  0.57735  1.0  1.0  1.0  1.5  2.0   1.0  5.0  NaN  5.0  5.0   \n",
      "\n",
      "                  \n",
      "   50%  75%  max  \n",
      "A                 \n",
      "1  2.0  2.5  3.0  \n",
      "2  5.0  5.0  5.0  \n",
      "   B    C\n",
      "0  1  1.0\n",
      "1  1  2.0\n",
      "2  2  3.0\n",
      "3  2  5.0\n",
      "4  1  5.0\n",
      "5  1  NaN\n",
      "   B    C\n",
      "0  1  1.0\n",
      "1  1  2.0\n",
      "2  2  3.0\n",
      "3  2  NaN\n",
      "4  2  5.0\n",
      "5  2  NaN\n"
     ]
    }
   ],
   "source": [
    "# 2. Use introspection (tab completion) to see what other aggregations \n",
    "# are defined for GroupBy objects.\n",
    "# Pick three and evaluate them in the cells below.\n",
    "\n",
    "# Does the output of each of these commands have the same features as \n",
    "# the output of gbA.sum() from above? If not, what is different?\n",
    "\n",
    "\n",
    "# method 1\n",
    "print(gbA.describe())\n",
    "\n",
    "# method 2\n",
    "print(gbA.bfill())\n",
    "\n",
    "# method 3\n",
    "print(gbA.cummax())"
   ]
  },
  {
   "cell_type": "code",
   "execution_count": 97,
   "metadata": {},
   "outputs": [
    {
     "name": "stdout",
     "output_type": "stream",
     "text": [
      "          B    C\n",
      "0 -0.333333 -1.0\n",
      "1 -0.333333  0.0\n",
      "2  0.666667  1.0\n",
      "3  0.666667  NaN\n",
      "4 -0.333333  0.0\n",
      "5 -0.333333  NaN\n",
      "   index         B    C\n",
      "0      0 -0.333333 -1.0\n",
      "1      1 -0.333333  0.0\n",
      "2      2  0.666667  1.0\n",
      "3      3  0.666667  NaN\n",
      "4      4 -0.333333  0.0\n",
      "5      5 -0.333333  NaN\n",
      "   index  A  B_x  C_x       B_y  C_y\n",
      "0      0  1    1  1.0 -0.333333 -1.0\n",
      "1      1  1    1  2.0 -0.333333  0.0\n",
      "2      2  1    2  3.0  0.666667  1.0\n",
      "3      3  2    2  NaN  0.666667  NaN\n",
      "4      4  2    1  5.0 -0.333333  0.0\n",
      "5      5  2    1  NaN -0.333333  NaN\n"
     ]
    }
   ],
   "source": [
    "import numpy as np\n",
    "# 3.\n",
    "\n",
    "#1. Write a function that, given a DataFrame, computes each entry’s deviation from the mean of its column.\n",
    "\n",
    "def deviation_from_mean(col):\n",
    "    mean = np.mean(col)\n",
    "    return col - mean\n",
    "\n",
    "#2. Apply the function to gbA.\n",
    "print(gbA.apply(deviation_from_mean))\n",
    "\n",
    "#3. Describe what the index and columns are? Where are the group keys (the A column)?\n",
    "print(gbA.apply(deviation_from_mean).reset_index())\n",
    "\n",
    "#4. Determine the correct way to add these results back into df as new columns. \n",
    "print(pd.merge(df.reset_index(), gbA.apply(deviation_from_mean).reset_index(), on='index'))"
   ]
  },
  {
   "cell_type": "code",
   "execution_count": null,
   "metadata": {},
   "outputs": [
    {
     "data": {
      "image/png": "[encoded data removed]",
      "text/plain": [
       "<Figure size 720x576 with 12 Axes>"
      ]
     },
     "metadata": {
      "needs_background": "light"
     },
     "output_type": "display_data"
    },
    {
     "data": {
      "image/png": "[encoded data removed]",
      "text/plain": [
       "<Figure size 720x576 with 12 Axes>"
      ]
     },
     "metadata": {
      "needs_background": "light"
     },
     "output_type": "display_data"
    },
    {
     "data": {
      "image/png": "[encoded data removed]",
      "text/plain": [
       "<Figure size 720x576 with 12 Axes>"
      ]
     },
     "metadata": {
      "needs_background": "light"
     },
     "output_type": "display_data"
    }
   ],
   "source": [
    "# 4.\n",
    "# Think about what is shown in the the plots above.\n",
    "delay_type_plot(air_dec, \"12-17-16\", \"12-18-16\")\n",
    "\n",
    "# Answer questions like:\n",
    "\n",
    "# - Which type of delay was the most common?\n",
    "# - Which one caused the largest average delay?\n",
    "# - Does that vary by airline?\n",
    "\n",
    "# Write your thoughts."
   ]
  },
  {
   "cell_type": "code",
   "execution_count": 101,
   "metadata": {},
   "outputs": [
    {
     "data": {
      "image/png": "[encoded data removed]",
      "text/plain": [
       "<Figure size 720x576 with 12 Axes>"
      ]
     },
     "metadata": {
      "needs_background": "light"
     },
     "output_type": "display_data"
    },
    {
     "data": {
      "image/png": "[encoded data removed]",
      "text/plain": [
       "<Figure size 720x576 with 12 Axes>"
      ]
     },
     "metadata": {
      "needs_background": "light"
     },
     "output_type": "display_data"
    },
    {
     "data": {
      "image/png": "[encoded data removed]",
      "text/plain": [
       "<Figure size 720x576 with 12 Axes>"
      ]
     },
     "metadata": {
      "needs_background": "light"
     },
     "output_type": "display_data"
    }
   ],
   "source": [
    "# 5. Verify that we wrote the functions properly by setting the arguments \n",
    "# to appropriate values to replicate the plots from above.\n",
    "\n",
    "delay_type_plot(air_dec, \"12-17-16\", \"12-19-16\")\n",
    "\n"
   ]
  },
  {
   "cell_type": "markdown",
   "metadata": {},
   "source": []
  }
 ],
 "metadata": {
  "kernelspec": {
   "display_name": "Python 3",
   "language": "python",
   "name": "python3"
  },
  "language_info": {
   "codemirror_mode": {
    "name": "ipython",
    "version": 3
   },
   "file_extension": ".py",
   "mimetype": "text/x-python",
   "name": "python",
   "nbconvert_exporter": "python",
   "pygments_lexer": "ipython3",
   "version": "3.7.0"
  }
 },
 "nbformat": 4,
 "nbformat_minor": 2
}
