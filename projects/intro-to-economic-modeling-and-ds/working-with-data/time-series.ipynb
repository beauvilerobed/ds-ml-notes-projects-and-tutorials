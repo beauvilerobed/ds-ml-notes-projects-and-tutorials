{
 "cells": [
  {
   "cell_type": "markdown",
   "metadata": {},
   "source": [
    "# Time series\n",
    "\n",
    "**Outcomes**\n",
    "\n",
    "- Know how pandas handles dates  \n",
    "- Understand how to parse strings into `datetime` objects  \n",
    "- Know how to write dates as custom formatted strings  \n",
    "- Be able to access day, month, year, etc. for a `DateTimeIndex` and\n",
    "  a column with `dtype` `datetime`  \n",
    "- Understand both rolling and re-sampling operations and the difference\n",
    "  between the two  \n",
    "\n",
    "\n",
    "**Data**\n",
    "\n",
    "- Bitcoin to USD exchange rates from March 2014 to the present  "
   ]
  },
  {
   "cell_type": "code",
   "execution_count": null,
   "metadata": {},
   "outputs": [],
   "source": [
    "import os\n",
    "# see section on API keys at end of notebook!\n",
    "import pandas as pd\n",
    "import matplotlib.pyplot as plt\n",
    "import nasdaqdatalink as ndl\n",
    "\n",
    "ndl.ApiConfig.api_key = os.environ.get(\"NASDAQ_DATA_LINK_API_KEY\", \"jEKP58z7JaX6utPkkpEp\")\n",
    "\n",
    "start_date = \"2014-05-01\"\n",
    "\n",
    "%matplotlib inline"
   ]
  },
  {
   "cell_type": "markdown",
   "metadata": {},
   "source": [
    "## Intro\n",
    "\n",
    "pandas has extensive support for handling dates and times.\n",
    "We will loosely refer to data with date or time information as time\n",
    "series data.\n",
    "In this notebook, we will cover the most useful parts of pandas’ time\n",
    "series functionality.\n",
    "\n",
    "Among these topics are:\n",
    "\n",
    "- Parsing strings as dates  \n",
    "- Writing `datetime` objects as strings (inverse operation of previous point)  \n",
    "- Extracting data from a DataFrame or Series with date information in\n",
    "  the index  \n",
    "- Shifting data through time (taking leads or lags)  \n",
    "- Re-sampling data to a different frequency and rolling operations  \n",
    "\n",
    "\n",
    "However, even more than with previous topics, we will skip a lot of the\n",
    "functionality pandas offers, and we urge you to refer to the [official\n",
    "documentation](https://pandas.pydata.org/pandas-docs/stable/timeseries.html)\n",
    "for more information."
   ]
  },
  {
   "cell_type": "markdown",
   "metadata": {},
   "source": [
    "## Parsing Strings as Dates\n",
    "\n",
    "When working with time series data, we almost always receive the data\n",
    "with dates encoded as strings.\n",
    "Hopefully, the date strings follow a structured format or pattern.\n",
    "One common pattern is `YYYY-MM-DD`: 4 numbers for the year, 2 for the\n",
    "month, and 2 for the day with each section separated by a `-`.\n",
    "\n",
    "For example, we write Christmas day 2017 in this format as"
   ]
  },
  {
   "cell_type": "code",
   "execution_count": null,
   "metadata": {},
   "outputs": [],
   "source": [
    "christmas_str = \"2017-12-25\""
   ]
  },
  {
   "cell_type": "markdown",
   "metadata": {},
   "source": [
    "To convert a string into a time-aware object, we use the\n",
    "`pd.to_datetime` function."
   ]
  },
  {
   "cell_type": "code",
   "execution_count": null,
   "metadata": {},
   "outputs": [],
   "source": [
    "christmas = pd.to_datetime(christmas_str)\n",
    "print(\"The type of christmas is\", type(christmas))\n",
    "christmas"
   ]
  },
  {
   "cell_type": "markdown",
   "metadata": {},
   "source": [
    "The `pd.to_datetime` function is pretty smart at guessing the format\n",
    "of the date…"
   ]
  },
  {
   "cell_type": "code",
   "execution_count": null,
   "metadata": {},
   "outputs": [],
   "source": [
    "for date in [\"December 25, 2017\", \"Dec. 25, 2017\",\n",
    "             \"Monday, Dec. 25, 2017\", \"25 Dec. 2017\", \"25th Dec. 2017\"]:\n",
    "    print(\"pandas interprets {} as {}\".format(date, pd.to_datetime(date)))"
   ]
  },
  {
   "cell_type": "markdown",
   "metadata": {},
   "source": [
    "However, sometimes we will need to give pandas a hint.\n",
    "\n",
    "For example, that same time (midnight on Christmas) would be reported on\n",
    "an Amazon transaction report as"
   ]
  },
  {
   "cell_type": "code",
   "execution_count": null,
   "metadata": {},
   "outputs": [],
   "source": [
    "christmas_amzn = \"2017-12-25T00:00:00+ 00 :00\""
   ]
  },
  {
   "cell_type": "markdown",
   "metadata": {},
   "source": [
    "If we try to pass this to `pd.to_datetime`, it will fail."
   ]
  },
  {
   "cell_type": "code",
   "execution_count": null,
   "metadata": {},
   "outputs": [],
   "source": [
    "pd.to_datetime(christmas_amzn)"
   ]
  },
  {
   "cell_type": "markdown",
   "metadata": {},
   "source": [
    "To parse a date with this format, we need to specify the `format`\n",
    "argument for `pd.to_datetime`."
   ]
  },
  {
   "cell_type": "code",
   "execution_count": null,
   "metadata": {},
   "outputs": [],
   "source": [
    "amzn_strftime = \"%Y-%m-%dT%H:%M:%S+ 00 :00\"\n",
    "pd.to_datetime(christmas_amzn, format=amzn_strftime)"
   ]
  },
  {
   "cell_type": "markdown",
   "metadata": {},
   "source": [
    "Can you guess what `amzn_strftime` represents?\n",
    "\n",
    "Let’s take a closer look at `amzn_strftime` and `christmas_amzn`."
   ]
  },
  {
   "cell_type": "code",
   "execution_count": null,
   "metadata": {},
   "outputs": [],
   "source": [
    "print(amzn_strftime)\n",
    "print(christmas_amzn)"
   ]
  },
  {
   "cell_type": "markdown",
   "metadata": {},
   "source": [
    "Notice that both of the strings have a similar form, but that instead of actual numerical values, `amzn_strftime` has *placeholders*.\n",
    "Specifically, anywhere the `%` shows up is a signal to the `pd.to_datetime`\n",
    "function that it is where relevant information is stored.\n",
    "For example, the `%Y` is a stand-in for a four digit year, `%m` is\n",
    "for 2 a digit month, and so on…\n",
    "\n",
    "The official [Python\n",
    "documentation](https://docs.python.org/3/library/datetime.html#strftime-and-strptime-behavior) contains a complete list of possible `%`something patterns that are accepted\n",
    "in the `format` argument."
   ]
  },
  {
   "cell_type": "markdown",
   "metadata": {},
   "source": [
    "### Multiple Dates\n",
    "\n",
    "If we have dates in a Series (e.g. column of DataFrame) or a list, we\n",
    "can pass the entire collection to `pd.to_datetime` and get a\n",
    "collection of dates back.\n",
    "We’ll just show an example of that here as the mechanics are the same as\n",
    "a single date."
   ]
  },
  {
   "cell_type": "code",
   "execution_count": null,
   "metadata": {},
   "outputs": [],
   "source": [
    "pd.to_datetime([\"2017-12-25\", \"2017-12-31\"])"
   ]
  },
  {
   "cell_type": "markdown",
   "metadata": {},
   "source": [
    "## Date Formatting\n",
    "\n",
    "We can use the `%`pattern format to have pandas write `datetime`\n",
    "objects as specially formatted strings using the `strftime` (string\n",
    "format time) method.\n",
    "\n",
    "For example,"
   ]
  },
  {
   "cell_type": "code",
   "execution_count": null,
   "metadata": {},
   "outputs": [],
   "source": [
    "christmas.strftime(\"We love %A %B %d (also written %c)\")"
   ]
  },
  {
   "cell_type": "markdown",
   "metadata": {},
   "source": [
    "## Extracting Data\n",
    "\n",
    "When the index of a DataFrame has date information and pandas\n",
    "recognizes the values as `datetime` values, we can leverage some\n",
    "convenient indexing features for extracting data.\n",
    "\n",
    "The flexibility of these features is best understood through example,\n",
    "so let’s load up some data and take a look."
   ]
  },
  {
   "cell_type": "code",
   "execution_count": null,
   "metadata": {},
   "outputs": [],
   "source": [
    "btc_usd_long = ndl.get_table(\"QDL/BCHAIN\", date = { 'gte': '2009-12-25', 'lte': '2019-01-01' }, code = [\"MKPRU\", \"MKTCP\", \"ETRVU\"])\n",
    "btc_usd_long.info()\n",
    "btc_usd_long.head()"
   ]
  },
  {
   "cell_type": "markdown",
   "metadata": {},
   "source": [
    "Here, we have the Bitcoin (BTC) to US dollar (USD) exchange rate from\n",
    "2009 until today, as well as other variables relevant to the Bitcoin ecosystem, in long (“melted”) form."
   ]
  },
  {
   "cell_type": "code",
   "execution_count": null,
   "metadata": {},
   "outputs": [],
   "source": [
    "print(btc_usd_long.code.unique())\n",
    "btc_usd_long.dtypes"
   ]
  },
  {
   "cell_type": "markdown",
   "metadata": {},
   "source": [
    "Notice that the type of `date` is `datetime`. We would like this to be the index, and we want to drop the long form. We also selected only a couple of columns of interest, but the dataset has a lot more options. (The column descriptions can be found [here](https://data.nasdaq.com/databases/BCHAIN)). We chose Market Price (in USD) (`MKPRU`), Total Market Cap (`MKTCP`), and Estimated Transaction Volume in USD (`ETRVU`)."
   ]
  },
  {
   "cell_type": "code",
   "execution_count": null,
   "metadata": {},
   "outputs": [],
   "source": [
    "btc_usd = btc_usd_long.pivot_table(index='date', columns='code', values='value')\n",
    "btc_usd.head()"
   ]
  },
  {
   "cell_type": "markdown",
   "metadata": {},
   "source": [
    "Now that we have a datetime index, it enables things like…\n",
    "\n",
    "Extracting all data for the year 2015 by passing `\"2015\"` to `.loc`."
   ]
  },
  {
   "cell_type": "code",
   "execution_count": null,
   "metadata": {},
   "outputs": [],
   "source": [
    "btc_usd.loc[\"2015\"]"
   ]
  },
  {
   "cell_type": "markdown",
   "metadata": {},
   "source": [
    "We can also narrow down to specific months."
   ]
  },
  {
   "cell_type": "code",
   "execution_count": null,
   "metadata": {},
   "outputs": [],
   "source": [
    "# By month's name\n",
    "btc_usd.loc[\"August 2017\"]"
   ]
  },
  {
   "cell_type": "code",
   "execution_count": null,
   "metadata": {},
   "outputs": [],
   "source": [
    "# By month's number\n",
    "btc_usd.loc[\"08/2017\"]"
   ]
  },
  {
   "cell_type": "markdown",
   "metadata": {},
   "source": [
    "Or even a day…"
   ]
  },
  {
   "cell_type": "code",
   "execution_count": null,
   "metadata": {},
   "outputs": [],
   "source": [
    "# By date name\n",
    "btc_usd.loc[\"August 1, 2017\"]"
   ]
  },
  {
   "cell_type": "code",
   "execution_count": null,
   "metadata": {},
   "outputs": [],
   "source": [
    "# By date number\n",
    "btc_usd.loc[\"08-01-2017\"]"
   ]
  },
  {
   "cell_type": "markdown",
   "metadata": {},
   "source": [
    "What can we pass as the `.loc` argument when we have a\n",
    "`DateTimeIndex`?\n",
    "\n",
    "Anything that can be converted to a `datetime` using\n",
    "`pd.to_datetime`, *without* having to specify the format argument.\n",
    "When that condition holds, pandas will return *all* rows whose date in\n",
    "the index “belong” to that date or period.\n",
    "We can also use the range shorthand notation to give a start and end\n",
    "date for selection."
   ]
  },
  {
   "cell_type": "code",
   "execution_count": null,
   "metadata": {},
   "outputs": [],
   "source": [
    "btc_usd.loc[\"April 1, 2015\":\"April 10, 2015\"]"
   ]
  },
  {
   "cell_type": "markdown",
   "metadata": {},
   "source": [
    "## Accessing Date Properties\n",
    "\n",
    "Sometimes, we would like to directly access a part of the date/time.\n",
    "\n",
    "If our date/time information is in the index, we can to `df.index.XX`\n",
    "where `XX` is replaced by `year`, `month`, or whatever we would\n",
    "like to access."
   ]
  },
  {
   "cell_type": "code",
   "execution_count": null,
   "metadata": {},
   "outputs": [],
   "source": [
    "btc_usd.index.year"
   ]
  },
  {
   "cell_type": "code",
   "execution_count": null,
   "metadata": {},
   "outputs": [],
   "source": [
    "btc_usd.index.day"
   ]
  },
  {
   "cell_type": "markdown",
   "metadata": {},
   "source": [
    "We can also do the same if the date/time information is stored in a\n",
    "column, but we have to use a slightly different syntax.\n",
    "\n",
    "```\n",
    "df[\"column_name\"].dt.XX\n",
    "```"
   ]
  },
  {
   "cell_type": "code",
   "execution_count": null,
   "metadata": {},
   "outputs": [],
   "source": [
    "btc_date_column = btc_usd.reset_index()\n",
    "btc_date_column.head()"
   ]
  },
  {
   "cell_type": "code",
   "execution_count": null,
   "metadata": {},
   "outputs": [],
   "source": [
    "btc_date_column[\"date\"].dt.year.head()"
   ]
  },
  {
   "cell_type": "code",
   "execution_count": null,
   "metadata": {},
   "outputs": [],
   "source": [
    "btc_date_column[\"date\"].dt.month.head()"
   ]
  },
  {
   "cell_type": "markdown",
   "metadata": {},
   "source": [
    "## Leads and Lags: `df.shift`\n",
    "\n",
    "When doing time series analysis, we often want to compare data at one\n",
    "date against data at another date.\n",
    "pandas can help us with this if we leverage the `shift` method.\n",
    "Without any additional arguments, `shift()` will move all data\n",
    "*forward* one period, filling the first row with missing data."
   ]
  },
  {
   "cell_type": "code",
   "execution_count": null,
   "metadata": {},
   "outputs": [],
   "source": [
    "# so we can see the result of shift clearly\n",
    "btc_usd.head()"
   ]
  },
  {
   "cell_type": "code",
   "execution_count": null,
   "metadata": {},
   "outputs": [],
   "source": [
    "btc_usd.shift().head()"
   ]
  },
  {
   "cell_type": "markdown",
   "metadata": {},
   "source": [
    "We can use this to compute the percent change from one day to the next.\n",
    "(Quiz: Why does that work? Remember how pandas uses the index to *align*\n",
    "data.)"
   ]
  },
  {
   "cell_type": "code",
   "execution_count": null,
   "metadata": {},
   "outputs": [],
   "source": [
    "((btc_usd - btc_usd.shift()) / btc_usd.shift()).tail()"
   ]
  },
  {
   "cell_type": "markdown",
   "metadata": {},
   "source": [
    "Setting the first argument to `n` tells pandas to shift the data down\n",
    "`n` rows (apply an `n` period lag)."
   ]
  },
  {
   "cell_type": "code",
   "execution_count": null,
   "metadata": {},
   "outputs": [],
   "source": [
    "btc_usd.shift(3).head()"
   ]
  },
  {
   "cell_type": "markdown",
   "metadata": {},
   "source": [
    "A negative value will shift the data *up* or apply a lead."
   ]
  },
  {
   "cell_type": "code",
   "execution_count": null,
   "metadata": {},
   "outputs": [],
   "source": [
    "btc_usd.shift(-2).head()"
   ]
  },
  {
   "cell_type": "code",
   "execution_count": null,
   "metadata": {},
   "outputs": [],
   "source": [
    "btc_usd.shift(-2).tail()"
   ]
  },
  {
   "cell_type": "markdown",
   "metadata": {},
   "source": [
    "## Rolling Computations: `.rolling`\n",
    "\n",
    "pandas has facilities that enable easy computation of *rolling\n",
    "statistics*.\n",
    "\n",
    "These are best understood by example, so we will dive right in."
   ]
  },
  {
   "cell_type": "code",
   "execution_count": null,
   "metadata": {},
   "outputs": [],
   "source": [
    "# first take only the first 6 rows so we can easily see what is going on\n",
    "btc_small = btc_usd.tail(6)\n",
    "btc_small"
   ]
  },
  {
   "cell_type": "markdown",
   "metadata": {},
   "source": [
    "Below, we compute the 2 day moving average (for all columns)."
   ]
  },
  {
   "cell_type": "code",
   "execution_count": null,
   "metadata": {},
   "outputs": [],
   "source": [
    "btc_small.rolling(\"2d\").mean()"
   ]
  },
  {
   "cell_type": "markdown",
   "metadata": {},
   "source": [
    "To do this operation, pandas starts at each row (date) then looks\n",
    "*backwards* the specified number of periods (here 2 days) and then\n",
    "applies some aggregation function (`mean`) on all the data in that\n",
    "window.\n",
    "\n",
    "If pandas cannot look back the full length of the window (e.g. when\n",
    "working on the first row), it fills as much of the window as possible\n",
    "and then does the operation. Notice that the value at 2018-12-27 is\n",
    "the same in both DataFrames.\n",
    "\n",
    "Below, we see a visual depiction of the rolling maximum on a 21 day\n",
    "window for the whole dataset."
   ]
  },
  {
   "cell_type": "code",
   "execution_count": null,
   "metadata": {},
   "outputs": [],
   "source": [
    "fig, ax = plt.subplots(figsize=(10, 4))\n",
    "btc_usd[\"MKPRU\"].plot(ax=ax, linestyle=\"--\", alpha=0.8)\n",
    "btc_usd.rolling(\"21d\").max()[\"MKPRU\"].plot(ax=ax, alpha=0.8, linewidth=3)\n",
    "ax.legend([\"Original\", \"21 day max\"])"
   ]
  },
  {
   "cell_type": "markdown",
   "metadata": {},
   "source": [
    "We can also ask pandas to `apply` custom functions, similar to what we\n",
    "saw when studying GroupBy."
   ]
  },
  {
   "cell_type": "code",
   "execution_count": null,
   "metadata": {},
   "outputs": [],
   "source": [
    "def is_volatile(x):\n",
    "    \"Returns a 1 if the variance is greater than 1, otherwise returns 0\"\n",
    "    if x.var() > 1.0:\n",
    "        return 1.0\n",
    "    else:\n",
    "        return 0.0"
   ]
  },
  {
   "cell_type": "code",
   "execution_count": null,
   "metadata": {},
   "outputs": [],
   "source": [
    "btc_small.rolling(\"2d\").apply(is_volatile)"
   ]
  },
  {
   "cell_type": "markdown",
   "metadata": {},
   "source": [
    "## Changing Frequencies: `.resample`\n",
    "\n",
    "In addition to computing rolling statistics, we can also change the\n",
    "frequency of the data.\n",
    "For example, instead of a monthly moving average, suppose that we wanted\n",
    "to compute the average *within* each calendar month.\n",
    "We will use the `resample` method to do this.\n",
    "\n",
    "Below are some examples."
   ]
  },
  {
   "cell_type": "code",
   "execution_count": null,
   "metadata": {},
   "outputs": [],
   "source": [
    "# business quarter\n",
    "btc_usd.resample(\"Q\").mean()"
   ]
  },
  {
   "cell_type": "markdown",
   "metadata": {},
   "source": [
    "Note that unlike with `rolling`, a single number is returned for\n",
    "each column for each quarter.\n",
    "The `resample` method will alter the frequency of the data and the\n",
    "number of rows in the result will be different from the number of rows\n",
    "in the input.\n",
    "On the other hand, with `rolling`, the size and frequency of the result\n",
    "are the same as the input.\n",
    "We can sample at other frequencies and aggregate with multiple aggregations\n",
    "function at once."
   ]
  },
  {
   "cell_type": "code",
   "execution_count": null,
   "metadata": {},
   "outputs": [],
   "source": [
    "# multiple functions at 2 start-of-quarter frequency\n",
    "btc_usd.resample(\"2BQS\").agg([\"min\", \"max\"])"
   ]
  },
  {
   "cell_type": "markdown",
   "metadata": {},
   "source": [
    "As with `groupby` and `rolling`, you can also provide custom\n",
    "functions to `.resample(...).agg` and `.resample(...).apply`"
   ]
  },
  {
   "cell_type": "markdown",
   "metadata": {},
   "source": [
    "## Optional: API keys\n",
    "\n",
    "Recall above that we had the line of code:\n",
    "\n",
    "```\n",
    "ndl.ApiConfig.api_key = os.environ.get(\"NASDAQ_DATA_LINK_API_KEY\", \"jEKP58z7JaX6utPkkpEp\")\n",
    "```"
   ]
  },
  {
   "cell_type": "markdown",
   "metadata": {},
   "source": [
    "This line told the `nasdaqdatalink` library that when obtaining making requests for data, it should use the *API key* `jEKP58z7JaX6utPkkpEp`.\n",
    "An API key is a sort of password that web services (like the Nasdaq Data Link API) require you to provide when you make requests.\n",
    "Using this password, we were able to make a request to Nasdaq data link to obtain data directly from them.\n",
    "\n",
    "The API key used here is one that we requested on behalf of this course. If you create your own API key, you should store it in the NASDAQ_DATA_LINK_API_KEY environment variable, locally on your computer. Using an environment variable like this is a common way to store sensitive information like API keys, since you can set the environment variable in a secure way that is not stored in your code. How to set environment variables varies by operating system, but you can find instructions for doing so on the web.\n",
    "\n",
    "If you plan to use Nasdaq data more extensively, you should obtain your own personal API key from [their website](https://www.nasdaq.com/nasdaq-data-link) and re-run the `os.environ...` line of code with your new API key on the right-hand side.\n",
    "\n",
    "\n",
    "<a id='pd-tim-ex'></a>"
   ]
  },
  {
   "cell_type": "markdown",
   "metadata": {},
   "source": [
    "## Exercises"
   ]
  },
  {
   "cell_type": "code",
   "execution_count": null,
   "metadata": {},
   "outputs": [],
   "source": [
    "christmas_amzn = \"2017-12-25T00:00:00+ 00 :00\"\n",
    "amzn_strftime = \"%Y-%m-%dT%H:%M:%S+ 00 :00\"\n",
    "pd.to_datetime(christmas_amzn, format=amzn_strftime)"
   ]
  },
  {
   "cell_type": "code",
   "execution_count": null,
   "metadata": {},
   "outputs": [],
   "source": [
    "# 1. By referring to table found at the link above, \n",
    "# figure out the correct argument to pass as format in order \n",
    "# to parse the dates in the next three cells below.\n",
    "\n",
    "# Test your work by passing your format string to pd.to_datetime.\n",
    "\n",
    "christmas_str2 = \"2017:12:25\"\n",
    "amzn_strftime2 = \"%Y:%m:%d\"\n",
    "pd.to_datetime(christmas_str2, format=amzn_strftime2)\n",
    "\n",
    "dbacks_win = \"M:11 D:4 Y:2001 9:15 PM\"\n",
    "dbacks_win_strtime= \"M:%m D:%d Y:%Y %I:%M %p\"\n",
    "pd.to_datetime(dbacks_win, format=dbacks_win_strtime)\n",
    "\n",
    "america_bday = \"America was born on July 4, 1776\"\n",
    "america_bday_strftime = \"America was born on %B %d, %Y\"\n",
    "pd.to_datetime(america_bday, format=america_bday_strftime)\n",
    "\n"
   ]
  },
  {
   "cell_type": "code",
   "execution_count": null,
   "metadata": {},
   "outputs": [],
   "source": [
    "# 2. Use pd.to_datetime to express the birthday of one of \n",
    "# your friends or family members as a datetime object.\n",
    "\n",
    "# Then use the strftime method to write a message of the format:\n",
    "christmas.strftime(\"We love %A %B %d (also written %c)\")\n",
    "dbacks_win = \"M:11 D:4 Y:2001 9:15 PM\"\n",
    "dbacks_win_strtime= \"M:%m D:%d Y:%Y %I:%M %p\"\n",
    "pd.to_datetime(dbacks_win, format=dbacks_win_strtime).strftime(\"NAME's birthday is %B %d, %Y (a %A)\")\n"
   ]
  },
  {
   "cell_type": "code",
   "execution_count": null,
   "metadata": {},
   "outputs": [],
   "source": [
    "# 3. For each item in the list, extract the specified data from btc_usd:\n",
    "\n",
    "# July 2017 through August 2017 (inclusive)\n",
    "# April 25, 2015 to June 10, 2016\n",
    "# October 31, 2017\n",
    "\n",
    "print('btc_usd.loc[\"July 2017\":\"August 2017\"]')\n",
    "print(btc_usd.loc[\"July 2017\":\"August 2017\"],'\\n')\n",
    "\n",
    "print('btc_usd.loc[\"April 25, 2015\":\"June 10, 2016\"]')\n",
    "print(btc_usd.loc[\"April 25, 2015\":\"June 10, 2016\"],'\\n')\n",
    "\n",
    "print('btc_usd.loc[\"October 31, 2017\"]')\n",
    "print(btc_usd.loc[\"October 31, 2017\"],'\\n')"
   ]
  },
  {
   "cell_type": "code",
   "execution_count": null,
   "metadata": {},
   "outputs": [],
   "source": [
    "# 4. Using the shift function, determine the week with the largest \n",
    "# percent change in the volume of trades (the \"Volume (BTC)\" column).\n",
    "\n",
    "print(((btc_usd - btc_usd.shift()) / btc_usd.shift())['ETRVU']\\\n",
    "    .idxmax()\\\n",
    "        .strftime('The week with the largest percent change in the volume of trades (the \"Volume (BTC)\" column) is %U (a %A)'))\n",
    "\n",
    "print(((btc_usd - btc_usd.shift(14)) / btc_usd.shift(14))['ETRVU']\\\n",
    "    .idxmax()\\\n",
    "        .strftime('The week with the largest percent change in the volume of trades (the \"Volume (BTC)\" column) is %U (a %A)'))\n",
    "\n",
    "print(((btc_usd - btc_usd.shift(30)) / btc_usd.shift(20))['ETRVU']\\\n",
    "    .idxmax()\\\n",
    "        .strftime('The week with the largest percent change in the volume of trades (the \"Volume (BTC)\" column) is %U (a %A)'))\n",
    "\n",
    "# 4. Using the shift function, determine the week with the largest \n",
    "# percent change in the volume of trades (the \"Volume (BTC)\" column).\n",
    "\n",
    "print(btc_usd.pct_change()['ETRVU']\\\n",
    "    .idxmax()\\\n",
    "        .strftime('The week with the largest percent change in the volume of trades (the \"Volume (BTC)\" column) is %U (a %A)'))\n",
    "\n",
    "print(btc_usd.pct_change(periods=2)['ETRVU']\\\n",
    "    .idxmax()\\\n",
    "        .strftime('The week with the largest percent change in the volume of trades (the \"Volume (BTC)\" column) is %U (a %A)'))\n",
    "\n",
    "print(btc_usd.pct_change(freq='M')['ETRVU']\\\n",
    "    .idxmax()\\\n",
    "        .strftime('The week with the largest percent change in the volume of trades (the \"Volume (BTC)\" column) is %U (a %A)'))"
   ]
  },
  {
   "cell_type": "code",
   "execution_count": null,
   "metadata": {},
   "outputs": [],
   "source": [
    "# 6. Do the following:\n",
    "# Write a pandas function that implements your strategy.\n",
    "# Pass it to the agg method of rolling_btc.\n",
    "# Extract the \"Open\" column from the result.\n",
    "# Find the date associated with the maximum value in that column.\n",
    "# How much money did you make? Compare with your neighbor.\n",
    "\n",
    "def daily_value(df):\n",
    "    # DELETE `pass` below and replace it with your code\n",
    "    pass\n",
    "\n",
    "rolling_btc = btc_usd.rolling(\"30d\")\n",
    "\n",
    "# do steps 2-4 here"
   ]
  },
  {
   "cell_type": "code",
   "execution_count": null,
   "metadata": {},
   "outputs": [],
   "source": [
    "# 8. Do the following:\n",
    "# Write a pandas function that implements your strategy.\n",
    "# Pass it to the agg method of resampled_btc.\n",
    "# Extract the \"Open\" column from the result.\n",
    "# Find the date associated with the maximum value in that column.\n",
    "# How much money did you make? Compare with your neighbor.\n",
    "# Was this strategy more profitable than the previous one? By how much?\n",
    "\n",
    "def monthly_value(df):\n",
    "    # DELETE `pass` below and replace it with your code\n",
    "    pass\n",
    "\n",
    "resampled_btc = btc_usd.resample(\"MS\")\n",
    "\n",
    "# Do steps 2-4 here"
   ]
  }
 ],
 "metadata": {
  "kernelspec": {
   "display_name": "Python 3",
   "language": "python",
   "name": "python3"
  },
  "language_info": {
   "codemirror_mode": {
    "name": "ipython",
    "version": 3
   },
   "file_extension": ".py",
   "mimetype": "text/x-python",
   "name": "python",
   "nbconvert_exporter": "python",
   "pygments_lexer": "ipython3",
   "version": "3.13.3"
  }
 },
 "nbformat": 4,
 "nbformat_minor": 2
}
