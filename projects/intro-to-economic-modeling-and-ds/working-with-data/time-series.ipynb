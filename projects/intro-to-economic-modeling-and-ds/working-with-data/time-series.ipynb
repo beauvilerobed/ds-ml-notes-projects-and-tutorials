{
 "cells": [
  {
   "cell_type": "markdown",
   "metadata": {},
   "source": [
    "# Time series\n",
    "\n",
    "**Outcomes**\n",
    "\n",
    "- Know how pandas handles dates  \n",
    "- Understand how to parse strings into `datetime` objects  \n",
    "- Know how to write dates as custom formatted strings  \n",
    "- Be able to access day, month, year, etc. for a `DateTimeIndex` and\n",
    "  a column with `dtype` `datetime`  \n",
    "- Understand both rolling and re-sampling operations and the difference\n",
    "  between the two  \n",
    "\n",
    "\n",
    "**Data**\n",
    "\n",
    "- Bitcoin to USD exchange rates from March 2014 to the present  "
   ]
  },
  {
   "cell_type": "code",
   "execution_count": null,
   "metadata": {},
   "outputs": [],
   "source": [
    "import os\n",
    "# see section on API keys at end of notebook!\n",
    "import pandas as pd\n",
    "import matplotlib.pyplot as plt\n",
    "import nasdaqdatalink as ndl\n",
    "\n",
    "ndl.ApiConfig.api_key = os.environ.get(\"NASDAQ_DATA_LINK_API_KEY\", \"jEKP58z7JaX6utPkkpEp\")\n",
    "\n",
    "start_date = \"2014-05-01\"\n",
    "\n",
    "%matplotlib inline"
   ]
  },
  {
   "cell_type": "markdown",
   "metadata": {},
   "source": [
    "## Intro\n",
    "\n",
    "pandas has extensive support for handling dates and times.\n",
    "We will loosely refer to data with date or time information as time\n",
    "series data.\n",
    "In this notebook, we will cover the most useful parts of pandas’ time\n",
    "series functionality.\n",
    "\n",
    "Among these topics are:\n",
    "\n",
    "- Parsing strings as dates  \n",
    "- Writing `datetime` objects as strings (inverse operation of previous point)  \n",
    "- Extracting data from a DataFrame or Series with date information in\n",
    "  the index  \n",
    "- Shifting data through time (taking leads or lags)  \n",
    "- Re-sampling data to a different frequency and rolling operations  \n",
    "\n",
    "\n",
    "However, even more than with previous topics, we will skip a lot of the\n",
    "functionality pandas offers, and we urge you to refer to the [official\n",
    "documentation](https://pandas.pydata.org/pandas-docs/stable/timeseries.html)\n",
    "for more information."
   ]
  },
  {
   "cell_type": "markdown",
   "metadata": {},
   "source": [
    "## Parsing Strings as Dates\n",
    "\n",
    "When working with time series data, we almost always receive the data\n",
    "with dates encoded as strings.\n",
    "Hopefully, the date strings follow a structured format or pattern.\n",
    "One common pattern is `YYYY-MM-DD`: 4 numbers for the year, 2 for the\n",
    "month, and 2 for the day with each section separated by a `-`.\n",
    "\n",
    "For example, we write Christmas day 2017 in this format as"
   ]
  },
  {
   "cell_type": "code",
   "execution_count": 2,
   "metadata": {},
   "outputs": [],
   "source": [
    "christmas_str = \"2017-12-25\""
   ]
  },
  {
   "cell_type": "markdown",
   "metadata": {},
   "source": [
    "To convert a string into a time-aware object, we use the\n",
    "`pd.to_datetime` function."
   ]
  },
  {
   "cell_type": "code",
   "execution_count": 3,
   "metadata": {},
   "outputs": [
    {
     "name": "stdout",
     "output_type": "stream",
     "text": [
      "The type of christmas is <class 'pandas._libs.tslibs.timestamps.Timestamp'>\n"
     ]
    },
    {
     "data": {
      "text/plain": [
       "Timestamp('2017-12-25 00:00:00')"
      ]
     },
     "execution_count": 3,
     "metadata": {},
     "output_type": "execute_result"
    }
   ],
   "source": [
    "christmas = pd.to_datetime(christmas_str)\n",
    "print(\"The type of christmas is\", type(christmas))\n",
    "christmas"
   ]
  },
  {
   "cell_type": "markdown",
   "metadata": {},
   "source": [
    "The `pd.to_datetime` function is pretty smart at guessing the format\n",
    "of the date…"
   ]
  },
  {
   "cell_type": "code",
   "execution_count": 4,
   "metadata": {},
   "outputs": [
    {
     "name": "stdout",
     "output_type": "stream",
     "text": [
      "pandas interprets December 25, 2017 as 2017-12-25 00:00:00\n",
      "pandas interprets Dec. 25, 2017 as 2017-12-25 00:00:00\n",
      "pandas interprets Monday, Dec. 25, 2017 as 2017-12-25 00:00:00\n",
      "pandas interprets 25 Dec. 2017 as 2017-12-25 00:00:00\n",
      "pandas interprets 25th Dec. 2017 as 2017-12-25 00:00:00\n"
     ]
    }
   ],
   "source": [
    "for date in [\"December 25, 2017\", \"Dec. 25, 2017\",\n",
    "             \"Monday, Dec. 25, 2017\", \"25 Dec. 2017\", \"25th Dec. 2017\"]:\n",
    "    print(\"pandas interprets {} as {}\".format(date, pd.to_datetime(date)))"
   ]
  },
  {
   "cell_type": "markdown",
   "metadata": {},
   "source": [
    "However, sometimes we will need to give pandas a hint.\n",
    "\n",
    "For example, that same time (midnight on Christmas) would be reported on\n",
    "an Amazon transaction report as"
   ]
  },
  {
   "cell_type": "code",
   "execution_count": 5,
   "metadata": {},
   "outputs": [],
   "source": [
    "christmas_amzn = \"2017-12-25T00:00:00+ 00 :00\""
   ]
  },
  {
   "cell_type": "markdown",
   "metadata": {},
   "source": [
    "If we try to pass this to `pd.to_datetime`, it will fail."
   ]
  },
  {
   "cell_type": "code",
   "execution_count": 6,
   "metadata": {},
   "outputs": [
    {
     "ename": "ParserError",
     "evalue": "Unknown string format: 2017-12-25T00:00:00+ 00 :00",
     "output_type": "error",
     "traceback": [
      "\u001b[0;31m---------------------------------------------------------------------------\u001b[0m",
      "\u001b[0;31mTypeError\u001b[0m                                 Traceback (most recent call last)",
      "\u001b[0;32m/Library/Frameworks/Python.framework/Versions/3.7/lib/python3.7/site-packages/pandas/core/arrays/datetimes.py\u001b[0m in \u001b[0;36mobjects_to_datetime64ns\u001b[0;34m(data, dayfirst, yearfirst, utc, errors, require_iso8601, allow_object)\u001b[0m\n\u001b[1;32m   2058\u001b[0m         \u001b[0;32mtry\u001b[0m\u001b[0;34m:\u001b[0m\u001b[0;34m\u001b[0m\u001b[0m\n\u001b[0;32m-> 2059\u001b[0;31m             \u001b[0mvalues\u001b[0m\u001b[0;34m,\u001b[0m \u001b[0mtz_parsed\u001b[0m \u001b[0;34m=\u001b[0m \u001b[0mconversion\u001b[0m\u001b[0;34m.\u001b[0m\u001b[0mdatetime_to_datetime64\u001b[0m\u001b[0;34m(\u001b[0m\u001b[0mdata\u001b[0m\u001b[0;34m)\u001b[0m\u001b[0;34m\u001b[0m\u001b[0m\n\u001b[0m\u001b[1;32m   2060\u001b[0m             \u001b[0;31m# If tzaware, these values represent unix timestamps, so we\u001b[0m\u001b[0;34m\u001b[0m\u001b[0;34m\u001b[0m\u001b[0m\n",
      "\u001b[0;32mpandas/_libs/tslibs/conversion.pyx\u001b[0m in \u001b[0;36mpandas._libs.tslibs.conversion.datetime_to_datetime64\u001b[0;34m()\u001b[0m\n",
      "\u001b[0;31mTypeError\u001b[0m: Unrecognized value type: <class 'str'>",
      "\nDuring handling of the above exception, another exception occurred:\n",
      "\u001b[0;31mParserError\u001b[0m                               Traceback (most recent call last)",
      "\u001b[0;32m/var/folders/yc/b0_qh6xx67scyz1s3xhmn12m0000gn/T/ipykernel_82731/1648798842.py\u001b[0m in \u001b[0;36m<module>\u001b[0;34m\u001b[0m\n\u001b[0;32m----> 1\u001b[0;31m \u001b[0mpd\u001b[0m\u001b[0;34m.\u001b[0m\u001b[0mto_datetime\u001b[0m\u001b[0;34m(\u001b[0m\u001b[0mchristmas_amzn\u001b[0m\u001b[0;34m)\u001b[0m\u001b[0;34m\u001b[0m\u001b[0m\n\u001b[0m",
      "\u001b[0;32m/Library/Frameworks/Python.framework/Versions/3.7/lib/python3.7/site-packages/pandas/core/tools/datetimes.py\u001b[0m in \u001b[0;36mto_datetime\u001b[0;34m(arg, errors, dayfirst, yearfirst, utc, format, exact, unit, infer_datetime_format, origin, cache)\u001b[0m\n\u001b[1;32m    828\u001b[0m             \u001b[0mresult\u001b[0m \u001b[0;34m=\u001b[0m \u001b[0mconvert_listlike\u001b[0m\u001b[0;34m(\u001b[0m\u001b[0marg\u001b[0m\u001b[0;34m,\u001b[0m \u001b[0mformat\u001b[0m\u001b[0;34m)\u001b[0m\u001b[0;34m\u001b[0m\u001b[0m\n\u001b[1;32m    829\u001b[0m     \u001b[0;32melse\u001b[0m\u001b[0;34m:\u001b[0m\u001b[0;34m\u001b[0m\u001b[0m\n\u001b[0;32m--> 830\u001b[0;31m         \u001b[0mresult\u001b[0m \u001b[0;34m=\u001b[0m \u001b[0mconvert_listlike\u001b[0m\u001b[0;34m(\u001b[0m\u001b[0mnp\u001b[0m\u001b[0;34m.\u001b[0m\u001b[0marray\u001b[0m\u001b[0;34m(\u001b[0m\u001b[0;34m[\u001b[0m\u001b[0marg\u001b[0m\u001b[0;34m]\u001b[0m\u001b[0;34m)\u001b[0m\u001b[0;34m,\u001b[0m \u001b[0mformat\u001b[0m\u001b[0;34m)\u001b[0m\u001b[0;34m[\u001b[0m\u001b[0;36m0\u001b[0m\u001b[0;34m]\u001b[0m\u001b[0;34m\u001b[0m\u001b[0m\n\u001b[0m\u001b[1;32m    831\u001b[0m \u001b[0;34m\u001b[0m\u001b[0m\n\u001b[1;32m    832\u001b[0m     \u001b[0;32mreturn\u001b[0m \u001b[0mresult\u001b[0m\u001b[0;34m\u001b[0m\u001b[0m\n",
      "\u001b[0;32m/Library/Frameworks/Python.framework/Versions/3.7/lib/python3.7/site-packages/pandas/core/tools/datetimes.py\u001b[0m in \u001b[0;36m_convert_listlike_datetimes\u001b[0;34m(arg, format, name, tz, unit, errors, infer_datetime_format, dayfirst, yearfirst, exact)\u001b[0m\n\u001b[1;32m    464\u001b[0m             \u001b[0merrors\u001b[0m\u001b[0;34m=\u001b[0m\u001b[0merrors\u001b[0m\u001b[0;34m,\u001b[0m\u001b[0;34m\u001b[0m\u001b[0m\n\u001b[1;32m    465\u001b[0m             \u001b[0mrequire_iso8601\u001b[0m\u001b[0;34m=\u001b[0m\u001b[0mrequire_iso8601\u001b[0m\u001b[0;34m,\u001b[0m\u001b[0;34m\u001b[0m\u001b[0m\n\u001b[0;32m--> 466\u001b[0;31m             \u001b[0mallow_object\u001b[0m\u001b[0;34m=\u001b[0m\u001b[0;32mTrue\u001b[0m\u001b[0;34m,\u001b[0m\u001b[0;34m\u001b[0m\u001b[0m\n\u001b[0m\u001b[1;32m    467\u001b[0m         )\n\u001b[1;32m    468\u001b[0m \u001b[0;34m\u001b[0m\u001b[0m\n",
      "\u001b[0;32m/Library/Frameworks/Python.framework/Versions/3.7/lib/python3.7/site-packages/pandas/core/arrays/datetimes.py\u001b[0m in \u001b[0;36mobjects_to_datetime64ns\u001b[0;34m(data, dayfirst, yearfirst, utc, errors, require_iso8601, allow_object)\u001b[0m\n\u001b[1;32m   2062\u001b[0m             \u001b[0;32mreturn\u001b[0m \u001b[0mvalues\u001b[0m\u001b[0;34m.\u001b[0m\u001b[0mview\u001b[0m\u001b[0;34m(\u001b[0m\u001b[0;34m\"i8\"\u001b[0m\u001b[0;34m)\u001b[0m\u001b[0;34m,\u001b[0m \u001b[0mtz_parsed\u001b[0m\u001b[0;34m\u001b[0m\u001b[0m\n\u001b[1;32m   2063\u001b[0m         \u001b[0;32mexcept\u001b[0m \u001b[0;34m(\u001b[0m\u001b[0mValueError\u001b[0m\u001b[0;34m,\u001b[0m \u001b[0mTypeError\u001b[0m\u001b[0;34m)\u001b[0m\u001b[0;34m:\u001b[0m\u001b[0;34m\u001b[0m\u001b[0m\n\u001b[0;32m-> 2064\u001b[0;31m             \u001b[0;32mraise\u001b[0m \u001b[0me\u001b[0m\u001b[0;34m\u001b[0m\u001b[0m\n\u001b[0m\u001b[1;32m   2065\u001b[0m \u001b[0;34m\u001b[0m\u001b[0m\n\u001b[1;32m   2066\u001b[0m     \u001b[0;32mif\u001b[0m \u001b[0mtz_parsed\u001b[0m \u001b[0;32mis\u001b[0m \u001b[0;32mnot\u001b[0m \u001b[0;32mNone\u001b[0m\u001b[0;34m:\u001b[0m\u001b[0;34m\u001b[0m\u001b[0m\n",
      "\u001b[0;32m/Library/Frameworks/Python.framework/Versions/3.7/lib/python3.7/site-packages/pandas/core/arrays/datetimes.py\u001b[0m in \u001b[0;36mobjects_to_datetime64ns\u001b[0;34m(data, dayfirst, yearfirst, utc, errors, require_iso8601, allow_object)\u001b[0m\n\u001b[1;32m   2053\u001b[0m             \u001b[0mdayfirst\u001b[0m\u001b[0;34m=\u001b[0m\u001b[0mdayfirst\u001b[0m\u001b[0;34m,\u001b[0m\u001b[0;34m\u001b[0m\u001b[0m\n\u001b[1;32m   2054\u001b[0m             \u001b[0myearfirst\u001b[0m\u001b[0;34m=\u001b[0m\u001b[0myearfirst\u001b[0m\u001b[0;34m,\u001b[0m\u001b[0;34m\u001b[0m\u001b[0m\n\u001b[0;32m-> 2055\u001b[0;31m             \u001b[0mrequire_iso8601\u001b[0m\u001b[0;34m=\u001b[0m\u001b[0mrequire_iso8601\u001b[0m\u001b[0;34m,\u001b[0m\u001b[0;34m\u001b[0m\u001b[0m\n\u001b[0m\u001b[1;32m   2056\u001b[0m         )\n\u001b[1;32m   2057\u001b[0m     \u001b[0;32mexcept\u001b[0m \u001b[0mValueError\u001b[0m \u001b[0;32mas\u001b[0m \u001b[0me\u001b[0m\u001b[0;34m:\u001b[0m\u001b[0;34m\u001b[0m\u001b[0m\n",
      "\u001b[0;32mpandas/_libs/tslib.pyx\u001b[0m in \u001b[0;36mpandas._libs.tslib.array_to_datetime\u001b[0;34m()\u001b[0m\n",
      "\u001b[0;32mpandas/_libs/tslib.pyx\u001b[0m in \u001b[0;36mpandas._libs.tslib.array_to_datetime\u001b[0;34m()\u001b[0m\n",
      "\u001b[0;32mpandas/_libs/tslib.pyx\u001b[0m in \u001b[0;36mpandas._libs.tslib.array_to_datetime_object\u001b[0;34m()\u001b[0m\n",
      "\u001b[0;32mpandas/_libs/tslib.pyx\u001b[0m in \u001b[0;36mpandas._libs.tslib.array_to_datetime_object\u001b[0;34m()\u001b[0m\n",
      "\u001b[0;32mpandas/_libs/tslibs/parsing.pyx\u001b[0m in \u001b[0;36mpandas._libs.tslibs.parsing.parse_datetime_string\u001b[0;34m()\u001b[0m\n",
      "\u001b[0;32m/Library/Frameworks/Python.framework/Versions/3.7/lib/python3.7/site-packages/dateutil/parser/_parser.py\u001b[0m in \u001b[0;36mparse\u001b[0;34m(timestr, parserinfo, **kwargs)\u001b[0m\n\u001b[1;32m   1366\u001b[0m         \u001b[0;32mreturn\u001b[0m \u001b[0mparser\u001b[0m\u001b[0;34m(\u001b[0m\u001b[0mparserinfo\u001b[0m\u001b[0;34m)\u001b[0m\u001b[0;34m.\u001b[0m\u001b[0mparse\u001b[0m\u001b[0;34m(\u001b[0m\u001b[0mtimestr\u001b[0m\u001b[0;34m,\u001b[0m \u001b[0;34m**\u001b[0m\u001b[0mkwargs\u001b[0m\u001b[0;34m)\u001b[0m\u001b[0;34m\u001b[0m\u001b[0m\n\u001b[1;32m   1367\u001b[0m     \u001b[0;32melse\u001b[0m\u001b[0;34m:\u001b[0m\u001b[0;34m\u001b[0m\u001b[0m\n\u001b[0;32m-> 1368\u001b[0;31m         \u001b[0;32mreturn\u001b[0m \u001b[0mDEFAULTPARSER\u001b[0m\u001b[0;34m.\u001b[0m\u001b[0mparse\u001b[0m\u001b[0;34m(\u001b[0m\u001b[0mtimestr\u001b[0m\u001b[0;34m,\u001b[0m \u001b[0;34m**\u001b[0m\u001b[0mkwargs\u001b[0m\u001b[0;34m)\u001b[0m\u001b[0;34m\u001b[0m\u001b[0m\n\u001b[0m\u001b[1;32m   1369\u001b[0m \u001b[0;34m\u001b[0m\u001b[0m\n\u001b[1;32m   1370\u001b[0m \u001b[0;34m\u001b[0m\u001b[0m\n",
      "\u001b[0;32m/Library/Frameworks/Python.framework/Versions/3.7/lib/python3.7/site-packages/dateutil/parser/_parser.py\u001b[0m in \u001b[0;36mparse\u001b[0;34m(self, timestr, default, ignoretz, tzinfos, **kwargs)\u001b[0m\n\u001b[1;32m    641\u001b[0m \u001b[0;34m\u001b[0m\u001b[0m\n\u001b[1;32m    642\u001b[0m         \u001b[0;32mif\u001b[0m \u001b[0mres\u001b[0m \u001b[0;32mis\u001b[0m \u001b[0;32mNone\u001b[0m\u001b[0;34m:\u001b[0m\u001b[0;34m\u001b[0m\u001b[0m\n\u001b[0;32m--> 643\u001b[0;31m             \u001b[0;32mraise\u001b[0m \u001b[0mParserError\u001b[0m\u001b[0;34m(\u001b[0m\u001b[0;34m\"Unknown string format: %s\"\u001b[0m\u001b[0;34m,\u001b[0m \u001b[0mtimestr\u001b[0m\u001b[0;34m)\u001b[0m\u001b[0;34m\u001b[0m\u001b[0m\n\u001b[0m\u001b[1;32m    644\u001b[0m \u001b[0;34m\u001b[0m\u001b[0m\n\u001b[1;32m    645\u001b[0m         \u001b[0;32mif\u001b[0m \u001b[0mlen\u001b[0m\u001b[0;34m(\u001b[0m\u001b[0mres\u001b[0m\u001b[0;34m)\u001b[0m \u001b[0;34m==\u001b[0m \u001b[0;36m0\u001b[0m\u001b[0;34m:\u001b[0m\u001b[0;34m\u001b[0m\u001b[0m\n",
      "\u001b[0;31mParserError\u001b[0m: Unknown string format: 2017-12-25T00:00:00+ 00 :00"
     ]
    }
   ],
   "source": [
    "pd.to_datetime(christmas_amzn)"
   ]
  },
  {
   "cell_type": "markdown",
   "metadata": {},
   "source": [
    "To parse a date with this format, we need to specify the `format`\n",
    "argument for `pd.to_datetime`."
   ]
  },
  {
   "cell_type": "code",
   "execution_count": 7,
   "metadata": {},
   "outputs": [
    {
     "data": {
      "text/plain": [
       "Timestamp('2017-12-25 00:00:00')"
      ]
     },
     "execution_count": 7,
     "metadata": {},
     "output_type": "execute_result"
    }
   ],
   "source": [
    "amzn_strftime = \"%Y-%m-%dT%H:%M:%S+ 00 :00\"\n",
    "pd.to_datetime(christmas_amzn, format=amzn_strftime)"
   ]
  },
  {
   "cell_type": "markdown",
   "metadata": {},
   "source": [
    "Can you guess what `amzn_strftime` represents?\n",
    "\n",
    "Let’s take a closer look at `amzn_strftime` and `christmas_amzn`."
   ]
  },
  {
   "cell_type": "code",
   "execution_count": 8,
   "metadata": {},
   "outputs": [
    {
     "name": "stdout",
     "output_type": "stream",
     "text": [
      "%Y-%m-%dT%H:%M:%S+ 00 :00\n",
      "2017-12-25T00:00:00+ 00 :00\n"
     ]
    }
   ],
   "source": [
    "print(amzn_strftime)\n",
    "print(christmas_amzn)"
   ]
  },
  {
   "cell_type": "markdown",
   "metadata": {},
   "source": [
    "Notice that both of the strings have a similar form, but that instead of actual numerical values, `amzn_strftime` has *placeholders*.\n",
    "Specifically, anywhere the `%` shows up is a signal to the `pd.to_datetime`\n",
    "function that it is where relevant information is stored.\n",
    "For example, the `%Y` is a stand-in for a four digit year, `%m` is\n",
    "for 2 a digit month, and so on…\n",
    "\n",
    "The official [Python\n",
    "documentation](https://docs.python.org/3/library/datetime.html#strftime-and-strptime-behavior) contains a complete list of possible `%`something patterns that are accepted\n",
    "in the `format` argument."
   ]
  },
  {
   "cell_type": "markdown",
   "metadata": {},
   "source": [
    "### Multiple Dates\n",
    "\n",
    "If we have dates in a Series (e.g. column of DataFrame) or a list, we\n",
    "can pass the entire collection to `pd.to_datetime` and get a\n",
    "collection of dates back.\n",
    "We’ll just show an example of that here as the mechanics are the same as\n",
    "a single date."
   ]
  },
  {
   "cell_type": "code",
   "execution_count": null,
   "metadata": {},
   "outputs": [],
   "source": [
    "pd.to_datetime([\"2017-12-25\", \"2017-12-31\"])"
   ]
  },
  {
   "cell_type": "markdown",
   "metadata": {},
   "source": [
    "## Date Formatting\n",
    "\n",
    "We can use the `%`pattern format to have pandas write `datetime`\n",
    "objects as specially formatted strings using the `strftime` (string\n",
    "format time) method.\n",
    "\n",
    "For example,"
   ]
  },
  {
   "cell_type": "code",
   "execution_count": null,
   "metadata": {},
   "outputs": [],
   "source": [
    "christmas.strftime(\"We love %A %B %d (also written %c)\")"
   ]
  },
  {
   "cell_type": "markdown",
   "metadata": {},
   "source": [
    "## Exercise\n",
    "\n",
    "See exercise 2 in the [exercise list](#pd-tim-ex)."
   ]
  },
  {
   "cell_type": "markdown",
   "metadata": {},
   "source": [
    "## Extracting Data\n",
    "\n",
    "When the index of a DataFrame has date information and pandas\n",
    "recognizes the values as `datetime` values, we can leverage some\n",
    "convenient indexing features for extracting data.\n",
    "\n",
    "The flexibility of these features is best understood through example,\n",
    "so let’s load up some data and take a look."
   ]
  },
  {
   "cell_type": "code",
   "execution_count": null,
   "metadata": {},
   "outputs": [],
   "source": [
    "btc_usd_long = ndl.get_table(\"QDL/BCHAIN\", date = { 'gte': '2009-12-25', 'lte': '2019-01-01' }, code = [\"MKPRU\", \"MKTCP\", \"ETRVU\"])\n",
    "btc_usd_long.info()\n",
    "btc_usd_long.head()"
   ]
  },
  {
   "cell_type": "markdown",
   "metadata": {},
   "source": [
    "Here, we have the Bitcoin (BTC) to US dollar (USD) exchange rate from\n",
    "2009 until today, as well as other variables relevant to the Bitcoin ecosystem, in long (“melted”) form."
   ]
  },
  {
   "cell_type": "code",
   "execution_count": null,
   "metadata": {},
   "outputs": [],
   "source": [
    "print(btc_usd_long.code.unique())\n",
    "btc_usd_long.dtypes"
   ]
  },
  {
   "cell_type": "markdown",
   "metadata": {},
   "source": [
    "Notice that the type of `date` is `datetime`. We would like this to be the index, and we want to drop the long form. We also selected only a couple of columns of interest, but the dataset has a lot more options. (The column descriptions can be found [here](https://data.nasdaq.com/databases/BCHAIN)). We chose Market Price (in USD) (`MKPRU`), Total Market Cap (`MKTCP`), and Estimated Transaction Volume in USD (`ETRVU`)."
   ]
  },
  {
   "cell_type": "code",
   "execution_count": null,
   "metadata": {},
   "outputs": [],
   "source": [
    "btc_usd = btc_usd_long.pivot_table(index='date', columns='code', values='value')\n",
    "btc_usd.head()"
   ]
  },
  {
   "cell_type": "markdown",
   "metadata": {},
   "source": [
    "Now that we have a datetime index, it enables things like…\n",
    "\n",
    "Extracting all data for the year 2015 by passing `\"2015\"` to `.loc`."
   ]
  },
  {
   "cell_type": "code",
   "execution_count": null,
   "metadata": {},
   "outputs": [],
   "source": [
    "btc_usd.loc[\"2015\"]"
   ]
  },
  {
   "cell_type": "markdown",
   "metadata": {},
   "source": [
    "We can also narrow down to specific months."
   ]
  },
  {
   "cell_type": "code",
   "execution_count": null,
   "metadata": {},
   "outputs": [],
   "source": [
    "# By month's name\n",
    "btc_usd.loc[\"August 2017\"]"
   ]
  },
  {
   "cell_type": "code",
   "execution_count": null,
   "metadata": {},
   "outputs": [],
   "source": [
    "# By month's number\n",
    "btc_usd.loc[\"08/2017\"]"
   ]
  },
  {
   "cell_type": "markdown",
   "metadata": {},
   "source": [
    "Or even a day…"
   ]
  },
  {
   "cell_type": "code",
   "execution_count": null,
   "metadata": {},
   "outputs": [],
   "source": [
    "# By date name\n",
    "btc_usd.loc[\"August 1, 2017\"]"
   ]
  },
  {
   "cell_type": "code",
   "execution_count": null,
   "metadata": {},
   "outputs": [],
   "source": [
    "# By date number\n",
    "btc_usd.loc[\"08-01-2017\"]"
   ]
  },
  {
   "cell_type": "markdown",
   "metadata": {},
   "source": [
    "What can we pass as the `.loc` argument when we have a\n",
    "`DateTimeIndex`?\n",
    "\n",
    "Anything that can be converted to a `datetime` using\n",
    "`pd.to_datetime`, *without* having to specify the format argument.\n",
    "\n",
    "When that condition holds, pandas will return *all* rows whose date in\n",
    "the index “belong” to that date or period.\n",
    "\n",
    "We can also use the range shorthand notation to give a start and end\n",
    "date for selection."
   ]
  },
  {
   "cell_type": "code",
   "execution_count": null,
   "metadata": {},
   "outputs": [],
   "source": [
    "btc_usd.loc[\"April 1, 2015\":\"April 10, 2015\"]"
   ]
  },
  {
   "cell_type": "markdown",
   "metadata": {},
   "source": [
    "## Exercise\n",
    "\n",
    "See exercise 3 in the [exercise list](#pd-tim-ex)."
   ]
  },
  {
   "cell_type": "markdown",
   "metadata": {},
   "source": [
    "## Accessing Date Properties\n",
    "\n",
    "Sometimes, we would like to directly access a part of the date/time.\n",
    "\n",
    "If our date/time information is in the index, we can to `df.index.XX`\n",
    "where `XX` is replaced by `year`, `month`, or whatever we would\n",
    "like to access."
   ]
  },
  {
   "cell_type": "code",
   "execution_count": null,
   "metadata": {},
   "outputs": [],
   "source": [
    "btc_usd.index.year"
   ]
  },
  {
   "cell_type": "code",
   "execution_count": null,
   "metadata": {},
   "outputs": [],
   "source": [
    "btc_usd.index.day"
   ]
  },
  {
   "cell_type": "markdown",
   "metadata": {},
   "source": [
    "We can also do the same if the date/time information is stored in a\n",
    "column, but we have to use a slightly different syntax."
   ]
  },
  {
   "cell_type": "code",
   "execution_count": null,
   "metadata": {},
   "outputs": [],
   "source": [
    "df[\"column_name\"].dt.XX"
   ]
  },
  {
   "cell_type": "code",
   "execution_count": null,
   "metadata": {},
   "outputs": [],
   "source": [
    "btc_date_column = btc_usd.reset_index()\n",
    "btc_date_column.head()"
   ]
  },
  {
   "cell_type": "code",
   "execution_count": null,
   "metadata": {},
   "outputs": [],
   "source": [
    "btc_date_column[\"date\"].dt.year.head()"
   ]
  },
  {
   "cell_type": "code",
   "execution_count": null,
   "metadata": {},
   "outputs": [],
   "source": [
    "btc_date_column[\"date\"].dt.month.head()"
   ]
  },
  {
   "cell_type": "markdown",
   "metadata": {},
   "source": [
    "## Leads and Lags: `df.shift`\n",
    "\n",
    "When doing time series analysis, we often want to compare data at one\n",
    "date against data at another date.\n",
    "\n",
    "pandas can help us with this if we leverage the `shift` method.\n",
    "\n",
    "Without any additional arguments, `shift()` will move all data\n",
    "*forward* one period, filling the first row with missing data."
   ]
  },
  {
   "cell_type": "code",
   "execution_count": null,
   "metadata": {},
   "outputs": [],
   "source": [
    "# so we can see the result of shift clearly\n",
    "btc_usd.head()"
   ]
  },
  {
   "cell_type": "code",
   "execution_count": null,
   "metadata": {},
   "outputs": [],
   "source": [
    "btc_usd.shift().head()"
   ]
  },
  {
   "cell_type": "markdown",
   "metadata": {},
   "source": [
    "We can use this to compute the percent change from one day to the next.\n",
    "(Quiz: Why does that work? Remember how pandas uses the index to *align*\n",
    "data.)"
   ]
  },
  {
   "cell_type": "code",
   "execution_count": null,
   "metadata": {},
   "outputs": [],
   "source": [
    "((btc_usd - btc_usd.shift()) / btc_usd.shift()).head()"
   ]
  },
  {
   "cell_type": "markdown",
   "metadata": {},
   "source": [
    "Setting the first argument to `n` tells pandas to shift the data down\n",
    "`n` rows (apply an `n` period lag)."
   ]
  },
  {
   "cell_type": "code",
   "execution_count": null,
   "metadata": {},
   "outputs": [],
   "source": [
    "btc_usd.shift(3).head()"
   ]
  },
  {
   "cell_type": "markdown",
   "metadata": {},
   "source": [
    "A negative value will shift the data *up* or apply a lead."
   ]
  },
  {
   "cell_type": "code",
   "execution_count": null,
   "metadata": {},
   "outputs": [],
   "source": [
    "btc_usd.shift(-2).head()"
   ]
  },
  {
   "cell_type": "code",
   "execution_count": null,
   "metadata": {},
   "outputs": [],
   "source": [
    "btc_usd.shift(-2).tail()"
   ]
  },
  {
   "cell_type": "markdown",
   "metadata": {},
   "source": [
    "## Exercise\n",
    "\n",
    "See exercise 4 in the [exercise list](#pd-tim-ex)."
   ]
  },
  {
   "cell_type": "markdown",
   "metadata": {},
   "source": [
    "## Rolling Computations: `.rolling`\n",
    "\n",
    "pandas has facilities that enable easy computation of *rolling\n",
    "statistics*.\n",
    "\n",
    "These are best understood by example, so we will dive right in."
   ]
  },
  {
   "cell_type": "code",
   "execution_count": null,
   "metadata": {},
   "outputs": [],
   "source": [
    "# first take only the first 6 rows so we can easily see what is going on\n",
    "btc_small = btc_usd.head(6)\n",
    "btc_small"
   ]
  },
  {
   "cell_type": "markdown",
   "metadata": {},
   "source": [
    "Below, we compute the 2 day moving average (for all columns)."
   ]
  },
  {
   "cell_type": "code",
   "execution_count": null,
   "metadata": {},
   "outputs": [],
   "source": [
    "btc_small.rolling(\"2d\").mean()"
   ]
  },
  {
   "cell_type": "markdown",
   "metadata": {},
   "source": [
    "To do this operation, pandas starts at each row (date) then looks\n",
    "*backwards* the specified number of periods (here 2 days) and then\n",
    "applies some aggregation function (`mean`) on all the data in that\n",
    "window.\n",
    "\n",
    "If pandas cannot look back the full length of the window (e.g. when\n",
    "working on the first row), it fills as much of the window as possible\n",
    "and then does the operation. Notice that the value at 2014-05-01 is\n",
    "the same in both DataFrames.\n",
    "\n",
    "Below, we see a visual depiction of the rolling maximum on a 21 day\n",
    "window for the whole dataset."
   ]
  },
  {
   "cell_type": "code",
   "execution_count": null,
   "metadata": {},
   "outputs": [],
   "source": [
    "fig, ax = plt.subplots(figsize=(10, 4))\n",
    "btc_usd[\"MKPRU\"].plot(ax=ax, linestyle=\"--\", alpha=0.8)\n",
    "btc_usd.rolling(\"21d\").max()[\"MKPRU\"].plot(ax=ax, alpha=0.8, linewidth=3)\n",
    "ax.legend([\"Original\", \"21 day max\"])"
   ]
  },
  {
   "cell_type": "markdown",
   "metadata": {},
   "source": [
    "We can also ask pandas to `apply` custom functions, similar to what we\n",
    "saw when studying GroupBy."
   ]
  },
  {
   "cell_type": "code",
   "execution_count": null,
   "metadata": {},
   "outputs": [],
   "source": [
    "def is_volatile(x):\n",
    "    \"Returns a 1 if the variance is greater than 1, otherwise returns 0\"\n",
    "    if x.var() > 1.0:\n",
    "        return 1.0\n",
    "    else:\n",
    "        return 0.0"
   ]
  },
  {
   "cell_type": "code",
   "execution_count": null,
   "metadata": {},
   "outputs": [],
   "source": [
    "btc_small.rolling(\"2d\").apply(is_volatile)"
   ]
  },
  {
   "cell_type": "markdown",
   "metadata": {},
   "source": [
    "## Exercise\n",
    "\n",
    "See exercise 5 in the [exercise list](#pd-tim-ex).\n",
    "\n",
    "To make the optimal decision, we need to know the maximum\n",
    "difference between the close price at the end of the window and the open\n",
    "price at the start of the window."
   ]
  },
  {
   "cell_type": "markdown",
   "metadata": {},
   "source": [
    "## Exercise\n",
    "\n",
    "See exercise 6 in the [exercise list](#pd-tim-ex)."
   ]
  },
  {
   "cell_type": "markdown",
   "metadata": {},
   "source": [
    "## Changing Frequencies: `.resample`\n",
    "\n",
    "In addition to computing rolling statistics, we can also change the\n",
    "frequency of the data.\n",
    "\n",
    "For example, instead of a monthly moving average, suppose that we wanted\n",
    "to compute the average *within* each calendar month.\n",
    "\n",
    "We will use the `resample` method to do this.\n",
    "\n",
    "Below are some examples."
   ]
  },
  {
   "cell_type": "code",
   "execution_count": null,
   "metadata": {},
   "outputs": [],
   "source": [
    "# business quarter\n",
    "btc_usd.resample(\"BQE\").mean()"
   ]
  },
  {
   "cell_type": "markdown",
   "metadata": {},
   "source": [
    "Note that unlike with `rolling`, a single number is returned for\n",
    "each column for each quarter.\n",
    "\n",
    "The `resample` method will alter the frequency of the data and the\n",
    "number of rows in the result will be different from the number of rows\n",
    "in the input.\n",
    "\n",
    "On the other hand, with `rolling`, the size and frequency of the result\n",
    "are the same as the input.\n",
    "\n",
    "We can sample at other frequencies and aggregate with multiple aggregations\n",
    "function at once."
   ]
  },
  {
   "cell_type": "code",
   "execution_count": null,
   "metadata": {},
   "outputs": [],
   "source": [
    "# multiple functions at 2 start-of-quarter frequency\n",
    "btc_usd.resample(\"2BQS\").agg([\"min\", \"max\"])"
   ]
  },
  {
   "cell_type": "markdown",
   "metadata": {},
   "source": [
    "As with `groupby` and `rolling`, you can also provide custom\n",
    "functions to `.resample(...).agg` and `.resample(...).apply`"
   ]
  },
  {
   "cell_type": "markdown",
   "metadata": {},
   "source": [
    "## Exercise\n",
    "\n",
    "See exercise 7 in the [exercise list](#pd-tim-ex).\n",
    "\n",
    "To make the optimal decision we need to, for each month,\n",
    "compute the maximum value of the close price on any day minus the open\n",
    "price on the first day of the month."
   ]
  },
  {
   "cell_type": "markdown",
   "metadata": {},
   "source": [
    "## Exercise\n",
    "\n",
    "See exercise 8 in the [exercise list](#pd-tim-ex)."
   ]
  },
  {
   "cell_type": "markdown",
   "metadata": {},
   "source": [
    "## Optional: API keys\n",
    "\n",
    "Recall above that we had the line of code:"
   ]
  },
  {
   "cell_type": "code",
   "execution_count": null,
   "metadata": {},
   "outputs": [],
   "source": [
    "ndl.ApiConfig.api_key = os.environ.get(\"NASDAQ_DATA_LINK_API_KEY\", \"jEKP58z7JaX6utPkkpEp\")"
   ]
  },
  {
   "cell_type": "markdown",
   "metadata": {},
   "source": [
    "This line told the `nasdaqdatalink` library that when obtaining making requests for data, it should use the *API key* `jEKP58z7JaX6utPkkpEp`.\n",
    "\n",
    "An API key is a sort of password that web services (like the Nasdaq Data Link API) require you to provide when you make requests.\n",
    "\n",
    "Using this password, we were able to make a request to Nasdaq data link to obtain data directly from them.\n",
    "\n",
    "The API key used here is one that we requested on behalf of this course. If you create your own API key, you should store it in the NASDAQ_DATA_LINK_API_KEY environment variable, locally on your computer. Using an environment variable like this is a common way to store sensitive information like API keys, since you can set the environment variable in a secure way that is not stored in your code. How to set environment variables varies by operating system, but you can find instructions for doing so on the web.\n",
    "\n",
    "If you plan to use Nasdaq data more extensively, you should obtain your own personal API key from [their website](https://www.nasdaq.com/nasdaq-data-link) and re-run the `os.environ...` line of code with your new API key on the right-hand side.\n",
    "\n",
    "\n",
    "<a id='pd-tim-ex'></a>"
   ]
  },
  {
   "cell_type": "markdown",
   "metadata": {},
   "source": [
    "## Exercises"
   ]
  }
 ],
 "metadata": {
  "kernelspec": {
   "display_name": "Python 3",
   "language": "python",
   "name": "python3"
  },
  "language_info": {
   "codemirror_mode": {
    "name": "ipython",
    "version": 3
   },
   "file_extension": ".py",
   "mimetype": "text/x-python",
   "name": "python",
   "nbconvert_exporter": "python",
   "pygments_lexer": "ipython3",
   "version": "3.7.0"
  }
 },
 "nbformat": 4,
 "nbformat_minor": 2
}
