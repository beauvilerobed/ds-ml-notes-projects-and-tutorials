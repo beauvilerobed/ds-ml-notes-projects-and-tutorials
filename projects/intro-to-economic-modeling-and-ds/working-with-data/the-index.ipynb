{
 "cells": [
  {
   "cell_type": "markdown",
   "metadata": {},
   "source": [
    "# THE INDEX\n",
    "\n",
    "**Outcomes**\n",
    "- Understand how the index is used to align data\n",
    "- Know how to set and reset the index\n",
    "- Understand how to select subsets of data by slicing on index and columns\n",
    "- Understand that for DataFrames, the column names also align data"
   ]
  },
  {
   "cell_type": "code",
   "execution_count": 1,
   "metadata": {},
   "outputs": [],
   "source": [
    "import pandas as pd\n",
    "import numpy as np"
   ]
  },
  {
   "cell_type": "markdown",
   "metadata": {},
   "source": [
    "# So What is this Index?\n",
    "Every Series or DataFrame has an index. We told you that the index was the “row labels” for the data. This is true, but an index in pandas does much more than label the rows.\n",
    "\n",
    "The purpose of this notebook is to understand the importance of the index.\n",
    "\n",
    "The pandas documentation says\n",
    "\n",
    "> Data alignment is intrinsic. The link between labels and data will not be broken unless done so explicitly by you.\n",
    "\n",
    "In practice, the index and column names are used to make sure the data is properly aligned when operating on multiple DataFrames.\n",
    "\n",
    "This is a somewhat abstract concept that is best understood by example…\n",
    "\n",
    "Let’s begin by loading some data on GDP components that we collected from the World Bank’s World Development Indicators Dataset."
   ]
  },
  {
   "cell_type": "code",
   "execution_count": 2,
   "metadata": {},
   "outputs": [
    {
     "name": "stdout",
     "output_type": "stream",
     "text": [
      "<class 'pandas.core.frame.DataFrame'>\n",
      "RangeIndex: 72 entries, 0 to 71\n",
      "Data columns (total 7 columns):\n",
      " #   Column       Non-Null Count  Dtype  \n",
      "---  ------       --------------  -----  \n",
      " 0   country      72 non-null     object \n",
      " 1   year         72 non-null     int64  \n",
      " 2   GovExpend    72 non-null     float64\n",
      " 3   Consumption  72 non-null     float64\n",
      " 4   Exports      72 non-null     float64\n",
      " 5   Imports      72 non-null     float64\n",
      " 6   GDP          72 non-null     float64\n",
      "dtypes: float64(5), int64(1), object(1)\n",
      "memory usage: 4.1+ KB\n"
     ]
    },
    {
     "data": {
      "text/html": [
       "<div>\n",
       "<style scoped>\n",
       "    .dataframe tbody tr th:only-of-type {\n",
       "        vertical-align: middle;\n",
       "    }\n",
       "\n",
       "    .dataframe tbody tr th {\n",
       "        vertical-align: top;\n",
       "    }\n",
       "\n",
       "    .dataframe thead th {\n",
       "        text-align: right;\n",
       "    }\n",
       "</style>\n",
       "<table border=\"1\" class=\"dataframe\">\n",
       "  <thead>\n",
       "    <tr style=\"text-align: right;\">\n",
       "      <th></th>\n",
       "      <th>country</th>\n",
       "      <th>year</th>\n",
       "      <th>GovExpend</th>\n",
       "      <th>Consumption</th>\n",
       "      <th>Exports</th>\n",
       "      <th>Imports</th>\n",
       "      <th>GDP</th>\n",
       "    </tr>\n",
       "  </thead>\n",
       "  <tbody>\n",
       "    <tr>\n",
       "      <th>0</th>\n",
       "      <td>Canada</td>\n",
       "      <td>2017</td>\n",
       "      <td>0.372665</td>\n",
       "      <td>1.095475</td>\n",
       "      <td>0.582831</td>\n",
       "      <td>0.600031</td>\n",
       "      <td>1.868164</td>\n",
       "    </tr>\n",
       "    <tr>\n",
       "      <th>1</th>\n",
       "      <td>Canada</td>\n",
       "      <td>2016</td>\n",
       "      <td>0.364899</td>\n",
       "      <td>1.058426</td>\n",
       "      <td>0.576394</td>\n",
       "      <td>0.575775</td>\n",
       "      <td>1.814016</td>\n",
       "    </tr>\n",
       "    <tr>\n",
       "      <th>2</th>\n",
       "      <td>Canada</td>\n",
       "      <td>2015</td>\n",
       "      <td>0.358303</td>\n",
       "      <td>1.035208</td>\n",
       "      <td>0.568859</td>\n",
       "      <td>0.575793</td>\n",
       "      <td>1.794270</td>\n",
       "    </tr>\n",
       "    <tr>\n",
       "      <th>3</th>\n",
       "      <td>Canada</td>\n",
       "      <td>2014</td>\n",
       "      <td>0.353485</td>\n",
       "      <td>1.011988</td>\n",
       "      <td>0.550323</td>\n",
       "      <td>0.572344</td>\n",
       "      <td>1.782252</td>\n",
       "    </tr>\n",
       "    <tr>\n",
       "      <th>4</th>\n",
       "      <td>Canada</td>\n",
       "      <td>2013</td>\n",
       "      <td>0.351541</td>\n",
       "      <td>0.986400</td>\n",
       "      <td>0.518040</td>\n",
       "      <td>0.558636</td>\n",
       "      <td>1.732714</td>\n",
       "    </tr>\n",
       "  </tbody>\n",
       "</table>\n",
       "</div>"
      ],
      "text/plain": [
       "  country  year  GovExpend  Consumption   Exports   Imports       GDP\n",
       "0  Canada  2017   0.372665     1.095475  0.582831  0.600031  1.868164\n",
       "1  Canada  2016   0.364899     1.058426  0.576394  0.575775  1.814016\n",
       "2  Canada  2015   0.358303     1.035208  0.568859  0.575793  1.794270\n",
       "3  Canada  2014   0.353485     1.011988  0.550323  0.572344  1.782252\n",
       "4  Canada  2013   0.351541     0.986400  0.518040  0.558636  1.732714"
      ]
     },
     "execution_count": 2,
     "metadata": {},
     "output_type": "execute_result"
    }
   ],
   "source": [
    "url = \"https://datascience.quantecon.org/assets/data/wdi_data.csv\"\n",
    "df = pd.read_csv(url)\n",
    "df.info()\n",
    "\n",
    "df.head()"
   ]
  },
  {
   "cell_type": "markdown",
   "metadata": {},
   "source": [
    "We’ll also extract a couple smaller DataFrames we can use in examples."
   ]
  },
  {
   "cell_type": "code",
   "execution_count": 3,
   "metadata": {},
   "outputs": [
    {
     "data": {
      "text/html": [
       "<div>\n",
       "<style scoped>\n",
       "    .dataframe tbody tr th:only-of-type {\n",
       "        vertical-align: middle;\n",
       "    }\n",
       "\n",
       "    .dataframe tbody tr th {\n",
       "        vertical-align: top;\n",
       "    }\n",
       "\n",
       "    .dataframe thead th {\n",
       "        text-align: right;\n",
       "    }\n",
       "</style>\n",
       "<table border=\"1\" class=\"dataframe\">\n",
       "  <thead>\n",
       "    <tr style=\"text-align: right;\">\n",
       "      <th></th>\n",
       "      <th>country</th>\n",
       "      <th>year</th>\n",
       "      <th>GovExpend</th>\n",
       "      <th>Consumption</th>\n",
       "      <th>Exports</th>\n",
       "      <th>Imports</th>\n",
       "      <th>GDP</th>\n",
       "    </tr>\n",
       "  </thead>\n",
       "  <tbody>\n",
       "    <tr>\n",
       "      <th>0</th>\n",
       "      <td>Canada</td>\n",
       "      <td>2017</td>\n",
       "      <td>0.372665</td>\n",
       "      <td>1.095475</td>\n",
       "      <td>0.582831</td>\n",
       "      <td>0.600031</td>\n",
       "      <td>1.868164</td>\n",
       "    </tr>\n",
       "    <tr>\n",
       "      <th>1</th>\n",
       "      <td>Canada</td>\n",
       "      <td>2016</td>\n",
       "      <td>0.364899</td>\n",
       "      <td>1.058426</td>\n",
       "      <td>0.576394</td>\n",
       "      <td>0.575775</td>\n",
       "      <td>1.814016</td>\n",
       "    </tr>\n",
       "    <tr>\n",
       "      <th>2</th>\n",
       "      <td>Canada</td>\n",
       "      <td>2015</td>\n",
       "      <td>0.358303</td>\n",
       "      <td>1.035208</td>\n",
       "      <td>0.568859</td>\n",
       "      <td>0.575793</td>\n",
       "      <td>1.794270</td>\n",
       "    </tr>\n",
       "    <tr>\n",
       "      <th>3</th>\n",
       "      <td>Canada</td>\n",
       "      <td>2014</td>\n",
       "      <td>0.353485</td>\n",
       "      <td>1.011988</td>\n",
       "      <td>0.550323</td>\n",
       "      <td>0.572344</td>\n",
       "      <td>1.782252</td>\n",
       "    </tr>\n",
       "    <tr>\n",
       "      <th>4</th>\n",
       "      <td>Canada</td>\n",
       "      <td>2013</td>\n",
       "      <td>0.351541</td>\n",
       "      <td>0.986400</td>\n",
       "      <td>0.518040</td>\n",
       "      <td>0.558636</td>\n",
       "      <td>1.732714</td>\n",
       "    </tr>\n",
       "  </tbody>\n",
       "</table>\n",
       "</div>"
      ],
      "text/plain": [
       "  country  year  GovExpend  Consumption   Exports   Imports       GDP\n",
       "0  Canada  2017   0.372665     1.095475  0.582831  0.600031  1.868164\n",
       "1  Canada  2016   0.364899     1.058426  0.576394  0.575775  1.814016\n",
       "2  Canada  2015   0.358303     1.035208  0.568859  0.575793  1.794270\n",
       "3  Canada  2014   0.353485     1.011988  0.550323  0.572344  1.782252\n",
       "4  Canada  2013   0.351541     0.986400  0.518040  0.558636  1.732714"
      ]
     },
     "execution_count": 3,
     "metadata": {},
     "output_type": "execute_result"
    }
   ],
   "source": [
    "df_small = df.head(5)\n",
    "df_small"
   ]
  },
  {
   "cell_type": "code",
   "execution_count": 4,
   "metadata": {},
   "outputs": [
    {
     "data": {
      "text/html": [
       "<div>\n",
       "<style scoped>\n",
       "    .dataframe tbody tr th:only-of-type {\n",
       "        vertical-align: middle;\n",
       "    }\n",
       "\n",
       "    .dataframe tbody tr th {\n",
       "        vertical-align: top;\n",
       "    }\n",
       "\n",
       "    .dataframe thead th {\n",
       "        text-align: right;\n",
       "    }\n",
       "</style>\n",
       "<table border=\"1\" class=\"dataframe\">\n",
       "  <thead>\n",
       "    <tr style=\"text-align: right;\">\n",
       "      <th></th>\n",
       "      <th>country</th>\n",
       "      <th>year</th>\n",
       "      <th>GovExpend</th>\n",
       "      <th>Consumption</th>\n",
       "      <th>Exports</th>\n",
       "      <th>Imports</th>\n",
       "      <th>GDP</th>\n",
       "    </tr>\n",
       "  </thead>\n",
       "  <tbody>\n",
       "    <tr>\n",
       "      <th>0</th>\n",
       "      <td>Canada</td>\n",
       "      <td>2017</td>\n",
       "      <td>0.372665</td>\n",
       "      <td>1.095475</td>\n",
       "      <td>0.582831</td>\n",
       "      <td>0.600031</td>\n",
       "      <td>1.868164</td>\n",
       "    </tr>\n",
       "    <tr>\n",
       "      <th>3</th>\n",
       "      <td>Canada</td>\n",
       "      <td>2014</td>\n",
       "      <td>0.353485</td>\n",
       "      <td>1.011988</td>\n",
       "      <td>0.550323</td>\n",
       "      <td>0.572344</td>\n",
       "      <td>1.782252</td>\n",
       "    </tr>\n",
       "    <tr>\n",
       "      <th>2</th>\n",
       "      <td>Canada</td>\n",
       "      <td>2015</td>\n",
       "      <td>0.358303</td>\n",
       "      <td>1.035208</td>\n",
       "      <td>0.568859</td>\n",
       "      <td>0.575793</td>\n",
       "      <td>1.794270</td>\n",
       "    </tr>\n",
       "    <tr>\n",
       "      <th>4</th>\n",
       "      <td>Canada</td>\n",
       "      <td>2013</td>\n",
       "      <td>0.351541</td>\n",
       "      <td>0.986400</td>\n",
       "      <td>0.518040</td>\n",
       "      <td>0.558636</td>\n",
       "      <td>1.732714</td>\n",
       "    </tr>\n",
       "  </tbody>\n",
       "</table>\n",
       "</div>"
      ],
      "text/plain": [
       "  country  year  GovExpend  Consumption   Exports   Imports       GDP\n",
       "0  Canada  2017   0.372665     1.095475  0.582831  0.600031  1.868164\n",
       "3  Canada  2014   0.353485     1.011988  0.550323  0.572344  1.782252\n",
       "2  Canada  2015   0.358303     1.035208  0.568859  0.575793  1.794270\n",
       "4  Canada  2013   0.351541     0.986400  0.518040  0.558636  1.732714"
      ]
     },
     "execution_count": 4,
     "metadata": {},
     "output_type": "execute_result"
    }
   ],
   "source": [
    "df_tiny = df.iloc[[0, 3, 2, 4], :]\n",
    "df_tiny"
   ]
  },
  {
   "cell_type": "code",
   "execution_count": 5,
   "metadata": {},
   "outputs": [
    {
     "data": {
      "text/html": [
       "<div>\n",
       "<style scoped>\n",
       "    .dataframe tbody tr th:only-of-type {\n",
       "        vertical-align: middle;\n",
       "    }\n",
       "\n",
       "    .dataframe tbody tr th {\n",
       "        vertical-align: top;\n",
       "    }\n",
       "\n",
       "    .dataframe thead th {\n",
       "        text-align: right;\n",
       "    }\n",
       "</style>\n",
       "<table border=\"1\" class=\"dataframe\">\n",
       "  <thead>\n",
       "    <tr style=\"text-align: right;\">\n",
       "      <th></th>\n",
       "      <th>Imports</th>\n",
       "      <th>Exports</th>\n",
       "    </tr>\n",
       "  </thead>\n",
       "  <tbody>\n",
       "    <tr>\n",
       "      <th>0</th>\n",
       "      <td>0.600031</td>\n",
       "      <td>0.582831</td>\n",
       "    </tr>\n",
       "    <tr>\n",
       "      <th>1</th>\n",
       "      <td>0.575775</td>\n",
       "      <td>0.576394</td>\n",
       "    </tr>\n",
       "    <tr>\n",
       "      <th>2</th>\n",
       "      <td>0.575793</td>\n",
       "      <td>0.568859</td>\n",
       "    </tr>\n",
       "    <tr>\n",
       "      <th>3</th>\n",
       "      <td>0.572344</td>\n",
       "      <td>0.550323</td>\n",
       "    </tr>\n",
       "    <tr>\n",
       "      <th>4</th>\n",
       "      <td>0.558636</td>\n",
       "      <td>0.518040</td>\n",
       "    </tr>\n",
       "  </tbody>\n",
       "</table>\n",
       "</div>"
      ],
      "text/plain": [
       "    Imports   Exports\n",
       "0  0.600031  0.582831\n",
       "1  0.575775  0.576394\n",
       "2  0.575793  0.568859\n",
       "3  0.572344  0.550323\n",
       "4  0.558636  0.518040"
      ]
     },
     "execution_count": 5,
     "metadata": {},
     "output_type": "execute_result"
    }
   ],
   "source": [
    "im_ex = df_small[[\"Imports\", \"Exports\"]]\n",
    "im_ex_copy = im_ex.copy()\n",
    "im_ex_copy"
   ]
  },
  {
   "cell_type": "markdown",
   "metadata": {},
   "source": [
    "Observe what happens when we evaluate `im_ex + im_ex_copy`."
   ]
  },
  {
   "cell_type": "code",
   "execution_count": 6,
   "metadata": {},
   "outputs": [
    {
     "data": {
      "text/html": [
       "<div>\n",
       "<style scoped>\n",
       "    .dataframe tbody tr th:only-of-type {\n",
       "        vertical-align: middle;\n",
       "    }\n",
       "\n",
       "    .dataframe tbody tr th {\n",
       "        vertical-align: top;\n",
       "    }\n",
       "\n",
       "    .dataframe thead th {\n",
       "        text-align: right;\n",
       "    }\n",
       "</style>\n",
       "<table border=\"1\" class=\"dataframe\">\n",
       "  <thead>\n",
       "    <tr style=\"text-align: right;\">\n",
       "      <th></th>\n",
       "      <th>Imports</th>\n",
       "      <th>Exports</th>\n",
       "    </tr>\n",
       "  </thead>\n",
       "  <tbody>\n",
       "    <tr>\n",
       "      <th>0</th>\n",
       "      <td>1.200063</td>\n",
       "      <td>1.165661</td>\n",
       "    </tr>\n",
       "    <tr>\n",
       "      <th>1</th>\n",
       "      <td>1.151550</td>\n",
       "      <td>1.152787</td>\n",
       "    </tr>\n",
       "    <tr>\n",
       "      <th>2</th>\n",
       "      <td>1.151585</td>\n",
       "      <td>1.137718</td>\n",
       "    </tr>\n",
       "    <tr>\n",
       "      <th>3</th>\n",
       "      <td>1.144688</td>\n",
       "      <td>1.100646</td>\n",
       "    </tr>\n",
       "    <tr>\n",
       "      <th>4</th>\n",
       "      <td>1.117272</td>\n",
       "      <td>1.036081</td>\n",
       "    </tr>\n",
       "  </tbody>\n",
       "</table>\n",
       "</div>"
      ],
      "text/plain": [
       "    Imports   Exports\n",
       "0  1.200063  1.165661\n",
       "1  1.151550  1.152787\n",
       "2  1.151585  1.137718\n",
       "3  1.144688  1.100646\n",
       "4  1.117272  1.036081"
      ]
     },
     "execution_count": 6,
     "metadata": {},
     "output_type": "execute_result"
    }
   ],
   "source": [
    "im_ex + im_ex_copy"
   ]
  },
  {
   "cell_type": "markdown",
   "metadata": {},
   "source": [
    "Notice that this operated elementwise, meaning that the `+` operation was applied to each element of `im_ex` and the corresponding element of `im_ex_copy`.\n",
    "\n",
    "Let’s take a closer look at     :"
   ]
  },
  {
   "cell_type": "code",
   "execution_count": 7,
   "metadata": {},
   "outputs": [
    {
     "data": {
      "text/html": [
       "<div>\n",
       "<style scoped>\n",
       "    .dataframe tbody tr th:only-of-type {\n",
       "        vertical-align: middle;\n",
       "    }\n",
       "\n",
       "    .dataframe tbody tr th {\n",
       "        vertical-align: top;\n",
       "    }\n",
       "\n",
       "    .dataframe thead th {\n",
       "        text-align: right;\n",
       "    }\n",
       "</style>\n",
       "<table border=\"1\" class=\"dataframe\">\n",
       "  <thead>\n",
       "    <tr style=\"text-align: right;\">\n",
       "      <th></th>\n",
       "      <th>country</th>\n",
       "      <th>year</th>\n",
       "      <th>GovExpend</th>\n",
       "      <th>Consumption</th>\n",
       "      <th>Exports</th>\n",
       "      <th>Imports</th>\n",
       "      <th>GDP</th>\n",
       "    </tr>\n",
       "  </thead>\n",
       "  <tbody>\n",
       "    <tr>\n",
       "      <th>0</th>\n",
       "      <td>Canada</td>\n",
       "      <td>2017</td>\n",
       "      <td>0.372665</td>\n",
       "      <td>1.095475</td>\n",
       "      <td>0.582831</td>\n",
       "      <td>0.600031</td>\n",
       "      <td>1.868164</td>\n",
       "    </tr>\n",
       "    <tr>\n",
       "      <th>3</th>\n",
       "      <td>Canada</td>\n",
       "      <td>2014</td>\n",
       "      <td>0.353485</td>\n",
       "      <td>1.011988</td>\n",
       "      <td>0.550323</td>\n",
       "      <td>0.572344</td>\n",
       "      <td>1.782252</td>\n",
       "    </tr>\n",
       "    <tr>\n",
       "      <th>2</th>\n",
       "      <td>Canada</td>\n",
       "      <td>2015</td>\n",
       "      <td>0.358303</td>\n",
       "      <td>1.035208</td>\n",
       "      <td>0.568859</td>\n",
       "      <td>0.575793</td>\n",
       "      <td>1.794270</td>\n",
       "    </tr>\n",
       "    <tr>\n",
       "      <th>4</th>\n",
       "      <td>Canada</td>\n",
       "      <td>2013</td>\n",
       "      <td>0.351541</td>\n",
       "      <td>0.986400</td>\n",
       "      <td>0.518040</td>\n",
       "      <td>0.558636</td>\n",
       "      <td>1.732714</td>\n",
       "    </tr>\n",
       "  </tbody>\n",
       "</table>\n",
       "</div>"
      ],
      "text/plain": [
       "  country  year  GovExpend  Consumption   Exports   Imports       GDP\n",
       "0  Canada  2017   0.372665     1.095475  0.582831  0.600031  1.868164\n",
       "3  Canada  2014   0.353485     1.011988  0.550323  0.572344  1.782252\n",
       "2  Canada  2015   0.358303     1.035208  0.568859  0.575793  1.794270\n",
       "4  Canada  2013   0.351541     0.986400  0.518040  0.558636  1.732714"
      ]
     },
     "execution_count": 7,
     "metadata": {},
     "output_type": "execute_result"
    }
   ],
   "source": [
    "df_tiny"
   ]
  },
  {
   "cell_type": "markdown",
   "metadata": {},
   "source": [
    "Relative to `im_ex` notice a few things:\n",
    "- The row labeled `1` appears in `im_ex` but not `df_tiny`.\n",
    "- For row labels that appear in both, they are not in the same position within each DataFrame.\n",
    "- Certain columns appear only in `df_tiny`.\n",
    "- The `Imports` and `Exports` columns are the 6th and 5th columns of `df_tiny` and the 1st and 2nd of `im_ex`, respectively.\n",
    "\n",
    "Now, let’s see what happens when we try `df_tiny + im_ex`."
   ]
  },
  {
   "cell_type": "code",
   "execution_count": 8,
   "metadata": {},
   "outputs": [
    {
     "data": {
      "text/html": [
       "<div>\n",
       "<style scoped>\n",
       "    .dataframe tbody tr th:only-of-type {\n",
       "        vertical-align: middle;\n",
       "    }\n",
       "\n",
       "    .dataframe tbody tr th {\n",
       "        vertical-align: top;\n",
       "    }\n",
       "\n",
       "    .dataframe thead th {\n",
       "        text-align: right;\n",
       "    }\n",
       "</style>\n",
       "<table border=\"1\" class=\"dataframe\">\n",
       "  <thead>\n",
       "    <tr style=\"text-align: right;\">\n",
       "      <th></th>\n",
       "      <th>Consumption</th>\n",
       "      <th>Exports</th>\n",
       "      <th>GDP</th>\n",
       "      <th>GovExpend</th>\n",
       "      <th>Imports</th>\n",
       "      <th>country</th>\n",
       "      <th>year</th>\n",
       "    </tr>\n",
       "  </thead>\n",
       "  <tbody>\n",
       "    <tr>\n",
       "      <th>0</th>\n",
       "      <td>NaN</td>\n",
       "      <td>1.165661</td>\n",
       "      <td>NaN</td>\n",
       "      <td>NaN</td>\n",
       "      <td>1.200063</td>\n",
       "      <td>NaN</td>\n",
       "      <td>NaN</td>\n",
       "    </tr>\n",
       "    <tr>\n",
       "      <th>1</th>\n",
       "      <td>NaN</td>\n",
       "      <td>NaN</td>\n",
       "      <td>NaN</td>\n",
       "      <td>NaN</td>\n",
       "      <td>NaN</td>\n",
       "      <td>NaN</td>\n",
       "      <td>NaN</td>\n",
       "    </tr>\n",
       "    <tr>\n",
       "      <th>2</th>\n",
       "      <td>NaN</td>\n",
       "      <td>1.137718</td>\n",
       "      <td>NaN</td>\n",
       "      <td>NaN</td>\n",
       "      <td>1.151585</td>\n",
       "      <td>NaN</td>\n",
       "      <td>NaN</td>\n",
       "    </tr>\n",
       "    <tr>\n",
       "      <th>3</th>\n",
       "      <td>NaN</td>\n",
       "      <td>1.100646</td>\n",
       "      <td>NaN</td>\n",
       "      <td>NaN</td>\n",
       "      <td>1.144688</td>\n",
       "      <td>NaN</td>\n",
       "      <td>NaN</td>\n",
       "    </tr>\n",
       "    <tr>\n",
       "      <th>4</th>\n",
       "      <td>NaN</td>\n",
       "      <td>1.036081</td>\n",
       "      <td>NaN</td>\n",
       "      <td>NaN</td>\n",
       "      <td>1.117272</td>\n",
       "      <td>NaN</td>\n",
       "      <td>NaN</td>\n",
       "    </tr>\n",
       "  </tbody>\n",
       "</table>\n",
       "</div>"
      ],
      "text/plain": [
       "   Consumption   Exports  GDP  GovExpend   Imports  country  year\n",
       "0          NaN  1.165661  NaN        NaN  1.200063      NaN   NaN\n",
       "1          NaN       NaN  NaN        NaN       NaN      NaN   NaN\n",
       "2          NaN  1.137718  NaN        NaN  1.151585      NaN   NaN\n",
       "3          NaN  1.100646  NaN        NaN  1.144688      NaN   NaN\n",
       "4          NaN  1.036081  NaN        NaN  1.117272      NaN   NaN"
      ]
     },
     "execution_count": 8,
     "metadata": {},
     "output_type": "execute_result"
    }
   ],
   "source": [
    "im_ex_tiny = df_tiny + im_ex\n",
    "im_ex_tiny"
   ]
  },
  {
   "cell_type": "markdown",
   "metadata": {},
   "source": [
    "Whoa, a lot happened! Let’s break it down.\n",
    "\n",
    "## Automatic Alignment\n",
    "For all (row, column) combinations that appear in both DataFrames (e.g. rows `[1, 3]` and columns `[Imports, Exports]`), the value of `im_ex_tiny` is equal to `df_tiny.loc[row, col] + im_ex.loc[row, col]`. This happened even though the rows and columns were not in the same order. We refer to this as pandas *aligning* the data for us.\n",
    "\n",
    "To see how awesome this is, think about how to do something similar in Excel:\n",
    "- `df_tiny` and `im_ex` would be in different sheets.\n",
    "- The index and column names would be the first column and row in each sheet.\n",
    "- We would have a third sheet to hold the sum.\n",
    "- For each label in the first row and column of *either* the `df_tiny` sheet or the `im_ex` sheet we would have to do a `IFELSE` to check if the label exists in the other sheet and then a `VLOOKUP` to extract the value.\n",
    "\n",
    "In pandas, this happens automatically, behind the scenes, and very *quickly*.\n",
    "\n",
    "### Handling Missing Data\n",
    "For all elements in row 1 or columns `[\"country\", \"year\", \"GovExpend\", \"Consumption\", \"GDP\"]`, the value in `im_ex_tiny` is `NaN`. This is how pandas represents *missing* data. So, when pandas was trying to look up the values in `df_tiny` and `im_ex`, it could only find a value in one DataFrame: the other value was missing. When pandas tries to add a number to something that is missing, it says that the result is missing (spelled `NaN`).\n",
    "\n",
    "## Setting the Index\n",
    "For a DataFrame `df`, the `df.set_index` method allows us to use one (or more) of the DataFrame’s columns as the index.\n",
    "\n",
    "Here’s an example."
   ]
  },
  {
   "cell_type": "code",
   "execution_count": null,
   "metadata": {},
   "outputs": [],
   "source": [
    "# first, create the DataFrame\n",
    "df_year = df.set_index([\"year\"])\n",
    "df_year.head()"
   ]
  },
  {
   "cell_type": "markdown",
   "metadata": {},
   "source": [
    "Now that the year is on the index, we can use `.loc` to extract all the data for a specific year."
   ]
  },
  {
   "cell_type": "code",
   "execution_count": null,
   "metadata": {},
   "outputs": [],
   "source": [
    "df_year.loc[2010]"
   ]
  },
  {
   "cell_type": "markdown",
   "metadata": {},
   "source": [
    "This would be helpful, for example, if we wanted to compute the difference in the average of all our variables from one year to the next."
   ]
  },
  {
   "cell_type": "code",
   "execution_count": null,
   "metadata": {},
   "outputs": [],
   "source": [
    "df_year.loc[2009].mean(numeric_only=True) - df_year.loc[2008].mean(numeric_only=True)"
   ]
  },
  {
   "cell_type": "markdown",
   "metadata": {},
   "source": [
    "Notice that pandas did a few things for us.\n",
    "- After computing `.mean()`, the row labels (index) were the former column names.\n",
    "- These column names were used to align data when we wanted asked pandas to compute the difference.\n",
    "\n",
    "Suppose that someone asked you, “What was the GDP in the US in 2010?”\n",
    "\n",
    "To compute that using `df_year` you might do something like this:"
   ]
  },
  {
   "cell_type": "code",
   "execution_count": null,
   "metadata": {},
   "outputs": [],
   "source": [
    "df_year.loc[df_year[\"country\"] == \"United States\", \"GDP\"].loc[2010]"
   ]
  },
  {
   "cell_type": "markdown",
   "metadata": {},
   "source": [
    "That was a lot of work!\n",
    "\n",
    "Now, suppose that after seeing you extract that data, your friend asks you “What about GDP in Germany and the UK in 2010?”\n",
    "\n",
    "To answer that question, you might write."
   ]
  },
  {
   "cell_type": "code",
   "execution_count": null,
   "metadata": {},
   "outputs": [],
   "source": [
    "df_year.loc[df_year[\"country\"].isin([\"United Kingdom\", \"Germany\"]), \"GDP\"].loc[2010]"
   ]
  },
  {
   "cell_type": "markdown",
   "metadata": {},
   "source": [
    "Notice that this code is similar to the code above, but now provides a result that is ambiguous.\n",
    "\n",
    "The two elements in the series both have with label 2010.\n",
    "\n",
    "How do we know which is which?\n",
    "\n",
    "We might think that the first value corresponds to the United Kingdom because that is what we listed first in the call to `isin`, but we would be wrong!\n",
    "\n",
    "Let’s check."
   ]
  },
  {
   "cell_type": "code",
   "execution_count": null,
   "metadata": {},
   "outputs": [],
   "source": [
    "df_year.loc[2010]"
   ]
  },
  {
   "cell_type": "markdown",
   "metadata": {},
   "source": [
    "Setting just the year as index has one more potential issue: we will get data alignment only on the year, which may not be sufficient.\n",
    "\n",
    "To demonstrate this point, suppose now you are asked to use our WDI dataset to compute an approximation for net exports and investment in 2009.\n",
    "\n",
    "As a seasoned economist, you would remember the expenditure formula for GDP is written\n",
    "\n",
    "$$\n",
    "GDP = Consumption + Investment + GovExpend + Net Exports\n",
    "$$\n",
    "\n",
    "which we can rearrange to compute investment as a function of the variables in our DataFrame…\n",
    "\n",
    "$$\n",
    "Investment = GDP - Consumption - GovExpend - Net Exports\n",
    "$$\n",
    "\n",
    "Note that we can compute NetExports as `Exports - Imports`."
   ]
  },
  {
   "cell_type": "code",
   "execution_count": null,
   "metadata": {},
   "outputs": [],
   "source": [
    "nx = df_year[\"Exports\"] - df_year[\"Imports\"]\n",
    "nx.head(19)"
   ]
  },
  {
   "cell_type": "markdown",
   "metadata": {},
   "source": [
    "Now, suppose that we accidentally had a bug in our code that swapped the data for Canada and Germany’s net exports in 2017.\n",
    "\n",
    ">Note\n",
    ">\n",
    "> This example is contrived, but if you were getting unclean data from some resource or doing more complicated operations, this type  of mistake becomes increasingly likely."
   ]
  },
  {
   "cell_type": "code",
   "execution_count": null,
   "metadata": {},
   "outputs": [],
   "source": [
    "ca17 = nx.iloc[[0]]\n",
    "g17 = nx.iloc[[18]]\n",
    "nx.iloc[[0]] = g17\n",
    "nx.iloc[[18]] = ca17\n",
    "\n",
    "nx.head(19)"
   ]
  },
  {
   "cell_type": "markdown",
   "metadata": {},
   "source": [
    "Notice that if we now add nx to the DataFrame and compute investment pandas doesn’t complain."
   ]
  },
  {
   "cell_type": "code",
   "execution_count": null,
   "metadata": {},
   "outputs": [],
   "source": [
    "df_year[\"NetExports\"] = nx\n",
    "df_year[\"Investment\"] = df_year.eval(\"GDP - Consumption - GovExpend - NetExports\")\n",
    "df_year.head(19)"
   ]
  },
  {
   "cell_type": "markdown",
   "metadata": {},
   "source": [
    "Because we didn’t also have data alignment on the country, we would have overstated Canada’s investment by 281 billion USD and understated Germany’s by the same amount.\n",
    "\n",
    "To make these types operation easier, we need to include both the year and country in the index…\n",
    "\n",
    "### Setting a Hierarchical Index\n",
    "Include multiple columns in the index is advantageous in some situations.\n",
    "\n",
    "These situations might include:\n",
    "- When we need more than one piece of information (column) to identify an observation (as in the Germany and UK GDP example above)\n",
    "- When we need data-alignment by more than one column\n",
    "\n",
    "To achieve multiple columns in the index, we pass a list of multiple column names to `set_index`."
   ]
  },
  {
   "cell_type": "code",
   "execution_count": null,
   "metadata": {},
   "outputs": [],
   "source": [
    "wdi = df.set_index([\"country\", \"year\"])\n",
    "wdi.head(20)"
   ]
  },
  {
   "cell_type": "markdown",
   "metadata": {},
   "source": [
    "Notice that in the display above, the row labels seem to have two *levels* now.\n",
    "\n",
    "The outer (or left-most) level is named country and the *inner* (or right-most) level is named year.\n",
    "\n",
    "When a DataFrame’s index has multiple levels, we (and the pandas documentation) refer to the DataFrame as having a hierarchical index.\n",
    "\n",
    "### Slicing a Hierarchical Index\n",
    "Now, we can answer our friend’s questions in a much more straightforward way."
   ]
  },
  {
   "cell_type": "code",
   "execution_count": null,
   "metadata": {},
   "outputs": [],
   "source": [
    "wdi.loc[(\"United States\", 2010), \"GDP\"]"
   ]
  },
  {
   "cell_type": "code",
   "execution_count": null,
   "metadata": {},
   "outputs": [],
   "source": [
    "wdi.loc[([\"United Kingdom\", \"Germany\"], 2010), \"GDP\"]"
   ]
  },
  {
   "cell_type": "markdown",
   "metadata": {},
   "source": [
    "As shown above, we can use `wdi.loc` to extract different slices of our national accounts data.\n",
    "\n",
    "The rules for using `.loc` with a hierarchically-indexed DataFrame are similar to the ones we’ve learned for standard DataFrames, but they are a bit more elaborate as we now have more structure to our data.\n",
    "\n",
    "We will summarize the main rules, and then work through an exercise that demonstrates each of them.\n",
    "\n",
    "**Slicing rules**\n",
    "\n",
    "pandas slicing reacts differently to `list`s and `tuple`s.\n",
    "\n",
    "It does this to provide more flexibility to select the data you want.\n",
    "\n",
    "list in row slicing will be an “or” operation, where it chooses rows based on whether the index value corresponds to any element of the list.\n",
    "\n",
    "tuple in row slicing will be used to denote a single hierarchical index and must include a value for each level.\n",
    "\n",
    "**Row slicing examples**\n",
    "1. `wdi.loc[\"United States\"]`: all rows where the outer most index value is equal to United States\n",
    "1. `wdi.loc[(\"United States\", 2010)]`: all rows where the *outer-most* index value is equal to \"United States and the second level is equal to 2010\n",
    "1. `wdi.loc[[\"United States\", \"Canada\"]]`: all rows where the outer-most index is either \"United States\" or \"Canada\"\n",
    "1. `wdi.loc[([\"United States\", \"Canada\"], [2010, 2011]), :]`: all rows where the outer-most index is either \"United States or \"Canada\" AND where the second level index is either 2010 or 2011\n",
    "1. `wdi.loc[[(\"United States\", 2010), (\"Canada\", 2011)], :]`: all rows where the the two hierarchical indices are either (\"United States\", 2010) or (\"Canada\", 2011)\n",
    "\n",
    "We can also restrict .loc to extract certain columns by doing:\n",
    "1. `wdi.loc[rows, GDP]`: return the rows specified by rows (see rules above) and only column named GDP (returned object will be a Series)\n",
    "1. `df.loc[rows, [\"GDP\", \"Consumption\"]]`: return the rows specified by rows (see rules above) and only columns GDP and Consumption\n",
    "\n",
    "### Alignment with `MultiIndex`\n",
    "The data alignment features we talked about above also apply to a `MultiIndex` DataFrame.\n",
    "\n",
    "`pd.IndexSlice`\n",
    "\n",
    "When we want to extract rows for a few values of the outer index and all values for an inner index level, we can use the convenient `df.loc[[id11, id22]]` shorthand.\n",
    "\n",
    "We can use this notation to extract all the data for the United States and Canada."
   ]
  },
  {
   "cell_type": "code",
   "execution_count": null,
   "metadata": {},
   "outputs": [],
   "source": [
    "wdi.loc[[\"United States\", \"Canada\"]]"
   ]
  },
  {
   "cell_type": "markdown",
   "metadata": {},
   "source": [
    "However, suppose we wanted to extract the data for all countries, but only the years 2005, 2007, and 2009.\n",
    "\n",
    "We cannot do this using `wdi.loc` because the year is on the second level, not outer-most level of our index.\n",
    "\n",
    "To get around this limitation, we can use the `pd.IndexSlice` helper.\n",
    "\n",
    "Here’s an example."
   ]
  },
  {
   "cell_type": "code",
   "execution_count": null,
   "metadata": {},
   "outputs": [],
   "source": [
    "wdi.loc[pd.IndexSlice[:, [2005, 2007, 2009]], :]"
   ]
  },
  {
   "cell_type": "markdown",
   "metadata": {},
   "source": [
    "Notice that the `:` in the first part of `[:, [\"A\", \"D\"]]` instructed pandas to give us rows for all values of the outer most index level and that the `:` just before `]` said grab all the columns.\n",
    "\n",
    "### Multi-index Columns\n",
    "The functionality of MultiIndex also applies to the column names.\n",
    "\n",
    "Let’s see how it works."
   ]
  },
  {
   "cell_type": "code",
   "execution_count": null,
   "metadata": {},
   "outputs": [],
   "source": [
    "wdiT = wdi.T  # .T means \"transpose\" or \"swap rows and columns\"\n",
    "wdiT"
   ]
  },
  {
   "cell_type": "markdown",
   "metadata": {},
   "source": [
    "Notice that `wdiT` seems to have two levels of names for the columns.\n",
    "\n",
    "The same logic laid out in the above row slicing rules applies when we have a hierarchical index for column names."
   ]
  },
  {
   "cell_type": "code",
   "execution_count": null,
   "metadata": {},
   "outputs": [],
   "source": [
    "wdiT.loc[:, \"United States\"]"
   ]
  },
  {
   "cell_type": "code",
   "execution_count": null,
   "metadata": {},
   "outputs": [],
   "source": [
    "wdiT.loc[:, [\"United States\", \"Canada\"]]"
   ]
  },
  {
   "cell_type": "code",
   "execution_count": null,
   "metadata": {},
   "outputs": [],
   "source": [
    "wdiT.loc[:, ([\"United States\", \"Canada\"], 2010)]"
   ]
  },
  {
   "cell_type": "markdown",
   "metadata": {},
   "source": [
    "# Re-setting the Index\n",
    "The `df.reset_index` method will move one or more level of the index back into the DataFrame as a normal column.\n",
    "\n",
    "With no additional arguments, it moves all levels out of the index and sets the index of the returned DataFrame to the default of `range(df.shape[0])`."
   ]
  },
  {
   "cell_type": "code",
   "execution_count": null,
   "metadata": {},
   "outputs": [],
   "source": [
    "wdi.reset_index()"
   ]
  },
  {
   "cell_type": "markdown",
   "metadata": {},
   "source": [
    "# Choose the Index Carefully\n",
    "So, now that we know that we use index and column names for aligning data, “how should we pick the index?” is a natural question to ask.\n",
    "\n",
    "To guide us to the right answer, we will list the first two components to [Hadley Wickham’s](http://hadley.nz/) description of [tidy data](http://vita.had.co.nz/papers/tidy-data.html):\n",
    "1. Each column should each have one variable.\n",
    "1. Each row should each have one observation.\n",
    "\n",
    "If we strive to have our data in a tidy form (we should), then when choosing the index, we should set:\n",
    "- the row labels (index) to be a unique identifier for an observation of data\n",
    "- the column names to identify one variable\n",
    "\n",
    "For example, suppose we are looking data on interest rates.\n",
    "\n",
    "Each column might represent one bond or asset and each row might represent the date.\n",
    "\n",
    "Using hierarchical row and column indices allows us to store higher dimensional data in our (inherently) two dimensional DataFrame.\n",
    "\n",
    "#### Know Your Goal\n",
    "The correct column(s) to choose for the index often depends on the context of your analysis.\n",
    "\n",
    "For example, if I were studying how GDP and consumption evolved over time for various countries, I would want time (year) and country name on the index\n",
    "\n",
    "On the other hand, if I were trying to look at the differences across countries and variables within a particular year, I may opt to put the country and variable on the index and have years be columns.\n",
    "\n",
    "Following the tidy data rules above and thinking about how you intend to use the data – and a little practice – will enable you to consistently select the correct index."
   ]
  }
 ],
 "metadata": {
  "kernelspec": {
   "display_name": "Python 3",
   "language": "python",
   "name": "python3"
  },
  "language_info": {
   "codemirror_mode": {
    "name": "ipython",
    "version": 3
   },
   "file_extension": ".py",
   "mimetype": "text/x-python",
   "name": "python",
   "nbconvert_exporter": "python",
   "pygments_lexer": "ipython3",
   "version": "3.7.0"
  }
 },
 "nbformat": 4,
 "nbformat_minor": 2
}
