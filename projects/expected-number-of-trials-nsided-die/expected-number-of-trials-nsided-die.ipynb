{
 "cells": [
  {
   "attachments": {},
   "cell_type": "markdown",
   "metadata": {},
   "source": [
    "# Problem 1\n",
    "\n",
    "Find the expected number of trials to see all n numbers in an n-sided dice.\n",
    "\n",
    "## Solution:\n",
    "\n",
    "Let X be the number of trials to see all n numbers in an n-sided dice. Also, for all $i\\in \\{1,2,3,...,n\\}$ let $U_i$ be the number of trials to see i distinct numbers given we have already seen i-1 distinct numbers. Then \n",
    "\n",
    "$$\n",
    "X = \\sum_{i=1}^{n} U_i\n",
    "$$\n",
    "\n",
    "Note that each roll is independent of the previous rolls so $U_i$ follows a geometric distribution with probability of unseen values given seen values $p = \\frac{n-i+1}{n}$. Hence \n",
    "\n",
    "$$\n",
    "E[X] = \\sum_{i=1}^n E[U_i] = \\sum_{i=1}^{n} E[U_i] = \\sum_{i=1}^{n} \\frac{n}{n-i+1}\n",
    "$$\n",
    "\n",
    "For example if $n=6$ we get the expected number of rolls to be 14.7.\n",
    "\n",
    "\n"
   ]
  },
  {
   "attachments": {},
   "cell_type": "markdown",
   "metadata": {},
   "source": [
    "# Problem 2\n",
    "\n",
    "Also, code a simulation for a large number of trials with n-sided dice and match it with probabilistic calculations from the previous deduction of the expected number of trials to see all n numbers in an n-sided dice\n",
    "\n",
    "## Solution: Simulation"
   ]
  },
  {
   "cell_type": "code",
   "execution_count": 1,
   "metadata": {},
   "outputs": [],
   "source": [
    "import random\n",
    "import math\n",
    "import pandas as pd\n",
    "import matplotlib.pyplot as plt\n",
    "import numpy as np\n",
    "\n",
    "\n",
    "def get_number_of_trials(n):\n",
    "    total_trials = sum([n/(n-i+1) for i in range(1,n+1)])\n",
    "    return total_trials\n",
    "\n",
    "def sim_and_check(n):\n",
    "    # n is the number of sides in a die\n",
    "    data = []\n",
    "    # number of trials based on the expected number of trials to see\n",
    "    # all n sides\n",
    "    m = math.ceil(get_number_of_trials(n))\n",
    "    for _ in range(m):\n",
    "        roll = random.randint(1, n)\n",
    "        data.append(roll)\n",
    "\n",
    "    is_all = set(data) == set([i+1 for i in range(n)])\n",
    "    return [m, is_all]"
   ]
  },
  {
   "attachments": {},
   "cell_type": "markdown",
   "metadata": {},
   "source": [
    "## For n = 6, 30, and 100 sided dice\n",
    "We will create 10000 experiments of rolling a n sided dice an appropriate number times using the formula:\n",
    "$$\n",
    "\\text{number of trials} = E[X] = \\sum_{i=1}^{n} \\frac{n}{n-i+1}\n",
    "$$"
   ]
  },
  {
   "cell_type": "code",
   "execution_count": 2,
   "metadata": {},
   "outputs": [
    {
     "name": "stdout",
     "output_type": "stream",
     "text": [
      "finished 10000 experiments for side 6\n",
      "finished 10000 experiments for side 30\n",
      "finished 10000 experiments for side 100\n"
     ]
    }
   ],
   "source": [
    "n_sides = [6, 30, 100]\n",
    "number_of_trials = {}\n",
    "dfs = {}\n",
    "# record all the yes and nn\n",
    "for n in n_sides:\n",
    "    m =  sim_and_check(n)[0]\n",
    "    number_of_trials[n] = m\n",
    "    data = []\n",
    "    # will run m trials 10000 times to see \n",
    "    # how many yes and no's we can get\n",
    "    for i in range(10000):\n",
    "        is_all =  'Yes' if sim_and_check(n)[1] else 'No'\n",
    "        d = {'number of sides': n, 'is all': is_all}\n",
    "        data.append(d)\n",
    "\n",
    "    # create a dataset of 10000 records for each m trials\n",
    "    temp = pd.DataFrame(data)\n",
    "    print('finished 10000 experiments for side', n)\n",
    "    dfs[n] = temp"
   ]
  },
  {
   "cell_type": "code",
   "execution_count": 3,
   "metadata": {},
   "outputs": [
    {
     "data": {
      "text/plain": [
       "{6: 15, 30: 120, 100: 519}"
      ]
     },
     "execution_count": 3,
     "metadata": {},
     "output_type": "execute_result"
    }
   ],
   "source": [
    "number_of_trials"
   ]
  },
  {
   "cell_type": "code",
   "execution_count": 4,
   "metadata": {},
   "outputs": [
    {
     "data": {
      "text/html": [
       "<div>\n",
       "<style scoped>\n",
       "    .dataframe tbody tr th:only-of-type {\n",
       "        vertical-align: middle;\n",
       "    }\n",
       "\n",
       "    .dataframe tbody tr th {\n",
       "        vertical-align: top;\n",
       "    }\n",
       "\n",
       "    .dataframe thead th {\n",
       "        text-align: right;\n",
       "    }\n",
       "</style>\n",
       "<table border=\"1\" class=\"dataframe\">\n",
       "  <thead>\n",
       "    <tr style=\"text-align: right;\">\n",
       "      <th></th>\n",
       "      <th>number of sides</th>\n",
       "      <th>is all</th>\n",
       "    </tr>\n",
       "  </thead>\n",
       "  <tbody>\n",
       "    <tr>\n",
       "      <th>0</th>\n",
       "      <td>6</td>\n",
       "      <td>Yes</td>\n",
       "    </tr>\n",
       "    <tr>\n",
       "      <th>1</th>\n",
       "      <td>6</td>\n",
       "      <td>Yes</td>\n",
       "    </tr>\n",
       "    <tr>\n",
       "      <th>2</th>\n",
       "      <td>6</td>\n",
       "      <td>No</td>\n",
       "    </tr>\n",
       "    <tr>\n",
       "      <th>3</th>\n",
       "      <td>6</td>\n",
       "      <td>Yes</td>\n",
       "    </tr>\n",
       "    <tr>\n",
       "      <th>4</th>\n",
       "      <td>6</td>\n",
       "      <td>No</td>\n",
       "    </tr>\n",
       "  </tbody>\n",
       "</table>\n",
       "</div>"
      ],
      "text/plain": [
       "   number of sides is all\n",
       "0                6    Yes\n",
       "1                6    Yes\n",
       "2                6     No\n",
       "3                6    Yes\n",
       "4                6     No"
      ]
     },
     "execution_count": 4,
     "metadata": {},
     "output_type": "execute_result"
    }
   ],
   "source": [
    "dfs[6].head()"
   ]
  },
  {
   "cell_type": "code",
   "execution_count": 5,
   "metadata": {},
   "outputs": [
    {
     "data": {
      "text/html": [
       "<div>\n",
       "<style scoped>\n",
       "    .dataframe tbody tr th:only-of-type {\n",
       "        vertical-align: middle;\n",
       "    }\n",
       "\n",
       "    .dataframe tbody tr th {\n",
       "        vertical-align: top;\n",
       "    }\n",
       "\n",
       "    .dataframe thead th {\n",
       "        text-align: right;\n",
       "    }\n",
       "</style>\n",
       "<table border=\"1\" class=\"dataframe\">\n",
       "  <thead>\n",
       "    <tr style=\"text-align: right;\">\n",
       "      <th></th>\n",
       "      <th>number of sides</th>\n",
       "      <th>is all</th>\n",
       "    </tr>\n",
       "  </thead>\n",
       "  <tbody>\n",
       "    <tr>\n",
       "      <th>0</th>\n",
       "      <td>30</td>\n",
       "      <td>No</td>\n",
       "    </tr>\n",
       "    <tr>\n",
       "      <th>1</th>\n",
       "      <td>30</td>\n",
       "      <td>No</td>\n",
       "    </tr>\n",
       "    <tr>\n",
       "      <th>2</th>\n",
       "      <td>30</td>\n",
       "      <td>Yes</td>\n",
       "    </tr>\n",
       "    <tr>\n",
       "      <th>3</th>\n",
       "      <td>30</td>\n",
       "      <td>Yes</td>\n",
       "    </tr>\n",
       "    <tr>\n",
       "      <th>4</th>\n",
       "      <td>30</td>\n",
       "      <td>Yes</td>\n",
       "    </tr>\n",
       "  </tbody>\n",
       "</table>\n",
       "</div>"
      ],
      "text/plain": [
       "   number of sides is all\n",
       "0               30     No\n",
       "1               30     No\n",
       "2               30    Yes\n",
       "3               30    Yes\n",
       "4               30    Yes"
      ]
     },
     "execution_count": 5,
     "metadata": {},
     "output_type": "execute_result"
    }
   ],
   "source": [
    "dfs[30].head()"
   ]
  },
  {
   "cell_type": "code",
   "execution_count": 6,
   "metadata": {},
   "outputs": [
    {
     "data": {
      "text/plain": [
       "<AxesSubplot:title={'center':'Value Count After 10000 Experiments of 519 trials of a 100 side dice'}>"
      ]
     },
     "execution_count": 6,
     "metadata": {},
     "output_type": "execute_result"
    },
    {
     "data": {
      "image/png": "[encoded data removed]",
      "text/plain": [
       "<Figure size 432x288 with 1 Axes>"
      ]
     },
     "metadata": {
      "needs_background": "light"
     },
     "output_type": "display_data"
    }
   ],
   "source": [
    "dfs[100]['is all'].value_counts().plot(kind='bar', \n",
    "                                       title='Value Count After 10000 Experiments of '+str(number_of_trials[100]) +' trials of a 100 side dice')"
   ]
  },
  {
   "cell_type": "code",
   "execution_count": 7,
   "metadata": {},
   "outputs": [],
   "source": [
    "value_counts_n_sides = {}\n",
    "for n in n_sides:\n",
    "    value_counts_n_sides[n] = pd.DataFrame(dfs[n]['is all'].value_counts())"
   ]
  },
  {
   "cell_type": "code",
   "execution_count": 13,
   "metadata": {},
   "outputs": [
    {
     "data": {
      "image/png": "[encoded data removed]",
      "text/plain": [
       "<Figure size 432x288 with 1 Axes>"
      ]
     },
     "metadata": {
      "needs_background": "light"
     },
     "output_type": "display_data"
    }
   ],
   "source": [
    "X = ['Yes','No']\n",
    "ticks = -.2\n",
    "for n in n_sides:\n",
    "    Y_vals = value_counts_n_sides[n]['is all'].to_list()\n",
    "    X_axis = np.arange(len(X))\n",
    "    delta = .2\n",
    "    plt.bar(X_axis + ticks, Y_vals, delta, label = str(n)+' sided dice for '+str(number_of_trials[n])+' trials')\n",
    "    ticks += delta\n",
    "\n",
    "plt.xticks(X_axis, X)\n",
    "plt.title(\"Did All N Sides Show After Each Experiment?\")\n",
    "plt.ylabel(\"Number of Experiments After M trials\")\n",
    "plt.legend()\n",
    "plt.show()"
   ]
  },
  {
   "attachments": {},
   "cell_type": "markdown",
   "metadata": {},
   "source": [
    "# Conclusion\n",
    "\n",
    "For 6, 30, and 100 sided dice all sides show up in more experiments than not. We can see that for each dice experiment we are more likely to see all sides afer the appropriate number of trials given by the formula \n",
    "$$\n",
    "\\text{number of trials} = E[X] = \\sum_{i=1}^{n} \\frac{n}{n-i+1}\n",
    "$$"
   ]
  },
  {
   "attachments": {},
   "cell_type": "markdown",
   "metadata": {},
   "source": []
  }
 ],
 "metadata": {
  "kernelspec": {
   "display_name": "Python 3",
   "language": "python",
   "name": "python3"
  },
  "language_info": {
   "codemirror_mode": {
    "name": "ipython",
    "version": 3
   },
   "file_extension": ".py",
   "mimetype": "text/x-python",
   "name": "python",
   "nbconvert_exporter": "python",
   "pygments_lexer": "ipython3",
   "version": "3.7.0"
  },
  "orig_nbformat": 4
 },
 "nbformat": 4,
 "nbformat_minor": 2
}
