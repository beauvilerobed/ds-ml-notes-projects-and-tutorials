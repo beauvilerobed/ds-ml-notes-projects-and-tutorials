{
 "cells": [
  {
   "attachments": {},
   "cell_type": "markdown",
   "metadata": {},
   "source": [
    "# Problem\n",
    "\n",
    "Find the expected number of trials to see all n numbers in an n-sided dice.\n",
    "\n",
    "## Solution:\n",
    "\n",
    "Let X be the number of trials to see all n numbers in an n-sided dice. Also, for all $i\\in \\{1,2,3,...,n\\}$ let $U_i$ be the number of trials to see i distinct numbers given we have already seen i-1 distinct numbers. Then \n",
    "\n",
    "$$\n",
    "X = \\sum_{i=1}^{n} U_i\n",
    "$$\n",
    "\n",
    "Note that each roll is independent of the previous rolls so $U_i$ follows a geometric distribution with probability of unseen values given seen values $p = \\frac{n-i+1}{n}$. Hence \n",
    "\n",
    "$$\n",
    "E[X] = \\sum_{i=1}^n E[U_i] = \\sum_{i=1}^{n} E[U_i] = \\sum_{i=1}^{n} \\frac{n}{n-i+1}\n",
    "$$\n",
    "\n",
    "For example if $n=6$ we get the expected number of rolls to be 14.7.\n",
    "\n",
    "\n"
   ]
  },
  {
   "attachments": {},
   "cell_type": "markdown",
   "metadata": {},
   "source": [
    "## Simulation"
   ]
  },
  {
   "cell_type": "code",
   "execution_count": 2,
   "metadata": {},
   "outputs": [],
   "source": [
    "import random\n",
    "import math\n",
    "\n",
    "\n",
    "\n",
    "def get_number_of_trials(n):\n",
    "    total_trials = sum([n/(n-i+1) for i in range(1,n+1)])\n",
    "    return total_trials\n",
    "\n",
    "def sim_and_check(n):\n",
    "    # n is the number of sides in a die\n",
    "\n",
    "    data = []\n",
    "    m = 2*math.ceil(get_number_of_trials(n)) # number of trials\n",
    "\n",
    "    for _ in range(m):\n",
    "        roll = random.randint(1, n)\n",
    "        data.append(roll)\n",
    "\n",
    "    return set(data) == set([i+1 for i in range(n)])"
   ]
  },
  {
   "attachments": {},
   "cell_type": "markdown",
   "metadata": {},
   "source": [
    "# check if all number appear a choice of trials number "
   ]
  },
  {
   "cell_type": "code",
   "execution_count": 3,
   "metadata": {},
   "outputs": [
    {
     "name": "stdout",
     "output_type": "stream",
     "text": [
      "for n = 0: True\n",
      "for n = 6: True\n",
      "for n = 12: True\n",
      "for n = 18: True\n",
      "for n = 24: True\n",
      "for n = 30: True\n",
      "for n = 36: True\n",
      "for n = 42: True\n",
      "for n = 48: True\n",
      "for n = 54: True\n",
      "for n = 60: True\n",
      "for n = 66: True\n",
      "for n = 72: True\n",
      "for n = 78: True\n",
      "for n = 84: True\n",
      "for n = 90: True\n",
      "for n = 96: True\n"
     ]
    }
   ],
   "source": [
    "for n in range(0, 100, 6):\n",
    "    print(\"for n = {}: {}\".format(n, sim_and_check(1)))\n"
   ]
  },
  {
   "cell_type": "code",
   "execution_count": null,
   "metadata": {},
   "outputs": [],
   "source": []
  }
 ],
 "metadata": {
  "kernelspec": {
   "display_name": "Python 3",
   "language": "python",
   "name": "python3"
  },
  "language_info": {
   "codemirror_mode": {
    "name": "ipython",
    "version": 3
   },
   "file_extension": ".py",
   "mimetype": "text/x-python",
   "name": "python",
   "nbconvert_exporter": "python",
   "pygments_lexer": "ipython3",
   "version": "3.7.0"
  },
  "orig_nbformat": 4
 },
 "nbformat": 4,
 "nbformat_minor": 2
}
