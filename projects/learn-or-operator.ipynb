{
 "cells": [
  {
   "cell_type": "markdown",
   "metadata": {},
   "source": [
    "# Deep Learning with Python: Learning OR Operator"
   ]
  },
  {
   "cell_type": "markdown",
   "metadata": {},
   "source": [
    "This notebook will help you understand what exactly is Deep Learning and how advancements\n",
    "in industry has come when machines or computer programs are actually replacing humans. \n",
    "We will be covering:\n",
    "\n",
    "1. Data Science and Its Components\n",
    "2. The need of Deep Learning\n",
    "3. What is Deep Learning?\n",
    "4. Perceptrons and Artificial Neural Networks\n",
    "5. Applications of Deep Learning?\n",
    "6. Why Python for Deep Learning?\n",
    "7. Deep Learning with Python: Perceptron Example\n",
    "8. Deep Learning With Python: Creating a Deep Neural Network"
   ]
  },
  {
   "cell_type": "markdown",
   "metadata": {},
   "source": [
    "## Data Science and It's Components"
   ]
  },
  {
   "cell_type": "markdown",
   "metadata": {},
   "source": [
    "**Data Science** is the extaction of knowledge from data by using different techniques and algorithms.\n",
    "\n",
    "**Artificial Intelligence** is a technique which enables machines to mimic human behavior. **Machine Learning** is\n",
    "a subset of AI technique which uses statistical methods to enable machines to improve with experience. **Deep Learning**\n",
    "is a subset of ML which make the computation of multi-layer neural network feasible. It uses Neural networks to simulate\n",
    "human-like decision making."
   ]
  },
  {
   "cell_type": "markdown",
   "metadata": {},
   "source": [
    "## The need for Deep Learning"
   ]
  },
  {
   "cell_type": "markdown",
   "metadata": {},
   "source": [
    "Machine Learning is based on the idea that machines should be given access to data and should\n",
    "be left to learn and explore for themselves. It deals with the extraction of patterns from large\n",
    "data sets. Handling large data sets was not a problem.\n",
    "- Machine Learning Algorithms **cannot handle high-dimensional data**- where we have a large number\n",
    "of inputs and outputs: around thousands of dimensions. Handling and processing such type of data \n",
    "becomes very complex and resource exhaustive. This is termed as **Curse of Dimensionality**.\n",
    "- Another challenge faced was, to specify the **features to be extracted**. This plays an important\n",
    "role in predicting the outcome as well as achieving better accuracy.\n",
    "\n",
    "Deep Learning is **capable of handling the high dimensional data** and is also efficient in \n",
    "**focusing on the right features** on its own."
   ]
  },
  {
   "cell_type": "markdown",
   "metadata": {},
   "source": [
    "## What is Deep Learning?"
   ]
  },
  {
   "cell_type": "markdown",
   "metadata": {},
   "source": [
    "Deep Learning is a subset of Machine Learning where similar Machine Learning Algorithms are used to train \n",
    "**Deep Neural Networks** so as to achieve better accuracy in those cases where the former was not performing up\n",
    "to the mark. "
   ]
  },
  {
   "cell_type": "markdown",
   "metadata": {},
   "source": [
    "### Perceptrons and Artificial Neural Networks"
   ]
  },
  {
   "cell_type": "markdown",
   "metadata": {},
   "source": [
    "An Artificial Neuron or a Perceptron is a linear model used for binary classification. The\n",
    "neuron computes some function on these **weighted** inputs and gives the output.\n",
    "\n",
    "It recieves n inputs then sums those inputs, applies a transformation and produces an output. It has two functions:\n",
    "- Summation\n",
    "- Transformation(Activation)\n",
    "\n",
    "The weight shows the effectiveness of a particular input. \n",
    "**The more the weight of input, the more it will have an impact on the neural network**. On the other hand,\n",
    "**Bias** is an additional parameter in the Perceptron which is used to adjust the output along with the weighted sum\n",
    "of the inputs to the neuron which helps the model in a way that it can fit best for the given data.\n",
    "\n",
    "**Activation Functions** translates the input into outputs. It uses a threshold to produce an output. There are many\n",
    "functions that are used as Activation Functions, like:\n",
    "- Linear or Identity\n",
    "- Unit of Binary Step\n",
    "- Sigmoid or Logistic\n",
    "- Tanh\n",
    "- ReLU\n",
    "- Softmax\n",
    "\n",
    "Note:\n",
    "- Single-Layer Perceptrons **cannot classify non-linearly seperable data points**.\n",
    "- Complex problems, that involve **a lot of parameters** cannot be solved by single-layer perceptrons.\n",
    "\n",
    "A Neural Network is really just a **composition of Perceptrons, connected in different ways** and operating on\n",
    "different activation functions."
   ]
  },
  {
   "cell_type": "markdown",
   "metadata": {},
   "source": [
    "## Applications of Deep Learning"
   ]
  },
  {
   "cell_type": "markdown",
   "metadata": {},
   "source": [
    "Here are a few of the important ones that are present in our Day to Day tasks."
   ]
  },
  {
   "cell_type": "markdown",
   "metadata": {},
   "source": [
    "- Handwritten Digit Recognition \n",
    "- Machine Translation\n",
    "- Facial Recognition and Automatic Tagging\n",
    "- Virtual Personal Assistants\n",
    "- Self Driving Car\n",
    "- Chatbots"
   ]
  },
  {
   "cell_type": "markdown",
   "metadata": {},
   "source": [
    "## Why Python for Deep Learning?"
   ]
  },
  {
   "cell_type": "markdown",
   "metadata": {},
   "source": [
    "- Python is a **general purpose programming language** as being **easy to use** when it comes to analytical and \n",
    "quantitative computing.\n",
    "- Python is **Dynamically Typed**\n",
    "- Huge Community Support\n",
    "- A vast range of Libraries for different purposes like **Numpy, Seaborn, Matplotlib, Pandas, and Scikit-learn**."
   ]
  },
  {
   "cell_type": "markdown",
   "metadata": {},
   "source": [
    "## Deep Learning with Python: Perceptron Example"
   ]
  },
  {
   "cell_type": "markdown",
   "metadata": {},
   "source": [
    "We are going to work with the \"OR\" gate. The output is 1 if any of the inputs is also 1\n",
    "\n",
    "| X1| X2| Y |\n",
    "| - | - | - |\n",
    "| 0 | 0 | 0 |\n",
    "| 0 | 1 | 1 |\n",
    "| 1 | 0 | 1 |\n",
    "| 1 | 1 | 1 |\n",
    "\n",
    "Therefore, a Perceptron can be used as a separator or a decision line that divides that input set of OR Gate, into\n",
    "two classes. Inputs having output as 0 that lies below the decision line. Inputs having output as 1 that lies above the\n",
    "decision line or separator.\n",
    "\n",
    "Mathematically a perceptron can be though of like an equation of Weights $W$, Inputs $x$, and Bias $b$.\n",
    "$$\n",
    "f(x) = W\\cdot x + b\n",
    "$$"
   ]
  },
  {
   "cell_type": "markdown",
   "metadata": {},
   "source": [
    "### Step 1: Import all the required library"
   ]
  },
  {
   "cell_type": "code",
   "execution_count": 1,
   "metadata": {},
   "outputs": [],
   "source": [
    "import tensorflow as tf\n",
    "tf.compat.v1.disable_eager_execution()"
   ]
  },
  {
   "cell_type": "markdown",
   "metadata": {},
   "source": [
    "### Step 2: Define Vector Variables for Input and Output"
   ]
  },
  {
   "cell_type": "code",
   "execution_count": 2,
   "metadata": {},
   "outputs": [],
   "source": [
    "train_in = [\n",
    "[0,0,1],\n",
    "[0,1,1],\n",
    "[1,0,1],\n",
    "[1,1,1]]\n",
    " \n",
    "train_out = [\n",
    "[0],\n",
    "[1],\n",
    "[1],\n",
    "[1]]\n"
   ]
  },
  {
   "cell_type": "markdown",
   "metadata": {},
   "source": [
    "### Step 3: Define Weight Variable"
   ]
  },
  {
   "cell_type": "markdown",
   "metadata": {},
   "source": [
    "Here we will define the tensor variable of shape 3×1 for our weights and assign some random values to it initially."
   ]
  },
  {
   "cell_type": "code",
   "execution_count": 3,
   "metadata": {},
   "outputs": [],
   "source": [
    "w = tf.Variable(tf.random.normal([3, 1], seed=15))"
   ]
  },
  {
   "cell_type": "markdown",
   "metadata": {},
   "source": [
    "### Step 4: Define placeholders for Input and Output"
   ]
  },
  {
   "cell_type": "markdown",
   "metadata": {},
   "source": [
    "We need to define placeholders so that they can accept external inputs on the run."
   ]
  },
  {
   "cell_type": "code",
   "execution_count": 4,
   "metadata": {},
   "outputs": [],
   "source": [
    "x = tf.compat.v1.placeholder(tf.float32,[None,3])\n",
    "y = tf.compat.v1.placeholder(tf.float32,[None,1])"
   ]
  },
  {
   "cell_type": "markdown",
   "metadata": {},
   "source": [
    "### Step 5: Calculate Output and Activation Function"
   ]
  },
  {
   "cell_type": "markdown",
   "metadata": {},
   "source": [
    "As discussed earlier, the input received by a perceptron is first multiplied by the respective weights and then, all these weighted inputs are summed together. This summed value is then fed to activation for obtaining the final result."
   ]
  },
  {
   "cell_type": "code",
   "execution_count": 5,
   "metadata": {},
   "outputs": [],
   "source": [
    "output = tf.nn.relu(tf.matmul(x, w))"
   ]
  },
  {
   "cell_type": "markdown",
   "metadata": {},
   "source": [
    "### Step 6: Calculate the Cost or Error"
   ]
  },
  {
   "cell_type": "code",
   "execution_count": 6,
   "metadata": {},
   "outputs": [],
   "source": [
    "loss = tf.reduce_sum(tf.square(output - y))"
   ]
  },
  {
   "cell_type": "markdown",
   "metadata": {},
   "source": [
    "### Step 7: Minimize Error"
   ]
  },
  {
   "cell_type": "markdown",
   "metadata": {},
   "source": [
    "The goal of a perceptron is to minimize the Loss or Cost or Error. So here we are going to use the Gradient Descent Optimizer."
   ]
  },
  {
   "cell_type": "code",
   "execution_count": 7,
   "metadata": {},
   "outputs": [],
   "source": [
    "optimizer = tf.compat.v1.train.GradientDescentOptimizer(0.01)\n",
    "train = optimizer.minimize(loss)"
   ]
  },
  {
   "cell_type": "markdown",
   "metadata": {},
   "source": [
    "### Step 8: Initialize all the variables"
   ]
  },
  {
   "cell_type": "markdown",
   "metadata": {},
   "source": [
    "Variables are only defined with tf.Variable. So, we need to initialize the variables defined."
   ]
  },
  {
   "cell_type": "code",
   "execution_count": 8,
   "metadata": {},
   "outputs": [
    {
     "name": "stderr",
     "output_type": "stream",
     "text": [
      "2022-03-12 12:24:21.461945: I tensorflow/core/platform/cpu_feature_guard.cc:151] This TensorFlow binary is optimized with oneAPI Deep Neural Network Library (oneDNN) to use the following CPU instructions in performance-critical operations:  AVX2 FMA\n",
      "To enable them in other operations, rebuild TensorFlow with the appropriate compiler flags.\n"
     ]
    }
   ],
   "source": [
    "init = tf.compat.v1.global_variables_initializer()\n",
    "sess = tf.compat.v1.Session()\n",
    "sess.run(init)"
   ]
  },
  {
   "cell_type": "markdown",
   "metadata": {},
   "source": [
    "### Step 9: Training Perceptron in Iterations"
   ]
  },
  {
   "cell_type": "markdown",
   "metadata": {},
   "source": [
    "We need to train our perceptron i.e. update values of weights and bias in the successive iteration to minimize the error or loss. Here, I will train our perceptron in 100 epochs."
   ]
  },
  {
   "cell_type": "code",
   "execution_count": 9,
   "metadata": {},
   "outputs": [
    {
     "name": "stdout",
     "output_type": "stream",
     "text": [
      "Epoch-- 0 --loss-- 2.0738316\n",
      "Epoch-- 1 --loss-- 1.7192812\n",
      "Epoch-- 2 --loss-- 1.4468638\n",
      "Epoch-- 3 --loss-- 1.2370586\n",
      "Epoch-- 4 --loss-- 1.0750012\n",
      "Epoch-- 5 --loss-- 0.94937146\n",
      "Epoch-- 6 --loss-- 0.85154825\n",
      "Epoch-- 7 --loss-- 0.7749659\n",
      "Epoch-- 8 --loss-- 0.7146225\n",
      "Epoch-- 9 --loss-- 0.66670835\n",
      "Epoch-- 10 --loss-- 0.6283201\n",
      "Epoch-- 11 --loss-- 0.59724545\n",
      "Epoch-- 12 --loss-- 0.5717979\n",
      "Epoch-- 13 --loss-- 0.5506916\n",
      "Epoch-- 14 --loss-- 0.5329456\n",
      "Epoch-- 15 --loss-- 0.5178112\n",
      "Epoch-- 16 --loss-- 0.5047164\n",
      "Epoch-- 17 --loss-- 0.49322423\n",
      "Epoch-- 18 --loss-- 0.48300037\n",
      "Epoch-- 19 --loss-- 0.47378856\n",
      "Epoch-- 20 --loss-- 0.4653922\n",
      "Epoch-- 21 --loss-- 0.4576601\n",
      "Epoch-- 22 --loss-- 0.4504757\n",
      "Epoch-- 23 --loss-- 0.44374895\n",
      "Epoch-- 24 --loss-- 0.43740994\n",
      "Epoch-- 25 --loss-- 0.43140402\n",
      "Epoch-- 26 --loss-- 0.42568845\n",
      "Epoch-- 27 --loss-- 0.42022946\n",
      "Epoch-- 28 --loss-- 0.41500017\n",
      "Epoch-- 29 --loss-- 0.40997905\n",
      "Epoch-- 30 --loss-- 0.40514854\n",
      "Epoch-- 31 --loss-- 0.4004942\n",
      "Epoch-- 32 --loss-- 0.39600414\n",
      "Epoch-- 33 --loss-- 0.3916682\n",
      "Epoch-- 34 --loss-- 0.3874779\n",
      "Epoch-- 35 --loss-- 0.38342556\n",
      "Epoch-- 36 --loss-- 0.37950477\n",
      "Epoch-- 37 --loss-- 0.3757096\n",
      "Epoch-- 38 --loss-- 0.3720348\n",
      "Epoch-- 39 --loss-- 0.36847553\n",
      "Epoch-- 40 --loss-- 0.36502737\n",
      "Epoch-- 41 --loss-- 0.3616862\n",
      "Epoch-- 42 --loss-- 0.35844815\n",
      "Epoch-- 43 --loss-- 0.3553097\n",
      "Epoch-- 44 --loss-- 0.3522673\n",
      "Epoch-- 45 --loss-- 0.34931767\n",
      "Epoch-- 46 --loss-- 0.3464578\n",
      "Epoch-- 47 --loss-- 0.3436847\n",
      "Epoch-- 48 --loss-- 0.34099552\n",
      "Epoch-- 49 --loss-- 0.33838758\n",
      "Epoch-- 50 --loss-- 0.3358581\n",
      "Epoch-- 51 --loss-- 0.33340475\n",
      "Epoch-- 52 --loss-- 0.33102494\n",
      "Epoch-- 53 --loss-- 0.32871646\n",
      "Epoch-- 54 --loss-- 0.32647696\n",
      "Epoch-- 55 --loss-- 0.32430428\n",
      "Epoch-- 56 --loss-- 0.3221963\n",
      "Epoch-- 57 --loss-- 0.32015097\n",
      "Epoch-- 58 --loss-- 0.31816638\n",
      "Epoch-- 59 --loss-- 0.3162406\n",
      "Epoch-- 60 --loss-- 0.31437173\n",
      "Epoch-- 61 --loss-- 0.3125581\n",
      "Epoch-- 62 --loss-- 0.31079796\n",
      "Epoch-- 63 --loss-- 0.3090896\n",
      "Epoch-- 64 --loss-- 0.3074315\n",
      "Epoch-- 65 --loss-- 0.30582199\n",
      "Epoch-- 66 --loss-- 0.3042596\n",
      "Epoch-- 67 --loss-- 0.302743\n",
      "Epoch-- 68 --loss-- 0.30127063\n",
      "Epoch-- 69 --loss-- 0.29984125\n",
      "Epoch-- 70 --loss-- 0.29845342\n",
      "Epoch-- 71 --loss-- 0.29710594\n",
      "Epoch-- 72 --loss-- 0.29579756\n",
      "Epoch-- 73 --loss-- 0.2945271\n",
      "Epoch-- 74 --loss-- 0.29329345\n",
      "Epoch-- 75 --loss-- 0.29209533\n",
      "Epoch-- 76 --loss-- 0.29093188\n",
      "Epoch-- 77 --loss-- 0.2898019\n",
      "Epoch-- 78 --loss-- 0.2887044\n",
      "Epoch-- 79 --loss-- 0.28763843\n",
      "Epoch-- 80 --loss-- 0.286603\n",
      "Epoch-- 81 --loss-- 0.2855973\n",
      "Epoch-- 82 --loss-- 0.28462029\n",
      "Epoch-- 83 --loss-- 0.28367117\n",
      "Epoch-- 84 --loss-- 0.28274915\n",
      "Epoch-- 85 --loss-- 0.28185338\n",
      "Epoch-- 86 --loss-- 0.28098297\n",
      "Epoch-- 87 --loss-- 0.2801374\n",
      "Epoch-- 88 --loss-- 0.2793157\n",
      "Epoch-- 89 --loss-- 0.27851734\n",
      "Epoch-- 90 --loss-- 0.27774152\n",
      "Epoch-- 91 --loss-- 0.27698758\n",
      "Epoch-- 92 --loss-- 0.27625492\n",
      "Epoch-- 93 --loss-- 0.27554289\n",
      "Epoch-- 94 --loss-- 0.27485088\n",
      "Epoch-- 95 --loss-- 0.27417836\n",
      "Epoch-- 96 --loss-- 0.2735246\n",
      "Epoch-- 97 --loss-- 0.27288917\n",
      "Epoch-- 98 --loss-- 0.2722716\n",
      "Epoch-- 99 --loss-- 0.2716712\n"
     ]
    }
   ],
   "source": [
    "epochs = 100\n",
    "\n",
    "for i in range(epochs):\n",
    "    sess.run(train, {x:train_in,y:train_out})\n",
    "    cost = sess.run(loss,feed_dict={x:train_in,y:train_out})\n",
    "    print('Epoch--',i,'--loss--',cost)"
   ]
  },
  {
   "cell_type": "markdown",
   "metadata": {},
   "source": [
    "### As you can see here, the loss started at **2.07** and ended at **0.27**!"
   ]
  }
 ],
 "metadata": {
  "interpreter": {
   "hash": "aee8b7b246df8f9039afb4144a1f6fd8d2ca17a180786b69acc140d282b71a49"
  },
  "kernelspec": {
   "display_name": "Python 3.7.0 64-bit",
   "language": "python",
   "name": "python3"
  },
  "language_info": {
   "codemirror_mode": {
    "name": "ipython",
    "version": 3
   },
   "file_extension": ".py",
   "mimetype": "text/x-python",
   "name": "python",
   "nbconvert_exporter": "python",
   "pygments_lexer": "ipython3",
   "version": "3.7.0"
  },
  "orig_nbformat": 4
 },
 "nbformat": 4,
 "nbformat_minor": 2
}
