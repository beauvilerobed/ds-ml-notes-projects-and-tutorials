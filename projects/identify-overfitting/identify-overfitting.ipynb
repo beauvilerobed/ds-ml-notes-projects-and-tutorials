{
 "cells": [
  {
   "attachments": {},
   "cell_type": "markdown",
   "metadata": {},
   "source": [
    "# How to Identify Overfitting Machine Learning Models in Scikit-Learn\n",
    "\n",
    "### What Is Overfitting?\n",
    "Overfitting is an undesirable machine learning behavior that occurs when the machine learning model gives accurate predictions for training data but not for new data. When data scientists use machine learning models for making predictions, they first train the model on a known data set. Then, based on this information, the model tries to predict outcomes for new data sets. An overfit model can give inaccurate predictions and cannot perform well for all types of new data.\n",
    "\n",
    "But what does it mean if a model’s performance is “significantly better” on the training set compared to the test set?\n",
    "\n",
    "For example, it is common and perhaps normal for the model to have better performance on the training set than the test set. As such, we can perform an analysis of the algorithm on the dataset to better expose the overfitting behavior.\n"
   ]
  },
  {
   "attachments": {},
   "cell_type": "markdown",
   "metadata": {},
   "source": [
    "## Performing an Overfitting Analysis\n",
    "\n",
    "An overfitting analysis is an approach for exploring how and when a specific model is overfitting on a specific dataset.\n",
    "\n",
    "This might be achieved by reviewing the model behavior during a single run for algorithms like neural networks that are fit on the training dataset incrementally.\n",
    "\n",
    "A plot of the model performance on the train and test set can be calculated at each point during training and plots can be created. This plot is often called a learning curve plot, showing one curve for model performance on the training set and one curve for the test set for each increment of learning.\n",
    "\n",
    "### How do you perform an overfitting analysis for machine learning algorithms in scikit-learn?\n",
    "\n",
    "One approach for performing an overfitting analysis on algorithms that do not learn incrementally is by varying a key model hyperparameter and evaluating the model performance on the train and test sets for each configuration."
   ]
  },
  {
   "attachments": {},
   "cell_type": "markdown",
   "metadata": {},
   "source": [
    "## Example of Overfitting in Scikit-Learn"
   ]
  },
  {
   "cell_type": "code",
   "execution_count": 11,
   "metadata": {},
   "outputs": [],
   "source": [
    "from sklearn.datasets import make_classification\n",
    "from sklearn.model_selection import train_test_split\n",
    "from sklearn.metrics import accuracy_score\n",
    "from sklearn.tree import DecisionTreeClassifier\n",
    "from matplotlib import pyplot\n",
    "from sklearn.neighbors import KNeighborsClassifier\n"
   ]
  },
  {
   "cell_type": "code",
   "execution_count": 2,
   "metadata": {},
   "outputs": [
    {
     "name": "stdout",
     "output_type": "stream",
     "text": [
      "(10000, 20) (10000,)\n"
     ]
    }
   ],
   "source": [
    "X, y = make_classification(n_samples=10000, \n",
    "                           n_features=20, \n",
    "                           n_informative=5, \n",
    "                           n_redundant=15, \n",
    "                           random_state=1)\n",
    "print(X.shape, y.shape)\n"
   ]
  },
  {
   "cell_type": "code",
   "execution_count": 4,
   "metadata": {},
   "outputs": [
    {
     "name": "stdout",
     "output_type": "stream",
     "text": [
      "(7000, 20) (3000, 20) (7000,) (3000,)\n"
     ]
    }
   ],
   "source": [
    "train_x, test_x, train_y, test_y = train_test_split(X, y, test_size=0.3)\n",
    "print(train_x.shape, test_x.shape, train_y.shape, test_y.shape)"
   ]
  },
  {
   "attachments": {},
   "cell_type": "markdown",
   "metadata": {},
   "source": [
    "We will use a decision tree via the DecisionTreeClassifier and test different tree depths with the “max_depth” argument.\n",
    "\n",
    "Shallow decision trees (e.g. few levels) generally do not overfit but have poor performance (high bias, low variance). Whereas deep trees (e.g. many levels) generally do overfit and have good performance (low bias, high variance). A desirable tree is one that is not so shallow that it has low skill and not so deep that it overfits the training dataset.\n",
    "\n",
    "We will enumerate each tree depth, fit a tree with a given depth on the training dataset, then evaluate the tree on both the train and test sets.\n",
    "\n",
    "The expectation is that as the depth of the tree increases, performance on train and test will improve to a point, and as the tree gets too deep, it will begin to overfit the training dataset at the expense of worse performance on the holdout test set.\n",
    "\n",
    "We evaluate decision tree depths from 1 to 20."
   ]
  },
  {
   "cell_type": "code",
   "execution_count": 10,
   "metadata": {},
   "outputs": [
    {
     "data": {
      "image/png": "[encoded data removed]",
      "text/plain": [
       "<Figure size 432x288 with 1 Axes>"
      ]
     },
     "metadata": {
      "needs_background": "light"
     },
     "output_type": "display_data"
    }
   ],
   "source": [
    "values = [i for i in range(1, 21)]\n",
    "train_scores = []\n",
    "test_scores = []\n",
    "\n",
    "for i in values:\n",
    "    model = DecisionTreeClassifier(max_depth=i)\n",
    "    model.fit(train_x, train_y)\n",
    "    train_yhat = model.predict(train_x)\n",
    "    train_acc = accuracy_score(train_y, train_yhat)\n",
    "    train_scores.append(train_acc)\n",
    "\n",
    "    test_yhat = model.predict(test_x)\n",
    "    test_acc = accuracy_score(test_y, test_yhat)\n",
    "    test_scores.append(test_acc)\n",
    "\n",
    "\n",
    "# plot accuracy scores\n",
    "pyplot.plot(values, train_scores, '-o', label='Train')\n",
    "pyplot.plot(values, test_scores, '-o', label='Test')\n",
    "pyplot.legend()\n",
    "pyplot.show()"
   ]
  },
  {
   "attachments": {},
   "cell_type": "markdown",
   "metadata": {},
   "source": [
    "We can see that the accuracy on the test set improves with tree depth until a depth of about eight or nine levels, after which accuracy begins to get worse with each increase in tree depth.\n",
    "\n",
    "This is exactly what we would expect to see in a pattern of overfitting. We would choose a tree depth of eight or nine before the model begins to overfit the training dataset.\n",
    "\n",
    "### Note:\n",
    "This analysis is interesting. It shows why the model has a worse hold-out test set performance when “max_depth” is set to large values.\n",
    "\n",
    "**But it is not required.**\n",
    "\n",
    "We can just as easily choose a “max_depth” using a grid search without performing an analysis on why some values result in better performance and some result in worse performance.In fact, in the next section, we will show where this analysis can be misleading.\n"
   ]
  },
  {
   "attachments": {},
   "cell_type": "markdown",
   "metadata": {},
   "source": [
    "## Counterexample of Overfitting in Scikit-Learn\n",
    "\n",
    "Sometimes, we may perform an analysis of machine learning model behavior and be deceived by the results. A good example of this is varying the number of neighbors for the k-nearest neighbors algorithms, which we can implement using the KNeighborsClassifier class and configure via the “n_neighbors” argument.\n",
    "\n",
    "Let’s forget how KNN works for the moment.\n",
    "\n",
    "We can perform the same analysis of the KNN algorithm as we did in the previous section for the decision tree and see if our model overfits for different configuration values. In this case, we will vary the number of neighbors from 1 to 50 to get more of the effect."
   ]
  },
  {
   "cell_type": "code",
   "execution_count": 13,
   "metadata": {},
   "outputs": [],
   "source": [
    "values = [i for i in range(1, 51)]\n",
    "train_scores = []\n",
    "test_scores = []\n",
    "\n",
    "for i in values:\n",
    "\tmodel = KNeighborsClassifier(n_neighbors=i)\n",
    "\tmodel.fit(train_x, train_y)\n",
    "\ttrain_yhat = model.predict(train_x)\n",
    "\ttrain_acc = accuracy_score(train_y, train_yhat)\n",
    "\ttrain_scores.append(train_acc)\n",
    "\t\n",
    "\ttest_yhat = model.predict(test_x)\n",
    "\ttest_acc = accuracy_score(test_y, test_yhat)\n",
    "\ttest_scores.append(test_acc)\n",
    "\t\n",
    "pyplot.plot(values, train_scores, '-o', label='Train')\n",
    "pyplot.plot(values, test_scores, '-o', label='Test')\n",
    "pyplot.legend()\n",
    "pyplot.show()"
   ]
  },
  {
   "attachments": {},
   "cell_type": "markdown",
   "metadata": {},
   "source": [
    "Recall, we are looking for a pattern where performance on the test set improves and then starts to get worse, and performance on the training set continues to improve.\n",
    "\n",
    "We do not see this pattern.\n",
    "\n",
    "Instead, we see that accuracy on the training dataset starts at perfect accuracy and falls with almost every increase in the number of neighbors.\n",
    "\n",
    "We also see that performance of the model on the holdout test improves to a value of about five neighbors, holds level and begins a downward trend after that."
   ]
  },
  {
   "cell_type": "code",
   "execution_count": null,
   "metadata": {},
   "outputs": [],
   "source": []
  }
 ],
 "metadata": {
  "kernelspec": {
   "display_name": "Python 3",
   "language": "python",
   "name": "python3"
  },
  "language_info": {
   "codemirror_mode": {
    "name": "ipython",
    "version": 3
   },
   "file_extension": ".py",
   "mimetype": "text/x-python",
   "name": "python",
   "nbconvert_exporter": "python",
   "pygments_lexer": "ipython3",
   "version": "3.7.0"
  },
  "orig_nbformat": 4
 },
 "nbformat": 4,
 "nbformat_minor": 2
}
