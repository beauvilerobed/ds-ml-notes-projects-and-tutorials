{
 "cells": [
  {
   "cell_type": "markdown",
   "metadata": {},
   "source": [
    "## Deep Learning With Python: Handwritten Digit Recognition "
   ]
  },
  {
   "cell_type": "markdown",
   "metadata": {},
   "source": [
    "We are going to use the MNIST data-set. The MNIST data-set consists of **60,000 training** samples and **10,000 testing** samples of handwritten digit images. The images are of size **28×28 pixels** and the output can lie between **0-9**.\n",
    "\n",
    "**The task here is to train a model which can accurately identify the digit present on the image**"
   ]
  },
  {
   "cell_type": "markdown",
   "metadata": {},
   "source": [
    "### Import MNIST data"
   ]
  },
  {
   "cell_type": "code",
   "execution_count": 1,
   "metadata": {},
   "outputs": [
    {
     "name": "stdout",
     "output_type": "stream",
     "text": [
      "(60000, 28, 28) (60000,)\n"
     ]
    }
   ],
   "source": [
    "import tensorflow as tf\n",
    "import keras\n",
    "from keras.datasets import mnist\n",
    "from keras.models import Sequential\n",
    "from keras.layers import Dense, Dropout, Flatten\n",
    "from keras.layers import Conv2D, MaxPooling2D\n",
    "\n",
    "(x_train, y_train), (x_test, y_test) = mnist.load_data()\n",
    "print(x_train.shape, y_train.shape)"
   ]
  },
  {
   "cell_type": "markdown",
   "metadata": {},
   "source": [
    "### Parameters and Network Parameters"
   ]
  },
  {
   "cell_type": "code",
   "execution_count": 2,
   "metadata": {},
   "outputs": [],
   "source": [
    "batch_size = 128\n",
    "epochs = 10\n",
    "n_classes = 10 # MNIST total classes (0-9 digits)\n",
    "input_shape = (28, 28, 1)"
   ]
  },
  {
   "cell_type": "markdown",
   "metadata": {},
   "source": [
    "### Preprocess the data"
   ]
  },
  {
   "cell_type": "code",
   "execution_count": 3,
   "metadata": {},
   "outputs": [
    {
     "name": "stdout",
     "output_type": "stream",
     "text": [
      "x_train shape: (60000, 28, 28, 1)\n",
      "60000 train samples\n",
      "10000 test samples\n"
     ]
    }
   ],
   "source": [
    "x_train = x_train.reshape(x_train.shape[0], 28, 28, 1)\n",
    "x_test = x_test.reshape(x_test.shape[0], 28, 28, 1)\n",
    "\n",
    "y_train = keras.utils.np_utils.to_categorical(y_train, n_classes)\n",
    "y_test = keras.utils.np_utils.to_categorical(y_test, n_classes)\n",
    "\n",
    "x_train = x_train.astype('float32')\n",
    "x_test = x_test.astype('float32')\n",
    "x_train /= 255 # dividing all the values by 255 will convert it to range from 0 to 1\n",
    "x_test /= 255  # dividing all the values by 255 will convert it to range from 0 to 1\n",
    "\n",
    "print(\"x_train shape: {}\".format(x_train.shape))\n",
    "print(\"{} train samples\".format(x_train.shape[0]))\n",
    "print(\"{} test samples\".format(x_test.shape[0]))"
   ]
  },
  {
   "cell_type": "markdown",
   "metadata": {},
   "source": [
    "### Create model"
   ]
  },
  {
   "cell_type": "markdown",
   "metadata": {},
   "source": [
    "Now we will create out **CNN model**."
   ]
  },
  {
   "cell_type": "code",
   "execution_count": 4,
   "metadata": {},
   "outputs": [
    {
     "name": "stderr",
     "output_type": "stream",
     "text": [
      "2022-03-12 16:44:07.939894: I tensorflow/core/platform/cpu_feature_guard.cc:151] This TensorFlow binary is optimized with oneAPI Deep Neural Network Library (oneDNN) to use the following CPU instructions in performance-critical operations:  AVX2 FMA\n",
      "To enable them in other operations, rebuild TensorFlow with the appropriate compiler flags.\n"
     ]
    }
   ],
   "source": [
    "model = Sequential()\n",
    "model.add(Conv2D(32, (3, 3), activation='relu', kernel_initializer='he_uniform', input_shape=(28, 28, 1)))\n",
    "model.add(Conv2D(64, (3, 3), activation='relu', kernel_initializer='he_uniform'))\n",
    "model.add(Conv2D(64, (3, 3), activation='relu', kernel_initializer='he_uniform'))\n",
    "model.add(MaxPooling2D((2, 2)))\n",
    "model.add(Dropout(0.25))\n",
    "model.add(Flatten())\n",
    "model.add(Dense(100, activation='relu', kernel_initializer='he_uniform'))\n",
    "model.add(Dropout(0.25))\n",
    "model.add(Dense(10, activation='softmax'))\n",
    "opt = tf.keras.optimizers.Adam()\n",
    "model.compile(optimizer=opt, loss='categorical_crossentropy', metrics=['accuracy'])"
   ]
  },
  {
   "cell_type": "markdown",
   "metadata": {},
   "source": [
    "### Train the model"
   ]
  },
  {
   "cell_type": "code",
   "execution_count": 5,
   "metadata": {},
   "outputs": [
    {
     "name": "stdout",
     "output_type": "stream",
     "text": [
      "Epoch 1/10\n",
      "469/469 [==============================] - 243s 515ms/step - loss: 0.1710 - accuracy: 0.9490 - val_loss: 0.0448 - val_accuracy: 0.9860\n",
      "Epoch 2/10\n",
      "469/469 [==============================] - 211s 450ms/step - loss: 0.0566 - accuracy: 0.9831 - val_loss: 0.0356 - val_accuracy: 0.9874\n",
      "Epoch 3/10\n",
      "469/469 [==============================] - 206s 439ms/step - loss: 0.0406 - accuracy: 0.9873 - val_loss: 0.0262 - val_accuracy: 0.9909\n",
      "Epoch 4/10\n",
      "469/469 [==============================] - 220s 469ms/step - loss: 0.0305 - accuracy: 0.9902 - val_loss: 0.0241 - val_accuracy: 0.9926\n",
      "Epoch 5/10\n",
      "469/469 [==============================] - 231s 492ms/step - loss: 0.0260 - accuracy: 0.9916 - val_loss: 0.0246 - val_accuracy: 0.9921\n",
      "Epoch 6/10\n",
      "469/469 [==============================] - 187s 399ms/step - loss: 0.0218 - accuracy: 0.9931 - val_loss: 0.0277 - val_accuracy: 0.9909\n",
      "Epoch 7/10\n",
      "469/469 [==============================] - 1000s 2s/step - loss: 0.0183 - accuracy: 0.9942 - val_loss: 0.0279 - val_accuracy: 0.9923\n",
      "Epoch 8/10\n",
      "469/469 [==============================] - 317s 675ms/step - loss: 0.0177 - accuracy: 0.9939 - val_loss: 0.0277 - val_accuracy: 0.9917\n",
      "Epoch 9/10\n",
      "469/469 [==============================] - 316s 673ms/step - loss: 0.0145 - accuracy: 0.9953 - val_loss: 0.0261 - val_accuracy: 0.9918\n",
      "Epoch 10/10\n",
      "469/469 [==============================] - 206s 439ms/step - loss: 0.0148 - accuracy: 0.9952 - val_loss: 0.0263 - val_accuracy: 0.9916\n"
     ]
    },
    {
     "data": {
      "text/plain": [
       "<keras.callbacks.History at 0x7fc58a760a20>"
      ]
     },
     "execution_count": 5,
     "metadata": {},
     "output_type": "execute_result"
    }
   ],
   "source": [
    "model.fit(x_train, y_train, batch_size= batch_size, epochs=epochs, verbose=1, validation_data=(x_test, y_test))"
   ]
  },
  {
   "cell_type": "markdown",
   "metadata": {},
   "source": [
    "### Evaluate the model"
   ]
  },
  {
   "cell_type": "markdown",
   "metadata": {},
   "source": [
    "The MNIST dataset is well balanced so we can get around 99% accuracy"
   ]
  },
  {
   "cell_type": "code",
   "execution_count": 6,
   "metadata": {},
   "outputs": [
    {
     "name": "stdout",
     "output_type": "stream",
     "text": [
      "Test loss: 0.02634400874376297\n",
      "Test accuracy: 0.991599977016449\n"
     ]
    }
   ],
   "source": [
    " score = model.evaluate(x_test, y_test, verbose=0)\n",
    " print(\"Test loss: {}\".format(score[0]))\n",
    " print(\"Test accuracy: {}\".format(score[1]))"
   ]
  },
  {
   "cell_type": "markdown",
   "metadata": {},
   "source": [
    "### Create GUI to predict digits"
   ]
  },
  {
   "cell_type": "code",
   "execution_count": null,
   "metadata": {},
   "outputs": [],
   "source": [
    "import cv2\n",
    "import numpy as np\n",
    "from tkinter import *\n",
    "from PIL import ImageGrab\n",
    "\n",
    "source=Tk() #Create the main window\n",
    "source.resizable(0, 0)\n",
    "source.title(\"Digit Recognition\")\n",
    "initx, inity= None, None\n",
    "image_number=0\n",
    "\n",
    "\n",
    "def clear_source():\n",
    "    global draw_area\n",
    "    draw_area.delete(\"all\")#Delete method for cleaning\n",
    "\n",
    "\n",
    "def activate_event(event):\n",
    "    global initx, inity\n",
    "    draw_area.bind('<B1-Motion>', draw_lines)#Session has started and call draw_lines\n",
    "    initx, inity = event.x, event.y\n",
    "\n",
    "\n",
    "def draw_lines(event):\n",
    "    global initx, inity\n",
    "    x, y = event.x, event.y\n",
    "    #Do the drawing\n",
    "    draw_area.create_line((initx, inity, x, y), width=7, fill='black', capstyle=ROUND, smooth=True, splinesteps=12)\n",
    "    initx, inity = x, y\n",
    "\n",
    "def Recognize_Digit():\n",
    "    global image_number\n",
    "    filename=f'image_{image_number}.png'\n",
    "    widget=draw_area\n",
    "    #Get coordinates of canvas.\n",
    "    x= source.winfo_rootx() + widget.winfo_x()\n",
    "    y= source.winfo_rooty() + widget.winfo_y()\n",
    "    x1=x+widget.winfo_width()\n",
    "    y1=y+widget.winfo_height()\n",
    "    #Get image by using grab() and crop it. Then save it.\n",
    "    ImageGrab.grab().crop((x,y,x1,y1)).save(filename)\n",
    "\n",
    "    digit = cv2.imread(filename,cv2.IMREAD_COLOR)#Read image\n",
    "    make_gray=cv2.cvtColor(digit,cv2.COLOR_BGR2GRAY)#Convert in grayscale\n",
    "    ret,th=cv2.threshold(make_gray,0,255,cv2.THRESH_BINARY_INV+cv2.THRESH_OTSU)#Otsu threshold\n",
    "    contours=cv2.findContours(th,cv2.RETR_EXTERNAL,cv2.CHAIN_APPROX_SIMPLE)[0]#extracting contours from image\n",
    "\n",
    "    for cnt in contours:\n",
    "        #Get bounding box\n",
    "        x,y,w,h=cv2.boundingRect(cnt)\n",
    "        #Create Rectangle\n",
    "        cv2.rectangle(digit,(x,y),(x+w,y+h),(255,0,0),1)\n",
    "        top=int(0.05*th.shape[0])\n",
    "        bottom=top\n",
    "        left=int(0.05*th.shape[1])\n",
    "        right=left\n",
    "        #Extract the image ROI\n",
    "        roi=th[y-top:y+h+bottom,x-left:x+w+right]\n",
    "        #Resize ROI image\n",
    "        img=cv2.resize(roi,(28,28),interpolation=cv2.INTER_AREA)\n",
    "        #Reshape image to standart of our model\n",
    "        img=img.reshape(1,28,28,1)\n",
    "        #Normalizing\n",
    "        img=img/255.0\n",
    "        prediction=model.predict([img])[0]\n",
    "        #Get the maximum values\n",
    "        final=np.argmax(prediction)\n",
    "        data=str(final)+'  '+str(int(max(prediction)*100))+'%'\n",
    "        #Draw the screen\n",
    "        cv2.putText(digit,data,(x,y-5),cv2.FONT_HERSHEY_SIMPLEX,0.5,(255,0,0),1)\n",
    "    cv2.imshow('digit',digit)#Show the result\n",
    "    cv2.waitKey(0)\n",
    "\n",
    "#Creating canvas\n",
    "draw_area=Canvas(source, width=640, height=480, bg='white')\n",
    "draw_area.grid(row=0, column=0, pady=2, sticky=W, columnspan=2)\n",
    "#Mechanism to let you deal with event yourself\n",
    "draw_area.bind('<Button-1>', activate_event)\n",
    "#Add buttons and their functions\n",
    "btn_save=Button(text=\"Recognize the Digit\",fg='black',command=Recognize_Digit)\n",
    "btn_save.grid(row=2,column=0,pady=1,padx=1)\n",
    "button_clear=Button(text=\"Clear Area\",fg='black', command=clear_source)\n",
    "button_clear.grid(row=2,column=1,pady=1,padx=1)\n",
    "\n",
    "source.mainloop()\n",
    "\n",
    "\n"
   ]
  }
 ],
 "metadata": {
  "interpreter": {
   "hash": "aee8b7b246df8f9039afb4144a1f6fd8d2ca17a180786b69acc140d282b71a49"
  },
  "kernelspec": {
   "display_name": "Python 3.7.0 64-bit",
   "language": "python",
   "name": "python3"
  },
  "language_info": {
   "codemirror_mode": {
    "name": "ipython",
    "version": 3
   },
   "file_extension": ".py",
   "mimetype": "text/x-python",
   "name": "python",
   "nbconvert_exporter": "python",
   "pygments_lexer": "ipython3",
   "version": "3.7.0"
  },
  "orig_nbformat": 4
 },
 "nbformat": 4,
 "nbformat_minor": 2
}
