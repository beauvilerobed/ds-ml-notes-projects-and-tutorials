{
 "cells": [
  {
   "cell_type": "markdown",
   "metadata": {},
   "source": [
    "# Machine Learning for Stock Price Prediction\n",
    "\n",
    "The stock market is known for being volatile, dynamic, and nonlinear. Accurate stock price prediction is extremely challenging because of multiple (macro and micro) factors, such as politics, global economic conditions, unexpected events, a company’s financial performance, and so on. But all of this also means that there’s a lot of data to find patterns in. So, financial analysts, researchers, and data scientists keep exploring analytics techniques to detect stock market trends. This gave rise to the concept of algorithmic trading, which uses automated, pre-programmed trading strategies to execute orders.\n",
    "\n",
    "In this notebook, we’ll be using both traditional quantitative finance methodology and machine learning algorithms to predict stock movements. We’ll go through the following topics:\n",
    "\n",
    "- Stock analysis: fundamental vs. technical analysis \n",
    "- Stock prices as time-series data and related concepts\n",
    "- Predicting stock prices with Moving Average techniques\n",
    "- Introduction to LSTMs \n",
    "- Predicting stock prices with an LSTM model\n",
    "- Final thoughts on new methodologies, such as ESN"
   ]
  },
  {
   "cell_type": "code",
   "execution_count": null,
   "metadata": {},
   "outputs": [],
   "source": []
  }
 ],
 "metadata": {
  "language_info": {
   "name": "python"
  }
 },
 "nbformat": 4,
 "nbformat_minor": 2
}
