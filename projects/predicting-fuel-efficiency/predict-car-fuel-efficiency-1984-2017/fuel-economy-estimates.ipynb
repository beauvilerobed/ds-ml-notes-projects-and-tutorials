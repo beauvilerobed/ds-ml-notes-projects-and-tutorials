{
 "cells": [
  {
   "attachments": {},
   "cell_type": "markdown",
   "metadata": {},
   "source": [
    "# Introduction\n",
    "\n",
    "The purpose of this notebook is to go through an example of a data analysis. We will show how we can perform some common preprocessing / analysis tasks to gather more information about the data."
   ]
  },
  {
   "cell_type": "code",
   "execution_count": 2,
   "metadata": {},
   "outputs": [],
   "source": [
    "import numpy as np\n",
    "import pandas as pd\n",
    "import matplotlib.pyplot as plt\n",
    "\n",
    "%matplotlib inline"
   ]
  },
  {
   "attachments": {},
   "cell_type": "markdown",
   "metadata": {},
   "source": [
    "## Load data"
   ]
  },
  {
   "cell_type": "code",
   "execution_count": 3,
   "metadata": {},
   "outputs": [
    {
     "name": "stdout",
     "output_type": "stream",
     "text": [
      "shape:  (38113, 81)\n"
     ]
    },
    {
     "name": "stderr",
     "output_type": "stream",
     "text": [
      "/Library/Frameworks/Python.framework/Versions/3.7/lib/python3.7/site-packages/IPython/core/interactiveshell.py:3186: DtypeWarning: Columns (7,16,62,64,65,67,68,78) have mixed types.Specify dtype option on import or set low_memory=False.\n",
      "  interactivity=interactivity, compiler=compiler, result=result)\n"
     ]
    },
    {
     "data": {
      "text/html": [
       "<div>\n",
       "<style scoped>\n",
       "    .dataframe tbody tr th:only-of-type {\n",
       "        vertical-align: middle;\n",
       "    }\n",
       "\n",
       "    .dataframe tbody tr th {\n",
       "        vertical-align: top;\n",
       "    }\n",
       "\n",
       "    .dataframe thead th {\n",
       "        text-align: right;\n",
       "    }\n",
       "</style>\n",
       "<table border=\"1\" class=\"dataframe\">\n",
       "  <thead>\n",
       "    <tr style=\"text-align: right;\">\n",
       "      <th></th>\n",
       "      <th>Vehicle ID</th>\n",
       "      <th>Year</th>\n",
       "      <th>Make</th>\n",
       "      <th>Model</th>\n",
       "      <th>Class</th>\n",
       "      <th>Drive</th>\n",
       "      <th>Transmission</th>\n",
       "      <th>Transmission Descriptor</th>\n",
       "      <th>Engine Index</th>\n",
       "      <th>Engine Descriptor</th>\n",
       "      <th>...</th>\n",
       "      <th>Hours to Charge (AC 240V)</th>\n",
       "      <th>Composite City MPG</th>\n",
       "      <th>Composite Highway MPG</th>\n",
       "      <th>Composite Combined MPG</th>\n",
       "      <th>Range (FT1)</th>\n",
       "      <th>City Range (FT1)</th>\n",
       "      <th>Highway Range (FT1)</th>\n",
       "      <th>Range (FT2)</th>\n",
       "      <th>City Range (FT2)</th>\n",
       "      <th>Highway Range (FT2)</th>\n",
       "    </tr>\n",
       "  </thead>\n",
       "  <tbody>\n",
       "    <tr>\n",
       "      <th>0</th>\n",
       "      <td>26587</td>\n",
       "      <td>1984</td>\n",
       "      <td>Alfa Romeo</td>\n",
       "      <td>GT V6 2.5</td>\n",
       "      <td>Minicompact Cars</td>\n",
       "      <td>NaN</td>\n",
       "      <td>Manual 5-Speed</td>\n",
       "      <td>NaN</td>\n",
       "      <td>9001</td>\n",
       "      <td>(FFS)</td>\n",
       "      <td>...</td>\n",
       "      <td>0.0</td>\n",
       "      <td>0</td>\n",
       "      <td>0</td>\n",
       "      <td>0</td>\n",
       "      <td>0</td>\n",
       "      <td>0.0</td>\n",
       "      <td>0.0</td>\n",
       "      <td>NaN</td>\n",
       "      <td>0.0</td>\n",
       "      <td>0.0</td>\n",
       "    </tr>\n",
       "    <tr>\n",
       "      <th>1</th>\n",
       "      <td>27705</td>\n",
       "      <td>1984</td>\n",
       "      <td>Alfa Romeo</td>\n",
       "      <td>GT V6 2.5</td>\n",
       "      <td>Minicompact Cars</td>\n",
       "      <td>NaN</td>\n",
       "      <td>Manual 5-Speed</td>\n",
       "      <td>NaN</td>\n",
       "      <td>9005</td>\n",
       "      <td>(FFS) CA model</td>\n",
       "      <td>...</td>\n",
       "      <td>0.0</td>\n",
       "      <td>0</td>\n",
       "      <td>0</td>\n",
       "      <td>0</td>\n",
       "      <td>0</td>\n",
       "      <td>0.0</td>\n",
       "      <td>0.0</td>\n",
       "      <td>NaN</td>\n",
       "      <td>0.0</td>\n",
       "      <td>0.0</td>\n",
       "    </tr>\n",
       "    <tr>\n",
       "      <th>2</th>\n",
       "      <td>26561</td>\n",
       "      <td>1984</td>\n",
       "      <td>Alfa Romeo</td>\n",
       "      <td>Spider Veloce 2000</td>\n",
       "      <td>Two Seaters</td>\n",
       "      <td>NaN</td>\n",
       "      <td>Manual 5-Speed</td>\n",
       "      <td>NaN</td>\n",
       "      <td>9002</td>\n",
       "      <td>(FFS)</td>\n",
       "      <td>...</td>\n",
       "      <td>0.0</td>\n",
       "      <td>0</td>\n",
       "      <td>0</td>\n",
       "      <td>0</td>\n",
       "      <td>0</td>\n",
       "      <td>0.0</td>\n",
       "      <td>0.0</td>\n",
       "      <td>NaN</td>\n",
       "      <td>0.0</td>\n",
       "      <td>0.0</td>\n",
       "    </tr>\n",
       "    <tr>\n",
       "      <th>3</th>\n",
       "      <td>27681</td>\n",
       "      <td>1984</td>\n",
       "      <td>Alfa Romeo</td>\n",
       "      <td>Spider Veloce 2000</td>\n",
       "      <td>Two Seaters</td>\n",
       "      <td>NaN</td>\n",
       "      <td>Manual 5-Speed</td>\n",
       "      <td>NaN</td>\n",
       "      <td>9006</td>\n",
       "      <td>(FFS) CA model</td>\n",
       "      <td>...</td>\n",
       "      <td>0.0</td>\n",
       "      <td>0</td>\n",
       "      <td>0</td>\n",
       "      <td>0</td>\n",
       "      <td>0</td>\n",
       "      <td>0.0</td>\n",
       "      <td>0.0</td>\n",
       "      <td>NaN</td>\n",
       "      <td>0.0</td>\n",
       "      <td>0.0</td>\n",
       "    </tr>\n",
       "    <tr>\n",
       "      <th>4</th>\n",
       "      <td>27550</td>\n",
       "      <td>1984</td>\n",
       "      <td>AM General</td>\n",
       "      <td>DJ Po Vehicle 2WD</td>\n",
       "      <td>Special Purpose Vehicle 2WD</td>\n",
       "      <td>2-Wheel Drive</td>\n",
       "      <td>Automatic 3-Speed</td>\n",
       "      <td>NaN</td>\n",
       "      <td>1830</td>\n",
       "      <td>(FFS)</td>\n",
       "      <td>...</td>\n",
       "      <td>0.0</td>\n",
       "      <td>0</td>\n",
       "      <td>0</td>\n",
       "      <td>0</td>\n",
       "      <td>0</td>\n",
       "      <td>0.0</td>\n",
       "      <td>0.0</td>\n",
       "      <td>NaN</td>\n",
       "      <td>0.0</td>\n",
       "      <td>0.0</td>\n",
       "    </tr>\n",
       "  </tbody>\n",
       "</table>\n",
       "<p>5 rows × 81 columns</p>\n",
       "</div>"
      ],
      "text/plain": [
       "   Vehicle ID  Year        Make               Model  \\\n",
       "0       26587  1984  Alfa Romeo           GT V6 2.5   \n",
       "1       27705  1984  Alfa Romeo           GT V6 2.5   \n",
       "2       26561  1984  Alfa Romeo  Spider Veloce 2000   \n",
       "3       27681  1984  Alfa Romeo  Spider Veloce 2000   \n",
       "4       27550  1984  AM General   DJ Po Vehicle 2WD   \n",
       "\n",
       "                         Class          Drive       Transmission  \\\n",
       "0             Minicompact Cars            NaN     Manual 5-Speed   \n",
       "1             Minicompact Cars            NaN     Manual 5-Speed   \n",
       "2                  Two Seaters            NaN     Manual 5-Speed   \n",
       "3                  Two Seaters            NaN     Manual 5-Speed   \n",
       "4  Special Purpose Vehicle 2WD  2-Wheel Drive  Automatic 3-Speed   \n",
       "\n",
       "  Transmission Descriptor  Engine Index Engine Descriptor  ...  \\\n",
       "0                     NaN          9001             (FFS)  ...   \n",
       "1                     NaN          9005    (FFS) CA model  ...   \n",
       "2                     NaN          9002             (FFS)  ...   \n",
       "3                     NaN          9006    (FFS) CA model  ...   \n",
       "4                     NaN          1830             (FFS)  ...   \n",
       "\n",
       "   Hours to Charge (AC 240V)  Composite City MPG Composite Highway MPG  \\\n",
       "0                        0.0                   0                     0   \n",
       "1                        0.0                   0                     0   \n",
       "2                        0.0                   0                     0   \n",
       "3                        0.0                   0                     0   \n",
       "4                        0.0                   0                     0   \n",
       "\n",
       "  Composite Combined MPG Range (FT1) City Range (FT1) Highway Range (FT1)  \\\n",
       "0                      0           0              0.0                 0.0   \n",
       "1                      0           0              0.0                 0.0   \n",
       "2                      0           0              0.0                 0.0   \n",
       "3                      0           0              0.0                 0.0   \n",
       "4                      0           0              0.0                 0.0   \n",
       "\n",
       "   Range (FT2)  City Range (FT2)  Highway Range (FT2)  \n",
       "0          NaN               0.0                  0.0  \n",
       "1          NaN               0.0                  0.0  \n",
       "2          NaN               0.0                  0.0  \n",
       "3          NaN               0.0                  0.0  \n",
       "4          NaN               0.0                  0.0  \n",
       "\n",
       "[5 rows x 81 columns]"
      ]
     },
     "execution_count": 3,
     "metadata": {},
     "output_type": "execute_result"
    }
   ],
   "source": [
    "cars = pd.read_csv('database.csv')\n",
    "print('shape: ', cars.shape)\n",
    "cars.head()"
   ]
  },
  {
   "attachments": {},
   "cell_type": "markdown",
   "metadata": {},
   "source": [
    "**Note:** There are 81 columns so we will focus on columns related to MPG"
   ]
  },
  {
   "cell_type": "code",
   "execution_count": 4,
   "metadata": {},
   "outputs": [],
   "source": [
    "rel_cols = ['Vehicle ID', 'Year', 'Make', 'Model', 'Class', 'Drive', 'Transmission',\n",
    "            'Transmission Descriptor', 'Engine Index', 'Engine Descriptor',\n",
    "           'Engine Cylinders', 'Engine Displacement', 'Turbocharger',\n",
    "           'Supercharger', 'Fuel Type', 'Fuel Type 1', 'Fuel Type 2',\n",
    "            'Combined MPG (FT1)', 'Combined MPG (FT2)']\n",
    "\n",
    "cars = cars[rel_cols]"
   ]
  },
  {
   "cell_type": "code",
   "execution_count": 5,
   "metadata": {},
   "outputs": [
    {
     "data": {
      "text/plain": [
       "(38113, 19)"
      ]
     },
     "execution_count": 5,
     "metadata": {},
     "output_type": "execute_result"
    }
   ],
   "source": [
    "cars.shape"
   ]
  },
  {
   "cell_type": "code",
   "execution_count": 6,
   "metadata": {},
   "outputs": [
    {
     "data": {
      "text/html": [
       "<div>\n",
       "<style scoped>\n",
       "    .dataframe tbody tr th:only-of-type {\n",
       "        vertical-align: middle;\n",
       "    }\n",
       "\n",
       "    .dataframe tbody tr th {\n",
       "        vertical-align: top;\n",
       "    }\n",
       "\n",
       "    .dataframe thead th {\n",
       "        text-align: right;\n",
       "    }\n",
       "</style>\n",
       "<table border=\"1\" class=\"dataframe\">\n",
       "  <thead>\n",
       "    <tr style=\"text-align: right;\">\n",
       "      <th></th>\n",
       "      <th>Vehicle ID</th>\n",
       "      <th>Year</th>\n",
       "      <th>Make</th>\n",
       "      <th>Model</th>\n",
       "      <th>Class</th>\n",
       "      <th>Drive</th>\n",
       "      <th>Transmission</th>\n",
       "      <th>Transmission Descriptor</th>\n",
       "      <th>Engine Index</th>\n",
       "      <th>Engine Descriptor</th>\n",
       "      <th>Engine Cylinders</th>\n",
       "      <th>Engine Displacement</th>\n",
       "      <th>Turbocharger</th>\n",
       "      <th>Supercharger</th>\n",
       "      <th>Fuel Type</th>\n",
       "      <th>Fuel Type 1</th>\n",
       "      <th>Fuel Type 2</th>\n",
       "      <th>Combined MPG (FT1)</th>\n",
       "      <th>Combined MPG (FT2)</th>\n",
       "    </tr>\n",
       "  </thead>\n",
       "  <tbody>\n",
       "    <tr>\n",
       "      <th>0</th>\n",
       "      <td>26587</td>\n",
       "      <td>1984</td>\n",
       "      <td>Alfa Romeo</td>\n",
       "      <td>GT V6 2.5</td>\n",
       "      <td>Minicompact Cars</td>\n",
       "      <td>NaN</td>\n",
       "      <td>Manual 5-Speed</td>\n",
       "      <td>NaN</td>\n",
       "      <td>9001</td>\n",
       "      <td>(FFS)</td>\n",
       "      <td>6.0</td>\n",
       "      <td>2.5</td>\n",
       "      <td>NaN</td>\n",
       "      <td>NaN</td>\n",
       "      <td>Regular</td>\n",
       "      <td>Regular Gasoline</td>\n",
       "      <td>NaN</td>\n",
       "      <td>20</td>\n",
       "      <td>0</td>\n",
       "    </tr>\n",
       "    <tr>\n",
       "      <th>1</th>\n",
       "      <td>27705</td>\n",
       "      <td>1984</td>\n",
       "      <td>Alfa Romeo</td>\n",
       "      <td>GT V6 2.5</td>\n",
       "      <td>Minicompact Cars</td>\n",
       "      <td>NaN</td>\n",
       "      <td>Manual 5-Speed</td>\n",
       "      <td>NaN</td>\n",
       "      <td>9005</td>\n",
       "      <td>(FFS) CA model</td>\n",
       "      <td>6.0</td>\n",
       "      <td>2.5</td>\n",
       "      <td>NaN</td>\n",
       "      <td>NaN</td>\n",
       "      <td>Regular</td>\n",
       "      <td>Regular Gasoline</td>\n",
       "      <td>NaN</td>\n",
       "      <td>20</td>\n",
       "      <td>0</td>\n",
       "    </tr>\n",
       "    <tr>\n",
       "      <th>2</th>\n",
       "      <td>26561</td>\n",
       "      <td>1984</td>\n",
       "      <td>Alfa Romeo</td>\n",
       "      <td>Spider Veloce 2000</td>\n",
       "      <td>Two Seaters</td>\n",
       "      <td>NaN</td>\n",
       "      <td>Manual 5-Speed</td>\n",
       "      <td>NaN</td>\n",
       "      <td>9002</td>\n",
       "      <td>(FFS)</td>\n",
       "      <td>4.0</td>\n",
       "      <td>2.0</td>\n",
       "      <td>NaN</td>\n",
       "      <td>NaN</td>\n",
       "      <td>Regular</td>\n",
       "      <td>Regular Gasoline</td>\n",
       "      <td>NaN</td>\n",
       "      <td>21</td>\n",
       "      <td>0</td>\n",
       "    </tr>\n",
       "    <tr>\n",
       "      <th>3</th>\n",
       "      <td>27681</td>\n",
       "      <td>1984</td>\n",
       "      <td>Alfa Romeo</td>\n",
       "      <td>Spider Veloce 2000</td>\n",
       "      <td>Two Seaters</td>\n",
       "      <td>NaN</td>\n",
       "      <td>Manual 5-Speed</td>\n",
       "      <td>NaN</td>\n",
       "      <td>9006</td>\n",
       "      <td>(FFS) CA model</td>\n",
       "      <td>4.0</td>\n",
       "      <td>2.0</td>\n",
       "      <td>NaN</td>\n",
       "      <td>NaN</td>\n",
       "      <td>Regular</td>\n",
       "      <td>Regular Gasoline</td>\n",
       "      <td>NaN</td>\n",
       "      <td>21</td>\n",
       "      <td>0</td>\n",
       "    </tr>\n",
       "    <tr>\n",
       "      <th>4</th>\n",
       "      <td>27550</td>\n",
       "      <td>1984</td>\n",
       "      <td>AM General</td>\n",
       "      <td>DJ Po Vehicle 2WD</td>\n",
       "      <td>Special Purpose Vehicle 2WD</td>\n",
       "      <td>2-Wheel Drive</td>\n",
       "      <td>Automatic 3-Speed</td>\n",
       "      <td>NaN</td>\n",
       "      <td>1830</td>\n",
       "      <td>(FFS)</td>\n",
       "      <td>4.0</td>\n",
       "      <td>2.5</td>\n",
       "      <td>NaN</td>\n",
       "      <td>NaN</td>\n",
       "      <td>Regular</td>\n",
       "      <td>Regular Gasoline</td>\n",
       "      <td>NaN</td>\n",
       "      <td>17</td>\n",
       "      <td>0</td>\n",
       "    </tr>\n",
       "  </tbody>\n",
       "</table>\n",
       "</div>"
      ],
      "text/plain": [
       "   Vehicle ID  Year        Make               Model  \\\n",
       "0       26587  1984  Alfa Romeo           GT V6 2.5   \n",
       "1       27705  1984  Alfa Romeo           GT V6 2.5   \n",
       "2       26561  1984  Alfa Romeo  Spider Veloce 2000   \n",
       "3       27681  1984  Alfa Romeo  Spider Veloce 2000   \n",
       "4       27550  1984  AM General   DJ Po Vehicle 2WD   \n",
       "\n",
       "                         Class          Drive       Transmission  \\\n",
       "0             Minicompact Cars            NaN     Manual 5-Speed   \n",
       "1             Minicompact Cars            NaN     Manual 5-Speed   \n",
       "2                  Two Seaters            NaN     Manual 5-Speed   \n",
       "3                  Two Seaters            NaN     Manual 5-Speed   \n",
       "4  Special Purpose Vehicle 2WD  2-Wheel Drive  Automatic 3-Speed   \n",
       "\n",
       "  Transmission Descriptor  Engine Index Engine Descriptor  Engine Cylinders  \\\n",
       "0                     NaN          9001             (FFS)               6.0   \n",
       "1                     NaN          9005    (FFS) CA model               6.0   \n",
       "2                     NaN          9002             (FFS)               4.0   \n",
       "3                     NaN          9006    (FFS) CA model               4.0   \n",
       "4                     NaN          1830             (FFS)               4.0   \n",
       "\n",
       "   Engine Displacement Turbocharger Supercharger Fuel Type       Fuel Type 1  \\\n",
       "0                  2.5          NaN          NaN   Regular  Regular Gasoline   \n",
       "1                  2.5          NaN          NaN   Regular  Regular Gasoline   \n",
       "2                  2.0          NaN          NaN   Regular  Regular Gasoline   \n",
       "3                  2.0          NaN          NaN   Regular  Regular Gasoline   \n",
       "4                  2.5          NaN          NaN   Regular  Regular Gasoline   \n",
       "\n",
       "  Fuel Type 2  Combined MPG (FT1)  Combined MPG (FT2)  \n",
       "0         NaN                  20                   0  \n",
       "1         NaN                  20                   0  \n",
       "2         NaN                  21                   0  \n",
       "3         NaN                  21                   0  \n",
       "4         NaN                  17                   0  "
      ]
     },
     "execution_count": 6,
     "metadata": {},
     "output_type": "execute_result"
    }
   ],
   "source": [
    "cars.head()"
   ]
  },
  {
   "cell_type": "code",
   "execution_count": 7,
   "metadata": {},
   "outputs": [
    {
     "data": {
      "text/html": [
       "<div>\n",
       "<style scoped>\n",
       "    .dataframe tbody tr th:only-of-type {\n",
       "        vertical-align: middle;\n",
       "    }\n",
       "\n",
       "    .dataframe tbody tr th {\n",
       "        vertical-align: top;\n",
       "    }\n",
       "\n",
       "    .dataframe thead th {\n",
       "        text-align: right;\n",
       "    }\n",
       "</style>\n",
       "<table border=\"1\" class=\"dataframe\">\n",
       "  <thead>\n",
       "    <tr style=\"text-align: right;\">\n",
       "      <th></th>\n",
       "      <th>Vehicle ID</th>\n",
       "      <th>Year</th>\n",
       "      <th>Make</th>\n",
       "      <th>Model</th>\n",
       "      <th>Class</th>\n",
       "      <th>Drive</th>\n",
       "      <th>Transmission</th>\n",
       "      <th>Transmission Descriptor</th>\n",
       "      <th>Engine Index</th>\n",
       "      <th>Engine Descriptor</th>\n",
       "      <th>Engine Cylinders</th>\n",
       "      <th>Engine Displacement</th>\n",
       "      <th>Turbocharger</th>\n",
       "      <th>Supercharger</th>\n",
       "      <th>Fuel Type</th>\n",
       "      <th>Fuel Type 1</th>\n",
       "      <th>Fuel Type 2</th>\n",
       "      <th>Combined MPG (FT1)</th>\n",
       "      <th>Combined MPG (FT2)</th>\n",
       "    </tr>\n",
       "  </thead>\n",
       "  <tbody>\n",
       "    <tr>\n",
       "      <th>38108</th>\n",
       "      <td>37564</td>\n",
       "      <td>2017</td>\n",
       "      <td>Volvo</td>\n",
       "      <td>XC60 FWD</td>\n",
       "      <td>Small Sport Utility Vehicle 2WD</td>\n",
       "      <td>Front-Wheel Drive</td>\n",
       "      <td>Automatic (S8)</td>\n",
       "      <td>NaN</td>\n",
       "      <td>90</td>\n",
       "      <td>SIDI</td>\n",
       "      <td>4.0</td>\n",
       "      <td>2.0</td>\n",
       "      <td>T</td>\n",
       "      <td>NaN</td>\n",
       "      <td>Regular</td>\n",
       "      <td>Regular Gasoline</td>\n",
       "      <td>NaN</td>\n",
       "      <td>26</td>\n",
       "      <td>0</td>\n",
       "    </tr>\n",
       "    <tr>\n",
       "      <th>38109</th>\n",
       "      <td>37547</td>\n",
       "      <td>2017</td>\n",
       "      <td>Volvo</td>\n",
       "      <td>XC90 AWD</td>\n",
       "      <td>Standard Sport Utility Vehicle 4WD</td>\n",
       "      <td>All-Wheel Drive</td>\n",
       "      <td>Automatic (S8)</td>\n",
       "      <td>NaN</td>\n",
       "      <td>52</td>\n",
       "      <td>SIDI</td>\n",
       "      <td>4.0</td>\n",
       "      <td>2.0</td>\n",
       "      <td>T</td>\n",
       "      <td>S</td>\n",
       "      <td>Premium</td>\n",
       "      <td>Premium Gasoline</td>\n",
       "      <td>NaN</td>\n",
       "      <td>22</td>\n",
       "      <td>0</td>\n",
       "    </tr>\n",
       "    <tr>\n",
       "      <th>38110</th>\n",
       "      <td>37548</td>\n",
       "      <td>2017</td>\n",
       "      <td>Volvo</td>\n",
       "      <td>XC90 AWD</td>\n",
       "      <td>Standard Sport Utility Vehicle 4WD</td>\n",
       "      <td>All-Wheel Drive</td>\n",
       "      <td>Automatic (S8)</td>\n",
       "      <td>NaN</td>\n",
       "      <td>53</td>\n",
       "      <td>SIDI</td>\n",
       "      <td>4.0</td>\n",
       "      <td>2.0</td>\n",
       "      <td>T</td>\n",
       "      <td>NaN</td>\n",
       "      <td>Premium</td>\n",
       "      <td>Premium Gasoline</td>\n",
       "      <td>NaN</td>\n",
       "      <td>23</td>\n",
       "      <td>0</td>\n",
       "    </tr>\n",
       "    <tr>\n",
       "      <th>38111</th>\n",
       "      <td>37703</td>\n",
       "      <td>2017</td>\n",
       "      <td>Volvo</td>\n",
       "      <td>XC90 AWD PHEV</td>\n",
       "      <td>Standard Sport Utility Vehicle 4WD</td>\n",
       "      <td>All-Wheel Drive</td>\n",
       "      <td>Automatic (S8)</td>\n",
       "      <td>NaN</td>\n",
       "      <td>54</td>\n",
       "      <td>SIDI; PHEV</td>\n",
       "      <td>4.0</td>\n",
       "      <td>2.0</td>\n",
       "      <td>T</td>\n",
       "      <td>S</td>\n",
       "      <td>Premium and Electricity</td>\n",
       "      <td>Premium Gasoline</td>\n",
       "      <td>Electricity</td>\n",
       "      <td>25</td>\n",
       "      <td>54</td>\n",
       "    </tr>\n",
       "    <tr>\n",
       "      <th>38112</th>\n",
       "      <td>37687</td>\n",
       "      <td>2017</td>\n",
       "      <td>Volvo</td>\n",
       "      <td>XC90 FWD</td>\n",
       "      <td>Standard Sport Utility Vehicle 2WD</td>\n",
       "      <td>Front-Wheel Drive</td>\n",
       "      <td>Automatic (S8)</td>\n",
       "      <td>NaN</td>\n",
       "      <td>50</td>\n",
       "      <td>SIDI</td>\n",
       "      <td>4.0</td>\n",
       "      <td>2.0</td>\n",
       "      <td>T</td>\n",
       "      <td>NaN</td>\n",
       "      <td>Premium</td>\n",
       "      <td>Premium Gasoline</td>\n",
       "      <td>NaN</td>\n",
       "      <td>24</td>\n",
       "      <td>0</td>\n",
       "    </tr>\n",
       "  </tbody>\n",
       "</table>\n",
       "</div>"
      ],
      "text/plain": [
       "       Vehicle ID  Year   Make          Model  \\\n",
       "38108       37564  2017  Volvo       XC60 FWD   \n",
       "38109       37547  2017  Volvo       XC90 AWD   \n",
       "38110       37548  2017  Volvo       XC90 AWD   \n",
       "38111       37703  2017  Volvo  XC90 AWD PHEV   \n",
       "38112       37687  2017  Volvo       XC90 FWD   \n",
       "\n",
       "                                    Class              Drive    Transmission  \\\n",
       "38108     Small Sport Utility Vehicle 2WD  Front-Wheel Drive  Automatic (S8)   \n",
       "38109  Standard Sport Utility Vehicle 4WD    All-Wheel Drive  Automatic (S8)   \n",
       "38110  Standard Sport Utility Vehicle 4WD    All-Wheel Drive  Automatic (S8)   \n",
       "38111  Standard Sport Utility Vehicle 4WD    All-Wheel Drive  Automatic (S8)   \n",
       "38112  Standard Sport Utility Vehicle 2WD  Front-Wheel Drive  Automatic (S8)   \n",
       "\n",
       "      Transmission Descriptor  Engine Index Engine Descriptor  \\\n",
       "38108                     NaN            90              SIDI   \n",
       "38109                     NaN            52              SIDI   \n",
       "38110                     NaN            53              SIDI   \n",
       "38111                     NaN            54        SIDI; PHEV   \n",
       "38112                     NaN            50              SIDI   \n",
       "\n",
       "       Engine Cylinders  Engine Displacement Turbocharger Supercharger  \\\n",
       "38108               4.0                  2.0            T          NaN   \n",
       "38109               4.0                  2.0            T            S   \n",
       "38110               4.0                  2.0            T          NaN   \n",
       "38111               4.0                  2.0            T            S   \n",
       "38112               4.0                  2.0            T          NaN   \n",
       "\n",
       "                     Fuel Type       Fuel Type 1  Fuel Type 2  \\\n",
       "38108                  Regular  Regular Gasoline          NaN   \n",
       "38109                  Premium  Premium Gasoline          NaN   \n",
       "38110                  Premium  Premium Gasoline          NaN   \n",
       "38111  Premium and Electricity  Premium Gasoline  Electricity   \n",
       "38112                  Premium  Premium Gasoline          NaN   \n",
       "\n",
       "       Combined MPG (FT1)  Combined MPG (FT2)  \n",
       "38108                  26                   0  \n",
       "38109                  22                   0  \n",
       "38110                  23                   0  \n",
       "38111                  25                  54  \n",
       "38112                  24                   0  "
      ]
     },
     "execution_count": 7,
     "metadata": {},
     "output_type": "execute_result"
    }
   ],
   "source": [
    "cars.tail()"
   ]
  },
  {
   "attachments": {},
   "cell_type": "markdown",
   "metadata": {},
   "source": [
    "## Early Observations\n",
    "- Supercharger, Drive, Transmission Descriptor, and Turbocharger have some missing values\n",
    "- Missing values for Fuel type 2 could correspond to whether it's an electric car\n",
    "- There is a mix of numeric and categorical columns\n",
    "- The MPG column is a integer value whereas Engine Cylinders and Engine Displacement are not. Doesn't make sense for Engine Cylinders to be a decimal value, will require further investigation\n",
    "- Turbocharger and Supercharger only seem to have two values (missing or T/S)\n",
    "- Possible duplication of vehicles (at least when looking at the columns of interest)\n"
   ]
  },
  {
   "cell_type": "code",
   "execution_count": 8,
   "metadata": {},
   "outputs": [
    {
     "name": "stdout",
     "output_type": "stream",
     "text": [
      "<class 'pandas.core.frame.DataFrame'>\n",
      "RangeIndex: 38113 entries, 0 to 38112\n",
      "Data columns (total 19 columns):\n",
      " #   Column                   Non-Null Count  Dtype  \n",
      "---  ------                   --------------  -----  \n",
      " 0   Vehicle ID               38113 non-null  int64  \n",
      " 1   Year                     38113 non-null  int64  \n",
      " 2   Make                     38113 non-null  object \n",
      " 3   Model                    38113 non-null  object \n",
      " 4   Class                    38113 non-null  object \n",
      " 5   Drive                    36924 non-null  object \n",
      " 6   Transmission             38102 non-null  object \n",
      " 7   Transmission Descriptor  15045 non-null  object \n",
      " 8   Engine Index             38113 non-null  int64  \n",
      " 9   Engine Descriptor        22693 non-null  object \n",
      " 10  Engine Cylinders         37977 non-null  float64\n",
      " 11  Engine Displacement      37979 non-null  float64\n",
      " 12  Turbocharger             5239 non-null   object \n",
      " 13  Supercharger             693 non-null    object \n",
      " 14  Fuel Type                38113 non-null  object \n",
      " 15  Fuel Type 1              38113 non-null  object \n",
      " 16  Fuel Type 2              1438 non-null   object \n",
      " 17  Combined MPG (FT1)       38113 non-null  int64  \n",
      " 18  Combined MPG (FT2)       38113 non-null  int64  \n",
      "dtypes: float64(2), int64(5), object(12)\n",
      "memory usage: 5.5+ MB\n"
     ]
    }
   ],
   "source": [
    "cars.info()"
   ]
  },
  {
   "attachments": {},
   "cell_type": "markdown",
   "metadata": {},
   "source": [
    "Some columns have a lot of missing values. We will need to figure out what to do with these values later one. We also see here confirmed that all values in certain columns are of the same type."
   ]
  },
  {
   "cell_type": "code",
   "execution_count": 9,
   "metadata": {},
   "outputs": [
    {
     "data": {
      "text/html": [
       "<div>\n",
       "<style scoped>\n",
       "    .dataframe tbody tr th:only-of-type {\n",
       "        vertical-align: middle;\n",
       "    }\n",
       "\n",
       "    .dataframe tbody tr th {\n",
       "        vertical-align: top;\n",
       "    }\n",
       "\n",
       "    .dataframe thead th {\n",
       "        text-align: right;\n",
       "    }\n",
       "</style>\n",
       "<table border=\"1\" class=\"dataframe\">\n",
       "  <thead>\n",
       "    <tr style=\"text-align: right;\">\n",
       "      <th></th>\n",
       "      <th>Vehicle ID</th>\n",
       "      <th>Year</th>\n",
       "      <th>Engine Index</th>\n",
       "      <th>Engine Cylinders</th>\n",
       "      <th>Engine Displacement</th>\n",
       "      <th>Combined MPG (FT1)</th>\n",
       "      <th>Combined MPG (FT2)</th>\n",
       "    </tr>\n",
       "  </thead>\n",
       "  <tbody>\n",
       "    <tr>\n",
       "      <th>count</th>\n",
       "      <td>38113.000000</td>\n",
       "      <td>38113.000000</td>\n",
       "      <td>38113.000000</td>\n",
       "      <td>37977.000000</td>\n",
       "      <td>37979.000000</td>\n",
       "      <td>38113.000000</td>\n",
       "      <td>38113.00000</td>\n",
       "    </tr>\n",
       "    <tr>\n",
       "      <th>mean</th>\n",
       "      <td>19170.638496</td>\n",
       "      <td>2000.194527</td>\n",
       "      <td>8799.389001</td>\n",
       "      <td>5.736656</td>\n",
       "      <td>3.317583</td>\n",
       "      <td>20.216068</td>\n",
       "      <td>0.60688</td>\n",
       "    </tr>\n",
       "    <tr>\n",
       "      <th>std</th>\n",
       "      <td>11134.878665</td>\n",
       "      <td>10.464573</td>\n",
       "      <td>17781.058490</td>\n",
       "      <td>1.752254</td>\n",
       "      <td>1.361995</td>\n",
       "      <td>6.772655</td>\n",
       "      <td>4.21010</td>\n",
       "    </tr>\n",
       "    <tr>\n",
       "      <th>min</th>\n",
       "      <td>1.000000</td>\n",
       "      <td>1984.000000</td>\n",
       "      <td>0.000000</td>\n",
       "      <td>2.000000</td>\n",
       "      <td>0.000000</td>\n",
       "      <td>7.000000</td>\n",
       "      <td>0.00000</td>\n",
       "    </tr>\n",
       "    <tr>\n",
       "      <th>25%</th>\n",
       "      <td>9529.000000</td>\n",
       "      <td>1991.000000</td>\n",
       "      <td>0.000000</td>\n",
       "      <td>4.000000</td>\n",
       "      <td>2.200000</td>\n",
       "      <td>17.000000</td>\n",
       "      <td>0.00000</td>\n",
       "    </tr>\n",
       "    <tr>\n",
       "      <th>50%</th>\n",
       "      <td>19058.000000</td>\n",
       "      <td>2001.000000</td>\n",
       "      <td>212.000000</td>\n",
       "      <td>6.000000</td>\n",
       "      <td>3.000000</td>\n",
       "      <td>19.000000</td>\n",
       "      <td>0.00000</td>\n",
       "    </tr>\n",
       "    <tr>\n",
       "      <th>75%</th>\n",
       "      <td>28779.000000</td>\n",
       "      <td>2009.000000</td>\n",
       "      <td>4451.000000</td>\n",
       "      <td>6.000000</td>\n",
       "      <td>4.300000</td>\n",
       "      <td>23.000000</td>\n",
       "      <td>0.00000</td>\n",
       "    </tr>\n",
       "    <tr>\n",
       "      <th>max</th>\n",
       "      <td>38542.000000</td>\n",
       "      <td>2017.000000</td>\n",
       "      <td>69102.000000</td>\n",
       "      <td>16.000000</td>\n",
       "      <td>8.400000</td>\n",
       "      <td>136.000000</td>\n",
       "      <td>133.00000</td>\n",
       "    </tr>\n",
       "  </tbody>\n",
       "</table>\n",
       "</div>"
      ],
      "text/plain": [
       "         Vehicle ID          Year  Engine Index  Engine Cylinders  \\\n",
       "count  38113.000000  38113.000000  38113.000000      37977.000000   \n",
       "mean   19170.638496   2000.194527   8799.389001          5.736656   \n",
       "std    11134.878665     10.464573  17781.058490          1.752254   \n",
       "min        1.000000   1984.000000      0.000000          2.000000   \n",
       "25%     9529.000000   1991.000000      0.000000          4.000000   \n",
       "50%    19058.000000   2001.000000    212.000000          6.000000   \n",
       "75%    28779.000000   2009.000000   4451.000000          6.000000   \n",
       "max    38542.000000   2017.000000  69102.000000         16.000000   \n",
       "\n",
       "       Engine Displacement  Combined MPG (FT1)  Combined MPG (FT2)  \n",
       "count         37979.000000        38113.000000         38113.00000  \n",
       "mean              3.317583           20.216068             0.60688  \n",
       "std               1.361995            6.772655             4.21010  \n",
       "min               0.000000            7.000000             0.00000  \n",
       "25%               2.200000           17.000000             0.00000  \n",
       "50%               3.000000           19.000000             0.00000  \n",
       "75%               4.300000           23.000000             0.00000  \n",
       "max               8.400000          136.000000           133.00000  "
      ]
     },
     "execution_count": 9,
     "metadata": {},
     "output_type": "execute_result"
    }
   ],
   "source": [
    "cars.describe()"
   ]
  },
  {
   "attachments": {},
   "cell_type": "markdown",
   "metadata": {},
   "source": [
    "We can safely ignore Vehicle ID and Engine Index values as these don't mean anything. As for Year we can confirm that the data is for the period 1984 and 2017.\n",
    "\n",
    "All prior information about the data is an assumption until confirmed by the data\n",
    "\n",
    "Looking at Engine Cylinders and MPG we may have an outlier that we have to deal with. Finally, in the Engine Displacement column we see a minimum of zero which may point to an error."
   ]
  },
  {
   "attachments": {},
   "cell_type": "markdown",
   "metadata": {},
   "source": [
    "### Duplicates"
   ]
  },
  {
   "cell_type": "code",
   "execution_count": 10,
   "metadata": {},
   "outputs": [
    {
     "data": {
      "text/plain": [
       "15016"
      ]
     },
     "execution_count": 10,
     "metadata": {},
     "output_type": "execute_result"
    }
   ],
   "source": [
    "id_cols = ['Make', 'Model', 'Class', 'Drive', 'Transmission',\n",
    "            'Transmission Descriptor', 'Engine Descriptor',\n",
    "           'Engine Cylinders', 'Engine Displacement', 'Turbocharger',\n",
    "           'Supercharger', 'Fuel Type', 'Fuel Type 1', 'Fuel Type 2',\n",
    "            'Combined MPG (FT1)', 'Combined MPG (FT2)']\n",
    "\n",
    "duplicates = cars.duplicated(subset=id_cols)\n",
    "duplicates.sum()"
   ]
  },
  {
   "cell_type": "code",
   "execution_count": 11,
   "metadata": {},
   "outputs": [
    {
     "data": {
      "text/html": [
       "<div>\n",
       "<style scoped>\n",
       "    .dataframe tbody tr th:only-of-type {\n",
       "        vertical-align: middle;\n",
       "    }\n",
       "\n",
       "    .dataframe tbody tr th {\n",
       "        vertical-align: top;\n",
       "    }\n",
       "\n",
       "    .dataframe thead th {\n",
       "        text-align: right;\n",
       "    }\n",
       "</style>\n",
       "<table border=\"1\" class=\"dataframe\">\n",
       "  <thead>\n",
       "    <tr style=\"text-align: right;\">\n",
       "      <th></th>\n",
       "      <th>Vehicle ID</th>\n",
       "      <th>Year</th>\n",
       "      <th>Make</th>\n",
       "      <th>Model</th>\n",
       "      <th>Class</th>\n",
       "      <th>Drive</th>\n",
       "      <th>Transmission</th>\n",
       "      <th>Transmission Descriptor</th>\n",
       "      <th>Engine Index</th>\n",
       "      <th>Engine Descriptor</th>\n",
       "      <th>Engine Cylinders</th>\n",
       "      <th>Engine Displacement</th>\n",
       "      <th>Turbocharger</th>\n",
       "      <th>Supercharger</th>\n",
       "      <th>Fuel Type</th>\n",
       "      <th>Fuel Type 1</th>\n",
       "      <th>Fuel Type 2</th>\n",
       "      <th>Combined MPG (FT1)</th>\n",
       "      <th>Combined MPG (FT2)</th>\n",
       "    </tr>\n",
       "  </thead>\n",
       "  <tbody>\n",
       "    <tr>\n",
       "      <th>452</th>\n",
       "      <td>26972</td>\n",
       "      <td>1984</td>\n",
       "      <td>Chrysler</td>\n",
       "      <td>LeBaron</td>\n",
       "      <td>Midsize Cars</td>\n",
       "      <td>NaN</td>\n",
       "      <td>Automatic 3-Speed</td>\n",
       "      <td>NaN</td>\n",
       "      <td>2121</td>\n",
       "      <td>(FFS)</td>\n",
       "      <td>4.0</td>\n",
       "      <td>2.2</td>\n",
       "      <td>NaN</td>\n",
       "      <td>NaN</td>\n",
       "      <td>Regular</td>\n",
       "      <td>Regular Gasoline</td>\n",
       "      <td>NaN</td>\n",
       "      <td>22</td>\n",
       "      <td>0</td>\n",
       "    </tr>\n",
       "    <tr>\n",
       "      <th>457</th>\n",
       "      <td>28035</td>\n",
       "      <td>1984</td>\n",
       "      <td>Chrysler</td>\n",
       "      <td>LeBaron</td>\n",
       "      <td>Midsize Cars</td>\n",
       "      <td>NaN</td>\n",
       "      <td>Automatic 3-Speed</td>\n",
       "      <td>NaN</td>\n",
       "      <td>2126</td>\n",
       "      <td>(FFS) CA model</td>\n",
       "      <td>4.0</td>\n",
       "      <td>2.2</td>\n",
       "      <td>NaN</td>\n",
       "      <td>NaN</td>\n",
       "      <td>Regular</td>\n",
       "      <td>Regular Gasoline</td>\n",
       "      <td>NaN</td>\n",
       "      <td>21</td>\n",
       "      <td>0</td>\n",
       "    </tr>\n",
       "    <tr>\n",
       "      <th>469</th>\n",
       "      <td>27751</td>\n",
       "      <td>1984</td>\n",
       "      <td>Chrysler</td>\n",
       "      <td>LeBaron Convertible</td>\n",
       "      <td>Subcompact Cars</td>\n",
       "      <td>NaN</td>\n",
       "      <td>Automatic 3-Speed</td>\n",
       "      <td>NaN</td>\n",
       "      <td>2126</td>\n",
       "      <td>(FFS) CA model</td>\n",
       "      <td>4.0</td>\n",
       "      <td>2.2</td>\n",
       "      <td>NaN</td>\n",
       "      <td>NaN</td>\n",
       "      <td>Regular</td>\n",
       "      <td>Regular Gasoline</td>\n",
       "      <td>NaN</td>\n",
       "      <td>21</td>\n",
       "      <td>0</td>\n",
       "    </tr>\n",
       "    <tr>\n",
       "      <th>482</th>\n",
       "      <td>28046</td>\n",
       "      <td>1984</td>\n",
       "      <td>Dodge</td>\n",
       "      <td>600</td>\n",
       "      <td>Midsize Cars</td>\n",
       "      <td>NaN</td>\n",
       "      <td>Automatic 3-Speed</td>\n",
       "      <td>NaN</td>\n",
       "      <td>2125</td>\n",
       "      <td>(FFS) CA model</td>\n",
       "      <td>4.0</td>\n",
       "      <td>2.2</td>\n",
       "      <td>NaN</td>\n",
       "      <td>NaN</td>\n",
       "      <td>Regular</td>\n",
       "      <td>Regular Gasoline</td>\n",
       "      <td>NaN</td>\n",
       "      <td>21</td>\n",
       "      <td>0</td>\n",
       "    </tr>\n",
       "    <tr>\n",
       "      <th>497</th>\n",
       "      <td>27784</td>\n",
       "      <td>1984</td>\n",
       "      <td>Dodge</td>\n",
       "      <td>600 Convertible</td>\n",
       "      <td>Subcompact Cars</td>\n",
       "      <td>NaN</td>\n",
       "      <td>Automatic 3-Speed</td>\n",
       "      <td>NaN</td>\n",
       "      <td>2126</td>\n",
       "      <td>(FFS) CA model</td>\n",
       "      <td>4.0</td>\n",
       "      <td>2.2</td>\n",
       "      <td>NaN</td>\n",
       "      <td>NaN</td>\n",
       "      <td>Regular</td>\n",
       "      <td>Regular Gasoline</td>\n",
       "      <td>NaN</td>\n",
       "      <td>21</td>\n",
       "      <td>0</td>\n",
       "    </tr>\n",
       "  </tbody>\n",
       "</table>\n",
       "</div>"
      ],
      "text/plain": [
       "     Vehicle ID  Year      Make                Model            Class Drive  \\\n",
       "452       26972  1984  Chrysler              LeBaron     Midsize Cars   NaN   \n",
       "457       28035  1984  Chrysler              LeBaron     Midsize Cars   NaN   \n",
       "469       27751  1984  Chrysler  LeBaron Convertible  Subcompact Cars   NaN   \n",
       "482       28046  1984     Dodge                  600     Midsize Cars   NaN   \n",
       "497       27784  1984     Dodge      600 Convertible  Subcompact Cars   NaN   \n",
       "\n",
       "          Transmission Transmission Descriptor  Engine Index  \\\n",
       "452  Automatic 3-Speed                     NaN          2121   \n",
       "457  Automatic 3-Speed                     NaN          2126   \n",
       "469  Automatic 3-Speed                     NaN          2126   \n",
       "482  Automatic 3-Speed                     NaN          2125   \n",
       "497  Automatic 3-Speed                     NaN          2126   \n",
       "\n",
       "    Engine Descriptor  Engine Cylinders  Engine Displacement Turbocharger  \\\n",
       "452             (FFS)               4.0                  2.2          NaN   \n",
       "457    (FFS) CA model               4.0                  2.2          NaN   \n",
       "469    (FFS) CA model               4.0                  2.2          NaN   \n",
       "482    (FFS) CA model               4.0                  2.2          NaN   \n",
       "497    (FFS) CA model               4.0                  2.2          NaN   \n",
       "\n",
       "    Supercharger Fuel Type       Fuel Type 1 Fuel Type 2  Combined MPG (FT1)  \\\n",
       "452          NaN   Regular  Regular Gasoline         NaN                  22   \n",
       "457          NaN   Regular  Regular Gasoline         NaN                  21   \n",
       "469          NaN   Regular  Regular Gasoline         NaN                  21   \n",
       "482          NaN   Regular  Regular Gasoline         NaN                  21   \n",
       "497          NaN   Regular  Regular Gasoline         NaN                  21   \n",
       "\n",
       "     Combined MPG (FT2)  \n",
       "452                   0  \n",
       "457                   0  \n",
       "469                   0  \n",
       "482                   0  \n",
       "497                   0  "
      ]
     },
     "execution_count": 11,
     "metadata": {},
     "output_type": "execute_result"
    }
   ],
   "source": [
    "cars[duplicates].head()"
   ]
  },
  {
   "cell_type": "code",
   "execution_count": 12,
   "metadata": {},
   "outputs": [
    {
     "data": {
      "text/plain": [
       "(23097, 19)"
      ]
     },
     "execution_count": 12,
     "metadata": {},
     "output_type": "execute_result"
    }
   ],
   "source": [
    "cars_dedup = cars.drop_duplicates(subset=id_cols)\n",
    "cars_dedup.shape"
   ]
  },
  {
   "attachments": {},
   "cell_type": "markdown",
   "metadata": {},
   "source": [
    "## Categorical Values\n",
    "Summarize categorical values by looking at their counts.\n"
   ]
  },
  {
   "cell_type": "code",
   "execution_count": 13,
   "metadata": {},
   "outputs": [
    {
     "data": {
      "text/plain": [
       "Chevrolet                 3810\n",
       "Ford                      3155\n",
       "Dodge                     2531\n",
       "GMC                       2398\n",
       "Toyota                    1937\n",
       "                          ... \n",
       "Mahindra                     1\n",
       "Panoz Auto-Development       1\n",
       "London Coach Co Inc          1\n",
       "Excalibur Autos              1\n",
       "Panos                        1\n",
       "Name: Make, Length: 133, dtype: int64"
      ]
     },
     "execution_count": 13,
     "metadata": {},
     "output_type": "execute_result"
    }
   ],
   "source": [
    "cars['Make'].value_counts()\n"
   ]
  },
  {
   "attachments": {},
   "cell_type": "markdown",
   "metadata": {},
   "source": [
    "`Make` and `Model` are very specific, meaning there are a lot of possible values. This makes it hard for any algorithm to extract information that is generally applicable. For example if a new car maker appears, how should the algorithm deal with that if it hasn't seen it before. Instead it's better to look at variables that do generalize."
   ]
  },
  {
   "cell_type": "code",
   "execution_count": 14,
   "metadata": {},
   "outputs": [
    {
     "data": {
      "text/plain": [
       "Compact Cars                          5508\n",
       "Subcompact Cars                       4872\n",
       "Midsize Cars                          4395\n",
       "Standard Pickup Trucks                2354\n",
       "Sport Utility Vehicle - 4WD           2082\n",
       "Large Cars                            1891\n",
       "Two Seaters                           1886\n",
       "Sport Utility Vehicle - 2WD           1627\n",
       "Small Station Wagons                  1499\n",
       "Special Purpose Vehicles              1455\n",
       "Minicompact Cars                      1260\n",
       "Standard Pickup Trucks 2WD            1177\n",
       "Vans                                  1141\n",
       "Standard Pickup Trucks 4WD             986\n",
       "Midsize-Large Station Wagons           656\n",
       "Special Purpose Vehicle 2WD            613\n",
       "Small Pickup Trucks                    538\n",
       "Small Sport Utility Vehicle 4WD        526\n",
       "Midsize Station Wagons                 523\n",
       "Vans, Cargo Type                       438\n",
       "Small Pickup Trucks 2WD                436\n",
       "Standard Sport Utility Vehicle 4WD     434\n",
       "Small Sport Utility Vehicle 2WD        403\n",
       "Minivan - 2WD                          342\n",
       "Vans, Passenger Type                   311\n",
       "Special Purpose Vehicle 4WD            302\n",
       "Small Pickup Trucks 4WD                218\n",
       "Standard Sport Utility Vehicle 2WD     182\n",
       "Minivan - 4WD                           47\n",
       "Standard Pickup Trucks/2wd               4\n",
       "Special Purpose Vehicles/2wd             2\n",
       "Vans Passenger                           2\n",
       "Special Purpose Vehicles/4wd             2\n",
       "Special Purpose Vehicle                  1\n",
       "Name: Class, dtype: int64"
      ]
     },
     "execution_count": 14,
     "metadata": {},
     "output_type": "execute_result"
    }
   ],
   "source": [
    "cars['Class'].value_counts()"
   ]
  },
  {
   "attachments": {},
   "cell_type": "markdown",
   "metadata": {},
   "source": [
    "There's a reasonable amount of values here but any algorithm will still have trouble learning anything from the values that only have a handful of observations. Possible solutions are to either ignore or combine these values."
   ]
  },
  {
   "cell_type": "code",
   "execution_count": 15,
   "metadata": {},
   "outputs": [
    {
     "data": {
      "text/plain": [
       "Front-Wheel Drive             13351\n",
       "Rear-Wheel Drive              13018\n",
       "4-Wheel or All-Wheel Drive     6648\n",
       "All-Wheel Drive                2121\n",
       "NaN                            1189\n",
       "4-Wheel Drive                  1103\n",
       "2-Wheel Drive                   507\n",
       "Part-time 4-Wheel Drive         176\n",
       "Name: Drive, dtype: int64"
      ]
     },
     "execution_count": 15,
     "metadata": {},
     "output_type": "execute_result"
    }
   ],
   "source": [
    "# remember Drive had a few missing values\n",
    "cars['Drive'].value_counts(dropna=False)"
   ]
  },
  {
   "cell_type": "code",
   "execution_count": 16,
   "metadata": {},
   "outputs": [
    {
     "data": {
      "text/plain": [
       "NaN    32874\n",
       "T       5239\n",
       "Name: Turbocharger, dtype: int64"
      ]
     },
     "execution_count": 16,
     "metadata": {},
     "output_type": "execute_result"
    }
   ],
   "source": [
    "cars['Turbocharger'].value_counts(dropna=False)"
   ]
  },
  {
   "cell_type": "code",
   "execution_count": 17,
   "metadata": {},
   "outputs": [
    {
     "data": {
      "text/plain": [
       "NaN    37420\n",
       "S        693\n",
       "Name: Supercharger, dtype: int64"
      ]
     },
     "execution_count": 17,
     "metadata": {},
     "output_type": "execute_result"
    }
   ],
   "source": [
    "cars['Supercharger'].value_counts(dropna=False)"
   ]
  },
  {
   "attachments": {},
   "cell_type": "markdown",
   "metadata": {},
   "source": [
    "When a column is majority missing values you have to wonder if it is of any use to include it."
   ]
  },
  {
   "cell_type": "code",
   "execution_count": 18,
   "metadata": {},
   "outputs": [
    {
     "data": {
      "text/plain": [
       "Regular                        25258\n",
       "Premium                        10133\n",
       "Gasoline or E85                 1223\n",
       "Diesel                          1014\n",
       "Electricity                      133\n",
       "Premium or E85                   122\n",
       "Midgrade                          77\n",
       "CNG                               60\n",
       "Premium and Electricity           25\n",
       "Gasoline or natural gas           20\n",
       "Regular Gas and Electricity       20\n",
       "Premium Gas or Electricity        18\n",
       "Gasoline or propane                8\n",
       "Regular Gas or Electricity         2\n",
       "Name: Fuel Type, dtype: int64"
      ]
     },
     "execution_count": 18,
     "metadata": {},
     "output_type": "execute_result"
    }
   ],
   "source": [
    "cars['Fuel Type'].value_counts()"
   ]
  },
  {
   "attachments": {},
   "cell_type": "markdown",
   "metadata": {},
   "source": [
    "## Numerical values"
   ]
  },
  {
   "attachments": {},
   "cell_type": "markdown",
   "metadata": {},
   "source": [
    "We looked at summary statistics for the numerical values but we can go a little deeper by looking at the distribution of values."
   ]
  },
  {
   "cell_type": "code",
   "execution_count": 19,
   "metadata": {},
   "outputs": [
    {
     "data": {
      "image/png": "[encoded data removed]",
      "text/plain": [
       "<Figure size 1152x576 with 9 Axes>"
      ]
     },
     "metadata": {
      "needs_background": "light"
     },
     "output_type": "display_data"
    }
   ],
   "source": [
    "histograms = cars.hist(figsize=(16,8))\n"
   ]
  },
  {
   "attachments": {},
   "cell_type": "markdown",
   "metadata": {},
   "source": [
    "## Observations\n",
    "Note that we will ignore Vehicle ID and Engine Index as we have stated before."
   ]
  },
  {
   "attachments": {},
   "cell_type": "markdown",
   "metadata": {},
   "source": [
    "### Obervation 1\n",
    "Most cars have 4 or 6 cylinders. We see a few that have 12 and 10 but the one that has 16 or 2 cylinders is odd."
   ]
  },
  {
   "cell_type": "code",
   "execution_count": 20,
   "metadata": {},
   "outputs": [
    {
     "data": {
      "text/plain": [
       "array(['Jaguar', 'Lamborghini', 'Ferrari', 'BMW', 'J.K. Motors',\n",
       "       'Wallace Environmental', 'Mercedes-Benz', 'Vector', 'Rolls-Royce',\n",
       "       'Aston Martin', 'Bentley', 'Maybach', 'Volkswagen', 'Audi',\n",
       "       'Bugatti', 'Pagani'], dtype=object)"
      ]
     },
     "execution_count": 20,
     "metadata": {},
     "output_type": "execute_result"
    }
   ],
   "source": [
    "cars[cars['Engine Cylinders'] > 10]['Make'].unique()"
   ]
  },
  {
   "cell_type": "code",
   "execution_count": 21,
   "metadata": {},
   "outputs": [
    {
     "data": {
      "text/html": [
       "<div>\n",
       "<style scoped>\n",
       "    .dataframe tbody tr th:only-of-type {\n",
       "        vertical-align: middle;\n",
       "    }\n",
       "\n",
       "    .dataframe tbody tr th {\n",
       "        vertical-align: top;\n",
       "    }\n",
       "\n",
       "    .dataframe thead th {\n",
       "        text-align: right;\n",
       "    }\n",
       "</style>\n",
       "<table border=\"1\" class=\"dataframe\">\n",
       "  <thead>\n",
       "    <tr style=\"text-align: right;\">\n",
       "      <th></th>\n",
       "      <th>Model</th>\n",
       "      <th>Engine Cylinders</th>\n",
       "      <th>Class</th>\n",
       "    </tr>\n",
       "  </thead>\n",
       "  <tbody>\n",
       "    <tr>\n",
       "      <th>10606</th>\n",
       "      <td>Wetl 412</td>\n",
       "      <td>12.0</td>\n",
       "      <td>Compact Cars</td>\n",
       "    </tr>\n",
       "    <tr>\n",
       "      <th>10614</th>\n",
       "      <td>Wetl Testarossa</td>\n",
       "      <td>12.0</td>\n",
       "      <td>Two Seaters</td>\n",
       "    </tr>\n",
       "    <tr>\n",
       "      <th>11726</th>\n",
       "      <td>Wetl 412</td>\n",
       "      <td>12.0</td>\n",
       "      <td>Compact Cars</td>\n",
       "    </tr>\n",
       "    <tr>\n",
       "      <th>11732</th>\n",
       "      <td>Wetl 600 SEL</td>\n",
       "      <td>12.0</td>\n",
       "      <td>Large Cars</td>\n",
       "    </tr>\n",
       "    <tr>\n",
       "      <th>11733</th>\n",
       "      <td>Wetl 850I</td>\n",
       "      <td>12.0</td>\n",
       "      <td>Subcompact Cars</td>\n",
       "    </tr>\n",
       "    <tr>\n",
       "      <th>11734</th>\n",
       "      <td>Wetl 850I</td>\n",
       "      <td>12.0</td>\n",
       "      <td>Subcompact Cars</td>\n",
       "    </tr>\n",
       "    <tr>\n",
       "      <th>11735</th>\n",
       "      <td>Wetl Testarossa</td>\n",
       "      <td>12.0</td>\n",
       "      <td>Two Seaters</td>\n",
       "    </tr>\n",
       "  </tbody>\n",
       "</table>\n",
       "</div>"
      ],
      "text/plain": [
       "                 Model  Engine Cylinders            Class\n",
       "10606         Wetl 412              12.0     Compact Cars\n",
       "10614  Wetl Testarossa              12.0      Two Seaters\n",
       "11726         Wetl 412              12.0     Compact Cars\n",
       "11732     Wetl 600 SEL              12.0       Large Cars\n",
       "11733        Wetl 850I              12.0  Subcompact Cars\n",
       "11734        Wetl 850I              12.0  Subcompact Cars\n",
       "11735  Wetl Testarossa              12.0      Two Seaters"
      ]
     },
     "execution_count": 21,
     "metadata": {},
     "output_type": "execute_result"
    }
   ],
   "source": [
    "cars[(cars['Make'] == 'Wallace Environmental')&(cars['Engine Cylinders'] > 10)][['Model', 'Engine Cylinders', 'Class']]"
   ]
  },
  {
   "cell_type": "code",
   "execution_count": 22,
   "metadata": {},
   "outputs": [
    {
     "data": {
      "text/plain": [
       "array(['Mazda', 'BMW'], dtype=object)"
      ]
     },
     "execution_count": 22,
     "metadata": {},
     "output_type": "execute_result"
    }
   ],
   "source": [
    "cars[cars['Engine Cylinders'] <=2 ]['Make'].unique()"
   ]
  },
  {
   "cell_type": "code",
   "execution_count": 23,
   "metadata": {},
   "outputs": [
    {
     "data": {
      "text/html": [
       "<div>\n",
       "<style scoped>\n",
       "    .dataframe tbody tr th:only-of-type {\n",
       "        vertical-align: middle;\n",
       "    }\n",
       "\n",
       "    .dataframe tbody tr th {\n",
       "        vertical-align: top;\n",
       "    }\n",
       "\n",
       "    .dataframe thead th {\n",
       "        text-align: right;\n",
       "    }\n",
       "</style>\n",
       "<table border=\"1\" class=\"dataframe\">\n",
       "  <thead>\n",
       "    <tr style=\"text-align: right;\">\n",
       "      <th></th>\n",
       "      <th>Model</th>\n",
       "      <th>Engine Cylinders</th>\n",
       "      <th>Class</th>\n",
       "    </tr>\n",
       "  </thead>\n",
       "  <tbody>\n",
       "    <tr>\n",
       "      <th>1212</th>\n",
       "      <td>RX-7</td>\n",
       "      <td>2.0</td>\n",
       "      <td>Two Seaters</td>\n",
       "    </tr>\n",
       "    <tr>\n",
       "      <th>1213</th>\n",
       "      <td>RX-7</td>\n",
       "      <td>2.0</td>\n",
       "      <td>Two Seaters</td>\n",
       "    </tr>\n",
       "    <tr>\n",
       "      <th>1214</th>\n",
       "      <td>RX-7</td>\n",
       "      <td>2.0</td>\n",
       "      <td>Two Seaters</td>\n",
       "    </tr>\n",
       "    <tr>\n",
       "      <th>1215</th>\n",
       "      <td>RX-7</td>\n",
       "      <td>2.0</td>\n",
       "      <td>Two Seaters</td>\n",
       "    </tr>\n",
       "    <tr>\n",
       "      <th>1216</th>\n",
       "      <td>RX-7</td>\n",
       "      <td>2.0</td>\n",
       "      <td>Two Seaters</td>\n",
       "    </tr>\n",
       "  </tbody>\n",
       "</table>\n",
       "</div>"
      ],
      "text/plain": [
       "     Model  Engine Cylinders        Class\n",
       "1212  RX-7               2.0  Two Seaters\n",
       "1213  RX-7               2.0  Two Seaters\n",
       "1214  RX-7               2.0  Two Seaters\n",
       "1215  RX-7               2.0  Two Seaters\n",
       "1216  RX-7               2.0  Two Seaters"
      ]
     },
     "execution_count": 23,
     "metadata": {},
     "output_type": "execute_result"
    }
   ],
   "source": [
    "cars[(cars['Make'] == 'Mazda')&(cars['Engine Cylinders'] <= 2)][['Model', 'Engine Cylinders', 'Class']].head()"
   ]
  },
  {
   "cell_type": "code",
   "execution_count": 24,
   "metadata": {},
   "outputs": [
    {
     "data": {
      "text/html": [
       "<div>\n",
       "<style scoped>\n",
       "    .dataframe tbody tr th:only-of-type {\n",
       "        vertical-align: middle;\n",
       "    }\n",
       "\n",
       "    .dataframe tbody tr th {\n",
       "        vertical-align: top;\n",
       "    }\n",
       "\n",
       "    .dataframe thead th {\n",
       "        text-align: right;\n",
       "    }\n",
       "</style>\n",
       "<table border=\"1\" class=\"dataframe\">\n",
       "  <thead>\n",
       "    <tr style=\"text-align: right;\">\n",
       "      <th></th>\n",
       "      <th>Model</th>\n",
       "      <th>Engine Cylinders</th>\n",
       "      <th>Class</th>\n",
       "    </tr>\n",
       "  </thead>\n",
       "  <tbody>\n",
       "    <tr>\n",
       "      <th>28149</th>\n",
       "      <td>RX-8</td>\n",
       "      <td>2.0</td>\n",
       "      <td>Subcompact Cars</td>\n",
       "    </tr>\n",
       "    <tr>\n",
       "      <th>29288</th>\n",
       "      <td>RX-8</td>\n",
       "      <td>2.0</td>\n",
       "      <td>Subcompact Cars</td>\n",
       "    </tr>\n",
       "    <tr>\n",
       "      <th>29289</th>\n",
       "      <td>RX-8</td>\n",
       "      <td>2.0</td>\n",
       "      <td>Subcompact Cars</td>\n",
       "    </tr>\n",
       "    <tr>\n",
       "      <th>30442</th>\n",
       "      <td>RX-8</td>\n",
       "      <td>2.0</td>\n",
       "      <td>Subcompact Cars</td>\n",
       "    </tr>\n",
       "    <tr>\n",
       "      <th>30443</th>\n",
       "      <td>RX-8</td>\n",
       "      <td>2.0</td>\n",
       "      <td>Subcompact Cars</td>\n",
       "    </tr>\n",
       "  </tbody>\n",
       "</table>\n",
       "</div>"
      ],
      "text/plain": [
       "      Model  Engine Cylinders            Class\n",
       "28149  RX-8               2.0  Subcompact Cars\n",
       "29288  RX-8               2.0  Subcompact Cars\n",
       "29289  RX-8               2.0  Subcompact Cars\n",
       "30442  RX-8               2.0  Subcompact Cars\n",
       "30443  RX-8               2.0  Subcompact Cars"
      ]
     },
     "execution_count": 24,
     "metadata": {},
     "output_type": "execute_result"
    }
   ],
   "source": [
    "cars[(cars['Make'] == 'Mazda')&(cars['Engine Cylinders'] <= 2)][['Model', 'Engine Cylinders', 'Class']].tail()"
   ]
  },
  {
   "attachments": {},
   "cell_type": "markdown",
   "metadata": {},
   "source": [
    "Everthing seems to check out!"
   ]
  },
  {
   "attachments": {},
   "cell_type": "markdown",
   "metadata": {},
   "source": [
    "### Obervation 2\n",
    "So most cars are small cars so it makes sense the displacement distribution tends to the left. It is also not weird that there are some large cars in the dataset. not sure if a displacement of 8 is unusual but a displacement of 0 is however."
   ]
  },
  {
   "cell_type": "code",
   "execution_count": 25,
   "metadata": {},
   "outputs": [
    {
     "data": {
      "text/html": [
       "<div>\n",
       "<style scoped>\n",
       "    .dataframe tbody tr th:only-of-type {\n",
       "        vertical-align: middle;\n",
       "    }\n",
       "\n",
       "    .dataframe tbody tr th {\n",
       "        vertical-align: top;\n",
       "    }\n",
       "\n",
       "    .dataframe thead th {\n",
       "        text-align: right;\n",
       "    }\n",
       "</style>\n",
       "<table border=\"1\" class=\"dataframe\">\n",
       "  <thead>\n",
       "    <tr style=\"text-align: right;\">\n",
       "      <th></th>\n",
       "      <th>Vehicle ID</th>\n",
       "      <th>Year</th>\n",
       "      <th>Make</th>\n",
       "      <th>Model</th>\n",
       "      <th>Class</th>\n",
       "      <th>Drive</th>\n",
       "      <th>Transmission</th>\n",
       "      <th>Transmission Descriptor</th>\n",
       "      <th>Engine Index</th>\n",
       "      <th>Engine Descriptor</th>\n",
       "      <th>Engine Cylinders</th>\n",
       "      <th>Engine Displacement</th>\n",
       "      <th>Turbocharger</th>\n",
       "      <th>Supercharger</th>\n",
       "      <th>Fuel Type</th>\n",
       "      <th>Fuel Type 1</th>\n",
       "      <th>Fuel Type 2</th>\n",
       "      <th>Combined MPG (FT1)</th>\n",
       "      <th>Combined MPG (FT2)</th>\n",
       "    </tr>\n",
       "  </thead>\n",
       "  <tbody>\n",
       "    <tr>\n",
       "      <th>36578</th>\n",
       "      <td>36023</td>\n",
       "      <td>2016</td>\n",
       "      <td>Mitsubishi</td>\n",
       "      <td>i-MiEV</td>\n",
       "      <td>Subcompact Cars</td>\n",
       "      <td>Rear-Wheel Drive</td>\n",
       "      <td>Automatic (A1)</td>\n",
       "      <td>NaN</td>\n",
       "      <td>141</td>\n",
       "      <td>NaN</td>\n",
       "      <td>NaN</td>\n",
       "      <td>0.0</td>\n",
       "      <td>NaN</td>\n",
       "      <td>NaN</td>\n",
       "      <td>Electricity</td>\n",
       "      <td>Electricity</td>\n",
       "      <td>NaN</td>\n",
       "      <td>112</td>\n",
       "      <td>0</td>\n",
       "    </tr>\n",
       "  </tbody>\n",
       "</table>\n",
       "</div>"
      ],
      "text/plain": [
       "       Vehicle ID  Year        Make   Model            Class  \\\n",
       "36578       36023  2016  Mitsubishi  i-MiEV  Subcompact Cars   \n",
       "\n",
       "                  Drive    Transmission Transmission Descriptor  Engine Index  \\\n",
       "36578  Rear-Wheel Drive  Automatic (A1)                     NaN           141   \n",
       "\n",
       "      Engine Descriptor  Engine Cylinders  Engine Displacement Turbocharger  \\\n",
       "36578               NaN               NaN                  0.0          NaN   \n",
       "\n",
       "      Supercharger    Fuel Type  Fuel Type 1 Fuel Type 2  Combined MPG (FT1)  \\\n",
       "36578          NaN  Electricity  Electricity         NaN                 112   \n",
       "\n",
       "       Combined MPG (FT2)  \n",
       "36578                   0  "
      ]
     },
     "execution_count": 25,
     "metadata": {},
     "output_type": "execute_result"
    }
   ],
   "source": [
    "cars[cars['Engine Displacement']==0]"
   ]
  },
  {
   "attachments": {},
   "cell_type": "markdown",
   "metadata": {},
   "source": [
    "Of course cars with 0 engine displacement  are electric!"
   ]
  },
  {
   "cell_type": "code",
   "execution_count": 26,
   "metadata": {},
   "outputs": [
    {
     "data": {
      "text/html": [
       "<div>\n",
       "<style scoped>\n",
       "    .dataframe tbody tr th:only-of-type {\n",
       "        vertical-align: middle;\n",
       "    }\n",
       "\n",
       "    .dataframe tbody tr th {\n",
       "        vertical-align: top;\n",
       "    }\n",
       "\n",
       "    .dataframe thead th {\n",
       "        text-align: right;\n",
       "    }\n",
       "</style>\n",
       "<table border=\"1\" class=\"dataframe\">\n",
       "  <thead>\n",
       "    <tr style=\"text-align: right;\">\n",
       "      <th></th>\n",
       "      <th>Make</th>\n",
       "      <th>Model</th>\n",
       "      <th>Engine Cylinders</th>\n",
       "      <th>Class</th>\n",
       "    </tr>\n",
       "  </thead>\n",
       "  <tbody>\n",
       "    <tr>\n",
       "      <th>10939</th>\n",
       "      <td>Dodge</td>\n",
       "      <td>Viper</td>\n",
       "      <td>10.0</td>\n",
       "      <td>Two Seaters</td>\n",
       "    </tr>\n",
       "    <tr>\n",
       "      <th>12029</th>\n",
       "      <td>Dodge</td>\n",
       "      <td>Viper</td>\n",
       "      <td>10.0</td>\n",
       "      <td>Two Seaters</td>\n",
       "    </tr>\n",
       "    <tr>\n",
       "      <th>13103</th>\n",
       "      <td>Dodge</td>\n",
       "      <td>Viper</td>\n",
       "      <td>10.0</td>\n",
       "      <td>Two Seaters</td>\n",
       "    </tr>\n",
       "    <tr>\n",
       "      <th>14082</th>\n",
       "      <td>Dodge</td>\n",
       "      <td>Viper</td>\n",
       "      <td>10.0</td>\n",
       "      <td>Two Seaters</td>\n",
       "    </tr>\n",
       "    <tr>\n",
       "      <th>14974</th>\n",
       "      <td>Dodge</td>\n",
       "      <td>Viper</td>\n",
       "      <td>10.0</td>\n",
       "      <td>Two Seaters</td>\n",
       "    </tr>\n",
       "  </tbody>\n",
       "</table>\n",
       "</div>"
      ],
      "text/plain": [
       "        Make  Model  Engine Cylinders        Class\n",
       "10939  Dodge  Viper              10.0  Two Seaters\n",
       "12029  Dodge  Viper              10.0  Two Seaters\n",
       "13103  Dodge  Viper              10.0  Two Seaters\n",
       "14082  Dodge  Viper              10.0  Two Seaters\n",
       "14974  Dodge  Viper              10.0  Two Seaters"
      ]
     },
     "execution_count": 26,
     "metadata": {},
     "output_type": "execute_result"
    }
   ],
   "source": [
    "cars[cars['Engine Displacement']==8][['Make', 'Model', 'Engine Cylinders', 'Class']].head()"
   ]
  },
  {
   "cell_type": "code",
   "execution_count": 27,
   "metadata": {},
   "outputs": [
    {
     "data": {
      "text/html": [
       "<div>\n",
       "<style scoped>\n",
       "    .dataframe tbody tr th:only-of-type {\n",
       "        vertical-align: middle;\n",
       "    }\n",
       "\n",
       "    .dataframe tbody tr th {\n",
       "        vertical-align: top;\n",
       "    }\n",
       "\n",
       "    .dataframe thead th {\n",
       "        text-align: right;\n",
       "    }\n",
       "</style>\n",
       "<table border=\"1\" class=\"dataframe\">\n",
       "  <thead>\n",
       "    <tr style=\"text-align: right;\">\n",
       "      <th></th>\n",
       "      <th>Make</th>\n",
       "      <th>Model</th>\n",
       "      <th>Engine Cylinders</th>\n",
       "      <th>Class</th>\n",
       "    </tr>\n",
       "  </thead>\n",
       "  <tbody>\n",
       "    <tr>\n",
       "      <th>29876</th>\n",
       "      <td>Bugatti</td>\n",
       "      <td>Veyron</td>\n",
       "      <td>16.0</td>\n",
       "      <td>Two Seaters</td>\n",
       "    </tr>\n",
       "    <tr>\n",
       "      <th>31003</th>\n",
       "      <td>Bugatti</td>\n",
       "      <td>Veyron</td>\n",
       "      <td>16.0</td>\n",
       "      <td>Two Seaters</td>\n",
       "    </tr>\n",
       "    <tr>\n",
       "      <th>32163</th>\n",
       "      <td>Bugatti</td>\n",
       "      <td>Veyron</td>\n",
       "      <td>16.0</td>\n",
       "      <td>Two Seaters</td>\n",
       "    </tr>\n",
       "    <tr>\n",
       "      <th>33333</th>\n",
       "      <td>Bugatti</td>\n",
       "      <td>Veyron</td>\n",
       "      <td>16.0</td>\n",
       "      <td>Two Seaters</td>\n",
       "    </tr>\n",
       "    <tr>\n",
       "      <th>34565</th>\n",
       "      <td>Bugatti</td>\n",
       "      <td>Veyron</td>\n",
       "      <td>16.0</td>\n",
       "      <td>Two Seaters</td>\n",
       "    </tr>\n",
       "  </tbody>\n",
       "</table>\n",
       "</div>"
      ],
      "text/plain": [
       "          Make   Model  Engine Cylinders        Class\n",
       "29876  Bugatti  Veyron              16.0  Two Seaters\n",
       "31003  Bugatti  Veyron              16.0  Two Seaters\n",
       "32163  Bugatti  Veyron              16.0  Two Seaters\n",
       "33333  Bugatti  Veyron              16.0  Two Seaters\n",
       "34565  Bugatti  Veyron              16.0  Two Seaters"
      ]
     },
     "execution_count": 27,
     "metadata": {},
     "output_type": "execute_result"
    }
   ],
   "source": [
    "cars[cars['Engine Displacement']==8][['Make', 'Model', 'Engine Cylinders', 'Class']].tail()"
   ]
  },
  {
   "attachments": {},
   "cell_type": "markdown",
   "metadata": {},
   "source": [
    "This makes sense that these type of cars would have large displacements and large cylinders"
   ]
  },
  {
   "attachments": {},
   "cell_type": "markdown",
   "metadata": {},
   "source": [
    "## Observation 3\n",
    "There are some MPG the over 100 so we need to check that out\n"
   ]
  },
  {
   "cell_type": "code",
   "execution_count": 28,
   "metadata": {},
   "outputs": [
    {
     "data": {
      "text/plain": [
       "array(['Electricity'], dtype=object)"
      ]
     },
     "execution_count": 28,
     "metadata": {},
     "output_type": "execute_result"
    }
   ],
   "source": [
    "cars[cars['Combined MPG (FT1)']>120][\"Fuel Type\"].unique()"
   ]
  },
  {
   "attachments": {},
   "cell_type": "markdown",
   "metadata": {},
   "source": [
    "Makes sense these are all electric cars. It might be worth removing all electric cars because there is obviously no relationship between MPG and the other variables for this type of car (if that is what we're trying to predict)."
   ]
  },
  {
   "attachments": {},
   "cell_type": "markdown",
   "metadata": {},
   "source": [
    "### Missing Values"
   ]
  },
  {
   "cell_type": "code",
   "execution_count": 29,
   "metadata": {},
   "outputs": [
    {
     "data": {
      "text/plain": [
       "36924"
      ]
     },
     "execution_count": 29,
     "metadata": {},
     "output_type": "execute_result"
    }
   ],
   "source": [
    "not_missing_drive = cars['Drive'].notnull()\n",
    "not_missing_drive.sum()"
   ]
  },
  {
   "cell_type": "code",
   "execution_count": 30,
   "metadata": {},
   "outputs": [],
   "source": [
    "cars['Turbocharger'] = cars['Turbocharger'].fillna('No')\n",
    "cars['Supercharger'] = cars['Supercharger'].fillna('No')"
   ]
  },
  {
   "attachments": {},
   "cell_type": "markdown",
   "metadata": {},
   "source": [
    "### Outliers"
   ]
  },
  {
   "attachments": {},
   "cell_type": "markdown",
   "metadata": {},
   "source": [
    "A simple way of detecting outliers is to consider the mean/median and add one or two standard deviations. Anything above these values can be considered an outlier."
   ]
  },
  {
   "cell_type": "code",
   "execution_count": 31,
   "metadata": {},
   "outputs": [
    {
     "data": {
      "text/plain": [
       "33313"
      ]
     },
     "execution_count": 31,
     "metadata": {},
     "output_type": "execute_result"
    }
   ],
   "source": [
    "no_mpg_outlier = cars['Combined MPG (FT1)'] < (cars['Combined MPG (FT1)'].median() + cars['Combined MPG (FT1)'].std())\n",
    "no_mpg_outlier.sum()"
   ]
  },
  {
   "attachments": {},
   "cell_type": "markdown",
   "metadata": {},
   "source": [
    "### Final Cleaned Dataset"
   ]
  },
  {
   "cell_type": "code",
   "execution_count": 32,
   "metadata": {},
   "outputs": [
    {
     "data": {
      "text/plain": [
       "(19291, 8)"
      ]
     },
     "execution_count": 32,
     "metadata": {},
     "output_type": "execute_result"
    }
   ],
   "source": [
    "no_electric_cars = cars['Fuel Type'] != 'Electricity'\n",
    "\n",
    "cars_cleaned = cars[(~duplicates) & (not_missing_drive) & (no_mpg_outlier)]\n",
    "cars_cleaned = cars_cleaned[['Class', 'Drive', 'Engine Cylinders', \n",
    "                             'Engine Displacement', 'Turbocharger','Supercharger', \n",
    "                             'Fuel Type', 'Combined MPG (FT1)']]\n",
    "\n",
    "cars_cleaned.shape"
   ]
  },
  {
   "attachments": {},
   "cell_type": "markdown",
   "metadata": {},
   "source": [
    "## Relationship Analysis"
   ]
  },
  {
   "cell_type": "code",
   "execution_count": 33,
   "metadata": {},
   "outputs": [
    {
     "data": {
      "text/plain": [
       "<seaborn.axisgrid.PairGrid at 0x7f8351c73ba8>"
      ]
     },
     "execution_count": 33,
     "metadata": {},
     "output_type": "execute_result"
    },
    {
     "data": {
      "image/png": "[encoded data removed]",
      "text/plain": [
       "<Figure size 540x540 with 12 Axes>"
      ]
     },
     "metadata": {
      "needs_background": "light"
     },
     "output_type": "display_data"
    }
   ],
   "source": [
    "import seaborn as sns\n",
    "sns.pairplot(cars_cleaned)"
   ]
  },
  {
   "attachments": {},
   "cell_type": "markdown",
   "metadata": {},
   "source": [
    "We can see a number of things here:\n",
    "\n",
    "- Pairplot shows the distribution on the diagonal and scatterplots on the off-diagonals\n",
    "- There is a relationship between engine displacement and number of cylinders which makes sense\n",
    "- The number of cylinders is actually a categorical value\n",
    "- There is relationship between displacement and mpg but there is also a lot of noise\n",
    "- This relationship is even weaker between cylinders and mpg, possibly because it's not a numerical value"
   ]
  },
  {
   "attachments": {},
   "cell_type": "markdown",
   "metadata": {},
   "source": [
    "### Boxplots"
   ]
  },
  {
   "cell_type": "code",
   "execution_count": 34,
   "metadata": {},
   "outputs": [
    {
     "data": {
      "image/png": "[encoded data removed]",
      "text/plain": [
       "<Figure size 432x288 with 1 Axes>"
      ]
     },
     "metadata": {
      "needs_background": "light"
     },
     "output_type": "display_data"
    }
   ],
   "source": [
    "import matplotlib.pyplot as plt\n",
    "\n",
    "sns.boxplot(x='Drive', y='Combined MPG (FT1)', data=cars_cleaned)\n",
    "plt.xticks(rotation=45)\n",
    "plt.show()"
   ]
  },
  {
   "cell_type": "code",
   "execution_count": 35,
   "metadata": {},
   "outputs": [
    {
     "data": {
      "image/png": "[encoded data removed]",
      "text/plain": [
       "<Figure size 432x288 with 1 Axes>"
      ]
     },
     "metadata": {
      "needs_background": "light"
     },
     "output_type": "display_data"
    }
   ],
   "source": [
    "sns.boxplot(x='Turbocharger', y='Combined MPG (FT1)', data=cars_cleaned)\n",
    "plt.show()"
   ]
  },
  {
   "cell_type": "code",
   "execution_count": 36,
   "metadata": {},
   "outputs": [
    {
     "data": {
      "image/png": "[encoded data removed]",
      "text/plain": [
       "<Figure size 432x288 with 1 Axes>"
      ]
     },
     "metadata": {
      "needs_background": "light"
     },
     "output_type": "display_data"
    }
   ],
   "source": [
    "sns.boxplot(x='Supercharger', y='Combined MPG (FT1)', data=cars_cleaned)\n",
    "plt.show()"
   ]
  },
  {
   "cell_type": "code",
   "execution_count": 37,
   "metadata": {},
   "outputs": [
    {
     "data": {
      "image/png": "[encoded data removed]",
      "text/plain": [
       "<Figure size 432x288 with 1 Axes>"
      ]
     },
     "metadata": {
      "needs_background": "light"
     },
     "output_type": "display_data"
    }
   ],
   "source": [
    "sns.boxplot(x='Engine Cylinders', y='Combined MPG (FT1)', data=cars_cleaned)\n",
    "plt.show()"
   ]
  },
  {
   "cell_type": "code",
   "execution_count": null,
   "metadata": {},
   "outputs": [],
   "source": []
  }
 ],
 "metadata": {
  "kernelspec": {
   "display_name": "Python 3",
   "language": "python",
   "name": "python3"
  },
  "language_info": {
   "codemirror_mode": {
    "name": "ipython",
    "version": 3
   },
   "file_extension": ".py",
   "mimetype": "text/x-python",
   "name": "python",
   "nbconvert_exporter": "python",
   "pygments_lexer": "ipython3",
   "version": "3.7.0"
  },
  "orig_nbformat": 4
 },
 "nbformat": 4,
 "nbformat_minor": 2
}
