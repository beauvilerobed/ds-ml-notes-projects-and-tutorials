{
 "cells": [
  {
   "attachments": {},
   "cell_type": "markdown",
   "metadata": {},
   "source": [
    "# Predicting Car Fuel Efficiency Using Machine Learning\n",
    "\n",
    "## Intro\n",
    "\n",
    "What if you could have a reliable estimator for a car’s mpg given some known specifications about the vehicle? Then, you could beat a competitor to market by both having a more desirable vehicle that is also more efficient, reducing wasted R&D costs and gaining large chunks of the market.\n",
    "\n",
    "This notebook contains the following columns: **mpg**, **cylinders**, **horsepower**, **weight**, **acceleration**, etc., which should all be self-explanatory.\n",
    "\n",
    "**Displacement** is the volume of the car’s engine, usually expressed in liters or cubic centimeters.\n",
    "\n",
    "**Origin** is a discrete value from 1 to 3. This dataset does not describe it beyond that, but for this notebook we assumed 1 to be American-origin vehicle, 2 is European-origin, 3 is Asia/elsewhere.\n",
    "\n",
    "**Model year** is given as a decimal number representing the last two digits of the 4-digit year (eg. 1970 is model year = 70).\n"
   ]
  },
  {
   "attachments": {},
   "cell_type": "markdown",
   "metadata": {},
   "source": [
    "## Important Note:\n",
    "\n",
    "According to others using this dataset, some of the mpg values for the cars are incorrect, meaning that some of our predictions will be off by a large amount, but we shouldn’t always trust the listed mpg value.\n",
    "\n",
    "There are also unknown mpg values in the dataset, marked with a ‘?’. We will need to manually replace these with the correct mpg value.\n",
    "\n"
   ]
  },
  {
   "attachments": {},
   "cell_type": "markdown",
   "metadata": {},
   "source": [
    "## Data Preprocessing\n",
    "\n",
    "The purpose of the data preprocessing stage is to minimize potential errors in the model as much as possible. Generally, a model is only as good as the data passed into it, and the data preprocessing we do ensures that the model has as accurate a dataset as possible. While we cannot perfectly clean the dataset, we can at least follow some basics steps to ensure that our dataset has the best possible chance of generating a good model.\n",
    "\n"
   ]
  },
  {
   "cell_type": "code",
   "execution_count": 1,
   "metadata": {},
   "outputs": [],
   "source": [
    "import numpy as np\n",
    "import pandas as pd\n",
    "import matplotlib.pyplot as plt\n",
    "import seaborn as sns"
   ]
  },
  {
   "cell_type": "code",
   "execution_count": 2,
   "metadata": {},
   "outputs": [
    {
     "data": {
      "text/html": [
       "<div>\n",
       "<style scoped>\n",
       "    .dataframe tbody tr th:only-of-type {\n",
       "        vertical-align: middle;\n",
       "    }\n",
       "\n",
       "    .dataframe tbody tr th {\n",
       "        vertical-align: top;\n",
       "    }\n",
       "\n",
       "    .dataframe thead th {\n",
       "        text-align: right;\n",
       "    }\n",
       "</style>\n",
       "<table border=\"1\" class=\"dataframe\">\n",
       "  <thead>\n",
       "    <tr style=\"text-align: right;\">\n",
       "      <th></th>\n",
       "      <th>mpg</th>\n",
       "      <th>cylinders</th>\n",
       "      <th>displacement</th>\n",
       "      <th>horsepower</th>\n",
       "      <th>weight</th>\n",
       "      <th>acceleration</th>\n",
       "      <th>model year</th>\n",
       "      <th>origin</th>\n",
       "      <th>car name</th>\n",
       "    </tr>\n",
       "  </thead>\n",
       "  <tbody>\n",
       "    <tr>\n",
       "      <th>0</th>\n",
       "      <td>18.0</td>\n",
       "      <td>8</td>\n",
       "      <td>307.0</td>\n",
       "      <td>130</td>\n",
       "      <td>3504</td>\n",
       "      <td>12.0</td>\n",
       "      <td>70</td>\n",
       "      <td>1</td>\n",
       "      <td>chevrolet chevelle malibu</td>\n",
       "    </tr>\n",
       "    <tr>\n",
       "      <th>1</th>\n",
       "      <td>15.0</td>\n",
       "      <td>8</td>\n",
       "      <td>350.0</td>\n",
       "      <td>165</td>\n",
       "      <td>3693</td>\n",
       "      <td>11.5</td>\n",
       "      <td>70</td>\n",
       "      <td>1</td>\n",
       "      <td>buick skylark 320</td>\n",
       "    </tr>\n",
       "    <tr>\n",
       "      <th>2</th>\n",
       "      <td>18.0</td>\n",
       "      <td>8</td>\n",
       "      <td>318.0</td>\n",
       "      <td>150</td>\n",
       "      <td>3436</td>\n",
       "      <td>11.0</td>\n",
       "      <td>70</td>\n",
       "      <td>1</td>\n",
       "      <td>plymouth satellite</td>\n",
       "    </tr>\n",
       "    <tr>\n",
       "      <th>3</th>\n",
       "      <td>16.0</td>\n",
       "      <td>8</td>\n",
       "      <td>304.0</td>\n",
       "      <td>150</td>\n",
       "      <td>3433</td>\n",
       "      <td>12.0</td>\n",
       "      <td>70</td>\n",
       "      <td>1</td>\n",
       "      <td>amc rebel sst</td>\n",
       "    </tr>\n",
       "    <tr>\n",
       "      <th>4</th>\n",
       "      <td>17.0</td>\n",
       "      <td>8</td>\n",
       "      <td>302.0</td>\n",
       "      <td>140</td>\n",
       "      <td>3449</td>\n",
       "      <td>10.5</td>\n",
       "      <td>70</td>\n",
       "      <td>1</td>\n",
       "      <td>ford torino</td>\n",
       "    </tr>\n",
       "  </tbody>\n",
       "</table>\n",
       "</div>"
      ],
      "text/plain": [
       "    mpg  cylinders  displacement horsepower  weight  acceleration  model year  \\\n",
       "0  18.0          8         307.0        130    3504          12.0          70   \n",
       "1  15.0          8         350.0        165    3693          11.5          70   \n",
       "2  18.0          8         318.0        150    3436          11.0          70   \n",
       "3  16.0          8         304.0        150    3433          12.0          70   \n",
       "4  17.0          8         302.0        140    3449          10.5          70   \n",
       "\n",
       "   origin                   car name  \n",
       "0       1  chevrolet chevelle malibu  \n",
       "1       1          buick skylark 320  \n",
       "2       1         plymouth satellite  \n",
       "3       1              amc rebel sst  \n",
       "4       1                ford torino  "
      ]
     },
     "execution_count": 2,
     "metadata": {},
     "output_type": "execute_result"
    }
   ],
   "source": [
    "cars = pd.read_csv('auto-mpg.csv')\n",
    "cars.head()"
   ]
  },
  {
   "cell_type": "code",
   "execution_count": 3,
   "metadata": {},
   "outputs": [
    {
     "name": "stdout",
     "output_type": "stream",
     "text": [
      "presence of null values:  False\n"
     ]
    }
   ],
   "source": [
    "print(\"presence of null values: \", cars.isnull().values.any())"
   ]
  },
  {
   "cell_type": "code",
   "execution_count": 4,
   "metadata": {},
   "outputs": [
    {
     "name": "stdout",
     "output_type": "stream",
     "text": [
      "This DOES NOT contain strings: mpg\n",
      "This DOES NOT contain strings: cylinders\n",
      "This DOES NOT contain strings: displacement\n",
      "      mpg  cylinders  displacement horsepower  weight  acceleration  \\\n",
      "32   25.0          4          98.0          ?    2046          19.0   \n",
      "126  21.0          6         200.0          ?    2875          17.0   \n",
      "330  40.9          4          85.0          ?    1835          17.3   \n",
      "336  23.6          4         140.0          ?    2905          14.3   \n",
      "354  34.5          4         100.0          ?    2320          15.8   \n",
      "374  23.0          4         151.0          ?    3035          20.5   \n",
      "\n",
      "     model year  origin              car name  \n",
      "32           71       1            ford pinto  \n",
      "126          74       1         ford maverick  \n",
      "330          80       2  renault lecar deluxe  \n",
      "336          80       1    ford mustang cobra  \n",
      "354          81       2           renault 18i  \n",
      "374          82       1        amc concord dl  \n",
      "This DOES contain strings: horsepower\n",
      "This DOES NOT contain strings: weight\n",
      "This DOES NOT contain strings: acceleration\n",
      "This DOES NOT contain strings: model year\n",
      "This DOES NOT contain strings: origin\n",
      "      mpg  cylinders  displacement horsepower  weight  acceleration  \\\n",
      "0    18.0          8         307.0        130    3504          12.0   \n",
      "2    18.0          8         318.0        150    3436          11.0   \n",
      "3    16.0          8         304.0        150    3433          12.0   \n",
      "4    17.0          8         302.0        140    3449          10.5   \n",
      "6    14.0          8         454.0        220    4354           9.0   \n",
      "..    ...        ...           ...        ...     ...           ...   \n",
      "392  27.0          4         151.0         90    2950          17.3   \n",
      "393  27.0          4         140.0         86    2790          15.6   \n",
      "394  44.0          4          97.0         52    2130          24.6   \n",
      "395  32.0          4         135.0         84    2295          11.6   \n",
      "396  28.0          4         120.0         79    2625          18.6   \n",
      "\n",
      "     model year  origin                   car name  \n",
      "0            70       1  chevrolet chevelle malibu  \n",
      "2            70       1         plymouth satellite  \n",
      "3            70       1              amc rebel sst  \n",
      "4            70       1                ford torino  \n",
      "6            70       1           chevrolet impala  \n",
      "..          ...     ...                        ...  \n",
      "392          82       1           chevrolet camaro  \n",
      "393          82       1            ford mustang gl  \n",
      "394          82       2                  vw pickup  \n",
      "395          82       1              dodge rampage  \n",
      "396          82       1                ford ranger  \n",
      "\n",
      "[282 rows x 9 columns]\n",
      "This DOES contain strings: car name\n"
     ]
    }
   ],
   "source": [
    "for col in cars.columns:\n",
    "    try:\n",
    "        print(cars[~cars[col].str.contains('[0-9]')])\n",
    "        print('This DOES contain strings:', col)\n",
    "    except:\n",
    "        print('This DOES NOT contain strings:', col)\n",
    "        pass"
   ]
  },
  {
   "cell_type": "code",
   "execution_count": 5,
   "metadata": {},
   "outputs": [
    {
     "data": {
      "text/html": [
       "<div>\n",
       "<style scoped>\n",
       "    .dataframe tbody tr th:only-of-type {\n",
       "        vertical-align: middle;\n",
       "    }\n",
       "\n",
       "    .dataframe tbody tr th {\n",
       "        vertical-align: top;\n",
       "    }\n",
       "\n",
       "    .dataframe thead th {\n",
       "        text-align: right;\n",
       "    }\n",
       "</style>\n",
       "<table border=\"1\" class=\"dataframe\">\n",
       "  <thead>\n",
       "    <tr style=\"text-align: right;\">\n",
       "      <th></th>\n",
       "      <th>mpg</th>\n",
       "      <th>cylinders</th>\n",
       "      <th>displacement</th>\n",
       "      <th>horsepower</th>\n",
       "      <th>weight</th>\n",
       "      <th>acceleration</th>\n",
       "      <th>model year</th>\n",
       "      <th>origin</th>\n",
       "      <th>car name</th>\n",
       "      <th>horsepower_updated</th>\n",
       "    </tr>\n",
       "  </thead>\n",
       "  <tbody>\n",
       "    <tr>\n",
       "      <th>32</th>\n",
       "      <td>25.0</td>\n",
       "      <td>4</td>\n",
       "      <td>98.0</td>\n",
       "      <td>?</td>\n",
       "      <td>2046</td>\n",
       "      <td>19.0</td>\n",
       "      <td>71</td>\n",
       "      <td>1</td>\n",
       "      <td>ford pinto</td>\n",
       "      <td>NaN</td>\n",
       "    </tr>\n",
       "    <tr>\n",
       "      <th>126</th>\n",
       "      <td>21.0</td>\n",
       "      <td>6</td>\n",
       "      <td>200.0</td>\n",
       "      <td>?</td>\n",
       "      <td>2875</td>\n",
       "      <td>17.0</td>\n",
       "      <td>74</td>\n",
       "      <td>1</td>\n",
       "      <td>ford maverick</td>\n",
       "      <td>NaN</td>\n",
       "    </tr>\n",
       "    <tr>\n",
       "      <th>330</th>\n",
       "      <td>40.9</td>\n",
       "      <td>4</td>\n",
       "      <td>85.0</td>\n",
       "      <td>?</td>\n",
       "      <td>1835</td>\n",
       "      <td>17.3</td>\n",
       "      <td>80</td>\n",
       "      <td>2</td>\n",
       "      <td>renault lecar deluxe</td>\n",
       "      <td>NaN</td>\n",
       "    </tr>\n",
       "    <tr>\n",
       "      <th>336</th>\n",
       "      <td>23.6</td>\n",
       "      <td>4</td>\n",
       "      <td>140.0</td>\n",
       "      <td>?</td>\n",
       "      <td>2905</td>\n",
       "      <td>14.3</td>\n",
       "      <td>80</td>\n",
       "      <td>1</td>\n",
       "      <td>ford mustang cobra</td>\n",
       "      <td>NaN</td>\n",
       "    </tr>\n",
       "    <tr>\n",
       "      <th>354</th>\n",
       "      <td>34.5</td>\n",
       "      <td>4</td>\n",
       "      <td>100.0</td>\n",
       "      <td>?</td>\n",
       "      <td>2320</td>\n",
       "      <td>15.8</td>\n",
       "      <td>81</td>\n",
       "      <td>2</td>\n",
       "      <td>renault 18i</td>\n",
       "      <td>NaN</td>\n",
       "    </tr>\n",
       "    <tr>\n",
       "      <th>374</th>\n",
       "      <td>23.0</td>\n",
       "      <td>4</td>\n",
       "      <td>151.0</td>\n",
       "      <td>?</td>\n",
       "      <td>3035</td>\n",
       "      <td>20.5</td>\n",
       "      <td>82</td>\n",
       "      <td>1</td>\n",
       "      <td>amc concord dl</td>\n",
       "      <td>NaN</td>\n",
       "    </tr>\n",
       "  </tbody>\n",
       "</table>\n",
       "</div>"
      ],
      "text/plain": [
       "      mpg  cylinders  displacement horsepower  weight  acceleration  \\\n",
       "32   25.0          4          98.0          ?    2046          19.0   \n",
       "126  21.0          6         200.0          ?    2875          17.0   \n",
       "330  40.9          4          85.0          ?    1835          17.3   \n",
       "336  23.6          4         140.0          ?    2905          14.3   \n",
       "354  34.5          4         100.0          ?    2320          15.8   \n",
       "374  23.0          4         151.0          ?    3035          20.5   \n",
       "\n",
       "     model year  origin              car name horsepower_updated  \n",
       "32           71       1            ford pinto                NaN  \n",
       "126          74       1         ford maverick                NaN  \n",
       "330          80       2  renault lecar deluxe                NaN  \n",
       "336          80       1    ford mustang cobra                NaN  \n",
       "354          81       2           renault 18i                NaN  \n",
       "374          82       1        amc concord dl                NaN  "
      ]
     },
     "execution_count": 5,
     "metadata": {},
     "output_type": "execute_result"
    }
   ],
   "source": [
    "cars['horsepower_updated'] = np.where(cars['horsepower']=='?', np.nan, cars['horsepower'])\n",
    "cars[cars['horsepower']=='?']"
   ]
  },
  {
   "cell_type": "code",
   "execution_count": 6,
   "metadata": {},
   "outputs": [
    {
     "data": {
      "text/plain": [
       "Index(['mpg', 'cylinders', 'displacement', 'horsepower', 'weight',\n",
       "       'acceleration', 'model year', 'origin', 'car name',\n",
       "       'horsepower_updated'],\n",
       "      dtype='object')"
      ]
     },
     "execution_count": 6,
     "metadata": {},
     "output_type": "execute_result"
    }
   ],
   "source": [
    "cars.columns"
   ]
  },
  {
   "cell_type": "code",
   "execution_count": 7,
   "metadata": {},
   "outputs": [
    {
     "data": {
      "text/html": [
       "<div>\n",
       "<style scoped>\n",
       "    .dataframe tbody tr th:only-of-type {\n",
       "        vertical-align: middle;\n",
       "    }\n",
       "\n",
       "    .dataframe tbody tr th {\n",
       "        vertical-align: top;\n",
       "    }\n",
       "\n",
       "    .dataframe thead th {\n",
       "        text-align: right;\n",
       "    }\n",
       "</style>\n",
       "<table border=\"1\" class=\"dataframe\">\n",
       "  <thead>\n",
       "    <tr style=\"text-align: right;\">\n",
       "      <th></th>\n",
       "      <th>mpg</th>\n",
       "      <th>cylinders</th>\n",
       "      <th>displacement</th>\n",
       "      <th>horsepower</th>\n",
       "      <th>weight</th>\n",
       "      <th>acceleration</th>\n",
       "      <th>model year</th>\n",
       "      <th>origin</th>\n",
       "      <th>car name</th>\n",
       "      <th>horsepower_updated</th>\n",
       "    </tr>\n",
       "  </thead>\n",
       "  <tbody>\n",
       "    <tr>\n",
       "      <th>32</th>\n",
       "      <td>25.0</td>\n",
       "      <td>4</td>\n",
       "      <td>98.0</td>\n",
       "      <td>?</td>\n",
       "      <td>2046</td>\n",
       "      <td>19.0</td>\n",
       "      <td>71</td>\n",
       "      <td>1</td>\n",
       "      <td>ford pinto</td>\n",
       "      <td>150</td>\n",
       "    </tr>\n",
       "    <tr>\n",
       "      <th>126</th>\n",
       "      <td>21.0</td>\n",
       "      <td>6</td>\n",
       "      <td>200.0</td>\n",
       "      <td>?</td>\n",
       "      <td>2875</td>\n",
       "      <td>17.0</td>\n",
       "      <td>74</td>\n",
       "      <td>1</td>\n",
       "      <td>ford maverick</td>\n",
       "      <td>150</td>\n",
       "    </tr>\n",
       "    <tr>\n",
       "      <th>330</th>\n",
       "      <td>40.9</td>\n",
       "      <td>4</td>\n",
       "      <td>85.0</td>\n",
       "      <td>?</td>\n",
       "      <td>1835</td>\n",
       "      <td>17.3</td>\n",
       "      <td>80</td>\n",
       "      <td>2</td>\n",
       "      <td>renault lecar deluxe</td>\n",
       "      <td>150</td>\n",
       "    </tr>\n",
       "    <tr>\n",
       "      <th>336</th>\n",
       "      <td>23.6</td>\n",
       "      <td>4</td>\n",
       "      <td>140.0</td>\n",
       "      <td>?</td>\n",
       "      <td>2905</td>\n",
       "      <td>14.3</td>\n",
       "      <td>80</td>\n",
       "      <td>1</td>\n",
       "      <td>ford mustang cobra</td>\n",
       "      <td>150</td>\n",
       "    </tr>\n",
       "    <tr>\n",
       "      <th>354</th>\n",
       "      <td>34.5</td>\n",
       "      <td>4</td>\n",
       "      <td>100.0</td>\n",
       "      <td>?</td>\n",
       "      <td>2320</td>\n",
       "      <td>15.8</td>\n",
       "      <td>81</td>\n",
       "      <td>2</td>\n",
       "      <td>renault 18i</td>\n",
       "      <td>150</td>\n",
       "    </tr>\n",
       "    <tr>\n",
       "      <th>374</th>\n",
       "      <td>23.0</td>\n",
       "      <td>4</td>\n",
       "      <td>151.0</td>\n",
       "      <td>?</td>\n",
       "      <td>3035</td>\n",
       "      <td>20.5</td>\n",
       "      <td>82</td>\n",
       "      <td>1</td>\n",
       "      <td>amc concord dl</td>\n",
       "      <td>150</td>\n",
       "    </tr>\n",
       "  </tbody>\n",
       "</table>\n",
       "</div>"
      ],
      "text/plain": [
       "      mpg  cylinders  displacement horsepower  weight  acceleration  \\\n",
       "32   25.0          4          98.0          ?    2046          19.0   \n",
       "126  21.0          6         200.0          ?    2875          17.0   \n",
       "330  40.9          4          85.0          ?    1835          17.3   \n",
       "336  23.6          4         140.0          ?    2905          14.3   \n",
       "354  34.5          4         100.0          ?    2320          15.8   \n",
       "374  23.0          4         151.0          ?    3035          20.5   \n",
       "\n",
       "     model year  origin              car name horsepower_updated  \n",
       "32           71       1            ford pinto                150  \n",
       "126          74       1         ford maverick                150  \n",
       "330          80       2  renault lecar deluxe                150  \n",
       "336          80       1    ford mustang cobra                150  \n",
       "354          81       2           renault 18i                150  \n",
       "374          82       1        amc concord dl                150  "
      ]
     },
     "execution_count": 7,
     "metadata": {},
     "output_type": "execute_result"
    }
   ],
   "source": [
    "cars['horsepower_updated'] = cars['horsepower_updated'].fillna(cars['horsepower_updated'].mode()[0])\n",
    "cars[cars['horsepower']=='?']"
   ]
  },
  {
   "cell_type": "code",
   "execution_count": 8,
   "metadata": {},
   "outputs": [],
   "source": [
    "cars = cars.astype({'horsepower_updated':'float'})"
   ]
  },
  {
   "cell_type": "code",
   "execution_count": 9,
   "metadata": {},
   "outputs": [
    {
     "data": {
      "text/plain": [
       "0      130\n",
       "1      165\n",
       "2      150\n",
       "3      150\n",
       "4      140\n",
       "      ... \n",
       "393     86\n",
       "394     52\n",
       "395     84\n",
       "396     79\n",
       "397     82\n",
       "Name: horsepower, Length: 398, dtype: object"
      ]
     },
     "execution_count": 9,
     "metadata": {},
     "output_type": "execute_result"
    }
   ],
   "source": [
    "cars.pop('horsepower')"
   ]
  },
  {
   "attachments": {},
   "cell_type": "markdown",
   "metadata": {},
   "source": [
    "The null values in this dataset are actually marked with a ‘?’, so we will have to manually update the information for them.\n",
    "\n",
    "We have manually gone through the dataset and input the missing values for each vehicle. There were 6 ‘?’ rows, so we simply searched the year and model of the car and found the most commonly occurring horsepower."
   ]
  },
  {
   "attachments": {},
   "cell_type": "markdown",
   "metadata": {},
   "source": [
    "### Feature Engineering"
   ]
  },
  {
   "attachments": {},
   "cell_type": "markdown",
   "metadata": {},
   "source": [
    "The next step of preprocessing would be to categorize the ‘car name’ column. We can create a new feature based on whether or not diesel was included in the title of the vehicle."
   ]
  },
  {
   "cell_type": "code",
   "execution_count": 10,
   "metadata": {},
   "outputs": [
    {
     "data": {
      "text/plain": [
       "\"chevrolet chevelle malibu buick skylark 320 plymouth satellite amc rebel sst ford torino ford galaxie 500 chevrolet impala plymouth fury iii pontiac catalina amc ambassador dpl dodge challenger se plymouth 'cuda 340 chevrolet monte carlo buick estate wagon (sw) toyota corona mark ii plymouth duster amc hornet ford maverick datsun pl510 volkswagen 1131 deluxe sedan peugeot 504 audi 100 ls saab 99e bmw 2002 amc gremlin ford f250 chevy c20 dodge d200 hi 1200d datsun pl510 chevrolet vega 2300 toyota corona ford pinto amc gremlin plymouth satellite custom chevrolet chevelle malibu ford torino 500 amc matador chevrolet impala pontiac catalina brougham ford galaxie 500 plymouth fury iii dodge monaco (sw) ford country squire (sw) pontiac safari (sw) amc hornet sportabout (sw) chevrolet vega (sw) pontiac firebird ford mustang mercury capri 2000 opel 1900 peugeot 304 fiat 124b toyota corolla 1200 datsun 1200 volkswagen model 111 plymouth cricket toyota corona hardtop dodge colt hardtop volkswagen type 3 chevrolet vega ford pinto runabout chevrolet impala pontiac catalina plymouth fury iii ford galaxie 500 amc ambassador sst mercury marquis buick lesabre custom oldsmobile delta 88 royale chrysler newport royal mazda rx2 coupe amc matador (sw) chevrolet chevelle concours (sw) ford gran torino (sw) plymouth satellite custom (sw) volvo 145e (sw) volkswagen 411 (sw) peugeot 504 (sw) renault 12 (sw) ford pinto (sw) datsun 510 (sw) toyouta corona mark ii (sw) dodge colt (sw) toyota corolla 1600 (sw) buick century 350 amc matador chevrolet malibu ford gran torino dodge coronet custom mercury marquis brougham chevrolet caprice classic ford ltd plymouth fury gran sedan chrysler new yorker brougham buick electra 225 custom amc ambassador brougham plymouth valiant chevrolet nova custom amc hornet ford maverick plymouth duster volkswagen super beetle chevrolet impala ford country plymouth custom suburb oldsmobile vista cruiser amc gremlin toyota carina chevrolet vega datsun 610 maxda rx3 ford pinto mercury capri v6 fiat 124 sport coupe chevrolet monte carlo s pontiac grand prix fiat 128 opel manta audi 100ls volvo 144ea dodge dart custom saab 99le toyota mark ii oldsmobile omega plymouth duster ford maverick amc hornet chevrolet nova datsun b210 ford pinto toyota corolla 1200 chevrolet vega chevrolet chevelle malibu classic amc matador plymouth satellite sebring ford gran torino buick century luxus (sw) dodge coronet custom (sw) ford gran torino (sw) amc matador (sw) audi fox volkswagen dasher opel manta toyota corona datsun 710 dodge colt fiat 128 fiat 124 tc honda civic subaru fiat x1.9 plymouth valiant custom chevrolet nova mercury monarch ford maverick pontiac catalina chevrolet bel air plymouth grand fury ford ltd buick century chevroelt chevelle malibu amc matador plymouth fury buick skyhawk chevrolet monza 2+2 ford mustang ii toyota corolla ford pinto amc gremlin pontiac astro toyota corona volkswagen dasher datsun 710 ford pinto volkswagen rabbit amc pacer audi 100ls peugeot 504 volvo 244dl saab 99le honda civic cvcc fiat 131 opel 1900 capri ii dodge colt renault 12tl chevrolet chevelle malibu classic dodge coronet brougham amc matador ford gran torino plymouth valiant chevrolet nova ford maverick amc hornet chevrolet chevette chevrolet woody vw rabbit honda civic dodge aspen se ford granada ghia pontiac ventura sj amc pacer d/l volkswagen rabbit datsun b-210 toyota corolla ford pinto volvo 245 plymouth volare premier v8 peugeot 504 toyota mark ii mercedes-benz 280s cadillac seville chevy c10 ford f108 dodge d100 honda accord cvcc buick opel isuzu deluxe renault 5 gtl plymouth arrow gs datsun f-10 hatchback chevrolet caprice classic oldsmobile cutlass supreme dodge monaco brougham mercury cougar brougham chevrolet concours buick skylark plymouth volare custom ford granada pontiac grand prix lj chevrolet monte carlo landau chrysler cordoba ford thunderbird volkswagen rabbit custom pontiac sunbird coupe toyota corolla liftback ford mustang ii 2+2 chevrolet chevette dodge colt m/m subaru dl volkswagen dasher datsun 810 bmw 320i mazda rx-4 volkswagen rabbit custom diesel ford fiesta mazda glc deluxe datsun b210 gx honda civic cvcc oldsmobile cutlass salon brougham dodge diplomat mercury monarch ghia pontiac phoenix lj chevrolet malibu ford fairmont (auto) ford fairmont (man) plymouth volare amc concord buick century special mercury zephyr dodge aspen amc concord d/l chevrolet monte carlo landau buick regal sport coupe (turbo) ford futura dodge magnum xe chevrolet chevette toyota corona datsun 510 dodge omni toyota celica gt liftback plymouth sapporo oldsmobile starfire sx datsun 200-sx audi 5000 volvo 264gl saab 99gle peugeot 604sl volkswagen scirocco honda accord lx pontiac lemans v6 mercury zephyr 6 ford fairmont 4 amc concord dl 6 dodge aspen 6 chevrolet caprice classic ford ltd landau mercury grand marquis dodge st. regis buick estate wagon (sw) ford country squire (sw) chevrolet malibu classic (sw) chrysler lebaron town @ country (sw) vw rabbit custom maxda glc deluxe dodge colt hatchback custom amc spirit dl mercedes benz 300d cadillac eldorado peugeot 504 oldsmobile cutlass salon brougham plymouth horizon plymouth horizon tc3 datsun 210 fiat strada custom buick skylark limited chevrolet citation oldsmobile omega brougham pontiac phoenix vw rabbit toyota corolla tercel chevrolet chevette datsun 310 chevrolet citation ford fairmont amc concord dodge aspen audi 4000 toyota corona liftback mazda 626 datsun 510 hatchback toyota corolla mazda glc dodge colt datsun 210 vw rabbit c (diesel) vw dasher (diesel) audi 5000s (diesel) mercedes-benz 240d honda civic 1500 gl renault lecar deluxe subaru dl vokswagen rabbit datsun 280-zx mazda rx-7 gs triumph tr7 coupe ford mustang cobra honda accord plymouth reliant buick skylark dodge aries wagon (sw) chevrolet citation plymouth reliant toyota starlet plymouth champ honda civic 1300 subaru datsun 210 mpg toyota tercel mazda glc 4 plymouth horizon 4 ford escort 4w ford escort 2h volkswagen jetta renault 18i honda prelude toyota corolla datsun 200sx mazda 626 peugeot 505s turbo diesel volvo diesel toyota cressida datsun 810 maxima buick century oldsmobile cutlass ls ford granada gl chrysler lebaron salon chevrolet cavalier chevrolet cavalier wagon chevrolet cavalier 2-door pontiac j2000 se hatchback dodge aries se pontiac phoenix ford fairmont futura amc concord dl volkswagen rabbit l mazda glc custom l mazda glc custom plymouth horizon miser mercury lynx l nissan stanza xe honda accord toyota corolla honda civic honda civic (auto) datsun 310 gx buick century limited oldsmobile cutlass ciera (diesel) chrysler lebaron medallion ford granada l toyota celica gt dodge charger 2.2 chevrolet camaro ford mustang gl vw pickup dodge rampage ford ranger chevy s-10\""
      ]
     },
     "execution_count": 10,
     "metadata": {},
     "output_type": "execute_result"
    }
   ],
   "source": [
    "\" \".join(cars['car name'].to_list())"
   ]
  },
  {
   "cell_type": "code",
   "execution_count": 11,
   "metadata": {},
   "outputs": [
    {
     "data": {
      "text/plain": [
       "<AxesSubplot:>"
      ]
     },
     "execution_count": 11,
     "metadata": {},
     "output_type": "execute_result"
    },
    {
     "data": {
      "image/png": "[encoded data removed]",
      "text/plain": [
       "<Figure size 432x288 with 1 Axes>"
      ]
     },
     "metadata": {
      "needs_background": "light"
     },
     "output_type": "display_data"
    }
   ],
   "source": [
    "cars['type'] = np.where(cars['car name'].str.contains('diesel'), 1, 0)\n",
    "cars['type'].value_counts().plot(kind='bar')"
   ]
  },
  {
   "cell_type": "code",
   "execution_count": 12,
   "metadata": {},
   "outputs": [
    {
     "data": {
      "text/plain": [
       "0      chevrolet chevelle malibu\n",
       "1              buick skylark 320\n",
       "2             plymouth satellite\n",
       "3                  amc rebel sst\n",
       "4                    ford torino\n",
       "                 ...            \n",
       "393              ford mustang gl\n",
       "394                    vw pickup\n",
       "395                dodge rampage\n",
       "396                  ford ranger\n",
       "397                   chevy s-10\n",
       "Name: car name, Length: 398, dtype: object"
      ]
     },
     "execution_count": 12,
     "metadata": {},
     "output_type": "execute_result"
    }
   ],
   "source": [
    "cars.pop('car name')"
   ]
  },
  {
   "cell_type": "code",
   "execution_count": 13,
   "metadata": {},
   "outputs": [
    {
     "name": "stdout",
     "output_type": "stream",
     "text": [
      "Presence of any null values:False\n"
     ]
    }
   ],
   "source": [
    "print (\"Presence of any null values:\" + str(cars.isnull().values.any()))"
   ]
  },
  {
   "attachments": {},
   "cell_type": "markdown",
   "metadata": {},
   "source": [
    "## EDA\n",
    "\n",
    "The purpose of EDA is to enhance our understanding of trends in the dataset without involving complicated machine learning models. Oftentimes, we can see obvious traits using graphs and charts just from plotting columns of the dataset against each other.\n",
    "\n",
    "We’ve completed the necessary preprocessing steps, so let’s create a correlation map to see the relations between different features."
   ]
  },
  {
   "cell_type": "code",
   "execution_count": 14,
   "metadata": {},
   "outputs": [
    {
     "data": {
      "image/png": "[encoded data removed]",
      "text/plain": [
       "<Figure size 432x288 with 2 Axes>"
      ]
     },
     "metadata": {
      "needs_background": "light"
     },
     "output_type": "display_data"
    }
   ],
   "source": [
    "corr = cars.corr()\n",
    "sns.heatmap(corr)\n",
    "plt.show()"
   ]
  },
  {
   "attachments": {},
   "cell_type": "markdown",
   "metadata": {},
   "source": [
    "### Notes:\n",
    "\n",
    "- There are some strong correlations between each column. For cylinders, displacement, horse-power, and weight, it makes sense that the mpg would be negatively correlated with rising trends in any of the named features.\n",
    "- Model year and origin also make sense, since non-American/European countries may contain more fuel-efficient standards due to different fuel prices in those areas."
   ]
  },
  {
   "attachments": {},
   "cell_type": "markdown",
   "metadata": {},
   "source": [
    "Next, we can plot the number of cars based on their origin (US = 1, Asia = 2, Europe = 3). This is important to us because we’re assuming that different regions have different fuel efficiency priorities, so our model will be skewed towards the region with the most cars in the dataset."
   ]
  },
  {
   "cell_type": "code",
   "execution_count": 15,
   "metadata": {},
   "outputs": [
    {
     "data": {
      "text/plain": [
       "<AxesSubplot:>"
      ]
     },
     "execution_count": 15,
     "metadata": {},
     "output_type": "execute_result"
    },
    {
     "data": {
      "image/png": "[encoded data removed]",
      "text/plain": [
       "<Figure size 432x288 with 1 Axes>"
      ]
     },
     "metadata": {
      "needs_background": "light"
     },
     "output_type": "display_data"
    }
   ],
   "source": [
    "cars['origin'].value_counts().plot(kind='bar')"
   ]
  },
  {
   "attachments": {},
   "cell_type": "markdown",
   "metadata": {},
   "source": [
    "With 1 corresponding to American cars, we can see that the US accounts for the majority of the cars produced here. **This may be a problem for our model, but if our accuracy is too low, then we can always normalize the presence of each area in the dataset to get predictions that aren’t skewed towards American car mpg**.\n",
    "\n",
    "We can also view the distributions of different cylinder counts among our dataset."
   ]
  },
  {
   "cell_type": "code",
   "execution_count": 16,
   "metadata": {},
   "outputs": [
    {
     "data": {
      "text/plain": [
       "<AxesSubplot:>"
      ]
     },
     "execution_count": 16,
     "metadata": {},
     "output_type": "execute_result"
    },
    {
     "data": {
      "image/png": "[encoded data removed]",
      "text/plain": [
       "<Figure size 432x288 with 1 Axes>"
      ]
     },
     "metadata": {
      "needs_background": "light"
     },
     "output_type": "display_data"
    }
   ],
   "source": [
    "cars['cylinders'].value_counts().plot(kind='bar')"
   ]
  },
  {
   "attachments": {},
   "cell_type": "markdown",
   "metadata": {},
   "source": [
    "Notice how many cars have 4 cylinders versus 8/6 and 3/5. The V3 is an older engine design that was rarely used in production cars, while the V5 counts can be attributed to Volkswagen’s VR5 engine design.\n",
    "\n",
    "Since the dataset uses pre-2000s cars, it makes sense how 4 cylinder cars are extremely popular. As time went on, the popularity of the SUV led to more cars having 6–8 cylinders in their engines."
   ]
  },
  {
   "attachments": {},
   "cell_type": "markdown",
   "metadata": {},
   "source": [
    "A boxplot will help us better visualize what is happening with the data. Using seaborn’s builtin boxplot method, I’ve made the plot below, which plots car origin against the mpgs of the individual cars:"
   ]
  },
  {
   "cell_type": "code",
   "execution_count": 20,
   "metadata": {},
   "outputs": [
    {
     "data": {
      "text/plain": [
       "<AxesSubplot:xlabel='origin', ylabel='mpg'>"
      ]
     },
     "execution_count": 20,
     "metadata": {},
     "output_type": "execute_result"
    },
    {
     "data": {
      "image/png": "[encoded data removed]",
      "text/plain": [
       "<Figure size 432x288 with 1 Axes>"
      ]
     },
     "metadata": {
      "needs_background": "light"
     },
     "output_type": "display_data"
    }
   ],
   "source": [
    "sns.boxplot(x='origin', y='mpg', data=cars)"
   ]
  },
  {
   "attachments": {},
   "cell_type": "markdown",
   "metadata": {},
   "source": [
    "Before we discuss the box plot, it seems that outliers are affecting our averages, especially for European cars. We can use Python and pandas to see what outliers are present."
   ]
  },
  {
   "cell_type": "code",
   "execution_count": 22,
   "metadata": {},
   "outputs": [
    {
     "data": {
      "text/plain": [
       "<AxesSubplot:xlabel='origin', ylabel='mpg'>"
      ]
     },
     "execution_count": 22,
     "metadata": {},
     "output_type": "execute_result"
    },
    {
     "data": {
      "image/png": "[encoded data removed]",
      "text/plain": [
       "<Figure size 432x288 with 1 Axes>"
      ]
     },
     "metadata": {
      "needs_background": "light"
     },
     "output_type": "display_data"
    }
   ],
   "source": [
    "american_cars = cars[cars['origin'] == 1]\n",
    "japanese_cars = cars[cars['origin'] == 3]\n",
    "european_cars = cars[cars['origin'] == 2]\n",
    "\n",
    "quantile_usa = american_cars['mpg'].quantile(0.90)\n",
    "quantile_jp = japanese_cars['mpg'].quantile(0.90)\n",
    "quantile_eu = european_cars['mpg'].quantile(0.90)\n",
    "\n",
    "american_cars[american_cars['mpg'] < quantile_usa] \n",
    "european_cars[european_cars['mpg'] < quantile_eu] \n",
    "japanese_cars[japanese_cars['mpg'] < quantile_jp]\n",
    "\n",
    "frames = [american_cars, european_cars, japanese_cars] \n",
    "df = pd.concat(frames)\n",
    "\n",
    "sns.boxplot(x='origin', y='mpg', data=df)"
   ]
  },
  {
   "attachments": {},
   "cell_type": "markdown",
   "metadata": {},
   "source": [
    "**Note:** USA = 1, Europe = 2, and Asia = 3"
   ]
  },
  {
   "attachments": {},
   "cell_type": "markdown",
   "metadata": {},
   "source": [
    "From the boxplot, we can see that the Asian cars often have significantly higher mpg than American/European cars. This may be a contributing factor as to why Japanese cars dominated the automotive industry during that time period.\n",
    "\n",
    "**Note:** We should also expect that our predicted mpg values will oftentimes be lower than the actual number because of the amount of American cars present within our dataset.\n",
    "\n",
    "We could equalize the distributions of the cars based on region, but doing so would drastically reduce the amount of data points we can use, possibly causing problems in our model due to the lack of training data."
   ]
  },
  {
   "attachments": {},
   "cell_type": "markdown",
   "metadata": {},
   "source": [
    "# Model Training\n",
    "\n",
    "Since there are multiple algorithms we can use to build our model, we will compare the accuracy scores after testing and pick the most accurate algorithm."
   ]
  },
  {
   "cell_type": "code",
   "execution_count": 23,
   "metadata": {},
   "outputs": [],
   "source": [
    "import xgboost as xgb\n",
    "from xgboost import XGBRegressor\n",
    "from sklearn.tree import DecisionTreeRegressor\n",
    "from sklearn.datasets import make_regression\n",
    "from sklearn.ensemble import RandomForestRegressor\n",
    "from sklearn.neighbors import KNeighborsRegressor\n",
    "from sklearn.model_selection import train_test_split\n"
   ]
  },
  {
   "cell_type": "code",
   "execution_count": 24,
   "metadata": {},
   "outputs": [],
   "source": [
    "training, test = train_test_split(cars, test_size=0.3, shuffle=True)\n",
    "training, valid = train_test_split(training, test_size=0.3 ,shuffle=True)\n",
    "                                   \n",
    "training_label = training.pop('mpg')\n",
    "test_label = test.pop('mpg')\n",
    "valid_label = valid.pop('mpg')"
   ]
  },
  {
   "cell_type": "code",
   "execution_count": 25,
   "metadata": {},
   "outputs": [
    {
     "data": {
      "text/plain": [
       "KNeighborsRegressor(n_neighbors=3)"
      ]
     },
     "execution_count": 25,
     "metadata": {},
     "output_type": "execute_result"
    }
   ],
   "source": [
    "# instantiate training models\n",
    "xgb = XGBRegressor()\n",
    "dtc = DecisionTreeRegressor()\n",
    "rfc = RandomForestRegressor()\n",
    "knn = KNeighborsRegressor(n_neighbors=3)\n",
    "\n",
    "# train the models\n",
    "xgb.fit(training, training_label)\n",
    "dtc.fit(training, training_label)\n",
    "rfc.fit(training, training_label)\n",
    "knn.fit(training, training_label)"
   ]
  },
  {
   "attachments": {},
   "cell_type": "markdown",
   "metadata": {},
   "source": [
    "# Testing Model\n",
    "\n",
    "Because we are doing regression testing, we use sklearn’s built-in mean_squared_error() method and then use math.sqrt() to get the RMSE (root mean squared error)."
   ]
  },
  {
   "cell_type": "code",
   "execution_count": 27,
   "metadata": {},
   "outputs": [],
   "source": [
    "from sklearn.metrics import mean_squared_error\n",
    "import math"
   ]
  },
  {
   "cell_type": "code",
   "execution_count": 26,
   "metadata": {},
   "outputs": [],
   "source": [
    "xgb_predict = xgb.predict(test)\n",
    "dtc_predict = dtc.predict(test)\n",
    "rfc_predict = rfc.predict(test)\n",
    "knn_predict = knn.predict(test)"
   ]
  },
  {
   "cell_type": "code",
   "execution_count": 28,
   "metadata": {},
   "outputs": [
    {
     "name": "stdout",
     "output_type": "stream",
     "text": [
      "{'XGBoost': 3.109520979207271, 'DecisionTree': 3.8398676192459202, 'RandomForest': 3.1849935701138663, 'KNN': 4.620609026716909}\n"
     ]
    }
   ],
   "source": [
    "accuracy = dict()\n",
    "\n",
    "accuracy['XGBoost'] = math.sqrt(mean_squared_error(test_label, xgb_predict)) \n",
    "accuracy['DecisionTree'] = math.sqrt(mean_squared_error(test_label, dtc_predict))\n",
    "accuracy['RandomForest'] = math.sqrt(mean_squared_error(test_label, rfc_predict))\n",
    "accuracy['KNN'] = math.sqrt(mean_squared_error(test_label,knn_predict))\n",
    "\n",
    "print(accuracy)"
   ]
  },
  {
   "attachments": {},
   "cell_type": "markdown",
   "metadata": {},
   "source": [
    "These results for the testing set match about what others have achieved for this dataset. With some additional fine tuning, we can lower the RMSE even further. Let’s run our validation testing, and see what our RMSE values are."
   ]
  },
  {
   "cell_type": "code",
   "execution_count": 30,
   "metadata": {},
   "outputs": [
    {
     "name": "stdout",
     "output_type": "stream",
     "text": [
      "{'XGBoost': 3.29686089697177, 'DecisionTree': 4.531910666122434, 'RandomForest': 3.6809795280216213, 'KNN': 4.919071244123417}\n"
     ]
    }
   ],
   "source": [
    "# perform validation testing for dataset \n",
    "xgb_predict = xgb.predict(valid) \n",
    "dtc_predict = dtc.predict(valid) \n",
    "rfc_predict = rfc.predict(valid) \n",
    "knn_predict = knn.predict(valid)\n",
    "\n",
    "# judge accuracy using built-in function\n",
    "accuracy['XGBoost'] = math.sqrt(mean_squared_error(valid_label, xgb_predict)) \n",
    "accuracy['DecisionTree'] = math.sqrt(mean_squared_error(valid_label, dtc_predict))\n",
    "accuracy['RandomForest'] = math.sqrt(mean_squared_error(valid_label, rfc_predict))\n",
    "accuracy['KNN'] = math.sqrt(mean_squared_error(valid_label, knn_predict))\n",
    "\n",
    "print(accuracy)"
   ]
  },
  {
   "attachments": {},
   "cell_type": "markdown",
   "metadata": {},
   "source": [
    "It seems that our model may not be overfitting to our dataset, which is good. While validation testing doesn’t completely eliminate the chance of overfitting, it gives us some confidence for when our model handles new data."
   ]
  },
  {
   "cell_type": "code",
   "execution_count": 31,
   "metadata": {},
   "outputs": [
    {
     "data": {
      "text/html": [
       "<div>\n",
       "<style scoped>\n",
       "    .dataframe tbody tr th:only-of-type {\n",
       "        vertical-align: middle;\n",
       "    }\n",
       "\n",
       "    .dataframe tbody tr th {\n",
       "        vertical-align: top;\n",
       "    }\n",
       "\n",
       "    .dataframe thead th {\n",
       "        text-align: right;\n",
       "    }\n",
       "</style>\n",
       "<table border=\"1\" class=\"dataframe\">\n",
       "  <thead>\n",
       "    <tr style=\"text-align: right;\">\n",
       "      <th></th>\n",
       "      <th>label mpg</th>\n",
       "      <th>prediction</th>\n",
       "    </tr>\n",
       "  </thead>\n",
       "  <tbody>\n",
       "    <tr>\n",
       "      <th>354</th>\n",
       "      <td>34.5</td>\n",
       "      <td>28.547934</td>\n",
       "    </tr>\n",
       "    <tr>\n",
       "      <th>257</th>\n",
       "      <td>19.4</td>\n",
       "      <td>22.435398</td>\n",
       "    </tr>\n",
       "    <tr>\n",
       "      <th>0</th>\n",
       "      <td>18.0</td>\n",
       "      <td>17.322826</td>\n",
       "    </tr>\n",
       "    <tr>\n",
       "      <th>198</th>\n",
       "      <td>33.0</td>\n",
       "      <td>33.003033</td>\n",
       "    </tr>\n",
       "    <tr>\n",
       "      <th>128</th>\n",
       "      <td>15.0</td>\n",
       "      <td>17.455112</td>\n",
       "    </tr>\n",
       "  </tbody>\n",
       "</table>\n",
       "</div>"
      ],
      "text/plain": [
       "     label mpg  prediction\n",
       "354       34.5   28.547934\n",
       "257       19.4   22.435398\n",
       "0         18.0   17.322826\n",
       "198       33.0   33.003033\n",
       "128       15.0   17.455112"
      ]
     },
     "execution_count": 31,
     "metadata": {},
     "output_type": "execute_result"
    }
   ],
   "source": [
    "results = pd.DataFrame({'label mpg': valid_label,\n",
    "'prediction': xgb.predict(valid)})\n",
    "results.head()"
   ]
  },
  {
   "attachments": {},
   "cell_type": "markdown",
   "metadata": {},
   "source": [
    "From the above table, our model is decently accurate at predicting the mpg of a car.\n",
    "\n",
    "Even though there is some error, generally, it is accurate enough to be reasonable to use for prediction.\n",
    "\n",
    "Even after normalizing the amount of cars per region, the errors generally do not improve much. One problem is that the data contains incorrect mpg values for some of the cars.\n",
    "\n",
    "Looking up many of the cars where there are high error rates reveals vastly different mpg ratings than what is listed in our dataset.\n",
    "\n",
    "Therefore, our model performs very well overall, and big gaps in mpg are usually due to the data itself being incorrect."
   ]
  },
  {
   "cell_type": "code",
   "execution_count": 32,
   "metadata": {},
   "outputs": [
    {
     "data": {
      "text/html": [
       "<div>\n",
       "<style scoped>\n",
       "    .dataframe tbody tr th:only-of-type {\n",
       "        vertical-align: middle;\n",
       "    }\n",
       "\n",
       "    .dataframe tbody tr th {\n",
       "        vertical-align: top;\n",
       "    }\n",
       "\n",
       "    .dataframe thead th {\n",
       "        text-align: right;\n",
       "    }\n",
       "</style>\n",
       "<table border=\"1\" class=\"dataframe\">\n",
       "  <thead>\n",
       "    <tr style=\"text-align: right;\">\n",
       "      <th></th>\n",
       "      <th>Algorithms</th>\n",
       "      <th>Percentage</th>\n",
       "    </tr>\n",
       "  </thead>\n",
       "  <tbody>\n",
       "    <tr>\n",
       "      <th>0</th>\n",
       "      <td>XGBoost</td>\n",
       "      <td>3.296861</td>\n",
       "    </tr>\n",
       "    <tr>\n",
       "      <th>1</th>\n",
       "      <td>DecisionTree</td>\n",
       "      <td>4.531911</td>\n",
       "    </tr>\n",
       "    <tr>\n",
       "      <th>2</th>\n",
       "      <td>RandomForest</td>\n",
       "      <td>3.680980</td>\n",
       "    </tr>\n",
       "    <tr>\n",
       "      <th>3</th>\n",
       "      <td>KNN</td>\n",
       "      <td>4.919071</td>\n",
       "    </tr>\n",
       "  </tbody>\n",
       "</table>\n",
       "</div>"
      ],
      "text/plain": [
       "     Algorithms  Percentage\n",
       "0       XGBoost    3.296861\n",
       "1  DecisionTree    4.531911\n",
       "2  RandomForest    3.680980\n",
       "3           KNN    4.919071"
      ]
     },
     "metadata": {},
     "output_type": "display_data"
    },
    {
     "data": {
      "image/png": "[encoded data removed]",
      "text/plain": [
       "<Figure size 1080x360 with 1 Axes>"
      ]
     },
     "metadata": {
      "needs_background": "light"
     },
     "output_type": "display_data"
    }
   ],
   "source": [
    "fig, (ax1) = plt.subplots(ncols=1, sharey=True,figsize=(15,5))\n",
    "new_df=pd.DataFrame(list(accuracy.items()),columns=['Algorithms','Percentage'])\n",
    "display(new_df)\n",
    "sns.barplot(x=\"Algorithms\", y=\"Percentage\", data=new_df,ax=ax1);"
   ]
  },
  {
   "attachments": {},
   "cell_type": "markdown",
   "metadata": {},
   "source": [
    "Again, XGBoost is performing the best, with a RMSE value of 2.5 mpg. While we are picking XGBoost for future predictions, remember that different algorithms tax different resources.\n",
    "\n",
    "If you are prioritizing training speed and have limited memory and CPU time, XGBoost will probably not be the best choice.\n",
    "\n",
    "‘Best performing’ is a very deceptive term for machine learning algorithms because performance can be based on a variety of metrics, such as speed, efficiency, or accuracy.\n",
    "\n",
    "Let’s select the most accurate algorithm (the smallest RMSE value)."
   ]
  },
  {
   "cell_type": "code",
   "execution_count": 33,
   "metadata": {},
   "outputs": [
    {
     "data": {
      "text/plain": [
       "'XGBoost'"
      ]
     },
     "execution_count": 33,
     "metadata": {},
     "output_type": "execute_result"
    }
   ],
   "source": [
    "max_accuracy = min(accuracy,key=accuracy.get)\n",
    "max_accuracy"
   ]
  },
  {
   "attachments": {},
   "cell_type": "markdown",
   "metadata": {},
   "source": [
    "The results tell us that our model is decently reliable for the dataset.\n",
    "\n",
    "Even though some predictions are far away from the actual value, further inspection of the dataset leads me to believe that some of the mpg values are wildly inaccurate.\n",
    "\n",
    "However, we also don’t have much data to work with, so we chose to keep the incorrect values and replace the outliers with the actual values as we encounter them."
   ]
  },
  {
   "attachments": {},
   "cell_type": "markdown",
   "metadata": {},
   "source": [
    "# Conclusion"
   ]
  },
  {
   "attachments": {},
   "cell_type": "markdown",
   "metadata": {},
   "source": [
    "During this notebook, we built a model that could reliably predict a car’s mpg given some information about the car within 2.5 mpg of the actual value.\n",
    "\n",
    "This model could be trained with newer car data and be used to predict competitor’s future mpg ratings for upcoming cars, allowing companies to potentially resources currently used on R&D today on making more efficient, more popular vehicles that outshine competitors.\n",
    "\n",
    "While our model may be inaccurate in some cases, we talked about how our dataset can contain inaccurate values for the mpg, and oftentimes, our predictions are more accurate than the values in the dataset.\n",
    "\n",
    "For newer cars, the collected data is significantly more reliable, so our model will be able to perform better with a different, more accurate dataset."
   ]
  }
 ],
 "metadata": {
  "kernelspec": {
   "display_name": "Python 3",
   "language": "python",
   "name": "python3"
  },
  "language_info": {
   "codemirror_mode": {
    "name": "ipython",
    "version": 3
   },
   "file_extension": ".py",
   "mimetype": "text/x-python",
   "name": "python",
   "nbconvert_exporter": "python",
   "pygments_lexer": "ipython3",
   "version": "3.7.0"
  },
  "orig_nbformat": 4
 },
 "nbformat": 4,
 "nbformat_minor": 2
}
