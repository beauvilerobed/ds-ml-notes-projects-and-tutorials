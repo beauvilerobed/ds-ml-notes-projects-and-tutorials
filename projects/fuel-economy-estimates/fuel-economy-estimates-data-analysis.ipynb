{
 "cells": [
  {
   "attachments": {},
   "cell_type": "markdown",
   "metadata": {},
   "source": [
    "The purpose of this notebook is to work through an example of a data analysis. We will show how we perform some common preprocessing / analysis tasks to gather more information about the data."
   ]
  },
  {
   "cell_type": "code",
   "execution_count": null,
   "metadata": {},
   "outputs": [],
   "source": []
  }
 ],
 "metadata": {
  "language_info": {
   "name": "python"
  },
  "orig_nbformat": 4
 },
 "nbformat": 4,
 "nbformat_minor": 2
}
