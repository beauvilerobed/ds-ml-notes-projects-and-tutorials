{
 "cells": [
  {
   "attachments": {},
   "cell_type": "markdown",
   "metadata": {},
   "source": [
    "## Multicollinearity in Regression Analysis: Problems, Detection, and Solutions"
   ]
  },
  {
   "attachments": {},
   "cell_type": "markdown",
   "metadata": {},
   "source": [
    "Multicollinearity occurs when independent variables in a regression model are correlated. If the degree of correlation between variables is high enough, it can cause problems when you fit the model and interpret the result."
   ]
  },
  {
   "attachments": {},
   "cell_type": "markdown",
   "metadata": {},
   "source": [
    "### Why is Multicollinearity a Potential Problem?\n"
   ]
  },
  {
   "attachments": {},
   "cell_type": "markdown",
   "metadata": {},
   "source": [
    "Note that the goal of regression analysis is to isolate the relationship between each indpendent variable and the dependent variable.\n",
    "The regression coefficient represents the mean change in the dependent variable for each 1 unit change in an independent variable provided\n",
    "*hold all of the other independent variables constant*.\n",
    "\n",
    "When independent variables are correlated, then changes in one variable are associated with shifts in another variable. The stronger the \n",
    "correlation the harder it is to change one variable without changing another.\n",
    "\n",
    "There are two basic kinds of multicollinearity:\n",
    "- **Structural multicollinearity**: Occurs when we create a model term using other terms. E.g. if you square term X to model curvature then X \n",
    "is correlated to $X^2$.\n",
    "- **Data Multicollinearity**: Present in data itself rather than being an artifact of our model. Observational experiments are more likely \n",
    "to exhibit this kind of multicollinearity."
   ]
  },
  {
   "attachments": {},
   "cell_type": "markdown",
   "metadata": {},
   "source": [
    "## What Problmes Do Multicollinearity Cause?"
   ]
  },
  {
   "attachments": {},
   "cell_type": "markdown",
   "metadata": {},
   "source": [
    "- The coefficients become very sensitive to small changes in the model.\n",
    "- It reduces the precision of the estimated coefficients. May not be able to trust the p-values to identify independent variables that are statistically significant.\n",
    "\n",
    "You don't feel like you know the actual effect of each variable! This makes it difficult to specify the correct model and to justify the  model if many of your p-values\n",
    "are not statistically significant."
   ]
  },
  {
   "attachments": {},
   "cell_type": "markdown",
   "metadata": {},
   "source": [
    "## Do I Have to Fix Multicollinearity?"
   ]
  },
  {
   "attachments": {},
   "cell_type": "markdown",
   "metadata": {},
   "source": [
    "The need to reduce multicollinearity depends on its severity and your primary goal for your regression model. Keep in mind:\n",
    "1. The severity of the problems increase with the degree of the multicollinearity. So if you have moderate multicollinearity,\n",
    "you may not needt to resolve it.\n",
    "2. It affects only specific independent variables that are correlated. If multicollinearity is not present in independent variables\n",
    "you are interested in, you may not need to resolve it.\n",
    "3. Multicollinearity affects the coefficients and p-values, but it does not influence the predictions, precision of the predictions, \n",
    "and the goodness-of-fit statistics. If your main goal is to make predictions without understanding the role of each independent variable,\n",
    "you don't need to reduce severe multicollinearity."
   ]
  },
  {
   "attachments": {},
   "cell_type": "markdown",
   "metadata": {},
   "source": [
    "## Testing for Multicollinearity with Variance Inflation Factors (VIF)"
   ]
  },
  {
   "attachments": {},
   "cell_type": "markdown",
   "metadata": {},
   "source": [
    "Statistical software calculates a VIF for each independent variable. VIFs start at 1, indicating no correlation between other indepenent variable. It has no uppper limit.\n",
    "VIFs between 1 and 5 suggest that there is moderate correlation, but not severe enough to warrant corrective measures. VIFs greater than 5 are critical enough where the \n",
    "coefficients are poorly estimated, and the p-values are questionable.\n",
    "\n",
    "Assesing VIFs is particularly important for observational studies.\n"
   ]
  },
  {
   "attachments": {},
   "cell_type": "markdown",
   "metadata": {},
   "source": [
    "## Multicollinearity Example: Predicting Bone Density in the Femur"
   ]
  },
  {
   "attachments": {},
   "cell_type": "markdown",
   "metadata": {},
   "source": [
    "This example will show you how to detect multicollinearity as well as illustrate its effects.\n",
    "It will also show you how to remove structural multicollinearity.\n",
    "\n",
    "We'll use regression analysis to model the relationship between the independent variables(physical activity, body fat percentage,\n",
    "weight, and the interaction between weight and body fat) and the dependent variable (bone mineral density of the femoral neck)."
   ]
  },
  {
   "attachments": {},
   "cell_type": "markdown",
   "metadata": {},
   "source": [
    "## Steps for Implementing VIF"
   ]
  },
  {
   "attachments": {},
   "cell_type": "markdown",
   "metadata": {},
   "source": [
    "1. Run a multiple regression. \n",
    "2. Calculate the VIF factors.\n",
    "3. Inspect the factors for each predictor variable, if the VIF is between 5-10, multicolinearity is likely present."
   ]
  },
  {
   "cell_type": "code",
   "execution_count": 1,
   "metadata": {},
   "outputs": [],
   "source": [
    "import pandas as pd \n",
    "import numpy as np\n",
    "import statsmodels.api as sm\n",
    "from patsy import dmatrices\n",
    "from statsmodels.stats.outliers_influence import variance_inflation_factor\n",
    "from sklearn import datasets\n",
    "from sklearn.linear_model import LinearRegression\n",
    "from scipy import stats\n"
   ]
  },
  {
   "cell_type": "code",
   "execution_count": 2,
   "metadata": {},
   "outputs": [
    {
     "data": {
      "text/html": [
       "<div>\n",
       "<style scoped>\n",
       "    .dataframe tbody tr th:only-of-type {\n",
       "        vertical-align: middle;\n",
       "    }\n",
       "\n",
       "    .dataframe tbody tr th {\n",
       "        vertical-align: top;\n",
       "    }\n",
       "\n",
       "    .dataframe thead th {\n",
       "        text-align: right;\n",
       "    }\n",
       "</style>\n",
       "<table border=\"1\" class=\"dataframe\">\n",
       "  <thead>\n",
       "    <tr style=\"text-align: right;\">\n",
       "      <th></th>\n",
       "      <th>Femoral_Neck</th>\n",
       "      <th>Fat_percentage</th>\n",
       "      <th>Weight_kg</th>\n",
       "      <th>Activity</th>\n",
       "      <th>Fat_percentage_S</th>\n",
       "      <th>Weight_S</th>\n",
       "      <th>Activity_S</th>\n",
       "    </tr>\n",
       "  </thead>\n",
       "  <tbody>\n",
       "    <tr>\n",
       "      <th>0</th>\n",
       "      <td>0.934</td>\n",
       "      <td>25.3</td>\n",
       "      <td>52.163126</td>\n",
       "      <td>3508.44</td>\n",
       "      <td>-3.265217</td>\n",
       "      <td>-1.765066</td>\n",
       "      <td>946.450435</td>\n",
       "    </tr>\n",
       "    <tr>\n",
       "      <th>1</th>\n",
       "      <td>0.888</td>\n",
       "      <td>29.3</td>\n",
       "      <td>61.801965</td>\n",
       "      <td>2773.54</td>\n",
       "      <td>0.734783</td>\n",
       "      <td>7.873772</td>\n",
       "      <td>211.550435</td>\n",
       "    </tr>\n",
       "    <tr>\n",
       "      <th>2</th>\n",
       "      <td>0.933</td>\n",
       "      <td>37.7</td>\n",
       "      <td>93.440034</td>\n",
       "      <td>1738.97</td>\n",
       "      <td>9.134783</td>\n",
       "      <td>39.511842</td>\n",
       "      <td>-823.019565</td>\n",
       "    </tr>\n",
       "    <tr>\n",
       "      <th>3</th>\n",
       "      <td>0.757</td>\n",
       "      <td>32.8</td>\n",
       "      <td>59.874197</td>\n",
       "      <td>1665.29</td>\n",
       "      <td>4.234783</td>\n",
       "      <td>5.946005</td>\n",
       "      <td>-896.699565</td>\n",
       "    </tr>\n",
       "    <tr>\n",
       "      <th>4</th>\n",
       "      <td>1.031</td>\n",
       "      <td>24.6</td>\n",
       "      <td>50.348756</td>\n",
       "      <td>3982.95</td>\n",
       "      <td>-3.965217</td>\n",
       "      <td>-3.579436</td>\n",
       "      <td>1420.960435</td>\n",
       "    </tr>\n",
       "  </tbody>\n",
       "</table>\n",
       "</div>"
      ],
      "text/plain": [
       "   Femoral_Neck  Fat_percentage  Weight_kg  Activity  Fat_percentage_S  \\\n",
       "0         0.934            25.3  52.163126   3508.44         -3.265217   \n",
       "1         0.888            29.3  61.801965   2773.54          0.734783   \n",
       "2         0.933            37.7  93.440034   1738.97          9.134783   \n",
       "3         0.757            32.8  59.874197   1665.29          4.234783   \n",
       "4         1.031            24.6  50.348756   3982.95         -3.965217   \n",
       "\n",
       "    Weight_S   Activity_S  \n",
       "0  -1.765066   946.450435  \n",
       "1   7.873772   211.550435  \n",
       "2  39.511842  -823.019565  \n",
       "3   5.946005  -896.699565  \n",
       "4  -3.579436  1420.960435  "
      ]
     },
     "execution_count": 2,
     "metadata": {},
     "output_type": "execute_result"
    }
   ],
   "source": [
    "data = pd.read_csv('MulticollinearityExample.csv')\n",
    "data.head()"
   ]
  },
  {
   "cell_type": "code",
   "execution_count": 3,
   "metadata": {},
   "outputs": [
    {
     "data": {
      "text/html": [
       "<div>\n",
       "<style scoped>\n",
       "    .dataframe tbody tr th:only-of-type {\n",
       "        vertical-align: middle;\n",
       "    }\n",
       "\n",
       "    .dataframe tbody tr th {\n",
       "        vertical-align: top;\n",
       "    }\n",
       "\n",
       "    .dataframe thead th {\n",
       "        text-align: right;\n",
       "    }\n",
       "</style>\n",
       "<table border=\"1\" class=\"dataframe\">\n",
       "  <thead>\n",
       "    <tr style=\"text-align: right;\">\n",
       "      <th></th>\n",
       "      <th>Femoral_Neck</th>\n",
       "      <th>Fat_percentage</th>\n",
       "      <th>Weight_kg</th>\n",
       "      <th>Activity</th>\n",
       "    </tr>\n",
       "  </thead>\n",
       "  <tbody>\n",
       "    <tr>\n",
       "      <th>0</th>\n",
       "      <td>0.934</td>\n",
       "      <td>25.3</td>\n",
       "      <td>52.163126</td>\n",
       "      <td>3508.44</td>\n",
       "    </tr>\n",
       "    <tr>\n",
       "      <th>1</th>\n",
       "      <td>0.888</td>\n",
       "      <td>29.3</td>\n",
       "      <td>61.801965</td>\n",
       "      <td>2773.54</td>\n",
       "    </tr>\n",
       "    <tr>\n",
       "      <th>2</th>\n",
       "      <td>0.933</td>\n",
       "      <td>37.7</td>\n",
       "      <td>93.440034</td>\n",
       "      <td>1738.97</td>\n",
       "    </tr>\n",
       "    <tr>\n",
       "      <th>3</th>\n",
       "      <td>0.757</td>\n",
       "      <td>32.8</td>\n",
       "      <td>59.874197</td>\n",
       "      <td>1665.29</td>\n",
       "    </tr>\n",
       "    <tr>\n",
       "      <th>4</th>\n",
       "      <td>1.031</td>\n",
       "      <td>24.6</td>\n",
       "      <td>50.348756</td>\n",
       "      <td>3982.95</td>\n",
       "    </tr>\n",
       "  </tbody>\n",
       "</table>\n",
       "</div>"
      ],
      "text/plain": [
       "   Femoral_Neck  Fat_percentage  Weight_kg  Activity\n",
       "0         0.934            25.3  52.163126   3508.44\n",
       "1         0.888            29.3  61.801965   2773.54\n",
       "2         0.933            37.7  93.440034   1738.97\n",
       "3         0.757            32.8  59.874197   1665.29\n",
       "4         1.031            24.6  50.348756   3982.95"
      ]
     },
     "execution_count": 3,
     "metadata": {},
     "output_type": "execute_result"
    }
   ],
   "source": [
    "data = data[['Femoral_Neck',  'Fat_percentage',  'Weight_kg',  'Activity']]\n",
    "data.head()"
   ]
  },
  {
   "cell_type": "code",
   "execution_count": 4,
   "metadata": {},
   "outputs": [
    {
     "name": "stdout",
     "output_type": "stream",
     "text": [
      "DataFrame after addition of new colulmn\n"
     ]
    },
    {
     "data": {
      "text/html": [
       "<div>\n",
       "<style scoped>\n",
       "    .dataframe tbody tr th:only-of-type {\n",
       "        vertical-align: middle;\n",
       "    }\n",
       "\n",
       "    .dataframe tbody tr th {\n",
       "        vertical-align: top;\n",
       "    }\n",
       "\n",
       "    .dataframe thead th {\n",
       "        text-align: right;\n",
       "    }\n",
       "</style>\n",
       "<table border=\"1\" class=\"dataframe\">\n",
       "  <thead>\n",
       "    <tr style=\"text-align: right;\">\n",
       "      <th></th>\n",
       "      <th>Femoral_Neck</th>\n",
       "      <th>Fat_percentage</th>\n",
       "      <th>Weight_kg</th>\n",
       "      <th>Activity</th>\n",
       "      <th>Fat_percentage_times_Weight_kg</th>\n",
       "    </tr>\n",
       "  </thead>\n",
       "  <tbody>\n",
       "    <tr>\n",
       "      <th>0</th>\n",
       "      <td>0.934</td>\n",
       "      <td>25.3</td>\n",
       "      <td>52.163126</td>\n",
       "      <td>3508.44</td>\n",
       "      <td>1319.727088</td>\n",
       "    </tr>\n",
       "    <tr>\n",
       "      <th>1</th>\n",
       "      <td>0.888</td>\n",
       "      <td>29.3</td>\n",
       "      <td>61.801965</td>\n",
       "      <td>2773.54</td>\n",
       "      <td>1810.797560</td>\n",
       "    </tr>\n",
       "    <tr>\n",
       "      <th>2</th>\n",
       "      <td>0.933</td>\n",
       "      <td>37.7</td>\n",
       "      <td>93.440034</td>\n",
       "      <td>1738.97</td>\n",
       "      <td>3522.689297</td>\n",
       "    </tr>\n",
       "    <tr>\n",
       "      <th>3</th>\n",
       "      <td>0.757</td>\n",
       "      <td>32.8</td>\n",
       "      <td>59.874197</td>\n",
       "      <td>1665.29</td>\n",
       "      <td>1963.873655</td>\n",
       "    </tr>\n",
       "    <tr>\n",
       "      <th>4</th>\n",
       "      <td>1.031</td>\n",
       "      <td>24.6</td>\n",
       "      <td>50.348756</td>\n",
       "      <td>3982.95</td>\n",
       "      <td>1238.579407</td>\n",
       "    </tr>\n",
       "  </tbody>\n",
       "</table>\n",
       "</div>"
      ],
      "text/plain": [
       "   Femoral_Neck  Fat_percentage  Weight_kg  Activity  \\\n",
       "0         0.934            25.3  52.163126   3508.44   \n",
       "1         0.888            29.3  61.801965   2773.54   \n",
       "2         0.933            37.7  93.440034   1738.97   \n",
       "3         0.757            32.8  59.874197   1665.29   \n",
       "4         1.031            24.6  50.348756   3982.95   \n",
       "\n",
       "   Fat_percentage_times_Weight_kg  \n",
       "0                     1319.727088  \n",
       "1                     1810.797560  \n",
       "2                     3522.689297  \n",
       "3                     1963.873655  \n",
       "4                     1238.579407  "
      ]
     },
     "execution_count": 4,
     "metadata": {},
     "output_type": "execute_result"
    }
   ],
   "source": [
    "data[\"Fat_percentage_times_Weight_kg\"] = data[\"Fat_percentage\"]*data[\"Weight_kg\"]\n",
    "print(\"DataFrame after addition of new colulmn\")\n",
    "data.head()"
   ]
  },
  {
   "cell_type": "code",
   "execution_count": null,
   "metadata": {},
   "outputs": [],
   "source": []
  },
  {
   "cell_type": "code",
   "execution_count": 5,
   "metadata": {},
   "outputs": [],
   "source": [
    "y = data[\"Femoral_Neck\"]\n",
    "X = data[[\"Fat_percentage\",\t\"Weight_kg\", \"Activity\", \"Fat_percentage_times_Weight_kg\"]]\n",
    "\n",
    "# variance_inflation_factor expects the presence of a constant in the matrix of explanatory variables\n",
    "X = X.assign(constant=1)"
   ]
  },
  {
   "cell_type": "code",
   "execution_count": 6,
   "metadata": {},
   "outputs": [
    {
     "data": {
      "text/plain": [
       "(92, 5)"
      ]
     },
     "execution_count": 6,
     "metadata": {},
     "output_type": "execute_result"
    }
   ],
   "source": [
    "X.shape"
   ]
  },
  {
   "cell_type": "code",
   "execution_count": 7,
   "metadata": {},
   "outputs": [
    {
     "data": {
      "text/html": [
       "<div>\n",
       "<style scoped>\n",
       "    .dataframe tbody tr th:only-of-type {\n",
       "        vertical-align: middle;\n",
       "    }\n",
       "\n",
       "    .dataframe tbody tr th {\n",
       "        vertical-align: top;\n",
       "    }\n",
       "\n",
       "    .dataframe thead th {\n",
       "        text-align: right;\n",
       "    }\n",
       "</style>\n",
       "<table border=\"1\" class=\"dataframe\">\n",
       "  <thead>\n",
       "    <tr style=\"text-align: right;\">\n",
       "      <th></th>\n",
       "      <th>Fat_percentage</th>\n",
       "      <th>Weight_kg</th>\n",
       "      <th>Activity</th>\n",
       "      <th>Fat_percentage_times_Weight_kg</th>\n",
       "      <th>constant</th>\n",
       "    </tr>\n",
       "  </thead>\n",
       "  <tbody>\n",
       "    <tr>\n",
       "      <th>0</th>\n",
       "      <td>25.3</td>\n",
       "      <td>52.163126</td>\n",
       "      <td>3508.44</td>\n",
       "      <td>1319.727088</td>\n",
       "      <td>1</td>\n",
       "    </tr>\n",
       "    <tr>\n",
       "      <th>1</th>\n",
       "      <td>29.3</td>\n",
       "      <td>61.801965</td>\n",
       "      <td>2773.54</td>\n",
       "      <td>1810.797560</td>\n",
       "      <td>1</td>\n",
       "    </tr>\n",
       "    <tr>\n",
       "      <th>2</th>\n",
       "      <td>37.7</td>\n",
       "      <td>93.440034</td>\n",
       "      <td>1738.97</td>\n",
       "      <td>3522.689297</td>\n",
       "      <td>1</td>\n",
       "    </tr>\n",
       "    <tr>\n",
       "      <th>3</th>\n",
       "      <td>32.8</td>\n",
       "      <td>59.874197</td>\n",
       "      <td>1665.29</td>\n",
       "      <td>1963.873655</td>\n",
       "      <td>1</td>\n",
       "    </tr>\n",
       "    <tr>\n",
       "      <th>4</th>\n",
       "      <td>24.6</td>\n",
       "      <td>50.348756</td>\n",
       "      <td>3982.95</td>\n",
       "      <td>1238.579407</td>\n",
       "      <td>1</td>\n",
       "    </tr>\n",
       "  </tbody>\n",
       "</table>\n",
       "</div>"
      ],
      "text/plain": [
       "   Fat_percentage  Weight_kg  Activity  Fat_percentage_times_Weight_kg  \\\n",
       "0            25.3  52.163126   3508.44                     1319.727088   \n",
       "1            29.3  61.801965   2773.54                     1810.797560   \n",
       "2            37.7  93.440034   1738.97                     3522.689297   \n",
       "3            32.8  59.874197   1665.29                     1963.873655   \n",
       "4            24.6  50.348756   3982.95                     1238.579407   \n",
       "\n",
       "   constant  \n",
       "0         1  \n",
       "1         1  \n",
       "2         1  \n",
       "3         1  \n",
       "4         1  "
      ]
     },
     "execution_count": 7,
     "metadata": {},
     "output_type": "execute_result"
    }
   ],
   "source": [
    "X.head()"
   ]
  },
  {
   "cell_type": "code",
   "execution_count": 8,
   "metadata": {},
   "outputs": [
    {
     "name": "stdout",
     "output_type": "stream",
     "text": [
      "                            OLS Regression Results                            \n",
      "==============================================================================\n",
      "Dep. Variable:           Femoral_Neck   R-squared:                       0.562\n",
      "Model:                            OLS   Adj. R-squared:                  0.542\n",
      "Method:                 Least Squares   F-statistic:                     27.95\n",
      "Date:                Mon, 03 Jul 2023   Prob (F-statistic):           6.24e-15\n",
      "Time:                        15:21:04   Log-Likelihood:                 116.01\n",
      "No. Observations:                  92   AIC:                            -222.0\n",
      "Df Residuals:                      87   BIC:                            -209.4\n",
      "Df Model:                           4                                         \n",
      "Covariance Type:            nonrobust                                         \n",
      "==================================================================================================\n",
      "                                     coef    std err          t      P>|t|      [0.025      0.975]\n",
      "--------------------------------------------------------------------------------------------------\n",
      "Fat_percentage                     0.0056      0.004      1.363      0.176      -0.003       0.014\n",
      "Weight_kg                          0.0145      0.003      5.073      0.000       0.009       0.020\n",
      "Activity                        2.238e-05   7.28e-06      3.075      0.003    7.92e-06    3.68e-05\n",
      "Fat_percentage_times_Weight_kg    -0.0002   7.39e-05     -2.898      0.005      -0.000   -6.73e-05\n",
      "constant                           0.1549      0.132      1.176      0.243      -0.107       0.417\n",
      "==============================================================================\n",
      "Omnibus:                        4.307   Durbin-Watson:                   2.035\n",
      "Prob(Omnibus):                  0.116   Jarque-Bera (JB):                3.849\n",
      "Skew:                           0.331   Prob(JB):                        0.146\n",
      "Kurtosis:                       3.752   Cond. No.                     5.70e+04\n",
      "==============================================================================\n",
      "\n",
      "Notes:\n",
      "[1] Standard Errors assume that the covariance matrix of the errors is correctly specified.\n",
      "[2] The condition number is large, 5.7e+04. This might indicate that there are\n",
      "strong multicollinearity or other numerical problems.\n",
      "          VIF                        variable\n",
      "0   14.931555                  Fat_percentage\n",
      "1   33.948375                       Weight_kg\n",
      "2    1.053005                        Activity\n",
      "3   75.059251  Fat_percentage_times_Weight_kg\n",
      "4  321.088504                        constant\n"
     ]
    }
   ],
   "source": [
    "model = sm.OLS(y, X).fit()\n",
    "print(model.summary())\n",
    "\n",
    "vif = pd.DataFrame()\n",
    "vif['VIF'] = [variance_inflation_factor(X.values, i) for i in range(X.shape[1])]\n",
    "vif['variable'] = X.columns\n",
    "print(vif)\n"
   ]
  },
  {
   "attachments": {},
   "cell_type": "markdown",
   "metadata": {},
   "source": [
    "These results show what Weight, Activity, and the interaction between them are statistically significant. The perctent body fat is not statistically significant. However, the VIFs\n",
    "indicate that our model has severe multicollinearity for some of the independent variables.\n",
    "\n",
    "Notice that Activity has a VIF near 1, which shows that multicollinearity does not affect it and we can trust the coefficient and p-value with no further action.\n",
    "\n",
    "Additionally, at least some of the multicollinearity in our model is the structural type. The term Fat_percentage_times_Weight_kg is the product of body fat and weight. Clearly, there is a correlation between the interaction term and both of the main effect terms.\n",
    "The VIFs relfect these relationships."
   ]
  },
  {
   "attachments": {},
   "cell_type": "markdown",
   "metadata": {},
   "source": [
    "## Reducing Structural Multicollinearity: Regression with No Interaction"
   ]
  },
  {
   "cell_type": "code",
   "execution_count": 9,
   "metadata": {},
   "outputs": [
    {
     "name": "stderr",
     "output_type": "stream",
     "text": [
      "/Library/Frameworks/Python.framework/Versions/3.7/lib/python3.7/site-packages/ipykernel_launcher.py:2: SettingWithCopyWarning: \n",
      "A value is trying to be set on a copy of a slice from a DataFrame.\n",
      "Try using .loc[row_indexer,col_indexer] = value instead\n",
      "\n",
      "See the caveats in the documentation: https://pandas.pydata.org/pandas-docs/stable/user_guide/indexing.html#returning-a-view-versus-a-copy\n",
      "  \n"
     ]
    }
   ],
   "source": [
    "X_c = X[[\"Fat_percentage\",\t\"Weight_kg\", \"Activity\"]]\n",
    "X_c['const'] = 1"
   ]
  },
  {
   "cell_type": "code",
   "execution_count": 10,
   "metadata": {},
   "outputs": [
    {
     "name": "stdout",
     "output_type": "stream",
     "text": [
      "                            OLS Regression Results                            \n",
      "==============================================================================\n",
      "Dep. Variable:           Femoral_Neck   R-squared:                       0.520\n",
      "Model:                            OLS   Adj. R-squared:                  0.504\n",
      "Method:                 Least Squares   F-statistic:                     31.79\n",
      "Date:                Mon, 03 Jul 2023   Prob (F-statistic):           5.14e-14\n",
      "Time:                        15:21:04   Log-Likelihood:                 111.77\n",
      "No. Observations:                  92   AIC:                            -215.5\n",
      "Df Residuals:                      88   BIC:                            -205.5\n",
      "Df Model:                           3                                         \n",
      "Covariance Type:            nonrobust                                         \n",
      "==================================================================================\n",
      "                     coef    std err          t      P>|t|      [0.025      0.975]\n",
      "----------------------------------------------------------------------------------\n",
      "Fat_percentage    -0.0049      0.002     -2.498      0.014      -0.009      -0.001\n",
      "Weight_kg          0.0066      0.001      7.203      0.000       0.005       0.008\n",
      "Activity        2.574e-05   7.48e-06      3.442      0.001    1.09e-05    4.06e-05\n",
      "const              0.5214      0.038     13.614      0.000       0.445       0.598\n",
      "==============================================================================\n",
      "Omnibus:                        5.092   Durbin-Watson:                   2.037\n",
      "Prob(Omnibus):                  0.078   Jarque-Bera (JB):                5.676\n",
      "Skew:                           0.265   Prob(JB):                       0.0585\n",
      "Kurtosis:                       4.095   Cond. No.                     1.38e+04\n",
      "==============================================================================\n",
      "\n",
      "Notes:\n",
      "[1] Standard Errors assume that the covariance matrix of the errors is correctly specified.\n",
      "[2] The condition number is large, 1.38e+04. This might indicate that there are\n",
      "strong multicollinearity or other numerical problems.\n",
      "         VIF        variable\n",
      "0   3.204397  Fat_percentage\n",
      "1   3.240334       Weight_kg\n",
      "2   1.026226        Activity\n",
      "3  25.040050           const\n"
     ]
    }
   ],
   "source": [
    "model = sm.OLS(y, X_c).fit()\n",
    "print(model.summary())\n",
    "\n",
    "vif = pd.DataFrame()\n",
    "vif['VIF'] = [variance_inflation_factor(X_c.values, i) for i in range(X_c.shape[1])]\n",
    "vif['variable'] = X_c.columns\n",
    "print(vif)"
   ]
  },
  {
   "attachments": {},
   "cell_type": "markdown",
   "metadata": {},
   "source": [
    "Notice that all VIFs are less than 5. By removing the stuctural multicollinearity, we can see that there is some multicollinearity in our data, but\n",
    "it is not severe enough to warrant further corrective measures."
   ]
  },
  {
   "attachments": {},
   "cell_type": "markdown",
   "metadata": {},
   "source": [
    "## Comparing Regression Models to Reveal Multicollinearity Effects"
   ]
  },
  {
   "cell_type": "code",
   "execution_count": 11,
   "metadata": {},
   "outputs": [
    {
     "name": "stdout",
     "output_type": "stream",
     "text": [
      "                            OLS Regression Results                            \n",
      "==============================================================================\n",
      "Dep. Variable:           Femoral_Neck   R-squared:                       0.562\n",
      "Model:                            OLS   Adj. R-squared:                  0.542\n",
      "Method:                 Least Squares   F-statistic:                     27.95\n",
      "Date:                Mon, 03 Jul 2023   Prob (F-statistic):           6.24e-15\n",
      "Time:                        15:21:04   Log-Likelihood:                 116.01\n",
      "No. Observations:                  92   AIC:                            -222.0\n",
      "Df Residuals:                      87   BIC:                            -209.4\n",
      "Df Model:                           4                                         \n",
      "Covariance Type:            nonrobust                                         \n",
      "==================================================================================================\n",
      "                                     coef    std err          t      P>|t|      [0.025      0.975]\n",
      "--------------------------------------------------------------------------------------------------\n",
      "Fat_percentage                     0.0056      0.004      1.363      0.176      -0.003       0.014\n",
      "Weight_kg                          0.0145      0.003      5.073      0.000       0.009       0.020\n",
      "Activity                        2.238e-05   7.28e-06      3.075      0.003    7.92e-06    3.68e-05\n",
      "Fat_percentage_times_Weight_kg    -0.0002   7.39e-05     -2.898      0.005      -0.000   -6.73e-05\n",
      "constant                           0.1549      0.132      1.176      0.243      -0.107       0.417\n",
      "==============================================================================\n",
      "Omnibus:                        4.307   Durbin-Watson:                   2.035\n",
      "Prob(Omnibus):                  0.116   Jarque-Bera (JB):                3.849\n",
      "Skew:                           0.331   Prob(JB):                        0.146\n",
      "Kurtosis:                       3.752   Cond. No.                     5.70e+04\n",
      "==============================================================================\n",
      "\n",
      "Notes:\n",
      "[1] Standard Errors assume that the covariance matrix of the errors is correctly specified.\n",
      "[2] The condition number is large, 5.7e+04. This might indicate that there are\n",
      "strong multicollinearity or other numerical problems.\n"
     ]
    }
   ],
   "source": [
    "est = sm.OLS(y, X)\n",
    "est = est.fit()\n",
    "print(est.summary())"
   ]
  },
  {
   "cell_type": "code",
   "execution_count": 12,
   "metadata": {},
   "outputs": [
    {
     "name": "stdout",
     "output_type": "stream",
     "text": [
      "                            OLS Regression Results                            \n",
      "==============================================================================\n",
      "Dep. Variable:           Femoral_Neck   R-squared:                       0.520\n",
      "Model:                            OLS   Adj. R-squared:                  0.504\n",
      "Method:                 Least Squares   F-statistic:                     31.79\n",
      "Date:                Mon, 03 Jul 2023   Prob (F-statistic):           5.14e-14\n",
      "Time:                        15:21:04   Log-Likelihood:                 111.77\n",
      "No. Observations:                  92   AIC:                            -215.5\n",
      "Df Residuals:                      88   BIC:                            -205.5\n",
      "Df Model:                           3                                         \n",
      "Covariance Type:            nonrobust                                         \n",
      "==================================================================================\n",
      "                     coef    std err          t      P>|t|      [0.025      0.975]\n",
      "----------------------------------------------------------------------------------\n",
      "Fat_percentage    -0.0049      0.002     -2.498      0.014      -0.009      -0.001\n",
      "Weight_kg          0.0066      0.001      7.203      0.000       0.005       0.008\n",
      "Activity        2.574e-05   7.48e-06      3.442      0.001    1.09e-05    4.06e-05\n",
      "const              0.5214      0.038     13.614      0.000       0.445       0.598\n",
      "==============================================================================\n",
      "Omnibus:                        5.092   Durbin-Watson:                   2.037\n",
      "Prob(Omnibus):                  0.078   Jarque-Bera (JB):                5.676\n",
      "Skew:                           0.265   Prob(JB):                       0.0585\n",
      "Kurtosis:                       4.095   Cond. No.                     1.38e+04\n",
      "==============================================================================\n",
      "\n",
      "Notes:\n",
      "[1] Standard Errors assume that the covariance matrix of the errors is correctly specified.\n",
      "[2] The condition number is large, 1.38e+04. This might indicate that there are\n",
      "strong multicollinearity or other numerical problems.\n"
     ]
    }
   ],
   "source": [
    "c_est = sm.OLS(y, X_c)\n",
    "c_est = c_est.fit()\n",
    "print(c_est.summary())"
   ]
  },
  {
   "attachments": {},
   "cell_type": "markdown",
   "metadata": {},
   "source": [
    "Now, take a look at the Summary of Model tables for both models. You’ll notice that the standard error of the regression (S), R-squared, adjusted R-squared, and predicted R-squared are all identical. As I mentioned earlier, multicollinearity doesn’t affect the predictions or goodness-of-fit. If you just want to make predictions, the model with severe multicollinearity is just as good!"
   ]
  },
  {
   "attachments": {},
   "cell_type": "markdown",
   "metadata": {},
   "source": [
    "## How to Deal with Multicollinearity"
   ]
  },
  {
   "attachments": {},
   "cell_type": "markdown",
   "metadata": {},
   "source": [
    "What if you have severe multicollinearity in your data and you find that you must deal with it?\n",
    "The answer isn't always clear but potential solutions include the following:\n",
    "- Remove some of the highly correlated independent variables (should not be first option).\n",
    "- Linearly combine the independent variables, such as adding them together.\n",
    "- Perform an analysis designed for highly correlated variables (e.g. PCA or Partial least squares regression).\n",
    "- LASSO and Ridge regression are advanced forms of regression analysis that can handle multicollinearity.\n",
    "\n",
    "Remember that all of these have downsides. If you can accept less precise coefficients, or a regression model with \n",
    "high R-squared but hardly any statistically significant variables, then not doing anything about the multicollinearity might \n",
    "be the best solution."
   ]
  }
 ],
 "metadata": {
  "interpreter": {
   "hash": "aee8b7b246df8f9039afb4144a1f6fd8d2ca17a180786b69acc140d282b71a49"
  },
  "kernelspec": {
   "display_name": "Python 3.7.0 64-bit",
   "language": "python",
   "name": "python3"
  },
  "language_info": {
   "codemirror_mode": {
    "name": "ipython",
    "version": 3
   },
   "file_extension": ".py",
   "mimetype": "text/x-python",
   "name": "python",
   "nbconvert_exporter": "python",
   "pygments_lexer": "ipython3",
   "version": "3.7.0"
  },
  "orig_nbformat": 4
 },
 "nbformat": 4,
 "nbformat_minor": 2
}
