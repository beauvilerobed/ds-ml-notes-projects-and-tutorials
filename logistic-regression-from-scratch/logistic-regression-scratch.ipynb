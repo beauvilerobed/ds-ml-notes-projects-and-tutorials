{
 "cells": [
  {
   "attachments": {},
   "cell_type": "markdown",
   "metadata": {},
   "source": [
    "# Logistic Regression From Scratch"
   ]
  },
  {
   "attachments": {},
   "cell_type": "markdown",
   "metadata": {},
   "source": [
    "We will build a logistic regression model for classifying whether a patient has diabetes or not. We will\n",
    "only use python to build functions for reading, normalizing data, optimizing parameters."
   ]
  },
  {
   "attachments": {},
   "cell_type": "markdown",
   "metadata": {},
   "source": [
    "## What is Logistic Regression?"
   ]
  },
  {
   "attachments": {},
   "cell_type": "markdown",
   "metadata": {},
   "source": [
    "Logistic regression is a **supervised** machine learning algorithm used for **classification** purposes.\n",
    "Logistic Regression is somewhat the same as linear regression but is has a different **cost function** \n",
    "and **prediction function**.\n",
    "\n",
    "$$\n",
    "\\text{Sigmoid Function: } g(z) = \\frac{1}{1+e^{-z}}\n",
    "$$\n",
    "\n",
    "$$\n",
    "\\text{Hypothesis: } h_\\theta(x) = \\frac{1}{1+e^{-\\theta^Tx}}\n",
    "$$\n",
    "\n",
    "Note that the range of g is $[0,1]$ where values that are above and include a threshold $\\alpha\\in (0,1)$ represent the class 1 and values below\n",
    "$\\alpha$ represent the class 0."
   ]
  },
  {
   "attachments": {},
   "cell_type": "markdown",
   "metadata": {},
   "source": [
    "## Cost Function"
   ]
  },
  {
   "attachments": {},
   "cell_type": "markdown",
   "metadata": {},
   "source": [
    "**Cost functions** find the error between the **actual value** and the **predicted value** of our\n",
    "algorithm. The error should be as small as possible. \n",
    "\n",
    "In the case of linear regression, the formula is\n",
    "\n",
    "$$\n",
    "J(\\theta) = \\frac{1}{m} \\sum_{i=1}^m (\\theta^T x^i - y^i)^2\n",
    "$$\n",
    "\n",
    "Where m is the number of examples of rows in the data set, $x^i$ is the feature values of the $i-th$ example,\n",
    "and $y^i$ is the actual outcome of the $i-th$ example. Note that we want each $(h_\\theta(x^i) - y^i)^2$ as small as possible but this formula **cannot** be used for **logistic regression** since $h_\\theta$ is not convex so there is a chance of finding the local minima thus missing the global minima. Let us change each term in the summation above to \n",
    "\n",
    "$$\n",
    "-y^i \\log (h_\\theta(x^i)) - (1-y^i)\\log (1 - h_\\theta(x^i))\n",
    "$$\n",
    "\n",
    " In case $y^i=1$, the output (i.e. the cost to pay) approaches to 0 as $h_\\theta(x^i)$ approaches to 1. Conversely, the cost to pay grows to infinity as $h_\\theta(x^i)$ approaches to 0. You can clearly see it in the plot below, left side. \n",
    "\n",
    "<img src='img/ex1.png'>\n",
    "\n",
    "This is a desirable property: we want a bigger penalty as the algorithm predicts something far away from the actual value. If the label is $y^i=1$ but the algorithm predicts $h_\\theta(x^i) = 0$, the outcome is completely wrong.\n",
    "\n",
    "Conversely, the same intuition applies when 𝑦=0, depicted in the plot above, right side. Bigger penalties when the label is $y^i=0$ but the algorithm predicts $h_\\theta(x^i) = 1$. Each term is convex and we want each term as small as possible so we can rewrite our new cost function as\n",
    "\n",
    "$$\n",
    "J(\\theta) = -\\frac{1}{m} \\sum_{i=1}^m \\big[y^i \\log (h_\\theta(x^i)) + (1-y^i)\\log (1 - h_\\theta(x^i))\\big]\n",
    "$$"
   ]
  },
  {
   "attachments": {},
   "cell_type": "markdown",
   "metadata": {},
   "source": [
    "## Gradient Descent"
   ]
  },
  {
   "attachments": {},
   "cell_type": "markdown",
   "metadata": {},
   "source": [
    "The goal of an ML algorithm is to find the set of parameters that **minimizes**\n",
    "the **cost function**. Here is where we use optimization techniques. One of them\n",
    "is called gradient descent. \n",
    "\n",
    "First, we start with random values of parameters (in most cases **zero**) then\n",
    "keep changing the parameters to reduce $J(\\theta)$, the formula is:\n",
    "\n",
    "Repeat:\n",
    "$$\n",
    "\\theta_j:= \\theta_j - \\alpha\\frac{\\partial}{\\partial\\theta_j} J(\\theta)\n",
    "$$\n",
    "\n",
    "Note that \n",
    "$$\n",
    "\\frac{\\partial}{\\partial\\theta_j} J(\\theta) = \\frac{1}{m} \\sum_{i=1}^m (h_\\theta(x^i) - y^i)x_j^i\n",
    "$$ \n",
    "\n",
    "or\n",
    " \n",
    "$$\n",
    "X^T(h_\\theta(x) - y)\n",
    "$$\n",
    "\n",
    "So we have\n",
    "\n",
    "Repeat:\n",
    "$$\n",
    "\\theta_j:= \\theta_j - \\frac{\\alpha}{m} \\sum_{i=1}^m (h_\\theta(x^i) - y^i)x_j^i\n",
    "$$"
   ]
  },
  {
   "attachments": {},
   "cell_type": "markdown",
   "metadata": {},
   "source": [
    "## Dataset"
   ]
  },
  {
   "attachments": {},
   "cell_type": "markdown",
   "metadata": {},
   "source": [
    "We will be using **Pima Indians Diabetes Dataset**. The Pima Indians Diabetes Dataset involves predicting the onset of diabetes within 5 years in Pima Indians given medical details.\n",
    "\n",
    "The number of observations for each class is not balanced. There are 768 observations with 8 input variables and 1 output variable. Missing values are believed to be encoded with zero values. The variable names are as follows:\n",
    "\n",
    "1. Number of times pregnant.\n",
    "2. Plasma glucose concentration a 2 hours in an oral glucose tolerance test.\n",
    "3. Diastolic blood pressure (mm Hg).\n",
    "4. Triceps skinfold thickness (mm).\n",
    "5. 2-Hour serum insulin (mu U/ml).\n",
    "6. Body mass index (weight in kg/(height in m)^2).\n",
    "7. Diabetes pedigree function.\n",
    "8. Age (years).\n",
    "9. Class variable (0 or 1)."
   ]
  },
  {
   "attachments": {},
   "cell_type": "markdown",
   "metadata": {},
   "source": [
    "## Now Let's Code"
   ]
  },
  {
   "attachments": {},
   "cell_type": "markdown",
   "metadata": {},
   "source": [
    "### Convert csv file to tabular data"
   ]
  },
  {
   "cell_type": "code",
   "execution_count": 11,
   "metadata": {},
   "outputs": [
    {
     "data": {
      "text/plain": [
       "array([[6.000e+00, 1.480e+02, 7.200e+01, 3.500e+01, 0.000e+00, 3.360e+01,\n",
       "        6.270e-01, 5.000e+01, 1.000e+00],\n",
       "       [1.000e+00, 8.500e+01, 6.600e+01, 2.900e+01, 0.000e+00, 2.660e+01,\n",
       "        3.510e-01, 3.100e+01, 0.000e+00],\n",
       "       [8.000e+00, 1.830e+02, 6.400e+01, 0.000e+00, 0.000e+00, 2.330e+01,\n",
       "        6.720e-01, 3.200e+01, 1.000e+00],\n",
       "       [1.000e+00, 8.900e+01, 6.600e+01, 2.300e+01, 9.400e+01, 2.810e+01,\n",
       "        1.670e-01, 2.100e+01, 0.000e+00],\n",
       "       [0.000e+00, 1.370e+02, 4.000e+01, 3.500e+01, 1.680e+02, 4.310e+01,\n",
       "        2.288e+00, 3.300e+01, 1.000e+00]])"
      ]
     },
     "execution_count": 11,
     "metadata": {},
     "output_type": "execute_result"
    }
   ],
   "source": [
    "import csv\n",
    "import numpy as np\n",
    "\n",
    "\n",
    "with open('Pima_Indians_Diabetes_Data.csv') as file:\n",
    "    table  = csv.reader(file)\n",
    "    table = [val for val in table]\n",
    "\n",
    "data = [[float(num) for num in row] for row in table]\n",
    "data = np.array(data)\n",
    "data[:5]"
   ]
  },
  {
   "attachments": {},
   "cell_type": "markdown",
   "metadata": {},
   "source": [
    "## Min-Max Scaling (Normalization)"
   ]
  },
  {
   "cell_type": "code",
   "execution_count": 12,
   "metadata": {},
   "outputs": [
    {
     "name": "stdout",
     "output_type": "stream",
     "text": [
      "0.0 1.0\n",
      "0.0 1.0\n",
      "0.0 1.0\n",
      "0.0 1.0\n",
      "0.0 1.0\n",
      "0.0 1.0\n",
      "0.0 1.0\n",
      "0.0 1.0\n",
      "0.0 1.0\n"
     ]
    }
   ],
   "source": [
    "n = data.shape[1]\n",
    "\n",
    "for i in range(n):\n",
    "    data[:,i] = (data[:,i] - data[:,i].min(axis = 0))/(data[:,i].max(axis=0) - data[:,i].min(axis=0))\n",
    "\n",
    "for i in range(n):\n",
    "    minumum = data[:,i].min(axis=0)\n",
    "    maximum = data[:,i].max(axis=0)\n",
    "    print(minumum, maximum)"
   ]
  },
  {
   "attachments": {},
   "cell_type": "markdown",
   "metadata": {},
   "source": [
    "### Split Data 80% Training Data  20% Test Data"
   ]
  },
  {
   "cell_type": "code",
   "execution_count": 13,
   "metadata": {},
   "outputs": [
    {
     "name": "stdout",
     "output_type": "stream",
     "text": [
      "training shape (614, 9) and test shape (154, 9)\n"
     ]
    }
   ],
   "source": [
    "np.random.shuffle(data)\n",
    "\n",
    "m = data.shape[0]\n",
    "split_point = int(.8*m)\n",
    "\n",
    "training, test = data[:split_point], data[split_point:]\n",
    "print('training shape {} and test shape {}'.format(training.shape, test.shape))\n"
   ]
  },
  {
   "attachments": {},
   "cell_type": "markdown",
   "metadata": {},
   "source": [
    "### f-score"
   ]
  },
  {
   "cell_type": "code",
   "execution_count": 14,
   "metadata": {},
   "outputs": [],
   "source": [
    "def fscore(actual, predicted):\n",
    "    n = len(actual)\n",
    "    TP = 0\n",
    "    TN = 0\n",
    "    FP = 0\n",
    "    FN = 0\n",
    "    for i in range(n):\n",
    "        if (actual[i] == 1) and (predicted[i] == 1):\n",
    "            TP += 1\n",
    "        if (actual[i] == 0) and (predicted[i] == 0):\n",
    "            TN += 1\n",
    "        if (actual[i] == 1) and (predicted[i] == 0):\n",
    "            FN += 1\n",
    "        if (actual[i] == 0) and (predicted[i] == 1):\n",
    "            FP += 1\n",
    "\n",
    "    precision = TP/(TP+FP)\n",
    "    recall = TP/(TP+FN)\n",
    "\n",
    "    f = 2*(precision*recall/(precision+recall))\n",
    "        \n",
    "    return f\n"
   ]
  },
  {
   "attachments": {},
   "cell_type": "markdown",
   "metadata": {},
   "source": [
    "### Hypothesis Function"
   ]
  },
  {
   "attachments": {},
   "cell_type": "markdown",
   "metadata": {},
   "source": [
    "Our `prediction` function is our hypothesis function that takes the whole row and parameters as arguments."
   ]
  },
  {
   "cell_type": "code",
   "execution_count": 15,
   "metadata": {},
   "outputs": [],
   "source": [
    "def hyp(z):\n",
    "    return 1/(1+np.e**(-z))"
   ]
  },
  {
   "attachments": {},
   "cell_type": "markdown",
   "metadata": {},
   "source": [
    "### Cost Function"
   ]
  },
  {
   "attachments": {},
   "cell_type": "markdown",
   "metadata": {},
   "source": [
    "We will use the cost function to calculate the cost with every iteration and plot that data point.\n",
    "$$\n",
    "J(\\theta) = -\\frac{1}{m} \\sum_{i=1}^m \\big[y^i \\log (h_\\theta(x^i)) + (1-y^i)\\log (1 - h_\\theta(x^i))\\big]\n",
    "$$"
   ]
  },
  {
   "cell_type": "code",
   "execution_count": 16,
   "metadata": {},
   "outputs": [],
   "source": [
    "def cost(data, params):\n",
    "    y = data[:,-1]\n",
    "    X = np.c_[np.ones((data.shape[0],1)), data[:,:-1]]\n",
    "\n",
    "    z = np.dot(X,params)\n",
    "    logyhat = np.log2(hyp(z))\n",
    "    otheryhat = np.log2(1-hyp(z))\n",
    "\n",
    "    cost0 = y.T.dot(logyhat)\n",
    "    cost1 = (1-y).T.dot(otheryhat)\n",
    "\n",
    "    return -(cost0+cost1)/len(y)    "
   ]
  },
  {
   "attachments": {},
   "cell_type": "markdown",
   "metadata": {},
   "source": [
    "### Optimization Technique"
   ]
  },
  {
   "attachments": {},
   "cell_type": "markdown",
   "metadata": {},
   "source": [
    "Here we use the `gradient_descent` function for finding the best set of parameters for our model. This function\n",
    "takes **dataset**, **epochs**(number of iterations), and **alpha**(learning rate) as arguments. \n",
    "$$\n",
    "X^T(h_\\theta(x) - y)\n",
    "$$\n",
    "\n",
    "So we have\n",
    "\n",
    "Repeat:\n",
    "$$\n",
    "\\theta_j:= \\theta_j - \\frac{\\alpha}{m} \\sum_{i=1}^m (h_\\theta(x^i) - y^i)x_j^i\n",
    "$$"
   ]
  },
  {
   "cell_type": "code",
   "execution_count": 17,
   "metadata": {},
   "outputs": [],
   "source": [
    "def fit(train, iter=1000, alpha=.001):\n",
    "    params = np.zeros((train.shape[1],1))\n",
    "    X = np.c_[np.c_[np.ones((train.shape[0],1)), train[:,:-1]]]\n",
    "    y = train[:,-1]\n",
    "    y = np.reshape(y,(len(y),1))\n",
    "    costs = []\n",
    "\n",
    "    for _ in range(iter):\n",
    "        z = np.dot(X,params)\n",
    "        logyhat = hyp(z)   \n",
    "        params = params - alpha*np.dot(X.T, logyhat - y)\n",
    "\n",
    "        costs.append(cost(train, params))\n",
    "\n",
    "    return costs, params\n",
    "\n",
    "\n",
    "def predict(test, params):\n",
    "    X = np.c_[np.c_[np.ones((test.shape[0],1)), test[:,:-1]]]\n",
    "    y = test[:,-1]\n",
    "\n",
    "    z = np.dot(X,params)\n",
    "    yhat = hyp(z)\n",
    "    yhat_bin = np.where(yhat > .5, 1, 0)\n",
    "\n",
    "    return yhat_bin, yhat"
   ]
  },
  {
   "cell_type": "code",
   "execution_count": 18,
   "metadata": {},
   "outputs": [
    {
     "name": "stdout",
     "output_type": "stream",
     "text": [
      "f1-score  0.5714285714285715\n"
     ]
    }
   ],
   "source": [
    "costs, params = fit(training)\n",
    "yhat_bin, yhat = predict(test, params)\n",
    "\n",
    "print('f1-score ', fscore(test[:,-1] ,yhat_bin))"
   ]
  },
  {
   "cell_type": "code",
   "execution_count": 19,
   "metadata": {},
   "outputs": [
    {
     "data": {
      "image/png": "[encoded data removed]",
      "text/plain": [
       "<Figure size 432x288 with 1 Axes>"
      ]
     },
     "metadata": {
      "needs_background": "light"
     },
     "output_type": "display_data"
    }
   ],
   "source": [
    "import matplotlib.pyplot as plt\n",
    "\n",
    "y_axis = costs\n",
    "\n",
    "plt.plot(y_axis) \n",
    "plt.xlabel('iterations') \n",
    "plt.ylabel('cost') \n",
    "plt.title('cost per iteraction') \n",
    "plt.show() "
   ]
  },
  {
   "attachments": {},
   "cell_type": "markdown",
   "metadata": {},
   "source": [
    "## Let’s see how our logistic regression fares in comparison to sklearn’s logistic regression."
   ]
  },
  {
   "cell_type": "code",
   "execution_count": 20,
   "metadata": {},
   "outputs": [
    {
     "name": "stdout",
     "output_type": "stream",
     "text": [
      "f1 score:  0.6249999999999999\n"
     ]
    }
   ],
   "source": [
    "from sklearn.linear_model import LogisticRegression\n",
    "from sklearn.preprocessing import MinMaxScaler\n",
    "from sklearn.pipeline import make_pipeline\n",
    "from sklearn.model_selection import train_test_split\n",
    "from sklearn.metrics import f1_score\n",
    "import numpy as np\n",
    "import pandas as pd\n",
    "\n",
    "df = pd.read_csv('Pima_Indians_Diabetes_Data.csv')\n",
    "\n",
    "X = df.iloc[:,:-1]\n",
    "y = df.iloc[:,-1]\n",
    "\n",
    "X_train, X_test, y_train, y_test = train_test_split(X,y,test_size=0.2,random_state=101)\n",
    "pipe = make_pipeline(MinMaxScaler(), LogisticRegression())\n",
    "\n",
    "pipe.fit(X_train, y_train)\n",
    "y_pred = pipe.predict(X_test)\n",
    "fscore = f1_score(y_pred, y_test)\n",
    "print('f1 score: ', fscore)\n"
   ]
  },
  {
   "attachments": {},
   "cell_type": "markdown",
   "metadata": {},
   "source": [
    "### Conclusion"
   ]
  },
  {
   "attachments": {},
   "cell_type": "markdown",
   "metadata": {},
   "source": [
    "We have successfully built a **Logistic Regression** model from scratch with out using **pandas**, **scikit learn**.\n",
    "Note that matplotlib was not neccessary but we did use it to see how the cost function decreases for each iteration."
   ]
  }
 ],
 "metadata": {
  "interpreter": {
   "hash": "aee8b7b246df8f9039afb4144a1f6fd8d2ca17a180786b69acc140d282b71a49"
  },
  "kernelspec": {
   "display_name": "Python 3.7.0 64-bit",
   "language": "python",
   "name": "python3"
  },
  "language_info": {
   "codemirror_mode": {
    "name": "ipython",
    "version": 3
   },
   "file_extension": ".py",
   "mimetype": "text/x-python",
   "name": "python",
   "nbconvert_exporter": "python",
   "pygments_lexer": "ipython3",
   "version": "3.7.0"
  },
  "orig_nbformat": 4
 },
 "nbformat": 4,
 "nbformat_minor": 2
}
