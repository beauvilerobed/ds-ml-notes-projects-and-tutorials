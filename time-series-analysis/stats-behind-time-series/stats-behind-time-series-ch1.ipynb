{
 "cells": [
  {
   "cell_type": "markdown",
   "metadata": {},
   "source": [
    "# 1 Introduction\n",
    "\n",
    "## 1.1 Some Examples\n",
    "\n",
    "**Question:** What is a time series?  \n",
    "**Answer:** It is a random sequence $\\{X_t\\}$ recorded in a time-ordered fashion.\n",
    "\n",
    "**Question:** What are its applications?  \n",
    "**Answer:** Everywhere when data are observed in a time-ordered fashion. For example:\n",
    "\n",
    "- **Economics:** Daily stock market quotations or monthly unemployment rates.  \n",
    "- **Social sciences:** Population series, such as birthrates or school enrollments.  \n",
    "- **Epidemiology:** The number of influenza cases observed over some time period.  \n",
    "- **Medicine:** Blood pressure measurements traced over time for evaluating drugs.  \n",
    "\n",
    "**Example 1.1. (Johnson & Johnson Quarterly Earnings)**  \n",
    "Figure 1.1 shows quarterly earnings per share for the U.S. company Johnson & Johnson.\n",
    "\n",
    "- 84 quarters (21 years) measured from the 1st quarter of 1960 to the last quarter of 1980."
   ]
  },
  {
   "cell_type": "code",
   "execution_count": null,
   "metadata": {
    "vscode": {
     "languageId": "r"
    }
   },
   "outputs": [],
   "source": [
    "require(astsa)\n",
    "par(mar = c(4, 4, 2, .5), bg = \"white\")  # Set background to white\n",
    "plot(jj, type = \"o\", ylab = \"Quarterly Earnings per Share\", col = \"blue\")\n"
   ]
  },
  {
   "cell_type": "markdown",
   "metadata": {
    "vscode": {
     "languageId": "r"
    }
   },
   "source": [
    "**Example 1.2. (Global Warming)**  \n",
    "Figure 1.2 shows the global mean land-ocean temperature index from 1850 to 2023, with the base period 1951–1980."
   ]
  },
  {
   "cell_type": "code",
   "execution_count": null,
   "metadata": {
    "vscode": {
     "languageId": "r"
    }
   },
   "outputs": [],
   "source": [
    "par(mar = c(4, 4, 2, .5), bg = \"white\")\n",
    "gtemp <- gtemp_both\n",
    "plot(gtemp, type = \"o\", ylab = \"Global Temperature Deviations\", col = \"blue\")\n"
   ]
  },
  {
   "cell_type": "markdown",
   "metadata": {},
   "source": [
    "**Example 1.3. (Speech Data)**  \n",
    "Figure 1.3 shows a small 0.1 second (1000 point) sample of recorded speech for the phrase *aaa···hhh*.\n"
   ]
  },
  {
   "cell_type": "code",
   "execution_count": null,
   "metadata": {
    "vscode": {
     "languageId": "r"
    }
   },
   "outputs": [],
   "source": [
    "par(mar = c(4, 4, 2, .5), bg = \"white\") # Set background to white\n",
    "plot(speech, col = \"blue\")"
   ]
  },
  {
   "cell_type": "markdown",
   "metadata": {},
   "source": [
    "Figure 1.4: Top: One realization of a binary process (left) and a Gaussian noise (right). Bottom:\n",
    "the corresponding random walk"
   ]
  },
  {
   "cell_type": "markdown",
   "metadata": {},
   "source": [
    "Computer recognition of speech: use spectral analysis to produce a signature of this phrase and then\n",
    "compare it with signatures of various library syllables to look for a match."
   ]
  },
  {
   "cell_type": "markdown",
   "metadata": {},
   "source": [
    "## 1.2 Time Series Statistical Models\n",
    "\n",
    "A time series model specifies the joint distribution of the sequence $\\{X_t\\}$ of random variables; e.g.,\n",
    "\n",
    "$$\n",
    "P(X_1 \\le x_1, \\ldots, X_t \\le x_t) \\quad \\text{for all } t \\text{ and } x_1, \\ldots, x_t,\n",
    "$$\n",
    "\n",
    "where $\\{X_1, X_2, \\ldots\\}$ is a stochastic process, and $\\{x_1, x_2, \\ldots\\}$ is a single realization. Through this course, we will mostly restrict our attention to the first- and second-order properties only:\n",
    "$$\n",
    "\\mathbb{E}(X_t), \\quad \\text{Cov}(X_{t_1}, X_{t_2}).\n",
    "$$\n",
    "\n",
    "Typically, a time series model can be described as:\n",
    "\n",
    "$$\n",
    "X_t = m_t + s_t + Y_t, \\tag{1.1}\n",
    "$$\n",
    "\n",
    "where:\n",
    "- $m_t$: trend component;\n",
    "- $s_t$: seasonal component;\n",
    "- $Y_t$: zero-mean error.\n",
    "\n",
    "The following are some zero-mean models:\n",
    "\n",
    "**Example 1.4 (iid noise)**:  \n",
    "The simplest time series model is the one with no trend or seasonal component, and the observations $X_t$ are simply independent and identically distributed (iid) random variables with zero mean. Such a sequence $\\{X_t\\}$ is referred to as iid noise. Mathematically, for any $t$ and $x_1, \\ldots, x_t$,\n",
    "\n",
    "$$\n",
    "P(X_1 \\le x_1, \\ldots, X_t \\le x_t) = \\prod_{t} P(X_t \\le x_t) = \\prod_{t} F(x_t),\n",
    "$$\n",
    "\n",
    "where $F(\\cdot)$ is the cumulative distribution function (cdf) of each $X_t$. Further, $\\mathbb{E}(X_t) = 0$ for all $t$. We denote such a sequence as:\n",
    "\n",
    "$$\n",
    "X_t \\sim \\text{IID}(0, \\sigma^2).\n",
    "$$\n",
    "\n",
    "IID noise is not interesting for forecasting since $X_t \\mid X_1, \\ldots, X_{t-1} = X_t$.\n",
    "\n",
    "**Example 1.5 (A binary discrete process)**:  \n",
    "As an example of iid noise, a binary process $\\{X_t\\}$ is a sequence of iid random variables $X_t$ with:\n",
    "\n",
    "$$\n",
    "P(X_t = 1) = 0.5, \\quad P(X_t = -1) = 0.5.\n",
    "$$\n",
    "\n",
    "**Example 1.6 (A continuous process: Gaussian noise)**:  \n",
    "$\\{X_t\\}$ is a sequence of iid normal random variables with zero mean and variance $\\sigma^2$; i.e.,\n",
    "\n",
    "$$\n",
    "X_t \\sim \\mathcal{N}(0, \\sigma^2) \\quad \\text{iid}.\n",
    "$$\n",
    "\n",
    "**Example 1.7 (Random walk)**:  \n",
    "The random walk $\\{S_t, t = 0, 1, 2, \\ldots\\}$ (starting at zero, $S_0 = 0$) is obtained by cumulatively summing (or \"integrating\") random variables; i.e., $S_0 = 0$ and\n",
    "\n",
    "$$\n",
    "S_t = X_1 + \\cdots + X_t, \\quad \\text{for } t = 1, 2, \\ldots,\n",
    "$$\n",
    "\n",
    "where $\\{X_t\\}$ is iid noise with zero mean and variance $\\sigma^2$. By differencing, we can recover $X_t$:\n",
    "\n",
    "$$\n",
    "\\nabla S_t = S_t - S_{t-1} = X_t.\n",
    "$$\n",
    "\n",
    "Further, we have:\n",
    "\n",
    "$$\n",
    "\\mathbb{E}(S_t) = \\mathbb{E} \\left( \\sum_{i=1}^{t} X_i \\right) = \\sum_{i=1}^{t} \\mathbb{E}(X_i) = \\sum_{i=1}^{t} 0 = 0,\n",
    "$$\n",
    "\n",
    "$$\n",
    "\\text{Var}(S_t) = \\text{Var} \\left( \\sum_{i=1}^{t} X_i \\right) = \\sum_{i=1}^{t} \\text{Var}(X_i) = t\\sigma^2.\n",
    "$$\n"
   ]
  },
  {
   "cell_type": "code",
   "execution_count": null,
   "metadata": {
    "vscode": {
     "languageId": "r"
    }
   },
   "outputs": [],
   "source": [
    "# Set random seed for reproducibility\n",
    "set.seed(100)\n",
    "\n",
    "# Set up a 2x2 plotting layout and define plot background/margins\n",
    "par(mfrow = c(2, 2), bg = \"white\")\n",
    "par(mar = c(4, 4, 2, 0.5))\n",
    "\n",
    "# Time sequence\n",
    "t <- seq(1, 60, by = 1)\n",
    "\n",
    "# 1. Generate a Bernoulli process {-1, +1}\n",
    "xt1 <- rbinom(length(t), 1, 0.5) * 2 - 1\n",
    "plot(t, xt1, type = \"o\", col = \"blue\", xlab = \"t\", ylab = expression(X[t]))\n",
    "\n",
    "# 2. Generate a standard normal (Gaussian white noise) process\n",
    "xt2 <- rnorm(length(t), mean = 0, sd = 1)\n",
    "plot(t, xt2, type = \"o\", col = \"blue\", xlab = \"t\", ylab = expression(X[t]))\n",
    "\n",
    "# 3. Cumulative sum of Bernoulli process = random walk\n",
    "plot(c(0, t), c(0, cumsum(xt1)), type = \"o\", col = \"blue\", xlab = \"t\", ylab = expression(S[t]))\n",
    "\n",
    "# 4. Cumulative sum of Gaussian process = Brownian-like motion\n",
    "plot(c(0, t), c(0, cumsum(xt2)), type = \"o\", col = \"blue\", xlab = \"t\", ylab = expression(S[t]))\n",
    "\n"
   ]
  },
  {
   "cell_type": "markdown",
   "metadata": {},
   "source": [
    "Figure 1.4: Top: One realization of a binary process (left) and a Gaussian noise (right). Bottom:\n",
    "the corresponding random walk"
   ]
  },
  {
   "cell_type": "markdown",
   "metadata": {},
   "source": [
    "**Example 1.8 (White Noise).**  \n",
    "We say $\\{X_t\\}$ is a white noise, i.e., $X_t \\sim \\text{WN}(0, \\sigma^2)$, if $\\{X_t\\}$ is uncorrelated, i.e.,  \n",
    "$$\n",
    "\\text{Cov}(X_{t_1}, X_{t_2}) = 0 \\quad \\text{for any } t_1 \\neq t_2,\n",
    "$$  \n",
    "with $\\mathbb{E}[X_t] = 0$, $\\text{Var}(X_t) = \\sigma^2$.\n",
    "\n",
    "Note that every $\\text{IID}(0, \\sigma^2)$ sequence is $\\text{WN}(0, \\sigma^2)$, but not conversely.\n",
    "\n",
    "**Example 1.9 (An Example of White Noise but Not IID Noise).**  \n",
    "Define $X_t = Z_t$ when $t$ is odd, and $X_t = \\sqrt{3} Z_{t-1}^2 - \\frac{2}{\\sqrt{3}} \\quad \\text{when } t \\text{ is even},$  \n",
    "where $\\{Z_t, \\, t = 1, 3, \\ldots\\}$ is an IID sequence from a distribution with probability mass function:  \n",
    "$$\n",
    "f_Z(-1) = \\frac{1}{3}, \\quad f_Z(0) = \\frac{1}{3}, \\quad f_Z(1) = \\frac{1}{3}.\n",
    "$$\n",
    "\n",
    "It can be seen that $\\mathbb{E}[X_t] = 0$, $\\text{Var}(X_t) = \\frac{2}{3}$ for all $t$, and  \n",
    "$$\n",
    "\\text{Cov}(X_{t_1}, X_{t_2}) = 0 \\quad \\text{for all } t_1 \\neq t_2,\n",
    "$$  \n",
    "since  \n",
    "$$\n",
    "\\text{Cov}(Z_t, \\sqrt{3} Z_t^2 - \\frac{2}{\\sqrt{3}}) = \\sqrt{3} \\cdot \\text{Cov}(Z_t, Z_t^2) = 0.\n",
    "$$\n",
    "\n",
    "However, $\\{X_t\\}$ is **not** an IID sequence, because $Z_{2k}$ is fully determined by $Z_{2k-1}$:  \n",
    "- If $Z_{2k-1} = 0$, then $Z_{2k} = -\\frac{2}{\\sqrt{3}}$,  \n",
    "- If $Z_{2k-1} = \\pm 1$, then $Z_{2k} = \\sqrt{3} - \\frac{2}{\\sqrt{3}}$.\n",
    "\n",
    "A realization of this white noise can be seen in Figure 1.5.\n"
   ]
  },
  {
   "cell_type": "code",
   "execution_count": null,
   "metadata": {
    "vscode": {
     "languageId": "r"
    }
   },
   "outputs": [],
   "source": [
    "# Set the seed for reproducibility\n",
    "set.seed(100)\n",
    "\n",
    "# Plot layout: 1 row, 2 columns; background color white\n",
    "par(mfrow = c(1, 2), bg = \"white\")\n",
    "\n",
    "# Set plot margins: bottom, left, top, right\n",
    "par(mar = c(4, 4, 2, 0.5))\n",
    "\n",
    "# Define time vector t from 1 to 100\n",
    "t <- seq(1, 100, by = 1)\n",
    "\n",
    "# Define possible values for a base process\n",
    "res <- c(-1, 0, 1)\n",
    "\n",
    "# Sample random values (half length of t) from res\n",
    "zt <- sample(res, length(t) / 2, replace = TRUE)\n",
    "\n",
    "# Initialize empty vector for transformed values\n",
    "xt <- c()\n",
    "\n",
    "# Transform each z_t into two values:\n",
    "# First: z_t itself Second: sqrt(3)*z_t^2 - 2/sqrt(3)\n",
    "for (i in seq_along(zt)) {\n",
    "  xt <- c(xt, c(zt[i], sqrt(3) * zt[i]^2 - 2 / sqrt(3)))\n",
    "}\n",
    "\n",
    "# Plot the transformed sequence X_t over time\n",
    "plot(t, xt, type = \"o\", col = \"blue\", xlab = \"t\", ylab = expression(X[t]))\n",
    "\n",
    "# Plot the cumulative sum of X_t, i.e., S_t = sum(X_1 to X_t)\n",
    "plot(c(0, t), c(0, cumsum(xt)), type = \"o\", col = \"blue\", xlab = \"t\", ylab = expression(S[t]))\n"
   ]
  },
  {
   "cell_type": "markdown",
   "metadata": {},
   "source": [
    "Figure 1.5: One realization of Example 1.9"
   ]
  },
  {
   "cell_type": "markdown",
   "metadata": {},
   "source": [
    "If the stochastic behavior of all time series could be explained in terms of the white noise model,\n",
    "classical statistical methods would suffice. \n",
    "\n",
    "Two ways of introducing serial correlation and more\n",
    "smoothness into time series models are given in Examples 1.10 and 1.11."
   ]
  },
  {
   "cell_type": "markdown",
   "metadata": {},
   "source": [
    "**Example 1.10 (Moving Averages Smoother).**  \n",
    "This is an essentially nonparametric method for trend estimation. It takes averages of observations around $t$; i.e., it smooths the series. For example, let  \n",
    "$$\n",
    "X_t = \\frac{1}{3}(W_{t-1} + W_t + W_{t+1}), \\tag{1.2}\n",
    "$$  \n",
    "which is a three-point moving average of the white noise series $W_t$. See Figure 1.9 for a realization.  \n",
    "\n",
    "Inspecting the series shows a smoother version of the first series, reflecting the fact that the slower oscillations are more apparent and some of the faster oscillations are taken out.\n"
   ]
  },
  {
   "cell_type": "code",
   "execution_count": null,
   "metadata": {
    "vscode": {
     "languageId": "r"
    }
   },
   "outputs": [],
   "source": [
    "# Set the seed for reproducibility\n",
    "set.seed(100)\n",
    "\n",
    "# Generate 500 standard normal (N(0,1)) random variables = white noise\n",
    "w <- rnorm(500, 0, 1)\n",
    "\n",
    "# Apply a centered moving average filter of order 3:\n",
    "# This averages each point with its neighbors (symmetric filter)\n",
    "v <- filter(w, sides = 2, rep(1 / 3, 3))\n",
    "\n",
    "# Set up 2 plots vertically, with white background\n",
    "par(mfrow = c(2, 1), bg = \"white\")\n",
    "par(mar = c(4, 4, 2, 0.5)) # margin settings: bottom, left, top, right\n",
    "\n",
    "# Plot the white noise time series\n",
    "plot.ts(w, main = \"white noise\", col = \"blue\")\n",
    "\n",
    "# Plot the smoothed version (moving average)\n",
    "plot.ts(v, main = \"moving average\", col = \"blue\")\n",
    "\n"
   ]
  },
  {
   "cell_type": "markdown",
   "metadata": {},
   "source": [
    "Figure 1.6: Gaussian white noise series (top) and three-point moving average of the Gaussian white\n",
    "noise series (bottom)."
   ]
  },
  {
   "cell_type": "markdown",
   "metadata": {
    "vscode": {
     "languageId": "r"
    }
   },
   "source": [
    "**Example 1.11 (AR(1) Model — Autoregression of Order 1).**  \n",
    "Let  \n",
    "$$\n",
    "X_t = 0.6 X_{t-1} + W_t \\tag{1.3}\n",
    "$$  \n",
    "where $W_t$ is a white noise series. It represents a regression or prediction of the current value $X_t$ of a time series as a function of the past value of the series.\n"
   ]
  },
  {
   "cell_type": "code",
   "execution_count": null,
   "metadata": {
    "vscode": {
     "languageId": "r"
    }
   },
   "outputs": [],
   "source": [
    "# Set seed for reproducibility\n",
    "set.seed(100)\n",
    "\n",
    "# Set plot margins and background color\n",
    "par(mar = c(4, 4, 2, 0.5), bg = \"white\")\n",
    "\n",
    "# Generate 550 standard normal random variables (white noise)\n",
    "# Extra 50 values are used to \"warm up\" the recursive filter\n",
    "w <- rnorm(550, 0, 1)\n",
    "\n",
    "# Apply recursive filter: AR(1) process with coefficient 0.6\n",
    "# filter = c(0.6) -> AR coefficient phi = 0.6\n",
    "# method = \"recursive\" makes it use past values recursively:\n",
    "# X_t = 0.6 * X_{t-1} + w_t\n",
    "x <- filter(w, filter = c(0.6), method = \"recursive\")[-(1:50)]\n",
    "\n",
    "# Plot the resulting time series\n",
    "plot.ts(x, main = \"autoregression\", col = \"blue\", ylab = expression(x[t]))\n"
   ]
  },
  {
   "cell_type": "markdown",
   "metadata": {},
   "source": [
    "Figure 1.7: A realization of autoregression model (1.3)"
   ]
  },
  {
   "cell_type": "markdown",
   "metadata": {
    "vscode": {
     "languageId": "r"
    }
   },
   "source": [
    "**Example 1.12 (Random Walk with Drift).**  \n",
    "Let  \n",
    "$$\n",
    "X_t = \\delta + X_{t-1} + W_t \\tag{1.4}\n",
    "$$  \n",
    "for $t = 1, 2, \\ldots$ with $X_0 = 0$, where $W_t$ is $\\text{WN}(0, \\sigma^2)$. The constant $\\delta$ is called the **drift**, and when $\\delta = 0$, $X_t$ is simply a **random walk** (see Example 1.7, and see Figure 1.8 for a realization).  \n",
    "\n",
    "$X_t$ can also be rewritten as  \n",
    "$$\n",
    "X_t = \\delta t + \\sum_{j=1}^t W_j.\n",
    "$$\n"
   ]
  },
  {
   "cell_type": "code",
   "execution_count": null,
   "metadata": {
    "vscode": {
     "languageId": "r"
    }
   },
   "outputs": [],
   "source": [
    "# Set seed for reproducibility\n",
    "set.seed(150)\n",
    "\n",
    "# Generate 200 standard normal random variables (white noise)\n",
    "w <- rnorm(200, 0, 1)\n",
    "\n",
    "# Standard random walk: X_t = X_{t-1} + W_t\n",
    "x <- cumsum(w)\n",
    "\n",
    "# Add a drift of 0.2 to the noise\n",
    "wd <- w + 0.2\n",
    "\n",
    "# Random walk with drift: Xd_t = Xd_{t-1} + (W_t + 0.2)\n",
    "xd <- cumsum(wd)\n",
    "\n",
    "# Set plot margins and background\n",
    "par(mar = c(4, 4, 2, 0.5), bg = \"white\")\n",
    "\n",
    "# Plot random walk with drift\n",
    "plot.ts(xd, ylim = c(-5, 45), main = \"random walk\", col = \"blue\")\n",
    "\n",
    "# Add standard random walk as a line\n",
    "lines(x)\n",
    "\n",
    "# Add theoretical drift line: 0.2 * time (expected value of drift component)\n",
    "lines(0.2 * (1:200), lty = \"dashed\", col = \"blue\")\n"
   ]
  },
  {
   "cell_type": "markdown",
   "metadata": {},
   "source": [
    "**Figure 1.8:** Random walk, $\\sigma = 1$, with drift $\\delta = 0.2$ (upper jagged line), without drift, $\\delta = 0$ (lower jagged line), and a straight line with slope $0.2$ (dashed line)."
   ]
  },
  {
   "cell_type": "markdown",
   "metadata": {},
   "source": [
    "**Example 1.13 (Signal in Noise).**  \n",
    "Consider the model  \n",
    "$$\n",
    "X_t = 2 \\cos\\left( \\frac{2\\pi t}{50} + 0.6\\pi \\right) + W_t \\tag{1.5}\n",
    "$$  \n",
    "for $t = 1, 2, \\ldots$, where the first term is regarded as the **signal**, and $W_t \\sim \\text{WN}(0, \\sigma^2)$. Many realistic models for generating time series assume an underlying signal with some consistent periodic variation, contaminated by adding random noise. Note that, for any sinusoidal waveform,  \n",
    "$$\n",
    "A \\cos(2\\pi \\omega t + \\phi) \\tag{1.6}\n",
    "$$  \n",
    "where $A$ is the **amplitude**, $\\omega$ is the **frequency** of oscillation, and $\\phi$ is a **phase shift**.\n"
   ]
  },
  {
   "cell_type": "code",
   "execution_count": null,
   "metadata": {
    "vscode": {
     "languageId": "r"
    }
   },
   "outputs": [],
   "source": [
    "set.seed(100)\n",
    "\n",
    "# Create a cosine wave with amplitude 2, frequency 1/50, and phase shift 0.6*pi\n",
    "cs <- 2 * cos(2 * pi * (1:500) / 50 + 0.6 * pi)\n",
    "\n",
    "# Generate 500 standard normal noise values (mean=0, sd=1)\n",
    "w <- rnorm(500, 0, 1)\n",
    "\n",
    "# Set plotting parameters: 3 rows, 1 column; margins and title size\n",
    "par(mfrow = c(3, 1), mar = c(3, 2, 2, 1), cex.main = 1.5, bg = \"white\")\n",
    "\n",
    "# Plot pure cosine wave\n",
    "plot.ts(cs, main = expression(2 * cos(2 * pi * t / 50 + 0.6 * pi)), col = \"blue\")\n",
    "\n",
    "# Plot cosine wave + Gaussian noise with variance 1 (N(0,1))\n",
    "plot.ts(cs + w, main = expression(2 * cos(2 * pi * t / 50 + 0.6 * pi) + N(0,1)), col = \"blue\")\n",
    "\n",
    "# Plot cosine wave + Gaussian noise with variance 25 (N(0,25))\n",
    "plot.ts(cs + 5 * w, main = expression(2 * cos(2 * pi * t / 50 + 0.6 * pi) + N(0,25)), col = \"blue\")\n"
   ]
  },
  {
   "cell_type": "markdown",
   "metadata": {},
   "source": [
    "**Figure 1.9:** Cosine wave with period 50 points (top panel) compared with the cosine wave contaminated with additive white Gaussian noise, $\\sigma = 1$ (middle panel) and $\\sigma = 5$ (bottom panel).\n"
   ]
  },
  {
   "cell_type": "markdown",
   "metadata": {},
   "source": []
  }
 ],
 "metadata": {
  "kernelspec": {
   "display_name": "R",
   "language": "R",
   "name": "ir"
  },
  "language_info": {
   "codemirror_mode": "r",
   "file_extension": ".r",
   "mimetype": "text/x-r-source",
   "name": "R",
   "pygments_lexer": "r",
   "version": "4.5.0"
  }
 },
 "nbformat": 4,
 "nbformat_minor": 2
}
