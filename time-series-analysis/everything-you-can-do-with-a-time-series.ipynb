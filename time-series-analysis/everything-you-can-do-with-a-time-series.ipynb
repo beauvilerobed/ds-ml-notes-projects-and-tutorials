{
 "cells": [
  {
   "cell_type": "markdown",
   "metadata": {
    "_cell_guid": "b1076dfc-b9ad-4769-8c92-a6c4dae69d19",
    "_uuid": "8f2839f25d086af736a60e9eeb907d3b93b6e0e5",
    "collapsed": true,
    "trusted": true
   },
   "source": [
    "# Aim\n",
    "This kernel is prepared to be a container of many broad topics in the field of time series analysis. The motive is to make this the ultimate reference to time series analysis for beginners and experienced people alike."
   ]
  },
  {
   "cell_type": "code",
   "execution_count": null,
   "metadata": {
    "_cell_guid": "79c7e3d0-c299-4dcb-8224-4455121ee9b0",
    "_kg_hide-input": false,
    "_kg_hide-output": false,
    "_uuid": "d629ff2d2480ee46fbb7e2d37f6b5fab8052498a",
    "collapsed": true,
    "scrolled": true,
    "trusted": true
   },
   "outputs": [],
   "source": [
    "# Importing libraries\n",
    "import os\n",
    "import warnings\n",
    "warnings.filterwarnings('ignore')\n",
    "import numpy as np \n",
    "import pandas as pd\n",
    "import matplotlib.pyplot as plt\n",
    "plt.style.use('fivethirtyeight') \n",
    "# Above is a special style template for matplotlib, highly useful for visualizing time series data\n",
    "%matplotlib inline\n",
    "from pylab import rcParams\n",
    "from chart_studio import plotly \n",
    "import statsmodels.api as sm\n",
    "from numpy.random import normal, seed\n",
    "from scipy.stats import norm\n",
    "from statsmodels.tsa.arima.model import ARIMA\n",
    "from statsmodels.tsa.stattools import adfuller\n",
    "from statsmodels.graphics.tsaplots import plot_acf, plot_pacf\n",
    "from statsmodels.tsa.arima_process import ArmaProcess\n",
    "from statsmodels.tsa.arima_model import ARIMA\n",
    "import math\n",
    "from sklearn.metrics import mean_squared_error\n",
    "\n",
    "DATA_DIR = \"../time-series-analysis/input\"\n",
    "print(os.listdir(DATA_DIR))"
   ]
  },
  {
   "cell_type": "code",
   "execution_count": null,
   "metadata": {},
   "outputs": [],
   "source": [
    "from chart_studio.plotly.plotly import tools\n",
    "import chart_studio.plotly.plotly as py\n",
    "from plotly.offline import init_notebook_mode, iplot\n",
    "import plotly.graph_objs as go\n",
    "import plotly.figure_factory as ff\n",
    "\n",
    "init_notebook_mode(connected=True)\n"
   ]
  },
  {
   "cell_type": "markdown",
   "metadata": {
    "_uuid": "3d798543e3b1a8df4989f8361f241b8f3ec00b0d"
   },
   "source": [
    "1. Introduction to date and time\n",
    "    - 1.1 Importing time series data\n",
    "    - 1.2 Cleaning and preparing time series data\n",
    "    - 1.3 Visualizing the datasets\n",
    "    - 1.4 Timestamps and Periods\n",
    "    - 1.5 Using date_range\n",
    "    - 1.6 Using to_datetime\n",
    "    - 1.7 Shifting and lags\n",
    "    - 1.8 Resampling\n",
    "2. Finance and Statistics\n",
    "    - 2.1 Percent change\n",
    "    - 2.2 Stock returns\n",
    "    - 2.3 Absolute change in successive rows\n",
    "    - 2.4 Comaring two or more time series\n",
    "    - 2.5 Window functions\n",
    "    - 2.6 OHLC charts\n",
    "    - 2.7 Candlestick charts\n",
    "    - 2.8 Autocorrelation and Partial Autocorrelation\n",
    "3. Time series decomposition and Random Walks\n",
    "    - 3.1 Trends, Seasonality and Noise\n",
    "    - 3.2 White Noise\n",
    "    - 3.3 Random Walk\n",
    "    - 3.4 Stationarity\n",
    "4. Modelling using statsmodels\n",
    "    - 4.1 AR models\n",
    "    - 4.2 MA models\n",
    "    - 4.3 ARMA models\n",
    "    - 4.4 ARIMA models\n",
    "    - 4.5 VAR models\n",
    "    - 4.6 State space methods\n",
    "        - 4.6.1 SARIMA models\n",
    "        - 4.6.2 Unobserved components\n",
    "        - 4.6.3 Dynamic Factor models"
   ]
  },
  {
   "cell_type": "markdown",
   "metadata": {
    "_uuid": "c0dc336a9d4969910d85fbb9462f2dde0bb01dc3"
   },
   "source": [
    "# 1. Introduction to date and time"
   ]
  },
  {
   "cell_type": "markdown",
   "metadata": {
    "_uuid": "d8fd2907fd2d4ef86da73d65ba3d228dd56326a8"
   },
   "source": [
    "## 1.1 Importing time series data"
   ]
  },
  {
   "cell_type": "markdown",
   "metadata": {
    "_uuid": "0a98331f0441b4365873a02f0c2208321ac959b0"
   },
   "source": [
    "### How to import data?\n",
    "First, we import all the datasets needed for this kernel. The required time series column is imported as a datetime column using **parse_dates** parameter and is also selected as index of the dataframe using **index_col** parameter. \n",
    "#### Data being used:-\n",
    "1. Google  Stocks Data\n",
    "2. Humidity in different world cities\n",
    "3. Microsoft  Stocks Data\n",
    "3. Pressure in different world cities"
   ]
  },
  {
   "cell_type": "code",
   "execution_count": null,
   "metadata": {
    "_uuid": "3ded63a0ec9e973d605a44fbea7ec50bb8c85a90",
    "collapsed": true,
    "trusted": true
   },
   "outputs": [],
   "source": [
    "google = pd.read_csv(DATA_DIR+'/stock-time-series-20050101-to-20171231/GOOGL_2006-01-01_to_2018-01-01.csv', index_col='Date', parse_dates=['Date'])\n",
    "google.head()"
   ]
  },
  {
   "cell_type": "code",
   "execution_count": null,
   "metadata": {
    "_uuid": "2b27e5654118735d5820431229536c3a97fdf79a",
    "collapsed": true,
    "trusted": true
   },
   "outputs": [],
   "source": [
    "humidity = pd.read_csv(DATA_DIR+'/historical-hourly-weather-data/humidity.csv', index_col='datetime', parse_dates=['datetime'])\n",
    "humidity.tail()"
   ]
  },
  {
   "cell_type": "markdown",
   "metadata": {
    "_uuid": "1dc01753c087bdb1968478ea172d3f49ded7d130"
   },
   "source": [
    "## 1.2 Cleaning and preparing time series data"
   ]
  },
  {
   "cell_type": "markdown",
   "metadata": {
    "_uuid": "f672f5e3ef334a129cd2d730ee1bc827f92b2e62"
   },
   "source": [
    "### How to prepare data?\n",
    "Google stocks data doesn't have any missing values but humidity data does have its fair share of missing values. It is cleaned using **fillna()** method with **ffill** parameter which propagates last valid observation to fill gaps"
   ]
  },
  {
   "cell_type": "code",
   "execution_count": null,
   "metadata": {
    "_uuid": "633d07112600b943f07e271caa118c63f1998022",
    "collapsed": true,
    "trusted": true
   },
   "outputs": [],
   "source": [
    "humidity = humidity.iloc[1:]\n",
    "humidity = humidity.fillna(method='ffill')\n",
    "humidity.head()"
   ]
  },
  {
   "cell_type": "markdown",
   "metadata": {
    "_uuid": "ed2ec5326c1771450a60efbdfc246b9f20495406"
   },
   "source": [
    "## 1.3 Visualizing the datasets"
   ]
  },
  {
   "cell_type": "code",
   "execution_count": null,
   "metadata": {
    "_uuid": "d8a59e9ebfd10e486af4dd4d72e510447c1c31a8",
    "collapsed": true,
    "trusted": true
   },
   "outputs": [],
   "source": [
    "humidity[\"Kansas City\"].asfreq('M').plot() # asfreq method is used to convert a time series to a specified frequency. Here it is monthly frequency.\n",
    "plt.title('Humidity in Kansas City over time(Monthly frequency)')\n",
    "plt.show()"
   ]
  },
  {
   "cell_type": "code",
   "execution_count": null,
   "metadata": {
    "_uuid": "13599f97548a5b33fa28b016bff5152c17d49296",
    "collapsed": true,
    "trusted": true
   },
   "outputs": [],
   "source": [
    "google['2008':'2010'].plot(subplots=True, figsize=(10,12))\n",
    "plt.title('Google stock attributes from 2008 to 2010')\n",
    "plt.show()"
   ]
  },
  {
   "cell_type": "markdown",
   "metadata": {
    "_uuid": "bd73a8237c04b14b3afcf1d9dc3f244753b35a8b"
   },
   "source": [
    "## 1.4 Timestamps and Periods"
   ]
  },
  {
   "cell_type": "markdown",
   "metadata": {
    "_uuid": "4c2ada0d73d7893f0899a8cfffcdfae75ee7b57b"
   },
   "source": [
    "### What are timestamps and periods and how are they useful?\n",
    "Timestamps are used to represent a point in time. Periods represent an interval in time. Periods can be used to check if a specific event is in the given period. They can also be converted to each other's form."
   ]
  },
  {
   "cell_type": "code",
   "execution_count": null,
   "metadata": {
    "_uuid": "cd04e48cfb1fdacb64417c73021f183b0f955402",
    "collapsed": true,
    "trusted": true
   },
   "outputs": [],
   "source": [
    "# Creating a Timestamp\n",
    "timestamp = pd.Timestamp(2017, 1, 1, 12)\n",
    "timestamp"
   ]
  },
  {
   "cell_type": "code",
   "execution_count": null,
   "metadata": {
    "_uuid": "b562cac2339475b197cff0c2f5a705145a930c71",
    "collapsed": true,
    "trusted": true
   },
   "outputs": [],
   "source": [
    "# Creating a period\n",
    "period = pd.Period('2017-01-01')\n",
    "period"
   ]
  },
  {
   "cell_type": "code",
   "execution_count": null,
   "metadata": {
    "_uuid": "d044ccabd1e1d1ebfd74c9732aadf080ca472f17",
    "collapsed": true,
    "trusted": true
   },
   "outputs": [],
   "source": [
    "# Checking if the given timestamp exists in the given period\n",
    "period.start_time < timestamp < period.end_time"
   ]
  },
  {
   "cell_type": "code",
   "execution_count": null,
   "metadata": {
    "_uuid": "bd69b8ec26959d136a34f1e88811f2523fb2f96f",
    "collapsed": true,
    "trusted": true
   },
   "outputs": [],
   "source": [
    "# Converting timestamp to period\n",
    "new_period = timestamp.to_period(freq='H')\n",
    "new_period"
   ]
  },
  {
   "cell_type": "code",
   "execution_count": null,
   "metadata": {
    "_uuid": "9f36e7636c6a826f19a38fc9c1956b34870d56e8",
    "collapsed": true,
    "trusted": true
   },
   "outputs": [],
   "source": [
    "# Converting period to timestamp\n",
    "new_timestamp = period.to_timestamp(freq='H', how='start')\n",
    "new_timestamp"
   ]
  },
  {
   "cell_type": "markdown",
   "metadata": {
    "_uuid": "f87c7b3f17071c0ce6ed05ce91fe085642e5377d"
   },
   "source": [
    "## 1.5 Using date_range"
   ]
  },
  {
   "cell_type": "markdown",
   "metadata": {
    "_uuid": "47cf8637f8c60e0bdbeb457f2af05aeeaaf763f9"
   },
   "source": [
    "### What is date_range and how is it useful?\n",
    "**date_range** is a method that returns  a fixed frequency datetimeindex. It is quite useful when creating your own time series attribute for pre-existing data or arranging the whole data around the time series attribute created by you."
   ]
  },
  {
   "cell_type": "code",
   "execution_count": null,
   "metadata": {
    "_uuid": "922cd920cd5e85d571458010af8433b9340fad09",
    "collapsed": true,
    "trusted": true
   },
   "outputs": [],
   "source": [
    "# Creating a datetimeindex with daily frequency\n",
    "dr1 = pd.date_range(start='1/1/18', end='1/9/18')\n",
    "dr1"
   ]
  },
  {
   "cell_type": "code",
   "execution_count": null,
   "metadata": {
    "_uuid": "b346810a9d38a629dee9f9af9b079c4eb61ceecd",
    "collapsed": true,
    "trusted": true
   },
   "outputs": [],
   "source": [
    "# Creating a datetimeindex with monthly frequency\n",
    "dr2 = pd.date_range(start='1/1/18', end='1/1/19', freq='M')\n",
    "dr2"
   ]
  },
  {
   "cell_type": "code",
   "execution_count": null,
   "metadata": {
    "_uuid": "38263cc1ea8e719844ced552ce86056cd1a5f6b4",
    "collapsed": true,
    "trusted": true
   },
   "outputs": [],
   "source": [
    "# Creating a datetimeindex without specifying start date and using periods\n",
    "dr3 = pd.date_range(end='1/4/2014', periods=8)\n",
    "dr3"
   ]
  },
  {
   "cell_type": "code",
   "execution_count": null,
   "metadata": {
    "_uuid": "a07f4419201ba0b849ee5cfd097eeb6aa996beab",
    "collapsed": true,
    "trusted": true
   },
   "outputs": [],
   "source": [
    "# Creating a datetimeindex specifying start date , end date and periods\n",
    "dr4 = pd.date_range(start='2013-04-24', end='2014-11-27', periods=3)\n",
    "dr4"
   ]
  },
  {
   "cell_type": "markdown",
   "metadata": {
    "_uuid": "c26aa5fc419a077276c3b24f52d1721245de94fe"
   },
   "source": [
    "## 1.6 Using to_datetime "
   ]
  },
  {
   "cell_type": "markdown",
   "metadata": {
    "_uuid": "821003a25d35c41cc9a33134549a1c46d6ca4b99"
   },
   "source": [
    "pandas.to_datetime() is used for converting arguments to datetime. Here, a DataFrame is converted to a datetime series."
   ]
  },
  {
   "cell_type": "code",
   "execution_count": null,
   "metadata": {
    "_uuid": "20e1dcadccaf8572cf40511500ba6eb9a4e1cd7e",
    "collapsed": true,
    "trusted": true
   },
   "outputs": [],
   "source": [
    "df = pd.DataFrame({'year': [2015, 2016], 'month': [2, 3], 'day': [4, 5]})\n",
    "df"
   ]
  },
  {
   "cell_type": "code",
   "execution_count": null,
   "metadata": {
    "_uuid": "caa46d29f6eebe46898524ce0afe821b58c41463",
    "collapsed": true,
    "trusted": true
   },
   "outputs": [],
   "source": [
    "df = pd.to_datetime(df)\n",
    "df"
   ]
  },
  {
   "cell_type": "code",
   "execution_count": null,
   "metadata": {
    "_uuid": "5efe3b52d2ac539c66f43f51e11571982f771f5b",
    "collapsed": true,
    "trusted": true
   },
   "outputs": [],
   "source": [
    "df = pd.to_datetime('01-01-2017')\n",
    "df"
   ]
  },
  {
   "cell_type": "markdown",
   "metadata": {
    "_uuid": "9acb890fd5a021bc1a10ee19184425031d891f84",
    "collapsed": true,
    "trusted": true
   },
   "source": [
    "## 1.7 Shifting and lags"
   ]
  },
  {
   "cell_type": "markdown",
   "metadata": {
    "_uuid": "16a55de3afba1b92503ff5484e45b39087e77f38"
   },
   "source": [
    "We can shift index by desired number of periods with an optional time frequency. This is useful when comparing the time series with a past of itself"
   ]
  },
  {
   "cell_type": "code",
   "execution_count": null,
   "metadata": {
    "_uuid": "8ace8c9bb3b3b57d568a78ce198f96300d66a333",
    "collapsed": true,
    "trusted": true
   },
   "outputs": [],
   "source": [
    "humidity[\"Vancouver\"].asfreq('M').plot(legend=True)\n",
    "shifted = humidity[\"Vancouver\"].asfreq('M').shift(10).plot(legend=True)\n",
    "shifted.legend(['Vancouver','Vancouver_lagged'])\n",
    "plt.show()"
   ]
  },
  {
   "cell_type": "markdown",
   "metadata": {
    "_uuid": "7848513aec3116b0b7909852f72835f0b56eceaf"
   },
   "source": [
    "## 1.8 Resampling\n",
    "- **Upsampling** - Time series is resampled from low frequency to high frequency(Monthly to daily frequency). It involves filling or interpolating missing data\n",
    "- **Downsampling** - Time series is resampled from high frequency to low frequency(Weekly to monthly frequency). It involves aggregation of existing data.\n"
   ]
  },
  {
   "cell_type": "code",
   "execution_count": null,
   "metadata": {
    "_uuid": "8256537dbb6ee6ddb4e8a097d322b58ad0d06f40",
    "collapsed": true,
    "trusted": true
   },
   "outputs": [],
   "source": [
    "# Let's use pressure data to demonstrate this\n",
    "pressure = pd.read_csv(DATA_DIR+'/historical-hourly-weather-data/pressure.csv', index_col='datetime', parse_dates=['datetime'])\n",
    "pressure.tail()"
   ]
  },
  {
   "cell_type": "markdown",
   "metadata": {
    "_uuid": "572d95634d66f13d8878816c3c7c54ae37bc6918"
   },
   "source": [
    "Cleaning is required."
   ]
  },
  {
   "cell_type": "code",
   "execution_count": null,
   "metadata": {
    "_uuid": "57a352447d219e9b492a2520b2621f29f9c12946",
    "collapsed": true,
    "trusted": true
   },
   "outputs": [],
   "source": [
    "pressure = pressure.iloc[1:]\n",
    "pressure = pressure.fillna(method='ffill')\n",
    "pressure.tail()"
   ]
  },
  {
   "cell_type": "code",
   "execution_count": null,
   "metadata": {
    "_uuid": "1ab27250b90e645ad25908d6f615436aca2073d6",
    "collapsed": true,
    "trusted": true
   },
   "outputs": [],
   "source": [
    "pressure = pressure.fillna(method='bfill')\n",
    "pressure.head()"
   ]
  },
  {
   "cell_type": "markdown",
   "metadata": {
    "_uuid": "e3afdbbb50ac88e74c8d3f4666e8b1b583859046"
   },
   "source": [
    "First, we used **ffill** parameter which propagates last valid observation to fill gaps. Then we use **bfill** to propogate next valid observation to fill gaps."
   ]
  },
  {
   "cell_type": "code",
   "execution_count": null,
   "metadata": {
    "_uuid": "25915cb8ab6be7fe3f5784bfff1a15c8afbe5076",
    "collapsed": true,
    "trusted": true
   },
   "outputs": [],
   "source": [
    "# Shape before resampling(downsampling)\n",
    "pressure.shape"
   ]
  },
  {
   "cell_type": "code",
   "execution_count": null,
   "metadata": {
    "_uuid": "5ea60c3c26fadc2c03512be0e52dd91f4a5182a5",
    "collapsed": true,
    "trusted": true
   },
   "outputs": [],
   "source": [
    "# We downsample from hourly to 3 day frequency aggregated using mean\n",
    "pressure = pressure.resample('3D').mean()\n",
    "pressure.head()"
   ]
  },
  {
   "cell_type": "code",
   "execution_count": null,
   "metadata": {
    "_uuid": "59c990d142724e51991985dd2377b328d2573fd8",
    "collapsed": true,
    "trusted": true
   },
   "outputs": [],
   "source": [
    "# Shape after resampling(downsampling)\n",
    "pressure.shape"
   ]
  },
  {
   "cell_type": "markdown",
   "metadata": {
    "_uuid": "1de21323b780dfc602ed1d2df04881a20a3a8cee"
   },
   "source": [
    "Much less rows are left. Now, we will upsample from 3 day frequency to daily frequency"
   ]
  },
  {
   "cell_type": "code",
   "execution_count": null,
   "metadata": {
    "_uuid": "95f252356e497a3a456d37534dfd2bb97813b55f",
    "collapsed": true,
    "trusted": true
   },
   "outputs": [],
   "source": [
    "pressure = pressure.resample('D').ffill()\n",
    "pressure.head()"
   ]
  },
  {
   "cell_type": "code",
   "execution_count": null,
   "metadata": {
    "_uuid": "83f9f0b8863ff524de1179ea77187fb4b0266154",
    "collapsed": true,
    "trusted": true
   },
   "outputs": [],
   "source": [
    "# Shape after resampling(upsampling)\n",
    "pressure.shape"
   ]
  },
  {
   "cell_type": "markdown",
   "metadata": {
    "_uuid": "18c6eb20d04c8af0a4900552dbfb18575990f310"
   },
   "source": [
    "Again an increase in number of rows. Resampling is cool when used properly."
   ]
  },
  {
   "cell_type": "markdown",
   "metadata": {
    "_uuid": "72d0ea11c176f3731727b81269148188141c7dcc"
   },
   "source": [
    "# 2. Finance and statistics"
   ]
  },
  {
   "cell_type": "markdown",
   "metadata": {
    "_uuid": "e99a77337a15dfbcc5ec97358c0d31d0ca04ab0d"
   },
   "source": [
    "## 2.1 Percent change"
   ]
  },
  {
   "cell_type": "code",
   "execution_count": null,
   "metadata": {
    "_uuid": "ee26cbd48ae1025b9a072a4385609d6abc0406d9",
    "collapsed": true,
    "trusted": true
   },
   "outputs": [],
   "source": [
    "google['Pct_Change'] = google.High.div(google.High.shift()) - 1\n",
    "google['Pct_Change'].plot(figsize=(20,8))"
   ]
  },
  {
   "cell_type": "markdown",
   "metadata": {
    "_uuid": "eed7547b522e9630ea2dc833afdee51e61ca41e6"
   },
   "source": [
    "## 2.2 Stock returns "
   ]
  },
  {
   "cell_type": "code",
   "execution_count": null,
   "metadata": {
    "_uuid": "09d5af0ce40cfdd1338433c204538fe894004b3f",
    "collapsed": true,
    "trusted": true
   },
   "outputs": [],
   "source": [
    "google['Return'] = google.Change.sub(1).mul(100)\n",
    "google['Return'].plot(figsize=(20,8))"
   ]
  },
  {
   "cell_type": "code",
   "execution_count": null,
   "metadata": {
    "_uuid": "f5f7a089b1ae64b4403c588f8095332bc32c0d11",
    "collapsed": true,
    "trusted": true
   },
   "outputs": [],
   "source": [
    "google.High.pct_change().mul(100).plot(figsize=(20,6)) # Another way to calculate returns"
   ]
  },
  {
   "cell_type": "markdown",
   "metadata": {
    "_uuid": "1daf826b9b25c7f3c69683d9b59a7d2aa285df06"
   },
   "source": [
    "## 2.3 Absolute change in successive rows"
   ]
  },
  {
   "cell_type": "code",
   "execution_count": null,
   "metadata": {
    "_uuid": "399bd0a9f469d69dd11523e54f1599302291be44",
    "collapsed": true,
    "trusted": true
   },
   "outputs": [],
   "source": [
    "google.High.diff().plot(figsize=(20,6))"
   ]
  },
  {
   "cell_type": "markdown",
   "metadata": {
    "_uuid": "bd5ec63ecd09543b21df15aff6432db598ee1ab5",
    "collapsed": true,
    "trusted": true
   },
   "source": [
    "## 2.4 Comaring two or more time series "
   ]
  },
  {
   "cell_type": "markdown",
   "metadata": {
    "_uuid": "7a7a4a918d1d80d19d33f71965a3ca5583a8aa2e"
   },
   "source": [
    "We will compare 2 time series by normalizing them. This is achieved by dividing each time series element of all time series by the first element. This way both series start at the same point and can be easily compared."
   ]
  },
  {
   "cell_type": "code",
   "execution_count": null,
   "metadata": {
    "_uuid": "91ff99a81a53eecbda4e8c81b231db3dc8f62082",
    "collapsed": true,
    "trusted": true
   },
   "outputs": [],
   "source": [
    "# We choose microsoft stocks to compare them with google\n",
    "microsoft = pd.read_csv(DATA_DIR+'/stock-time-series-20050101-to-20171231/MSFT_2006-01-01_to_2018-01-01.csv', index_col='Date', parse_dates=['Date'])"
   ]
  },
  {
   "cell_type": "code",
   "execution_count": null,
   "metadata": {
    "_uuid": "751ce8e4ff9bb26f106342c26d9f4893c21a7bfa",
    "collapsed": true,
    "trusted": true
   },
   "outputs": [],
   "source": [
    "# Plotting before normalization\n",
    "google.High.plot()\n",
    "microsoft.High.plot()\n",
    "plt.legend(['Google','Microsoft'])\n",
    "plt.show()"
   ]
  },
  {
   "cell_type": "code",
   "execution_count": null,
   "metadata": {
    "_uuid": "e9d610487415c9c65726c187909abbd8ce0f57b0",
    "collapsed": true,
    "trusted": true
   },
   "outputs": [],
   "source": [
    "# Normalizing and comparison\n",
    "# Both stocks start from 100\n",
    "normalized_google = google.High.div(google.High.iloc[0]).mul(100)\n",
    "normalized_microsoft = microsoft.High.div(microsoft.High.iloc[0]).mul(100)\n",
    "normalized_google.plot()\n",
    "normalized_microsoft.plot()\n",
    "plt.legend(['Google','Microsoft'])\n",
    "plt.show()"
   ]
  },
  {
   "cell_type": "markdown",
   "metadata": {
    "_uuid": "5a89d0a945a7cff7d2dbd074d437be83607c17e3"
   },
   "source": [
    "You can clearly see how google outperforms microsoft over time."
   ]
  },
  {
   "cell_type": "markdown",
   "metadata": {
    "_uuid": "7de5aa0e16da9790177a2994e843b4bf69c82688",
    "collapsed": true,
    "trusted": true
   },
   "source": [
    "## 2.5 Window functions\n",
    "Window functions are used to identify sub periods, calculates sub-metrics of sub-periods.\n",
    "\n",
    "**Rolling** - Same size and sliding\n",
    "\n",
    "**Expanding** - Contains all prior values"
   ]
  },
  {
   "cell_type": "code",
   "execution_count": null,
   "metadata": {
    "_uuid": "2759a3894d231e62d1a868d61591a78796b428ac",
    "collapsed": true,
    "trusted": true
   },
   "outputs": [],
   "source": [
    "# Rolling window functions\n",
    "rolling_google = google.High.rolling('90D').mean()\n",
    "google.High.plot()\n",
    "rolling_google.plot()\n",
    "plt.legend(['High','Rolling Mean'])\n",
    "# Plotting a rolling mean of 90 day window with original High attribute of google stocks\n",
    "plt.show()"
   ]
  },
  {
   "cell_type": "markdown",
   "metadata": {
    "_uuid": "6de30c1c19b15b698c04f6328430d25e0c29e016"
   },
   "source": [
    "Now, observe that rolling mean plot is a smoother version of the original plot."
   ]
  },
  {
   "cell_type": "code",
   "execution_count": null,
   "metadata": {
    "_uuid": "0c00473ae42582d73987233a761e0a22a9c2b9af",
    "collapsed": true,
    "trusted": true
   },
   "outputs": [],
   "source": [
    "# Expanding window functions\n",
    "microsoft_mean = microsoft.High.expanding().mean()\n",
    "microsoft_std = microsoft.High.expanding().std()\n",
    "microsoft.High.plot()\n",
    "microsoft_mean.plot()\n",
    "microsoft_std.plot()\n",
    "plt.legend(['High','Expanding Mean','Expanding Standard Deviation'])\n",
    "plt.show()"
   ]
  },
  {
   "attachments": {
    "image.png": {
     "image/png": "[encoded data removed]"
    }
   },
   "cell_type": "markdown",
   "metadata": {
    "_uuid": "468318f02e689885dd64c8c4cc30984fb91d8f3b"
   },
   "source": [
    "## 2.6 OHLC charts\n",
    "An OHLC chart is any type of price chart that shows the open, high, low and close price of a certain time period. Open-high-low-close Charts (or OHLC Charts) are used as a trading tool to visualise and analyse the price changes over time for securities, currencies, stocks, bonds, commodities, etc. OHLC Charts are useful for interpreting the day-to-day sentiment of the market and forecasting any future price changes through the patterns produced.\n",
    "\n",
    "The y-axis on an OHLC Chart is used for the price scale, while the x-axis is the timescale. On each single time period, an OHLC Charts plots a symbol that represents two ranges: the highest and lowest prices traded, and also the opening and closing price on that single time period (for example in a day). On the range symbol, the high and low price ranges are represented by the length of the main vertical line. The open and close prices are represented by the vertical positioning of tick-marks that appear on the left (representing the open price) and on right (representing the close price) sides of the high-low vertical line.\n",
    "\n",
    "Colour can be assigned to each OHLC Chart symbol, to distinguish whether the market is \"bullish\" (the closing price is higher then it opened) or \"bearish\" (the closing price is lower then it opened).\n",
    "\n",
    "![image.png](attachment:image.png)\n",
    "\n",
    "Source: [Datavizcatalogue](https://datavizcatalogue.com/methods/OHLC_chart.html)"
   ]
  },
  {
   "cell_type": "code",
   "execution_count": null,
   "metadata": {
    "_uuid": "cda7c35e8689a4638f0cfda0cc280bc670733993",
    "collapsed": true,
    "trusted": true
   },
   "outputs": [],
   "source": [
    "import plotly.graph_objs as go\n",
    "from plotly.offline import plot\n",
    "\n",
    "# OHLC chart of 2008\n",
    "google_2008 = google.loc['2008']\n",
    "trace = go.Ohlc(x=google_2008.index,\n",
    "                open=google_2008['Open'],\n",
    "                high=google_2008['High'],\n",
    "                low=google_2008['Low'],\n",
    "                close=google_2008['Close'])\n",
    "\n",
    "layout = go.Layout(title='Google OHLC Chart - 2008')\n",
    "fig = go.Figure(data=[trace], layout=layout)\n",
    "\n",
    "# This will open the plot in your default web browser\n",
    "plot(fig, filename='google_ohlc_2008.html')\n"
   ]
  },
  {
   "cell_type": "markdown",
   "metadata": {
    "_uuid": "93363b9969f9ec48dd95b0a33201ea00d8f6bd0b"
   },
   "source": [
    " ## 2.7 Candlestick charts\n",
    "This type of chart is used as a trading tool to visualise and analyse the price movements over time for securities, derivatives, currencies, stocks, bonds, commodities, etc. Although the symbols used in Candlestick Charts resemble a Box Plot, they function differently and therefore, are not to be confused with one another.\n",
    "\n",
    "Candlestick Charts display multiple bits of price information such as the open price, close price, highest price and lowest price through the use of candlestick-like symbols. Each symbol represents the compressed trading activity for a single time period (a minute, hour, day, month, etc). Each Candlestick symbol is plotted along a time scale on the x-axis, to show the trading activity over time.\n",
    "\n",
    "The main rectangle in the symbol is known as the real body, which is used to display the range between the open and close price of that time period. While the lines extending from the bottom and top of the real body is known as the lower and upper shadows (or wick). Each shadow represents the highest or lowest price traded during the time period represented. When the market is Bullish (the closing price is higher than it opened), then the body is coloured typically white or green. But when the market is Bearish (the closing price is lower than it opened), then the body is usually coloured either black or red.\n",
    "\n",
    "<img src=\"https://datavizcatalogue.com/methods/images/anatomy/SVG/candlestick_chart.svg\">\n",
    "\n",
    "Candlestick Charts are great for detecting and predicting market trends over time and are useful for interpreting the day-to-day sentiment of the market, through each candlestick symbol's colouring and shape. For example, the longer the body is, the more intense the selling or buying pressure is. While, a very short body, would indicate that there is very little price movement in that time period and represents consolidation.\n",
    "\n",
    "Candlestick Charts help reveal the market psychology (the fear and greed experienced by sellers and buyers) through the various indicators, such as shape and color, but also by the many identifiable patterns that can be found in Candlestick Charts. In total, there are 42 recognised patterns that are divided into simple and complex patterns. These patterns found in Candlestick Charts are useful for displaying price relationships and can be used for predicting the possible future movement of the market. You can find a list and description of each pattern here.\n",
    "\n",
    "Please bear in mind, that Candlestick Charts don't express the events taking place between the open and close price - only the relationship between the two prices. So you can't tell how volatile trading was within that single time period.\n",
    "\n",
    "Source: [Datavizcatalogue](https://datavizcatalogue.com/methods/candlestick_chart.html)"
   ]
  },
  {
   "cell_type": "code",
   "execution_count": null,
   "metadata": {
    "_uuid": "d022e0d965c6a65e5d79807e22f81ad38e42ecce",
    "collapsed": true,
    "trusted": true
   },
   "outputs": [],
   "source": [
    "import plotly.graph_objs as go\n",
    "from plotly.offline import plot\n",
    "\n",
    "# Candlestick chart of 2008\n",
    "google_2008 = google.loc['2008']\n",
    "trace = go.Candlestick(x=google_2008.index,\n",
    "                open=google_2008['Open'],\n",
    "                high=google_2008['High'],\n",
    "                low=google_2008['Low'],\n",
    "                close=google_2008['Close'])\n",
    "\n",
    "layout = go.Layout(title='Google OHLC Chart - 2008')\n",
    "fig = go.Figure(data=[trace], layout=layout)\n",
    "\n",
    "# This will open the plot in your default web browser\n",
    "plot(fig, filename='google_ohlc_2008.html')\n"
   ]
  },
  {
   "cell_type": "markdown",
   "metadata": {
    "_uuid": "554c6559d926c57de9e75da9c908aed9843bb529"
   },
   "source": [
    "## 2.8 Autocorrelation and Partial Autocorrelation\n",
    "* Autocorrelation - The autocorrelation function (ACF) measures how a series is correlated with itself at different lags.\n",
    "* Partial Autocorrelation - The partial autocorrelation function can be interpreted as a regression of the series against its past lags.  The terms can be interpreted the same way as a standard  linear regression, that is the contribution of a change in that particular lag while holding others constant. \n",
    "\n",
    "Practical Application when fitting an ARIMA model, you typically:\n",
    "- Plot the ACF and PACF of your time series.\n",
    "- Use the ACF to determine the MA order (q).\n",
    "- Use the PACF to determine the AR order (p).\n",
    "\n",
    "Source: [Quora](https://www.quora.com/What-is-the-difference-among-auto-correlation-partial-auto-correlation-and-inverse-auto-correlation-while-modelling-an-ARIMA-series)"
   ]
  },
  {
   "cell_type": "markdown",
   "metadata": {
    "_uuid": "90d9e5bb466fc9efbdb4c2cdaea14c4d30704988"
   },
   "source": [
    "## Autocorrelation"
   ]
  },
  {
   "cell_type": "code",
   "execution_count": null,
   "metadata": {
    "_uuid": "4ea5b5a0b6e36ddb76ed37ef77edcd037087d2cf",
    "collapsed": true,
    "trusted": true
   },
   "outputs": [],
   "source": [
    "# Autocorrelation of humidity of San Diego\n",
    "plot_acf(humidity[\"San Diego\"], title=\"San Diego\")\n",
    "plt.show()"
   ]
  },
  {
   "cell_type": "markdown",
   "metadata": {
    "_uuid": "752cfb34cbdf8a763126625f9a7540e1d2aef84c"
   },
   "source": [
    "As all lags are either close to 1 or at least greater than the confidence interval, they are statistically significant.\n",
    "\n",
    "> Note: When autocorrelations at multiple lags are close to 1 or statistically significant, it means your data has strong persistence or memory over time. This is useful to know for modeling or forecasting, as past values heavily influence future ones."
   ]
  },
  {
   "cell_type": "markdown",
   "metadata": {
    "_uuid": "31e685329d81b91e23539b3fc589d21bed946ce7"
   },
   "source": [
    "## Partial Autocorrelation"
   ]
  },
  {
   "cell_type": "code",
   "execution_count": null,
   "metadata": {
    "_uuid": "639a28e968448ddbd41694d5d2950afe13865e40",
    "collapsed": true,
    "trusted": true
   },
   "outputs": [],
   "source": [
    "# Partial Autocorrelation of humidity of San Diego\n",
    "plot_pacf(humidity[\"San Diego\"])\n",
    "plt.show()"
   ]
  },
  {
   "cell_type": "markdown",
   "metadata": {
    "_uuid": "b471c9a601cb8478971349f3727f1f477fadf6a3"
   },
   "source": [
    "Though it is statistically signficant, partial autocorrelation after first 2 lags is very low."
   ]
  },
  {
   "cell_type": "code",
   "execution_count": null,
   "metadata": {
    "_uuid": "d7174be0162bbb5e24b78fd184703527f19625eb",
    "collapsed": true,
    "trusted": true
   },
   "outputs": [],
   "source": [
    "# Partial Autocorrelation of closing price of microsoft stocks\n",
    "plot_pacf(microsoft[\"Close\"])\n",
    "plt.show()"
   ]
  },
  {
   "cell_type": "markdown",
   "metadata": {
    "_uuid": "82f98f2fc35b61c45f9b65e0477c227aefdaab47"
   },
   "source": [
    "Here, only 0th, 1st and 20th lag are statistically significant."
   ]
  },
  {
   "cell_type": "markdown",
   "metadata": {
    "_uuid": "61ef0d5be5a9c6ab63c0f3e432deae0166530bd0",
    "collapsed": true,
    "trusted": true
   },
   "source": [
    "# 3. Time series decomposition and Random walks"
   ]
  },
  {
   "cell_type": "markdown",
   "metadata": {
    "_uuid": "29a6016f3d75811e47db9d727497f06b5d194113"
   },
   "source": [
    "## 3.1. Trends, seasonality and noise\n",
    "These are the components of a time series\n",
    "* Trend - Consistent upwards or downwards slope of a time series\n",
    "* Seasonality - Clear periodic pattern of a time series(like sine funtion)\n",
    "* Noise - Outliers or missing values"
   ]
  },
  {
   "cell_type": "code",
   "execution_count": null,
   "metadata": {
    "_uuid": "55da1ae309826244f5aeeb18d293d2512535619d",
    "collapsed": true,
    "trusted": true
   },
   "outputs": [],
   "source": [
    "# Let's take Google stocks High for this\n",
    "google[\"High\"].plot(figsize=(16,8))"
   ]
  },
  {
   "cell_type": "code",
   "execution_count": null,
   "metadata": {
    "_uuid": "eb9a833bf7f58467c00008560509a4ce6905ea92",
    "collapsed": true,
    "trusted": true
   },
   "outputs": [],
   "source": [
    "# Now, for decomposition...\n",
    "rcParams['figure.figsize'] = 11, 9\n",
    "decomposed_google_volume = sm.tsa.seasonal_decompose(google[\"High\"],period=360) # The frequncy is annual\n",
    "figure = decomposed_google_volume.plot()\n",
    "plt.show()"
   ]
  },
  {
   "cell_type": "markdown",
   "metadata": {
    "_uuid": "b0f37643e9f41715ec54ecca09b9c10b81fe557d"
   },
   "source": [
    "* There is clearly an upward trend in the above plot.\n",
    "* You can also see the uniform seasonal change.\n",
    "* Non-uniform noise that represent outliers and missing values"
   ]
  },
  {
   "cell_type": "markdown",
   "metadata": {
    "_uuid": "fee84a3db1d59f4706711f078299cdff6b4bf1dc"
   },
   "source": [
    "## 3.2. White noise\n",
    "White noise has...\n",
    "* Constant mean\n",
    "* Constant variance\n",
    "* Zero auto-correlation at all lags"
   ]
  },
  {
   "cell_type": "code",
   "execution_count": null,
   "metadata": {
    "_uuid": "01317cb2d3d8142945d94f751b60b7d59765f3df",
    "collapsed": true,
    "trusted": true
   },
   "outputs": [],
   "source": [
    "# Plotting white noise\n",
    "rcParams['figure.figsize'] = 16, 6\n",
    "white_noise = np.random.normal(loc=0, scale=1, size=1000)\n",
    "# loc is mean, scale is variance\n",
    "plt.plot(white_noise)"
   ]
  },
  {
   "cell_type": "code",
   "execution_count": null,
   "metadata": {
    "_uuid": "4408976acde81f0281375fac4f6aa8dadd0e0c30",
    "collapsed": true,
    "trusted": true
   },
   "outputs": [],
   "source": [
    "# Plotting autocorrelation of white noise\n",
    "plot_acf(white_noise)\n",
    "plt.show()"
   ]
  },
  {
   "cell_type": "markdown",
   "metadata": {
    "_uuid": "f70b17298bc4f7cd11ebb22af3369506e83ce5f8"
   },
   "source": [
    "See how all lags are statistically insigficant as they lie inside the confidence interval(shaded portion)."
   ]
  },
  {
   "cell_type": "markdown",
   "metadata": {
    "_uuid": "7b5855eed1497f9aea8ebc70b1f5621a1cd8ab92"
   },
   "source": [
    "## 3.3. Random Walk\n",
    "\n",
    "A random walk is a mathematical object, known as a stochastic or random process, that describes a path that consists of a succession of random steps on some mathematical space such as the integers.\n",
    "\n",
    "In general, if we talk about stocks:\n",
    "**Today's Price = Yesterday's Price + Noise**\n",
    "\n",
    "$$\n",
    "P_t = P_{t-1} + \\varepsilon_t\n",
    "$$\n",
    "\n",
    "Random walks can't be forecasted because, well—noise is random.\n",
    "\n",
    "### Random Walk with Drift\n",
    "\n",
    "*(drift $\\mu$ is constant, noise is zero-mean)*\n",
    "\n",
    "$$\n",
    "P_t - P_{t-1} = \\mu + \\varepsilon_t\n",
    "$$\n",
    "\n",
    "### Regression Test for Random Walk\n",
    "\n",
    "$$\n",
    "P_t = \\alpha + \\beta P_{t-1} + \\varepsilon_t\n",
    "$$\n",
    "\n",
    "Equivalent to:\n",
    "\n",
    "$$\n",
    "P_t - P_{t-1} = \\alpha + (\\beta - 1) P_{t-1} + \\varepsilon_t\n",
    "$$\n",
    "\n",
    "### Test Hypotheses\n",
    "\n",
    "$$\n",
    "\\begin{aligned}\n",
    "H_0 &: \\beta = 1 \\quad \\text{(This is a random walk)} \\\\\n",
    "H_1 &: \\beta < 1 \\quad \\text{(This is not a random walk)}\n",
    "\\end{aligned}\n",
    "$$\n",
    "\n",
    "### Dickey-Fuller Test Regression Form\n",
    "\n",
    "$$\n",
    "\\Delta P_t = \\alpha + \\gamma P_{t-1} + \\varepsilon_t\n",
    "$$\n",
    "\n",
    "### Dickey-Fuller Test Hypotheses\n",
    "\n",
    "$$\n",
    "\\begin{aligned}\n",
    "H_0 &: \\gamma = 0 \\quad \\text{(This is a random walk)} \\\\\n",
    "H_1 &: \\gamma < 0 \\quad \\text{(This is not a random walk)}\n",
    "\\end{aligned}\n",
    "$$\n",
    "\n"
   ]
  },
  {
   "cell_type": "markdown",
   "metadata": {
    "_uuid": "da19a9d1d683224c227654f28c1f53432953781c"
   },
   "source": [
    "### Augmented Dickey-Fuller test\n",
    "An augmented Dickey–Fuller test (ADF) tests the null hypothesis that a unit root is present in a time series sample. It is basically Dickey-Fuller test with more lagged changes on RHS."
   ]
  },
  {
   "cell_type": "code",
   "execution_count": null,
   "metadata": {
    "_uuid": "c43ff44679e19f726cbca75a99d3b0c8e828cdca",
    "collapsed": true,
    "trusted": true
   },
   "outputs": [],
   "source": [
    "# Augmented Dickey-Fuller test on volume of google and microsoft stocks \n",
    "adf = adfuller(microsoft[\"Volume\"])\n",
    "adf = adfuller(google[\"Volume\"])\n",
    "\n",
    "print(\"p-value of microsoft: {}\".format(float(adf[1])))\n",
    "print(\"p-value of google: {}\".format(float(adf[1])))\n",
    "\n",
    "# I need to investigate this more!\n",
    "adf = adfuller(google[\"Volume\"].diff().dropna())\n",
    "adf = adfuller(decomposed_google_volume.trend.diff().dropna())\n",
    "\n",
    "print(\"p-value of google volume diff: {}\".format(float(adf[1])))\n",
    "print(\"p-value of decomposed_google_volume trend: {}\".format(float(adf[1])))"
   ]
  },
  {
   "cell_type": "markdown",
   "metadata": {
    "_uuid": "d81b28d7326841f6056eac3eb1e6e26e59b3809c",
    "trusted": true
   },
   "source": [
    "- As microsoft has p-value 0.0003201525 which is less than 0.05, null hypothesis is rejected and this is not a random walk.\n",
    "- Now google has p-value 0.0000006510 which is less than 0.05, null hypothesis is rejected and this is not a  random walk."
   ]
  },
  {
   "cell_type": "markdown",
   "metadata": {
    "_uuid": "cc765a2077924a474a404b35d895d53e2f235ece"
   },
   "source": [
    "### Generating a random walk"
   ]
  },
  {
   "cell_type": "code",
   "execution_count": null,
   "metadata": {
    "_uuid": "a92da067abdb8f712e11e80b774bf326bf423def",
    "collapsed": true,
    "trusted": true
   },
   "outputs": [],
   "source": [
    "seed(42)\n",
    "rcParams['figure.figsize'] = 16, 6\n",
    "random_walk = normal(loc=0, scale=.01, size=1000)\n",
    "plt.plot(random_walk)\n",
    "plt.show()"
   ]
  },
  {
   "cell_type": "code",
   "execution_count": null,
   "metadata": {
    "_uuid": "b65345199e9356ac6fc0c1f91013cfd2cfab0067",
    "collapsed": true,
    "trusted": true
   },
   "outputs": [],
   "source": [
    "fig = ff.create_distplot([random_walk],['Random Walk'],bin_size=0.001)\n",
    "plot(fig, filename='Basic Distplot')\n"
   ]
  },
  {
   "cell_type": "markdown",
   "metadata": {
    "_uuid": "3503b3468028a38ac1345e62ab59996a333465b9"
   },
   "source": [
    "## 3.4 Stationarity\n",
    "A stationary time series is one whose statistical properties such as mean, variance, autocorrelation, etc. are all constant over time.\n",
    "* Strong stationarity:  is a stochastic process whose unconditional joint probability distribution does not change when shifted in time. Consequently, parameters such as mean and variance also do not change over time.\n",
    "* Weak stationarity: is a process where mean, variance, autocorrelation are constant throughout the time\n",
    "\n",
    "Stationarity is important as  non-stationary series that depend on time have too many parameters to account for when modelling the time series. \n",
    "\n",
    "`diff()` method can easily convert a non-stationary series to a stationary series.\n",
    "\n",
    "We will try to decompose seasonal component of the above decomposed time series."
   ]
  },
  {
   "cell_type": "code",
   "execution_count": null,
   "metadata": {
    "_uuid": "aa6661f017536cfc6c69d8b1a15316a6e37ca200",
    "collapsed": true,
    "trusted": true
   },
   "outputs": [],
   "source": [
    "# The original non-stationary plot\n",
    "decomposed_google_volume.trend.plot()"
   ]
  },
  {
   "cell_type": "code",
   "execution_count": null,
   "metadata": {
    "_uuid": "348f09fd4cb0c9ba057930c502786aaeda80452d",
    "collapsed": true,
    "trusted": true
   },
   "outputs": [],
   "source": [
    "# The new stationary plot\n",
    "decomposed_google_volume.trend.diff().diff().plot()"
   ]
  },
  {
   "cell_type": "code",
   "execution_count": null,
   "metadata": {},
   "outputs": [],
   "source": [
    "from statsmodels.tsa.stattools import adfuller\n",
    "\n",
    "\n",
    "result_before = adfuller(decomposed_google_volume.trend.dropna())\n",
    "result_after = adfuller(decomposed_google_volume.trend.diff().diff().dropna())\n",
    "\n",
    "print(f'p-value before diff: {result_before[1]}')\n",
    "print(f'p-value after diff: {result_after[1]}')"
   ]
  },
  {
   "cell_type": "code",
   "execution_count": null,
   "metadata": {},
   "outputs": [],
   "source": [
    "# The original non-stationary plot\n",
    "google[\"High\"].diff().plot()"
   ]
  },
  {
   "cell_type": "markdown",
   "metadata": {
    "_uuid": "0bf108b3638b0aaa06b4022993b99fd5a57cecd2"
   },
   "source": [
    "# 4. Modelling using statstools"
   ]
  },
  {
   "cell_type": "markdown",
   "metadata": {
    "_uuid": "7901cd86bf946ff83314ead9ee074f45e1ff76f8"
   },
   "source": [
    "## 4.1 AR Models\n",
    "\n",
    "An autoregressive (AR) model is a representation of a type of random process; as such, it is used to describe certain time-varying processes in nature, economics, etc. The autoregressive model specifies that the output variable depends linearly on its own previous values and on a stochastic term (an imperfectly predictable component). Thus, the model is in the form of a stochastic difference equation.\n",
    "\n",
    "### AR(1) Model\n",
    "\n",
    "$$\n",
    "R_t = \\mu + \\phi R_{t-1} + \\varepsilon_t\n",
    "$$\n",
    "\n",
    "Since the right-hand side has only one lagged value $R_{t-1}$, this is called an AR model of order 1. Here:\n",
    "- $\\mu$ is the mean (intercept),\n",
    "- $\\phi$ is the autoregressive coefficient,\n",
    "- $\\varepsilon_t$ is the white noise (error term) at time $t$.\n",
    "\n",
    "Behavior based on $\\phi$:\n",
    "- If $\\phi = 1$, the process is a **random walk**.\n",
    "- If $\\phi = 0$, the process is **white noise**.\n",
    "- If $-1 < \\phi < 1$, the process is **stationary**.\n",
    "- If $\\phi < 0$, there is **mean reversion**.\n",
    "- If $\\phi > 0$, there is **momentum**.\n",
    "\n",
    "### AR(2) Model\n",
    "\n",
    "$$\n",
    "R_t = \\mu + \\phi_1 R_{t-1} + \\phi_2 R_{t-2} + \\varepsilon_t\n",
    "$$\n",
    "\n",
    "### AR(3) Model\n",
    "\n",
    "$$\n",
    "R_t = \\mu + \\phi_1 R_{t-1} + \\phi_2 R_{t-2} + \\phi_3 R_{t-3} + \\varepsilon_t\n",
    "$$\n"
   ]
  },
  {
   "cell_type": "markdown",
   "metadata": {
    "_uuid": "ead96dc18024b191be5d515516e69e3009cd209b"
   },
   "source": [
    "## Simulating AR(1) model"
   ]
  },
  {
   "cell_type": "code",
   "execution_count": null,
   "metadata": {
    "_uuid": "ff03dd2d04772c9da9cc1bbbe44cecbeff4386a3",
    "collapsed": true,
    "trusted": true
   },
   "outputs": [],
   "source": [
    "import numpy as np\n",
    "import matplotlib.pyplot as plt\n",
    "from statsmodels.tsa.arima_process import ArmaProcess\n",
    "from matplotlib import rcParams\n",
    "\n",
    "# Set plot size\n",
    "rcParams['figure.figsize'] = (16, 12)\n",
    "\n",
    "# --- AR(1) model: AR parameter = +0.9 ---\n",
    "plt.subplot(4, 1, 1)\n",
    "ar1 = np.array([1, -0.9])  # To simulate AR parameter of +0.9, use -0.9 here\n",
    "ma1 = np.array([1])\n",
    "AR1 = ArmaProcess(ar1, ma1)\n",
    "sim1 = AR1.generate_sample(nsample=1000)\n",
    "plt.plot(sim1)\n",
    "plt.title('AR(1) model: AR parameter = +0.9')\n",
    "\n",
    "# --- AR(1) model: AR parameter = -0.9 ---\n",
    "plt.subplot(4, 1, 2)\n",
    "ar2 = np.array([1, 0.9])  # To simulate AR parameter of -0.9, use +0.9 here\n",
    "ma2 = np.array([1])\n",
    "AR2 = ArmaProcess(ar2, ma2)\n",
    "sim2 = AR2.generate_sample(nsample=1000)\n",
    "plt.plot(sim2)\n",
    "plt.title('AR(1) model: AR parameter = -0.9')\n",
    "\n",
    "# --- AR(2) model: AR parameter = +0.9 ---\n",
    "plt.subplot(4, 1, 3)\n",
    "ar3 = np.array([1, 0, -0.9])  # AR(2) with phi_2 = +0.9 (use -0.9 here)\n",
    "ma3 = np.array([1])\n",
    "AR3 = ArmaProcess(ar3, ma3)\n",
    "sim3 = AR3.generate_sample(nsample=1000)\n",
    "plt.plot(sim3)\n",
    "plt.title('AR(2) model: AR(2) coefficient = +0.9')\n",
    "\n",
    "# --- AR(2) model: AR parameter = -0.9 ---\n",
    "plt.subplot(4, 1, 4)\n",
    "ar4 = np.array([1, 0, 0.9])  # AR(2) with phi_2 = -0.9 (use +0.9 here)\n",
    "ma4 = np.array([1])\n",
    "AR4 = ArmaProcess(ar4, ma4)\n",
    "sim4 = AR4.generate_sample(nsample=1000)\n",
    "plt.plot(sim4)\n",
    "plt.title('AR(2) model: AR(2) coefficient = -0.9')\n",
    "\n",
    "# Adjust layout and display\n",
    "plt.tight_layout()\n",
    "plt.show()\n"
   ]
  },
  {
   "cell_type": "markdown",
   "metadata": {
    "_uuid": "8a33e37bf59ccf5d312e918b3f700b43672fa8f3",
    "trusted": true
   },
   "source": [
    "## Forecasting a simulated model"
   ]
  },
  {
   "cell_type": "code",
   "execution_count": null,
   "metadata": {
    "_uuid": "feba20bff98203d6862a547eb5919e3e6c809c8e",
    "collapsed": true,
    "trusted": true
   },
   "outputs": [],
   "source": [
    "from statsmodels.tsa.arima.model import ARIMA\n",
    "\n",
    "model = ARIMA(sim1, order=(1,0,0))\n",
    "result = model.fit()\n",
    "print(result.summary())\n",
    "print(\"μ={} ,ϕ={}\".format(result.params[0],result.params[1]))\n"
   ]
  },
  {
   "cell_type": "markdown",
   "metadata": {
    "_uuid": "20039473ec2863639d8913e1ecde4f9803ac17bf"
   },
   "source": [
    "ϕ is around 0.9 which is what we chose as AR parameter in our first simulated model."
   ]
  },
  {
   "cell_type": "markdown",
   "metadata": {
    "_uuid": "f50dc3fc29a2618da26ae11d9127716233ed67cb"
   },
   "source": [
    "## Predicting the models"
   ]
  },
  {
   "cell_type": "code",
   "execution_count": null,
   "metadata": {
    "_uuid": "a9af97bfcdf0fd1fb5cf626a8bba0b4560fc4358",
    "collapsed": true,
    "trusted": true
   },
   "outputs": [],
   "source": [
    "from statsmodels.graphics.tsaplots import plot_predict\n",
    "\n",
    "# Predicting simulated AR(1) model \n",
    "plot_predict(result, 900, 1010, plot_insample=True)\n",
    "plt.show()"
   ]
  },
  {
   "cell_type": "code",
   "execution_count": null,
   "metadata": {
    "_uuid": "a1ec123d6ab0780304160f82b37f5f01fd007f84",
    "collapsed": true,
    "trusted": true
   },
   "outputs": [],
   "source": [
    "rmse = math.sqrt(mean_squared_error(sim1[900:1011], result.predict(start=900,end=999)))\n",
    "print(\"The root mean squared error is {}.\".format(rmse))"
   ]
  },
  {
   "cell_type": "markdown",
   "metadata": {
    "_uuid": "0ecbeedf969c4972f05b9624a847aaffcb7862a9"
   },
   "source": [
    "y is predicted plot. Quite neat!"
   ]
  },
  {
   "cell_type": "code",
   "execution_count": null,
   "metadata": {
    "_uuid": "b24234f9ca3f0de65a3f75aa23caa204b21833b3",
    "collapsed": true,
    "trusted": true
   },
   "outputs": [],
   "source": [
    "# Predicting humidity level of Montreal\n",
    "humid = ARIMA(humidity[\"Montreal\"].diff().iloc[1:].values, order=(1,0,0))\n",
    "res = humid.fit()\n",
    "plot_predict(res, 1000, 1100)\n",
    "plt.show()"
   ]
  },
  {
   "cell_type": "code",
   "execution_count": null,
   "metadata": {
    "_uuid": "d96b6ea96dacf1ee6fe41abd902b9184d9c9edbc",
    "collapsed": true,
    "trusted": true
   },
   "outputs": [],
   "source": [
    "rmse = math.sqrt(mean_squared_error(humidity[\"Montreal\"].diff().iloc[900:1000].values, result.predict(start=900,end=999)))\n",
    "print(\"The root mean squared error is {}.\".format(rmse))"
   ]
  },
  {
   "cell_type": "markdown",
   "metadata": {
    "_uuid": "8987a49063cea031745bd87ec71221db473069ab"
   },
   "source": [
    " Not quite impressive. But let's try google stocks. "
   ]
  },
  {
   "cell_type": "code",
   "execution_count": null,
   "metadata": {
    "_uuid": "72ef1135eee34841500c55718bda48310386dceb",
    "collapsed": true,
    "trusted": true
   },
   "outputs": [],
   "source": [
    "# Predicting closing prices of google\n",
    "humid = ARIMA(google[\"Close\"].diff().iloc[1:].values, order=(1,0,0))\n",
    "res = humid.fit()\n",
    "plot_predict(res, start=900, end=1010)\n",
    "plt.show()"
   ]
  },
  {
   "cell_type": "markdown",
   "metadata": {
    "_uuid": "3a01a4ff2973bd9f1a0d61d4099529d2b7852a52"
   },
   "source": [
    "There are always better models."
   ]
  },
  {
   "cell_type": "markdown",
   "metadata": {
    "_uuid": "00c24abb4b8f694234352b17bf4bfafc2ebe56f6"
   },
   "source": [
    "## 4.2 MA Models\n",
    "\n",
    "The moving-average (MA) model is a common approach for modeling univariate time series. The MA model specifies that the output variable depends linearly on the current and various past values of a stochastic (imperfectly predictable) term.\n",
    "\n",
    "### MA(1) Model\n",
    "\n",
    "$$\n",
    "R_t = \\mu + \\varepsilon_t + \\theta \\varepsilon_{t-1}\n",
    "$$\n",
    "\n",
    "This translates to:\n",
    "\n",
    "> **Today's return** = mean $(\\mu)$ + today's noise $(\\varepsilon_t)$ + yesterday's noise $(\\theta \\varepsilon_{t-1})$\n",
    "\n",
    "Since there is only one lagged error term on the right-hand side, this is an MA model of **order 1**.\n"
   ]
  },
  {
   "cell_type": "markdown",
   "metadata": {
    "_uuid": "cc7f14391e83d0b7ea17af030d91fc10b6aaf1d1"
   },
   "source": [
    "## Simulating MA(1) model"
   ]
  },
  {
   "cell_type": "code",
   "execution_count": null,
   "metadata": {
    "_uuid": "43853e28272d3949e8cb6a3d8bac0198d3de2457",
    "collapsed": true,
    "trusted": true
   },
   "outputs": [],
   "source": [
    "rcParams['figure.figsize'] = 16, 6\n",
    "ar1 = np.array([1])\n",
    "ma1 = np.array([1, -0.5])\n",
    "MA1 = ArmaProcess(ar1, ma1)\n",
    "sim1 = MA1.generate_sample(nsample=1000)\n",
    "plt.plot(sim1)"
   ]
  },
  {
   "cell_type": "markdown",
   "metadata": {
    "_uuid": "fe571f9460704eedb7f2d13a2f08cf1332cb2b8f"
   },
   "source": [
    "## Forecasting the simulated MA model"
   ]
  },
  {
   "cell_type": "code",
   "execution_count": null,
   "metadata": {
    "_uuid": "bb579590bd40b3b31ece519dfe82f04cb85e1b09",
    "collapsed": true,
    "trusted": true
   },
   "outputs": [],
   "source": [
    "model = ARIMA(sim1, order=(0,0,1))\n",
    "result = model.fit()\n",
    "print(result.summary())\n",
    "print(\"μ={} ,θ={}\".format(result.params[0],result.params[1]))"
   ]
  },
  {
   "cell_type": "markdown",
   "metadata": {
    "_uuid": "2573e04db1c1a8830830122f879e6f855bad292b"
   },
   "source": [
    "## Prediction using MA models"
   ]
  },
  {
   "cell_type": "code",
   "execution_count": null,
   "metadata": {
    "_uuid": "62c83f6a97bee5f0dff89511fbf6910f83417b0a",
    "collapsed": true,
    "trusted": true
   },
   "outputs": [],
   "source": [
    "# Forecasting and predicting montreal humidity\n",
    "model = ARIMA(humidity[\"Montreal\"].diff().iloc[1:].values, order=(0,0,1))\n",
    "result = model.fit()\n",
    "print(result.summary())\n",
    "print(\"μ={} ,θ={}\".format(result.params[0],result.params[1]))\n",
    "plot_predict(result, start=1000, end=1100)\n",
    "plt.show()"
   ]
  },
  {
   "cell_type": "code",
   "execution_count": null,
   "metadata": {
    "_uuid": "0b72fb8004bfbdcee81960089502b4c892f40458",
    "collapsed": true,
    "trusted": true
   },
   "outputs": [],
   "source": [
    "rmse = math.sqrt(mean_squared_error(humidity[\"Montreal\"].diff().iloc[1000:1101].values, result.predict(start=1000,end=1100)))\n",
    "print(\"The root mean squared error is {}.\".format(rmse))"
   ]
  },
  {
   "cell_type": "markdown",
   "metadata": {
    "_uuid": "b2a42dfc2f0f4d38a95e85b6e2531314b1b2865c"
   },
   "source": [
    "## 4.3 ARMA Models\n",
    "\n",
    "Autoregressive–moving-average (ARMA) models provide a parsimonious description of a (weakly) stationary stochastic process in terms of two polynomials: one for the autoregression and one for the moving average. It is essentially the fusion of AR and MA models.\n",
    "\n",
    "### ARMA(1,1) Model\n",
    "\n",
    "$$\n",
    "R_t = \\mu + \\phi R_{t-1} + \\varepsilon_t + \\theta \\varepsilon_{t-1}\n",
    "$$\n",
    "\n",
    "This means:\n",
    "\n",
    "> **Today's return** = mean $(\\mu)$ + yesterday's return $(\\phi R_{t-1})$ + today's noise $(\\varepsilon_t)$ + yesterday's noise $(\\theta \\varepsilon_{t-1})$.\n"
   ]
  },
  {
   "cell_type": "markdown",
   "metadata": {
    "_uuid": "0b163bbf7c903aa7f82d0dae381f019b572e27f5"
   },
   "source": [
    "## Prediction using ARMA models\n",
    "I am not simulating any model because it's quite similar to AR and MA models. Just  forecasting and predictions for this one."
   ]
  },
  {
   "cell_type": "code",
   "execution_count": null,
   "metadata": {
    "_uuid": "6b9f4f218af096d41cbeafc00bf15e1d6581c6c3",
    "collapsed": true,
    "trusted": true
   },
   "outputs": [],
   "source": [
    "from statsmodels.tsa.arima.model import ARIMA\n",
    "\n",
    "# Forecasting and predicting microsoft stocks volume\n",
    "model = ARIMA(microsoft[\"Volume\"].diff().iloc[1:].values, order=(3,0,3))\n",
    "result = model.fit()\n",
    "print(result.summary())\n",
    "print(\"μ={}, ϕ={}, θ={}\".format(result.params[0],result.params[1],result.params[2]))\n",
    "plot_predict(result, start=1000, end=1100)\n",
    "plt.show()"
   ]
  },
  {
   "cell_type": "code",
   "execution_count": null,
   "metadata": {
    "_uuid": "b6a1b9a4635ee4d6ad382010f066d229daebbf2c",
    "collapsed": true,
    "trusted": true
   },
   "outputs": [],
   "source": [
    "rmse = math.sqrt(mean_squared_error(microsoft[\"Volume\"].diff().iloc[1000:1101].values, result.predict(start=1000,end=1100)))\n",
    "print(\"The root mean squared error is {}.\".format(rmse))"
   ]
  },
  {
   "cell_type": "markdown",
   "metadata": {
    "_uuid": "1c337a7fb003b98285a0c3157c0f48742d3a1b9e"
   },
   "source": [
    "ARMA model shows much better results than AR and MA models."
   ]
  },
  {
   "cell_type": "markdown",
   "metadata": {
    "_uuid": "952fcfd1498c44e4541f93dc07f32c34c37cede1"
   },
   "source": [
    "## 4.4 ARIMA Models\n",
    "\n",
    "An autoregressive integrated moving average (ARIMA) model is a generalization of an autoregressive moving average (ARMA) model. Both models are fitted to time series data either to better understand the data or to predict future points in the series (forecasting). ARIMA models are applied in cases where data show evidence of non-stationarity, where an initial differencing step (corresponding to the \"integrated\" part of the model) can be applied one or more times to eliminate the non-stationarity.\n",
    "\n",
    "The ARIMA model is denoted as ARIMA($p, d, q$), where:\n",
    "- $p$ is the order of the autoregressive (AR) part,\n",
    "- $d$ is the order of differencing (the \"integrated\" part),\n",
    "- $q$ is the order of the moving average (MA) part.\n",
    "\n",
    "### ARIMA(1,0,0)\n",
    "\n",
    "$$\n",
    "y_t = a_1 y_{t-1} + \\varepsilon_t\n",
    "$$\n",
    "\n",
    "### ARIMA(1,0,1)\n",
    "\n",
    "$$\n",
    "y_t = a_1 y_{t-1} + \\varepsilon_t + b_1 \\varepsilon_{t-1}\n",
    "$$\n",
    "\n",
    "### ARIMA(1,1,1)\n",
    "\n",
    "$$\n",
    "\\Delta y_t = a_1 \\Delta y_{t-1} + \\varepsilon_t + b_1 \\varepsilon_{t-1}\n",
    "$$\n",
    "\n",
    "where\n",
    "\n",
    "$$\n",
    "\\Delta y_t = y_t - y_{t-1}\n",
    "$$\n"
   ]
  },
  {
   "cell_type": "markdown",
   "metadata": {
    "_uuid": "1f87feaedef7e790890e271e86c4fa2e71c05367"
   },
   "source": [
    "## Prediction using ARIMA model"
   ]
  },
  {
   "cell_type": "code",
   "execution_count": null,
   "metadata": {
    "_uuid": "d80a45b8c911f346891534fe2f1c6d519907a86c",
    "collapsed": true,
    "trusted": true
   },
   "outputs": [],
   "source": [
    "# Predicting the microsoft stocks volume\n",
    "rcParams['figure.figsize'] = 16, 6\n",
    "model = ARIMA(microsoft[\"Volume\"].diff().iloc[1:].values, order=(1,1,1))\n",
    "result = model.fit()\n",
    "print(result.summary())\n",
    "plot_predict(result, start=700, end=1000)\n",
    "plt.show()"
   ]
  },
  {
   "cell_type": "code",
   "execution_count": null,
   "metadata": {
    "_uuid": "feef92dc9eabf930b947f64d46dc90b91afc49a4",
    "collapsed": true,
    "trusted": true
   },
   "outputs": [],
   "source": [
    "rmse = math.sqrt(mean_squared_error(microsoft[\"Volume\"].diff().iloc[700:1001].values, result.predict(start=700,end=1000)))\n",
    "print(\"The root mean squared error is {}.\".format(rmse))"
   ]
  },
  {
   "cell_type": "markdown",
   "metadata": {
    "_uuid": "1c3b1f6da7f472fcc8275a23d9f9fde20a89fc3e"
   },
   "source": [
    "## 4.5 VAR Models\n",
    "\n",
    "Vector autoregression (VAR) is a stochastic process model used to capture the linear interdependencies among multiple time series. VAR models generalize the univariate autoregressive (AR) model by allowing for more than one evolving variable.\n",
    "\n",
    "In a VAR model, each variable has its own equation explaining its evolution based on:\n",
    "- Its own lagged values,\n",
    "- The lagged values of all other variables in the system,\n",
    "- And an error term.\n",
    "\n",
    "VAR modeling requires less prior knowledge about the structural relationships influencing the variables than structural simultaneous equation models. The only prerequisite is a set of variables hypothesized to affect each other over time (intertemporally)."
   ]
  },
  {
   "cell_type": "code",
   "execution_count": null,
   "metadata": {
    "_uuid": "c7ee4df651be1857f5eb08666ddd30a64953e20a",
    "collapsed": true,
    "scrolled": false,
    "trusted": true
   },
   "outputs": [],
   "source": [
    "# Predicting closing price of Google and Microsoft using VARMAX model\n",
    "\n",
    "import pandas as pd\n",
    "import statsmodels.api as sm\n",
    "import matplotlib.pyplot as plt\n",
    "import math\n",
    "from sklearn.metrics import mean_squared_error\n",
    "\n",
    "# Prepare training data: take first difference of closing prices to remove trend\n",
    "train_sample = pd.concat([\n",
    "    google[\"Close\"].diff().iloc[1:], \n",
    "    microsoft[\"Close\"].diff().iloc[1:]\n",
    "], axis=1)\n",
    "\n",
    "# Fit VARMAX model with order (2,1) and constant trend term\n",
    "model = sm.tsa.VARMAX(train_sample, order=(2, 1), trend='c')\n",
    "result = model.fit(maxiter=1000, disp=False)\n",
    "\n",
    "# Print model summary\n",
    "print(result.summary())\n",
    "\n",
    "# Generate predictions for the sample period\n",
    "predicted_result = result.predict(start=0, end=1000)\n",
    "\n",
    "# Plot diagnostics to assess residuals and model fit\n",
    "result.plot_diagnostics()\n",
    "plt.tight_layout()\n",
    "\n",
    "# Calculate root mean squared error (RMSE) between actual and predicted values\n",
    "rmse = math.sqrt(mean_squared_error(train_sample.iloc[1:1002].values, predicted_result.values))\n",
    "print(f\"The root mean squared error is {rmse:.4f}.\")\n"
   ]
  },
  {
   "cell_type": "markdown",
   "metadata": {
    "_uuid": "a20e3db98f52bb92143793d651bc280884ecd068",
    "trusted": true
   },
   "source": [
    "## 4.6 State Space Methods\n",
    "\n",
    "A general state space model is of the form:\n",
    "\n",
    "$$\n",
    "y_t = Z_t \\alpha_t + d_t + \\varepsilon_t\n",
    "$$\n",
    "\n",
    "$$\n",
    "\\alpha_t = T_t \\alpha_{t-1} + c_t + R_t \\eta_t\n",
    "$$\n",
    "\n",
    "where\n",
    "\n",
    "- $y_t$ is the **observation vector** at time $t$,\n",
    "- $\\alpha_t$ is the **(unobserved) state vector** at time $t$,\n",
    "- $\\varepsilon_t \\sim \\mathcal{N}(0, H_t)$ is the observation noise,\n",
    "- $\\eta_t \\sim \\mathcal{N}(0, Q_t)$ is the state noise.\n",
    "\n",
    "The remaining variables are matrices describing the process:\n",
    "\n",
    "| Variable | Name           | Dimensions                       |\n",
    "|----------|----------------|--------------------------------|\n",
    "| $Z$  | design         | $k_{\\text{endog}} \\times k_{\\text{states}} \\times n_{\\text{obs}}$      |\n",
    "| $d$  | obs_intercept  | $k_{\\text{endog}} \\times n_{\\text{obs}}$                           |\n",
    "| $H$  | obs_cov       | $k_{\\text{endog}} \\times k_{\\text{endog}} \\times n_{\\text{obs}}$     |\n",
    "| $T$  | transition    | $k_{\\text{states}} \\times k_{\\text{states}} \\times n_{\\text{obs}}$   |\n",
    "| $c$  | state_intercept | $k_{\\text{states}} \\times n_{\\text{obs}}$                          |\n",
    "| $R$  | selection     | $k_{\\text{states}} \\times k_{\\text{posdef}} \\times n_{\\text{obs}}$   |\n",
    "| $Q$  | state_cov     | $k_{\\text{posdef}} \\times k_{\\text{posdef}} \\times n_{\\text{obs}}$   |\n",
    "\n",
    "If one of the matrices is **time-invariant** (for example, if $Z_t = Z_{t+1} \\ \\forall t$), its last dimension may be size 1 instead of size $n_{\\text{obs}}$.\n",
    "\n",
    "---\n",
    "\n",
    "This generic form encapsulates many popular linear time series models and is very flexible, allowing:\n",
    "\n",
    "- Estimation with missing observations,\n",
    "- Forecasting,\n",
    "- Impulse response functions,\n",
    "- And much more.\n",
    "\n",
    "---\n",
    "\n",
    "*Source: [statsmodels State Space documentation](https://www.statsmodels.org/dev/statespace.html)*\n"
   ]
  },
  {
   "cell_type": "markdown",
   "metadata": {
    "_uuid": "aa056e8b4f0c457639f5cfb01cfa6f9d6b1fb486"
   },
   "source": [
    "## 4.6.1 SARIMA Models\n",
    "\n",
    "SARIMA models are useful for modeling **seasonal time series**, where the mean and other statistics for a given season vary across years (i.e., are not stationary).\n",
    "\n",
    "The SARIMA model is a straightforward extension of the nonseasonal autoregressive-moving average (ARMA) and autoregressive integrated moving average (ARIMA) models, incorporating seasonal terms to capture such periodic patterns.\n"
   ]
  },
  {
   "cell_type": "code",
   "execution_count": null,
   "metadata": {
    "_uuid": "8441c5af41b070d19fd711dee43b118855676862",
    "collapsed": true,
    "trusted": true
   },
   "outputs": [],
   "source": [
    "# Predicting closing price of Google\n",
    "\n",
    "import statsmodels.api as sm\n",
    "import math\n",
    "from sklearn.metrics import mean_squared_error\n",
    "import matplotlib.pyplot as plt\n",
    "\n",
    "# Prepare training data: first difference of Google's closing price to remove trend\n",
    "train_sample = google[\"Close\"].diff().iloc[1:].values\n",
    "\n",
    "# Fit SARIMAX model with order (4,0,4) and constant trend term\n",
    "model = sm.tsa.SARIMAX(train_sample, order=(4, 0, 4), trend='c')\n",
    "result = model.fit(maxiter=1000, disp=False)\n",
    "\n",
    "# Print model summary\n",
    "print(result.summary())\n",
    "\n",
    "# Predict values for the first 501 observations\n",
    "predicted_result = result.predict(start=0, end=500)\n",
    "\n",
    "# Plot diagnostics to assess residuals and model fit\n",
    "result.plot_diagnostics()\n",
    "plt.tight_layout()\n",
    "plt.show()\n",
    "\n",
    "# Calculate root mean squared error (RMSE) between actual and predicted values\n",
    "rmse = math.sqrt(mean_squared_error(train_sample[1:502], predicted_result))\n",
    "print(f\"The root mean squared error is {rmse:.4f}.\")\n"
   ]
  },
  {
   "cell_type": "code",
   "execution_count": null,
   "metadata": {
    "_uuid": "6d9a2a2fa5762719f770406f9f37fb04af4cb384",
    "collapsed": true,
    "trusted": true
   },
   "outputs": [],
   "source": [
    "plt.plot(train_sample[1:502],color='red')\n",
    "plt.plot(predicted_result,color='blue')\n",
    "plt.legend(['Actual','Predicted'])\n",
    "plt.title('Google Closing prices')\n",
    "plt.show()"
   ]
  },
  {
   "cell_type": "markdown",
   "metadata": {
    "_uuid": "ba27f063b177faca83f659c91981ebbcf3d32513"
   },
   "source": [
    "## 4.6.2 Unobserved Components\n",
    "\n",
    "A UCM (Unobserved Components Model) decomposes the response series into components such as trend, seasons, cycles, and the regression effects due to predictor series. The following model shows a possible scenario:\n",
    "\n",
    "$$\n",
    "y_t = \\mu_t + \\gamma_t + \\psi_t + \\sum_{j=1}^m \\beta_j x_{jt} + \\epsilon_t\n",
    "$$\n",
    "\n",
    "$$\n",
    "\\epsilon_t \\sim \\text{i.i.d. } N(0, \\sigma_{\\epsilon}^2)\n",
    "$$\n",
    "\n",
    "The terms $\\mu_t$, $\\gamma_t$, and $\\psi_t$ represent the **trend**, **seasonal**, and **cyclical** components, respectively.\n",
    "\n",
    "In fact, the model can contain multiple seasons and cycles, and the seasons can be of different types. For simplicity of discussion, the preceding model contains only one of each of these components.\n",
    "\n",
    "The regression term, \n",
    "$$\n",
    "\\sum_{j=1}^m \\beta_j x_{jt},\n",
    "$$\n",
    "includes contributions of regression variables with fixed regression coefficients.\n",
    "\n",
    "A model can also contain regression variables that have **time-varying regression coefficients** or that have a **nonlinear relationship** with the dependent series (see *Incorporating Predictors of Different Kinds*).\n",
    "\n",
    "The disturbance term $\\epsilon_t$, also called the **irregular component**, is usually assumed to be Gaussian white noise. In some cases, it is useful to model the irregular component as a stationary ARMA process. See the section *Modeling the Irregular Component* for additional information.\n",
    "\n",
    "Source: [SAS Documentation on UCM](http://support.sas.com/documentation/cdl/en/etsug/66840/HTML/default/viewer.htm#etsug_ucm_details01.htm)"
   ]
  },
  {
   "cell_type": "code",
   "execution_count": null,
   "metadata": {
    "_uuid": "eccfc1ab3a1ffec0f739f09c3c52e9a4e40e93c0",
    "collapsed": true,
    "trusted": true
   },
   "outputs": [],
   "source": [
    "# Predicting closing price of Google using Unobserved Components Model (Local Level)\n",
    "\n",
    "import statsmodels.api as sm\n",
    "import math\n",
    "from sklearn.metrics import mean_squared_error\n",
    "import matplotlib.pyplot as plt\n",
    "\n",
    "# Prepare training data: first difference of Google's closing price to remove trend\n",
    "train_sample = google[\"Close\"].diff().iloc[1:].values\n",
    "\n",
    "# Fit Unobserved Components model with local level specification\n",
    "model = sm.tsa.UnobservedComponents(train_sample, 'local level')\n",
    "result = model.fit(maxiter=1000, disp=False)\n",
    "\n",
    "# Print model summary\n",
    "print(result.summary())\n",
    "\n",
    "# Generate predictions for the first 501 observations\n",
    "predicted_result = result.predict(start=0, end=500)\n",
    "\n",
    "# Plot diagnostics to assess residuals and model fit\n",
    "result.plot_diagnostics()\n",
    "plt.tight_layout()\n",
    "plt.show()\n",
    "\n",
    "# Calculate root mean squared error (RMSE) between actual and predicted values\n",
    "rmse = math.sqrt(mean_squared_error(train_sample[1:502], predicted_result))\n",
    "print(f\"The root mean squared error is {rmse:.4f}.\")\n"
   ]
  },
  {
   "cell_type": "code",
   "execution_count": null,
   "metadata": {
    "_uuid": "5ef27e360e92c6603a80ab4072c8101416de04a3",
    "collapsed": true,
    "trusted": true
   },
   "outputs": [],
   "source": [
    "plt.plot(train_sample[1:502],color='red')\n",
    "plt.plot(predicted_result,color='blue')\n",
    "plt.legend(['Actual','Predicted'])\n",
    "plt.title('Google Closing prices')\n",
    "plt.show()"
   ]
  },
  {
   "cell_type": "markdown",
   "metadata": {
    "_uuid": "4d041bf48f3f835d8b9a397f066c21577c0cd235"
   },
   "source": [
    "## 4.6.3 Dynamic Factor Models\n",
    "\n",
    "Dynamic-factor models are flexible models for multivariate time series in which the observed endogenous variables are linear functions of exogenous covariates and unobserved factors, which have a vector autoregressive structure. The unobserved factors may also be functions of exogenous covariates. The disturbances in the equations for the dependent variables may be autocorrelated.\n"
   ]
  },
  {
   "cell_type": "code",
   "execution_count": null,
   "metadata": {
    "_uuid": "d6d0a1d158db53132b9b0406ca971da7820af338",
    "collapsed": true,
    "trusted": true
   },
   "outputs": [],
   "source": [
    "# Predicting closing price of Google and Microsoft using Dynamic Factor Model\n",
    "\n",
    "import pandas as pd\n",
    "import statsmodels.api as sm\n",
    "import math\n",
    "from sklearn.metrics import mean_squared_error\n",
    "import matplotlib.pyplot as plt\n",
    "\n",
    "# Prepare training data: first difference of closing prices to remove trend\n",
    "train_sample = pd.concat([\n",
    "    google[\"Close\"].diff().iloc[1:], \n",
    "    microsoft[\"Close\"].diff().iloc[1:]\n",
    "], axis=1)\n",
    "\n",
    "# Fit Dynamic Factor Model with 1 latent factor and factor order 2\n",
    "model = sm.tsa.DynamicFactor(train_sample, k_factors=1, factor_order=2)\n",
    "result = model.fit(maxiter=1000, disp=False)\n",
    "\n",
    "# Print model summary\n",
    "print(result.summary())\n",
    "\n",
    "# Generate predictions for the sample period\n",
    "predicted_result = result.predict(start=0, end=1000)\n",
    "\n",
    "# Plot diagnostics to check model fit and residuals\n",
    "result.plot_diagnostics()\n",
    "plt.tight_layout()\n",
    "plt.show()\n",
    "\n",
    "# Calculate root mean squared error (RMSE) between actual and predicted values\n",
    "rmse = math.sqrt(mean_squared_error(train_sample.iloc[1:1002].values, predicted_result.values))\n",
    "print(f\"The root mean squared error is {rmse:.4f}.\")\n"
   ]
  },
  {
   "cell_type": "code",
   "execution_count": null,
   "metadata": {},
   "outputs": [],
   "source": []
  }
 ],
 "metadata": {
  "kernelspec": {
   "display_name": "Python 3",
   "language": "python",
   "name": "python3"
  },
  "language_info": {
   "codemirror_mode": {
    "name": "ipython",
    "version": 3
   },
   "file_extension": ".py",
   "mimetype": "text/x-python",
   "name": "python",
   "nbconvert_exporter": "python",
   "pygments_lexer": "ipython3",
   "version": "3.10.17"
  }
 },
 "nbformat": 4,
 "nbformat_minor": 1
}
