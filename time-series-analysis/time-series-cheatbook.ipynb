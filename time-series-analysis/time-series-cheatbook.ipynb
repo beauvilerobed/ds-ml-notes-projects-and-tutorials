{
 "cells": [
  {
   "cell_type": "markdown",
   "id": "b0ae86eb",
   "metadata": {},
   "source": [
    "# Time Series Forcasting w/ Python"
   ]
  },
  {
   "cell_type": "markdown",
   "id": "475c5208",
   "metadata": {},
   "source": [
    "## Content\n",
    "- Time series analysis\n",
    "    - ACF plot\n",
    "    - PACF plot\n",
    "    - Time seriees decomposition\n",
    "- Statistical tests\n",
    "    - ADF test - Test for stationarity\n",
    "    - Ljung-Box test - Residuals analysis\n",
    "    - Granger causality - Multivariate forecasting\n",
    "- Forcasting - Statistical models\n",
    "    - Moving average model - MA(q)\n",
    "    - Autoregressive model - AR(q)\n",
    "    - ARMA(p,q)\n",
    "    - ARIMA(p,d,q)\n",
    "    - SARIMA(p,d,q)(P,D,Q)$_m$\n",
    "    - SARIMAX\n",
    "    - VARMAX\n",
    "    - BATS and TBATS\n",
    "    - Exponential smoothing\n",
    "- Forcasting - Deep learning models\n",
    "    - Deep neural network (DNN)\n",
    "    - Long short-term memory - LSTM\n",
    "    - Convolutional neural network - CNN\n",
    "    - Autoregressive deep learning model"
   ]
  },
  {
   "cell_type": "markdown",
   "id": "36bd33d9",
   "metadata": {},
   "source": [
    "### Time series analysis\n",
    "\n",
    "The autocorrelation function (ACF) plot shows the autocorrelation coefficients as a function of the lag.\n",
    "\n",
    "Example use case:\n",
    "- Use it to determine the order q of a stationary MA(q) process\n",
    "- A stationary MA(q) process has significant coefficients up until lag q"
   ]
  },
  {
   "cell_type": "code",
   "execution_count": null,
   "id": "a0ddb618",
   "metadata": {},
   "outputs": [],
   "source": [
    "import numpy as np\n",
    "import matplotlib.pyplot as plt\n",
    "from statsmodels.graphics.tsaplots import plot_acf\n",
    "\n",
    "# Parameters\n",
    "n = 500     # Number of observations\n",
    "q = 3       # MA order\n",
    "\n",
    "# Generate white noise\n",
    "white_noise = np.random.standard_normal(n)\n",
    "\n",
    "# Define MA coefficients (e.g., θ1=2.0, θ2=3.0, θ3=4.0)\n",
    "thetas = np.arange(2.0, 2.0 + q)\n",
    "\n",
    "# Generate MA(q) time series\n",
    "ma_series = np.array([\n",
    "    sum(white_noise[i - j] * thetas[j] for j in range(q) if i - j >= 0)\n",
    "    for i in range(n)\n",
    "])\n",
    "\n",
    "# Plot the autocorrelation function (ACF)\n",
    "plt.figure(figsize=(10, 4))\n",
    "plot_acf(ma_series, lags=40)\n",
    "plt.title(f\"Autocorrelation Function of MA({q}) Process\")\n",
    "plt.tight_layout()\n",
    "plt.show()\n"
   ]
  },
  {
   "cell_type": "code",
   "execution_count": null,
   "id": "c25f11ff",
   "metadata": {},
   "outputs": [],
   "source": []
  }
 ],
 "metadata": {
  "kernelspec": {
   "display_name": "Python 3",
   "language": "python",
   "name": "python3"
  },
  "language_info": {
   "codemirror_mode": {
    "name": "ipython",
    "version": 3
   },
   "file_extension": ".py",
   "mimetype": "text/x-python",
   "name": "python",
   "nbconvert_exporter": "python",
   "pygments_lexer": "ipython3",
   "version": "3.10.17"
  }
 },
 "nbformat": 4,
 "nbformat_minor": 5
}
